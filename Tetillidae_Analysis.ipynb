{
 "metadata": {
  "name": "",
  "signature": "sha256:c26fda580d604917ad3b2c717bc8261cbd900fc7fae1e417149119d4872b56b4"
 },
 "nbformat": 3,
 "nbformat_minor": 0,
 "worksheets": [
  {
   "cells": [
    {
     "cell_type": "code",
     "collapsed": false,
     "input": [
      "%load_ext watermark"
     ],
     "language": "python",
     "metadata": {},
     "outputs": [],
     "prompt_number": 1
    },
    {
     "cell_type": "code",
     "collapsed": false,
     "input": [
      "%watermark -g -h -m -v -p ete2,biopython,dendropy,cloud"
     ],
     "language": "python",
     "metadata": {},
     "outputs": [
      {
       "output_type": "stream",
       "stream": "stdout",
       "text": [
        "CPython 2.7.6\n",
        "IPython 1.2.1\n",
        "\n",
        "ete2 2.2rev1056\n",
        "biopython 1.64\n",
        "dendropy 3.12.0\n",
        "cloud 2.8.5\n",
        "\n",
        "compiler   : GCC 4.8.2\n",
        "system     : Linux\n",
        "release    : 3.13.0-37-generic\n",
        "machine    : x86_64\n",
        "processor  : x86_64\n",
        "CPU cores  : 8\n",
        "interpreter: 64bit\n",
        "host name  : amir-TECRA-W50-A\n",
        "Git hash   : 5ef62e8e66c14252c0ce53694afa058dcc24288d\n"
       ]
      }
     ],
     "prompt_number": 2
    },
    {
     "cell_type": "markdown",
     "metadata": {},
     "source": [
      "# Tetillidae Data\n"
     ]
    },
    {
     "cell_type": "code",
     "collapsed": false,
     "input": [
      "from reprophylo import *"
     ],
     "language": "python",
     "metadata": {},
     "outputs": [],
     "prompt_number": 3
    },
    {
     "cell_type": "code",
     "collapsed": false,
     "input": [
      "data_folder = 'data/'\n",
      "gb_file = data_folder + 'Tetillidae.gb'"
     ],
     "language": "python",
     "metadata": {},
     "outputs": [],
     "prompt_number": 4
    },
    {
     "cell_type": "code",
     "collapsed": false,
     "input": [
      "list_loci_in_genbank(gb_file, 'tetillidae_loci_control_file')"
     ],
     "language": "python",
     "metadata": {},
     "outputs": [
      {
       "output_type": "stream",
       "stream": "stdout",
       "text": [
        "\n",
        "There are 57 gene names (or gene product names) detected\n",
        "----------------------------------\n",
        "Gene and count sorted by gene name\n",
        "----------------------------------\n",
        "1 instances of CDS,ALD\n",
        "2 instances of CDS,alg11\n",
        "1 instances of CDS,ATP synthase beta subunit\n",
        "3 instances of CDS,atp6\n",
        "1 instances of CDS,ATP6\n",
        "3 instances of CDS,atp8\n",
        "1 instances of CDS,ATP8\n",
        "1 instances of CDS,ATP9\n",
        "2 instances of CDS,atp9\n",
        "1 instances of CDS,catalase\n",
        "1 instances of CDS,CchGa\n",
        "1 instances of CDS,CchGb\n",
        "1 instances of CDS,CchGc\n",
        "1 instances of CDS,CchGd\n",
        "1 instances of CDS,CchGe\n",
        "1 instances of CDS,CchGf\n",
        "2 instances of CDS,cob\n",
        "1 instances of CDS,coi\n",
        "11 instances of CDS,COI\n",
        "78 instances of CDS,cox1\n",
        "1 instances of CDS,COX1\n",
        "3 instances of CDS,cox2\n",
        "1 instances of CDS,COX2\n",
        "3 instances of CDS,cox3\n",
        "1 instances of CDS,COX3\n",
        "3 instances of CDS,coxI\n",
        "1 instances of CDS,CYTB\n",
        "1 instances of CDS,elongation factor 1 alpha\n",
        "1 instances of CDS,Hsp70\n",
        "1 instances of CDS,MAT\n",
        "2 instances of CDS,nad1\n",
        "2 instances of CDS,nad2\n",
        "2 instances of CDS,nad3\n",
        "2 instances of CDS,nad4\n",
        "2 instances of CDS,nad4L\n",
        "2 instances of CDS,nad5\n",
        "2 instances of CDS,nad6\n",
        "1 instances of CDS,ND1\n",
        "1 instances of CDS,ND2\n",
        "1 instances of CDS,ND3\n",
        "2 instances of CDS,ND4\n",
        "1 instances of CDS,ND4L\n",
        "1 instances of CDS,ND5\n",
        "1 instances of CDS,ND6\n",
        "7 instances of CDS,putative LAGLIDADG protein\n",
        "1 instances of CDS,TPI\n",
        "41 instances of rRNA,18S ribosomal RNA\n",
        "2 instances of rRNA,18S rRNA\n",
        "6 instances of rRNA,28S large subunit ribosomal RNA\n",
        "42 instances of rRNA,28S ribosomal RNA\n",
        "1 instances of rRNA,5.8S ribosomal RNA\n",
        "1 instances of rRNA,5.8S rRNA\n",
        "1 instances of rRNA,5S rRNA\n",
        "3 instances of rRNA,rnl\n",
        "3 instances of rRNA,rns\n",
        "1 instances of rRNA,rrnL\n",
        "9 instances of rRNA,small subunit 18S ribosomal RNA\n",
        "-------------------------------\n",
        "Gene and count sorted by counts\n",
        "-------------------------------\n",
        "78 instances of CDS,cox1\n",
        "42 instances of rRNA,28S ribosomal RNA\n",
        "41 instances of rRNA,18S ribosomal RNA\n",
        "11 instances of CDS,COI\n",
        "9 instances of rRNA,small subunit 18S ribosomal RNA\n",
        "7 instances of CDS,putative LAGLIDADG protein\n",
        "6 instances of rRNA,28S large subunit ribosomal RNA\n",
        "3 instances of CDS,atp6\n",
        "3 instances of CDS,atp8\n",
        "3 instances of CDS,cox2\n",
        "3 instances of CDS,cox3\n",
        "3 instances of CDS,coxI\n",
        "3 instances of rRNA,rnl\n",
        "3 instances of rRNA,rns\n",
        "2 instances of CDS,alg11\n",
        "2 instances of CDS,atp9\n",
        "2 instances of CDS,cob\n",
        "2 instances of CDS,nad1\n",
        "2 instances of CDS,nad2\n",
        "2 instances of CDS,nad3\n",
        "2 instances of CDS,nad4\n",
        "2 instances of CDS,nad4L\n",
        "2 instances of CDS,nad5\n",
        "2 instances of CDS,nad6\n",
        "2 instances of CDS,ND4\n",
        "2 instances of rRNA,18S rRNA\n",
        "1 instances of CDS,ALD\n",
        "1 instances of CDS,ATP synthase beta subunit\n",
        "1 instances of CDS,ATP6\n",
        "1 instances of CDS,ATP8\n",
        "1 instances of CDS,ATP9\n",
        "1 instances of CDS,catalase\n",
        "1 instances of CDS,CchGa\n",
        "1 instances of CDS,CchGb\n",
        "1 instances of CDS,CchGc\n",
        "1 instances of CDS,CchGd\n",
        "1 instances of CDS,CchGe\n",
        "1 instances of CDS,CchGf\n",
        "1 instances of CDS,coi\n",
        "1 instances of CDS,COX1\n",
        "1 instances of CDS,COX2\n",
        "1 instances of CDS,COX3\n",
        "1 instances of CDS,CYTB\n",
        "1 instances of CDS,elongation factor 1 alpha\n",
        "1 instances of CDS,Hsp70\n",
        "1 instances of CDS,MAT\n",
        "1 instances of CDS,ND1\n",
        "1 instances of CDS,ND2\n",
        "1 instances of CDS,ND3\n",
        "1 instances of CDS,ND4L\n",
        "1 instances of CDS,ND5\n",
        "1 instances of CDS,ND6\n",
        "1 instances of CDS,TPI\n",
        "1 instances of rRNA,5.8S ribosomal RNA\n",
        "1 instances of rRNA,5.8S rRNA\n",
        "1 instances of rRNA,5S rRNA\n",
        "1 instances of rRNA,rrnL\n"
       ]
      }
     ],
     "prompt_number": 5
    },
    {
     "cell_type": "code",
     "collapsed": false,
     "input": [
      "!cat tetillidae_loci_control_file"
     ],
     "language": "python",
     "metadata": {},
     "outputs": [
      {
       "output_type": "stream",
       "stream": "stdout",
       "text": [
        "dna,rRNA,18s,18S ribosomal RNA,18S rRNA,small subunit 18S ribosomal RNA\r\n",
        "dna,rRNA,28s,28S large subunit ribosomal RNA,28S ribosomal RNA\r\n",
        "dna,rRNA,5.8S_rRNA,5.8S rRNA\r\n",
        "dna,rRNA,5.8S_ribosomal_RNA,5.8S ribosomal RNA\r\n",
        "dna,rRNA,5S_rRNA,5S rRNA\r\n",
        "dna,CDS,ALD,ALD\r\n",
        "dna,CDS,ATP9,ATP9,atp9\r\n",
        "dna,CDS,ATP_synthase_beta_subunit,ATP synthase beta subunit\r\n",
        "dna,CDS,CchGa,CchGa\r\n",
        "dna,CDS,CchGb,CchGb\r\n",
        "dna,CDS,CchGc,CchGc\r\n",
        "dna,CDS,CchGd,CchGd\r\n",
        "dna,CDS,CchGe,CchGe\r\n",
        "dna,CDS,CchGf,CchGf\r\n",
        "dna,CDS,Hsp70,Hsp70\r\n",
        "dna,CDS,MAT,MAT\r\n",
        "dna,CDS,MT-ATP6,atp6,ATP6\r\n",
        "dna,CDS,MT-ATP8,atp8,ATP8\r\n",
        "dna,CDS,MT-CO1,coi,COI,cox1,COX1,coxI\r\n",
        "dna,CDS,MT-CO2,cox2,COX2\r\n",
        "dna,CDS,MT-CO3,cox3,COX3\r\n",
        "dna,CDS,MT-CYB,CYTB\r\n",
        "dna,CDS,MT-ND1,nad1,ND1\r\n",
        "dna,CDS,MT-ND2,nad2,ND2\r\n",
        "dna,CDS,MT-ND3,nad3,ND3\r\n",
        "dna,CDS,MT-ND4,nad4,ND4\r\n",
        "dna,CDS,MT-ND4L,ND4L\r\n",
        "dna,CDS,MT-ND5,nad5,ND5\r\n",
        "dna,CDS,MT-ND6,nad6,ND6\r\n",
        "dna,CDS,TPI,TPI\r\n",
        "dna,CDS,alg11,alg11\r\n",
        "dna,CDS,catalase,catalase\r\n",
        "dna,CDS,cob,cob\r\n",
        "dna,CDS,ef1a,elongation factor 1 alpha\r\n",
        "dna,CDS,nad4L,nad4L\r\n",
        "dna,CDS,putative_LAGLIDADG_protein,putative LAGLIDADG protein\r\n",
        "dna,rRNA,rnl,rnl\r\n",
        "dna,rRNA,rns,rns\r\n",
        "dna,rRNA,rrnL,rrnL\r\n"
       ]
      }
     ],
     "prompt_number": 6
    },
    {
     "cell_type": "code",
     "collapsed": false,
     "input": [
      "%%file edited_tetillidae_loci_control_file.csv\n",
      "dna,rRNA,18s,18S ribosomal RNA,18S rRNA,small subunit 18S ribosomal RNA\n",
      "dna,rRNA,28s,28S large subunit ribosomal RNA,28S ribosomal RNA\n",
      "dna,CDS,coi,coi,COI,cox1,COX1,coxI,2\n",
      "dna,CDS,cytochrome_c_oxidase_subunit_I,cytochrome c oxidase subunit I,2"
     ],
     "language": "python",
     "metadata": {},
     "outputs": [
      {
       "output_type": "stream",
       "stream": "stdout",
       "text": [
        "Overwriting edited_tetillidae_loci_control_file.csv\n"
       ]
      }
     ],
     "prompt_number": 7
    },
    {
     "cell_type": "markdown",
     "metadata": {},
     "source": [
      "### Create database with Tetillidae sequences from genbank and a novel tetillid sequence"
     ]
    },
    {
     "cell_type": "markdown",
     "metadata": {},
     "source": [
      "Loci can be defined manually"
     ]
    },
    {
     "cell_type": "code",
     "collapsed": false,
     "input": [
      "# Declare the loci to use Locus(char_type, feature_type, name,[alias1, alias2,..,aliasn])\n",
      "\n",
      "#ssu = Locus('dna','rRNA','18S',\n",
      "#            ['18s','18S','SSU rRNA','18S ribosomal RNA'])\n",
      "#lsu = Locus('dna','rRNA','28S',\n",
      "#            ['28s','28S','LSU rRNA','28S ribosomal RNA','28S large subunit ribosomal RNA'])\n",
      "#coi = Locus('dna','CDS','coi',\n",
      "#            ['cox1','COX1','coi','COI','CoI'])\n",
      "\n",
      "\n",
      "# Put the loci in a list\n",
      "\n",
      "#loci = [coi, lsu, ssu]"
     ],
     "language": "python",
     "metadata": {},
     "outputs": [],
     "prompt_number": 8
    },
    {
     "cell_type": "markdown",
     "metadata": {},
     "source": [
      "or read from the edited loci csv file"
     ]
    },
    {
     "cell_type": "code",
     "collapsed": false,
     "input": [
      "# Start a reprophylo database instance using the loci list\n",
      "\n",
      "pj = Project('edited_tetillidae_loci_control_file.csv')\n",
      "\n",
      "# Read Genbank formated input into the database\n",
      "\n",
      "data_folder = 'data/'\n",
      "input_filenames_list = [data_folder + 'Tetillidae.gb']\n",
      "pj.read_embl_genbank(input_filenames_list)\n",
      "\n",
      "# Read denovo sequences\n",
      "\n",
      "denovo_filnames_list = [data_folder+'Tetillidae_denovo_sequence.fasta']\n",
      "pj.read_denovo(denovo_filnames_list, 'dna')\n",
      "\n",
      "# Add a cds feature to the new sequence, it will be translated.\n",
      "\n",
      "pj.add_feature_to_record('denovo0', 'CDS', location=[[1,786,1],[1742,2092,1]], \n",
      "                         qualifiers={'gene': 'cox1', 'product': 'cytochrome c oxidase subunit I',\n",
      "                                     'codon_start': 1,'transl_table': 4, 'organism': 'Craniella microsigma'})\n",
      "\n",
      "# Export the database\n",
      "\n",
      "pj.write('Tet_Repro.gb', format = 'genbank')\n",
      "\n",
      "# Veiw the output GenBank file to see that the genbank entries contain only the specified loci.\n",
      "# other loci have been deleted\n",
      "# Check your novel sequence and the new cds feature you specified. A translation was included automatically\n",
      "\n",
      "pj.write('Tet_Repro.csv', format = 'csv')\n",
      "\n",
      "# Chek the csv file to see which qualifiers need to be ammended or added"
     ],
     "language": "python",
     "metadata": {},
     "outputs": [
      {
       "output_type": "stream",
       "stream": "stdout",
       "text": [
        "Read the following loci from file edited_tetillidae_loci_control_file.csv:\n",
        "Locus(char_type=dna, feature_type=CDS, name=coi, aliases=coi; COI; cox1; COX1; coxI; cytochrome c oxidase subunit I)\n",
        "Locus(char_type=dna, feature_type=rRNA, name=18s, aliases=18S ribosomal RNA; 18S rRNA; small subunit 18S ribosomal RNA)\n",
        "Locus(char_type=dna, feature_type=rRNA, name=28s, aliases=28S large subunit ribosomal RNA; 28S ribosomal RNA)\n"
       ]
      },
      {
       "output_type": "stream",
       "stream": "stderr",
       "text": [
        "reprophylo.py:870: UserWarning: Version control off\n",
        "  warnings.warn('Version control off')\n"
       ]
      }
     ],
     "prompt_number": 9
    },
    {
     "cell_type": "markdown",
     "metadata": {},
     "source": [
      "The meta data can be edited in the csv file and the edited file can then be read back to correct the records in the `Project`"
     ]
    },
    {
     "cell_type": "code",
     "collapsed": false,
     "input": [
      "pj.correct_metadata_from_file('Tet_Repro_edited.csv')"
     ],
     "language": "python",
     "metadata": {},
     "outputs": [],
     "prompt_number": 10
    },
    {
     "cell_type": "markdown",
     "metadata": {},
     "source": [
      "There are methods that can be used to edit the metadata directly"
     ]
    },
    {
     "cell_type": "code",
     "collapsed": false,
     "input": [
      "fix_gene_qualifier = [['18S ribosomal RNA', 'product', 'SSU rRNA', 'gene'],\n",
      "                      ['28S ribosomal RNA', 'product', 'LSU rRNA', 'gene'],\n",
      "                      ['AM076987.1_f1','feature_id','LAGLIDADG','gene']]\n",
      "for fix in fix_gene_qualifier:\n",
      "    pj.if_this_then_that(fix[0], fix[1], fix[2], fix[3])\n",
      "\n",
      "# Copy the 'specimen_voucher' qualifier from the source feature\n",
      "# to each of the features so that it can be manipulated\n",
      "# It will be used as OTU indicator (i.e., to indicate different loci that belong to the same\n",
      "# leaf of the tree and should be concatenated\n",
      "\n",
      "pj.add_qualifier_from_source('specimen_voucher')\n",
      "\n",
      "# Add missing/ correct wrong specimen vouchers according to feature id\n",
      "\n",
      "add_specimen_voucher = [[['JX177968.1_f0'],'specimen_voucher','QMG_321405'],\n",
      "                        [['JX177913.1_f0',\n",
      "                          'JX177935.1_f0',\n",
      "                          'JX177965.1_f0'],'specimen_voucher','TAU_25617'],\n",
      "                        [['JX177903.1_f0',\n",
      "                          'JX177938.1_f0'],'specimen_voucher','TAU_25618'],\n",
      "                        [['HM032740.1_f0',\n",
      "                          'JX177964.1_f0'],'specimen_voucher','TAU_25621'],\n",
      "                        [['HM032739.1_f0',\n",
      "                          'JX177962.1_f0'],'specimen_voucher','TAU_25622'],\n",
      "                        [['JX177968.1_f0'],'specimen_voucher','QMG_321405'],\n",
      "                        [['JX177891.1_f0'],'specimen_voucher','RMNH_POR_3100'],\n",
      "                        [['JX177900.1_f0',\n",
      "                          'JX177926.1_f0'],'specimen_voucher','TAU_25620'],\n",
      "                        [['JX177901.1_f0',\n",
      "                          'JX177961.1_f0',\n",
      "                          'JX177956.1_f0'],'specimen_voucher','TAU_25619'],\n",
      "                        [['HM032742.1_f0',\n",
      "                          'JX177957.1_f0'],'specimen_voucher','MNRJ_576']]\n",
      "for add in add_specimen_voucher:\n",
      "    pj.add_qualifier(add[0],add[1],add[2])\n",
      "\n",
      "# Reformat specimen voucher according to the specimen voucher\n",
      "\n",
      "correct_specimen_voucher = [['QMG321405','specimen_voucher','QMG_321405','specimen_voucher'],\n",
      "                            ['MHNM 16194','specimen_voucher','MHNM_16194','specimen_voucher'],\n",
      "                            ['TAU 25456','specimen_voucher','TAU_25456','specimen_voucher'],\n",
      "                            ['QMG320636','specimen_voucher','QMG_320636','specimen_voucher'],\n",
      "                            ['QMG320270','specimen_voucher','QMG_320270','specimen_voucher'],\n",
      "                            ['ZMBN:85239','specimen_voucher','ZMBN_85239','specimen_voucher'],\n",
      "                            ['QMG318785','specimen_voucher','QMG_318785','specimen_voucher'],\n",
      "                            ['QMG316342','specimen_voucher','QMG_316342','specimen_voucher'],\n",
      "                            ['QMG314224','specimen_voucher','QMG_314224','specimen_voucher'],\n",
      "                            ['VM14754','specimen_voucher','VM_14754','specimen_voucher'],\n",
      "                            ['ZMBN:85240','specimen_voucher','ZMBN_85240','specimen_voucher'],\n",
      "                            ['ZMBN:81789','specimen_voucher','ZMBN_81789','specimen_voucher'],\n",
      "                            ['ZMBN:81787','specimen_voucher','ZMBN_81787','specimen_voucher'],\n",
      "                            ['ZMBN:81785','specimen_voucher','ZMBN_81785','specimen_voucher']]\n",
      "for correction in correct_specimen_voucher:\n",
      "    pj.if_this_then_that(correction[0],correction[1],correction[2],correction[3])\n",
      "\n",
      "# Make a qualifier that will be used to concatenate OTU sequences\n",
      "\n",
      "pj.copy_paste_within_feature('specimen_voucher','OTU_dict')\n",
      "\n",
      "# Add missing values to the OTU dictionary\n",
      "\n",
      "add_to_concatenation_dict=[[['AY737635.1_f0',\n",
      "                             'AY320032.1_f0'],'OTU_dict','Geodia_neptuni'],\n",
      "                           [['EF564339.1_f0',\n",
      "                             'HM592832.1_f0'],'OTU_dict','Pachymatisma_johnstonia'],\n",
      "                           [['HM592717.1_f0',\n",
      "                             'HM592765.1_f0'],'OTU_dict','Thenea_levis'],\n",
      "                           [['HM592745.1_f0',\n",
      "                             'HM592820.1_f0'],'OTU_dict','Theonella_swinhoei'],\n",
      "                           [['KC762708.1_f0',\n",
      "                             'NC_010198.1_f0'],'OTU_dict','Cinachyrella_kuekenthali'],\n",
      "                           [['HM592705.1_f0',\n",
      "                             'HM592826.1_f0'],'OTU_dict','Calthropella_geodioides']]\n",
      "\n",
      "for add in add_to_concatenation_dict:\n",
      "    pj.add_qualifier(add[0],add[1],add[2])\n"
     ],
     "language": "python",
     "metadata": {},
     "outputs": [],
     "prompt_number": 11
    },
    {
     "cell_type": "code",
     "collapsed": false,
     "input": [
      "pj.write('Tet_Repro.gb', format = 'genbank')"
     ],
     "language": "python",
     "metadata": {},
     "outputs": [],
     "prompt_number": 12
    },
    {
     "cell_type": "markdown",
     "metadata": {},
     "source": [
      "### example reduced entry from genbank\n",
      "\n",
      "<pre>\n",
      "LOCUS       NC_010198              18089 bp    DNA              INV 10-JUL-2009\n",
      "DEFINITION  Cinachyrella kuekenthali mitochondrion, <strong>complete genome</strong>.\n",
      "ACCESSION   NC_010198\n",
      "VERSION     NC_010198.1  GI:164421113\n",
      "DBLINK      Project:28221 BioProject:PRJNA28221\n",
      "KEYWORDS    RefSeq.\n",
      "SOURCE      mitochondrion Cinachyrella kuekenthali (sponge)\n",
      "  ORGANISM  Cinachyrella kuekenthali\n",
      "            Eukaryota; Metazoa; Porifera; Demospongiae; Tetractinomorpha;\n",
      "            Spirophorida; Tetillidae; Cinachyrella.\n",
      "[..Some annotation lines deleted for presentation...]\n",
      "FEATURES             Location/Qualifiers\n",
      "     source          1..18089\n",
      "                     <strong>/feature_id=\"NC_010198.1_source\"</strong>\n",
      "                     /mol_type=\"genomic DNA\"\n",
      "                     /organelle=\"mitochondrion\"\n",
      "                     /db_xref=\"taxon:458489\"\n",
      "                     /common=\"sponge\"\n",
      "                     /organism=\"Cinachyrella kuekenthali\"\n",
      "     CDS             10028..11596\n",
      "                     /product=\"cytochrome c oxidase subunit I\"\n",
      "                     /codon_start=1\n",
      "                     /transl_table=4\n",
      "                     <strong>/feature_id=\"NC_010198.1_f0\"</strong>\n",
      "                     /db_xref=\"GI:164421124\"\n",
      "                     /db_xref=\"GeneID:5846723\"\n",
      "                     /translation=\"MDRLYLTRWLYSTNHKDIGTLYLLFGVFSGMIGSGFSLLIRLELS\n",
      "                     APGSMLGDDQLYNVMVTAHGLIMVFFLVMPVMIGGFGNWLVPLYIGAPDMAFPRLNNIS\n",
      "                     FWVLPPSAILLLGSAFVEQGVGTGWTLYPPLSSIQAHSGGSVDAAIFSIHLAGISSILG\n",
      "                     SMNFITTIFNMRAPGITMDRLPLFVWSILVTTYLLLLALPVLAGAITMLLTDRNFNTTF\n",
      "                     FDPAGGGDPILFQHLFWFFGHPEVYVLILPGFGIISQIIPTFAAKKQIFGYLGMVYAMV\n",
      "                     SIGILGFIVWAHHMFTVGMDADSRAYFSAATMIIAVPTGIKIFSWIATIVGGSLRTDTP\n",
      "                     MLWAMGFVFLFTVGGLTGIVVACSSLDILLHDTYYVVAHFHYVLSMGAIFAIFGGVYYW\n",
      "                     FGKITGYCYNEVLGKIHFWLMFIGVNLTFFPQHFLGLAGLPRRYSDYHDSFAGWNQISS\n",
      "                     LGSFISIVSVMVFLYLVYDAYVWEIKFVGWTKDSGHYPSLEWSQTSPPAHHTYNELPFV\n",
      "                     YKGSS\"\n",
      "                     /gene=\"COX1\"\n",
      "                     /protein_id=\"YP_001648419.1\"\n",
      "ORIGIN\n",
      "        1 gatttattta ttatatttat agactagtat aaacgggtag tgaatggata actaggatgt\n",
      "       61 tatataagga cgttattaat acgaaaattg ccaatgagaa agatgaaggg caaagttcct\n",
      "      121 aaaaaagaaa ataataaacc ctaggaattg aaacatctca gtactaggag gaaaagaaat\n",
      "      181 caagtgagat tccgttagta gtggcgagcg aaagcggagg tagaattgca aaataatagt\n",
      "      241 ctctgatata gaatatggag tagaataatt tgaagatagg tgtaccacgc atctaagtct\n",
      "      301 aaatatatat aacgtaccga tagtggacta gtactgtgaa ggaaagttga aagagataaa\n",
      "      361 aatgaaatag aacttgaaat tcgctatcta taagcagacg aaatcgtcgt accttttgta\n",
      "      [..Some sequence lines deleted for presentation...]\n",
      "      \n",
      "</pre>\n",
      "\n",
      "### Example denovo entry \n",
      "<pre>\n",
      "LOCUS       NIWA2850                2092 bp    DNA              UNK 01-JAN-1980\n",
      "DEFINITION  NIWA2850 Craniella microsigma cox1\n",
      "ACCESSION   denovo0\n",
      "VERSION     <strong>denovo0</strong>\n",
      "KEYWORDS    .\n",
      "SOURCE      .\n",
      "  ORGANISM  .\n",
      "            .\n",
      "FEATURES             Location/Qualifiers\n",
      "     source          1..2092\n",
      "                     <strong>/feature_id=\"denovo0_source\"</strong>\n",
      "                     /original_id=\"NIWA2850\"\n",
      "                     /original_desc=\"Craniella microsigma cox1\"\n",
      "     CDS             <strong>join(1..786,1742..2092)</strong>\n",
      "                     /product=\"cytochrome c oxidase subunit I\"\n",
      "                     /codon_start=1\n",
      "                     /transl_table=4\n",
      "                     <strong>/feature_id=\"denovo0_f0\"\n",
      "                     /translation=\"MIGTGFSLLIRLELSAPGLMLGDDHLYNVMVTAHGLIMVFFLVMP\n",
      "                     VMIGGFGNWMVPLYIGAPDMAFPRLNNISFWVLPPSLILLLGSAFVEQGVGTGWTLYPP\n",
      "                     LSSIQAHSGGSVDAAIFSLHLAGISSILGAMNFITTIFNMRAPGITMDRLPLFVWSILI\n",
      "                     TTYLLLLALPVLAGAITMLLTDRNFNTTFFDPAGGGDPILFQHLFWFFGHPEVYVLVLP\n",
      "                     GFGIVSQIIPTFAAKKQIFGYLGMVYAMVSIGILGFIVWAHHMFTVGMDADSRAYFSAA\n",
      "                     TMIIAVPTGIKIFSWIATVVGGSLRIDTPMLWAMGFVFLFTVGGLTGIVVASNSLDVLL\n",
      "                     HDTYYVVAHFHYVLSMGAIFAIFGGVYYWFGKITGYCYN\"</strong>\n",
      "                     /gene=\"cox1\"\n",
      "                     /organism=\"Craniella microsigma\"\n",
      "ORIGIN\n",
      "        1 atgataggaa ctggatttag cttgcttatt agattagaac tatccgctcc cggattaatg\n",
      "       61 ttgggtgacg accatttata caatgttatg gtcacggccc acggtcttat aatggtcttt\n",
      "      121 ttcttagtta tgccggttat gataggtggg ttcggtaatt gaatggttcc cctttacatc\n",
      "      181 ggggcaccgg atatggcttt tccaagatta aacaatatta gtttttgagt tttacccccc\n",
      "      [..Some sequence lines deleted for presentation...]\n",
      "</pre>"
     ]
    },
    {
     "cell_type": "markdown",
     "metadata": {},
     "source": [
      "### Example of entry with edited qualifiers in bold\n",
      "\n",
      "<pre>\n",
      "LOCUS       JX177987                1108 bp    DNA              INV 05-SEP-2013\n",
      "DEFINITION  Craniella cranium voucher ZMBN_85239 18S ribosomal RNA gene, partial\n",
      "            sequence.\n",
      "ACCESSION   JX177987\n",
      "VERSION     JX177987.1  GI:392932935\n",
      "KEYWORDS    .\n",
      "SOURCE      Craniella cranium\n",
      "  ORGANISM  Craniella cranium\n",
      "            Eukaryota; Metazoa; Porifera; Demospongiae; Tetractinomorpha;\n",
      "            Spirophorida; Tetillidae; Craniella.\n",
      "[..Some annotation lines deleted for presentation...]\n",
      "\n",
      "FEATURES             Location/Qualifiers\n",
      "     source          1..1108\n",
      "                     /identified_by=\"Paco Cardenas & Hans Tore Rap\"\n",
      "                     /feature_id=\"JX177987.1_source\"\n",
      "                     /mol_type=\"genomic DNA\"\n",
      "                     /country=\"Norway\"\n",
      "                     /note=\"authority: Craniella cranium (Mueller, 1776)\"\n",
      "                     /db_xref=\"taxon:1006792\"\n",
      "                     /specimen_voucher=\"ZMBN_85239\"\n",
      "                     /organism=\"Craniella cranium\"\n",
      "     rRNA            <1..>1108\n",
      "                     /product=\"18S ribosomal RNA\"\n",
      "                     /gene=\"SSU rRNA\"\n",
      "                     <strong>/specimen_voucher=\"ZMBN_85239\"</strong>\n",
      "                     <strong>/OTU_dict=\"ZMBN_85239\"</strong>\n",
      "                     /feature_id=\"JX177987.1_f0\"\n",
      "                     <strong>/genus=\"Craniella\"</strong>\n",
      "                     <strong>/organism=\"Craniella cranium\"</strong>\n",
      "ORIGIN\n",
      "        1 tcatatgctt gtctcaaaga ctaagccatg catgtccaag tatgaacgct tcgtactgtg\n",
      "       61 aaactgcgaa tggctcatta aatcagttat agtttatttg atggtcgttt tgctacatgg\n",
      "      121 ataactgtgg taattctaga gctaatacat gcacaaggtc ccgactctcg gaagggacgt\n",
      "      181 atttattaga tccaaaacca gcgcgggtgg cctctcgggg tgcccggtac ctgggcgatt\n",
      "      [..Some sequence lines deleted for presentation...]\n",
      "//\n",
      "</pre>"
     ]
    },
    {
     "cell_type": "markdown",
     "metadata": {},
     "source": [
      "### Brake down the records by locus"
     ]
    },
    {
     "cell_type": "code",
     "collapsed": false,
     "input": [
      "# form sequence records for each locus\n",
      "\n",
      "pj.extract_by_locus()"
     ],
     "language": "python",
     "metadata": {},
     "outputs": [],
     "prompt_number": 13
    },
    {
     "cell_type": "markdown",
     "metadata": {},
     "source": [
      "### Define how to align each locus"
     ]
    },
    {
     "cell_type": "code",
     "collapsed": false,
     "input": [
      "# coi will be aligned with mafft L-ins-i, which is the default. By default, will do codon alignment to CDSs\n",
      "\n",
      "linsi = AlnConf(pj, loci=['coi'])\n",
      "\n",
      "# 18s and 28s, put together in the rRNA_set list, will be aligned with muscle with default parameters\n",
      "\n",
      "muscle = AlnConf(pj, method_name='MuscleDefaults',\n",
      "                         cmd='muscle', program_name='muscle',\n",
      "                         cline_args=dict())"
     ],
     "language": "python",
     "metadata": {},
     "outputs": [
      {
       "output_type": "stream",
       "stream": "stdout",
       "text": [
        "mafft --localpair --maxiterate 1000 761761413934311.0_CDS_proteins_coi.fasta\n",
        "muscle -in 690881413934311.01_CDS_proteins_coi.fasta\n",
        "muscle -in 690881413934311.01_18s.fasta\n",
        "muscle -in 690881413934311.01_28s.fasta\n"
       ]
      }
     ],
     "prompt_number": 14
    },
    {
     "cell_type": "markdown",
     "metadata": {},
     "source": [
      "### Align the loci"
     ]
    },
    {
     "cell_type": "code",
     "collapsed": false,
     "input": [
      "pj.align(alignment_methods=[linsi, muscle])"
     ],
     "language": "python",
     "metadata": {},
     "outputs": [],
     "prompt_number": 15
    },
    {
     "cell_type": "markdown",
     "metadata": {},
     "source": [
      "### Mask ambigiously alignmed positions - To Do"
     ]
    },
    {
     "cell_type": "code",
     "collapsed": false,
     "input": [
      "gappyout = TrimalConf(pj)"
     ],
     "language": "python",
     "metadata": {},
     "outputs": [
      {
       "output_type": "stream",
       "stream": "stdout",
       "text": [
        "trimal -in 908691413934332.99_coi@MuscleDefaults.fasta -gappyout\n",
        "trimal -in 908691413934332.99_28s@MuscleDefaults.fasta -gappyout\n",
        "trimal -in 908691413934332.99_18s@MuscleDefaults.fasta -gappyout\n",
        "trimal -in 908691413934332.99_coi@MafftLinsi.fasta -gappyout\n"
       ]
      }
     ],
     "prompt_number": 16
    },
    {
     "cell_type": "code",
     "collapsed": false,
     "input": [
      "pj.trim([gappyout])"
     ],
     "language": "python",
     "metadata": {},
     "outputs": [],
     "prompt_number": 17
    },
    {
     "cell_type": "markdown",
     "metadata": {},
     "source": [
      "### Define how to concatenate the loci"
     ]
    },
    {
     "cell_type": "code",
     "collapsed": false,
     "input": [
      "# Concatenation objects are used to tell reprophylo how to concatenate the loci\n",
      "# They provide tools to set rules regarding which loci/OTUs to include\n",
      "\n",
      "combined = Concatenation(name='combined', loci=pj.loci, otu_meta='OTU_dict',\n",
      "               concat_must_have_all_of=['coi'], concat_must_have_one_of =[['18s','28s']], define_trimmed_alns=[\"MuscleDefaults@gappyout\"])\n",
      "\n",
      "\n",
      "combined_strict = Concatenation(name='combinedstrict', loci=pj.loci, otu_meta='OTU_dict',\n",
      "               concat_must_have_all_of=['coi','28s'], concat_must_have_one_of =[], define_trimmed_alns=[\"MuscleDefaults@gappyout\"])\n",
      "\n",
      "# could be e.g. concat_must_have_one_of =[['18S','28S'],['alg11','nd5']] to except an out with 18S and nd5\n",
      "# but without 28S and alg11"
     ],
     "language": "python",
     "metadata": {},
     "outputs": [],
     "prompt_number": 18
    },
    {
     "cell_type": "markdown",
     "metadata": {},
     "source": [
      "### Concatenate the loci based on the definitions above"
     ]
    },
    {
     "cell_type": "code",
     "collapsed": false,
     "input": [
      "for c in (combined, combined_strict):\n",
      "    pj.add_concatenation(c)\n",
      "pj.make_concatenation_alignments()"
     ],
     "language": "python",
     "metadata": {},
     "outputs": [
      {
       "output_type": "stream",
       "stream": "stdout",
       "text": [
        "52 individuals will be included in the concatenations combined\n",
        "41 individuals will be included in the concatenations combinedstrict"
       ]
      },
      {
       "output_type": "stream",
       "stream": "stdout",
       "text": [
        "\n"
       ]
      }
     ],
     "prompt_number": 19
    },
    {
     "cell_type": "markdown",
     "metadata": {},
     "source": [
      "### Run the trees"
     ]
    },
    {
     "cell_type": "code",
     "collapsed": false,
     "input": [
      "raxml_method_loci = RaxmlConf(pj, method_name='fa', program_name='raxmlHPC-PTHREADS-SSE3',\n",
      "                 cmd='raxmlHPC-PTHREADS-SSE3',\n",
      "                 preset = 'fa',\n",
      "                 alns=['coi@MuscleDefaults@gappyout',\n",
      "                       'coi@MafftLinsi@gappyout',\n",
      "                       '18s@MuscleDefaults@gappyout',\n",
      "                       '28s@MuscleDefaults@gappyout'],\n",
      "                 model='GAMMA', matrix='JTT',\n",
      "                 threads=5,\n",
      "                 cline_args={'-#': 3})"
     ],
     "language": "python",
     "metadata": {},
     "outputs": [
      {
       "output_type": "stream",
       "stream": "stdout",
       "text": [
        "raxmlHPC-PTHREADS-SSE3 -f a -m GTRGAMMA -n 332191413934335.51_28s@MuscleDefaults@gappyout0 -p 871 -s 332191413934335.51_28s@MuscleDefaults@gappyout.fasta -T 5 -x 416 -N 3\n",
        "raxmlHPC-PTHREADS-SSE3 -f a -m GTRGAMMA -n 332191413934335.51_coi@MafftLinsi@gappyout0 -p 996 -s 332191413934335.51_coi@MafftLinsi@gappyout.fasta -T 5 -x 232 -N 3\n",
        "raxmlHPC-PTHREADS-SSE3 -f a -m GTRGAMMA -n 332191413934335.51_coi@MuscleDefaults@gappyout0 -p 563 -s 332191413934335.51_coi@MuscleDefaults@gappyout.fasta -T 5 -x 152 -N 3\n",
        "raxmlHPC-PTHREADS-SSE3 -f a -m GTRGAMMA -n 332191413934335.51_18s@MuscleDefaults@gappyout0 -p 720 -s 332191413934335.51_18s@MuscleDefaults@gappyout.fasta -T 5 -x 979 -N 3\n"
       ]
      }
     ],
     "prompt_number": 20
    },
    {
     "cell_type": "code",
     "collapsed": false,
     "input": [
      "raxml_method_concat = RaxmlConf(pj, method_name='fD_fb', program_name='raxmlHPC-PTHREADS-SSE3',\n",
      "                 cmd='raxmlHPC-PTHREADS-SSE3', preset = 'fD_fb', alns=['combined','combinedstrict'], model='GAMMA', matrix='JTT', threads=5,\n",
      "                 cline_args={'-N': 1})"
     ],
     "language": "python",
     "metadata": {},
     "outputs": [
      {
       "output_type": "stream",
       "stream": "stdout",
       "text": [
        "raxmlHPC-PTHREADS-SSE3 -f D -m PROTGAMMAJTT -n 568971413934335.52_combinedstrict0 -q 568971413934335.52_combinedstrict_partfile -p 6 -s 568971413934335.52_combinedstrict.fasta -T 5 -N 1\n",
        "raxmlHPC-PTHREADS-SSE3 -f b -m PROTGAMMAJTT -n 568971413934335.52_combinedstrict1 -q 568971413934335.52_combinedstrict_partfile -p 737 -s 568971413934335.52_combinedstrict.fasta -t RAxML_bestTree.568971413934335.52_combinedstrict0 -T 5 -z RAxML_rellBootstrap.568971413934335.52_combinedstrict0\n",
        "raxmlHPC-PTHREADS-SSE3 -f D -m PROTGAMMAJTT -n 568971413934335.52_combined0 -q 568971413934335.52_combined_partfile -p 248 -s 568971413934335.52_combined.fasta -T 5 -N 1\n",
        "raxmlHPC-PTHREADS-SSE3 -f b -m PROTGAMMAJTT -n 568971413934335.52_combined1 -q 568971413934335.52_combined_partfile -p 8 -s 568971413934335.52_combined.fasta -t RAxML_bestTree.568971413934335.52_combined0 -T 5 -z RAxML_rellBootstrap.568971413934335.52_combined0\n"
       ]
      }
     ],
     "prompt_number": 21
    },
    {
     "cell_type": "code",
     "collapsed": false,
     "input": [
      "pj.tree([raxml_method_loci, raxml_method_concat])\n",
      "#pj.tree([raxml_method_concat])\n",
      "\n",
      "for t in pj.trees.keys():\n",
      "    print pj.trees[t][0].tree_method_id, pj.trees[t][1][:30]+'...'"
     ],
     "language": "python",
     "metadata": {},
     "outputs": [
      {
       "output_type": "stream",
       "stream": "stdout",
       "text": [
        "332191413934335.51_18s@MuscleDefaults@gappyout ((JX177962.1_f0:1.07634e-06[&&...\n",
        "568971413934335.52_combined ((TAU_25622:1.06683e-06[&&NHX:...\n",
        "332191413934335.51_coi@MuscleDefaults@gappyout (HM592667.1_f0:1.40795e-06[&&N...\n",
        "568971413934335.52_combinedstrict ((NIWA_28496:9.32695e-07[&&NHX...\n",
        "332191413934335.51_28s@MuscleDefaults@gappyout ((JX177944.1_f0:0.0026154[&&NH...\n",
        "332191413934335.51_coi@MafftLinsi@gappyout (JX177918.1_f0:1.40793e-06[&&N...\n"
       ]
      }
     ],
     "prompt_number": 22
    },
    {
     "cell_type": "markdown",
     "metadata": {},
     "source": [
      "### Annotate the trees"
     ]
    },
    {
     "cell_type": "code",
     "collapsed": false,
     "input": [
      "pj.clear_tree_annotations()\n",
      "\n",
      "supports = {'black':[100,99],\n",
      "            'dimgray':[99,75],\n",
      "            'silver':[75,50]}\n",
      "\n",
      "genera_colors = {'Tetilla':'purple',\n",
      "                 'Cinachyra':'steelblue',\n",
      "                 'Cinachyrella':'crimson',\n",
      "                 'Craniella':'royalblue',\n",
      "                 'Paratetilla':'darkred',\n",
      "                 'Fangophilina':'mediumslateblue',\n",
      "                 'Amphitethya':'firebrick',\n",
      "                 'Acanthotetilla':'rosybrown'\n",
      "                 }\n",
      "\n",
      "pj.annotate('.',root_meta = 'genus',\n",
      "            root_value = 'Astrophorida',\n",
      "            leaf_labels_txt_meta=['source_organism'],\n",
      "            leaf_node_color_meta='genus', \n",
      "            leaf_label_colors=genera_colors,\n",
      "\n",
      "            node_support_dict = supports,\n",
      "            #multifruc=90,\n",
      "            \n",
      "            heat_map_meta = ['porocalices','cortex','calthrops'],\n",
      "            heat_map_colour_scheme = 1,\n",
      "            \n",
      "            scale=2000,\n",
      "            html='tetillidae.html'\n",
      "            )"
     ],
     "language": "python",
     "metadata": {},
     "outputs": [],
     "prompt_number": 23
    },
    {
     "cell_type": "code",
     "collapsed": false,
     "input": [
      "! firefox tetillidae.html"
     ],
     "language": "python",
     "metadata": {},
     "outputs": [
      {
       "output_type": "stream",
       "stream": "stdout",
       "text": [
        "\r\n",
        "(process:9432): GLib-CRITICAL **: g_slice_set_config: assertion 'sys_page_size == 0' failed\r\n"
       ]
      },
      {
       "output_type": "stream",
       "stream": "stdout",
       "text": [
        "\r\n",
        "(firefox:9432): GLib-GObject-WARNING **: Attempt to add property GnomeProgram::sm-connect after class was initialised\r\n",
        "\r\n",
        "(firefox:9432): GLib-GObject-WARNING **: Attempt to add property GnomeProgram::show-crash-dialog after class was initialised\r\n",
        "\r\n",
        "(firefox:9432): GLib-GObject-WARNING **: Attempt to add property GnomeProgram::display after class was initialised\r\n",
        "\r\n",
        "(firefox:9432): GLib-GObject-WARNING **: Attempt to add property GnomeProgram::default-icon after class was initialised\r\n"
       ]
      },
      {
       "output_type": "stream",
       "stream": "stdout",
       "text": [
        "1413934414039\taddons.xpi\tWARN\tException running bootstrap method shutdown on webapps-team@lists.launchpad.net: ReferenceError: sss is not defined (resource://gre/modules/addons/XPIProvider.jsm -> file:///usr/share/mozilla/extensions/%7Bec8030f7-c20a-464f-9b0e-13a3a9e97384%7D/webapps-team@lists.launchpad.net/bootstrap.js:72:4) JS Stack trace: shutdown@resource://gre/modules/addons/XPIProvider.jsm -> file:///usr/share/mozilla/extensions/%7Bec8030f7-c20a-464f-9b0e-13a3a9e97384%7D/webapps-team@bootstrap.js:72:5 < XPI_callBootstrapMethod@XPIProvider.jsm:4303:9 < shutdownObserver@XPIProvider.jsm:1989:13\r\n"
       ]
      }
     ],
     "prompt_number": 24
    },
    {
     "cell_type": "code",
     "collapsed": false,
     "input": [
      "import shutil\n",
      "path = 'pj_output'\n",
      "if os.path.exists(path):\n",
      "    shutil.rmtree(path)\n",
      "if os.path.exists(path+'.zip'):\n",
      "    os.remove(path+'.zip')"
     ],
     "language": "python",
     "metadata": {},
     "outputs": [],
     "prompt_number": 25
    },
    {
     "cell_type": "code",
     "collapsed": false,
     "input": [
      "publish(pj, \"pj_output\", '.')"
     ],
     "language": "python",
     "metadata": {},
     "outputs": [
      {
       "output_type": "stream",
       "stream": "stderr",
       "text": [
        "/usr/local/lib/python2.7/dist-packages/pandas/io/excel.py:626: UserWarning: Installed openpyxl is not supported at this time. Use >=1.6.1 and <2.0.0.\n",
        "  .format(openpyxl_compat.start_ver, openpyxl_compat.stop_ver))\n",
        "DEBUG:Cloud:Log file (/home/amir/.picloud/cloud.log) opened\n"
       ]
      }
     ],
     "prompt_number": 26
    },
    {
     "cell_type": "code",
     "collapsed": false,
     "input": [
      "!unzip pj_output.zip"
     ],
     "language": "python",
     "metadata": {},
     "outputs": [
      {
       "output_type": "stream",
       "stream": "stdout",
       "text": [
        "Archive:  pj_output.zip\r\n",
        "   creating: pj_output/\r\n",
        " extracting: pj_output/tree_and_alns.nexml  \r\n",
        " extracting: pj_output/report.html   \r\n",
        " extracting: pj_output/sequences_and_metadata.gb  \r\n",
        " extracting: pj_output/Tue_21_Oct_2014_23:33:41.pkl  "
       ]
      },
      {
       "output_type": "stream",
       "stream": "stdout",
       "text": [
        "\r\n",
        "   creating: pj_output/files/\r\n",
        " extracting: pj_output/files/1248.png  \r\n",
        " extracting: pj_output/files/1744.png  \r\n",
        " extracting: pj_output/files/332191413934335.51_coi@MafftLinsi@gappyout.png  \r\n",
        " extracting: pj_output/files/568971413934335.52_combinedstrict.png  \r\n",
        " extracting: pj_output/files/1287.png  \r\n",
        " extracting: pj_output/files/332191413934335.51_18s@MuscleDefaults@gappyout.png  \r\n",
        " extracting: pj_output/files/1687.png  \r\n",
        " extracting: pj_output/files/568971413934335.52_combined.png  \r\n",
        " extracting: pj_output/files/332191413934335.51_28s@MuscleDefaults@gappyout.png  \r\n",
        " extracting: pj_output/files/1200.png  \r\n",
        " extracting: pj_output/files/1330.png  \r\n",
        " extracting: pj_output/files/1783.png  \r\n",
        " extracting: pj_output/files/332191413934335.51_coi@MuscleDefaults@gappyout.png  \r\n",
        " extracting: pj_output/files/1845.png  \r\n",
        " extracting: pj_output/files/1424.png  \r\n"
       ]
      }
     ],
     "prompt_number": 27
    },
    {
     "cell_type": "code",
     "collapsed": false,
     "input": [
      "!firefox pj_output/report.html"
     ],
     "language": "python",
     "metadata": {},
     "outputs": [
      {
       "output_type": "stream",
       "stream": "stdout",
       "text": [
        "\r\n",
        "(process:9586): GLib-CRITICAL **: g_slice_set_config: assertion 'sys_page_size == 0' failed\r\n",
        "\r\n",
        "(firefox:9586): GLib-GObject-WARNING **: Attempt to add property GnomeProgram::sm-connect after class was initialised\r\n",
        "\r\n",
        "(firefox:9586): GLib-GObject-WARNING **: Attempt to add property GnomeProgram::show-crash-dialog after class was initialised\r\n",
        "\r\n",
        "(firefox:9586): GLib-GObject-WARNING **: Attempt to add property GnomeProgram::display after class was initialised\r\n",
        "\r\n",
        "(firefox:9586): GLib-GObject-WARNING **: Attempt to add property GnomeProgram::default-icon after class was initialised\r\n"
       ]
      },
      {
       "output_type": "stream",
       "stream": "stdout",
       "text": [
        "1413934483336\tGMPInstallManager.simpleCheckAndInstall\tINFO\tLast check was: 38614 seconds ago, minimum seconds: 86400\r\n",
        "1413934483336\tGMPInstallManager.simpleCheckAndInstall\tINFO\tWill not check for updates.\r\n"
       ]
      },
      {
       "output_type": "stream",
       "stream": "stdout",
       "text": [
        "1413934675651\taddons.xpi\tWARN\tException running bootstrap method shutdown on webapps-team@lists.launchpad.net: ReferenceError: sss is not defined (resource://gre/modules/addons/XPIProvider.jsm -> file:///usr/share/mozilla/extensions/%7Bec8030f7-c20a-464f-9b0e-13a3a9e97384%7D/webapps-team@lists.launchpad.net/bootstrap.js:72:4) JS Stack trace: shutdown@resource://gre/modules/addons/XPIProvider.jsm -> file:///usr/share/mozilla/extensions/%7Bec8030f7-c20a-464f-9b0e-13a3a9e97384%7D/webapps-team@bootstrap.js:72:5 < XPI_callBootstrapMethod@XPIProvider.jsm:4303:9 < shutdownObserver@XPIProvider.jsm:1989:13\r\n"
       ]
      }
     ],
     "prompt_number": 28
    },
    {
     "cell_type": "code",
     "collapsed": false,
     "input": [],
     "language": "python",
     "metadata": {},
     "outputs": [],
     "prompt_number": 28
    }
   ],
   "metadata": {}
  }
 ]
}