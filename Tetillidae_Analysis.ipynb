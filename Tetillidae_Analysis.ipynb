{
 "metadata": {
  "name": ""
 },
 "nbformat": 3,
 "nbformat_minor": 0,
 "worksheets": [
  {
   "cells": [
    {
     "cell_type": "code",
     "collapsed": false,
     "input": [
      "%load_ext watermark"
     ],
     "language": "python",
     "metadata": {},
     "outputs": [],
     "prompt_number": 1
    },
    {
     "cell_type": "code",
     "collapsed": false,
     "input": [
      "%watermark -g -h -m -v -p ete2,biopython,dendropy,cloud"
     ],
     "language": "python",
     "metadata": {},
     "outputs": [
      {
       "output_type": "stream",
       "stream": "stdout",
       "text": [
        "CPython 2.7.6\n",
        "IPython 1.2.1\n",
        "\n",
        "ete2 2.2rev1056\n",
        "biopython 1.64\n",
        "dendropy 3.12.0\n",
        "cloud 2.8.5\n",
        "\n",
        "compiler   : GCC 4.8.2\n",
        "system     : Linux\n",
        "release    : 3.13.0-35-generic\n",
        "machine    : x86_64\n",
        "processor  : x86_64\n",
        "CPU cores  : 8\n",
        "interpreter: 64bit\n",
        "host name  : amir-TECRA-W50-A\n",
        "Git hash   : 697a537385137976053cdae2eb4c50c07cd24baf\n"
       ]
      }
     ],
     "prompt_number": 2
    },
    {
     "cell_type": "markdown",
     "metadata": {},
     "source": [
      "# Tetillidae Data\n"
     ]
    },
    {
     "cell_type": "code",
     "collapsed": false,
     "input": [
      "from reprophylo import *"
     ],
     "language": "python",
     "metadata": {},
     "outputs": [],
     "prompt_number": 3
    },
    {
     "cell_type": "markdown",
     "metadata": {},
     "source": [
      "### Create database with Tetillidae sequences from genbank and a novel tetillid sequence"
     ]
    },
    {
     "cell_type": "code",
     "collapsed": false,
     "input": [
      "# Declare the loci to use Locus(char_type, feature_type, name,[alias1, alias2,..,aliasn])\n",
      "\n",
      "ssu = Locus('dna','rRNA','18S',\n",
      "            ['18s','18S','SSU rRNA','18S ribosomal RNA'])\n",
      "lsu = Locus('dna','rRNA','28S',\n",
      "            ['28s','28S','LSU rRNA','28S ribosomal RNA','28S large subunit ribosomal RNA'])\n",
      "coi = Locus('dna','CDS','coi',\n",
      "            ['cox1','COX1','coi','COI','CoI'])\n",
      "\n",
      "\n",
      "# Put the loci in a list\n",
      "\n",
      "loci = [coi, lsu, ssu]\n",
      "\n",
      "# Start a reprophylo database instance using the loci list\n",
      "\n",
      "db = Database(loci)\n",
      "\n",
      "# Read Genbank formated input into the database\n",
      "\n",
      "data_folder = '/home/amir/Dropbox/ReproPhylo/data/'\n",
      "input_filenames_list = [data_folder + 'Tetillidae.gb']\n",
      "db.read_embl_genbank(input_filenames_list)\n",
      "\n",
      "# Read denovo sequences\n",
      "\n",
      "denovo_filnames_list = [data_folder+'Tetillidae_denovo_sequence.fasta']\n",
      "db.read_denovo(denovo_filnames_list, 'dna')\n",
      "\n",
      "# Add a cds feature to the new sequence, it will be translated.\n",
      "\n",
      "db.add_feature_to_record('denovo0', 'CDS', location=[[1,786,1],[1742,2092,1]], \n",
      "                         qualifiers={'gene': 'cox1', 'product': 'cytochrome c oxidase subunit I',\n",
      "                                     'codon_start': 1,'transl_table': 4, 'organism': 'Craniella microsigma'})\n",
      "\n",
      "# Export the database\n",
      "\n",
      "db.write('Tet_Repro.gb', format = 'genbank')\n",
      "\n",
      "# Veiw the output GenBank file to see that the genbank entries contain only the specified loci.\n",
      "# other loci have been deleted\n",
      "# Check your novel sequence and the new cds feature you specified. A translation was included automatically\n",
      "\n",
      "db.write('Tet_Repro.csv', format = 'csv')\n",
      "\n",
      "# Chek the csv file to see which qualifiers need to be ammended or added"
     ],
     "language": "python",
     "metadata": {},
     "outputs": [
      {
       "output_type": "stream",
       "stream": "stderr",
       "text": [
        "reprophylo.py:611: UserWarning: Version control off\n",
        "  warnings.warn('Version control off')\n"
       ]
      }
     ],
     "prompt_number": 4
    },
    {
     "cell_type": "markdown",
     "metadata": {},
     "source": [
      "### example reduced entry from genbank\n",
      "\n",
      "<pre>\n",
      "LOCUS       NC_010198              18089 bp    DNA              INV 10-JUL-2009\n",
      "DEFINITION  Cinachyrella kuekenthali mitochondrion, <strong>complete genome</strong>.\n",
      "ACCESSION   NC_010198\n",
      "VERSION     NC_010198.1  GI:164421113\n",
      "DBLINK      Project:28221 BioProject:PRJNA28221\n",
      "KEYWORDS    RefSeq.\n",
      "SOURCE      mitochondrion Cinachyrella kuekenthali (sponge)\n",
      "  ORGANISM  Cinachyrella kuekenthali\n",
      "            Eukaryota; Metazoa; Porifera; Demospongiae; Tetractinomorpha;\n",
      "            Spirophorida; Tetillidae; Cinachyrella.\n",
      "[..Some annotation lines deleted for presentation...]\n",
      "FEATURES             Location/Qualifiers\n",
      "     source          1..18089\n",
      "                     <strong>/feature_id=\"NC_010198.1_source\"</strong>\n",
      "                     /mol_type=\"genomic DNA\"\n",
      "                     /organelle=\"mitochondrion\"\n",
      "                     /db_xref=\"taxon:458489\"\n",
      "                     /common=\"sponge\"\n",
      "                     /organism=\"Cinachyrella kuekenthali\"\n",
      "     CDS             10028..11596\n",
      "                     /product=\"cytochrome c oxidase subunit I\"\n",
      "                     /codon_start=1\n",
      "                     /transl_table=4\n",
      "                     <strong>/feature_id=\"NC_010198.1_f0\"</strong>\n",
      "                     /db_xref=\"GI:164421124\"\n",
      "                     /db_xref=\"GeneID:5846723\"\n",
      "                     /translation=\"MDRLYLTRWLYSTNHKDIGTLYLLFGVFSGMIGSGFSLLIRLELS\n",
      "                     APGSMLGDDQLYNVMVTAHGLIMVFFLVMPVMIGGFGNWLVPLYIGAPDMAFPRLNNIS\n",
      "                     FWVLPPSAILLLGSAFVEQGVGTGWTLYPPLSSIQAHSGGSVDAAIFSIHLAGISSILG\n",
      "                     SMNFITTIFNMRAPGITMDRLPLFVWSILVTTYLLLLALPVLAGAITMLLTDRNFNTTF\n",
      "                     FDPAGGGDPILFQHLFWFFGHPEVYVLILPGFGIISQIIPTFAAKKQIFGYLGMVYAMV\n",
      "                     SIGILGFIVWAHHMFTVGMDADSRAYFSAATMIIAVPTGIKIFSWIATIVGGSLRTDTP\n",
      "                     MLWAMGFVFLFTVGGLTGIVVACSSLDILLHDTYYVVAHFHYVLSMGAIFAIFGGVYYW\n",
      "                     FGKITGYCYNEVLGKIHFWLMFIGVNLTFFPQHFLGLAGLPRRYSDYHDSFAGWNQISS\n",
      "                     LGSFISIVSVMVFLYLVYDAYVWEIKFVGWTKDSGHYPSLEWSQTSPPAHHTYNELPFV\n",
      "                     YKGSS\"\n",
      "                     /gene=\"COX1\"\n",
      "                     /protein_id=\"YP_001648419.1\"\n",
      "ORIGIN\n",
      "        1 gatttattta ttatatttat agactagtat aaacgggtag tgaatggata actaggatgt\n",
      "       61 tatataagga cgttattaat acgaaaattg ccaatgagaa agatgaaggg caaagttcct\n",
      "      121 aaaaaagaaa ataataaacc ctaggaattg aaacatctca gtactaggag gaaaagaaat\n",
      "      181 caagtgagat tccgttagta gtggcgagcg aaagcggagg tagaattgca aaataatagt\n",
      "      241 ctctgatata gaatatggag tagaataatt tgaagatagg tgtaccacgc atctaagtct\n",
      "      301 aaatatatat aacgtaccga tagtggacta gtactgtgaa ggaaagttga aagagataaa\n",
      "      361 aatgaaatag aacttgaaat tcgctatcta taagcagacg aaatcgtcgt accttttgta\n",
      "      [..Some sequence lines deleted for presentation...]\n",
      "      \n",
      "</pre>\n",
      "\n",
      "### Example denovo entry \n",
      "<pre>\n",
      "LOCUS       NIWA2850                2092 bp    DNA              UNK 01-JAN-1980\n",
      "DEFINITION  NIWA2850 Craniella microsigma cox1\n",
      "ACCESSION   denovo0\n",
      "VERSION     <strong>denovo0</strong>\n",
      "KEYWORDS    .\n",
      "SOURCE      .\n",
      "  ORGANISM  .\n",
      "            .\n",
      "FEATURES             Location/Qualifiers\n",
      "     source          1..2092\n",
      "                     <strong>/feature_id=\"denovo0_source\"</strong>\n",
      "                     /original_id=\"NIWA2850\"\n",
      "                     /original_desc=\"Craniella microsigma cox1\"\n",
      "     CDS             <strong>join(1..786,1742..2092)</strong>\n",
      "                     /product=\"cytochrome c oxidase subunit I\"\n",
      "                     /codon_start=1\n",
      "                     /transl_table=4\n",
      "                     <strong>/feature_id=\"denovo0_f0\"\n",
      "                     /translation=\"MIGTGFSLLIRLELSAPGLMLGDDHLYNVMVTAHGLIMVFFLVMP\n",
      "                     VMIGGFGNWMVPLYIGAPDMAFPRLNNISFWVLPPSLILLLGSAFVEQGVGTGWTLYPP\n",
      "                     LSSIQAHSGGSVDAAIFSLHLAGISSILGAMNFITTIFNMRAPGITMDRLPLFVWSILI\n",
      "                     TTYLLLLALPVLAGAITMLLTDRNFNTTFFDPAGGGDPILFQHLFWFFGHPEVYVLVLP\n",
      "                     GFGIVSQIIPTFAAKKQIFGYLGMVYAMVSIGILGFIVWAHHMFTVGMDADSRAYFSAA\n",
      "                     TMIIAVPTGIKIFSWIATVVGGSLRIDTPMLWAMGFVFLFTVGGLTGIVVASNSLDVLL\n",
      "                     HDTYYVVAHFHYVLSMGAIFAIFGGVYYWFGKITGYCYN\"</strong>\n",
      "                     /gene=\"cox1\"\n",
      "                     /organism=\"Craniella microsigma\"\n",
      "ORIGIN\n",
      "        1 atgataggaa ctggatttag cttgcttatt agattagaac tatccgctcc cggattaatg\n",
      "       61 ttgggtgacg accatttata caatgttatg gtcacggccc acggtcttat aatggtcttt\n",
      "      121 ttcttagtta tgccggttat gataggtggg ttcggtaatt gaatggttcc cctttacatc\n",
      "      181 ggggcaccgg atatggcttt tccaagatta aacaatatta gtttttgagt tttacccccc\n",
      "      [..Some sequence lines deleted for presentation...]\n",
      "</pre>"
     ]
    },
    {
     "cell_type": "markdown",
     "metadata": {},
     "source": [
      "### Edit the qualifiers"
     ]
    },
    {
     "cell_type": "code",
     "collapsed": false,
     "input": [
      "# Copy the 'organism' source qualifier into each of the features so that it can be manipulated\n",
      "# it will be used to name the tree leaves\n",
      "\n",
      "db.add_qualifier_from_source('organism')\n",
      "\n",
      "# Create a 'genus' qualifier for each of the feature and take the value from the 'organism' qualifier\n",
      "# it will be used to determine clades' background colours\n",
      "\n",
      "for genus in ['Cinachyrella','Cinachyra','Amphitethya','Paratetilla','Acanthotetilla',\n",
      "              'Fangophilina', 'Tetilla','Craniella']:\n",
      "    db.if_this_then_that(genus, 'organism', genus, 'genus', mode='part')\n",
      "\n",
      "for genus in ['Geodia','Pachymatisma','Calthropella','Thenea','Theonella']:\n",
      "    db.if_this_then_that(genus, 'organism', 'Astrophorid', 'genus', mode='part')    \n",
      "\n",
      "# Put a value in the 'gene' qualifier for features that \n",
      "# don't have a 'gene' qualifier based on the 'product' qualifier.\n",
      "# Make sure to include these values in the loci aliases\n",
      "\n",
      "fix_gene_qualifier = [['18S ribosomal RNA', 'product', 'SSU rRNA', 'gene'],\n",
      "                      ['28S ribosomal RNA', 'product', 'LSU rRNA', 'gene'],\n",
      "                      ['AM076987.1_f1','feature_id','LAGLIDADG','gene']]\n",
      "for fix in fix_gene_qualifier:\n",
      "    db.if_this_then_that(fix[0], fix[1], fix[2], fix[3])\n",
      "\n",
      "\n",
      "# Copy the 'specimen_voucher' qualifier from the source feature\n",
      "# to each of the features so that it can be manipulated\n",
      "# It will be used as OTU indicator (i.e., to indicate different loci that belong to the same\n",
      "# leaf of the tree and should be concatenated\n",
      "\n",
      "db.add_qualifier_from_source('specimen_voucher')\n",
      "\n",
      "# Add missing/ correct wrong specimen vouchers according to feature id\n",
      "\n",
      "add_specimen_voucher = [[['JX177968.1_f0'],'specimen_voucher','QMG_321405'],\n",
      "                        [['JX177913.1_f0',\n",
      "                          'JX177935.1_f0',\n",
      "                          'JX177965.1_f0'],'specimen_voucher','TAU_25617'],\n",
      "                        [['JX177903.1_f0',\n",
      "                          'JX177938.1_f0'],'specimen_voucher','TAU_25618'],\n",
      "                        [['HM032740.1_f0',\n",
      "                          'JX177964.1_f0'],'specimen_voucher','TAU_25621'],\n",
      "                        [['HM032739.1_f0',\n",
      "                          'JX177962.1_f0'],'specimen_voucher','TAU_25622'],\n",
      "                        [['JX177968.1_f0'],'specimen_voucher','QMG_321405'],\n",
      "                        [['JX177891.1_f0'],'specimen_voucher','RMNH_POR_3100'],\n",
      "                        [['JX177900.1_f0',\n",
      "                          'JX177926.1_f0'],'specimen_voucher','TAU_25620'],\n",
      "                        [['JX177901.1_f0',\n",
      "                          'JX177961.1_f0',\n",
      "                          'JX177956.1_f0'],'specimen_voucher','TAU_25619'],\n",
      "                        [['HM032742.1_f0',\n",
      "                          'JX177957.1_f0'],'specimen_voucher','MNRJ_576']]\n",
      "for add in add_specimen_voucher:\n",
      "    db.add_qualifier(add[0],add[1],add[2])\n",
      "\n",
      "# Reformat specimen voucher according to the specimen voucher\n",
      "\n",
      "correct_specimen_voucher = [['QMG321405','specimen_voucher','QMG_321405','specimen_voucher'],\n",
      "                            ['MHNM 16194','specimen_voucher','MHNM_16194','specimen_voucher'],\n",
      "                            ['TAU 25456','specimen_voucher','TAU_25456','specimen_voucher'],\n",
      "                            ['QMG320636','specimen_voucher','QMG_320636','specimen_voucher'],\n",
      "                            ['QMG320270','specimen_voucher','QMG_320270','specimen_voucher'],\n",
      "                            ['ZMBN:85239','specimen_voucher','ZMBN_85239','specimen_voucher'],\n",
      "                            ['QMG318785','specimen_voucher','QMG_318785','specimen_voucher'],\n",
      "                            ['QMG316342','specimen_voucher','QMG_316342','specimen_voucher'],\n",
      "                            ['QMG314224','specimen_voucher','QMG_314224','specimen_voucher'],\n",
      "                            ['VM14754','specimen_voucher','VM_14754','specimen_voucher'],\n",
      "                            ['ZMBN:85240','specimen_voucher','ZMBN_85240','specimen_voucher'],\n",
      "                            ['ZMBN:81789','specimen_voucher','ZMBN_81789','specimen_voucher'],\n",
      "                            ['ZMBN:81787','specimen_voucher','ZMBN_81787','specimen_voucher'],\n",
      "                            ['ZMBN:81785','specimen_voucher','ZMBN_81785','specimen_voucher']]\n",
      "for correction in correct_specimen_voucher:\n",
      "    db.if_this_then_that(correction[0],correction[1],correction[2],correction[3])\n",
      "\n",
      "# Make a qualifier that will be used to concatenate OTU sequences\n",
      "\n",
      "db.copy_paste_within_feature('specimen_voucher','OTU_dict')\n",
      "\n",
      "# Add missing values to the OTU dictionary\n",
      "\n",
      "add_to_concatenation_dict=[[['AY737635.1_f0',\n",
      "                             'AY320032.1_f0'],'OTU_dict','Geodia_neptuni'],\n",
      "                           [['EF564339.1_f0',\n",
      "                             'HM592832.1_f0'],'OTU_dict','Pachymatisma_johnstonia'],\n",
      "                           [['HM592717.1_f0',\n",
      "                             'HM592765.1_f0'],'OTU_dict','Thenea_levis'],\n",
      "                           [['HM592745.1_f0',\n",
      "                             'HM592820.1_f0'],'OTU_dict','Theonella_swinhoei'],\n",
      "                           [['KC762708.1_f0',\n",
      "                             'NC_010198.1_f0'],'OTU_dict','Cinachyrella_kuekenthali'],\n",
      "                           [['HM592705.1_f0',\n",
      "                             'HM592826.1_f0'],'OTU_dict','Calthropella_geodioides']]\n",
      "\n",
      "for add in add_to_concatenation_dict:\n",
      "    db.add_qualifier(add[0],add[1],add[2])\n",
      "\n",
      "# add morphological info\n",
      "\n",
      "have_porocalices = ['Cinachyrella','Cinachyra','Paratetilla','Fangophilina','Acanthotetilla','Amphitethya']\n",
      "no_porocalices = ['Tetilla','Craniella']\n",
      "have_cortex = ['Craniella','Cinachyra','Fangophilina']\n",
      "lack_cortex = ['Cinachyrella','Tetilla', 'Paratetilla','Acanthotetilla','Amphitethya']\n",
      "have_calthrops = ['Paratetilla']\n",
      "lack_calthrops = ['Cinachyrella','Cinachyra','Fangophilina','Acanthotetilla','Amphitethya','Tetilla','Craniella']\n",
      "\n",
      "for g in have_porocalices:\n",
      "    db.if_this_then_that(g,'genus',2,'porocalices')\n",
      "for g in no_porocalices:\n",
      "    db.if_this_then_that(g,'genus',1,'porocalices')\n",
      "    \n",
      "for g in have_cortex:\n",
      "    db.if_this_then_that(g,'genus',2,'cortex')\n",
      "for g in lack_cortex:\n",
      "    db.if_this_then_that(g,'genus',1,'cortex')\n",
      "    \n",
      "for g in have_calthrops:\n",
      "    db.if_this_then_that(g,'genus',2,'calthrops')\n",
      "for g in lack_calthrops:\n",
      "    db.if_this_then_that(g,'genus',1,'calthrops')\n",
      "\n",
      "#if not g in Tetillidae:\n",
      "#    db.if_this_then_that(g,'genus',0,'porocalices')\n",
      "#    db.if_this_then_that(g,'genus',0,'cortex')\n",
      "#    db.if_this_then_that(g,'genus',0,'calthrops')\n",
      "# Export the database\n",
      "\n",
      "db.write('Tet_Repro.csv', format = 'csv')\n",
      "db.write('Tet_Repro.gb', format = 'genbank')\n",
      "\n",
      "# Check that your changes have been recorded"
     ],
     "language": "python",
     "metadata": {},
     "outputs": [],
     "prompt_number": 5
    },
    {
     "cell_type": "markdown",
     "metadata": {},
     "source": [
      "### Example of entry with edited qualifiers in bold\n",
      "\n",
      "<pre>\n",
      "LOCUS       JX177987                1108 bp    DNA              INV 05-SEP-2013\n",
      "DEFINITION  Craniella cranium voucher ZMBN_85239 18S ribosomal RNA gene, partial\n",
      "            sequence.\n",
      "ACCESSION   JX177987\n",
      "VERSION     JX177987.1  GI:392932935\n",
      "KEYWORDS    .\n",
      "SOURCE      Craniella cranium\n",
      "  ORGANISM  Craniella cranium\n",
      "            Eukaryota; Metazoa; Porifera; Demospongiae; Tetractinomorpha;\n",
      "            Spirophorida; Tetillidae; Craniella.\n",
      "[..Some annotation lines deleted for presentation...]\n",
      "\n",
      "FEATURES             Location/Qualifiers\n",
      "     source          1..1108\n",
      "                     /identified_by=\"Paco Cardenas & Hans Tore Rap\"\n",
      "                     /feature_id=\"JX177987.1_source\"\n",
      "                     /mol_type=\"genomic DNA\"\n",
      "                     /country=\"Norway\"\n",
      "                     /note=\"authority: Craniella cranium (Mueller, 1776)\"\n",
      "                     /db_xref=\"taxon:1006792\"\n",
      "                     /specimen_voucher=\"ZMBN_85239\"\n",
      "                     /organism=\"Craniella cranium\"\n",
      "     rRNA            <1..>1108\n",
      "                     /product=\"18S ribosomal RNA\"\n",
      "                     /gene=\"SSU rRNA\"\n",
      "                     <strong>/specimen_voucher=\"ZMBN_85239\"</strong>\n",
      "                     <strong>/OTU_dict=\"ZMBN_85239\"</strong>\n",
      "                     /feature_id=\"JX177987.1_f0\"\n",
      "                     <strong>/genus=\"Craniella\"</strong>\n",
      "                     <strong>/organism=\"Craniella cranium\"</strong>\n",
      "ORIGIN\n",
      "        1 tcatatgctt gtctcaaaga ctaagccatg catgtccaag tatgaacgct tcgtactgtg\n",
      "       61 aaactgcgaa tggctcatta aatcagttat agtttatttg atggtcgttt tgctacatgg\n",
      "      121 ataactgtgg taattctaga gctaatacat gcacaaggtc ccgactctcg gaagggacgt\n",
      "      181 atttattaga tccaaaacca gcgcgggtgg cctctcgggg tgcccggtac ctgggcgatt\n",
      "      [..Some sequence lines deleted for presentation...]\n",
      "//\n",
      "</pre>"
     ]
    },
    {
     "cell_type": "markdown",
     "metadata": {},
     "source": [
      "### Brake down the records by locus"
     ]
    },
    {
     "cell_type": "code",
     "collapsed": false,
     "input": [
      "# form sequence records for each locus\n",
      "\n",
      "db.extract_by_locus()"
     ],
     "language": "python",
     "metadata": {},
     "outputs": [],
     "prompt_number": 6
    },
    {
     "cell_type": "markdown",
     "metadata": {},
     "source": [
      "### Define how to align each locus"
     ]
    },
    {
     "cell_type": "code",
     "collapsed": false,
     "input": [
      "rRNA_set = ['18S','28S']\n",
      "\n",
      "# coi will be aligned with mafft L-ins-i, which is the default. By default, will do codon alignment to CDSs\n",
      "\n",
      "linsi = AlnConf(db, loci=['coi'])\n",
      "\n",
      "# 18s and 28s, put together in the rRNA_set list, will be aligned with muscle with default parameters\n",
      "\n",
      "muscle = AlnConf(db, method_name='MuscleDefaults',\n",
      "                         cmd='muscle', program_name='muscle',\n",
      "                         cline_args=dict())"
     ],
     "language": "python",
     "metadata": {},
     "outputs": [
      {
       "output_type": "stream",
       "stream": "stdout",
       "text": [
        "mafft --localpair --maxiterate 1000 339641412284350.77_CDS_proteins_coi.fasta\n",
        "muscle -in 139881412284350.81_CDS_proteins_coi.fasta\n",
        "muscle -in 139881412284350.81_28S.fasta\n",
        "muscle -in 139881412284350.81_18S.fasta\n"
       ]
      }
     ],
     "prompt_number": 7
    },
    {
     "cell_type": "markdown",
     "metadata": {},
     "source": [
      "### Align the loci"
     ]
    },
    {
     "cell_type": "code",
     "collapsed": false,
     "input": [
      "db.align(alignment_methods=[linsi, muscle])"
     ],
     "language": "python",
     "metadata": {},
     "outputs": [],
     "prompt_number": 8
    },
    {
     "cell_type": "markdown",
     "metadata": {},
     "source": [
      "### Mask ambigiously alignmed positions - To Do"
     ]
    },
    {
     "cell_type": "code",
     "collapsed": false,
     "input": [
      "gappyout = TrimalConf(db)"
     ],
     "language": "python",
     "metadata": {},
     "outputs": [
      {
       "output_type": "stream",
       "stream": "stdout",
       "text": [
        "trimal -in 166171412284377.35_coi@MuscleDefaults.fasta -gappyout\n",
        "trimal -in 166171412284377.35_28S@MuscleDefaults.fasta -gappyout\n",
        "trimal -in 166171412284377.35_18S@MuscleDefaults.fasta -gappyout\n",
        "trimal -in 166171412284377.35_coi@MafftLinsi.fasta -gappyout\n"
       ]
      }
     ],
     "prompt_number": 9
    },
    {
     "cell_type": "code",
     "collapsed": false,
     "input": [
      "db.trim([gappyout])"
     ],
     "language": "python",
     "metadata": {},
     "outputs": [],
     "prompt_number": 11
    },
    {
     "cell_type": "markdown",
     "metadata": {},
     "source": [
      "### Define how to concatenate the loci"
     ]
    },
    {
     "cell_type": "code",
     "collapsed": false,
     "input": [
      "# Concatenation objects are used to tell reprophylo how to concatenate the loci\n",
      "# They provide tools to set rules regarding which loci/OTUs to include\n",
      "\n",
      "combined = Concatenation(name='combined', loci=db.loci, otu_meta='OTU_dict',\n",
      "               concat_must_have_all_of=['coi'], concat_must_have_one_of =[['18S','28S']], define_trimmed_alns=[\"MuscleDefaults@gappyout\"])\n",
      "\n",
      "\n",
      "combined_strict = Concatenation(name='combinedstrict', loci=db.loci, otu_meta='OTU_dict',\n",
      "               concat_must_have_all_of=['coi','28S'], concat_must_have_one_of =[], define_trimmed_alns=[\"MuscleDefaults@gappyout\"])\n",
      "\n",
      "# could be e.g. concat_must_have_one_of =[['18S','28S'],['alg11','nd5']] to except an out with 18S and nd5\n",
      "# but without 28S and alg11"
     ],
     "language": "python",
     "metadata": {},
     "outputs": [],
     "prompt_number": 14
    },
    {
     "cell_type": "markdown",
     "metadata": {},
     "source": [
      "### Concatenate the loci based on the definitions above"
     ]
    },
    {
     "cell_type": "code",
     "collapsed": false,
     "input": [
      "for c in (combined, combined_strict):\n",
      "    db.add_concatenation(c)\n",
      "db.make_concatenation_alignments()"
     ],
     "language": "python",
     "metadata": {},
     "outputs": [],
     "prompt_number": 15
    },
    {
     "cell_type": "markdown",
     "metadata": {},
     "source": [
      "### Run the trees"
     ]
    },
    {
     "cell_type": "code",
     "collapsed": false,
     "input": [
      "raxml_method_loci = RaxmlConf(db, method_name='fa', program_name='raxmlHPC-PTHREADS-SSE3',\n",
      "                 cmd='raxmlHPC-PTHREADS-SSE3',\n",
      "                 preset = 'fa',\n",
      "                 alns=['coi@MuscleDefaults@gappyout',\n",
      "                       'coi@MafftLinsi@gappyout',\n",
      "                       '18S@MuscleDefaults@gappyout',\n",
      "                       '28S@MuscleDefaults@gappyout'],\n",
      "                 model='GAMMA', matrix='JTT',\n",
      "                 threads=5,\n",
      "                 cline_args={'-#': 3})\n",
      "\n",
      "raxml_method_concat = RaxmlConf(db, method_name='fD_fb', program_name='raxmlHPC-PTHREADS-SSE3',\n",
      "                 cmd='raxmlHPC-PTHREADS-SSE3', preset = 'fD_fb', alns=['combined','combinedstrict'], model='GAMMA', matrix='JTT', threads=5,\n",
      "                 cline_args={'-N': 1})"
     ],
     "language": "python",
     "metadata": {},
     "outputs": [
      {
       "output_type": "stream",
       "stream": "stdout",
       "text": [
        "raxmlHPC-PTHREADS-SSE3 -f a -m GTRGAMMA -n 165491412284420.75_28S@MuscleDefaults@gappyout0 -p 565 -s 165491412284420.75_28S@MuscleDefaults@gappyout.fasta -T 5 -x 616 -N 3\n",
        "raxmlHPC-PTHREADS-SSE3 -f a -m GTRGAMMA -n 165491412284420.75_coi@MafftLinsi@gappyout0 -p 638 -s 165491412284420.75_coi@MafftLinsi@gappyout.fasta -T 5 -x 433 -N 3\n",
        "raxmlHPC-PTHREADS-SSE3 -f a -m GTRGAMMA -n 165491412284420.75_coi@MuscleDefaults@gappyout0 -p 626 -s 165491412284420.75_coi@MuscleDefaults@gappyout.fasta -T 5 -x 557 -N 3\n",
        "raxmlHPC-PTHREADS-SSE3 -f a -m GTRGAMMA -n 165491412284420.75_18S@MuscleDefaults@gappyout0 -p 864 -s 165491412284420.75_18S@MuscleDefaults@gappyout.fasta -T 5 -x 664 -N 3\n",
        "raxmlHPC-PTHREADS-SSE3 -f D -m PROTGAMMAJTT -n 700111412284420.75_combinedstrict0 -q 700111412284420.75_combinedstrict_partfile -p 584 -s 700111412284420.75_combinedstrict.fasta -T 5 -N 1\n",
        "raxmlHPC-PTHREADS-SSE3 -f b -m PROTGAMMAJTT -n 700111412284420.75_combinedstrict1 -q 700111412284420.75_combinedstrict_partfile -p 578 -s 700111412284420.75_combinedstrict.fasta -t RAxML_bestTree.700111412284420.75_combinedstrict0 -T 5 -z RAxML_rellBootstrap.700111412284420.75_combinedstrict0\n",
        "raxmlHPC-PTHREADS-SSE3 -f D -m PROTGAMMAJTT -n 700111412284420.75_combined0 -q 700111412284420.75_combined_partfile -p 349 -s 700111412284420.75_combined.fasta -T 5 -N 1\n",
        "raxmlHPC-PTHREADS-SSE3 -f b -m PROTGAMMAJTT -n 700111412284420.75_combined1 -q 700111412284420.75_combined_partfile -p 682 -s 700111412284420.75_combined.fasta -t RAxML_bestTree.700111412284420.75_combined0 -T 5 -z RAxML_rellBootstrap.700111412284420.75_combined0\n"
       ]
      }
     ],
     "prompt_number": 16
    },
    {
     "cell_type": "code",
     "collapsed": false,
     "input": [
      "db.tree([raxml_method_loci, raxml_method_concat])\n",
      "\n",
      "for t in db.trees.keys():\n",
      "    print db.trees[t][0].tree_method_id, db.trees[t][1][:30]+'...'"
     ],
     "language": "python",
     "metadata": {},
     "outputs": [
      {
       "output_type": "stream",
       "stream": "stdout",
       "text": [
        "165491412284420.75_18S@MuscleDefaults@gappyout (KC762720.1_f0:0.0151017[&&NHX...\n",
        "700111412284420.75_combined ((QMG_320636:0.00269938[&&NHX:...\n",
        "165491412284420.75_coi@MuscleDefaults@gappyout ((JX177875.1_f0:0.00204869[&&N...\n",
        "700111412284420.75_combinedstrict (NIWA_28507:9.30884e-07[&&NHX:...\n",
        "165491412284420.75_28S@MuscleDefaults@gappyout ((((JX177944.1_f0:0.0026154[&&...\n",
        "165491412284420.75_coi@MafftLinsi@gappyout (HM032748.2_f0:1.40553e-06[&&N...\n"
       ]
      }
     ],
     "prompt_number": 17
    },
    {
     "cell_type": "markdown",
     "metadata": {},
     "source": [
      "### Annotate the trees"
     ]
    },
    {
     "cell_type": "code",
     "collapsed": false,
     "input": [
      "db.clear_tree_annotations()\n",
      "\n",
      "\n",
      "genera_colors = {'Astrophorid': 'black',\n",
      "                 'Cinachyrella': 'black',\n",
      "                 'Paratetilla': 'blue', # Made a change here\n",
      "                 'Amphitethya': 'black',\n",
      "                 'Tetilla': 'black',        \n",
      "                 'Cinachyra': 'black',\n",
      "                 'Acanthotetilla': 'black',\n",
      "                 'Fangophilina': 'black',\n",
      "                 'Craniella': 'black'\n",
      "                 }\n",
      "\n",
      "supports = {'black':[100,99],\n",
      "            'dimgray':[99,75],\n",
      "            'silver':[75,50]}\n",
      "\n",
      "db.annotate('/home/amir/Dropbox/ReproPhylo',root_meta = 'genus',\n",
      "            root_value = 'Astrophorid',\n",
      "            leaf_labels_txt_meta=['organism','feature_id'],\n",
      "            #leaf_node_color_meta='organism', \n",
      "            #leaf_label_colors=genera_colors,\n",
      "\n",
      "            node_support_dict = supports,\n",
      "            #multifruc=90,\n",
      "            \n",
      "            #heat_map_meta = ['porocalices','cortex','calthrops'],\n",
      "            #heat_map_colour_scheme = 0\n",
      "            )\n",
      "\n",
      "\n"
     ],
     "language": "python",
     "metadata": {},
     "outputs": [
      {
       "output_type": "stream",
       "stream": "stdout",
       "text": [
        "<html>\n",
        "<A href=file:///home/amir/Dropbox/ReproPhylo/165491412284420.75_18S@MuscleDefaults@gappyout.png>165491412284420.75_18S@MuscleDefaults@gappyout</A><BR>"
       ]
      },
      {
       "output_type": "stream",
       "stream": "stdout",
       "text": [
        "\n",
        "<A href=file:///home/amir/Dropbox/ReproPhylo/700111412284420.75_combined.png>700111412284420.75_combined</A><BR>"
       ]
      },
      {
       "output_type": "stream",
       "stream": "stdout",
       "text": [
        "\n",
        "<A href=file:///home/amir/Dropbox/ReproPhylo/165491412284420.75_coi@MuscleDefaults@gappyout.png>165491412284420.75_coi@MuscleDefaults@gappyout</A><BR>"
       ]
      },
      {
       "output_type": "stream",
       "stream": "stdout",
       "text": [
        "\n",
        "<A href=file:///home/amir/Dropbox/ReproPhylo/700111412284420.75_combinedstrict.png>700111412284420.75_combinedstrict</A><BR>"
       ]
      },
      {
       "output_type": "stream",
       "stream": "stdout",
       "text": [
        "\n",
        "<A href=file:///home/amir/Dropbox/ReproPhylo/165491412284420.75_28S@MuscleDefaults@gappyout.png>165491412284420.75_28S@MuscleDefaults@gappyout</A><BR>"
       ]
      },
      {
       "output_type": "stream",
       "stream": "stdout",
       "text": [
        "\n",
        "<A href=file:///home/amir/Dropbox/ReproPhylo/165491412284420.75_coi@MafftLinsi@gappyout.png>165491412284420.75_coi@MafftLinsi@gappyout</A><BR>"
       ]
      },
      {
       "output_type": "stream",
       "stream": "stdout",
       "text": [
        "\n",
        "</html>\n",
        "/home/amir/Dropbox/ReproPhylo\n"
       ]
      }
     ],
     "prompt_number": 18
    },
    {
     "cell_type": "code",
     "collapsed": false,
     "input": [
      "import shutil\n",
      "path = '/home/amir/Dropbox/ReproPhylo/db_output'\n",
      "if os.path.exists(path):\n",
      "    shutil.rmtree(path)\n",
      "if os.path.exists(path+'.zip'):\n",
      "    os.remove(path+'.zip')"
     ],
     "language": "python",
     "metadata": {},
     "outputs": [],
     "prompt_number": 19
    },
    {
     "cell_type": "code",
     "collapsed": false,
     "input": [
      "publish(db, \"db_output\", '/home/amir/Dropbox/ReproPhylo')"
     ],
     "language": "python",
     "metadata": {},
     "outputs": [
      {
       "output_type": "stream",
       "stream": "stderr",
       "text": [
        "/usr/local/lib/python2.7/dist-packages/pandas/io/excel.py:626: UserWarning: Installed openpyxl is not supported at this time. Use >=1.6.1 and <2.0.0.\n",
        "  .format(openpyxl_compat.start_ver, openpyxl_compat.stop_ver))\n",
        "DEBUG:Cloud:Log file (/home/amir/.picloud/cloud.log) opened\n"
       ]
      },
      {
       "output_type": "stream",
       "stream": "stderr",
       "text": [
        "DEBUG:Cloud:Deleting 6141.lock (56.3344876139 days old)\n"
       ]
      },
      {
       "output_type": "stream",
       "stream": "stderr",
       "text": [
        "DEBUG:Cloud:Deleting 6547.log (56.3245535395 days old)\n"
       ]
      },
      {
       "output_type": "stream",
       "stream": "stderr",
       "text": [
        "DEBUG:Cloud:Deleting 6110.log (62.4629000053 days old)\n"
       ]
      },
      {
       "output_type": "stream",
       "stream": "stderr",
       "text": [
        "DEBUG:Cloud:Deleting 7093.log (62.3997716957 days old)\n"
       ]
      },
      {
       "output_type": "stream",
       "stream": "stderr",
       "text": [
        "DEBUG:Cloud:Deleting 10804.log (62.2791435018 days old)\n"
       ]
      },
      {
       "output_type": "stream",
       "stream": "stderr",
       "text": [
        "DEBUG:Cloud:Deleting 7107.lock (62.399366742 days old)\n"
       ]
      },
      {
       "output_type": "stream",
       "stream": "stderr",
       "text": [
        "DEBUG:Cloud:Deleting 6991.log (62.4069711401 days old)\n"
       ]
      },
      {
       "output_type": "stream",
       "stream": "stderr",
       "text": [
        "DEBUG:Cloud:Deleting 6374.lock (62.4605747738 days old)\n"
       ]
      },
      {
       "output_type": "stream",
       "stream": "stderr",
       "text": [
        "DEBUG:Cloud:Deleting 7000.lock (56.3170490022 days old)\n"
       ]
      },
      {
       "output_type": "stream",
       "stream": "stderr",
       "text": [
        "DEBUG:Cloud:Deleting 10804.lock (62.2791435018 days old)\n"
       ]
      },
      {
       "output_type": "stream",
       "stream": "stderr",
       "text": [
        "DEBUG:Cloud:Deleting 6537.log (56.3247477525 days old)\n"
       ]
      },
      {
       "output_type": "stream",
       "stream": "stderr",
       "text": [
        "DEBUG:Cloud:Deleting 8465.lock (62.348671557 days old)\n"
       ]
      },
      {
       "output_type": "stream",
       "stream": "stderr",
       "text": [
        "DEBUG:Cloud:Deleting 3862.lock (56.3988134062 days old)\n"
       ]
      },
      {
       "output_type": "stream",
       "stream": "stderr",
       "text": [
        "DEBUG:Cloud:Deleting 5670.lock (62.4789831997 days old)\n"
       ]
      },
      {
       "output_type": "stream",
       "stream": "stderr",
       "text": [
        "DEBUG:Cloud:Deleting 7092.log (56.3169098818 days old)\n"
       ]
      },
      {
       "output_type": "stream",
       "stream": "stderr",
       "text": [
        "DEBUG:Cloud:Deleting 5344.log (62.4829891256 days old)\n"
       ]
      },
      {
       "output_type": "stream",
       "stream": "stderr",
       "text": [
        "DEBUG:Cloud:Deleting 7364.log (62.3876592883 days old)\n"
       ]
      },
      {
       "output_type": "stream",
       "stream": "stderr",
       "text": [
        "DEBUG:Cloud:Deleting 7104.lock (56.3167907151 days old)\n"
       ]
      },
      {
       "output_type": "stream",
       "stream": "stderr",
       "text": [
        "DEBUG:Cloud:Deleting 10373.log (62.2959060943 days old)\n"
       ]
      },
      {
       "output_type": "stream",
       "stream": "stderr",
       "text": [
        "DEBUG:Cloud:Deleting 7335.lock (62.3898327143 days old)\n"
       ]
      },
      {
       "output_type": "stream",
       "stream": "stderr",
       "text": [
        "DEBUG:Cloud:Deleting 6023.lock (56.3373752529 days old)\n"
       ]
      },
      {
       "output_type": "stream",
       "stream": "stderr",
       "text": [
        "DEBUG:Cloud:Deleting 6457.log (62.4595489868 days old)\n"
       ]
      },
      {
       "output_type": "stream",
       "stream": "stderr",
       "text": [
        "DEBUG:Cloud:Deleting 8488.lock (62.3485768348 days old)\n"
       ]
      },
      {
       "output_type": "stream",
       "stream": "stderr",
       "text": [
        "DEBUG:Cloud:Deleting 6684.log (56.3240509469 days old)\n"
       ]
      },
      {
       "output_type": "stream",
       "stream": "stderr",
       "text": [
        "DEBUG:Cloud:Deleting 10347.lock (62.2972264646 days old)\n"
       ]
      },
      {
       "output_type": "stream",
       "stream": "stderr",
       "text": [
        "DEBUG:Cloud:Deleting 8724.log (62.3450166959 days old)\n"
       ]
      },
      {
       "output_type": "stream",
       "stream": "stderr",
       "text": [
        "DEBUG:Cloud:Deleting 9458.log (62.3353027608 days old)\n"
       ]
      },
      {
       "output_type": "stream",
       "stream": "stderr",
       "text": [
        "DEBUG:Cloud:Deleting 7053.log (62.3527479922 days old)\n"
       ]
      },
      {
       "output_type": "stream",
       "stream": "stderr",
       "text": [
        "DEBUG:Cloud:Deleting 6092.lock (62.4630434312 days old)\n"
       ]
      },
      {
       "output_type": "stream",
       "stream": "stderr",
       "text": [
        "DEBUG:Cloud:Deleting 9041.log (62.339784983 days old)\n"
       ]
      },
      {
       "output_type": "stream",
       "stream": "stderr",
       "text": [
        "DEBUG:Cloud:Deleting 10680.log (62.2807403073 days old)\n"
       ]
      },
      {
       "output_type": "stream",
       "stream": "stderr",
       "text": [
        "DEBUG:Cloud:Deleting 6141.log (56.3344876139 days old)\n"
       ]
      },
      {
       "output_type": "stream",
       "stream": "stderr",
       "text": [
        "DEBUG:Cloud:Deleting 8368.log (62.3499229922 days old)\n"
       ]
      },
      {
       "output_type": "stream",
       "stream": "stderr",
       "text": [
        "DEBUG:Cloud:Deleting 7092.lock (56.3169098818 days old)\n"
       ]
      },
      {
       "output_type": "stream",
       "stream": "stderr",
       "text": [
        "DEBUG:Cloud:Deleting 9716.log (62.3231302608 days old)\n"
       ]
      },
      {
       "output_type": "stream",
       "stream": "stderr",
       "text": [
        "DEBUG:Cloud:Deleting 6932.log (56.3178102985 days old)\n"
       ]
      },
      {
       "output_type": "stream",
       "stream": "stderr",
       "text": [
        "DEBUG:Cloud:Deleting 8724.lock (62.3450166959 days old)\n"
       ]
      },
      {
       "output_type": "stream",
       "stream": "stderr",
       "text": [
        "DEBUG:Cloud:Deleting 3875.log (56.3985068321 days old)\n"
       ]
      },
      {
       "output_type": "stream",
       "stream": "stderr",
       "text": [
        "DEBUG:Cloud:Deleting 10495.log (62.2933328073 days old)\n"
       ]
      },
      {
       "output_type": "stream",
       "stream": "stderr",
       "text": [
        "DEBUG:Cloud:Deleting 5094.log (62.4895370422 days old)\n"
       ]
      },
      {
       "output_type": "stream",
       "stream": "stderr",
       "text": [
        "DEBUG:Cloud:Deleting 10680.lock (62.2807403073 days old)\n"
       ]
      },
      {
       "output_type": "stream",
       "stream": "stderr",
       "text": [
        "DEBUG:Cloud:Deleting 6885.lock (56.3213285394 days old)\n"
       ]
      },
      {
       "output_type": "stream",
       "stream": "stderr",
       "text": [
        "DEBUG:Cloud:Deleting 5635.log (62.4791573201 days old)\n"
       ]
      },
      {
       "output_type": "stream",
       "stream": "stderr",
       "text": [
        "DEBUG:Cloud:Deleting 10922.lock (62.2768572518 days old)\n"
       ]
      },
      {
       "output_type": "stream",
       "stream": "stderr",
       "text": [
        "DEBUG:Cloud:Deleting 7254.log (62.3929106309 days old)\n"
       ]
      },
      {
       "output_type": "stream",
       "stream": "stderr",
       "text": [
        "DEBUG:Cloud:Deleting 6428.log (56.3258915025 days old)\n"
       ]
      },
      {
       "output_type": "stream",
       "stream": "stderr",
       "text": [
        "DEBUG:Cloud:Deleting 6348.log (56.3270870581 days old)\n"
       ]
      },
      {
       "output_type": "stream",
       "stream": "stderr",
       "text": [
        "DEBUG:Cloud:Deleting 5344.lock (62.4829891256 days old)\n"
       ]
      },
      {
       "output_type": "stream",
       "stream": "stderr",
       "text": [
        "DEBUG:Cloud:Deleting 9817.log (62.3225296127 days old)\n"
       ]
      },
      {
       "output_type": "stream",
       "stream": "stderr",
       "text": [
        "DEBUG:Cloud:Deleting 7335.log (62.3898327143 days old)\n"
       ]
      },
      {
       "output_type": "stream",
       "stream": "stderr",
       "text": [
        "DEBUG:Cloud:Deleting 9716.lock (62.3231302608 days old)\n"
       ]
      },
      {
       "output_type": "stream",
       "stream": "stderr",
       "text": [
        "DEBUG:Cloud:Deleting 6428.lock (56.3258915025 days old)\n"
       ]
      },
      {
       "output_type": "stream",
       "stream": "stderr",
       "text": [
        "DEBUG:Cloud:Deleting 8337.log (62.3512277607 days old)\n"
       ]
      },
      {
       "output_type": "stream",
       "stream": "stderr",
       "text": [
        "DEBUG:Cloud:Deleting 9310.lock (62.3382614182 days old)\n"
       ]
      },
      {
       "output_type": "stream",
       "stream": "stderr",
       "text": [
        "DEBUG:Cloud:Deleting 6381.lock (56.3262343729 days old)\n"
       ]
      },
      {
       "output_type": "stream",
       "stream": "stderr",
       "text": [
        "DEBUG:Cloud:Deleting 9041.lock (62.339784983 days old)\n"
       ]
      },
      {
       "output_type": "stream",
       "stream": "stderr",
       "text": [
        "DEBUG:Cloud:Deleting 6663.log (56.3242201136 days old)\n"
       ]
      },
      {
       "output_type": "stream",
       "stream": "stderr",
       "text": [
        "DEBUG:Cloud:Deleting 6684.lock (56.3240509469 days old)\n"
       ]
      },
      {
       "output_type": "stream",
       "stream": "stderr",
       "text": [
        "DEBUG:Cloud:Deleting 7218.lock (56.3121415946 days old)\n"
       ]
      },
      {
       "output_type": "stream",
       "stream": "stderr",
       "text": [
        "DEBUG:Cloud:Deleting 11163.lock (62.2745402147 days old)\n"
       ]
      },
      {
       "output_type": "stream",
       "stream": "stderr",
       "text": [
        "DEBUG:Cloud:Deleting 7000.log (56.3170490022 days old)\n"
       ]
      },
      {
       "output_type": "stream",
       "stream": "stderr",
       "text": [
        "DEBUG:Cloud:Deleting 8265.log (62.3519824366 days old)\n"
       ]
      },
      {
       "output_type": "stream",
       "stream": "stderr",
       "text": [
        "DEBUG:Cloud:Deleting 6113.log (56.3363533547 days old)\n"
       ]
      },
      {
       "output_type": "stream",
       "stream": "stderr",
       "text": [
        "DEBUG:Cloud:Deleting 4015.log (62.9886386287 days old)\n"
       ]
      },
      {
       "output_type": "stream",
       "stream": "stderr",
       "text": [
        "DEBUG:Cloud:Deleting 6092.log (62.4630434312 days old)\n"
       ]
      },
      {
       "output_type": "stream",
       "stream": "stderr",
       "text": [
        "DEBUG:Cloud:Deleting 6110.lock (62.4629000053 days old)\n"
       ]
      },
      {
       "output_type": "stream",
       "stream": "stderr",
       "text": [
        "DEBUG:Cloud:Deleting 6547.lock (56.3245535395 days old)\n"
       ]
      },
      {
       "output_type": "stream",
       "stream": "stderr",
       "text": [
        "DEBUG:Cloud:Deleting 11163.log (62.2745402147 days old)\n"
       ]
      },
      {
       "output_type": "stream",
       "stream": "stderr",
       "text": [
        "DEBUG:Cloud:Deleting 7147.log (56.3164081225 days old)\n"
       ]
      },
      {
       "output_type": "stream",
       "stream": "stderr",
       "text": [
        "DEBUG:Cloud:Deleting 9458.lock (62.3353027608 days old)\n"
       ]
      },
      {
       "output_type": "stream",
       "stream": "stderr",
       "text": [
        "DEBUG:Cloud:Deleting 9234.lock (62.3386919274 days old)\n"
       ]
      },
      {
       "output_type": "stream",
       "stream": "stderr",
       "text": [
        "DEBUG:Cloud:Deleting 8073.lock (62.3552995663 days old)\n"
       ]
      },
      {
       "output_type": "stream",
       "stream": "stderr",
       "text": [
        "DEBUG:Cloud:Deleting 6225.lock (62.462258246 days old)\n"
       ]
      },
      {
       "output_type": "stream",
       "stream": "stderr",
       "text": [
        "DEBUG:Cloud:Deleting 6348.lock (56.3270870581 days old)\n"
       ]
      },
      {
       "output_type": "stream",
       "stream": "stderr",
       "text": [
        "DEBUG:Cloud:Deleting 9208.log (62.3388795663 days old)\n"
       ]
      },
      {
       "output_type": "stream",
       "stream": "stderr",
       "text": [
        "DEBUG:Cloud:Deleting 4015.lock (62.9886386287 days old)\n"
       ]
      },
      {
       "output_type": "stream",
       "stream": "stderr",
       "text": [
        "DEBUG:Cloud:Deleting 10373.lock (62.2959060943 days old)\n"
       ]
      },
      {
       "output_type": "stream",
       "stream": "stderr",
       "text": [
        "DEBUG:Cloud:Deleting 8488.log (62.3485768348 days old)\n"
       ]
      },
      {
       "output_type": "stream",
       "stream": "stderr",
       "text": [
        "DEBUG:Cloud:Deleting 8337.lock (62.3512277607 days old)\n"
       ]
      },
      {
       "output_type": "stream",
       "stream": "stderr",
       "text": [
        "DEBUG:Cloud:Deleting 11040.lock (62.275944937 days old)\n"
       ]
      },
      {
       "output_type": "stream",
       "stream": "stderr",
       "text": [
        "DEBUG:Cloud:Deleting 7954.log (62.3557106311 days old)\n"
       ]
      },
      {
       "output_type": "stream",
       "stream": "stderr",
       "text": [
        "DEBUG:Cloud:Deleting 7451.lock (62.3857032698 days old)\n"
       ]
      },
      {
       "output_type": "stream",
       "stream": "stderr",
       "text": [
        "DEBUG:Cloud:Deleting 6991.lock (62.4069711401 days old)\n"
       ]
      },
      {
       "output_type": "stream",
       "stream": "stderr",
       "text": [
        "DEBUG:Cloud:Deleting 6663.lock (56.3242201136 days old)\n"
       ]
      },
      {
       "output_type": "stream",
       "stream": "stderr",
       "text": [
        "DEBUG:Cloud:Deleting 3862.log (56.3988134062 days old)\n"
       ]
      },
      {
       "output_type": "stream",
       "stream": "stderr",
       "text": [
        "DEBUG:Cloud:Deleting 10358.log (62.2966677609 days old)\n"
       ]
      },
      {
       "output_type": "stream",
       "stream": "stderr",
       "text": [
        "DEBUG:Cloud:Deleting 6256.lock (62.4621001442 days old)\n"
       ]
      },
      {
       "output_type": "stream",
       "stream": "stderr",
       "text": [
        "DEBUG:Cloud:Deleting 7129.log (56.3165702985 days old)\n"
       ]
      },
      {
       "output_type": "stream",
       "stream": "stderr",
       "text": [
        "DEBUG:Cloud:Deleting 10196.log (62.2983747517 days old)\n"
       ]
      },
      {
       "output_type": "stream",
       "stream": "stderr",
       "text": [
        "DEBUG:Cloud:Deleting 8611.log (62.34666952 days old)\n"
       ]
      },
      {
       "output_type": "stream",
       "stream": "stderr",
       "text": [
        "DEBUG:Cloud:Deleting 7218.log (56.3121415946 days old)\n"
       ]
      },
      {
       "output_type": "stream",
       "stream": "stderr",
       "text": [
        "DEBUG:Cloud:Deleting 7954.lock (62.3557106311 days old)\n"
       ]
      },
      {
       "output_type": "stream",
       "stream": "stderr",
       "text": [
        "DEBUG:Cloud:Deleting 9130.lock (62.3392245663 days old)\n"
       ]
      },
      {
       "output_type": "stream",
       "stream": "stderr",
       "text": [
        "DEBUG:Cloud:Deleting 6397.log (62.4603535701 days old)\n"
       ]
      },
      {
       "output_type": "stream",
       "stream": "stderr",
       "text": [
        "DEBUG:Cloud:Deleting 6131.lock (56.3346909473 days old)\n"
       ]
      },
      {
       "output_type": "stream",
       "stream": "stderr",
       "text": [
        "DEBUG:Cloud:Deleting 5635.lock (62.4791573201 days old)\n"
       ]
      },
      {
       "output_type": "stream",
       "stream": "stderr",
       "text": [
        "DEBUG:Cloud:Deleting 6381.log (56.3262343729 days old)\n"
       ]
      },
      {
       "output_type": "stream",
       "stream": "stderr",
       "text": [
        "DEBUG:Cloud:Deleting 7943.lock (62.3558080385 days old)\n"
       ]
      },
      {
       "output_type": "stream",
       "stream": "stderr",
       "text": [
        "DEBUG:Cloud:Deleting 6885.log (56.3213285394 days old)\n"
       ]
      },
      {
       "output_type": "stream",
       "stream": "stderr",
       "text": [
        "DEBUG:Cloud:Deleting 9234.log (62.3386919274 days old)\n"
       ]
      },
      {
       "output_type": "stream",
       "stream": "stderr",
       "text": [
        "DEBUG:Cloud:Deleting 9130.log (62.3392245663 days old)\n"
       ]
      },
      {
       "output_type": "stream",
       "stream": "stderr",
       "text": [
        "DEBUG:Cloud:Deleting 4093.log (56.3969133598 days old)\n"
       ]
      },
      {
       "output_type": "stream",
       "stream": "stderr",
       "text": [
        "DEBUG:Cloud:Deleting 10358.lock (62.2966677609 days old)\n"
       ]
      },
      {
       "output_type": "stream",
       "stream": "stderr",
       "text": [
        "DEBUG:Cloud:Deleting 8465.log (62.348671557 days old)\n"
       ]
      },
      {
       "output_type": "stream",
       "stream": "stderr",
       "text": [
        "DEBUG:Cloud:Deleting 6932.lock (56.3178102985 days old)\n"
       ]
      },
      {
       "output_type": "stream",
       "stream": "stderr",
       "text": [
        "DEBUG:Cloud:Deleting 7364.lock (62.3876592883 days old)\n"
       ]
      },
      {
       "output_type": "stream",
       "stream": "stderr",
       "text": [
        "DEBUG:Cloud:Deleting 8368.lock (62.3499229922 days old)\n"
       ]
      },
      {
       "output_type": "stream",
       "stream": "stderr",
       "text": [
        "DEBUG:Cloud:Deleting 10205.lock (62.2981807239 days old)\n"
       ]
      },
      {
       "output_type": "stream",
       "stream": "stderr",
       "text": [
        "DEBUG:Cloud:Deleting 6023.log (56.3373752529 days old)\n"
       ]
      },
      {
       "output_type": "stream",
       "stream": "stderr",
       "text": [
        "DEBUG:Cloud:Deleting 9817.lock (62.322529659 days old)\n"
       ]
      },
      {
       "output_type": "stream",
       "stream": "stderr",
       "text": [
        "DEBUG:Cloud:Deleting 8095.log (62.3551901681 days old)\n"
       ]
      },
      {
       "output_type": "stream",
       "stream": "stderr",
       "text": [
        "DEBUG:Cloud:Deleting 7129.lock (56.3165702985 days old)\n"
       ]
      },
      {
       "output_type": "stream",
       "stream": "stderr",
       "text": [
        "DEBUG:Cloud:Deleting 7104.log (56.3167907151 days old)\n"
       ]
      },
      {
       "output_type": "stream",
       "stream": "stderr",
       "text": [
        "DEBUG:Cloud:Deleting 5094.lock (62.4895370422 days old)\n"
       ]
      },
      {
       "output_type": "stream",
       "stream": "stderr",
       "text": [
        "DEBUG:Cloud:Deleting 9310.log (62.3382614182 days old)\n"
       ]
      },
      {
       "output_type": "stream",
       "stream": "stderr",
       "text": [
        "DEBUG:Cloud:Deleting 3875.lock (56.3985068321 days old)\n"
       ]
      },
      {
       "output_type": "stream",
       "stream": "stderr",
       "text": [
        "DEBUG:Cloud:Deleting 6397.lock (62.4603535701 days old)\n"
       ]
      },
      {
       "output_type": "stream",
       "stream": "stderr",
       "text": [
        "DEBUG:Cloud:Deleting 4093.lock (56.3969133598 days old)\n"
       ]
      },
      {
       "output_type": "stream",
       "stream": "stderr",
       "text": [
        "DEBUG:Cloud:Deleting 7943.log (62.3558080385 days old)\n"
       ]
      },
      {
       "output_type": "stream",
       "stream": "stderr",
       "text": [
        "DEBUG:Cloud:Deleting 8945.log (62.3411095663 days old)\n"
       ]
      },
      {
       "output_type": "stream",
       "stream": "stderr",
       "text": [
        "DEBUG:Cloud:Deleting 5324.lock (62.4833593571 days old)\n"
       ]
      },
      {
       "output_type": "stream",
       "stream": "stderr",
       "text": [
        "DEBUG:Cloud:Deleting 6113.lock (56.3363533547 days old)\n"
       ]
      },
      {
       "output_type": "stream",
       "stream": "stderr",
       "text": [
        "DEBUG:Cloud:Deleting 8073.log (62.3552995663 days old)\n"
       ]
      },
      {
       "output_type": "stream",
       "stream": "stderr",
       "text": [
        "DEBUG:Cloud:Deleting 8265.lock (62.3519824366 days old)\n"
       ]
      },
      {
       "output_type": "stream",
       "stream": "stderr",
       "text": [
        "DEBUG:Cloud:Deleting 7053.lock (62.3527479922 days old)\n"
       ]
      },
      {
       "output_type": "stream",
       "stream": "stderr",
       "text": [
        "DEBUG:Cloud:Deleting 6225.log (62.462258246 days old)\n"
       ]
      },
      {
       "output_type": "stream",
       "stream": "stderr",
       "text": [
        "DEBUG:Cloud:Deleting 8611.lock (62.34666952 days old)\n"
       ]
      },
      {
       "output_type": "stream",
       "stream": "stderr",
       "text": [
        "DEBUG:Cloud:Deleting 6150.log (56.3343864102 days old)\n"
       ]
      },
      {
       "output_type": "stream",
       "stream": "stderr",
       "text": [
        "DEBUG:Cloud:Deleting 9208.lock (62.3388795663 days old)\n"
       ]
      },
      {
       "output_type": "stream",
       "stream": "stderr",
       "text": [
        "DEBUG:Cloud:Deleting 10326.log (62.2973446591 days old)\n"
       ]
      },
      {
       "output_type": "stream",
       "stream": "stderr",
       "text": [
        "DEBUG:Cloud:Deleting 7147.lock (56.3164081225 days old)\n"
       ]
      },
      {
       "output_type": "stream",
       "stream": "stderr",
       "text": [
        "DEBUG:Cloud:Deleting 8832.lock (62.3445418348 days old)\n"
       ]
      },
      {
       "output_type": "stream",
       "stream": "stderr",
       "text": [
        "DEBUG:Cloud:Deleting 11040.log (62.275944937 days old)\n"
       ]
      },
      {
       "output_type": "stream",
       "stream": "stderr",
       "text": [
        "DEBUG:Cloud:Deleting 5670.log (62.4789831997 days old)\n"
       ]
      },
      {
       "output_type": "stream",
       "stream": "stderr",
       "text": [
        "DEBUG:Cloud:Deleting 7093.lock (62.3997716957 days old)\n"
       ]
      },
      {
       "output_type": "stream",
       "stream": "stderr",
       "text": [
        "DEBUG:Cloud:Deleting 8217.log (62.35259077 days old)\n"
       ]
      },
      {
       "output_type": "stream",
       "stream": "stderr",
       "text": [
        "DEBUG:Cloud:Deleting 7107.log (62.399366742 days old)\n"
       ]
      },
      {
       "output_type": "stream",
       "stream": "stderr",
       "text": [
        "DEBUG:Cloud:Deleting 10196.lock (62.2983747517 days old)\n"
       ]
      },
      {
       "output_type": "stream",
       "stream": "stderr",
       "text": [
        "DEBUG:Cloud:Deleting 7451.log (62.3857032698 days old)\n"
       ]
      },
      {
       "output_type": "stream",
       "stream": "stderr",
       "text": [
        "DEBUG:Cloud:Deleting 5744.log (62.4766669497 days old)\n"
       ]
      },
      {
       "output_type": "stream",
       "stream": "stderr",
       "text": [
        "DEBUG:Cloud:Deleting 6537.lock (56.3247477525 days old)\n"
       ]
      },
      {
       "output_type": "stream",
       "stream": "stderr",
       "text": [
        "DEBUG:Cloud:Deleting 6804.lock (56.3223722431 days old)\n"
       ]
      },
      {
       "output_type": "stream",
       "stream": "stderr",
       "text": [
        "DEBUG:Cloud:Deleting 6374.log (62.4605747738 days old)\n"
       ]
      },
      {
       "output_type": "stream",
       "stream": "stderr",
       "text": [
        "DEBUG:Cloud:Deleting 8832.log (62.3445418348 days old)\n"
       ]
      },
      {
       "output_type": "stream",
       "stream": "stderr",
       "text": [
        "DEBUG:Cloud:Deleting 6771.lock (56.3226633542 days old)\n"
       ]
      },
      {
       "output_type": "stream",
       "stream": "stderr",
       "text": [
        "DEBUG:Cloud:Deleting 5520.lock (62.4804079682 days old)\n"
       ]
      },
      {
       "output_type": "stream",
       "stream": "stderr",
       "text": [
        "DEBUG:Cloud:Deleting 9484.lock (62.3351550293 days old)\n"
       ]
      },
      {
       "output_type": "stream",
       "stream": "stderr",
       "text": [
        "DEBUG:Cloud:Deleting 6256.log (62.4621001442 days old)\n"
       ]
      },
      {
       "output_type": "stream",
       "stream": "stderr",
       "text": [
        "DEBUG:Cloud:Deleting 6771.log (56.3226634005 days old)\n"
       ]
      },
      {
       "output_type": "stream",
       "stream": "stderr",
       "text": [
        "DEBUG:Cloud:Deleting 6804.log (56.3223722431 days old)\n"
       ]
      },
      {
       "output_type": "stream",
       "stream": "stderr",
       "text": [
        "DEBUG:Cloud:Deleting 6150.lock (56.3343864102 days old)\n"
       ]
      },
      {
       "output_type": "stream",
       "stream": "stderr",
       "text": [
        "DEBUG:Cloud:Deleting 8095.lock (62.3551901681 days old)\n"
       ]
      },
      {
       "output_type": "stream",
       "stream": "stderr",
       "text": [
        "DEBUG:Cloud:Deleting 10922.log (62.2768572518 days old)\n"
       ]
      },
      {
       "output_type": "stream",
       "stream": "stderr",
       "text": [
        "DEBUG:Cloud:Deleting 5520.log (62.4804079682 days old)\n"
       ]
      },
      {
       "output_type": "stream",
       "stream": "stderr",
       "text": [
        "DEBUG:Cloud:Deleting 5500.lock (62.4806786163 days old)\n"
       ]
      },
      {
       "output_type": "stream",
       "stream": "stderr",
       "text": [
        "DEBUG:Cloud:Deleting 10495.lock (62.2933328073 days old)\n"
       ]
      },
      {
       "output_type": "stream",
       "stream": "stderr",
       "text": [
        "DEBUG:Cloud:Deleting 5744.lock (62.4766669497 days old)\n"
       ]
      },
      {
       "output_type": "stream",
       "stream": "stderr",
       "text": [
        "DEBUG:Cloud:Deleting 8217.lock (62.35259077 days old)\n"
       ]
      },
      {
       "output_type": "stream",
       "stream": "stderr",
       "text": [
        "DEBUG:Cloud:Deleting 10326.lock (62.2973446591 days old)\n"
       ]
      },
      {
       "output_type": "stream",
       "stream": "stderr",
       "text": [
        "DEBUG:Cloud:Deleting 6457.lock (62.4595489868 days old)\n"
       ]
      },
      {
       "output_type": "stream",
       "stream": "stderr",
       "text": [
        "DEBUG:Cloud:Deleting 6131.log (56.3346909473 days old)\n"
       ]
      },
      {
       "output_type": "stream",
       "stream": "stderr",
       "text": [
        "DEBUG:Cloud:Deleting 5324.log (62.4833593571 days old)\n"
       ]
      },
      {
       "output_type": "stream",
       "stream": "stderr",
       "text": [
        "DEBUG:Cloud:Deleting 10347.log (62.2972264646 days old)\n"
       ]
      },
      {
       "output_type": "stream",
       "stream": "stderr",
       "text": [
        "DEBUG:Cloud:Deleting 9484.log (62.3351550293 days old)\n"
       ]
      },
      {
       "output_type": "stream",
       "stream": "stderr",
       "text": [
        "DEBUG:Cloud:Deleting 5500.log (62.4806786163 days old)\n"
       ]
      },
      {
       "output_type": "stream",
       "stream": "stderr",
       "text": [
        "DEBUG:Cloud:Deleting 7254.lock (62.3929106309 days old)\n"
       ]
      },
      {
       "output_type": "stream",
       "stream": "stderr",
       "text": [
        "DEBUG:Cloud:Deleting 10205.log (62.2981807239 days old)\n"
       ]
      },
      {
       "output_type": "stream",
       "stream": "stderr",
       "text": [
        "DEBUG:Cloud:Deleting 8945.lock (62.3411095663 days old)\n"
       ]
      }
     ],
     "prompt_number": 20
    },
    {
     "cell_type": "code",
     "collapsed": false,
     "input": [
      "!unzip /home/amir/Dropbox/ReproPhylo/db_output.zip"
     ],
     "language": "python",
     "metadata": {},
     "outputs": [
      {
       "output_type": "stream",
       "stream": "stdout",
       "text": [
        "Archive:  /home/amir/Dropbox/ReproPhylo/db_output.zip\r\n",
        "   creating: db_output/\r\n",
        " extracting: db_output/700111412284420.75_combinedstrict.png  \r\n",
        " extracting: db_output/165491412284420.75_18S@MuscleDefaults@gappyout.png  \r\n",
        " extracting: db_output/tree_and_alns.nexml  \r\n",
        " extracting: db_output/Thu_02_Oct_2014_21:15:32.pkl  "
       ]
      },
      {
       "output_type": "stream",
       "stream": "stdout",
       "text": [
        "\r\n",
        " extracting: db_output/report.html   \r\n",
        " extracting: db_output/sequences_and_metadata.gb  \r\n",
        " extracting: db_output/165491412284420.75_coi@MuscleDefaults@gappyout.png  "
       ]
      },
      {
       "output_type": "stream",
       "stream": "stdout",
       "text": [
        "\r\n",
        " extracting: db_output/700111412284420.75_combined.png  \r\n",
        " extracting: db_output/165491412284420.75_coi@MafftLinsi@gappyout.png  \r\n",
        " extracting: db_output/165491412284420.75_28S@MuscleDefaults@gappyout.png  \r\n"
       ]
      }
     ],
     "prompt_number": 21
    },
    {
     "cell_type": "code",
     "collapsed": false,
     "input": [
      "!firefox db_output/report.html"
     ],
     "language": "python",
     "metadata": {},
     "outputs": [
      {
       "output_type": "stream",
       "stream": "stdout",
       "text": [
        "\r\n",
        "(process:6341): GLib-CRITICAL **: g_slice_set_config: assertion 'sys_page_size == 0' failed\r\n"
       ]
      }
     ],
     "prompt_number": 22
    },
    {
     "cell_type": "code",
     "collapsed": false,
     "input": [
      "import pickle\n",
      "hnd = open('db_output/Fri_25_Jul_2014_10:02:49.pkl','rb')\n",
      "D = pickle.load(hnd)"
     ],
     "language": "python",
     "metadata": {},
     "outputs": [
      {
       "output_type": "stream",
       "stream": "stderr",
       "text": [
        "DEBUG:Cloud:Log file (/home/amir/.picloud/cloud.log) opened\n"
       ]
      }
     ],
     "prompt_number": 1
    },
    {
     "cell_type": "code",
     "collapsed": false,
     "input": [
      "def pos_in_x_by_y_matrix(x, serial):\n",
      "    row = round(float(serial)/x)\n",
      "    if row < float(serial)/x:\n",
      "        row += 1\n",
      "    row = int(row) \n",
      "    \n",
      "    res = float(serial)%x\n",
      "    column = res\n",
      "    if column == 0:\n",
      "        column = x\n",
      "    column = int(column)\n",
      "    return row, column\n",
      "\n",
      "def draw_trimal_scc(db, num_col, figs_folder, trimmed=False, alg = '-scc'):\n",
      "    import pandas as pd\n",
      "    import matplotlib.pyplot as plt\n",
      "    import random, os\n",
      "    from Bio import AlignIO\n",
      "    \n",
      "    # get the alignment objects\n",
      "    #-------------------------#\n",
      "    alignments = db.alignments.items()\n",
      "    if trimmed:\n",
      "        alignments = db.trimmed_alignments.items()\n",
      "    num_alns = len(alignments)\n",
      "\n",
      "    subplots_arrangement = []\n",
      "    #-----------------------#\n",
      "    num_rows = round(float(num_alns)/num_col)\n",
      "    if num_rows < float(num_alns)/num_col:\n",
      "        num_rows += 1\n",
      "        \n",
      "    fig = plt.figure(figsize=(10*num_col,2.3*num_rows), dpi=80, frameon = False)\n",
      "    plt.subplots_adjust(hspace = 0.8)\n",
      "    subplots_arrangement += [num_rows, num_col]\n",
      "\n",
      "    \n",
      "    #Calc with trimal and plot\n",
      "    #------------------------#\n",
      "    for i in range(1,num_alns+1):\n",
      "        subplot_position = subplots_arrangement +[i]\n",
      "        aln_name = alignments[i-1][0]\n",
      "        aln_obj = alignments[i-1][1]\n",
      "        name = str(random.randint(1000,2000))+'_'+aln_name+'_for_trimal_graph.fasta'\n",
      "        AlignIO.write(aln_obj, name, 'fasta')\n",
      "        stdout = os.popen('trimal '+alg+' -in '+name)#.read()\n",
      "        \n",
      "        var = pd.read_table(stdout, sep='\\t+', skiprows=3)\n",
      "        if alg == '-scc':\n",
      "            var.columns = ['position', 'variability']\n",
      "        elif alg == '-sgc':\n",
      "            var.columns = ['position', 'pct_gaps', 'gap_score']\n",
      "        \n",
      "        #Plot residue similarity figure, for nucleotides this is identity value \n",
      "        fig.add_subplot(subplot_position[0], subplot_position[1], subplot_position[2])\n",
      "        if alg == '-scc':\n",
      "            var.variability.plot(color='g',lw=2)\n",
      "        elif alg == '-sgc':\n",
      "            var.pct_gaps.plot(color='g',lw=2)\n",
      "        plt.title(aln_name.replace('@',' '), fontsize=14)\n",
      "        plt.axis([1,len(aln_obj[0].seq), 0, 1.1]) #0 to 1 scale for y axis\n",
      "        xlab = \"alignment position\"\n",
      "        ylab = \"similarity score\"\n",
      "        if alg == '-sgc':\n",
      "            ylab = \"percent gaps\"\n",
      "            plt.axis([1, len(aln_obj[0].seq), 0, 110]) #0 to 100 scale for y axis, ie percent\n",
      "        plt.xlabel(xlab, fontsize=10)\n",
      "        plt.ylabel(ylab, fontsize=10)\n",
      "        plt.grid(True)\n",
      "        os.remove(name)\n",
      "    figname = str(random.randint(1000,2000))\n",
      "    fig.savefig(figs_folder + '/' + figname +'.png')\n",
      "    plt.close('all')\n",
      "    return figs_folder + '/' + figname+'.png'\n",
      "\n",
      "\n",
      "  \n",
      "        \n",
      "\n",
      "    \n",
      "    \n",
      "print draw_trimal_scc(db, 2, '.', trimmed=True, alg='-sgc')"
     ],
     "language": "python",
     "metadata": {},
     "outputs": [
      {
       "output_type": "stream",
       "stream": "stdout",
       "text": [
        "./1881.png\n"
       ]
      }
     ],
     "prompt_number": 26
    },
    {
     "cell_type": "code",
     "collapsed": false,
     "input": [],
     "language": "python",
     "metadata": {},
     "outputs": [
      {
       "output_type": "stream",
       "stream": "stderr",
       "text": [
        "/usr/local/lib/python2.7/dist-packages/pandas/io/excel.py:626: UserWarning: Installed openpyxl is not supported at this time. Use >=1.6.1 and <2.0.0.\n",
        "  .format(openpyxl_compat.start_ver, openpyxl_compat.stop_ver))\n"
       ]
      }
     ],
     "prompt_number": 90
    },
    {
     "cell_type": "code",
     "collapsed": false,
     "input": [
      "num_alns = 10\n",
      "num_rows = round(float(num_alns)/3)\n",
      "if num_rows < float(num_alns)/3:\n",
      "    num_rows += 1\n",
      "num_rows = int(num_rows)\n",
      "print num_rows"
     ],
     "language": "python",
     "metadata": {},
     "outputs": [
      {
       "output_type": "stream",
       "stream": "stdout",
       "text": [
        "4\n"
       ]
      }
     ],
     "prompt_number": 28
    },
    {
     "cell_type": "code",
     "collapsed": false,
     "input": [
      "def pos_in_x_by_y_matrix(x, serial):\n",
      "    row = round(float(serial)/x)\n",
      "    if row < float(serial)/x:\n",
      "        row += 1\n",
      "    row = int(row) \n",
      "    \n",
      "    res = float(serial)%x\n",
      "    column = res\n",
      "    if column == 0:\n",
      "        column = x\n",
      "    column = int(column)\n",
      "    return row, column\n",
      "pos_in_x_by_y_matrix(11,23)"
     ],
     "language": "python",
     "metadata": {},
     "outputs": [
      {
       "metadata": {},
       "output_type": "pyout",
       "prompt_number": 88,
       "text": [
        "(3, 1)"
       ]
      }
     ],
     "prompt_number": 88
    },
    {
     "cell_type": "code",
     "collapsed": false,
     "input": [
      "range(1,10+1)"
     ],
     "language": "python",
     "metadata": {},
     "outputs": [
      {
       "metadata": {},
       "output_type": "pyout",
       "prompt_number": 89,
       "text": [
        "[1, 2, 3, 4, 5, 6, 7, 8, 9, 10]"
       ]
      }
     ],
     "prompt_number": 89
    },
    {
     "cell_type": "code",
     "collapsed": false,
     "input": [
      "coi = Locus('dna','CDS','coi',\n",
      "            ['cox1','COX1','coi','COI','CoI'])"
     ],
     "language": "python",
     "metadata": {},
     "outputs": [],
     "prompt_number": 17
    },
    {
     "cell_type": "code",
     "collapsed": false,
     "input": [
      "db = Database([coi])\n",
      "\n",
      "# Read Genbank formated input into the database\n",
      "\n",
      "data_folder = '/home/amir/Dropbox/ReproPhylo/data/'\n",
      "input_filenames_list = [data_folder + 'Tetillidae.gb']\n",
      "db.read_embl_genbank(input_filenames_list)\n",
      "\n",
      "fix_gene_qualifier = [#['18S ribosomal RNA', 'product', 'SSU rRNA', 'gene'],\n",
      "                      #['28S ribosomal RNA', 'product', 'LSU rRNA', 'gene'],\n",
      "                      ['AM076987.1_f1','feature_id','LAGLIDADG','gene']]\n",
      "for fix in fix_gene_qualifier:\n",
      "    db.if_this_then_that(fix[0], fix[1], fix[2], fix[3])"
     ],
     "language": "python",
     "metadata": {},
     "outputs": [],
     "prompt_number": 18
    },
    {
     "cell_type": "code",
     "collapsed": false,
     "input": [
      "db.extract_by_locus()"
     ],
     "language": "python",
     "metadata": {},
     "outputs": [],
     "prompt_number": 19
    },
    {
     "cell_type": "code",
     "collapsed": false,
     "input": [
      "muscle = AlignmentMethod(db, method_name='MuscleDefaults',\n",
      "                         cmd='muscle', program_name='muscle',\n",
      "                         cline_args=dict())"
     ],
     "language": "python",
     "metadata": {},
     "outputs": [
      {
       "output_type": "stream",
       "stream": "stdout",
       "text": [
        "muscle -in 735341406584376.82_CDS_proteins_coi.fasta\n"
       ]
      }
     ],
     "prompt_number": 20
    },
    {
     "cell_type": "code",
     "collapsed": false,
     "input": [
      "db.align([muscle])"
     ],
     "language": "python",
     "metadata": {},
     "outputs": [],
     "prompt_number": 21
    },
    {
     "cell_type": "code",
     "collapsed": false,
     "input": [
      "db.trim()"
     ],
     "language": "python",
     "metadata": {},
     "outputs": [],
     "prompt_number": 22
    },
    {
     "cell_type": "code",
     "collapsed": false,
     "input": [
      "raxml_method_loci = RaxmlTreeReconstructionMethod(db, method_name='fd_b_fb', program_name='raxmlHPC-PTHREADS-SSE3',\n",
      "                 cmd='raxmlHPC-PTHREADS-SSE3',\n",
      "                 preset = 'fd_b_fb',\n",
      "                 alns='all',\n",
      "                 model='GAMMA', matrix='JTT',\n",
      "                 threads=6,\n",
      "                 cline_args={'-#': 3, '-N': 1})"
     ],
     "language": "python",
     "metadata": {},
     "outputs": [
      {
       "output_type": "stream",
       "stream": "stdout",
       "text": [
        "raxmlHPC-PTHREADS-SSE3 -f d -m GTRGAMMA -n 115621406584379.29_coi@MuscleDefaults@dummyTrimMethod0 -p 795 -s 115621406584379.29_coi@MuscleDefaults@dummyTrimMethod.fasta -T 6 -N 1\n",
        "raxmlHPC-PTHREADS-SSE3 -b 794 -m GTRGAMMA -n 115621406584379.29_coi@MuscleDefaults@dummyTrimMethod1 -p 339 -s 115621406584379.29_coi@MuscleDefaults@dummyTrimMethod.fasta -T 6 -N 3\n",
        "raxmlHPC-PTHREADS-SSE3 -f b -m GTRGAMMA -n 115621406584379.29_coi@MuscleDefaults@dummyTrimMethod2 -p 544 -s 115621406584379.29_coi@MuscleDefaults@dummyTrimMethod.fasta -t RAxML_bestTree.115621406584379.29_coi@MuscleDefaults@dummyTrimMethod0 -T 6 -z RAxML_bootstrap.115621406584379.29_coi@MuscleDefaults@dummyTrimMethod1\n"
       ]
      }
     ],
     "prompt_number": 23
    },
    {
     "cell_type": "code",
     "collapsed": false,
     "input": [
      "db.tree([raxml_method_loci])"
     ],
     "language": "python",
     "metadata": {},
     "outputs": [],
     "prompt_number": 24
    },
    {
     "cell_type": "code",
     "collapsed": false,
     "input": [
      "db.clear_tree_annotations()\n",
      "\n",
      "\n",
      "genera_colors = {'Astrophorid': 'black',\n",
      "                 'Cinachyrella': 'black',\n",
      "                 'Paratetilla': 'blue', # Made a change here\n",
      "                 'Amphitethya': 'black',\n",
      "                 'Tetilla': 'black',        \n",
      "                 'Cinachyra': 'black',\n",
      "                 'Acanthotetilla': 'black',\n",
      "                 'Fangophilina': 'black',\n",
      "                 'Craniella': 'black'\n",
      "                 }\n",
      "\n",
      "supports = {'black':[100,99],\n",
      "            'dimgray':[99,75],\n",
      "            'silver':[75,50]}\n",
      "\n",
      "db.annotate('/home/amir/Dropbox/ReproPhylo',root_meta = 'mid',\n",
      "            root_value = 'mid',\n",
      "            leaf_labels_txt_meta=['feature_id'],\n",
      "            #leaf_node_color_meta='organism', \n",
      "            #leaf_label_colors=genera_colors,\n",
      "\n",
      "            node_support_dict = supports,\n",
      "            #multifruc=90,\n",
      "            \n",
      "            #heat_map_meta = ['porocalices','cortex','calthrops'],\n",
      "            #heat_map_colour_scheme = 0\n",
      "            )\n"
     ],
     "language": "python",
     "metadata": {},
     "outputs": [
      {
       "output_type": "stream",
       "stream": "stdout",
       "text": [
        "<html>\n",
        "rooting tree coi@MuscleDefaults@dummyTrimMethod@fd_b_fb at midpoint\n",
        "<A href=file:///home/amir/Dropbox/ReproPhylo/115621406584379.29_coi@MuscleDefaults@dummyTrimMethod.png>115621406584379.29_coi@MuscleDefaults@dummyTrimMethod</A><BR>"
       ]
      },
      {
       "output_type": "stream",
       "stream": "stdout",
       "text": [
        "\n",
        "</html>\n",
        "/home/amir/Dropbox/ReproPhylo\n"
       ]
      }
     ],
     "prompt_number": 25
    },
    {
     "cell_type": "code",
     "collapsed": false,
     "input": [
      "db.trees['coi@MuscleDefaults@dummyTrimMethod@fd_b_fb'][0].show()"
     ],
     "language": "python",
     "metadata": {},
     "outputs": [],
     "prompt_number": 26
    },
    {
     "cell_type": "code",
     "collapsed": false,
     "input": [
      "db.write_trimmed_alns()"
     ],
     "language": "python",
     "metadata": {},
     "outputs": [],
     "prompt_number": 15
    },
    {
     "cell_type": "code",
     "collapsed": false,
     "input": [
      "db.write_alns()"
     ],
     "language": "python",
     "metadata": {},
     "outputs": [],
     "prompt_number": 16
    },
    {
     "cell_type": "code",
     "collapsed": false,
     "input": [
      "db = unpickle_db('test_rp_db_6.pkl')"
     ],
     "language": "python",
     "metadata": {},
     "outputs": [],
     "prompt_number": 13
    },
    {
     "cell_type": "code",
     "collapsed": false,
     "input": [
      "def draw_trimal_scc(db, num_col, figs_folder, trimmed=False, alg = '-scc'):\n",
      "    import pandas as pd\n",
      "    import matplotlib.pyplot as plt\n",
      "    import random, os\n",
      "    from Bio import AlignIO\n",
      "    \n",
      "    # get the alignment objects\n",
      "    #-------------------------#\n",
      "    alignments = db.alignments.items()\n",
      "    if trimmed:\n",
      "        alignments = db.trimmed_alignments.items()\n",
      "    num_alns = len(alignments)\n",
      "\n",
      "    subplots_arrangement = []\n",
      "    #-----------------------#\n",
      "    num_rows = round(float(num_alns)/num_col)\n",
      "    if num_rows < float(num_alns)/num_col:\n",
      "        num_rows += 1\n",
      "        \n",
      "    fig = plt.figure(figsize=(10*num_col,2.3*num_rows), dpi=80, frameon = False)\n",
      "    plt.subplots_adjust(hspace = 0.8)\n",
      "    subplots_arrangement += [num_rows, num_col]\n",
      "\n",
      "    \n",
      "    #Calc with trimal and plot\n",
      "    #------------------------#\n",
      "    for i in range(1,num_alns+1):\n",
      "        import subprocess as sub\n",
      "        subplot_position = subplots_arrangement +[i]\n",
      "        aln_name = alignments[i-1][0]\n",
      "        aln_obj = alignments[i-1][1]\n",
      "        name = str(random.randint(1000,2000))+'_'+aln_name+'_for_trimal_graph.fasta'\n",
      "        AlignIO.write(aln_obj, name, 'fasta')\n",
      "        #stdout = os.popen('trimal '+alg+' -in '+name)#.read()\n",
      "        stdout = subprocess.Popen(\"trimal \"+alg+\" -in \" + name,\n",
      "                       shell=True, stdout=subprocess.PIPE, stderr=subprocess.PIPE).stdout\n",
      "        var = pd.read_table(stdout, sep='\\t+', skiprows=3)\n",
      "        if alg == '-scc':\n",
      "            var.columns = ['position', 'variability']\n",
      "        elif alg == '-sgc':\n",
      "            var.columns = ['position', 'pct_gaps', 'gap_score']\n",
      "        \n",
      "        #Plot residue similarity figure, for nucleotides this is identity value \n",
      "        fig.add_subplot(subplot_position[0], subplot_position[1], subplot_position[2])\n",
      "        if alg == '-scc':\n",
      "            var.variability.plot(color='g',lw=2)\n",
      "        elif alg == '-sgc':\n",
      "            var.pct_gaps.plot(color='g',lw=2)\n",
      "        plt.title(aln_name.replace('@',' '), fontsize=14)\n",
      "        plt.axis([1,len(aln_obj[0].seq), 0, 1.1]) #0 to 1 scale for y axis\n",
      "        xlab = \"alignment position\"\n",
      "        ylab = \"similarity score\"\n",
      "        if alg == '-sgc':\n",
      "            ylab = \"percent gaps\"\n",
      "            plt.axis([1, len(aln_obj[0].seq), 0, 110]) #0 to 100 scale for y axis, ie percent\n",
      "        plt.xlabel(xlab, fontsize=10)\n",
      "        plt.ylabel(ylab, fontsize=10)\n",
      "        plt.grid(True)\n",
      "        os.remove(name)\n",
      "    figname = str(random.randint(1000,2000))\n",
      "    fig.savefig(figs_folder + '/' + figname +'.png')\n",
      "    plt.close('all')\n",
      "    return figs_folder + '/' + figname+'.png'\n",
      "\n",
      "draw_trimal_scc(db, 2, '.', trimmed=False, alg = '-sgc')"
     ],
     "language": "python",
     "metadata": {},
     "outputs": [
      {
       "metadata": {},
       "output_type": "pyout",
       "prompt_number": 47,
       "text": [
        "'./1779.png'"
       ]
      }
     ],
     "prompt_number": 47
    },
    {
     "cell_type": "code",
     "collapsed": false,
     "input": [
      "import subprocess\n",
      "name = '1071_28S@MuscleDefaults_for_trimal_graph.fasta'\n",
      "alg = '-sgc'\n",
      "print subprocess.Popen(\"trimal \"+alg+\" -in \" + name,\n",
      "                       shell=True, stdout=subprocess.PIPE, stderr=subprocess.PIPE).stdout"
     ],
     "language": "python",
     "metadata": {},
     "outputs": [
      {
       "output_type": "stream",
       "stream": "stdout",
       "text": [
        "<open file '<fdopen>', mode 'rb' at 0x7faf0ac82b70>\n"
       ]
      }
     ],
     "prompt_number": 45
    },
    {
     "cell_type": "code",
     "collapsed": false,
     "input": [],
     "language": "python",
     "metadata": {},
     "outputs": []
    }
   ],
   "metadata": {}
  }
 ]
}