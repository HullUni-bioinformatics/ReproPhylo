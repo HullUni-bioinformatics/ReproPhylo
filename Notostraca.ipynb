{
 "metadata": {
  "name": ""
 },
 "nbformat": 3,
 "nbformat_minor": 0,
 "worksheets": [
  {
   "cells": [
    {
     "cell_type": "code",
     "collapsed": false,
     "input": [
      "from reprophylo import *"
     ],
     "language": "python",
     "metadata": {},
     "outputs": [],
     "prompt_number": 1
    },
    {
     "cell_type": "code",
     "collapsed": false,
     "input": [
      "list_loci_in_genbank('data/Notostraca_1695seqs.gb', 'notostraca_loci_raw.csv')"
     ],
     "language": "python",
     "metadata": {},
     "outputs": [
      {
       "output_type": "stream",
       "stream": "stdout",
       "text": [
        "\n",
        "There are 135 gene names (or gene product names) detected\n",
        "----------------------------------\n",
        "Gene and count sorted by gene name\n",
        "----------------------------------\n",
        "1 instances of CDS,Act\n",
        "1 instances of CDS,Apsk\n",
        "1 instances of CDS,AQP\n",
        "1 instances of CDS,Arr\n",
        "1 instances of CDS,ASH1\n",
        "1 instances of CDS,ASH2\n",
        "89 instances of CDS,ATP6\n",
        "1 instances of CDS,atp6\n",
        "89 instances of CDS,ATP8\n",
        "1 instances of CDS,atp8\n",
        "1 instances of CDS,cad\n",
        "1 instances of CDS,carnitine palmitoyltransferase family member cpt-2\n",
        "1 instances of CDS,CDC5-related protein\n",
        "1 instances of CDS,cob\n",
        "15 instances of CDS,coi\n",
        "353 instances of CDS,COI\n",
        "1 instances of CDS,COII\n",
        "1 instances of CDS,COIII\n",
        "6 instances of CDS,COX1\n",
        "9 instances of CDS,cox1\n",
        "5 instances of CDS,COX2\n",
        "1 instances of CDS,cox2\n",
        "5 instances of CDS,COX3\n",
        "1 instances of CDS,cox3\n",
        "1 instances of CDS,cytb\n",
        "5 instances of CDS,CYTB\n",
        "23 instances of CDS,cytochrome c oxidase subunit I\n",
        "1 instances of CDS,dac\n",
        "1 instances of CDS,DKC1\n",
        "1 instances of CDS,Dll\n",
        "1 instances of CDS,DPD1\n",
        "8 instances of CDS,elongation factor 1-alpha\n",
        "4 instances of CDS,elongation factor-1 alpha\n",
        "1 instances of CDS,elongation factor-2\n",
        "1 instances of CDS,G protein-coupled receptor kinase 1\n",
        "1 instances of CDS,glucose phosphate isomerase\n",
        "4 instances of CDS,glycogen synthase\n",
        "1 instances of CDS,H3\n",
        "1 instances of CDS,HIF-1alpha\n",
        "1 instances of CDS,nad1\n",
        "1 instances of CDS,nad2\n",
        "1 instances of CDS,nad3\n",
        "1 instances of CDS,nad4\n",
        "1 instances of CDS,nad4l\n",
        "1 instances of CDS,nad5\n",
        "1 instances of CDS,nad6\n",
        "162 instances of CDS,ND1\n",
        "6 instances of CDS,ND2\n",
        "6 instances of CDS,ND3\n",
        "6 instances of CDS,ND4\n",
        "6 instances of CDS,ND4L\n",
        "6 instances of CDS,ND5\n",
        "6 instances of CDS,ND6\n",
        "1 instances of CDS,neurofibromin\n",
        "1 instances of CDS,nucleolar cysteine-rich protein\n",
        "1 instances of CDS,phosphatidylinositol kinase\n",
        "1 instances of CDS,prophenoloxidase\n",
        "1 instances of CDS,putative 26S proteasome non-ATPase regulatory subunit 2\n",
        "1 instances of CDS,putative 6-phosphogluconate dehydrogenase\n",
        "1 instances of CDS,putative AATS-ALA protein\n",
        "1 instances of CDS,putative ACC protein\n",
        "1 instances of CDS,putative alpha-adaptin-like protein\n",
        "1 instances of CDS,putative alpha-spectrin protein\n",
        "1 instances of CDS,putative AMP deaminase 2\n",
        "1 instances of CDS,putative bifunctional aminoacyl-tRNA synthetase\n",
        "1 instances of CDS,putative C-1-tetrahydrofolate synthetase, cytoplasmic\n",
        "1 instances of CDS,putative calcium/calmodulin-dependent protein kinase type II delta chain\n",
        "1 instances of CDS,putative casein kinase\n",
        "1 instances of CDS,putative CG9461-like protein\n",
        "1 instances of CDS,putative clathrin coat assembly protein\n",
        "2 instances of CDS,putative clathrin heavy chain\n",
        "1 instances of CDS,putative DNA replication licensing factor MCM2\n",
        "2 instances of CDS,putative DNA-directed RNA polymerase II subunit 2\n",
        "1 instances of CDS,putative dynamin-1\n",
        "1 instances of CDS,putative flightless I-like protein\n",
        "1 instances of CDS,putative glucosamine-6-phosphate isomerase\n",
        "1 instances of CDS,putative glucose-6-phosphate 1-dehydrogenase\n",
        "1 instances of CDS,putative glutaminyl-tRNA synthetase\n",
        "1 instances of CDS,putative glycogen synthase\n",
        "1 instances of CDS,putative GMP synthetase\n",
        "1 instances of CDS,putative GTP-binding protein\n",
        "1 instances of CDS,putative histidyl-tRNA synthetase\n",
        "1 instances of CDS,putative histone deacetylase 1\n",
        "1 instances of CDS,putative hypothetical 44.9 kDa protein\n",
        "1 instances of CDS,putative integrin-linked protein kinase\n",
        "1 instances of CDS,putative leucyl-tRNA synthetase\n",
        "1 instances of CDS,putative methionine aminopeptidase 2\n",
        "1 instances of CDS,putative methylmalonate-semialdehyde dehydrogenase\n",
        "1 instances of CDS,putative myosin VIIa\n",
        "1 instances of CDS,putative N-terminal acetyltransferase complex ARD1 subunit-like protein\n",
        "2 instances of CDS,putative neuroendocrine convertase 2 precursor\n",
        "1 instances of CDS,putative pre-mRNA splicing factor RNA helicase\n",
        "1 instances of CDS,putative protein arginine N-methyltransferase 1\n",
        "1 instances of CDS,putative protein phosphatase PP2A 55kDa regulatory subunit\n",
        "1 instances of CDS,putative rudimentary protein\n",
        "1 instances of CDS,putative serine/threonine protein kinase 24\n",
        "1 instances of CDS,putative signal recognition particle protein\n",
        "2 instances of CDS,putative splicing factor\n",
        "1 instances of CDS,putative splicing factor 3B subunit 1\n",
        "1 instances of CDS,putative syntaxin 1A\n",
        "1 instances of CDS,putative transmembrane 9 superfamily protein member 2 precursor\n",
        "1 instances of CDS,putative triosephosphate isomerase\n",
        "1 instances of CDS,putative U5 snRNP 100 kDa protein\n",
        "1 instances of CDS,putative UDP-N-acetylglucosamine--peptide N-acetylglucosaminyltransferase\n",
        "1 instances of CDS,putative vacuolar ATP synthase subunit B\n",
        "1 instances of CDS,putative vacuolar ATP synthase subunit d 1\n",
        "6 instances of CDS,R2 protein\n",
        "1 instances of CDS,reverse transcriptase\n",
        "2 instances of CDS,RhA\n",
        "2 instances of CDS,RhB\n",
        "2 instances of CDS,RhC\n",
        "2 instances of CDS,RhD\n",
        "2 instances of CDS,RhE\n",
        "10 instances of CDS,RNA polymerase II largest subunit\n",
        "1 instances of CDS,RPB1\n",
        "1 instances of CDS,RPB2\n",
        "1 instances of CDS,RpL32\n",
        "1 instances of CDS,rt\n",
        "1 instances of CDS,SH2 domain binding protein\n",
        "1 instances of CDS,vacuolar ATP synthase subunit B\n",
        "1 instances of CDS,Wnt-1\n",
        "1 instances of CDS,wnt-10\n",
        "85 instances of rRNA,12S ribosomal RNA\n",
        "123 instances of rRNA,12S rRNA\n",
        "88 instances of rRNA,16S ribosomal RNA\n",
        "146 instances of rRNA,16S rRNA\n",
        "18 instances of rRNA,18S ribosomal RNA\n",
        "1 instances of rRNA,28S large subunit ribosomal RNA\n",
        "362 instances of rRNA,28S ribosomal RNA\n",
        "45 instances of rRNA,28S rRNA\n",
        "1 instances of rRNA,l-rRNA\n",
        "2 instances of rRNA,rrnL\n",
        "2 instances of rRNA,rrnS\n",
        "1 instances of rRNA,s-rRNA\n",
        "3 instances of rRNA,small subunit ribosomal RNA\n",
        "-------------------------------\n",
        "Gene and count sorted by counts\n",
        "-------------------------------\n",
        "362 instances of rRNA,28S ribosomal RNA\n",
        "353 instances of CDS,COI\n",
        "162 instances of CDS,ND1\n",
        "146 instances of rRNA,16S rRNA\n",
        "123 instances of rRNA,12S rRNA\n",
        "89 instances of CDS,ATP6\n",
        "89 instances of CDS,ATP8\n",
        "88 instances of rRNA,16S ribosomal RNA\n",
        "85 instances of rRNA,12S ribosomal RNA\n",
        "45 instances of rRNA,28S rRNA\n",
        "23 instances of CDS,cytochrome c oxidase subunit I\n",
        "18 instances of rRNA,18S ribosomal RNA\n",
        "15 instances of CDS,coi\n",
        "10 instances of CDS,RNA polymerase II largest subunit\n",
        "9 instances of CDS,cox1\n",
        "8 instances of CDS,elongation factor 1-alpha\n",
        "6 instances of CDS,COX1\n",
        "6 instances of CDS,ND2\n",
        "6 instances of CDS,ND3\n",
        "6 instances of CDS,ND4\n",
        "6 instances of CDS,ND4L\n",
        "6 instances of CDS,ND5\n",
        "6 instances of CDS,ND6\n",
        "6 instances of CDS,R2 protein\n",
        "5 instances of CDS,COX2\n",
        "5 instances of CDS,COX3\n",
        "5 instances of CDS,CYTB\n",
        "4 instances of CDS,elongation factor-1 alpha\n",
        "4 instances of CDS,glycogen synthase\n",
        "3 instances of rRNA,small subunit ribosomal RNA\n",
        "2 instances of CDS,putative clathrin heavy chain\n",
        "2 instances of CDS,putative DNA-directed RNA polymerase II subunit 2\n",
        "2 instances of CDS,putative neuroendocrine convertase 2 precursor\n",
        "2 instances of CDS,putative splicing factor\n",
        "2 instances of CDS,RhA\n",
        "2 instances of CDS,RhB\n",
        "2 instances of CDS,RhC\n",
        "2 instances of CDS,RhD\n",
        "2 instances of CDS,RhE\n",
        "2 instances of rRNA,rrnL\n",
        "2 instances of rRNA,rrnS\n",
        "1 instances of CDS,Act\n",
        "1 instances of CDS,Apsk\n",
        "1 instances of CDS,AQP\n",
        "1 instances of CDS,Arr\n",
        "1 instances of CDS,ASH1\n",
        "1 instances of CDS,ASH2\n",
        "1 instances of CDS,atp6\n",
        "1 instances of CDS,atp8\n",
        "1 instances of CDS,cad\n",
        "1 instances of CDS,carnitine palmitoyltransferase family member cpt-2\n",
        "1 instances of CDS,CDC5-related protein\n",
        "1 instances of CDS,cob\n",
        "1 instances of CDS,COII\n",
        "1 instances of CDS,COIII\n",
        "1 instances of CDS,cox2\n",
        "1 instances of CDS,cox3\n",
        "1 instances of CDS,cytb\n",
        "1 instances of CDS,dac\n",
        "1 instances of CDS,DKC1\n",
        "1 instances of CDS,Dll\n",
        "1 instances of CDS,DPD1\n",
        "1 instances of CDS,elongation factor-2\n",
        "1 instances of CDS,G protein-coupled receptor kinase 1\n",
        "1 instances of CDS,glucose phosphate isomerase\n",
        "1 instances of CDS,H3\n",
        "1 instances of CDS,HIF-1alpha\n",
        "1 instances of CDS,nad1\n",
        "1 instances of CDS,nad2\n",
        "1 instances of CDS,nad3\n",
        "1 instances of CDS,nad4\n",
        "1 instances of CDS,nad4l\n",
        "1 instances of CDS,nad5\n",
        "1 instances of CDS,nad6\n",
        "1 instances of CDS,neurofibromin\n",
        "1 instances of CDS,nucleolar cysteine-rich protein\n",
        "1 instances of CDS,phosphatidylinositol kinase\n",
        "1 instances of CDS,prophenoloxidase\n",
        "1 instances of CDS,putative 26S proteasome non-ATPase regulatory subunit 2\n",
        "1 instances of CDS,putative 6-phosphogluconate dehydrogenase\n",
        "1 instances of CDS,putative AATS-ALA protein\n",
        "1 instances of CDS,putative ACC protein\n",
        "1 instances of CDS,putative alpha-adaptin-like protein\n",
        "1 instances of CDS,putative alpha-spectrin protein\n",
        "1 instances of CDS,putative AMP deaminase 2\n",
        "1 instances of CDS,putative bifunctional aminoacyl-tRNA synthetase\n",
        "1 instances of CDS,putative C-1-tetrahydrofolate synthetase, cytoplasmic\n",
        "1 instances of CDS,putative calcium/calmodulin-dependent protein kinase type II delta chain\n",
        "1 instances of CDS,putative casein kinase\n",
        "1 instances of CDS,putative CG9461-like protein\n",
        "1 instances of CDS,putative clathrin coat assembly protein\n",
        "1 instances of CDS,putative DNA replication licensing factor MCM2\n",
        "1 instances of CDS,putative dynamin-1\n",
        "1 instances of CDS,putative flightless I-like protein\n",
        "1 instances of CDS,putative glucosamine-6-phosphate isomerase\n",
        "1 instances of CDS,putative glucose-6-phosphate 1-dehydrogenase\n",
        "1 instances of CDS,putative glutaminyl-tRNA synthetase\n",
        "1 instances of CDS,putative glycogen synthase\n",
        "1 instances of CDS,putative GMP synthetase\n",
        "1 instances of CDS,putative GTP-binding protein\n",
        "1 instances of CDS,putative histidyl-tRNA synthetase\n",
        "1 instances of CDS,putative histone deacetylase 1\n",
        "1 instances of CDS,putative hypothetical 44.9 kDa protein\n",
        "1 instances of CDS,putative integrin-linked protein kinase\n",
        "1 instances of CDS,putative leucyl-tRNA synthetase\n",
        "1 instances of CDS,putative methionine aminopeptidase 2\n",
        "1 instances of CDS,putative methylmalonate-semialdehyde dehydrogenase\n",
        "1 instances of CDS,putative myosin VIIa\n",
        "1 instances of CDS,putative N-terminal acetyltransferase complex ARD1 subunit-like protein\n",
        "1 instances of CDS,putative pre-mRNA splicing factor RNA helicase\n",
        "1 instances of CDS,putative protein arginine N-methyltransferase 1\n",
        "1 instances of CDS,putative protein phosphatase PP2A 55kDa regulatory subunit\n",
        "1 instances of CDS,putative rudimentary protein\n",
        "1 instances of CDS,putative serine/threonine protein kinase 24\n",
        "1 instances of CDS,putative signal recognition particle protein\n",
        "1 instances of CDS,putative splicing factor 3B subunit 1\n",
        "1 instances of CDS,putative syntaxin 1A\n",
        "1 instances of CDS,putative transmembrane 9 superfamily protein member 2 precursor\n",
        "1 instances of CDS,putative triosephosphate isomerase\n",
        "1 instances of CDS,putative U5 snRNP 100 kDa protein\n",
        "1 instances of CDS,putative UDP-N-acetylglucosamine--peptide N-acetylglucosaminyltransferase\n",
        "1 instances of CDS,putative vacuolar ATP synthase subunit B\n",
        "1 instances of CDS,putative vacuolar ATP synthase subunit d 1\n",
        "1 instances of CDS,reverse transcriptase\n",
        "1 instances of CDS,RPB1\n",
        "1 instances of CDS,RPB2\n",
        "1 instances of CDS,RpL32\n",
        "1 instances of CDS,rt\n",
        "1 instances of CDS,SH2 domain binding protein\n",
        "1 instances of CDS,vacuolar ATP synthase subunit B\n",
        "1 instances of CDS,Wnt-1\n",
        "1 instances of CDS,wnt-10\n",
        "1 instances of rRNA,28S large subunit ribosomal RNA\n",
        "1 instances of rRNA,l-rRNA\n",
        "1 instances of rRNA,s-rRNA\n"
       ]
      }
     ],
     "prompt_number": 2
    },
    {
     "cell_type": "code",
     "collapsed": false,
     "input": [
      "%%file notostraca_loci_edited.csv\n",
      "\n",
      "dna,rRNA,18s,18S ribosomal RNA,9\n",
      "dna,rRNA,28S_rRNA,28S rRNA\n",
      "dna,rRNA,28s,28S large subunit ribosomal RNA,28S ribosomal RNA\n",
      "dna,CDS,AQP,AQP\n",
      "dna,CDS,ASH1,ASH1\n",
      "dna,CDS,ASH2,ASH2\n",
      "dna,CDS,Act,Act\n",
      "dna,CDS,Apsk,Apsk\n",
      "dna,CDS,Arr,Arr\n",
      "dna,CDS,CDC5-related_protein,CDC5-related protein\n",
      "dna,CDS,DKC1,DKC1\n",
      "dna,CDS,DPD1,DPD1\n",
      "dna,CDS,Dll,Dll\n",
      "dna,CDS,G_protein-coupled_receptor_kinase_1,G protein-coupled receptor kinase 1\n",
      "dna,CDS,H3,H3\n",
      "dna,CDS,HIF-1alpha,HIF-1alpha\n",
      "dna,CDS,MT-ATP6,ATP6,atp6\n",
      "dna,CDS,MT-ATP8,ATP8,atp8\n",
      "dna,CDS,MT-CO1,coi,COI,COX1,cox1,cytochrome c oxidase subunit I\n",
      "dna,CDS,MT-CO2,COII,COX2,cox2\n",
      "dna,CDS,MT-CO3,COIII,COX3,cox3\n",
      "dna,CDS,MT-CYB,cytb,CYTB\n",
      "dna,CDS,MT-ND1,nad1,ND1\n",
      "dna,CDS,MT-ND2,nad2,ND2\n",
      "dna,CDS,MT-ND3,nad3,ND3\n",
      "dna,CDS,MT-ND4,nad4,ND4\n",
      "dna,CDS,MT-ND4L,nad4l,ND4L\n",
      "dna,CDS,MT-ND5,nad5,ND5\n",
      "dna,CDS,MT-ND6,nad6,ND6\n",
      "dna,CDS,R2_protein,R2 protein\n",
      "dna,CDS,RNA_polymerase_II_largest_subunit,RNA polymerase II largest subunit\n",
      "dna,CDS,RPB1,RPB1\n",
      "dna,CDS,RPB2,RPB2\n",
      "dna,CDS,RhA,RhA\n",
      "dna,CDS,RhB,RhB\n",
      "dna,CDS,RhC,RhC\n",
      "dna,CDS,RhD,RhD\n",
      "dna,CDS,RhE,RhE\n",
      "dna,CDS,RpL32,RpL32\n",
      "dna,CDS,SH2_domain_binding_protein,SH2 domain binding protein\n",
      "dna,CDS,Wnt-1,Wnt-1\n",
      "dna,CDS,cad,cad\n",
      "dna,CDS,carnitine_palmitoyltransferase_family_member_cpt-2,carnitine palmitoyltransferase family member cpt-2\n",
      "dna,CDS,cob,cob\n",
      "dna,CDS,dac,dac\n",
      "dna,CDS,ef1a,elongation factor 1-alpha,elongation factor-1 alpha\n",
      "dna,CDS,elongation_factor-2,elongation factor-2\n",
      "dna,CDS,glucose_phosphate_isomerase,glucose phosphate isomerase\n",
      "dna,CDS,glycogen_synthase,glycogen synthase\n",
      "dna,rRNA,l-rRNA,l-rRNA\n",
      "dna,CDS,neurofibromin,neurofibromin\n",
      "dna,CDS,nucleolar_cysteine-rich_protein,nucleolar cysteine-rich protein\n",
      "dna,CDS,phosphatidylinositol_kinase,phosphatidylinositol kinase\n",
      "dna,CDS,prophenoloxidase,prophenoloxidase\n",
      "dna,CDS,putative_26S_proteasome_non-ATPase_regulatory_subunit_2,putative 26S proteasome non-ATPase regulatory subunit 2\n",
      "dna,CDS,putative_6-phosphogluconate_dehydrogenase,putative 6-phosphogluconate dehydrogenase\n",
      "dna,CDS,putative_AATS-ALA_protein,putative AATS-ALA protein\n",
      "dna,CDS,putative_ACC_protein,putative ACC protein\n",
      "dna,CDS,putative_AMP_deaminase_2,putative AMP deaminase 2\n",
      "dna,CDS,putative_C-1-tetrahydrofolate_synthetase,putative C-1-tetrahydrofolate synthetase\n",
      "dna,CDS,putative_CG9461-like_protein,putative CG9461-like protein\n",
      "dna,CDS,putative_DNA-directed_RNA_polymerase_II_subunit_2,putative DNA-directed RNA polymerase II subunit 2\n",
      "dna,CDS,putative_DNA_replication_licensing_factor_MCM2,putative DNA replication licensing factor MCM2\n",
      "dna,CDS,putative_GMP_synthetase,putative GMP synthetase\n",
      "dna,CDS,putative_GTP-binding_protein,putative GTP-binding protein\n",
      "dna,CDS,putative_N-terminal_acetyltransferase_complex_ARD1_subunit-like_protein,putative N-terminal acetyltransferase complex ARD1 subunit-like protein\n",
      "dna,CDS,putative_U5_snRNP_100_kDa_protein,putative U5 snRNP 100 kDa protein\n",
      "dna,CDS,putative_UDP-N-acetylglucosamine--peptide_N-acetylglucosaminyltransferase,putative UDP-N-acetylglucosamine--peptide N-acetylglucosaminyltransferase\n",
      "dna,CDS,putative_alpha-adaptin-like_protein,putative alpha-adaptin-like protein\n",
      "dna,CDS,putative_alpha-spectrin_protein,putative alpha-spectrin protein\n",
      "dna,CDS,putative_bifunctional_aminoacyl-tRNA_synthetase,putative bifunctional aminoacyl-tRNA synthetase\n",
      "dna,CDS,putative_calcium_calmodulin-dependent_protein_kinase_type_II_delta_chain,putative calcium/calmodulin-dependent protein kinase type II delta chain\n",
      "dna,CDS,putative_casein_kinase,putative casein kinase\n",
      "dna,CDS,putative_clathrin_coat_assembly_protein,putative clathrin coat assembly protein\n",
      "dna,CDS,putative_clathrin_heavy_chain,putative clathrin heavy chain\n",
      "dna,CDS,putative_dynamin-1,putative dynamin-1\n",
      "dna,CDS,putative_flightless_I-like_protein,putative flightless I-like protein\n",
      "dna,CDS,putative_glucosamine-6-phosphate_isomerase,putative glucosamine-6-phosphate isomerase\n",
      "dna,CDS,putative_glucose-6-phosphate_1-dehydrogenase,putative glucose-6-phosphate 1-dehydrogenase\n",
      "dna,CDS,putative_glutaminyl-tRNA_synthetase,putative glutaminyl-tRNA synthetase\n",
      "dna,CDS,putative_glycogen_synthase,putative glycogen synthase\n",
      "dna,CDS,putative_histidyl-tRNA_synthetase,putative histidyl-tRNA synthetase\n",
      "dna,CDS,putative_histone_deacetylase_1,putative histone deacetylase 1\n",
      "dna,CDS,putative_hypothetical_44.9_kDa_protein,putative hypothetical 44.9 kDa protein\n",
      "dna,CDS,putative_integrin-linked_protein_kinase,putative integrin-linked protein kinase\n",
      "dna,CDS,putative_leucyl-tRNA_synthetase,putative leucyl-tRNA synthetase\n",
      "dna,CDS,putative_methionine_aminopeptidase_2,putative methionine aminopeptidase 2\n",
      "dna,CDS,putative_methylmalonate-semialdehyde_dehydrogenase,putative methylmalonate-semialdehyde dehydrogenase\n",
      "dna,CDS,putative_myosin_VIIa,putative myosin VIIa\n",
      "dna,CDS,putative_neuroendocrine_convertase_2_precursor,putative neuroendocrine convertase 2 precursor\n",
      "dna,CDS,putative_pre-mRNA_splicing_factor_RNA_helicase,putative pre-mRNA splicing factor RNA helicase\n",
      "dna,CDS,putative_protein_arginine_N-methyltransferase_1,putative protein arginine N-methyltransferase 1\n",
      "dna,CDS,putative_protein_phosphatase_PP2A_55kDa_regulatory_subunit,putative protein phosphatase PP2A 55kDa regulatory subunit\n",
      "dna,CDS,putative_rudimentary_protein,putative rudimentary protein\n",
      "dna,CDS,putative_serine_threonine_protein_kinase_24,putative serine/threonine protein kinase 24\n",
      "dna,CDS,putative_signal_recognition_particle_protein,putative signal recognition particle protein\n",
      "dna,CDS,putative_splicing_factor,putative splicing factor\n",
      "dna,CDS,putative_splicing_factor_3B_subunit_1,putative splicing factor 3B subunit 1\n",
      "dna,CDS,putative_syntaxin_1A,putative syntaxin 1A\n",
      "dna,CDS,putative_transmembrane_9_superfamily_protein_member_2_precursor,putative transmembrane 9 superfamily protein member 2 precursor\n",
      "dna,CDS,putative_triosephosphate_isomerase,putative triosephosphate isomerase\n",
      "dna,CDS,putative_vacuolar_ATP_synthase_subunit_B,putative vacuolar ATP synthase subunit B\n",
      "dna,CDS,putative_vacuolar_ATP_synthase_subunit_d_1,putative vacuolar ATP synthase subunit d 1\n",
      "dna,CDS,reverse_transcriptase,reverse transcriptase\n",
      "dna,rRNA,rrnL,16S ribosomal RNA,16S rRNA,rrnL\n",
      "dna,rRNA,rrnS,12S ribosomal RNA,12S rRNA,rrnS\n",
      "dna,CDS,rt,rt\n",
      "dna,rRNA,s-rRNA,s-rRNA\n",
      "dna,rRNA,small_subunit_ribosomal_RNA,small subunit ribosomal RNA,9\n",
      "dna,CDS,vacuolar_ATP_synthase_subunit_B,vacuolar ATP synthase subunit B\n",
      "dna,CDS,wnt-10,wnt-10"
     ],
     "language": "python",
     "metadata": {},
     "outputs": [
      {
       "output_type": "stream",
       "stream": "stdout",
       "text": [
        "Writing notostraca_loci_edited.csv\n"
       ]
      }
     ],
     "prompt_number": 3
    },
    {
     "cell_type": "code",
     "collapsed": false,
     "input": [
      "pj = Project(\"notostraca_loci_edited.csv\")"
     ],
     "language": "python",
     "metadata": {},
     "outputs": [],
     "prompt_number": 4
    },
    {
     "cell_type": "code",
     "collapsed": false,
     "input": [
      "pj.read_embl_genbank([\"data/Notostraca_1695seqs.gb\"])"
     ],
     "language": "python",
     "metadata": {},
     "outputs": [
      {
       "output_type": "stream",
       "stream": "stderr",
       "text": [
        "reprophylo.py:891: UserWarning: Version control off\n",
        "  warnings.warn('Version control off')\n"
       ]
      }
     ],
     "prompt_number": 5
    },
    {
     "cell_type": "code",
     "collapsed": false,
     "input": [
      "pj.extract_by_locus()"
     ],
     "language": "python",
     "metadata": {},
     "outputs": [],
     "prompt_number": 6
    },
    {
     "cell_type": "code",
     "collapsed": false,
     "input": [
      "pickle_pj(pj, \"notostraca\")"
     ],
     "language": "python",
     "metadata": {},
     "outputs": [
      {
       "output_type": "stream",
       "stream": "stderr",
       "text": [
        "DEBUG:Cloud:Log file (/home/amir/.picloud/cloud.log) opened\n"
       ]
      },
      {
       "metadata": {},
       "output_type": "pyout",
       "prompt_number": 7,
       "text": [
        "'notostraca'"
       ]
      }
     ],
     "prompt_number": 7
    },
    {
     "cell_type": "code",
     "collapsed": false,
     "input": [
      "!python base_reprophylo.py notostraca -s -x"
     ],
     "language": "python",
     "metadata": {},
     "outputs": [
      {
       "output_type": "stream",
       "stream": "stdout",
       "text": [
        "ReproPhylo was called with:\r\n",
        "base_reprophylo.py notostraca -s -x \r\n",
        "\r\n"
       ]
      },
      {
       "output_type": "stream",
       "stream": "stdout",
       "text": [
        "\r\n",
        "---------------------------------------------\r\n",
        "The Project Now Contains The Following Loci:\r\n",
        "---------------------------------------------\r\n"
       ]
      },
      {
       "output_type": "stream",
       "stream": "stdout",
       "text": [
        "Locus                         Records   Sequence length (max min mean)\r\n",
        "MT-CO1                        406       1542     543      642.7\r\n",
        "MT-CO2                        7         681      681      681.0\r\n",
        "MT-CO3                        7         789      787      788.6\r\n",
        "putative_pre-mRNA_splicing_factor_RNA_helicase1         574      574      574.0\r\n",
        "carnitine_palmitoyltransferase_family_member_cpt-21         750      750      750.0\r\n",
        "putative_splicing_factor_3B_subunit_11         733      733      733.0\r\n",
        "MT-ND1                        163       918      431      487.7\r\n",
        "MT-ND2                        7         1002     993      998.1\r\n",
        "MT-ND3                        7         351      343      346.1\r\n",
        "MT-ND4                        7         1351     1318     1335.7\r\n",
        "MT-ND5                        7         1727     1707     1716.1\r\n",
        "MT-ND6                        7         501      498      498.9\r\n",
        "R2_protein                    6         3063     1560     2528.0\r\n",
        "G_protein-coupled_receptor_kinase_11         370      370      370.0\r\n",
        "putative_clathrin_heavy_chain 2         928      340      634.0\r\n",
        "MT-ATP8                       90        150      93       97.4\r\n",
        "putative_AATS-ALA_protein     1         942      942      942.0\r\n",
        "l-rRNA                        3         1383     1304     1356.7\r\n",
        "MT-ATP6                       90        672      420      439.6\r\n",
        "putative_flightless_I-like_protein1         592      592      592.0\r\n",
        "dac                           1         1497     1497     1497.0\r\n",
        "putative_alpha-adaptin-like_protein1         501      501      501.0\r\n",
        "Wnt-1                         1         384      384      384.0\r\n",
        "nucleolar_cysteine-rich_protein1         324      324      324.0\r\n",
        "rrnS                          210       764      319      476.4\r\n",
        "wnt-10                        1         363      363      363.0\r\n",
        "s-rRNA                        3         764      684      737.3\r\n",
        "ef1a                          12        1092     590      728.8\r\n",
        "Arr                           1         1194     1194     1194.0\r\n",
        "phosphatidylinositol_kinase   1         510      510      510.0\r\n",
        "CDC5-related_protein          1         333      333      333.0\r\n",
        "glycogen_synthase             4         686      495      635.2\r\n",
        "putative_UDP-N-acetylglucosamine--peptide_N-acetylglucosaminyltransferase1         868      868      868.0\r\n",
        "28s                           408       3718     46       729.0\r\n",
        "putative_glycogen_synthase    1         975      975      975.0\r\n",
        "putative_integrin-linked_protein_kinase1         938      938      938.0\r\n",
        "reverse_transcriptase         2         3096     1476     2286.0\r\n",
        "DPD1                          1         3023     3023     3023.0\r\n",
        "putative_protein_arginine_N-methyltransferase_11         744      744      744.0\r\n",
        "Dll                           1         118      118      118.0\r\n",
        "putative_clathrin_coat_assembly_protein1         625      625      625.0\r\n",
        "putative_CG9461-like_protein  1         553      553      553.0\r\n",
        "rt                            1         1476     1476     1476.0\r\n",
        "vacuolar_ATP_synthase_subunit_B1         609      609      609.0\r\n",
        "putative_hypothetical_44.9_kDa_protein1         451      451      451.0\r\n",
        "putative_DNA-directed_RNA_polymerase_II_subunit_22         706      544      625.0\r\n",
        "MT-ND4L                       7         318      318      318.0\r\n",
        "putative_alpha-spectrin_protein1         451      451      451.0\r\n",
        "MT-CYB                        6         1137     1134     1135.0\r\n",
        "putative_N-terminal_acetyltransferase_complex_ARD1_subunit-like_protein1         307      307      307.0\r\n",
        "putative_glutaminyl-tRNA_synthetase1         379      379      379.0\r\n",
        "28S_rRNA                      45        951      867      933.9\r\n",
        "putative_methylmalonate-semialdehyde_dehydrogenase1         469      469      469.0\r\n",
        "H3                            1         327      327      327.0\r\n",
        "putative_U5_snRNP_100_kDa_protein1         745      745      745.0\r\n",
        "putative_serine_threonine_protein_kinase_241         247      247      247.0\r\n",
        "cob                           1         1134     1134     1134.0\r\n",
        "elongation_factor-2           1         2107     2107     2107.0\r\n",
        "putative_AMP_deaminase_2      1         769      769      769.0\r\n",
        "putative_histidyl-tRNA_synthetase1         448      448      448.0\r\n",
        "putative_bifunctional_aminoacyl-tRNA_synthetase1         403      403      403.0\r\n",
        "putative_vacuolar_ATP_synthase_subunit_B1         460      460      460.0\r\n",
        "putative_triosephosphate_isomerase1         448      448      448.0\r\n",
        "putative_6-phosphogluconate_dehydrogenase1         754      754      754.0\r\n",
        "putative_myosin_VIIa          1         427      427      427.0\r\n",
        "RPB1                          1         4885     4885     4885.0\r\n",
        "RPB2                          1         3528     3528     3528.0\r\n",
        "putative_rudimentary_protein  1         601      601      601.0\r\n",
        "putative_protein_phosphatase_PP2A_55kDa_regulatory_subunit1         766      766      766.0\r\n",
        "putative_casein_kinase        1         343      343      343.0\r\n",
        "putative_glucose-6-phosphate_1-dehydrogenase1         622      622      622.0\r\n",
        "Apsk                          1         492      492      492.0\r\n",
        "putative_GMP_synthetase       1         592      592      592.0\r\n",
        "neurofibromin                 1         420      420      420.0\r\n",
        "prophenoloxidase              1         1175     1175     1175.0\r\n",
        "18s                           21        1809     312      875.6\r\n",
        "putative_leucyl-tRNA_synthetase1         451      451      451.0\r\n",
        "cad                           1         109      109      109.0\r\n",
        "putative_syntaxin_1A          1         472      472      472.0\r\n",
        "putative_methionine_aminopeptidase_21         538      538      538.0\r\n",
        "putative_dynamin-1            1         223      223      223.0\r\n",
        "RpL32                         1         405      405      405.0\r\n",
        "putative_ACC_protein          1         502      502      502.0\r\n",
        "RNA_polymerase_II_largest_subunit11        4885     321      933.1\r\n",
        "RhA                           2         1164     1158     1161.0\r\n",
        "RhC                           2         1125     1125     1125.0\r\n",
        "RhB                           2         1185     1185     1185.0\r\n",
        "RhE                           2         1137     337      737.0\r\n",
        "ASH1                          1         799      799      799.0\r\n",
        "ASH2                          1         1092     1092     1092.0\r\n",
        "AQP                           1         481      481      481.0\r\n",
        "putative_transmembrane_9_superfamily_protein_member_2_precursor1         607      607      607.0\r\n",
        "RhD                           2         1155     208      681.5\r\n",
        "putative_26S_proteasome_non-ATPase_regulatory_subunit_21         535      535      535.0\r\n",
        "SH2_domain_binding_protein    1         531      531      531.0\r\n",
        "glucose_phosphate_isomerase   1         666      666      666.0\r\n",
        "putative_vacuolar_ATP_synthase_subunit_d_11         505      505      505.0\r\n",
        "putative_DNA_replication_licensing_factor_MCM21         526      526      526.0\r\n",
        "HIF-1alpha                    1         409      409      409.0\r\n",
        "rrnL                          236       1383     350      500.2\r\n",
        "Act                           1         838      838      838.0\r\n",
        "putative_GTP-binding_protein  1         835      835      835.0\r\n",
        "putative_neuroendocrine_convertase_2_precursor2         553      325      439.0\r\n",
        "putative_glucosamine-6-phosphate_isomerase1         529      529      529.0\r\n",
        "putative_calcium_calmodulin-dependent_protein_kinase_type_II_delta_chain1         280      280      280.0\r\n",
        "putative_splicing_factor      2         619      532      575.5\r\n",
        "putative_C-1-tetrahydrofolate_synthetaseNo records\r\n",
        "putative_histone_deacetylase_11         850      850      850.0\r\n",
        "DKC1                          1         657      657      657.0\r\n",
        "putative_signal_recognition_particle_protein1         304      304      304.0\r\n",
        "------------------\r\n",
        "Sequence Alignment\r\n",
        "------------------\r\n",
        "putative_pre-mRNA_splicing_factor_RNA_helicase have less than 4 sequences and will be dropped from this conf object. Don't use it in a concatenation\r\n",
        "carnitine_palmitoyltransferase_family_member_cpt-2 have less than 4 sequences and will be dropped from this conf object. Don't use it in a concatenation\r\n",
        "putative_splicing_factor_3B_subunit_1 have less than 4 sequences and will be dropped from this conf object. Don't use it in a concatenation\r\n",
        "G_protein-coupled_receptor_kinase_1 have less than 4 sequences and will be dropped from this conf object. Don't use it in a concatenation\r\n",
        "putative_clathrin_heavy_chain have less than 4 sequences and will be dropped from this conf object. Don't use it in a concatenation\r\n",
        "putative_AATS-ALA_protein have less than 4 sequences and will be dropped from this conf object. Don't use it in a concatenation\r\n",
        "l-rRNA have less than 4 sequences and will be dropped from this conf object. Don't use it in a concatenation\r\n",
        "putative_flightless_I-like_protein have less than 4 sequences and will be dropped from this conf object. Don't use it in a concatenation\r\n",
        "dac have less than 4 sequences and will be dropped from this conf object. Don't use it in a concatenation\r\n",
        "putative_alpha-adaptin-like_protein have less than 4 sequences and will be dropped from this conf object. Don't use it in a concatenation\r\n",
        "Wnt-1 have less than 4 sequences and will be dropped from this conf object. Don't use it in a concatenation\r\n",
        "nucleolar_cysteine-rich_protein have less than 4 sequences and will be dropped from this conf object. Don't use it in a concatenation\r\n",
        "wnt-10 have less than 4 sequences and will be dropped from this conf object. Don't use it in a concatenation\r\n",
        "s-rRNA have less than 4 sequences and will be dropped from this conf object. Don't use it in a concatenation\r\n",
        "Arr have less than 4 sequences and will be dropped from this conf object. Don't use it in a concatenation\r\n",
        "phosphatidylinositol_kinase have less than 4 sequences and will be dropped from this conf object. Don't use it in a concatenation\r\n",
        "CDC5-related_protein have less than 4 sequences and will be dropped from this conf object. Don't use it in a concatenation\r\n",
        "putative_UDP-N-acetylglucosamine--peptide_N-acetylglucosaminyltransferase have less than 4 sequences and will be dropped from this conf object. Don't use it in a concatenation\r\n",
        "putative_glycogen_synthase have less than 4 sequences and will be dropped from this conf object. Don't use it in a concatenation\r\n",
        "putative_integrin-linked_protein_kinase have less than 4 sequences and will be dropped from this conf object. Don't use it in a concatenation\r\n",
        "reverse_transcriptase have less than 4 sequences and will be dropped from this conf object. Don't use it in a concatenation\r\n",
        "DPD1 have less than 4 sequences and will be dropped from this conf object. Don't use it in a concatenation\r\n",
        "putative_protein_arginine_N-methyltransferase_1 have less than 4 sequences and will be dropped from this conf object. Don't use it in a concatenation\r\n",
        "Dll have less than 4 sequences and will be dropped from this conf object. Don't use it in a concatenation\r\n",
        "putative_clathrin_coat_assembly_protein have less than 4 sequences and will be dropped from this conf object. Don't use it in a concatenation\r\n",
        "putative_CG9461-like_protein have less than 4 sequences and will be dropped from this conf object. Don't use it in a concatenation\r\n",
        "rt have less than 4 sequences and will be dropped from this conf object. Don't use it in a concatenation\r\n",
        "vacuolar_ATP_synthase_subunit_B have less than 4 sequences and will be dropped from this conf object. Don't use it in a concatenation\r\n",
        "putative_hypothetical_44.9_kDa_protein have less than 4 sequences and will be dropped from this conf object. Don't use it in a concatenation\r\n",
        "putative_DNA-directed_RNA_polymerase_II_subunit_2 have less than 4 sequences and will be dropped from this conf object. Don't use it in a concatenation\r\n",
        "putative_alpha-spectrin_protein have less than 4 sequences and will be dropped from this conf object. Don't use it in a concatenation\r\n",
        "putative_N-terminal_acetyltransferase_complex_ARD1_subunit-like_protein have less than 4 sequences and will be dropped from this conf object. Don't use it in a concatenation\r\n",
        "putative_glutaminyl-tRNA_synthetase have less than 4 sequences and will be dropped from this conf object. Don't use it in a concatenation\r\n",
        "putative_methylmalonate-semialdehyde_dehydrogenase have less than 4 sequences and will be dropped from this conf object. Don't use it in a concatenation\r\n",
        "H3 have less than 4 sequences and will be dropped from this conf object. Don't use it in a concatenation\r\n",
        "putative_U5_snRNP_100_kDa_protein have less than 4 sequences and will be dropped from this conf object. Don't use it in a concatenation\r\n",
        "putative_serine_threonine_protein_kinase_24 have less than 4 sequences and will be dropped from this conf object. Don't use it in a concatenation\r\n",
        "cob have less than 4 sequences and will be dropped from this conf object. Don't use it in a concatenation\r\n",
        "elongation_factor-2 have less than 4 sequences and will be dropped from this conf object. Don't use it in a concatenation\r\n",
        "putative_AMP_deaminase_2 have less than 4 sequences and will be dropped from this conf object. Don't use it in a concatenation\r\n",
        "putative_histidyl-tRNA_synthetase have less than 4 sequences and will be dropped from this conf object. Don't use it in a concatenation\r\n",
        "putative_bifunctional_aminoacyl-tRNA_synthetase have less than 4 sequences and will be dropped from this conf object. Don't use it in a concatenation\r\n",
        "putative_vacuolar_ATP_synthase_subunit_B have less than 4 sequences and will be dropped from this conf object. Don't use it in a concatenation\r\n",
        "putative_triosephosphate_isomerase have less than 4 sequences and will be dropped from this conf object. Don't use it in a concatenation\r\n",
        "putative_6-phosphogluconate_dehydrogenase have less than 4 sequences and will be dropped from this conf object. Don't use it in a concatenation\r\n",
        "putative_myosin_VIIa have less than 4 sequences and will be dropped from this conf object. Don't use it in a concatenation\r\n",
        "RPB1 have less than 4 sequences and will be dropped from this conf object. Don't use it in a concatenation\r\n",
        "RPB2 have less than 4 sequences and will be dropped from this conf object. Don't use it in a concatenation\r\n",
        "putative_rudimentary_protein have less than 4 sequences and will be dropped from this conf object. Don't use it in a concatenation\r\n",
        "putative_protein_phosphatase_PP2A_55kDa_regulatory_subunit have less than 4 sequences and will be dropped from this conf object. Don't use it in a concatenation\r\n",
        "putative_casein_kinase have less than 4 sequences and will be dropped from this conf object. Don't use it in a concatenation\r\n",
        "putative_glucose-6-phosphate_1-dehydrogenase have less than 4 sequences and will be dropped from this conf object. Don't use it in a concatenation\r\n",
        "Apsk have less than 4 sequences and will be dropped from this conf object. Don't use it in a concatenation\r\n",
        "putative_GMP_synthetase have less than 4 sequences and will be dropped from this conf object. Don't use it in a concatenation\r\n",
        "neurofibromin have less than 4 sequences and will be dropped from this conf object. Don't use it in a concatenation\r\n",
        "prophenoloxidase have less than 4 sequences and will be dropped from this conf object. Don't use it in a concatenation\r\n",
        "putative_leucyl-tRNA_synthetase have less than 4 sequences and will be dropped from this conf object. Don't use it in a concatenation\r\n",
        "cad have less than 4 sequences and will be dropped from this conf object. Don't use it in a concatenation\r\n",
        "putative_syntaxin_1A have less than 4 sequences and will be dropped from this conf object. Don't use it in a concatenation\r\n",
        "putative_methionine_aminopeptidase_2 have less than 4 sequences and will be dropped from this conf object. Don't use it in a concatenation\r\n",
        "putative_dynamin-1 have less than 4 sequences and will be dropped from this conf object. Don't use it in a concatenation\r\n",
        "RpL32 have less than 4 sequences and will be dropped from this conf object. Don't use it in a concatenation\r\n",
        "putative_ACC_protein have less than 4 sequences and will be dropped from this conf object. Don't use it in a concatenation\r\n",
        "RhA have less than 4 sequences and will be dropped from this conf object. Don't use it in a concatenation\r\n",
        "RhC have less than 4 sequences and will be dropped from this conf object. Don't use it in a concatenation\r\n",
        "RhB have less than 4 sequences and will be dropped from this conf object. Don't use it in a concatenation\r\n",
        "RhE have less than 4 sequences and will be dropped from this conf object. Don't use it in a concatenation\r\n",
        "ASH1 have less than 4 sequences and will be dropped from this conf object. Don't use it in a concatenation\r\n",
        "ASH2 have less than 4 sequences and will be dropped from this conf object. Don't use it in a concatenation\r\n",
        "AQP have less than 4 sequences and will be dropped from this conf object. Don't use it in a concatenation\r\n",
        "putative_transmembrane_9_superfamily_protein_member_2_precursor have less than 4 sequences and will be dropped from this conf object. Don't use it in a concatenation\r\n",
        "RhD have less than 4 sequences and will be dropped from this conf object. Don't use it in a concatenation\r\n",
        "putative_26S_proteasome_non-ATPase_regulatory_subunit_2 have less than 4 sequences and will be dropped from this conf object. Don't use it in a concatenation\r\n",
        "SH2_domain_binding_protein have less than 4 sequences and will be dropped from this conf object. Don't use it in a concatenation\r\n",
        "glucose_phosphate_isomerase have less than 4 sequences and will be dropped from this conf object. Don't use it in a concatenation\r\n",
        "putative_vacuolar_ATP_synthase_subunit_d_1 have less than 4 sequences and will be dropped from this conf object. Don't use it in a concatenation\r\n",
        "putative_DNA_replication_licensing_factor_MCM2 have less than 4 sequences and will be dropped from this conf object. Don't use it in a concatenation\r\n",
        "HIF-1alpha have less than 4 sequences and will be dropped from this conf object. Don't use it in a concatenation\r\n",
        "Act have less than 4 sequences and will be dropped from this conf object. Don't use it in a concatenation\r\n",
        "putative_GTP-binding_protein have less than 4 sequences and will be dropped from this conf object. Don't use it in a concatenation\r\n",
        "putative_neuroendocrine_convertase_2_precursor have less than 4 sequences and will be dropped from this conf object. Don't use it in a concatenation\r\n",
        "putative_glucosamine-6-phosphate_isomerase have less than 4 sequences and will be dropped from this conf object. Don't use it in a concatenation\r\n",
        "putative_calcium_calmodulin-dependent_protein_kinase_type_II_delta_chain have less than 4 sequences and will be dropped from this conf object. Don't use it in a concatenation\r\n",
        "putative_splicing_factor have less than 4 sequences and will be dropped from this conf object. Don't use it in a concatenation\r\n",
        "putative_C-1-tetrahydrofolate_synthetase have less than 4 sequences and will be dropped from this conf object. Don't use it in a concatenation\r\n",
        "putative_histone_deacetylase_1 have less than 4 sequences and will be dropped from this conf object. Don't use it in a concatenation\r\n",
        "DKC1 have less than 4 sequences and will be dropped from this conf object. Don't use it in a concatenation\r\n",
        "putative_signal_recognition_particle_protein have less than 4 sequences and will be dropped from this conf object. Don't use it in a concatenation\r\n",
        "mafft 950631415271151.88_MT-CO1.fasta\r\n",
        "mafft 950631415271151.88_MT-CO2.fasta\r\n",
        "mafft 950631415271151.88_MT-CO3.fasta\r\n",
        "mafft 950631415271151.88_MT-ND1.fasta\r\n",
        "mafft 950631415271151.88_MT-ND2.fasta\r\n",
        "mafft 950631415271151.88_MT-ND3.fasta\r\n",
        "mafft 950631415271151.88_MT-ND4.fasta\r\n",
        "mafft 950631415271151.88_MT-ND5.fasta\r\n",
        "mafft 950631415271151.88_MT-ND6.fasta\r\n",
        "mafft 950631415271151.88_R2_protein.fasta\r\n",
        "mafft 950631415271151.88_MT-ATP8.fasta\r\n",
        "mafft 950631415271151.88_MT-ATP6.fasta\r\n",
        "mafft 950631415271151.88_rrnS.fasta\r\n",
        "mafft 950631415271151.88_ef1a.fasta\r\n",
        "mafft 950631415271151.88_glycogen_synthase.fasta\r\n",
        "mafft 950631415271151.88_28s.fasta\r\n",
        "mafft 950631415271151.88_MT-ND4L.fasta\r\n",
        "mafft 950631415271151.88_MT-CYB.fasta\r\n",
        "mafft 950631415271151.88_28S_rRNA.fasta\r\n",
        "mafft 950631415271151.88_18s.fasta\r\n"
       ]
      },
      {
       "output_type": "stream",
       "stream": "stdout",
       "text": [
        "mafft 950631415271151.88_RNA_polymerase_II_largest_subunit.fasta\r\n",
        "mafft 950631415271151.88_rrnL.fasta\r\n"
       ]
      },
      {
       "output_type": "stream",
       "stream": "stdout",
       "text": [
        "------------------\r\n",
        "Trimming Alignment\r\n",
        "------------------\r\n",
        "trimal -in 111001415271191.81_MT-ND2@MafftDefaults.fasta -gappyout\r\n",
        "trimal -in 111001415271191.81_MT-ND3@MafftDefaults.fasta -gappyout\r\n",
        "trimal -in 111001415271191.81_18s@MafftDefaults.fasta -gappyout\r\n",
        "trimal -in 111001415271191.81_rrnL@MafftDefaults.fasta -gappyout\r\n",
        "trimal -in 111001415271191.81_ef1a@MafftDefaults.fasta -gappyout\r\n",
        "trimal -in 111001415271191.81_rrnS@MafftDefaults.fasta -gappyout\r\n",
        "trimal -in 111001415271191.81_MT-ATP6@MafftDefaults.fasta -gappyout\r\n",
        "trimal -in 111001415271191.81_MT-CYB@MafftDefaults.fasta -gappyout\r\n",
        "trimal -in 111001415271191.81_28S_rRNA@MafftDefaults.fasta -gappyout\r\n",
        "trimal -in 111001415271191.81_MT-CO2@MafftDefaults.fasta -gappyout\r\n",
        "trimal -in 111001415271191.81_MT-CO3@MafftDefaults.fasta -gappyout\r\n",
        "trimal -in 111001415271191.81_MT-ND5@MafftDefaults.fasta -gappyout\r\n",
        "trimal -in 111001415271191.81_MT-ND1@MafftDefaults.fasta -gappyout\r\n",
        "trimal -in 111001415271191.81_R2_protein@MafftDefaults.fasta -gappyout\r\n",
        "trimal -in 111001415271191.81_MT-ND6@MafftDefaults.fasta -gappyout\r\n",
        "trimal -in 111001415271191.81_glycogen_synthase@MafftDefaults.fasta -gappyout\r\n",
        "trimal -in 111001415271191.81_RNA_polymerase_II_largest_subunit@MafftDefaults.fasta -gappyout\r\n",
        "trimal -in 111001415271191.81_MT-ND4@MafftDefaults.fasta -gappyout\r\n",
        "trimal -in 111001415271191.81_28s@MafftDefaults.fasta -gappyout\r\n"
       ]
      },
      {
       "output_type": "stream",
       "stream": "stdout",
       "text": [
        "trimal -in 111001415271191.81_MT-CO1@MafftDefaults.fasta -gappyout\r\n",
        "trimal -in 111001415271191.81_MT-ATP8@MafftDefaults.fasta -gappyout\r\n",
        "trimal -in 111001415271191.81_MT-ND4L@MafftDefaults.fasta -gappyout\r\n"
       ]
      },
      {
       "output_type": "stream",
       "stream": "stdout",
       "text": [
        "-------------------\r\n",
        "Tree Reconstructios\r\n",
        "-------------------\r\n",
        "raxmlHPC-PTHREADS-SSE3 -f D -m GTRGAMMA -n 397051415271202.47_rrnS@MafftDefaults@gappyout0 -p 575 -s 397051415271202.47_rrnS@MafftDefaults@gappyout.fasta -T 4 -N 1\r\n",
        "raxmlHPC-PTHREADS-SSE3 -f b -m GTRGAMMA -n 397051415271202.47_rrnS@MafftDefaults@gappyout1 -p 145 -s 397051415271202.47_rrnS@MafftDefaults@gappyout.fasta -t RAxML_bestTree.397051415271202.47_rrnS@MafftDefaults@gappyout0 -T 4 -z RAxML_rellBootstrap.397051415271202.47_rrnS@MafftDefaults@gappyout0\r\n",
        "raxmlHPC-PTHREADS-SSE3 -f D -m GTRGAMMA -n 397051415271202.47_MT-ND6@MafftDefaults@gappyout0 -p 221 -s 397051415271202.47_MT-ND6@MafftDefaults@gappyout.fasta -T 4 -N 1\r\n"
       ]
      },
      {
       "output_type": "stream",
       "stream": "stdout",
       "text": [
        "raxmlHPC-PTHREADS-SSE3 -f b -m GTRGAMMA -n 397051415271202.47_MT-ND6@MafftDefaults@gappyout1 -p 614 -s 397051415271202.47_MT-ND6@MafftDefaults@gappyout.fasta -t RAxML_bestTree.397051415271202.47_MT-ND6@MafftDefaults@gappyout0 -T 4 -z RAxML_rellBootstrap.397051415271202.47_MT-ND6@MafftDefaults@gappyout0\r\n",
        "raxmlHPC-PTHREADS-SSE3 -f D -m GTRGAMMA -n 397051415271202.47_MT-CO2@MafftDefaults@gappyout0 -p 815 -s 397051415271202.47_MT-CO2@MafftDefaults@gappyout.fasta -T 4 -N 1\r\n",
        "raxmlHPC-PTHREADS-SSE3 -f b -m GTRGAMMA -n 397051415271202.47_MT-CO2@MafftDefaults@gappyout1 -p 579 -s 397051415271202.47_MT-CO2@MafftDefaults@gappyout.fasta -t RAxML_bestTree.397051415271202.47_MT-CO2@MafftDefaults@gappyout0 -T 4 -z RAxML_rellBootstrap.397051415271202.47_MT-CO2@MafftDefaults@gappyout0\r\n",
        "raxmlHPC-PTHREADS-SSE3 -f D -m GTRGAMMA -n 397051415271202.47_MT-CO3@MafftDefaults@gappyout0 -p 867 -s 397051415271202.47_MT-CO3@MafftDefaults@gappyout.fasta -T 4 -N 1\r\n",
        "raxmlHPC-PTHREADS-SSE3 -f b -m GTRGAMMA -n 397051415271202.47_MT-CO3@MafftDefaults@gappyout1 -p 294 -s 397051415271202.47_MT-CO3@MafftDefaults@gappyout.fasta -t RAxML_bestTree.397051415271202.47_MT-CO3@MafftDefaults@gappyout0 -T 4 -z RAxML_rellBootstrap.397051415271202.47_MT-CO3@MafftDefaults@gappyout0\r\n",
        "raxmlHPC-PTHREADS-SSE3 -f D -m GTRGAMMA -n 397051415271202.47_ef1a@MafftDefaults@gappyout0 -p 684 -s 397051415271202.47_ef1a@MafftDefaults@gappyout.fasta -T 4 -N 1\r\n",
        "raxmlHPC-PTHREADS-SSE3 -f b -m GTRGAMMA -n 397051415271202.47_ef1a@MafftDefaults@gappyout1 -p 190 -s 397051415271202.47_ef1a@MafftDefaults@gappyout.fasta -t RAxML_bestTree.397051415271202.47_ef1a@MafftDefaults@gappyout0 -T 4 -z RAxML_rellBootstrap.397051415271202.47_ef1a@MafftDefaults@gappyout0\r\n",
        "raxmlHPC-PTHREADS-SSE3 -f D -m GTRGAMMA -n 397051415271202.47_R2_protein@MafftDefaults@gappyout0 -p 325 -s 397051415271202.47_R2_protein@MafftDefaults@gappyout.fasta -T 4 -N 1\r\n",
        "raxmlHPC-PTHREADS-SSE3 -f b -m GTRGAMMA -n 397051415271202.47_R2_protein@MafftDefaults@gappyout1 -p 23 -s 397051415271202.47_R2_protein@MafftDefaults@gappyout.fasta -t RAxML_bestTree.397051415271202.47_R2_protein@MafftDefaults@gappyout0 -T 4 -z RAxML_rellBootstrap.397051415271202.47_R2_protein@MafftDefaults@gappyout0\r\n",
        "raxmlHPC-PTHREADS-SSE3 -f D -m GTRGAMMA -n 397051415271202.47_MT-CYB@MafftDefaults@gappyout0 -p 889 -s 397051415271202.47_MT-CYB@MafftDefaults@gappyout.fasta -T 4 -N 1\r\n",
        "raxmlHPC-PTHREADS-SSE3 -f b -m GTRGAMMA -n 397051415271202.47_MT-CYB@MafftDefaults@gappyout1 -p 782 -s 397051415271202.47_MT-CYB@MafftDefaults@gappyout.fasta -t RAxML_bestTree.397051415271202.47_MT-CYB@MafftDefaults@gappyout0 -T 4 -z RAxML_rellBootstrap.397051415271202.47_MT-CYB@MafftDefaults@gappyout0\r\n",
        "raxmlHPC-PTHREADS-SSE3 -f D -m GTRGAMMA -n 397051415271202.47_MT-ND2@MafftDefaults@gappyout0 -p 352 -s 397051415271202.47_MT-ND2@MafftDefaults@gappyout.fasta -T 4 -N 1\r\n",
        "raxmlHPC-PTHREADS-SSE3 -f b -m GTRGAMMA -n 397051415271202.47_MT-ND2@MafftDefaults@gappyout1 -p 466 -s 397051415271202.47_MT-ND2@MafftDefaults@gappyout.fasta -t RAxML_bestTree.397051415271202.47_MT-ND2@MafftDefaults@gappyout0 -T 4 -z RAxML_rellBootstrap.397051415271202.47_MT-ND2@MafftDefaults@gappyout0\r\n",
        "raxmlHPC-PTHREADS-SSE3 -f D -m GTRGAMMA -n 397051415271202.47_MT-ND4@MafftDefaults@gappyout0 -p 166 -s 397051415271202.47_MT-ND4@MafftDefaults@gappyout.fasta -T 4 -N 1\r\n",
        "raxmlHPC-PTHREADS-SSE3 -f b -m GTRGAMMA -n 397051415271202.47_MT-ND4@MafftDefaults@gappyout1 -p 593 -s 397051415271202.47_MT-ND4@MafftDefaults@gappyout.fasta -t RAxML_bestTree.397051415271202.47_MT-ND4@MafftDefaults@gappyout0 -T 4 -z RAxML_rellBootstrap.397051415271202.47_MT-ND4@MafftDefaults@gappyout0\r\n",
        "raxmlHPC-PTHREADS-SSE3 -f D -m GTRGAMMA -n 397051415271202.47_28S_rRNA@MafftDefaults@gappyout0 -p 398 -s 397051415271202.47_28S_rRNA@MafftDefaults@gappyout.fasta -T 4 -N 1\r\n",
        "raxmlHPC-PTHREADS-SSE3 -f b -m GTRGAMMA -n 397051415271202.47_28S_rRNA@MafftDefaults@gappyout1 -p 774 -s 397051415271202.47_28S_rRNA@MafftDefaults@gappyout.fasta -t RAxML_bestTree.397051415271202.47_28S_rRNA@MafftDefaults@gappyout0 -T 4 -z RAxML_rellBootstrap.397051415271202.47_28S_rRNA@MafftDefaults@gappyout0\r\n",
        "raxmlHPC-PTHREADS-SSE3 -f D -m GTRGAMMA -n 397051415271202.47_MT-ND3@MafftDefaults@gappyout0 -p 257 -s 397051415271202.47_MT-ND3@MafftDefaults@gappyout.fasta -T 4 -N 1\r\n",
        "raxmlHPC-PTHREADS-SSE3 -f b -m GTRGAMMA -n 397051415271202.47_MT-ND3@MafftDefaults@gappyout1 -p 434 -s 397051415271202.47_MT-ND3@MafftDefaults@gappyout.fasta -t RAxML_bestTree.397051415271202.47_MT-ND3@MafftDefaults@gappyout0 -T 4 -z RAxML_rellBootstrap.397051415271202.47_MT-ND3@MafftDefaults@gappyout0\r\n",
        "raxmlHPC-PTHREADS-SSE3 -f D -m GTRGAMMA -n 397051415271202.47_28s@MafftDefaults@gappyout0 -p 320 -s 397051415271202.47_28s@MafftDefaults@gappyout.fasta -T 4 -N 1\r\n",
        "raxmlHPC-PTHREADS-SSE3 -f b -m GTRGAMMA -n 397051415271202.47_28s@MafftDefaults@gappyout1 -p 388 -s 397051415271202.47_28s@MafftDefaults@gappyout.fasta -t RAxML_bestTree.397051415271202.47_28s@MafftDefaults@gappyout0 -T 4 -z RAxML_rellBootstrap.397051415271202.47_28s@MafftDefaults@gappyout0\r\n",
        "raxmlHPC-PTHREADS-SSE3 -f D -m GTRGAMMA -n 397051415271202.47_MT-CO1@MafftDefaults@gappyout0 -p 795 -s 397051415271202.47_MT-CO1@MafftDefaults@gappyout.fasta -T 4 -N 1\r\n",
        "raxmlHPC-PTHREADS-SSE3 -f b -m GTRGAMMA -n 397051415271202.47_MT-CO1@MafftDefaults@gappyout1 -p 112 -s 397051415271202.47_MT-CO1@MafftDefaults@gappyout.fasta -t RAxML_bestTree.397051415271202.47_MT-CO1@MafftDefaults@gappyout0 -T 4 -z RAxML_rellBootstrap.397051415271202.47_MT-CO1@MafftDefaults@gappyout0\r\n",
        "raxmlHPC-PTHREADS-SSE3 -f D -m GTRGAMMA -n 397051415271202.47_glycogen_synthase@MafftDefaults@gappyout0 -p 739 -s 397051415271202.47_glycogen_synthase@MafftDefaults@gappyout.fasta -T 4 -N 1\r\n",
        "raxmlHPC-PTHREADS-SSE3 -f b -m GTRGAMMA -n 397051415271202.47_glycogen_synthase@MafftDefaults@gappyout1 -p 37 -s 397051415271202.47_glycogen_synthase@MafftDefaults@gappyout.fasta -t RAxML_bestTree.397051415271202.47_glycogen_synthase@MafftDefaults@gappyout0 -T 4 -z RAxML_rellBootstrap.397051415271202.47_glycogen_synthase@MafftDefaults@gappyout0\r\n",
        "raxmlHPC-PTHREADS-SSE3 -f D -m GTRGAMMA -n 397051415271202.47_MT-ND4L@MafftDefaults@gappyout0 -p 931 -s 397051415271202.47_MT-ND4L@MafftDefaults@gappyout.fasta -T 4 -N 1\r\n",
        "raxmlHPC-PTHREADS-SSE3 -f b -m GTRGAMMA -n 397051415271202.47_MT-ND4L@MafftDefaults@gappyout1 -p 802 -s 397051415271202.47_MT-ND4L@MafftDefaults@gappyout.fasta -t RAxML_bestTree.397051415271202.47_MT-ND4L@MafftDefaults@gappyout0 -T 4 -z RAxML_rellBootstrap.397051415271202.47_MT-ND4L@MafftDefaults@gappyout0\r\n",
        "raxmlHPC-PTHREADS-SSE3 -f D -m GTRGAMMA -n 397051415271202.47_18s@MafftDefaults@gappyout0 -p 989 -s 397051415271202.47_18s@MafftDefaults@gappyout.fasta -T 4 -N 1\r\n",
        "raxmlHPC-PTHREADS-SSE3 -f b -m GTRGAMMA -n 397051415271202.47_18s@MafftDefaults@gappyout1 -p 323 -s 397051415271202.47_18s@MafftDefaults@gappyout.fasta -t RAxML_bestTree.397051415271202.47_18s@MafftDefaults@gappyout0 -T 4 -z RAxML_rellBootstrap.397051415271202.47_18s@MafftDefaults@gappyout0\r\n",
        "raxmlHPC-PTHREADS-SSE3 -f D -m GTRGAMMA -n 397051415271202.47_MT-ND1@MafftDefaults@gappyout0 -p 457 -s 397051415271202.47_MT-ND1@MafftDefaults@gappyout.fasta -T 4 -N 1\r\n",
        "raxmlHPC-PTHREADS-SSE3 -f b -m GTRGAMMA -n 397051415271202.47_MT-ND1@MafftDefaults@gappyout1 -p 893 -s 397051415271202.47_MT-ND1@MafftDefaults@gappyout.fasta -t RAxML_bestTree.397051415271202.47_MT-ND1@MafftDefaults@gappyout0 -T 4 -z RAxML_rellBootstrap.397051415271202.47_MT-ND1@MafftDefaults@gappyout0\r\n",
        "raxmlHPC-PTHREADS-SSE3 -f D -m GTRGAMMA -n 397051415271202.47_MT-ATP8@MafftDefaults@gappyout0 -p 476 -s 397051415271202.47_MT-ATP8@MafftDefaults@gappyout.fasta -T 4 -N 1\r\n",
        "raxmlHPC-PTHREADS-SSE3 -f b -m GTRGAMMA -n 397051415271202.47_MT-ATP8@MafftDefaults@gappyout1 -p 808 -s 397051415271202.47_MT-ATP8@MafftDefaults@gappyout.fasta -t RAxML_bestTree.397051415271202.47_MT-ATP8@MafftDefaults@gappyout0 -T 4 -z RAxML_rellBootstrap.397051415271202.47_MT-ATP8@MafftDefaults@gappyout0\r\n",
        "raxmlHPC-PTHREADS-SSE3 -f D -m GTRGAMMA -n 397051415271202.47_MT-ATP6@MafftDefaults@gappyout0 -p 757 -s 397051415271202.47_MT-ATP6@MafftDefaults@gappyout.fasta -T 4 -N 1\r\n",
        "raxmlHPC-PTHREADS-SSE3 -f b -m GTRGAMMA -n 397051415271202.47_MT-ATP6@MafftDefaults@gappyout1 -p 542 -s 397051415271202.47_MT-ATP6@MafftDefaults@gappyout.fasta -t RAxML_bestTree.397051415271202.47_MT-ATP6@MafftDefaults@gappyout0 -T 4 -z RAxML_rellBootstrap.397051415271202.47_MT-ATP6@MafftDefaults@gappyout0\r\n",
        "raxmlHPC-PTHREADS-SSE3 -f D -m GTRGAMMA -n 397051415271202.47_rrnL@MafftDefaults@gappyout0 -p 186 -s 397051415271202.47_rrnL@MafftDefaults@gappyout.fasta -T 4 -N 1\r\n",
        "raxmlHPC-PTHREADS-SSE3 -f b -m GTRGAMMA -n 397051415271202.47_rrnL@MafftDefaults@gappyout1 -p 990 -s 397051415271202.47_rrnL@MafftDefaults@gappyout.fasta -t RAxML_bestTree.397051415271202.47_rrnL@MafftDefaults@gappyout0 -T 4 -z RAxML_rellBootstrap.397051415271202.47_rrnL@MafftDefaults@gappyout0\r\n",
        "raxmlHPC-PTHREADS-SSE3 -f D -m GTRGAMMA -n 397051415271202.47_MT-ND5@MafftDefaults@gappyout0 -p 606 -s 397051415271202.47_MT-ND5@MafftDefaults@gappyout.fasta -T 4 -N 1\r\n",
        "raxmlHPC-PTHREADS-SSE3 -f b -m GTRGAMMA -n 397051415271202.47_MT-ND5@MafftDefaults@gappyout1 -p 778 -s 397051415271202.47_MT-ND5@MafftDefaults@gappyout.fasta -t RAxML_bestTree.397051415271202.47_MT-ND5@MafftDefaults@gappyout0 -T 4 -z RAxML_rellBootstrap.397051415271202.47_MT-ND5@MafftDefaults@gappyout0\r\n",
        "raxmlHPC-PTHREADS-SSE3 -f D -m GTRGAMMA -n 397051415271202.47_RNA_polymerase_II_largest_subunit@MafftDefaults@gappyout0 -p 493 -s 397051415271202.47_RNA_polymerase_II_largest_subunit@MafftDefaults@gappyout.fasta -T 4 -N 1\r\n",
        "raxmlHPC-PTHREADS-SSE3 -f b -m GTRGAMMA -n 397051415271202.47_RNA_polymerase_II_largest_subunit@MafftDefaults@gappyout1 -p 824 -s 397051415271202.47_RNA_polymerase_II_largest_subunit@MafftDefaults@gappyout.fasta -t RAxML_bestTree.397051415271202.47_RNA_polymerase_II_largest_subunit@MafftDefaults@gappyout0 -T 4 -z RAxML_rellBootstrap.397051415271202.47_RNA_polymerase_II_largest_subunit@MafftDefaults@gappyout0\r\n"
       ]
      },
      {
       "output_type": "stream",
       "stream": "stdout",
       "text": [
        "---------------\r\n",
        "Tree Annotation\r\n",
        "---------------\r\n",
        "<html>\r\n",
        "rooting tree MT-ATP6@MafftDefaults@gappyout@fD_fb at midpoint\r\n"
       ]
      },
      {
       "output_type": "stream",
       "stream": "stdout",
       "text": [
        "<A href=./397051415271202.47_MT-ATP6@MafftDefaults@gappyout.png>397051415271202.47_MT-ATP6@MafftDefaults@gappyout</A><BR>\r\n",
        "rooting tree MT-ND3@MafftDefaults@gappyout@fD_fb at midpoint\r\n",
        "<A href=./397051415271202.47_MT-ND3@MafftDefaults@gappyout.png>397051415271202.47_MT-ND3@MafftDefaults@gappyout</A><BR>\r\n",
        "rooting tree RNA_polymerase_II_largest_subunit@MafftDefaults@gappyout@fD_fb at midpoint\r\n"
       ]
      },
      {
       "output_type": "stream",
       "stream": "stdout",
       "text": [
        "<A href=./397051415271202.47_RNA_polymerase_II_largest_subunit@MafftDefaults@gappyout.png>397051415271202.47_RNA_polymerase_II_largest_subunit@MafftDefaults@gappyout</A><BR>\r\n",
        "rooting tree ef1a@MafftDefaults@gappyout@fD_fb at midpoint\r\n"
       ]
      },
      {
       "output_type": "stream",
       "stream": "stdout",
       "text": [
        "<A href=./397051415271202.47_ef1a@MafftDefaults@gappyout.png>397051415271202.47_ef1a@MafftDefaults@gappyout</A><BR>\r\n"
       ]
      },
      {
       "output_type": "stream",
       "stream": "stdout",
       "text": [
        "rooting tree MT-ND1@MafftDefaults@gappyout@fD_fb at midpoint\r\n"
       ]
      },
      {
       "output_type": "stream",
       "stream": "stdout",
       "text": [
        "<A href=./397051415271202.47_MT-ND1@MafftDefaults@gappyout.png>397051415271202.47_MT-ND1@MafftDefaults@gappyout</A><BR>\r\n"
       ]
      },
      {
       "output_type": "stream",
       "stream": "stdout",
       "text": [
        "rooting tree rrnL@MafftDefaults@gappyout@fD_fb at midpoint\r\n"
       ]
      },
      {
       "output_type": "stream",
       "stream": "stdout",
       "text": [
        "<A href=./397051415271202.47_rrnL@MafftDefaults@gappyout.png>397051415271202.47_rrnL@MafftDefaults@gappyout</A><BR>\r\n"
       ]
      },
      {
       "output_type": "stream",
       "stream": "stdout",
       "text": [
        "rooting tree rrnS@MafftDefaults@gappyout@fD_fb at midpoint\r\n"
       ]
      },
      {
       "output_type": "stream",
       "stream": "stdout",
       "text": [
        "<A href=./397051415271202.47_rrnS@MafftDefaults@gappyout.png>397051415271202.47_rrnS@MafftDefaults@gappyout</A><BR>\r\n",
        "rooting tree MT-CYB@MafftDefaults@gappyout@fD_fb at midpoint\r\n"
       ]
      },
      {
       "output_type": "stream",
       "stream": "stdout",
       "text": [
        "<A href=./397051415271202.47_MT-CYB@MafftDefaults@gappyout.png>397051415271202.47_MT-CYB@MafftDefaults@gappyout</A><BR>\r\n",
        "rooting tree 18s@MafftDefaults@gappyout@fD_fb at midpoint\r\n"
       ]
      },
      {
       "output_type": "stream",
       "stream": "stdout",
       "text": [
        "<A href=./397051415271202.47_18s@MafftDefaults@gappyout.png>397051415271202.47_18s@MafftDefaults@gappyout</A><BR>\r\n"
       ]
      },
      {
       "output_type": "stream",
       "stream": "stdout",
       "text": [
        "rooting tree 28S_rRNA@MafftDefaults@gappyout@fD_fb at midpoint\r\n"
       ]
      },
      {
       "output_type": "stream",
       "stream": "stdout",
       "text": [
        "<A href=./397051415271202.47_28S_rRNA@MafftDefaults@gappyout.png>397051415271202.47_28S_rRNA@MafftDefaults@gappyout</A><BR>\r\n",
        "rooting tree MT-CO2@MafftDefaults@gappyout@fD_fb at midpoint\r\n"
       ]
      },
      {
       "output_type": "stream",
       "stream": "stdout",
       "text": [
        "<A href=./397051415271202.47_MT-CO2@MafftDefaults@gappyout.png>397051415271202.47_MT-CO2@MafftDefaults@gappyout</A><BR>\r\n",
        "rooting tree MT-ND6@MafftDefaults@gappyout@fD_fb at midpoint\r\n",
        "<A href=./397051415271202.47_MT-ND6@MafftDefaults@gappyout.png>397051415271202.47_MT-ND6@MafftDefaults@gappyout</A><BR>\r\n",
        "rooting tree MT-ND5@MafftDefaults@gappyout@fD_fb at midpoint\r\n"
       ]
      },
      {
       "output_type": "stream",
       "stream": "stdout",
       "text": [
        "<A href=./397051415271202.47_MT-ND5@MafftDefaults@gappyout.png>397051415271202.47_MT-ND5@MafftDefaults@gappyout</A><BR>\r\n",
        "rooting tree glycogen_synthase@MafftDefaults@gappyout@fD_fb at midpoint\r\n",
        "<A href=./397051415271202.47_glycogen_synthase@MafftDefaults@gappyout.png>397051415271202.47_glycogen_synthase@MafftDefaults@gappyout</A><BR>\r\n",
        "rooting tree MT-ND4@MafftDefaults@gappyout@fD_fb at midpoint\r\n"
       ]
      },
      {
       "output_type": "stream",
       "stream": "stdout",
       "text": [
        "<A href=./397051415271202.47_MT-ND4@MafftDefaults@gappyout.png>397051415271202.47_MT-ND4@MafftDefaults@gappyout</A><BR>\r\n",
        "rooting tree R2_protein@MafftDefaults@gappyout@fD_fb at midpoint\r\n",
        "<A href=./397051415271202.47_R2_protein@MafftDefaults@gappyout.png>397051415271202.47_R2_protein@MafftDefaults@gappyout</A><BR>\r\n",
        "rooting tree MT-ND2@MafftDefaults@gappyout@fD_fb at midpoint\r\n",
        "<A href=./397051415271202.47_MT-ND2@MafftDefaults@gappyout.png>397051415271202.47_MT-ND2@MafftDefaults@gappyout</A><BR>\r\n"
       ]
      },
      {
       "output_type": "stream",
       "stream": "stdout",
       "text": [
        "rooting tree 28s@MafftDefaults@gappyout@fD_fb at midpoint\r\n"
       ]
      },
      {
       "output_type": "stream",
       "stream": "stdout",
       "text": [
        "<A href=./397051415271202.47_28s@MafftDefaults@gappyout.png>397051415271202.47_28s@MafftDefaults@gappyout</A><BR>\r\n",
        "rooting tree MT-CO3@MafftDefaults@gappyout@fD_fb at midpoint\r\n"
       ]
      },
      {
       "output_type": "stream",
       "stream": "stdout",
       "text": [
        "<A href=./397051415271202.47_MT-CO3@MafftDefaults@gappyout.png>397051415271202.47_MT-CO3@MafftDefaults@gappyout</A><BR>\r\n",
        "rooting tree MT-ND4L@MafftDefaults@gappyout@fD_fb at midpoint\r\n",
        "<A href=./397051415271202.47_MT-ND4L@MafftDefaults@gappyout.png>397051415271202.47_MT-ND4L@MafftDefaults@gappyout</A><BR>\r\n"
       ]
      },
      {
       "output_type": "stream",
       "stream": "stdout",
       "text": [
        "rooting tree MT-CO1@MafftDefaults@gappyout@fD_fb at midpoint\r\n"
       ]
      },
      {
       "output_type": "stream",
       "stream": "stdout",
       "text": [
        "<A href=./397051415271202.47_MT-CO1@MafftDefaults@gappyout.png>397051415271202.47_MT-CO1@MafftDefaults@gappyout</A><BR>\r\n",
        "rooting tree MT-ATP8@MafftDefaults@gappyout@fD_fb at midpoint\r\n"
       ]
      },
      {
       "output_type": "stream",
       "stream": "stdout",
       "text": [
        "<A href=./397051415271202.47_MT-ATP8@MafftDefaults@gappyout.png>397051415271202.47_MT-ATP8@MafftDefaults@gappyout</A><BR>\r\n",
        "</html>\r\n",
        ".\r\n"
       ]
      },
      {
       "output_type": "stream",
       "stream": "stdout",
       "text": [
        "------------------\r\n",
        "Program References\r\n",
        "------------------\r\n",
        "-------------------------------\r\n",
        "Exploratory Pipeline References\r\n",
        "-------------------------------\r\n",
        "RAxML: A. Stamatakis: \"RAxML Version 8: A tool for Phylogenetic Analysis and Post-Analysis of Large Phylogenies\". In Bioinformatics, 2014\r\n",
        "http://bioinformatics.oxfordjournals.org/content/early/2014/01/21/bioinformatics.btu033.abstract?keytype=ref&ijkey=VTEqgUJYCDcf0kP\r\n",
        "\r\n",
        "MAFFT: Katoh, Standley 2013 (Molecular Biology and Evolution 30:772-780) MAFFT multiple sequence alignment software version 7: improvements in performance and usability.\r\n",
        "mbe.oxfordjournals.org/content/30/4/772\r\n",
        "\r\n",
        "trimAl: Salvador Capella-Gutierrez; Jose M. Silla-Martinez; Toni Gabaldon. trimAl: a tool for automated alignment trimming in large-scale phylogenetic analyses. Bioinformatics 2009 25: 1972-1973.\r\n",
        "http://trimal.cgenomics.org/_media/trimal.2009.pdf\r\n",
        "\r\n",
        "ETE: Jaime Huerta-Cepas, Joaquin Dopazo and Toni Gabaldon. ETE: a python Environment for Tree Exploration. BMC Bioinformatics 2010, 11:24.\r\n",
        "http://www.biomedcentral.com/1471-2105/11/24\r\n",
        "\r\n",
        "NumPy: Stefan van der Walt, S. Chris Colbert and Gael Varoquaux. The NumPy Array: A Structure for Efficient Numerical Computation, Computing in Science & Engineering, 13, 22-30 (2011)\r\n",
        "DOI:10.1109/MCSE.2011.37\r\n",
        "\r\n",
        "Matplotlib: John D. Hunter. Matplotlib: A 2D Graphics Environment ,Computing in Science & Engineering, 9, 90-95 (2007)\r\n",
        "DOI:10.1109/MCSE.2007.55\r\n",
        "\r\n",
        "Pandas: Wes McKinney. Data Structures for Statistical Computing in Python, Proceedings of the 9th Python in Science Conference, 51-56 (2010)\r\n",
        "http://conference.scipy.org/proceedings/scipy2010/mckinney.html\r\n",
        "\r\n",
        "HTML.py: http://www.decalage.info/python/html\r\n",
        "----------------\r\n",
        "Other References\r\n",
        "----------------\r\n",
        "Biopython: Cock PJ, Antao T, Chang JT, Chapman BA, Cox CJ, Dalke A, Friedberg I, Hamelryck T, Kauff F, Wilczynski B, and de Hoon MJ. Biopython: freely  available Python tools for computational molecular biology and bioinformatics. Bioinformatics 2009 Jun 1; 25(11) 1422-3.doi:10.1093/bioinformatics/btp163 pmid:19304878\r\n",
        "http://www.hubmed.org/display.cgi?uids=19304878\r\n",
        "\r\n",
        "Cython: Stefan Behnel, Robert Bradshaw, Craig Citro, Lisandro Dalcin, Dag Sverre Seljebotn and Kurt Smith. Cython: The Best of Both Worlds, Computing in Science and Engineering, 13, 31-39 (2011)\r\n",
        "DOI:10.1109/MCSE.2010.118\r\n",
        "\r\n",
        "Cloud: https://pypi.python.org/pypi/cloud/2.8.5\r\n",
        "----\r\n",
        "DONE\r\n",
        "----\r\n"
       ]
      }
     ],
     "prompt_number": 15
    },
    {
     "cell_type": "code",
     "collapsed": false,
     "input": [
      "pj = unpickle_pj(\"notostraca\")"
     ],
     "language": "python",
     "metadata": {},
     "outputs": [
      {
       "output_type": "stream",
       "stream": "stderr",
       "text": [
        "DEBUG:Cloud:Log file (/home/amir/.picloud/cloud.log) opened\n"
       ]
      }
     ],
     "prompt_number": 2
    },
    {
     "cell_type": "code",
     "collapsed": false,
     "input": [
      "%time publish(pj, \"Notostraca_report\", '.') #publishing pickled project"
     ],
     "language": "python",
     "metadata": {},
     "outputs": [
      {
       "output_type": "stream",
       "stream": "stdout",
       "text": [
        "checking if file exists\n",
        "reporter was called by publish"
       ]
      },
      {
       "output_type": "stream",
       "stream": "stdout",
       "text": [
        "\n",
        "now printing species table\n",
        "now making sequence statistics plots"
       ]
      },
      {
       "output_type": "stream",
       "stream": "stdout",
       "text": [
        "\n",
        "now reporting concatenations"
       ]
      },
      {
       "output_type": "stream",
       "stream": "stdout",
       "text": [
        "\n",
        "now reporting methods\n",
        "now reporting alignment statistics\n",
        "making RF matrix"
       ]
      },
      {
       "output_type": "stream",
       "stream": "stdout",
       "text": [
        "\n",
        "reporting trees"
       ]
      },
      {
       "output_type": "stream",
       "stream": "stdout",
       "text": [
        "\n",
        "pickling"
       ]
      },
      {
       "output_type": "stream",
       "stream": "stdout",
       "text": [
        "\n",
        "archiving"
       ]
      },
      {
       "output_type": "stream",
       "stream": "stdout",
       "text": [
        "\n",
        "report ready"
       ]
      },
      {
       "output_type": "stream",
       "stream": "stdout",
       "text": [
        "\n",
        "CPU times: user 1min 32s, sys: 1.36 s, total: 1min 33s\n",
        "Wall time: 1min 43s\n"
       ]
      }
     ],
     "prompt_number": 4
    },
    {
     "cell_type": "code",
     "collapsed": false,
     "input": [
      "mafft = AlnConf(pj, method_name='mafft', CDSAlign=False, cline_args={})"
     ],
     "language": "python",
     "metadata": {},
     "outputs": [
      {
       "output_type": "stream",
       "stream": "stdout",
       "text": [
        "putative_pre-mRNA_splicing_factor_RNA_helicase have less than 4 sequences and will be dropped from this conf object. Don't use it in a concatenation\n",
        "carnitine_palmitoyltransferase_family_member_cpt-2 have less than 4 sequences and will be dropped from this conf object. Don't use it in a concatenation\n",
        "putative_splicing_factor_3B_subunit_1 have less than 4 sequences and will be dropped from this conf object. Don't use it in a concatenation\n",
        "G_protein-coupled_receptor_kinase_1 have less than 4 sequences and will be dropped from this conf object. Don't use it in a concatenation\n",
        "putative_clathrin_heavy_chain have less than 4 sequences and will be dropped from this conf object. Don't use it in a concatenation\n",
        "putative_AATS-ALA_protein have less than 4 sequences and will be dropped from this conf object. Don't use it in a concatenation\n",
        "l-rRNA have less than 4 sequences and will be dropped from this conf object. Don't use it in a concatenation\n",
        "putative_flightless_I-like_protein have less than 4 sequences and will be dropped from this conf object. Don't use it in a concatenation\n",
        "dac have less than 4 sequences and will be dropped from this conf object. Don't use it in a concatenation\n",
        "putative_alpha-adaptin-like_protein have less than 4 sequences and will be dropped from this conf object. Don't use it in a concatenation\n",
        "Wnt-1 have less than 4 sequences and will be dropped from this conf object. Don't use it in a concatenation\n",
        "nucleolar_cysteine-rich_protein have less than 4 sequences and will be dropped from this conf object. Don't use it in a concatenation\n",
        "wnt-10 have less than 4 sequences and will be dropped from this conf object. Don't use it in a concatenation\n",
        "s-rRNA have less than 4 sequences and will be dropped from this conf object. Don't use it in a concatenation\n",
        "Arr have less than 4 sequences and will be dropped from this conf object. Don't use it in a concatenation\n",
        "phosphatidylinositol_kinase have less than 4 sequences and will be dropped from this conf object. Don't use it in a concatenation\n",
        "CDC5-related_protein have less than 4 sequences and will be dropped from this conf object. Don't use it in a concatenation\n",
        "putative_UDP-N-acetylglucosamine--peptide_N-acetylglucosaminyltransferase have less than 4 sequences and will be dropped from this conf object. Don't use it in a concatenation\n",
        "putative_glycogen_synthase have less than 4 sequences and will be dropped from this conf object. Don't use it in a concatenation\n",
        "putative_integrin-linked_protein_kinase have less than 4 sequences and will be dropped from this conf object. Don't use it in a concatenation\n",
        "reverse_transcriptase have less than 4 sequences and will be dropped from this conf object. Don't use it in a concatenation\n",
        "DPD1 have less than 4 sequences and will be dropped from this conf object. Don't use it in a concatenation\n",
        "putative_protein_arginine_N-methyltransferase_1 have less than 4 sequences and will be dropped from this conf object. Don't use it in a concatenation\n",
        "Dll have less than 4 sequences and will be dropped from this conf object. Don't use it in a concatenation\n",
        "putative_clathrin_coat_assembly_protein have less than 4 sequences and will be dropped from this conf object. Don't use it in a concatenation\n",
        "putative_CG9461-like_protein have less than 4 sequences and will be dropped from this conf object. Don't use it in a concatenation\n",
        "rt have less than 4 sequences and will be dropped from this conf object. Don't use it in a concatenation\n",
        "vacuolar_ATP_synthase_subunit_B have less than 4 sequences and will be dropped from this conf object. Don't use it in a concatenation\n",
        "putative_hypothetical_44.9_kDa_protein have less than 4 sequences and will be dropped from this conf object. Don't use it in a concatenation\n",
        "putative_DNA-directed_RNA_polymerase_II_subunit_2 have less than 4 sequences and will be dropped from this conf object. Don't use it in a concatenation\n",
        "putative_alpha-spectrin_protein have less than 4 sequences and will be dropped from this conf object. Don't use it in a concatenation\n",
        "putative_N-terminal_acetyltransferase_complex_ARD1_subunit-like_protein have less than 4 sequences and will be dropped from this conf object. Don't use it in a concatenation\n",
        "putative_glutaminyl-tRNA_synthetase have less than 4 sequences and will be dropped from this conf object. Don't use it in a concatenation\n",
        "putative_methylmalonate-semialdehyde_dehydrogenase have less than 4 sequences and will be dropped from this conf object. Don't use it in a concatenation\n",
        "H3 have less than 4 sequences and will be dropped from this conf object. Don't use it in a concatenation\n",
        "putative_U5_snRNP_100_kDa_protein have less than 4 sequences and will be dropped from this conf object. Don't use it in a concatenation\n",
        "putative_serine_threonine_protein_kinase_24 have less than 4 sequences and will be dropped from this conf object. Don't use it in a concatenation\n",
        "cob have less than 4 sequences and will be dropped from this conf object. Don't use it in a concatenation\n",
        "elongation_factor-2 have less than 4 sequences and will be dropped from this conf object. Don't use it in a concatenation\n",
        "putative_AMP_deaminase_2 have less than 4 sequences and will be dropped from this conf object. Don't use it in a concatenation\n",
        "putative_histidyl-tRNA_synthetase have less than 4 sequences and will be dropped from this conf object. Don't use it in a concatenation\n",
        "putative_bifunctional_aminoacyl-tRNA_synthetase have less than 4 sequences and will be dropped from this conf object. Don't use it in a concatenation\n",
        "putative_vacuolar_ATP_synthase_subunit_B have less than 4 sequences and will be dropped from this conf object. Don't use it in a concatenation\n",
        "putative_triosephosphate_isomerase have less than 4 sequences and will be dropped from this conf object. Don't use it in a concatenation\n",
        "putative_6-phosphogluconate_dehydrogenase have less than 4 sequences and will be dropped from this conf object. Don't use it in a concatenation\n",
        "putative_myosin_VIIa have less than 4 sequences and will be dropped from this conf object. Don't use it in a concatenation\n",
        "RPB1 have less than 4 sequences and will be dropped from this conf object. Don't use it in a concatenation\n",
        "RPB2 have less than 4 sequences and will be dropped from this conf object. Don't use it in a concatenation\n",
        "putative_rudimentary_protein have less than 4 sequences and will be dropped from this conf object. Don't use it in a concatenation\n",
        "putative_protein_phosphatase_PP2A_55kDa_regulatory_subunit have less than 4 sequences and will be dropped from this conf object. Don't use it in a concatenation\n",
        "putative_casein_kinase have less than 4 sequences and will be dropped from this conf object. Don't use it in a concatenation\n",
        "putative_glucose-6-phosphate_1-dehydrogenase have less than 4 sequences and will be dropped from this conf object. Don't use it in a concatenation\n",
        "Apsk have less than 4 sequences and will be dropped from this conf object. Don't use it in a concatenation\n",
        "putative_GMP_synthetase have less than 4 sequences and will be dropped from this conf object. Don't use it in a concatenation\n",
        "neurofibromin have less than 4 sequences and will be dropped from this conf object. Don't use it in a concatenation\n",
        "prophenoloxidase have less than 4 sequences and will be dropped from this conf object. Don't use it in a concatenation\n",
        "putative_leucyl-tRNA_synthetase have less than 4 sequences and will be dropped from this conf object. Don't use it in a concatenation\n",
        "cad have less than 4 sequences and will be dropped from this conf object. Don't use it in a concatenation\n",
        "putative_syntaxin_1A have less than 4 sequences and will be dropped from this conf object. Don't use it in a concatenation\n",
        "putative_methionine_aminopeptidase_2 have less than 4 sequences and will be dropped from this conf object. Don't use it in a concatenation\n",
        "putative_dynamin-1 have less than 4 sequences and will be dropped from this conf object. Don't use it in a concatenation\n",
        "RpL32 have less than 4 sequences and will be dropped from this conf object. Don't use it in a concatenation\n",
        "putative_ACC_protein have less than 4 sequences and will be dropped from this conf object. Don't use it in a concatenation\n",
        "RhA have less than 4 sequences and will be dropped from this conf object. Don't use it in a concatenation\n",
        "RhC have less than 4 sequences and will be dropped from this conf object. Don't use it in a concatenation\n",
        "RhB have less than 4 sequences and will be dropped from this conf object. Don't use it in a concatenation\n",
        "RhE have less than 4 sequences and will be dropped from this conf object. Don't use it in a concatenation\n",
        "ASH1 have less than 4 sequences and will be dropped from this conf object. Don't use it in a concatenation\n",
        "ASH2 have less than 4 sequences and will be dropped from this conf object. Don't use it in a concatenation\n",
        "AQP have less than 4 sequences and will be dropped from this conf object. Don't use it in a concatenation\n",
        "putative_transmembrane_9_superfamily_protein_member_2_precursor have less than 4 sequences and will be dropped from this conf object. Don't use it in a concatenation\n",
        "RhD have less than 4 sequences and will be dropped from this conf object. Don't use it in a concatenation\n",
        "putative_26S_proteasome_non-ATPase_regulatory_subunit_2 have less than 4 sequences and will be dropped from this conf object. Don't use it in a concatenation\n",
        "SH2_domain_binding_protein have less than 4 sequences and will be dropped from this conf object. Don't use it in a concatenation\n",
        "glucose_phosphate_isomerase have less than 4 sequences and will be dropped from this conf object. Don't use it in a concatenation\n",
        "putative_vacuolar_ATP_synthase_subunit_d_1 have less than 4 sequences and will be dropped from this conf object. Don't use it in a concatenation\n",
        "putative_DNA_replication_licensing_factor_MCM2 have less than 4 sequences and will be dropped from this conf object. Don't use it in a concatenation\n",
        "HIF-1alpha have less than 4 sequences and will be dropped from this conf object. Don't use it in a concatenation\n",
        "Act have less than 4 sequences and will be dropped from this conf object. Don't use it in a concatenation\n",
        "putative_GTP-binding_protein have less than 4 sequences and will be dropped from this conf object. Don't use it in a concatenation\n",
        "putative_neuroendocrine_convertase_2_precursor have less than 4 sequences and will be dropped from this conf object. Don't use it in a concatenation\n",
        "putative_glucosamine-6-phosphate_isomerase have less than 4 sequences and will be dropped from this conf object. Don't use it in a concatenation\n",
        "putative_calcium_calmodulin-dependent_protein_kinase_type_II_delta_chain have less than 4 sequences and will be dropped from this conf object. Don't use it in a concatenation\n",
        "putative_splicing_factor have less than 4 sequences and will be dropped from this conf object. Don't use it in a concatenation\n",
        "putative_C-1-tetrahydrofolate_synthetase have less than 4 sequences and will be dropped from this conf object. Don't use it in a concatenation\n",
        "putative_histone_deacetylase_1 have less than 4 sequences and will be dropped from this conf object. Don't use it in a concatenation\n",
        "DKC1 have less than 4 sequences and will be dropped from this conf object. Don't use it in a concatenation\n",
        "putative_signal_recognition_particle_protein have less than 4 sequences and will be dropped from this conf object. Don't use it in a concatenation\n",
        "mafft 827381415294763.75_MT-CO1.fasta\n",
        "mafft 827381415294763.75_MT-CO2.fasta\n",
        "mafft 827381415294763.75_MT-CO3.fasta\n",
        "mafft 827381415294763.75_MT-ND1.fasta\n",
        "mafft 827381415294763.75_MT-ND2.fasta\n",
        "mafft 827381415294763.75_MT-ND3.fasta\n",
        "mafft 827381415294763.75_MT-ND4.fasta\n",
        "mafft 827381415294763.75_MT-ND5.fasta\n",
        "mafft 827381415294763.75_MT-ND6.fasta\n",
        "mafft 827381415294763.75_R2_protein.fasta\n",
        "mafft 827381415294763.75_MT-ATP8.fasta\n",
        "mafft 827381415294763.75_MT-ATP6.fasta\n",
        "mafft 827381415294763.75_rrnS.fasta\n",
        "mafft 827381415294763.75_ef1a.fasta\n",
        "mafft 827381415294763.75_glycogen_synthase.fasta\n",
        "mafft 827381415294763.75_28s.fasta\n",
        "mafft 827381415294763.75_MT-ND4L.fasta\n",
        "mafft 827381415294763.75_MT-CYB.fasta\n",
        "mafft 827381415294763.75_28S_rRNA.fasta\n",
        "mafft 827381415294763.75_18s.fasta\n",
        "mafft 827381415294763.75_RNA_polymerase_II_largest_subunit.fasta\n",
        "mafft 827381415294763.75_rrnL.fasta\n"
       ]
      }
     ],
     "prompt_number": 9
    },
    {
     "cell_type": "code",
     "collapsed": false,
     "input": [
      "pj.align([mafft])"
     ],
     "language": "python",
     "metadata": {},
     "outputs": [],
     "prompt_number": 10
    },
    {
     "cell_type": "code",
     "collapsed": false,
     "input": [
      "trimal = TrimalConf(pj)"
     ],
     "language": "python",
     "metadata": {},
     "outputs": [
      {
       "output_type": "stream",
       "stream": "stdout",
       "text": [
        "trimal -in 359651415294874.32_MT-ND4@mafft.fasta -gappyout\n",
        "trimal -in 359651415294874.32_MT-ND4L@mafft.fasta -gappyout\n",
        "trimal -in 359651415294874.32_glycogen_synthase@mafft.fasta -gappyout\n",
        "trimal -in 359651415294874.32_MT-ND2@mafft.fasta -gappyout\n",
        "trimal -in 359651415294874.32_MT-ND3@mafft.fasta -gappyout\n",
        "trimal -in 359651415294874.32_ef1a@mafft.fasta -gappyout\n",
        "trimal -in 359651415294874.32_MT-ATP8@mafft.fasta -gappyout\n",
        "trimal -in 359651415294874.32_MT-ND1@mafft.fasta -gappyout\n",
        "trimal -in 359651415294874.32_RNA_polymerase_II_largest_subunit@mafft.fasta -gappyout\n",
        "trimal -in 359651415294874.32_MT-CYB@mafft.fasta -gappyout\n",
        "trimal -in 359651415294874.32_18s@mafft.fasta -gappyout\n",
        "trimal -in 359651415294874.32_MT-CO2@mafft.fasta -gappyout\n",
        "trimal -in 359651415294874.32_MT-CO3@mafft.fasta -gappyout\n",
        "trimal -in 359651415294874.32_28s@mafft.fasta -gappyout\n",
        "trimal -in 359651415294874.32_28S_rRNA@mafft.fasta -gappyout\n",
        "trimal -in 359651415294874.32_R2_protein@mafft.fasta -gappyout\n",
        "trimal -in 359651415294874.32_MT-CO1@mafft.fasta -gappyout\n",
        "trimal -in 359651415294874.32_MT-ND6@mafft.fasta -gappyout\n",
        "trimal -in 359651415294874.32_MT-ND5@mafft.fasta -gappyout\n",
        "trimal -in 359651415294874.32_rrnS@mafft.fasta -gappyout\n",
        "trimal -in 359651415294874.32_rrnL@mafft.fasta -gappyout\n",
        "trimal -in 359651415294874.32_MT-ATP6@mafft.fasta -gappyout\n"
       ]
      }
     ],
     "prompt_number": 12
    },
    {
     "cell_type": "code",
     "collapsed": false,
     "input": [
      "pj.trim([trimal])"
     ],
     "language": "python",
     "metadata": {},
     "outputs": [],
     "prompt_number": 13
    },
    {
     "cell_type": "code",
     "collapsed": false,
     "input": [
      "raxml = RaxmlConf(pj, preset='fD_fb')"
     ],
     "language": "python",
     "metadata": {},
     "outputs": [
      {
       "output_type": "stream",
       "stream": "stdout",
       "text": [
        "raxmlHPC-PTHREADS-SSE3 -f D -m GTRGAMMA -n 484721415294953.45_MT-ND2@mafft@gappyout0 -p 935 -s 484721415294953.45_MT-ND2@mafft@gappyout.fasta -T 4 -N 1\n",
        "raxmlHPC-PTHREADS-SSE3 -f b -m GTRGAMMA -n 484721415294953.45_MT-ND2@mafft@gappyout1 -p 866 -s 484721415294953.45_MT-ND2@mafft@gappyout.fasta -t RAxML_bestTree.484721415294953.45_MT-ND2@mafft@gappyout0 -T 4 -z RAxML_rellBootstrap.484721415294953.45_MT-ND2@mafft@gappyout0\n",
        "raxmlHPC-PTHREADS-SSE3 -f D -m GTRGAMMA -n 484721415294953.45_18s@mafft@gappyout0 -p 408 -s 484721415294953.45_18s@mafft@gappyout.fasta -T 4 -N 1\n",
        "raxmlHPC-PTHREADS-SSE3 -f b -m GTRGAMMA -n 484721415294953.45_18s@mafft@gappyout1 -p 396 -s 484721415294953.45_18s@mafft@gappyout.fasta -t RAxML_bestTree.484721415294953.45_18s@mafft@gappyout0 -T 4 -z RAxML_rellBootstrap.484721415294953.45_18s@mafft@gappyout0\n",
        "raxmlHPC-PTHREADS-SSE3 -f D -m GTRGAMMA -n 484721415294953.45_MT-ATP8@mafft@gappyout0 -p 927 -s 484721415294953.45_MT-ATP8@mafft@gappyout.fasta -T 4 -N 1\n",
        "raxmlHPC-PTHREADS-SSE3 -f b -m GTRGAMMA -n 484721415294953.45_MT-ATP8@mafft@gappyout1 -p 774 -s 484721415294953.45_MT-ATP8@mafft@gappyout.fasta -t RAxML_bestTree.484721415294953.45_MT-ATP8@mafft@gappyout0 -T 4 -z RAxML_rellBootstrap.484721415294953.45_MT-ATP8@mafft@gappyout0\n",
        "raxmlHPC-PTHREADS-SSE3 -f D -m GTRGAMMA -n 484721415294953.45_MT-ND4L@mafft@gappyout0 -p 650 -s 484721415294953.45_MT-ND4L@mafft@gappyout.fasta -T 4 -N 1\n",
        "raxmlHPC-PTHREADS-SSE3 -f b -m GTRGAMMA -n 484721415294953.45_MT-ND4L@mafft@gappyout1 -p 986 -s 484721415294953.45_MT-ND4L@mafft@gappyout.fasta -t RAxML_bestTree.484721415294953.45_MT-ND4L@mafft@gappyout0 -T 4 -z RAxML_rellBootstrap.484721415294953.45_MT-ND4L@mafft@gappyout0\n",
        "raxmlHPC-PTHREADS-SSE3 -f D -m GTRGAMMA -n 484721415294953.45_MT-ATP6@mafft@gappyout0 -p 804 -s 484721415294953.45_MT-ATP6@mafft@gappyout.fasta -T 4 -N 1\n",
        "raxmlHPC-PTHREADS-SSE3 -f b -m GTRGAMMA -n 484721415294953.45_MT-ATP6@mafft@gappyout1 -p 203 -s 484721415294953.45_MT-ATP6@mafft@gappyout.fasta -t RAxML_bestTree.484721415294953.45_MT-ATP6@mafft@gappyout0 -T 4 -z RAxML_rellBootstrap.484721415294953.45_MT-ATP6@mafft@gappyout0\n",
        "raxmlHPC-PTHREADS-SSE3 -f D -m GTRGAMMA -n 484721415294953.45_MT-CO1@mafft@gappyout0 -p 313 -s 484721415294953.45_MT-CO1@mafft@gappyout.fasta -T 4 -N 1\n",
        "raxmlHPC-PTHREADS-SSE3 -f b -m GTRGAMMA -n 484721415294953.45_MT-CO1@mafft@gappyout1 -p 452 -s 484721415294953.45_MT-CO1@mafft@gappyout.fasta -t RAxML_bestTree.484721415294953.45_MT-CO1@mafft@gappyout0 -T 4 -z RAxML_rellBootstrap.484721415294953.45_MT-CO1@mafft@gappyout0\n",
        "raxmlHPC-PTHREADS-SSE3 -f D -m GTRGAMMA -n 484721415294953.45_glycogen_synthase@mafft@gappyout0 -p 469 -s 484721415294953.45_glycogen_synthase@mafft@gappyout.fasta -T 4 -N 1\n",
        "raxmlHPC-PTHREADS-SSE3 -f b -m GTRGAMMA -n 484721415294953.45_glycogen_synthase@mafft@gappyout1 -p 171 -s 484721415294953.45_glycogen_synthase@mafft@gappyout.fasta -t RAxML_bestTree.484721415294953.45_glycogen_synthase@mafft@gappyout0 -T 4 -z RAxML_rellBootstrap.484721415294953.45_glycogen_synthase@mafft@gappyout0\n",
        "raxmlHPC-PTHREADS-SSE3 -f D -m GTRGAMMA -n 484721415294953.45_MT-CYB@mafft@gappyout0 -p 994 -s 484721415294953.45_MT-CYB@mafft@gappyout.fasta -T 4 -N 1\n",
        "raxmlHPC-PTHREADS-SSE3 -f b -m GTRGAMMA -n 484721415294953.45_MT-CYB@mafft@gappyout1 -p 721 -s 484721415294953.45_MT-CYB@mafft@gappyout.fasta -t RAxML_bestTree.484721415294953.45_MT-CYB@mafft@gappyout0 -T 4 -z RAxML_rellBootstrap.484721415294953.45_MT-CYB@mafft@gappyout0\n",
        "raxmlHPC-PTHREADS-SSE3 -f D -m GTRGAMMA -n 484721415294953.45_MT-ND4@mafft@gappyout0 -p 403 -s 484721415294953.45_MT-ND4@mafft@gappyout.fasta -T 4 -N 1\n",
        "raxmlHPC-PTHREADS-SSE3 -f b -m GTRGAMMA -n 484721415294953.45_MT-ND4@mafft@gappyout1 -p 831 -s 484721415294953.45_MT-ND4@mafft@gappyout.fasta -t RAxML_bestTree.484721415294953.45_MT-ND4@mafft@gappyout0 -T 4 -z RAxML_rellBootstrap.484721415294953.45_MT-ND4@mafft@gappyout0\n",
        "raxmlHPC-PTHREADS-SSE3 -f D -m GTRGAMMA -n 484721415294953.45_RNA_polymerase_II_largest_subunit@mafft@gappyout0 -p 775 -s 484721415294953.45_RNA_polymerase_II_largest_subunit@mafft@gappyout.fasta -T 4 -N 1\n",
        "raxmlHPC-PTHREADS-SSE3 -f b -m GTRGAMMA -n 484721415294953.45_RNA_polymerase_II_largest_subunit@mafft@gappyout1 -p 853 -s 484721415294953.45_RNA_polymerase_II_largest_subunit@mafft@gappyout.fasta -t RAxML_bestTree.484721415294953.45_RNA_polymerase_II_largest_subunit@mafft@gappyout0 -T 4 -z RAxML_rellBootstrap.484721415294953.45_RNA_polymerase_II_largest_subunit@mafft@gappyout0\n",
        "raxmlHPC-PTHREADS-SSE3 -f D -m GTRGAMMA -n 484721415294953.45_rrnL@mafft@gappyout0 -p 945 -s 484721415294953.45_rrnL@mafft@gappyout.fasta -T 4 -N 1\n",
        "raxmlHPC-PTHREADS-SSE3 -f b -m GTRGAMMA -n 484721415294953.45_rrnL@mafft@gappyout1 -p 199 -s 484721415294953.45_rrnL@mafft@gappyout.fasta -t RAxML_bestTree.484721415294953.45_rrnL@mafft@gappyout0 -T 4 -z RAxML_rellBootstrap.484721415294953.45_rrnL@mafft@gappyout0\n",
        "raxmlHPC-PTHREADS-SSE3 -f D -m GTRGAMMA -n 484721415294953.45_MT-ND1@mafft@gappyout0 -p 824 -s 484721415294953.45_MT-ND1@mafft@gappyout.fasta -T 4 -N 1\n",
        "raxmlHPC-PTHREADS-SSE3 -f b -m GTRGAMMA -n 484721415294953.45_MT-ND1@mafft@gappyout1 -p 220 -s 484721415294953.45_MT-ND1@mafft@gappyout.fasta -t RAxML_bestTree.484721415294953.45_MT-ND1@mafft@gappyout0 -T 4 -z RAxML_rellBootstrap.484721415294953.45_MT-ND1@mafft@gappyout0\n",
        "raxmlHPC-PTHREADS-SSE3 -f D -m GTRGAMMA -n 484721415294953.45_MT-CO3@mafft@gappyout0 -p 402 -s 484721415294953.45_MT-CO3@mafft@gappyout.fasta -T 4 -N 1\n",
        "raxmlHPC-PTHREADS-SSE3 -f b -m GTRGAMMA -n 484721415294953.45_MT-CO3@mafft@gappyout1 -p 411 -s 484721415294953.45_MT-CO3@mafft@gappyout.fasta -t RAxML_bestTree.484721415294953.45_MT-CO3@mafft@gappyout0 -T 4 -z RAxML_rellBootstrap.484721415294953.45_MT-CO3@mafft@gappyout0\n",
        "raxmlHPC-PTHREADS-SSE3 -f D -m GTRGAMMA -n 484721415294953.45_28S_rRNA@mafft@gappyout0 -p 319 -s 484721415294953.45_28S_rRNA@mafft@gappyout.fasta -T 4 -N 1\n",
        "raxmlHPC-PTHREADS-SSE3 -f b -m GTRGAMMA -n 484721415294953.45_28S_rRNA@mafft@gappyout1 -p 802 -s 484721415294953.45_28S_rRNA@mafft@gappyout.fasta -t RAxML_bestTree.484721415294953.45_28S_rRNA@mafft@gappyout0 -T 4 -z RAxML_rellBootstrap.484721415294953.45_28S_rRNA@mafft@gappyout0\n",
        "raxmlHPC-PTHREADS-SSE3 -f D -m GTRGAMMA -n 484721415294953.45_R2_protein@mafft@gappyout0 -p 943 -s 484721415294953.45_R2_protein@mafft@gappyout.fasta -T 4 -N 1\n",
        "raxmlHPC-PTHREADS-SSE3 -f b -m GTRGAMMA -n 484721415294953.45_R2_protein@mafft@gappyout1 -p 168 -s 484721415294953.45_R2_protein@mafft@gappyout.fasta -t RAxML_bestTree.484721415294953.45_R2_protein@mafft@gappyout0 -T 4 -z RAxML_rellBootstrap.484721415294953.45_R2_protein@mafft@gappyout0\n",
        "raxmlHPC-PTHREADS-SSE3 -f D -m GTRGAMMA -n 484721415294953.45_rrnS@mafft@gappyout0 -p 662 -s 484721415294953.45_rrnS@mafft@gappyout.fasta -T 4 -N 1\n",
        "raxmlHPC-PTHREADS-SSE3 -f b -m GTRGAMMA -n 484721415294953.45_rrnS@mafft@gappyout1 -p 951 -s 484721415294953.45_rrnS@mafft@gappyout.fasta -t RAxML_bestTree.484721415294953.45_rrnS@mafft@gappyout0 -T 4 -z RAxML_rellBootstrap.484721415294953.45_rrnS@mafft@gappyout0\n",
        "raxmlHPC-PTHREADS-SSE3 -f D -m GTRGAMMA -n 484721415294953.45_MT-CO2@mafft@gappyout0 -p 677 -s 484721415294953.45_MT-CO2@mafft@gappyout.fasta -T 4 -N 1\n",
        "raxmlHPC-PTHREADS-SSE3 -f b -m GTRGAMMA -n 484721415294953.45_MT-CO2@mafft@gappyout1 -p 185 -s 484721415294953.45_MT-CO2@mafft@gappyout.fasta -t RAxML_bestTree.484721415294953.45_MT-CO2@mafft@gappyout0 -T 4 -z RAxML_rellBootstrap.484721415294953.45_MT-CO2@mafft@gappyout0\n",
        "raxmlHPC-PTHREADS-SSE3 -f D -m GTRGAMMA -n 484721415294953.45_28s@mafft@gappyout0 -p 672 -s 484721415294953.45_28s@mafft@gappyout.fasta -T 4 -N 1\n",
        "raxmlHPC-PTHREADS-SSE3 -f b -m GTRGAMMA -n 484721415294953.45_28s@mafft@gappyout1 -p 50 -s 484721415294953.45_28s@mafft@gappyout.fasta -t RAxML_bestTree.484721415294953.45_28s@mafft@gappyout0 -T 4 -z RAxML_rellBootstrap.484721415294953.45_28s@mafft@gappyout0\n",
        "raxmlHPC-PTHREADS-SSE3 -f D -m GTRGAMMA -n 484721415294953.45_MT-ND3@mafft@gappyout0 -p 831 -s 484721415294953.45_MT-ND3@mafft@gappyout.fasta -T 4 -N 1\n",
        "raxmlHPC-PTHREADS-SSE3 -f b -m GTRGAMMA -n 484721415294953.45_MT-ND3@mafft@gappyout1 -p 717 -s 484721415294953.45_MT-ND3@mafft@gappyout.fasta -t RAxML_bestTree.484721415294953.45_MT-ND3@mafft@gappyout0 -T 4 -z RAxML_rellBootstrap.484721415294953.45_MT-ND3@mafft@gappyout0\n",
        "raxmlHPC-PTHREADS-SSE3 -f D -m GTRGAMMA -n 484721415294953.45_MT-ND6@mafft@gappyout0 -p 967 -s 484721415294953.45_MT-ND6@mafft@gappyout.fasta -T 4 -N 1\n",
        "raxmlHPC-PTHREADS-SSE3 -f b -m GTRGAMMA -n 484721415294953.45_MT-ND6@mafft@gappyout1 -p 561 -s 484721415294953.45_MT-ND6@mafft@gappyout.fasta -t RAxML_bestTree.484721415294953.45_MT-ND6@mafft@gappyout0 -T 4 -z RAxML_rellBootstrap.484721415294953.45_MT-ND6@mafft@gappyout0\n",
        "raxmlHPC-PTHREADS-SSE3 -f D -m GTRGAMMA -n 484721415294953.45_MT-ND5@mafft@gappyout0 -p 662 -s 484721415294953.45_MT-ND5@mafft@gappyout.fasta -T 4 -N 1\n",
        "raxmlHPC-PTHREADS-SSE3 -f b -m GTRGAMMA -n 484721415294953.45_MT-ND5@mafft@gappyout1 -p 661 -s 484721415294953.45_MT-ND5@mafft@gappyout.fasta -t RAxML_bestTree.484721415294953.45_MT-ND5@mafft@gappyout0 -T 4 -z RAxML_rellBootstrap.484721415294953.45_MT-ND5@mafft@gappyout0\n",
        "raxmlHPC-PTHREADS-SSE3 -f D -m GTRGAMMA -n 484721415294953.45_ef1a@mafft@gappyout0 -p 555 -s 484721415294953.45_ef1a@mafft@gappyout.fasta -T 4 -N 1\n",
        "raxmlHPC-PTHREADS-SSE3 -f b -m GTRGAMMA -n 484721415294953.45_ef1a@mafft@gappyout1 -p 211 -s 484721415294953.45_ef1a@mafft@gappyout.fasta -t RAxML_bestTree.484721415294953.45_ef1a@mafft@gappyout0 -T 4 -z RAxML_rellBootstrap.484721415294953.45_ef1a@mafft@gappyout0\n"
       ]
      }
     ],
     "prompt_number": 14
    },
    {
     "cell_type": "code",
     "collapsed": false,
     "input": [
      "pj.tree([raxml])"
     ],
     "language": "python",
     "metadata": {},
     "outputs": [],
     "prompt_number": 15
    },
    {
     "cell_type": "code",
     "collapsed": false,
     "input": [
      "%time publish(pj, \"Notostraca_report\", '.') #publishing fresh project"
     ],
     "language": "python",
     "metadata": {},
     "outputs": [
      {
       "output_type": "stream",
       "stream": "stdout",
       "text": [
        "checking if file exists\n",
        "reporter was called by publish"
       ]
      },
      {
       "output_type": "stream",
       "stream": "stdout",
       "text": [
        "\n",
        "now printing species table\n",
        "now making sequence statistics plots"
       ]
      },
      {
       "output_type": "stream",
       "stream": "stdout",
       "text": [
        "\n",
        "now reporting concatenations"
       ]
      },
      {
       "output_type": "stream",
       "stream": "stdout",
       "text": [
        "\n",
        "now reporting methods\n",
        "now reporting alignment statistics\n",
        "making RF matrix"
       ]
      },
      {
       "output_type": "stream",
       "stream": "stdout",
       "text": [
        "\n",
        "reporting trees"
       ]
      },
      {
       "output_type": "stream",
       "stream": "stdout",
       "text": [
        "\n",
        "pickling\n",
        "archiving"
       ]
      },
      {
       "output_type": "stream",
       "stream": "stdout",
       "text": [
        "\n",
        "report ready"
       ]
      },
      {
       "output_type": "stream",
       "stream": "stdout",
       "text": [
        "\n",
        "CPU times: user 34.6 s, sys: 1.05 s, total: 35.6 s\n",
        "Wall time: 45.5 s\n"
       ]
      }
     ],
     "prompt_number": 16
    },
    {
     "cell_type": "code",
     "collapsed": false,
     "input": [
      "pj = unpickle_pj(\"Galaxy24-[Report_on_data_22__ReproPhylo_Project].data\")"
     ],
     "language": "python",
     "metadata": {},
     "outputs": [],
     "prompt_number": 18
    },
    {
     "cell_type": "code",
     "collapsed": false,
     "input": [
      "! python annotate_trees.py Galaxy24-[Report_on_data_22__ReproPhylo_Project].data '.' --nodebgmeta annotation_taxonomy --nodebgcolors Eukaryota;Metazoa;Ecdysozoa;Arthropoda;Crustacea;Branchiopoda;Notostraca;Triopsidae;Triops red Eukaryota;Metazoa;Ecdysozoa;Arthropoda;Crustacea;Branchiopoda;Notostraca;Triopsidae;Lepidurus green"
     ],
     "language": "python",
     "metadata": {},
     "outputs": [
      {
       "output_type": "stream",
       "stream": "stdout",
       "text": [
        "Traceback (most recent call last):\r\n",
        "  File \"annotate_trees.py\", line 30, in <module>\r\n",
        "    db = unpickle_db(pickle_input)\r\n",
        "NameError: name 'unpickle_db' is not defined\r\n"
       ]
      },
      {
       "output_type": "stream",
       "stream": "stdout",
       "text": [
        "/bin/sh: 1: Metazoa: not found\r\n",
        "/bin/sh: 1: Ecdysozoa: not found\r\n",
        "/bin/sh: 1: Arthropoda: not found\r\n",
        "/bin/sh: 1: Crustacea: not found\r\n",
        "/bin/sh: 1: Branchiopoda: not found\r\n",
        "/bin/sh: 1: Notostraca: not found\r\n",
        "/bin/sh: 1: Triopsidae: not found\r\n",
        "/bin/sh: 1: Triops: not found\r\n",
        "/bin/sh: 1: Metazoa: not found\r\n",
        "/bin/sh: 1: Ecdysozoa: not found\r\n",
        "/bin/sh: 1: Arthropoda: not found\r\n",
        "/bin/sh: 1: Crustacea: not found\r\n",
        "/bin/sh: 1: Branchiopoda: not found\r\n",
        "/bin/sh: 1: Notostraca: not found\r\n",
        "/bin/sh: 1: Triopsidae: not found\r\n",
        "/bin/sh: 1: Lepidurus: not found\r\n"
       ]
      }
     ],
     "prompt_number": 20
    },
    {
     "cell_type": "code",
     "collapsed": false,
     "input": [],
     "language": "python",
     "metadata": {},
     "outputs": []
    }
   ],
   "metadata": {}
  }
 ]
}