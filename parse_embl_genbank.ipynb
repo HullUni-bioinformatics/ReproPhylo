{
 "metadata": {
  "name": ""
 },
 "nbformat": 3,
 "nbformat_minor": 0,
 "worksheets": [
  {
   "cells": [
    {
     "cell_type": "markdown",
     "metadata": {},
     "source": [
      "Write example guide file\n",
      "------------------------\n",
      "Defines which genes to get from the genbank or embl files"
     ]
    },
    {
     "cell_type": "code",
     "collapsed": false,
     "input": [
      "example_guid_file = open('example_guid_table.txt','wt')\n",
      "#data type dna/prot\n",
      "example_guid_file.write('dna\\n')\n",
      "#type -> name1,name2,...,name j type= gene/CDS/rRNA/tRNA\n",
      "example_guid_file.write('CDS\\tcox1,COX1,coi,COI,CoI\\n')\n",
      "example_guid_file.write('CDS\\tnd5,ND5,nadh5,NADH5\\n')\n",
      "example_guid_file.write('rRNA\\t18s,18S,SSU\\n')\n",
      "\n",
      "example_guid_file.close()"
     ],
     "language": "python",
     "metadata": {},
     "outputs": [],
     "prompt_number": 2
    },
    {
     "cell_type": "markdown",
     "metadata": {},
     "source": [
      "Take guide file\n",
      "--------------"
     ]
    },
    {
     "cell_type": "code",
     "collapsed": false,
     "input": [
      "def is_featuretype(Type):\n",
      "    if not (Type == 'gene' or Type == 'CDS' or Type == 'rRNA' or Type == 'tRNA'):\n",
      "        return False\n",
      "    else:\n",
      "        return True\n",
      "\n",
      "def is_datatype(Type):\n",
      "    if not (Type == 'dna' or Type == 'prot'):\n",
      "        return False\n",
      "    else:\n",
      "        return True    \n",
      "\n",
      "def build_data_dict(guid_file_name):\n",
      "    guid_file_lines = open(guid_file_name, 'r').readlines()\n",
      "    datasets_to_get = {}\n",
      "    datases_count = 0\n",
      "    datatype = ''\n",
      "    \n",
      "    if is_datatype(guid_file_lines[0].rstrip()):\n",
      "        datatype = guid_file_lines[0].rstrip()\n",
      "        guid_file_lines = guid_file_lines[1:]\n",
      "    else:\n",
      "        sys.exit('Datatype has to be dna or prot')\n",
      "    \n",
      "    exp = 0\n",
      "    \n",
      "    for line in guid_file_lines:\n",
      "        if is_featuretype(line.split('\t')[0]):\n",
      "            datasets_to_get['dataset' + str(datases_count)] = {'type': line.split('\t')[0],\n",
      "                                                               'names': [line.rstrip().split('\t')[1].split(',')],\n",
      "                                                               'records': []}\n",
      "            datases_count += 1\n",
      "            print line, 'OK'\n",
      "        else:\n",
      "            exp = 1\n",
      "            raise Exception('Unsupported feature type in ', line)\n",
      "    \n",
      "    if exp == 1:\n",
      "        print 'Supported feature types: gene, CDS, rRNA and tRNA'\n",
      "    return datasets_to_get\n"
     ],
     "language": "python",
     "metadata": {},
     "outputs": []
    },
    {
     "cell_type": "markdown",
     "metadata": {},
     "source": [
      "Take input(s) if genbank or embl\n",
      "----------"
     ]
    },
    {
     "cell_type": "code",
     "collapsed": false,
     "input": [
      "import os\n",
      "from Bio import SeqIO\n",
      "\n",
      "def guess_format(input_filename):\n",
      "    os.system('perl guesser.pl ' + input_filename)\n",
      "    guess = open(input_filename + '.format','r').read();\n",
      "    os.remove(input_filename + '.format')\n",
      "    return guess\n",
      "\n",
      "def is_embl_or_gb(input_filename):\n",
      "    input_format = guess_format(input_filename)\n",
      "    if input_format == 'embl' or input_format == 'genbank':\n",
      "        return True\n",
      "    else:\n",
      "        return False\n",
      "\n",
      "def parse_input(input_filename):\n",
      "    return SeqIO.parse(input_filename, guess_format(input_filename))\n",
      "\n",
      "def read_embl_genbank(input_filenames_list):\n",
      "    generators = []\n",
      "    for input_filename in input_filenames_list:\n",
      "        if is_embl_or_gb(input_filename):\n",
      "            generators.append(parse_input(input_filename))\n",
      "            print 'Accepted:', input_filename\n",
      "        else:\n",
      "            print ('Rejected:', input_filename, 'is',\n",
      "                    guess_format(input_filename), '. Should be genbank or embl.')\n",
      "    return generators"
     ],
     "language": "python",
     "metadata": {},
     "outputs": []
    },
    {
     "cell_type": "markdown",
     "metadata": {},
     "source": [
      "Get the features\n",
      "----------------------------------------"
     ]
    },
    {
     "cell_type": "code",
     "collapsed": false,
     "input": [
      "def iter_features(seq_record, datasets_to_get):\n",
      "    for i in range(len(seq_record.features)):\n",
      "        for dataset_name in datasets_to_get.keys():\n",
      "            if ('gene' in seq_record.features[i].qualifiers.keys() and\n",
      "            datasets_to_get[dataset_name]['type'] == seq_record.features[i].type and \n",
      "            seq_record.features[i].qualifiers['gene'] in datasets_to_get[dataset_name]['names']):\n",
      "                datasets_to_get[dataset_name]['records'].append(seq_record.features[i])\n",
      "    return datasets_to_get\n",
      "\n",
      "def iter_records(generator, datasets_to_get):\n",
      "    for seq_record in generator:\n",
      "        datasets_to_get = iter_features(seq_record, datasets_to_get)\n",
      "    return datasets_to_get\n",
      "                \n",
      "def iter_generators(generators, datasets_to_get):\n",
      "    for generator in generators:\n",
      "        datasets_to_get = iter_records(generator, datasets_to_get)\n",
      "    return datasets_to_get"
     ],
     "language": "python",
     "metadata": {},
     "outputs": []
    },
    {
     "cell_type": "markdown",
     "metadata": {},
     "source": [
      "Write fasta files\n",
      "-----------------"
     ]
    },
    {
     "cell_type": "code",
     "collapsed": false,
     "input": [
      "def translation_exists(record_feature):\n",
      "    if 'translation' in record_feature.qualifiers.keys():\n",
      "        return True\n",
      "    else:\n",
      "        return False\n",
      "\n",
      "def get_translation(record_feature):\n",
      "    if translation_exists(record_feature):\n",
      "        return record_feature.qualifiers['translation']\n",
      "    else:\n",
      "        return False\n",
      "\n",
      "    "
     ],
     "language": "python",
     "metadata": {},
     "outputs": []
    }
   ],
   "metadata": {}
  }
 ]
}