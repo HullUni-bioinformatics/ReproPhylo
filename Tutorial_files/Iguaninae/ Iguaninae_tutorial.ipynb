{
 "metadata": {
  "name": ""
 },
 "nbformat": 3,
 "nbformat_minor": 0,
 "worksheets": [
  {
   "cells": [
    {
     "cell_type": "code",
     "collapsed": false,
     "input": [
      "from reprophylo import *"
     ],
     "language": "python",
     "metadata": {},
     "outputs": [],
     "prompt_number": 1
    },
    {
     "cell_type": "code",
     "collapsed": false,
     "input": [
      "start_git()"
     ],
     "language": "python",
     "metadata": {},
     "outputs": [
      {
       "output_type": "stream",
       "stream": "stdout",
       "text": [
        "\n",
        "\n",
        "On branch master\n",
        "\n",
        "Initial commit\n",
        "\n",
        "Untracked files:\n",
        "\t Iguaninae_tutorial.ipynb\n",
        "\t.ipynb_checkpoints/\n",
        "\tIguaninae_1545seqs.gb\n",
        "\tedited_Iguaninae_loci.csv\n",
        "\tedited_Iguaninae_metadata.csv\n",
        "\n",
        "nothing added to commit but untracked files present\n",
        "\n"
       ]
      },
      {
       "output_type": "stream",
       "stream": "stderr",
       "text": [
        "/home/amir/Dropbox/python_modules/rpgit.py:68: UserWarning: Thanks to Stack-Overflow users Shane Geiger and Billy Jin for the git wrappers code\n",
        "  warnings.warn('Thanks to Stack-Overflow users Shane Geiger and Billy Jin for the git wrappers code')\n"
       ]
      }
     ],
     "prompt_number": 2
    },
    {
     "cell_type": "code",
     "collapsed": false,
     "input": [
      "genbank_file = \"Iguaninae_1545seqs.gb\""
     ],
     "language": "python",
     "metadata": {},
     "outputs": [],
     "prompt_number": 3
    },
    {
     "cell_type": "code",
     "collapsed": false,
     "input": [
      "list_loci_in_genbank(genbank_file, 'Iguaninae_raw_loci.csv')"
     ],
     "language": "python",
     "metadata": {},
     "outputs": [
      {
       "output_type": "stream",
       "stream": "stdout",
       "text": [
        "\n",
        "There are 148 gene names (or gene product names) detected\n",
        "----------------------------------\n",
        "Gene and count sorted by gene name\n",
        "----------------------------------\n",
        "3 instances of CDS,ADNP\n",
        "3 instances of CDS,AHR\n",
        "3 instances of CDS,AKAP9\n",
        "1 instances of CDS,alpha actin\n",
        "21 instances of CDS,alpha enolase\n",
        "1 instances of CDS,Amcr-DAB1\n",
        "2 instances of CDS,Amcr-DAB2\n",
        "2 instances of CDS,Amcr-DAB3\n",
        "2 instances of CDS,Amcr-DAB4\n",
        "1 instances of CDS,Amcr-DAB5\n",
        "2 instances of CDS,Amcr-UA\n",
        "5 instances of CDS,Amcr-UB\n",
        "1 instances of CDS,AMEL\n",
        "1 instances of CDS,amelogenin T2L splicing form 2\n",
        "1 instances of CDS,amelogenin T2S splicing form 1\n",
        "1 instances of CDS,ATP6\n",
        "1 instances of CDS,atp6\n",
        "1 instances of CDS,ATP8\n",
        "1 instances of CDS,atp8\n",
        "3 instances of CDS,BACH1\n",
        "6 instances of CDS,BDNF\n",
        "3 instances of CDS,BHLHB2\n",
        "3 instances of CDS,BMP2\n",
        "1 instances of CDS,BNDF\n",
        "15 instances of CDS,C-mos\n",
        "11 instances of CDS,c-mos\n",
        "1 instances of CDS,C-MOS\n",
        "3 instances of CDS,CAND1\n",
        "3 instances of CDS,CARD4\n",
        "3 instances of CDS,CILP\n",
        "2 instances of CDS,citrate synthase\n",
        "5 instances of CDS,COI\n",
        "47 instances of CDS,COIII\n",
        "1 instances of CDS,Cosu-UA\n",
        "4 instances of CDS,Cosu-UB\n",
        "1 instances of CDS,cox I\n",
        "1 instances of CDS,cox II\n",
        "1 instances of CDS,cox III\n",
        "1 instances of CDS,COX1\n",
        "1 instances of CDS,COX2\n",
        "1 instances of CDS,COX3\n",
        "1 instances of CDS,CRiSP-Igu-1\n",
        "1 instances of CDS,CRiSP-Igu-2\n",
        "1 instances of CDS,cryba2\n",
        "2 instances of CDS,crygn\n",
        "1 instances of CDS,Ctcl-UA\n",
        "1 instances of CDS,Ctde-UA\n",
        "1 instances of CDS,CVF-Igu-1\n",
        "3 instances of CDS,CXCR4\n",
        "1 instances of CDS,Cyca-UA\n",
        "1 instances of CDS,Cyco-UA\n",
        "1 instances of CDS,cygb-1\n",
        "1 instances of CDS,cygb-2\n",
        "1 instances of CDS,Cyri-UA\n",
        "1 instances of CDS,Cystatin-Igu-1\n",
        "1 instances of CDS,Cystatin-Igu-2\n",
        "1 instances of CDS,Cystatin-Igu-3\n",
        "229 instances of CDS,cytb\n",
        "1 instances of CDS,CYTB\n",
        "47 instances of CDS,Cytb\n",
        "9 instances of CDS,cytochrome B\n",
        "7 instances of CDS,cytochrome b\n",
        "3 instances of CDS,distal-less\n",
        "1 instances of CDS,DNA polymerase alpha catalytic subunit\n",
        "3 instances of CDS,DNAH3\n",
        "3 instances of CDS,ECEL1\n",
        "3 instances of CDS,ENC1\n",
        "3 instances of CDS,FSHR\n",
        "3 instances of CDS,FSTL5\n",
        "3 instances of CDS,GALR1\n",
        "1 instances of CDS,GAPDH\n",
        "1 instances of CDS,gapdh\n",
        "1 instances of CDS,GARS-AIRS-GART\n",
        "3 instances of CDS,GHSR\n",
        "1 instances of CDS,GPR149\n",
        "3 instances of CDS,GPR37\n",
        "2 instances of CDS,ha1\n",
        "1 instances of CDS,histone H3a\n",
        "3 instances of CDS,HLCS\n",
        "1 instances of CDS,HOXA13\n",
        "3 instances of CDS,Igig-UB\n",
        "3 instances of CDS,INHBA\n",
        "1 instances of CDS,JUN\n",
        "1 instances of CDS,kunitz-Igu-1\n",
        "1 instances of CDS,lactate dehydrogenase A\n",
        "1 instances of CDS,lactate dehydrogenase B\n",
        "3 instances of CDS,leucine zipper tumor suppressor 1\n",
        "2 instances of CDS,LRRN1\n",
        "1 instances of CDS,mb\n",
        "3 instances of CDS,MKL1'\n",
        "1 instances of CDS,MLL\n",
        "3 instances of CDS,MSH6\n",
        "1 instances of CDS,muscle-type (A4) lactate dehydrogenase\n",
        "2 instances of CDS,muscle-type lactate dehydrogenase\n",
        "15 instances of CDS,NADH dehydrogenase subunit 4\n",
        "1 instances of CDS,nadh1\n",
        "1 instances of CDS,nadh2\n",
        "1 instances of CDS,nadh3\n",
        "1 instances of CDS,nadh4\n",
        "1 instances of CDS,nadh4L\n",
        "1 instances of CDS,nadh5\n",
        "1 instances of CDS,nadh6\n",
        "6 instances of CDS,ND1\n",
        "6 instances of CDS,ND2\n",
        "1 instances of CDS,ND3\n",
        "303 instances of CDS,ND4\n",
        "1 instances of CDS,ND4L\n",
        "1 instances of CDS,ND5\n",
        "1 instances of CDS,ND6\n",
        "3 instances of CDS,NGFB\n",
        "3 instances of CDS,NKTR\n",
        "1 instances of CDS,NT-3\n",
        "13 instances of CDS,NT3\n",
        "3 instances of CDS,NTF3\n",
        "1 instances of CDS,pancreatic ribonuclease precursor\n",
        "1 instances of CDS,pin\n",
        "3 instances of CDS,PNN\n",
        "1 instances of CDS,pp\n",
        "2 instances of CDS,PRLR\n",
        "2 instances of CDS,protein tyrosine phosphatase non-receptor type 12\n",
        "1 instances of CDS,prt\n",
        "3 instances of CDS,PTGER4\n",
        "3 instances of CDS,R35\n",
        "3 instances of CDS,RAG-1\n",
        "6 instances of CDS,RAG1\n",
        "1 instances of CDS,RAG2\n",
        "2 instances of CDS,RNF103\n",
        "1 instances of CDS,RT\n",
        "3 instances of CDS,SLC30A1\n",
        "3 instances of CDS,SLC8A1\n",
        "3 instances of CDS,SLC8A3\n",
        "3 instances of CDS,SNCAIP\n",
        "1 instances of CDS,src\n",
        "1 instances of CDS,sws1\n",
        "3 instances of CDS,TRAF6\n",
        "1 instances of CDS,TSHZ1\n",
        "3 instances of CDS,UBN1\n",
        "3 instances of CDS,VCPIP\n",
        "3 instances of CDS,ZEB2\n",
        "3 instances of CDS,ZFP36L1\n",
        "3 instances of CDS,ZHFX1b\n",
        "9 instances of rRNA,12S ribosomal RNA\n",
        "1 instances of rRNA,12S rRNA\n",
        "3 instances of rRNA,16S ribosomal RNA\n",
        "1 instances of rRNA,16S rRNA\n",
        "1 instances of rRNA,18S ribosomal RNA\n",
        "23 instances of rRNA,28S ribosomal RNA\n",
        "21 instances of rRNA,5.8S ribosomal RNA\n",
        "-------------------------------\n",
        "Gene and count sorted by counts\n",
        "-------------------------------\n",
        "303 instances of CDS,ND4\n",
        "229 instances of CDS,cytb\n",
        "47 instances of CDS,COIII\n",
        "47 instances of CDS,Cytb\n",
        "23 instances of rRNA,28S ribosomal RNA\n",
        "21 instances of CDS,alpha enolase\n",
        "21 instances of rRNA,5.8S ribosomal RNA\n",
        "15 instances of CDS,C-mos\n",
        "15 instances of CDS,NADH dehydrogenase subunit 4\n",
        "13 instances of CDS,NT3\n",
        "11 instances of CDS,c-mos\n",
        "9 instances of CDS,cytochrome B\n",
        "9 instances of rRNA,12S ribosomal RNA\n",
        "7 instances of CDS,cytochrome b\n",
        "6 instances of CDS,BDNF\n",
        "6 instances of CDS,ND1\n",
        "6 instances of CDS,ND2\n",
        "6 instances of CDS,RAG1\n",
        "5 instances of CDS,Amcr-UB\n",
        "5 instances of CDS,COI\n",
        "4 instances of CDS,Cosu-UB\n",
        "3 instances of CDS,ADNP\n",
        "3 instances of CDS,AHR\n",
        "3 instances of CDS,AKAP9\n",
        "3 instances of CDS,BACH1\n",
        "3 instances of CDS,BHLHB2\n",
        "3 instances of CDS,BMP2\n",
        "3 instances of CDS,CAND1\n",
        "3 instances of CDS,CARD4\n",
        "3 instances of CDS,CILP\n",
        "3 instances of CDS,CXCR4\n",
        "3 instances of CDS,distal-less\n",
        "3 instances of CDS,DNAH3\n",
        "3 instances of CDS,ECEL1\n",
        "3 instances of CDS,ENC1\n",
        "3 instances of CDS,FSHR\n",
        "3 instances of CDS,FSTL5\n",
        "3 instances of CDS,GALR1\n",
        "3 instances of CDS,GHSR\n",
        "3 instances of CDS,GPR37\n",
        "3 instances of CDS,HLCS\n",
        "3 instances of CDS,Igig-UB\n",
        "3 instances of CDS,INHBA\n",
        "3 instances of CDS,leucine zipper tumor suppressor 1\n",
        "3 instances of CDS,MKL1'\n",
        "3 instances of CDS,MSH6\n",
        "3 instances of CDS,NGFB\n",
        "3 instances of CDS,NKTR\n",
        "3 instances of CDS,NTF3\n",
        "3 instances of CDS,PNN\n",
        "3 instances of CDS,PTGER4\n",
        "3 instances of CDS,R35\n",
        "3 instances of CDS,RAG-1\n",
        "3 instances of CDS,SLC30A1\n",
        "3 instances of CDS,SLC8A1\n",
        "3 instances of CDS,SLC8A3\n",
        "3 instances of CDS,SNCAIP\n",
        "3 instances of CDS,TRAF6\n",
        "3 instances of CDS,UBN1\n",
        "3 instances of CDS,VCPIP\n",
        "3 instances of CDS,ZEB2\n",
        "3 instances of CDS,ZFP36L1\n",
        "3 instances of CDS,ZHFX1b\n",
        "3 instances of rRNA,16S ribosomal RNA\n",
        "2 instances of CDS,Amcr-DAB2\n",
        "2 instances of CDS,Amcr-DAB3\n",
        "2 instances of CDS,Amcr-DAB4\n",
        "2 instances of CDS,Amcr-UA\n",
        "2 instances of CDS,citrate synthase\n",
        "2 instances of CDS,crygn\n",
        "2 instances of CDS,ha1\n",
        "2 instances of CDS,LRRN1\n",
        "2 instances of CDS,muscle-type lactate dehydrogenase\n",
        "2 instances of CDS,PRLR\n",
        "2 instances of CDS,protein tyrosine phosphatase non-receptor type 12\n",
        "2 instances of CDS,RNF103\n",
        "1 instances of CDS,alpha actin\n",
        "1 instances of CDS,Amcr-DAB1\n",
        "1 instances of CDS,Amcr-DAB5\n",
        "1 instances of CDS,AMEL\n",
        "1 instances of CDS,amelogenin T2L splicing form 2\n",
        "1 instances of CDS,amelogenin T2S splicing form 1\n",
        "1 instances of CDS,ATP6\n",
        "1 instances of CDS,atp6\n",
        "1 instances of CDS,ATP8\n",
        "1 instances of CDS,atp8\n",
        "1 instances of CDS,BNDF\n",
        "1 instances of CDS,C-MOS\n",
        "1 instances of CDS,Cosu-UA\n",
        "1 instances of CDS,cox I\n",
        "1 instances of CDS,cox II\n",
        "1 instances of CDS,cox III\n",
        "1 instances of CDS,COX1\n",
        "1 instances of CDS,COX2\n",
        "1 instances of CDS,COX3\n",
        "1 instances of CDS,CRiSP-Igu-1\n",
        "1 instances of CDS,CRiSP-Igu-2\n",
        "1 instances of CDS,cryba2\n",
        "1 instances of CDS,Ctcl-UA\n",
        "1 instances of CDS,Ctde-UA\n",
        "1 instances of CDS,CVF-Igu-1\n",
        "1 instances of CDS,Cyca-UA\n",
        "1 instances of CDS,Cyco-UA\n",
        "1 instances of CDS,cygb-1\n",
        "1 instances of CDS,cygb-2\n",
        "1 instances of CDS,Cyri-UA\n",
        "1 instances of CDS,Cystatin-Igu-1\n",
        "1 instances of CDS,Cystatin-Igu-2\n",
        "1 instances of CDS,Cystatin-Igu-3\n",
        "1 instances of CDS,CYTB\n",
        "1 instances of CDS,DNA polymerase alpha catalytic subunit\n",
        "1 instances of CDS,GAPDH\n",
        "1 instances of CDS,gapdh\n",
        "1 instances of CDS,GARS-AIRS-GART\n",
        "1 instances of CDS,GPR149\n",
        "1 instances of CDS,histone H3a\n",
        "1 instances of CDS,HOXA13\n",
        "1 instances of CDS,JUN\n",
        "1 instances of CDS,kunitz-Igu-1\n",
        "1 instances of CDS,lactate dehydrogenase A\n",
        "1 instances of CDS,lactate dehydrogenase B\n",
        "1 instances of CDS,mb\n",
        "1 instances of CDS,MLL\n",
        "1 instances of CDS,muscle-type (A4) lactate dehydrogenase\n",
        "1 instances of CDS,nadh1\n",
        "1 instances of CDS,nadh2\n",
        "1 instances of CDS,nadh3\n",
        "1 instances of CDS,nadh4\n",
        "1 instances of CDS,nadh4L\n",
        "1 instances of CDS,nadh5\n",
        "1 instances of CDS,nadh6\n",
        "1 instances of CDS,ND3\n",
        "1 instances of CDS,ND4L\n",
        "1 instances of CDS,ND5\n",
        "1 instances of CDS,ND6\n",
        "1 instances of CDS,NT-3\n",
        "1 instances of CDS,pancreatic ribonuclease precursor\n",
        "1 instances of CDS,pin\n",
        "1 instances of CDS,pp\n",
        "1 instances of CDS,prt\n",
        "1 instances of CDS,RAG2\n",
        "1 instances of CDS,RT\n",
        "1 instances of CDS,src\n",
        "1 instances of CDS,sws1\n",
        "1 instances of CDS,TSHZ1\n",
        "1 instances of rRNA,12S rRNA\n",
        "1 instances of rRNA,16S rRNA\n",
        "1 instances of rRNA,18S ribosomal RNA\n"
       ]
      }
     ],
     "prompt_number": 4
    },
    {
     "cell_type": "code",
     "collapsed": false,
     "input": [
      "!cat Iguaninae_raw_loci.csv"
     ],
     "language": "python",
     "metadata": {},
     "outputs": [
      {
       "output_type": "stream",
       "stream": "stdout",
       "text": [
        "dna,rRNA,18s,18S ribosomal RNA\r\n",
        "dna,rRNA,28s,28S ribosomal RNA\r\n",
        "dna,rRNA,5.8S_ribosomal_RNA,5.8S ribosomal RNA\r\n",
        "dna,CDS,ADNP,ADNP\r\n",
        "dna,CDS,AHR,AHR\r\n",
        "dna,CDS,AKAP9,AKAP9\r\n",
        "dna,CDS,AMEL,AMEL\r\n",
        "dna,CDS,Amcr-DAB1,Amcr-DAB1\r\n",
        "dna,CDS,Amcr-DAB2,Amcr-DAB2\r\n",
        "dna,CDS,Amcr-DAB3,Amcr-DAB3\r\n",
        "dna,CDS,Amcr-DAB4,Amcr-DAB4\r\n",
        "dna,CDS,Amcr-DAB5,Amcr-DAB5\r\n",
        "dna,CDS,Amcr-UA,Amcr-UA\r\n",
        "dna,CDS,Amcr-UB,Amcr-UB\r\n",
        "dna,CDS,BACH1,BACH1\r\n",
        "dna,CDS,BDNF,BDNF\r\n",
        "dna,CDS,BHLHB2,BHLHB2\r\n",
        "dna,CDS,BMP2,BMP2\r\n",
        "dna,CDS,BNDF,BNDF\r\n",
        "dna,CDS,CAND1,CAND1\r\n",
        "dna,CDS,CARD4,CARD4\r\n",
        "dna,CDS,CILP,CILP\r\n",
        "dna,CDS,CRiSP-Igu-1,CRiSP-Igu-1\r\n",
        "dna,CDS,CRiSP-Igu-2,CRiSP-Igu-2\r\n",
        "dna,CDS,CVF-Igu-1,CVF-Igu-1\r\n",
        "dna,CDS,CXCR4,CXCR4\r\n",
        "dna,CDS,C_mos,C-mos,c-mos,C-MOS\r\n",
        "dna,CDS,Cosu-UA,Cosu-UA\r\n",
        "dna,CDS,Cosu-UB,Cosu-UB\r\n",
        "dna,CDS,Ctcl-UA,Ctcl-UA\r\n",
        "dna,CDS,Ctde-UA,Ctde-UA\r\n",
        "dna,CDS,Cyca-UA,Cyca-UA\r\n",
        "dna,CDS,Cyco-UA,Cyco-UA\r\n",
        "dna,CDS,Cyri-UA,Cyri-UA\r\n",
        "dna,CDS,Cystatin-Igu-1,Cystatin-Igu-1\r\n",
        "dna,CDS,Cystatin-Igu-2,Cystatin-Igu-2\r\n",
        "dna,CDS,Cystatin-Igu-3,Cystatin-Igu-3\r\n",
        "dna,CDS,DNAH3,DNAH3\r\n",
        "dna,CDS,DNA_polymerase_alpha_catalytic_subunit,DNA polymerase alpha catalytic subunit\r\n",
        "dna,CDS,ECEL1,ECEL1\r\n",
        "dna,CDS,ENC1,ENC1\r\n",
        "dna,CDS,FSHR,FSHR\r\n",
        "dna,CDS,FSTL5,FSTL5\r\n",
        "dna,CDS,GALR1,GALR1\r\n",
        "dna,CDS,GAPDH,GAPDH,gapdh\r\n",
        "dna,CDS,GARS-AIRS-GART,GARS-AIRS-GART\r\n",
        "dna,CDS,GHSR,GHSR\r\n",
        "dna,CDS,GPR149,GPR149\r\n",
        "dna,CDS,GPR37,GPR37\r\n",
        "dna,CDS,HLCS,HLCS\r\n",
        "dna,CDS,HOXA13,HOXA13\r\n",
        "dna,CDS,INHBA,INHBA\r\n",
        "dna,CDS,Igig-UB,Igig-UB\r\n",
        "dna,CDS,JUN,JUN\r\n",
        "dna,CDS,LRRN1,LRRN1\r\n",
        "dna,CDS,MKL1',MKL1'\r\n",
        "dna,CDS,MLL,MLL\r\n",
        "dna,CDS,MSH6,MSH6\r\n",
        "dna,CDS,MT-ATP6,ATP6,atp6\r\n",
        "dna,CDS,MT-ATP8,ATP8,atp8\r\n",
        "dna,CDS,MT-CO1,COI,cox I,COX1\r\n",
        "dna,CDS,MT-CO2,cox II,COX2\r\n",
        "dna,CDS,MT-CO3,COIII,cox III,COX3\r\n",
        "dna,CDS,MT-CYB,cytb,CYTB,Cytb,cytochrome B,cytochrome b\r\n",
        "dna,CDS,MT-ND1,nadh1,ND1\r\n",
        "dna,CDS,MT-ND2,nadh2,ND2\r\n",
        "dna,CDS,MT-ND3,nadh3,ND3\r\n",
        "dna,CDS,MT-ND4,NADH dehydrogenase subunit 4,nadh4,ND4\r\n",
        "dna,CDS,MT-ND4L,nadh4L,ND4L\r\n",
        "dna,CDS,MT-ND5,nadh5,ND5\r\n",
        "dna,CDS,MT-ND6,nadh6,ND6\r\n",
        "dna,CDS,NGFB,NGFB\r\n",
        "dna,CDS,NKTR,NKTR\r\n",
        "dna,CDS,NT-3,NT-3\r\n",
        "dna,CDS,NT3,NT3\r\n",
        "dna,CDS,NTF3,NTF3\r\n",
        "dna,CDS,PNN,PNN\r\n",
        "dna,CDS,PRLR,PRLR\r\n",
        "dna,CDS,PTGER4,PTGER4\r\n",
        "dna,CDS,R35,R35\r\n",
        "dna,CDS,RAG-1,RAG-1\r\n",
        "dna,CDS,RAG1,RAG1\r\n",
        "dna,CDS,RAG2,RAG2\r\n",
        "dna,CDS,RNF103,RNF103\r\n",
        "dna,CDS,RT,RT\r\n",
        "dna,CDS,SLC30A1,SLC30A1\r\n",
        "dna,CDS,SLC8A1,SLC8A1\r\n",
        "dna,CDS,SLC8A3,SLC8A3\r\n",
        "dna,CDS,SNCAIP,SNCAIP\r\n",
        "dna,CDS,TRAF6,TRAF6\r\n",
        "dna,CDS,TSHZ1,TSHZ1\r\n",
        "dna,CDS,UBN1,UBN1\r\n",
        "dna,CDS,VCPIP,VCPIP\r\n",
        "dna,CDS,ZEB2,ZEB2\r\n",
        "dna,CDS,ZFP36L1,ZFP36L1\r\n",
        "dna,CDS,ZHFX1b,ZHFX1b\r\n",
        "dna,CDS,alpha_actin,alpha actin\r\n",
        "dna,CDS,alpha_enolase,alpha enolase\r\n",
        "dna,CDS,amelogenin_T2L_splicing_form_2,amelogenin T2L splicing form 2\r\n",
        "dna,CDS,amelogenin_T2S_splicing_form_1,amelogenin T2S splicing form 1\r\n",
        "dna,CDS,citrate_synthase,citrate synthase\r\n",
        "dna,CDS,cryba2,cryba2\r\n",
        "dna,CDS,crygn,crygn\r\n",
        "dna,CDS,cygb-1,cygb-1\r\n",
        "dna,CDS,cygb-2,cygb-2\r\n",
        "dna,CDS,distal-less,distal-less\r\n",
        "dna,CDS,ha1,ha1\r\n",
        "dna,CDS,histone_H3a,histone H3a\r\n",
        "dna,CDS,kunitz-Igu-1,kunitz-Igu-1\r\n",
        "dna,CDS,lactate_dehydrogenase_A,lactate dehydrogenase A\r\n",
        "dna,CDS,lactate_dehydrogenase_B,lactate dehydrogenase B\r\n",
        "dna,CDS,leucine_zipper_tumor_suppressor_1,leucine zipper tumor suppressor 1\r\n",
        "dna,CDS,mb,mb\r\n",
        "dna,CDS,muscle-type_(A4)_lactate_dehydrogenase,muscle-type (A4) lactate dehydrogenase\r\n",
        "dna,CDS,muscle-type_lactate_dehydrogenase,muscle-type lactate dehydrogenase\r\n",
        "dna,CDS,pancreatic_ribonuclease_precursor,pancreatic ribonuclease precursor\r\n",
        "dna,CDS,pin,pin\r\n",
        "dna,CDS,pp,pp\r\n",
        "dna,CDS,protein_tyrosine_phosphatase_non-receptor_type_12,protein tyrosine phosphatase non-receptor type 12\r\n",
        "dna,CDS,prt,prt\r\n",
        "dna,rRNA,rrnL,16S ribosomal RNA,16S rRNA\r\n",
        "dna,rRNA,rrnS,12S ribosomal RNA,12S rRNA\r\n",
        "dna,CDS,src,src\r\n",
        "dna,CDS,sws1,sws1\r\n"
       ]
      }
     ],
     "prompt_number": 5
    },
    {
     "cell_type": "code",
     "collapsed": false,
     "input": [
      "%%file edited_Iguaninae_loci.csv\n",
      "dna,rRNA,18s,18S ribosomal RNA\n",
      "dna,rRNA,28s,28S ribosomal RNA\n",
      "dna,rRNA,5.8S_ribosomal_RNA,5.8S ribosomal RNA\n",
      "dna,CDS,ADNP,ADNP\n",
      "dna,CDS,AHR,AHR\n",
      "dna,CDS,AKAP9,AKAP9\n",
      "dna,CDS,AMEL,AMEL\n",
      "dna,CDS,Amcr-DAB1,Amcr-DAB1\n",
      "dna,CDS,Amcr-DAB2,Amcr-DAB2\n",
      "dna,CDS,Amcr-DAB3,Amcr-DAB3\n",
      "dna,CDS,Amcr-DAB4,Amcr-DAB4\n",
      "dna,CDS,Amcr-DAB5,Amcr-DAB5\n",
      "dna,CDS,Amcr-UA,Amcr-UA\n",
      "dna,CDS,Amcr-UB,Amcr-UB\n",
      "dna,CDS,BACH1,BACH1\n",
      "dna,CDS,BDNF,BDNF\n",
      "dna,CDS,BHLHB2,BHLHB2\n",
      "dna,CDS,BMP2,BMP2\n",
      "dna,CDS,BNDF,BNDF\n",
      "dna,CDS,CAND1,CAND1\n",
      "dna,CDS,CARD4,CARD4\n",
      "dna,CDS,CILP,CILP\n",
      "dna,CDS,CRiSP-Igu-1,CRiSP-Igu-1\n",
      "dna,CDS,CRiSP-Igu-2,CRiSP-Igu-2\n",
      "dna,CDS,CVF-Igu-1,CVF-Igu-1\n",
      "dna,CDS,CXCR4,CXCR4\n",
      "dna,CDS,C_mos,C-mos,c-mos,C-MOS\n",
      "dna,CDS,Cosu-UA,Cosu-UA\n",
      "dna,CDS,Cosu-UB,Cosu-UB\n",
      "dna,CDS,Ctcl-UA,Ctcl-UA\n",
      "dna,CDS,Ctde-UA,Ctde-UA\n",
      "dna,CDS,Cyca-UA,Cyca-UA\n",
      "dna,CDS,Cyco-UA,Cyco-UA\n",
      "dna,CDS,Cyri-UA,Cyri-UA\n",
      "dna,CDS,Cystatin-Igu-1,Cystatin-Igu-1\n",
      "dna,CDS,Cystatin-Igu-2,Cystatin-Igu-2\n",
      "dna,CDS,Cystatin-Igu-3,Cystatin-Igu-3\n",
      "dna,CDS,DNAH3,DNAH3\n",
      "dna,CDS,DNA_polymerase_alpha_catalytic_subunit,DNA polymerase alpha catalytic subunit\n",
      "dna,CDS,ECEL1,ECEL1\n",
      "dna,CDS,ENC1,ENC1\n",
      "dna,CDS,FSHR,FSHR\n",
      "dna,CDS,FSTL5,FSTL5\n",
      "dna,CDS,GALR1,GALR1\n",
      "dna,CDS,GAPDH,GAPDH,gapdh\n",
      "dna,CDS,GARS-AIRS-GART,GARS-AIRS-GART\n",
      "dna,CDS,GHSR,GHSR\n",
      "dna,CDS,GPR149,GPR149\n",
      "dna,CDS,GPR37,GPR37\n",
      "dna,CDS,HLCS,HLCS\n",
      "dna,CDS,HOXA13,HOXA13\n",
      "dna,CDS,INHBA,INHBA\n",
      "dna,CDS,Igig-UB,Igig-UB\n",
      "dna,CDS,JUN,JUN\n",
      "dna,CDS,LRRN1,LRRN1\n",
      "dna,CDS,MKL1',MKL1'\n",
      "dna,CDS,MLL,MLL\n",
      "dna,CDS,MSH6,MSH6\n",
      "dna,CDS,MT-ATP6,ATP6,atp6\n",
      "dna,CDS,MT-ATP8,ATP8,atp8\n",
      "dna,CDS,MT-CO1,COI,cox I,COX1\n",
      "dna,CDS,MT-CO2,cox II,COX2\n",
      "dna,CDS,MT-CO3,COIII,cox III,COX3\n",
      "dna,CDS,MT-CYB,cytb,CYTB,Cytb,cytochrome B,cytochrome b\n",
      "dna,CDS,MT-ND1,nadh1,ND1\n",
      "dna,CDS,MT-ND2,nadh2,ND2\n",
      "dna,CDS,MT-ND3,nadh3,ND3\n",
      "dna,CDS,MT-ND4,NADH dehydrogenase subunit 4,nadh4,ND4,nad4\n",
      "dna,CDS,MT-ND4L,nadh4L,ND4L\n",
      "dna,CDS,MT-ND5,nadh5,ND5\n",
      "dna,CDS,MT-ND6,nadh6,ND6\n",
      "dna,CDS,NGFB,NGFB\n",
      "dna,CDS,NKTR,NKTR\n",
      "dna,CDS,NT-3,NT-3\n",
      "dna,CDS,NT3,NT3\n",
      "dna,CDS,NTF3,NTF3\n",
      "dna,CDS,PNN,PNN\n",
      "dna,CDS,PRLR,PRLR\n",
      "dna,CDS,PTGER4,PTGER4\n",
      "dna,CDS,R35,R35\n",
      "dna,CDS,RAG-1,RAG-1\n",
      "dna,CDS,RAG1,RAG1\n",
      "dna,CDS,RAG2,RAG2\n",
      "dna,CDS,RNF103,RNF103\n",
      "dna,CDS,RT,RT\n",
      "dna,CDS,SLC30A1,SLC30A1\n",
      "dna,CDS,SLC8A1,SLC8A1\n",
      "dna,CDS,SLC8A3,SLC8A3\n",
      "dna,CDS,SNCAIP,SNCAIP\n",
      "dna,CDS,TRAF6,TRAF6\n",
      "dna,CDS,TSHZ1,TSHZ1\n",
      "dna,CDS,UBN1,UBN1\n",
      "dna,CDS,VCPIP,VCPIP\n",
      "dna,CDS,ZEB2,ZEB2\n",
      "dna,CDS,ZFP36L1,ZFP36L1\n",
      "dna,CDS,ZHFX1b,ZHFX1b\n",
      "dna,CDS,alpha_actin,alpha actin\n",
      "dna,CDS,alpha_enolase,alpha enolase\n",
      "dna,CDS,amelogenin_T2L_splicing_form_2,amelogenin T2L splicing form 2\n",
      "dna,CDS,amelogenin_T2S_splicing_form_1,amelogenin T2S splicing form 1\n",
      "dna,CDS,citrate_synthase,citrate synthase\n",
      "dna,CDS,cryba2,cryba2\n",
      "dna,CDS,crygn,crygn\n",
      "dna,CDS,cygb-1,cygb-1\n",
      "dna,CDS,cygb-2,cygb-2\n",
      "dna,CDS,distal-less,distal-less\n",
      "dna,CDS,ha1,ha1\n",
      "dna,CDS,histone_H3a,histone H3a\n",
      "dna,CDS,kunitz-Igu-1,kunitz-Igu-1\n",
      "dna,CDS,lactate_dehydrogenase_A,lactate dehydrogenase A\n",
      "dna,CDS,lactate_dehydrogenase_B,lactate dehydrogenase B\n",
      "dna,CDS,leucine_zipper_tumor_suppressor_1,leucine zipper tumor suppressor 1\n",
      "dna,CDS,mb,mb\n",
      "dna,CDS,muscle-type_(A4)_lactate_dehydrogenase,muscle-type (A4) lactate dehydrogenase\n",
      "dna,CDS,muscle-type_lactate_dehydrogenase,muscle-type lactate dehydrogenase\n",
      "dna,CDS,pancreatic_ribonuclease_precursor,pancreatic ribonuclease precursor\n",
      "dna,CDS,pin,pin\n",
      "dna,CDS,pp,pp\n",
      "dna,CDS,protein_tyrosine_phosphatase_non-receptor_type_12,protein tyrosine phosphatase non-receptor type 12\n",
      "dna,CDS,prt,prt\n",
      "dna,rRNA,rrnL,16S ribosomal RNA,16S rRNA\n",
      "dna,rRNA,rrnS,12S ribosomal RNA,12S rRNA\n",
      "dna,CDS,src,src\n",
      "dna,CDS,sws1,sws1"
     ],
     "language": "python",
     "metadata": {},
     "outputs": [
      {
       "output_type": "stream",
       "stream": "stdout",
       "text": [
        "Overwriting edited_Iguaninae_loci.csv\n"
       ]
      }
     ],
     "prompt_number": 6
    },
    {
     "cell_type": "code",
     "collapsed": false,
     "input": [
      "pj = Project('edited_Iguaninae_loci.csv')"
     ],
     "language": "python",
     "metadata": {},
     "outputs": [],
     "prompt_number": 7
    },
    {
     "cell_type": "code",
     "collapsed": false,
     "input": [
      "pj.read_embl_genbank(['Iguaninae_1545seqs.gb'])"
     ],
     "language": "python",
     "metadata": {},
     "outputs": [
      {
       "output_type": "stream",
       "stream": "stdout",
       "text": [
        "\n"
       ]
      },
      {
       "output_type": "stream",
       "stream": "stdout",
       "text": [
        "\n",
        "\n",
        "\n",
        "[master (root-commit) 36ac282] 1 genbank/embl data file(s) from Wed Nov 19 22:12:19 2014\n",
        " 1 file changed, 91403 insertions(+)\n",
        " create mode 100644 Iguaninae_1545seqs.gb\n",
        "\n"
       ]
      }
     ],
     "prompt_number": 8
    },
    {
     "cell_type": "code",
     "collapsed": false,
     "input": [
      "pj.write('raw_Iguaninae_metadata.csv',format='csv')"
     ],
     "language": "python",
     "metadata": {},
     "outputs": [
      {
       "output_type": "stream",
       "stream": "stdout",
       "text": [
        "\n",
        "\n",
        "\n",
        "[master e6840e9] Records csv text file from Wed Nov 19 22:12:19 2014\n",
        " 1 file changed, 1034 insertions(+)\n",
        " create mode 100644 raw_Iguaninae_metadata.csv\n",
        "\n"
       ]
      }
     ],
     "prompt_number": 9
    },
    {
     "cell_type": "markdown",
     "metadata": {},
     "source": [
      "Add column with genus, add column 'OTU' which unites strain and voucher specimen, choose genes with many reps that are identified by strain or voucher specimen: 'coiii','cytb','nad4'"
     ]
    },
    {
     "cell_type": "code",
     "collapsed": false,
     "input": [
      "pj.correct_metadata_from_file('edited_Iguaninae_metadata.csv')"
     ],
     "language": "python",
     "metadata": {},
     "outputs": [
      {
       "output_type": "stream",
       "stream": "stdout",
       "text": [
        "\n",
        "\n",
        "\n",
        "[master 6f289f1] Corrected metadata CSV file from Wed Nov 19 22:12:19 2014\n",
        " 1 file changed, 818 insertions(+)\n",
        " create mode 100644 edited_Iguaninae_metadata.csv\n",
        "\n"
       ]
      }
     ],
     "prompt_number": 10
    },
    {
     "cell_type": "code",
     "collapsed": false,
     "input": [
      "pj.extract_by_locus()"
     ],
     "language": "python",
     "metadata": {},
     "outputs": [],
     "prompt_number": 11
    },
    {
     "cell_type": "code",
     "collapsed": false,
     "input": [
      "#pj.filter_by_seq_length(min_length=200)"
     ],
     "language": "python",
     "metadata": {},
     "outputs": [],
     "prompt_number": 12
    },
    {
     "cell_type": "code",
     "collapsed": false,
     "input": [
      "mafft = AlnConf(pj, CDSAlign=False, cline_args={'auto':True})"
     ],
     "language": "python",
     "metadata": {},
     "outputs": [
      {
       "output_type": "stream",
       "stream": "stdout",
       "text": [
        "These loci have less than 4 sequences and will be dropped from this conf object. Don't use then in a concatenation:\n",
        "['MT-CO2', 'DNA_polymerase_alpha_catalytic_subunit', 'Cystatin-Igu-3', 'cygb-2', \"MKL1'\", 'SLC30A1', 'GPR37', 'RT', 'MT-ND5', 'MT-ND6', 'PTGER4', 'FSTL5', 'INHBA', 'citrate_synthase', 'MT-ATP8', 'R35', 'MT-ATP6', 'FSHR', 'amelogenin_T2L_splicing_form_2', 'Cystatin-Igu-1', 'Cystatin-Igu-2', 'ECEL1', 'BMP2', 'AKAP9', 'Cyco-UA', 'AHR', 'GALR1', 'ENC1', 'RNF103', 'ha1', 'ADNP', 'GAPDH', 'GARS-AIRS-GART', 'CVF-Igu-1', 'PRLR', 'CRiSP-Igu-2', 'BACH1', 'JUN', 'MT-ND4L', 'distal-less', 'cryba2', 'protein_tyrosine_phosphatase_non-receptor_type_12', 'CARD4', 'amelogenin_T2S_splicing_form_1', 'TSHZ1', 'histone_H3a', 'RAG2', 'MT-ND3', 'leucine_zipper_tumor_suppressor_1', 'ZEB2', 'DNAH3', 'Amcr-UA', 'HLCS', 'VCPIP', 'Cyca-UA', 'kunitz-Igu-1', 'RAG-1', 'NGFB', 'pp', 'SNCAIP', 'lactate_dehydrogenase_A', 'lactate_dehydrogenase_B', 'HOXA13', 'GPR149', 'BHLHB2', 'NT-3', 'SLC8A1', 'SLC8A3', 'NTF3', 'src', 'muscle-type_lactate_dehydrogenase', 'ZFP36L1', 'GHSR', 'Igig-UB', 'mb', 'LRRN1', '18s', 'ZHFX1b', 'Ctcl-UA', 'AMEL', 'pin', 'MSH6', 'prt', 'UBN1', 'pancreatic_ribonuclease_precursor', 'CAND1', 'Cosu-UA', 'crygn', 'CXCR4', 'Cyri-UA', 'BNDF', 'TRAF6', 'MLL', 'sws1', 'alpha_actin', 'Amcr-DAB1', 'Amcr-DAB2', 'Amcr-DAB3', 'Amcr-DAB4', 'Amcr-DAB5', 'CILP', 'muscle-type_(A4)_lactate_dehydrogenase', 'NKTR', 'PNN', 'cygb-1', 'Ctde-UA', 'CRiSP-Igu-1']\n",
        "\n",
        "\n",
        "mafft --auto 761931416435140.03_MT-CO1.fasta\n",
        "mafft --auto 761931416435140.03_MT-CO3.fasta\n",
        "mafft --auto 761931416435140.03_BDNF.fasta\n",
        "mafft --auto 761931416435140.03_MT-ND1.fasta\n",
        "mafft --auto 761931416435140.03_MT-ND2.fasta\n",
        "mafft --auto 761931416435140.03_5.8S_ribosomal_RNA.fasta\n",
        "mafft --auto 761931416435140.03_MT-ND4.fasta\n",
        "mafft --auto 761931416435140.03_rrnL.fasta\n",
        "mafft --auto 761931416435140.03_C_mos.fasta\n",
        "mafft --auto 761931416435140.03_rrnS.fasta\n",
        "mafft --auto 761931416435140.03_28s.fasta\n",
        "mafft --auto 761931416435140.03_MT-CYB.fasta\n",
        "mafft --auto 761931416435140.03_Amcr-UB.fasta\n",
        "mafft --auto 761931416435140.03_RAG1.fasta\n",
        "mafft --auto 761931416435140.03_NT3.fasta\n",
        "mafft --auto 761931416435140.03_Cosu-UB.fasta\n",
        "mafft --auto 761931416435140.03_alpha_enolase.fasta\n"
       ]
      }
     ],
     "prompt_number": 13
    },
    {
     "cell_type": "markdown",
     "metadata": {},
     "source": [
      "With the jobs below when * turns into an integer it is finished"
     ]
    },
    {
     "cell_type": "code",
     "collapsed": false,
     "input": [
      "pj.align([mafft])"
     ],
     "language": "python",
     "metadata": {},
     "outputs": [
      {
       "output_type": "stream",
       "stream": "stdout",
       "text": [
        "Alignment 5.8S_ribosomal_RNA@mafftDefault has less than 4 unique sequences and will be dropped\n",
        "Alignment rrnL@mafftDefault has less than 4 unique sequences and will be dropped"
       ]
      },
      {
       "output_type": "stream",
       "stream": "stdout",
       "text": [
        "\n"
       ]
      }
     ],
     "prompt_number": 14
    },
    {
     "cell_type": "code",
     "collapsed": false,
     "input": [
      "pickle_pj(pj, 'Iguaninae_tutorial.pkl')"
     ],
     "language": "python",
     "metadata": {},
     "outputs": [
      {
       "output_type": "stream",
       "stream": "stderr",
       "text": [
        "DEBUG:Cloud:Log file (/home/amir/.picloud/cloud.log) opened\n"
       ]
      },
      {
       "output_type": "stream",
       "stream": "stdout",
       "text": [
        "\n",
        "[master cbdb2a6] A pickled Project from Wed Nov 19 22:12:48 2014\n",
        " 1 file changed, 0 insertions(+), 0 deletions(-)\n",
        " create mode 100644 Iguaninae_tutorial.pkl\n",
        "\n"
       ]
      },
      {
       "metadata": {},
       "output_type": "pyout",
       "prompt_number": 15,
       "text": [
        "'Iguaninae_tutorial.pkl'"
       ]
      }
     ],
     "prompt_number": 15
    },
    {
     "cell_type": "code",
     "collapsed": false,
     "input": [
      "gappyout = TrimalConf(pj)"
     ],
     "language": "python",
     "metadata": {},
     "outputs": [
      {
       "output_type": "stream",
       "stream": "stdout",
       "text": [
        "trimal -in 627941416435168.99_C_mos@mafftDefault.fasta -gappyout\n",
        "trimal -in 627941416435168.99_Amcr-UB@mafftDefault.fasta -gappyout\n",
        "trimal -in 627941416435168.99_rrnS@mafftDefault.fasta -gappyout\n",
        "trimal -in 627941416435168.99_MT-ND1@mafftDefault.fasta -gappyout\n",
        "trimal -in 627941416435168.99_MT-ND4@mafftDefault.fasta -gappyout\n",
        "trimal -in 627941416435168.99_MT-CO1@mafftDefault.fasta -gappyout\n",
        "trimal -in 627941416435168.99_MT-CYB@mafftDefault.fasta -gappyout\n",
        "trimal -in 627941416435168.99_28s@mafftDefault.fasta -gappyout\n",
        "trimal -in 627941416435168.99_Cosu-UB@mafftDefault.fasta -gappyout\n",
        "trimal -in 627941416435168.99_MT-CO3@mafftDefault.fasta -gappyout\n",
        "trimal -in 627941416435168.99_alpha_enolase@mafftDefault.fasta -gappyout\n",
        "trimal -in 627941416435168.99_NT3@mafftDefault.fasta -gappyout\n",
        "trimal -in 627941416435168.99_BDNF@mafftDefault.fasta -gappyout\n",
        "trimal -in 627941416435168.99_MT-ND2@mafftDefault.fasta -gappyout\n",
        "trimal -in 627941416435168.99_RAG1@mafftDefault.fasta -gappyout\n"
       ]
      }
     ],
     "prompt_number": 16
    },
    {
     "cell_type": "code",
     "collapsed": false,
     "input": [
      "pj.trim([gappyout])"
     ],
     "language": "python",
     "metadata": {},
     "outputs": [
      {
       "output_type": "stream",
       "stream": "stdout",
       "text": [
        "Alignment MT-ND4@mafftDefault@gappyout has undetermined sequences which will be dropped: ['U66233.1_f0', 'U66232.1_f0', 'U66235.1_f0', 'U66228.1_f0', 'U66237.1_f0', 'U66229.1_f0', 'U66236.1_f0', 'U66227.1_f0', 'U66238.1_f0', 'U66234.1_f0']\n"
       ]
      }
     ],
     "prompt_number": 17
    },
    {
     "cell_type": "code",
     "collapsed": false,
     "input": [
      "pickle_pj(pj, 'Iguaninae_tutorial.pkl')"
     ],
     "language": "python",
     "metadata": {},
     "outputs": [
      {
       "output_type": "stream",
       "stream": "stdout",
       "text": [
        "\n",
        "[master 2c6a590] A pickled Project from Wed Nov 19 22:12:53 2014\n",
        " 1 file changed, 0 insertions(+), 0 deletions(-)\n"
       ]
      },
      {
       "output_type": "stream",
       "stream": "stdout",
       "text": [
        "\n"
       ]
      },
      {
       "metadata": {},
       "output_type": "pyout",
       "prompt_number": 18,
       "text": [
        "'Iguaninae_tutorial.pkl'"
       ]
      }
     ],
     "prompt_number": 18
    },
    {
     "cell_type": "code",
     "collapsed": false,
     "input": [
      "concat_loci = [locus for locus in pj.loci if locus.name in ['MT-CO3','MT-CYB','MT-ND4']]\n",
      "for i in concat_loci:\n",
      "    print str(i)\n",
      "concat = Concatenation(name='strict', loci=concat_loci, otu_meta='OTUs',\n",
      "                       otu_must_have_all_of=['MT-CYB'])"
     ],
     "language": "python",
     "metadata": {},
     "outputs": [
      {
       "output_type": "stream",
       "stream": "stdout",
       "text": [
        "Locus(char_type=dna, feature_type=CDS, name=MT-CO3, aliases=COIII; cox III; COX3; MT-CO3)\n",
        "Locus(char_type=dna, feature_type=CDS, name=MT-ND4, aliases=NADH dehydrogenase subunit 4; nadh4; ND4; nad4; MT-ND4)\n",
        "Locus(char_type=dna, feature_type=CDS, name=MT-CYB, aliases=cytb; CYTB; Cytb; cytochrome B; cytochrome b; MT-CYB)\n"
       ]
      }
     ],
     "prompt_number": 19
    },
    {
     "cell_type": "code",
     "collapsed": false,
     "input": [
      "pj.concatenations = []\n",
      "pj.add_concatenation(concat)"
     ],
     "language": "python",
     "metadata": {},
     "outputs": [
      {
       "output_type": "stream",
       "stream": "stdout",
       "text": [
        "found raxml offensive char : in OTU YPM:13527. Replacing with '_ro_'.Backing up original in the qualifier original_OTUs.\n",
        "found raxml offensive char : in OTU YPM:13364. Replacing with '_ro_'.Backing up original in the qualifier original_OTUs.\n",
        "found raxml offensive char : in OTU MVZ:230560. Replacing with '_ro_'.Backing up original in the qualifier original_OTUs.\n",
        "found raxml offensive char : in OTU MVZ:150059. Replacing with '_ro_'.Backing up original in the qualifier original_OTUs.\n",
        "found raxml offensive char : in OTU MVZ:137449. Replacing with '_ro_'.Backing up original in the qualifier original_OTUs.\n",
        "found raxml offensive char : in OTU CAS:HERP:208708. Replacing with '_ro_'.Backing up original in the qualifier original_OTUs.\n",
        "found raxml offensive char ' in OTU STLID'_920451,_SDID'_189337. Replacing with '_ro_'.Backing up original in the qualifier original_OTUs.\n",
        "found raxml offensive char , in OTU STLID_ro__920451,_SDID_ro__189337. Replacing with '_ro_'.Backing up original in the qualifier original_OTUs.\n",
        "found raxml offensive char ' in OTU STLID'_920451,_SDID'_189337. Replacing with '_ro_'.Backing up original in the qualifier original_OTUs.\n",
        "found raxml offensive char , in OTU STLID_ro__920451,_SDID_ro__189337. Replacing with '_ro_'.Backing up original in the qualifier original_OTUs.\n",
        "found raxml offensive char ' in OTU STLID'_920451,_SDID'_189337. Replacing with '_ro_'.Backing up original in the qualifier original_OTUs.\n",
        "found raxml offensive char , in OTU STLID_ro__920451,_SDID_ro__189337. Replacing with '_ro_'.Backing up original in the qualifier original_OTUs.\n",
        "found raxml offensive char , in OTU Museum_of_Vertebrate_Zoology,_Berkeley,_California_MVZ161172. Replacing with '_ro_'.Backing up original in the qualifier original_OTUs.\n",
        "found raxml offensive char , in OTU Museum_of_Vertebrate_Zoology,_Berkeley,_California_MVZ161172. Replacing with '_ro_'.Backing up original in the qualifier original_OTUs.\n",
        "found raxml offensive char , in OTU Museum_of_Vertebrate_Zoology,_Berkeley,_California_MVZ161172. Replacing with '_ro_'.Backing up original in the qualifier original_OTUs.\n",
        "found raxml offensive char / in OTU JAG_5/21/01. Replacing with '_ro_'.Backing up original in the qualifier original_OTUs.\n",
        "found raxml offensive char / in OTU JAG_5/21/01. Replacing with '_ro_'.Backing up original in the qualifier original_OTUs.\n",
        "found raxml offensive char / in OTU JAG_5/21/01. Replacing with '_ro_'.Backing up original in the qualifier original_OTUs.\n",
        "found raxml offensive char / in OTU JAG_5/21/01. Replacing with '_ro_'.Backing up original in the qualifier original_OTUs.\n",
        "found raxml offensive char / in OTU JAG_5/21/01. Replacing with '_ro_'.Backing up original in the qualifier original_OTUs.\n",
        "found raxml offensive char : in OTU USNM:FN_213098. Replacing with '_ro_'.Backing up original in the qualifier original_OTUs.\n",
        "found raxml offensive char : in OTU USNM:FN_213339. Replacing with '_ro_'.Backing up original in the qualifier original_OTUs.\n",
        "found raxml offensive char : in OTU USNM:FN_213333. Replacing with '_ro_'.Backing up original in the qualifier original_OTUs.\n",
        "found raxml offensive char : in OTU USNM:FN_213332. Replacing with '_ro_'.Backing up original in the qualifier original_OTUs.\n",
        "found raxml offensive char : in OTU USNM:FN_213329. Replacing with '_ro_'.Backing up original in the qualifier original_OTUs.\n",
        "found raxml offensive char : in OTU USNM:FN_213328. Replacing with '_ro_'.Backing up original in the qualifier original_OTUs.\n",
        "found raxml offensive char : in OTU USNM:FN_213327. Replacing with '_ro_'.Backing up original in the qualifier original_OTUs.\n",
        "found raxml offensive char : in OTU USNM:FN_213127. Replacing with '_ro_'.Backing up original in the qualifier original_OTUs.\n",
        "found raxml offensive char : in OTU USNM:FN_213126. Replacing with '_ro_'.Backing up original in the qualifier original_OTUs.\n",
        "found raxml offensive char : in OTU USNM:FN_213123. Replacing with '_ro_'.Backing up original in the qualifier original_OTUs.\n",
        "found raxml offensive char : in OTU USNM:FN_213121. Replacing with '_ro_'.Backing up original in the qualifier original_OTUs.\n",
        "found raxml offensive char : in OTU USNM:FN_213120. Replacing with '_ro_'.Backing up original in the qualifier original_OTUs.\n",
        "found raxml offensive char : in OTU USNM:FN_213118. Replacing with '_ro_'.Backing up original in the qualifier original_OTUs.\n"
       ]
      }
     ],
     "prompt_number": 20
    },
    {
     "cell_type": "code",
     "collapsed": false,
     "input": [
      "pj.make_concatenation_alignments()"
     ],
     "language": "python",
     "metadata": {},
     "outputs": [
      {
       "output_type": "stream",
       "stream": "stdout",
       "text": [
        "Concatenation strict wil have the following data\n",
        "OTU                           MT-CO3              MT-ND4              MT-CYB              \n",
        "ROM_38029                                                   HQ141271.1_f0  \n",
        "ROM_38028                                                   HQ141240.1_f0  \n",
        "ROM_38023                                                   HQ141238.1_f0  \n",
        "ROM_38022                                                   HQ141237.1_f0  \n",
        "ROM_38021                                                   HQ141236.1_f0  \n",
        "RWM_2280                                                    HQ141251.1_f0  \n",
        "FER3                                                        FJ535883.1_f0  \n",
        "KP-22a                                                      HQ141242.1_f0  \n",
        "KP-22b                                                      HQ141243.1_f0  \n",
        "LIE3                                                        FJ535899.1_f0  \n",
        "W66                                                         FJ536003.1_f0  \n",
        "URB9                                                        FJ535941.1_f0  \n",
        "URB8                                                        FJ535940.1_f0  \n",
        "URB3                                                        FJ535935.1_f0  \n",
        "URB2                                                        FJ535934.1_f0  \n",
        "URB1                                                        FJ535932.1_f0  \n",
        "URB7                                                        FJ535939.1_f0  \n",
        "URB6                                                        FJ535938.1_f0  \n",
        "URB5                                                        FJ535937.1_f0  \n",
        "URB4                                                        FJ535936.1_f0  \n",
        "ROM_38038                                                   HQ141232.1_f0  \n",
        "D                                                           KC816550.1_f0  \n",
        "LIV1                                                        FJ535908.1_f0  \n",
        "ROM_38034                                                   HQ141276.1_f0  \n",
        "ROM_38035                                                   HQ141277.1_f0  \n",
        "ROM_38037                                                   HQ141231.1_f0  \n",
        "ROM_38030                                                   HQ141272.1_f0  \n",
        "ROM_38031                                                   HQ141273.1_f0  \n",
        "ROM_38032                                                   HQ141274.1_f0  \n",
        "ROM_38033                                                   HQ141275.1_f0  \n",
        "ROM_38024                                                   HQ141239.1_f0  \n",
        "W19                                                         FJ535998.1_f0  \n",
        "W18                                                         FJ535997.1_f0  \n",
        "Isabela_C955                                                AY948120.1_f0  \n",
        "W7                                                          FJ535995.1_f0  \n",
        "WD1                                                         FJ535976.1_f0  \n",
        "WD2                                                         FJ535977.1_f0  \n",
        "WD3                                                         FJ535978.1_f0  \n",
        "W3                                                          FJ535994.1_f0  \n",
        "W2                                                          FJ535993.1_f0  \n",
        "WD6                                                         FJ535980.1_f0  \n",
        "WD7                                                         FJ535981.1_f0  \n",
        "MGPS4                                                       FJ536153.1_f0  \n",
        "MGPS5                                                       FJ536154.1_f0  \n",
        "MGPS1                                                       FJ536150.1_f0  \n",
        "W9                                                          FJ535996.1_f0  \n",
        "MGPS3                                                       FJ536152.1_f0  \n",
        "WA11                                                        FJ535951.1_f0  \n",
        "RWM_623                                                     HQ141248.1_f0  \n",
        "VC50                                                        FJ535946.1_f0  \n",
        "ROM_38041                                                   HQ141259.1_f0  \n",
        "ROM_38040                                                   HQ141234.1_f0  \n",
        "ROM_38043                                                   HQ141261.1_f0  \n",
        "ROM_38042                                                   HQ141260.1_f0  \n",
        "ROM_38045                                                   HQ141263.1_f0  \n",
        "ROM_38044                                                   HQ141262.1_f0  \n",
        "ROM_38047                                                   HQ141265.1_f0  \n",
        "ROM_38046                                                   HQ141264.1_f0  \n",
        "CD11                                                        FJ535877.1_f0  \n",
        "JRO_645                                                     HQ141235.1_f0  \n",
        "FER10                                                       FJ535881.1_f0  \n",
        "KP-21                                                       HQ141244.1_f0  \n",
        "KP-20                                                       HQ141241.1_f0  \n",
        "RWM_2282                                                    HQ141247.1_f0  \n",
        "LIE2                                                        FJ535898.1_f0  \n",
        "Santa_Cruz_8                                                AY948118.1_f0  \n",
        "LIE1                                                        FJ535897.1_f0  \n",
        "LIE4                                                        FJ535900.1_f0  \n",
        "LIE5                                                        FJ535901.1_f0  \n",
        "WD4                                                         FJ535979.1_f0  \n",
        "WB10                                                        FJ535963.1_f0  \n",
        "1E579C1                                                     AF459042.1_f0  \n",
        "WD5                                                         FJ535989.1_f0  \n",
        "WA13                                                        FJ535953.1_f0  \n",
        "WA12                                                        FJ535952.1_f0  \n",
        "C                                                           KC816549.1_f0  \n",
        "WA10                                                        FJ535950.1_f0  \n",
        "1E58DDF                                                     AF459045.1_f0  \n",
        "WA15                                                        FJ535955.1_f0  \n",
        "WA14                                                        FJ535954.1_f0  \n",
        "Seymour_Norte_C087                                          AY948122.1_f0  \n",
        "LIT4                                                        FJ535905.1_f0  \n",
        "LIT6                                                        FJ535907.1_f0  \n",
        "LIT1                                                        FJ535902.1_f0  \n",
        "LIT3                                                        FJ535904.1_f0  \n",
        "LIT2                                                        FJ535903.1_f0  \n",
        "WD8                                                         FJ535982.1_f0  \n",
        "1BDD540                                                     AF459043.1_f0  \n",
        "VC47                                                        FJ535945.1_f0  \n",
        "WD9                                                         FJ535983.1_f0  \n",
        "WB11                                                        FJ535964.1_f0  \n",
        "ROM_38050                                                   HQ141266.1_f0  \n",
        "RWM_631                                                     HQ141249.1_f0  \n",
        "1E6F5C2                                                     AF459044.1_f0  \n",
        "Isabela_C932                                                AY948119.1_f0  \n",
        "CD16                                                        FJ535879.1_f0  \n",
        "CD17                                                        FJ535880.1_f0  \n",
        "CD14                                                        FJ535878.1_f0  \n",
        "LSN1                                                        FJ535910.1_f0  \n",
        "MGPS2                                                       FJ536151.1_f0  \n",
        "LSN3                                                        FJ535912.1_f0  \n",
        "LSN2                                                        FJ535911.1_f0  \n",
        "CAR1                                                        FJ535869.1_f0  \n",
        "FER6                                                        FJ535886.1_f0  \n",
        "TBP1                                                        AF459046.1_f0  \n",
        "W27                                                         FJ536002.1_f0  \n",
        "SF21                                                        FJ535926.1_f0  \n",
        "W23                                                         FJ536001.1_f0  \n",
        "W20                                                         FJ535999.1_f0  \n",
        "W21                                                         FJ536000.1_f0  \n",
        "Seymour_Norte_C076                                          AY948121.1_f0  \n",
        "CAR2                                                        FJ535870.1_f0  \n",
        "CAR3                                                        FJ535871.1_f0  \n",
        "ROM_26795                                                   HQ141246.1_f0  \n",
        "CAR6                                                        FJ535875.1_f0  \n",
        "CAR7                                                        FJ535876.1_f0  \n",
        "CAR4                                                        FJ535872.1_f0  \n",
        "CAR5                                                        FJ535874.1_f0  \n",
        "BL20                                                        FJ535865.1_f0  \n",
        "BL22                                                        FJ535866.1_f0  \n",
        "BL23                                                        FJ535867.1_f0  \n",
        "BL25                                                        FJ535868.1_f0  \n",
        "WA9                                                         FJ535961.1_f0  \n",
        "WA8                                                         FJ535960.1_f0  \n",
        "WA7                                                         FJ535959.1_f0  \n",
        "WA6                                                         FJ535958.1_f0  \n",
        "LBJ4                                                        FJ535891.1_f0  \n",
        "PBL1                                                        FJ535913.1_f0  \n",
        "WA3                                                         FJ535957.1_f0  \n",
        "WA2                                                         FJ535956.1_f0  \n",
        "WA1                                                         FJ535949.1_f0  \n",
        "WB6                                                         FJ535970.1_f0  \n",
        "B                                                           KC816548.1_f0  \n",
        "JAG_5_ro_21_ro_01                                           EU116509.1_f0  \n",
        "WB7                                                         FJ535971.1_f0  \n",
        "WB4                                                         FJ535968.1_f0  \n",
        "PBL2                                                        FJ535914.1_f0  \n",
        "WB5                                                         FJ535969.1_f0  \n",
        "22bda2                                                      AF459037.1_f0  \n",
        "PZS10                                                       FJ535917.1_f0  \n",
        "RWM_879                                                     HQ141250.1_f0  \n",
        "WB2                                                         FJ535966.1_f0  \n",
        "KP-19                                                       AF020250.1_f0  \n",
        "WB3                                                         FJ535967.1_f0  \n",
        "VC26                                                        FJ535943.1_f0  \n",
        "WB1                                                         FJ535962.1_f0  \n",
        "VC29                                                        FJ535944.1_f0  \n",
        "IAL3                                                        FJ536145.1_f0  \n",
        "LIV2                                                        FJ535909.1_f0  \n",
        "IAL7                                                        FJ536148.1_f0  \n",
        "IAL4                                                        FJ536146.1_f0  \n",
        "IAL5                                                        FJ536147.1_f0  \n",
        "IAL8                                                        FJ536149.1_f0  \n",
        "ROM_38004                                                   HQ141267.1_f0  \n",
        "ROM_38001                                                   HQ141269.1_f0  \n",
        "Waya1                                                       AF459039.1_f0  \n",
        "ROM_38003                                                   HQ141268.1_f0  \n",
        "ROM_38002                                                   HQ141270.1_f0  \n",
        "WB12                                                        FJ535965.1_f0  \n",
        "ROM_38039                                                   HQ141233.1_f0  \n",
        "WC1                                                         FJ535974.1_f0  \n",
        "WC2                                                         FJ535975.1_f0  \n",
        "Monu1                                                       AF459041.1_f0  \n",
        "PBL3                                                        FJ535915.1_f0  \n",
        "LBJ1                                                        FJ535890.1_f0  \n",
        "VC7                                                         FJ535947.1_f0  \n",
        "VC8                                                         FJ535948.1_f0  \n",
        "FER5                                                        FJ535885.1_f0  \n",
        "LIT5                                                        FJ535906.1_f0  \n",
        "FER4                                                        FJ535884.1_f0  \n",
        "A                                                           KC816547.1_f0  \n",
        "FER7                                                        FJ535887.1_f0  \n",
        "KPEC103                                                     HQ141253.1_f0  \n",
        "KPEC102                                                     HQ141252.1_f0  \n",
        "LFL2                                                        FJ535893.1_f0  \n",
        "LFL3                                                        FJ535894.1_f0  \n",
        "LFL1                                                        FJ535892.1_f0  \n",
        "CAR46                                                       FJ535873.1_f0  \n",
        "LFL4                                                        FJ535895.1_f0  \n",
        "LFL5                                                        FJ535896.1_f0  \n",
        "IgC1                                                        AF459038.1_f0  \n",
        "MCZRR450                                                    FJ716130.1_f0  \n",
        "ROM_38014                                                   HQ141257.1_f0  \n",
        "ROM_38015                                                   HQ141258.1_f0  \n",
        "ROM_38012                                                   HQ141255.1_f0  \n",
        "ROM_38013                                                   HQ141256.1_f0  \n",
        "ROM_38011                                                   HQ141254.1_f0  \n",
        "URB10                                                       FJ535933.1_f0  \n",
        "SF23                                                        FJ535928.1_f0  \n",
        "SF22                                                        FJ535927.1_f0  \n",
        "SF25                                                        FJ535930.1_f0  \n",
        "SF24                                                        FJ535929.1_f0  \n",
        "SF26                                                        FJ535931.1_f0  \n",
        "WD12                                                        FJ535991.1_f0  \n",
        "WD13                                                        FJ535985.1_f0  \n",
        "WD10                                                        FJ535984.1_f0  \n",
        "WD11                                                        FJ535990.1_f0  \n",
        "WD16                                                        FJ535987.1_f0  \n",
        "WD17                                                        FJ535988.1_f0  \n",
        "WD14                                                        FJ535986.1_f0  \n",
        "WD15                                                        FJ535992.1_f0  \n",
        "Waya4                                                       AF459040.1_f0  \n",
        "WB8                                                         FJ535972.1_f0  \n",
        "WB9                                                         FJ535973.1_f0  \n",
        "PZS3                                                        FJ535919.1_f0  \n",
        "PZS2                                                        FJ535918.1_f0  \n",
        "PZS1                                                        FJ535916.1_f0  \n",
        "FER2                                                        FJ535882.1_f0  \n",
        "PZS7                                                        FJ535923.1_f0  \n",
        "PZS6                                                        FJ535922.1_f0  \n",
        "PZS5                                                        FJ535921.1_f0  \n",
        "PZS4                                                        FJ535920.1_f0  \n",
        "FER9                                                        FJ535889.1_f0  \n",
        "FER8                                                        FJ535888.1_f0  \n",
        "PZS9                                                        FJ535925.1_f0  \n",
        "PZS8                                                        FJ535924.1_f0  \n",
        "VC11                                                        FJ535942.1_f0  \n",
        "BL17                                                        FJ535864.1_f0  \n",
        "BL16                                                        FJ535863.1_f0  \n",
        "\n",
        "Locus MT-CO3 has less then 4 sequences in concatenation strict and where excluded from the concatenation\n",
        "Locus MT-ND4 has less then 4 sequences in concatenation strict and where excluded from the concatenation\n"
       ]
      }
     ],
     "prompt_number": 21
    },
    {
     "cell_type": "code",
     "collapsed": false,
     "input": [
      "raxml = RaxmlConf(pj, method_name='fD_fb', program_name='raxmlHPC-PTHREADS-SSE3',\n",
      "                  cmd='raxmlHPC-PTHREADS-SSE3', preset='fD_fb', alns=\"all\",\n",
      "                  model='GAMMA', threads=5)"
     ],
     "language": "python",
     "metadata": {},
     "outputs": [
      {
       "output_type": "stream",
       "stream": "stdout",
       "text": [
        "raxmlHPC-PTHREADS-SSE3 -f D -m GTRGAMMA -n 500261416435184.45_MT-CO1@mafftDefault@gappyout0 -p 400 -s 500261416435184.45_MT-CO1@mafftDefault@gappyout.fasta -T 5 -N 1\n",
        "raxmlHPC-PTHREADS-SSE3 -f b -m GTRGAMMA -n 500261416435184.45_MT-CO1@mafftDefault@gappyout1 -p 119 -s 500261416435184.45_MT-CO1@mafftDefault@gappyout.fasta -t RAxML_bestTree.500261416435184.45_MT-CO1@mafftDefault@gappyout0 -T 5 -z RAxML_rellBootstrap.500261416435184.45_MT-CO1@mafftDefault@gappyout0\n",
        "raxmlHPC-PTHREADS-SSE3 -f D -m GTRGAMMA -n 500261416435184.45_BDNF@mafftDefault@gappyout0 -p 508 -s 500261416435184.45_BDNF@mafftDefault@gappyout.fasta -T 5 -N 1\n",
        "raxmlHPC-PTHREADS-SSE3 -f b -m GTRGAMMA -n 500261416435184.45_BDNF@mafftDefault@gappyout1 -p 12 -s 500261416435184.45_BDNF@mafftDefault@gappyout.fasta -t RAxML_bestTree.500261416435184.45_BDNF@mafftDefault@gappyout0 -T 5 -z RAxML_rellBootstrap.500261416435184.45_BDNF@mafftDefault@gappyout0\n",
        "raxmlHPC-PTHREADS-SSE3 -f D -m GTRGAMMA -n 500261416435184.45_alpha_enolase@mafftDefault@gappyout0 -p 158 -s 500261416435184.45_alpha_enolase@mafftDefault@gappyout.fasta -T 5 -N 1\n",
        "raxmlHPC-PTHREADS-SSE3 -f b -m GTRGAMMA -n 500261416435184.45_alpha_enolase@mafftDefault@gappyout1 -p 584 -s 500261416435184.45_alpha_enolase@mafftDefault@gappyout.fasta -t RAxML_bestTree.500261416435184.45_alpha_enolase@mafftDefault@gappyout0 -T 5 -z RAxML_rellBootstrap.500261416435184.45_alpha_enolase@mafftDefault@gappyout0\n",
        "raxmlHPC-PTHREADS-SSE3 -f D -m GTRGAMMA -n 500261416435184.45_NT3@mafftDefault@gappyout0 -p 972 -s 500261416435184.45_NT3@mafftDefault@gappyout.fasta -T 5 -N 1\n",
        "raxmlHPC-PTHREADS-SSE3 -f b -m GTRGAMMA -n 500261416435184.45_NT3@mafftDefault@gappyout1 -p 960 -s 500261416435184.45_NT3@mafftDefault@gappyout.fasta -t RAxML_bestTree.500261416435184.45_NT3@mafftDefault@gappyout0 -T 5 -z RAxML_rellBootstrap.500261416435184.45_NT3@mafftDefault@gappyout0\n",
        "raxmlHPC-PTHREADS-SSE3 -f D -m GTRGAMMA -n 500261416435184.45_Amcr-UB@mafftDefault@gappyout0 -p 353 -s 500261416435184.45_Amcr-UB@mafftDefault@gappyout.fasta -T 5 -N 1\n",
        "raxmlHPC-PTHREADS-SSE3 -f b -m GTRGAMMA -n 500261416435184.45_Amcr-UB@mafftDefault@gappyout1 -p 85 -s 500261416435184.45_Amcr-UB@mafftDefault@gappyout.fasta -t RAxML_bestTree.500261416435184.45_Amcr-UB@mafftDefault@gappyout0 -T 5 -z RAxML_rellBootstrap.500261416435184.45_Amcr-UB@mafftDefault@gappyout0\n",
        "raxmlHPC-PTHREADS-SSE3 -f D -m GTRGAMMA -n 500261416435184.45_MT-ND1@mafftDefault@gappyout0 -p 35 -s 500261416435184.45_MT-ND1@mafftDefault@gappyout.fasta -T 5 -N 1\n",
        "raxmlHPC-PTHREADS-SSE3 -f b -m GTRGAMMA -n 500261416435184.45_MT-ND1@mafftDefault@gappyout1 -p 472 -s 500261416435184.45_MT-ND1@mafftDefault@gappyout.fasta -t RAxML_bestTree.500261416435184.45_MT-ND1@mafftDefault@gappyout0 -T 5 -z RAxML_rellBootstrap.500261416435184.45_MT-ND1@mafftDefault@gappyout0\n",
        "raxmlHPC-PTHREADS-SSE3 -f D -m GTRGAMMA -n 500261416435184.45_MT-ND2@mafftDefault@gappyout0 -p 204 -s 500261416435184.45_MT-ND2@mafftDefault@gappyout.fasta -T 5 -N 1\n",
        "raxmlHPC-PTHREADS-SSE3 -f b -m GTRGAMMA -n 500261416435184.45_MT-ND2@mafftDefault@gappyout1 -p 159 -s 500261416435184.45_MT-ND2@mafftDefault@gappyout.fasta -t RAxML_bestTree.500261416435184.45_MT-ND2@mafftDefault@gappyout0 -T 5 -z RAxML_rellBootstrap.500261416435184.45_MT-ND2@mafftDefault@gappyout0\n",
        "raxmlHPC-PTHREADS-SSE3 -f D -m GTRGAMMA -n 500261416435184.45_MT-CO3@mafftDefault@gappyout0 -p 243 -s 500261416435184.45_MT-CO3@mafftDefault@gappyout.fasta -T 5 -N 1\n",
        "raxmlHPC-PTHREADS-SSE3 -f b -m GTRGAMMA -n 500261416435184.45_MT-CO3@mafftDefault@gappyout1 -p 605 -s 500261416435184.45_MT-CO3@mafftDefault@gappyout.fasta -t RAxML_bestTree.500261416435184.45_MT-CO3@mafftDefault@gappyout0 -T 5 -z RAxML_rellBootstrap.500261416435184.45_MT-CO3@mafftDefault@gappyout0\n",
        "raxmlHPC-PTHREADS-SSE3 -f D -m PROTGAMMAJTT -n 500261416435184.45_strict0 -q 500261416435184.45_strict_partfile -p 555 -s 500261416435184.45_strict.fasta -T 5 -N 1\n",
        "raxmlHPC-PTHREADS-SSE3 -f b -m PROTGAMMAJTT -n 500261416435184.45_strict1 -q 500261416435184.45_strict_partfile -p 455 -s 500261416435184.45_strict.fasta -t RAxML_bestTree.500261416435184.45_strict0 -T 5 -z RAxML_rellBootstrap.500261416435184.45_strict0\n",
        "raxmlHPC-PTHREADS-SSE3 -f D -m GTRGAMMA -n 500261416435184.45_MT-CYB@mafftDefault@gappyout0 -p 543 -s 500261416435184.45_MT-CYB@mafftDefault@gappyout.fasta -T 5 -N 1\n",
        "raxmlHPC-PTHREADS-SSE3 -f b -m GTRGAMMA -n 500261416435184.45_MT-CYB@mafftDefault@gappyout1 -p 838 -s 500261416435184.45_MT-CYB@mafftDefault@gappyout.fasta -t RAxML_bestTree.500261416435184.45_MT-CYB@mafftDefault@gappyout0 -T 5 -z RAxML_rellBootstrap.500261416435184.45_MT-CYB@mafftDefault@gappyout0\n",
        "raxmlHPC-PTHREADS-SSE3 -f D -m GTRGAMMA -n 500261416435184.45_Cosu-UB@mafftDefault@gappyout0 -p 550 -s 500261416435184.45_Cosu-UB@mafftDefault@gappyout.fasta -T 5 -N 1\n",
        "raxmlHPC-PTHREADS-SSE3 -f b -m GTRGAMMA -n 500261416435184.45_Cosu-UB@mafftDefault@gappyout1 -p 640 -s 500261416435184.45_Cosu-UB@mafftDefault@gappyout.fasta -t RAxML_bestTree.500261416435184.45_Cosu-UB@mafftDefault@gappyout0 -T 5 -z RAxML_rellBootstrap.500261416435184.45_Cosu-UB@mafftDefault@gappyout0\n",
        "raxmlHPC-PTHREADS-SSE3 -f D -m GTRGAMMA -n 500261416435184.45_C_mos@mafftDefault@gappyout0 -p 618 -s 500261416435184.45_C_mos@mafftDefault@gappyout.fasta -T 5 -N 1\n",
        "raxmlHPC-PTHREADS-SSE3 -f b -m GTRGAMMA -n 500261416435184.45_C_mos@mafftDefault@gappyout1 -p 628 -s 500261416435184.45_C_mos@mafftDefault@gappyout.fasta -t RAxML_bestTree.500261416435184.45_C_mos@mafftDefault@gappyout0 -T 5 -z RAxML_rellBootstrap.500261416435184.45_C_mos@mafftDefault@gappyout0\n",
        "raxmlHPC-PTHREADS-SSE3 -f D -m GTRGAMMA -n 500261416435184.45_rrnS@mafftDefault@gappyout0 -p 493 -s 500261416435184.45_rrnS@mafftDefault@gappyout.fasta -T 5 -N 1\n",
        "raxmlHPC-PTHREADS-SSE3 -f b -m GTRGAMMA -n 500261416435184.45_rrnS@mafftDefault@gappyout1 -p 284 -s 500261416435184.45_rrnS@mafftDefault@gappyout.fasta -t RAxML_bestTree.500261416435184.45_rrnS@mafftDefault@gappyout0 -T 5 -z RAxML_rellBootstrap.500261416435184.45_rrnS@mafftDefault@gappyout0\n",
        "raxmlHPC-PTHREADS-SSE3 -f D -m GTRGAMMA -n 500261416435184.45_28s@mafftDefault@gappyout0 -p 765 -s 500261416435184.45_28s@mafftDefault@gappyout.fasta -T 5 -N 1\n",
        "raxmlHPC-PTHREADS-SSE3 -f b -m GTRGAMMA -n 500261416435184.45_28s@mafftDefault@gappyout1 -p 453 -s 500261416435184.45_28s@mafftDefault@gappyout.fasta -t RAxML_bestTree.500261416435184.45_28s@mafftDefault@gappyout0 -T 5 -z RAxML_rellBootstrap.500261416435184.45_28s@mafftDefault@gappyout0\n",
        "raxmlHPC-PTHREADS-SSE3 -f D -m GTRGAMMA -n 500261416435184.45_RAG1@mafftDefault@gappyout0 -p 219 -s 500261416435184.45_RAG1@mafftDefault@gappyout.fasta -T 5 -N 1\n",
        "raxmlHPC-PTHREADS-SSE3 -f b -m GTRGAMMA -n 500261416435184.45_RAG1@mafftDefault@gappyout1 -p 365 -s 500261416435184.45_RAG1@mafftDefault@gappyout.fasta -t RAxML_bestTree.500261416435184.45_RAG1@mafftDefault@gappyout0 -T 5 -z RAxML_rellBootstrap.500261416435184.45_RAG1@mafftDefault@gappyout0\n",
        "raxmlHPC-PTHREADS-SSE3 -f D -m GTRGAMMA -n 500261416435184.45_MT-ND4@mafftDefault@gappyout0 -p 276 -s 500261416435184.45_MT-ND4@mafftDefault@gappyout.fasta -T 5 -N 1\n",
        "raxmlHPC-PTHREADS-SSE3 -f b -m GTRGAMMA -n 500261416435184.45_MT-ND4@mafftDefault@gappyout1 -p 833 -s 500261416435184.45_MT-ND4@mafftDefault@gappyout.fasta -t RAxML_bestTree.500261416435184.45_MT-ND4@mafftDefault@gappyout0 -T 5 -z RAxML_rellBootstrap.500261416435184.45_MT-ND4@mafftDefault@gappyout0\n"
       ]
      },
      {
       "output_type": "stream",
       "stream": "stderr",
       "text": [
        "/home/amir/Dropbox/python_modules/reprophylo.py:3016: UserWarning: There is no trimmed alignment for locus MT-CO3 in concatenation strict\n",
        "  warnings.warn('There is no trimmed alignment for locus '+locus.name+' in concatenation '+concatenation.name)\n",
        "/home/amir/Dropbox/python_modules/reprophylo.py:3016: UserWarning: There is no trimmed alignment for locus MT-ND4 in concatenation strict\n",
        "  warnings.warn('There is no trimmed alignment for locus '+locus.name+' in concatenation '+concatenation.name)\n"
       ]
      }
     ],
     "prompt_number": 22
    },
    {
     "cell_type": "code",
     "collapsed": false,
     "input": [
      "pj.tree([raxml])"
     ],
     "language": "python",
     "metadata": {},
     "outputs": [],
     "prompt_number": 23
    },
    {
     "cell_type": "code",
     "collapsed": false,
     "input": [
      "pj.annotate('.', 'mid','mid', ['source_organism'], html='tree_figures.html')"
     ],
     "language": "python",
     "metadata": {},
     "outputs": [],
     "prompt_number": 24
    },
    {
     "cell_type": "code",
     "collapsed": false,
     "input": [
      "pickle_pj(pj, 'Iguaninae_tutorial.pkl')"
     ],
     "language": "python",
     "metadata": {},
     "outputs": [
      {
       "output_type": "stream",
       "stream": "stdout",
       "text": [
        "\n",
        "[master 7c515e1] A pickled Project from Wed Nov 19 22:16:20 2014\n",
        " 1 file changed, 0 insertions(+), 0 deletions(-)\n"
       ]
      },
      {
       "output_type": "stream",
       "stream": "stdout",
       "text": [
        "\n"
       ]
      },
      {
       "metadata": {},
       "output_type": "pyout",
       "prompt_number": 25,
       "text": [
        "'Iguaninae_tutorial.pkl'"
       ]
      }
     ],
     "prompt_number": 25
    },
    {
     "cell_type": "code",
     "collapsed": false,
     "input": [
      "publish(pj,'Iguaninae','.')"
     ],
     "language": "python",
     "metadata": {},
     "outputs": [
      {
       "output_type": "stream",
       "stream": "stdout",
       "text": [
        "checking if file exists\n"
       ]
      },
      {
       "output_type": "stream",
       "stream": "stdout",
       "text": [
        "\n",
        "\n",
        "\n",
        "[master dc1b3cd] Records nexml text file from Wed Nov 19 22:16:25 2014\n",
        " 1 file changed, 50980 insertions(+)\n",
        " create mode 100644 Iguaninae/tree_and_alns.nexml\n"
       ]
      },
      {
       "output_type": "stream",
       "stream": "stdout",
       "text": [
        "\n"
       ]
      },
      {
       "output_type": "stream",
       "stream": "stdout",
       "text": [
        "\n",
        "\n",
        "\n",
        "[master 29750b9] Records genbank text file from Wed Nov 19 22:16:26 2014\n",
        " 1 file changed, 65282 insertions(+)\n",
        " create mode 100644 Iguaninae/sequences_and_metadata.gb\n"
       ]
      },
      {
       "output_type": "stream",
       "stream": "stdout",
       "text": [
        "\n",
        "reporter was called by publish\n",
        "now printing species table\n",
        "now making sequence statistics plots"
       ]
      },
      {
       "output_type": "stream",
       "stream": "stdout",
       "text": [
        "\n",
        "now reporting concatenations"
       ]
      },
      {
       "output_type": "stream",
       "stream": "stderr",
       "text": [
        "/usr/local/lib/python2.7/dist-packages/Bio/SeqIO/InsdcIO.py:435: BiopythonWarning: Annotation 'BioProject:PRJNA189582 BioSample:SAMN01922061 Sequence Read Archive:SRR770189' too long for 'DBLINK' line\n",
        "  BiopythonWarning)\n",
        "/usr/local/lib/python2.7/dist-packages/pandas/io/excel.py:626: UserWarning: Installed openpyxl is not supported at this time. Use >=1.6.1 and <2.0.0.\n",
        "  .format(openpyxl_compat.start_ver, openpyxl_compat.stop_ver))\n"
       ]
      },
      {
       "output_type": "stream",
       "stream": "stdout",
       "text": [
        "\n",
        "now reporting methods\n",
        "now reporting alignment statistics\n",
        "making RF matrix"
       ]
      },
      {
       "output_type": "stream",
       "stream": "stdout",
       "text": [
        "\n",
        "reporting trees"
       ]
      },
      {
       "output_type": "stream",
       "stream": "stdout",
       "text": [
        "\n",
        "pickling\n"
       ]
      },
      {
       "output_type": "stream",
       "stream": "stdout",
       "text": [
        "\n",
        "[master 815ef85] A pickled Project from Wed Nov 19 22:17:16 2014\n",
        " 1 file changed, 0 insertions(+), 0 deletions(-)\n",
        " create mode 100644 Iguaninae/Wed_19_Nov_2014_22:17:11.pkl\n",
        "\n",
        "archiving\n",
        "report ready"
       ]
      },
      {
       "output_type": "stream",
       "stream": "stdout",
       "text": [
        "\n"
       ]
      }
     ],
     "prompt_number": 26
    }
   ],
   "metadata": {}
  }
 ]
}