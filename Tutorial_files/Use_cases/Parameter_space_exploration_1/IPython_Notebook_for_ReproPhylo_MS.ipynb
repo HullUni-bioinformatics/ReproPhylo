{
 "cells": [
  {
   "cell_type": "markdown",
   "metadata": {},
   "source": [
    "# Analysis for the ReproPhylo manuscript\n",
    "\n",
    "This notebook containts the analysis conducted for the ReproPhylo manuscript. [The repository containig it](https://github.com/HullUni-bioinformatics/Szitenberg_et_all_15-ReproPhylo), as well as related files, is at [https://github.com/HullUni-bioinformatics](https://github.com/HullUni-bioinformatics). The ReproPhylo pipeline is needed to run it is provided as a [Docker image](https://registry.hub.docker.com/u/szitenberg/reprophylo/). The manual and development version is in our Git page [GitHub page](http://hulluni-bioinformatics.github.io/ReproPhylo/).\n",
    "\n",
    "\n",
    "\n",
    "# Table of content\n",
    "1   [The full unannotates script](#1-The-full,-unannotated-script:)  \n",
    "2   [The same script, with annotations](#2-The-same-script,-with-annotations)    \n",
    "&nbsp;&nbsp;&nbsp;2.1   [Turn a nexus file with PAUP style charset lines into a ReproPhylo Project instance](#2.1-Turn-a-nexus-file-with-PAUP-style-charset-lines-into-a-ReproPhylo-Project-instance)    \n",
    "&nbsp;&nbsp;&nbsp;2.2   [Read a supplementary table with pandas](#2.2-Read-a-supplementary-table-with-pandas)  \n",
    "&nbsp;&nbsp;&nbsp;2.3   [Manually assign species to clades](#2.3-Manually-assign-species-to-clades)    \n",
    "&nbsp;&nbsp;&nbsp;2.4   [Export all the records to a text file](#2.4-Export-all-the-records-to-a-text-file)   \n",
    "&nbsp;&nbsp;&nbsp;2.5   [Making sure all-gap possitions are removed from the alignments](#2.5-Making-sure-all-gap-positions-are-removed-from-the-read-alignments)    \n",
    "&nbsp;&nbsp;&nbsp;2.6   [Preparing supermatrices from 200 loci long sliding windows along the entrophy gradient](#2.6-Preparing-supermatrices-from-200-loci-long-sliding-windows-along-the-entropy-gradient)  \n",
    "&nbsp;&nbsp;&nbsp;&nbsp;&nbsp;&nbsp;2.6.1   [Calculating the statistics](#2.6.1-Calculating-the-statistics)  \n",
    "&nbsp;&nbsp;&nbsp;&nbsp;&nbsp;&nbsp;2.6.2   [Sort the loci according to statistics values](#2.6.2-Sort-the-alignmnets-according-to-statistics-values)  \n",
    "&nbsp;&nbsp;&nbsp;&nbsp;&nbsp;&nbsp;2.6.3   [Figure 2A](#2.6.3-Figure-2-A)  \n",
    "&nbsp;&nbsp;&nbsp;&nbsp;&nbsp;&nbsp;2.6.4   [Figure S1, Plot a box plot for each parameter and locus](b#2.6.4-Plot-a-box-plot-for-each-parameter-for-each-locus)  \n",
    "&nbsp;&nbsp;&nbsp;2.7   [Prepare the Concatenation objects](#2.7-Prepare-the-Concatenation-objects)  \n",
    "&nbsp;&nbsp;&nbsp;2.8   [Reconstruct the trees](#2.8-Reconstruct-the-trees)  \n",
    "&nbsp;&nbsp;&nbsp;2.9   [Verify the git commit](#2.9-Verify-git-commit)  \n",
    "&nbsp;&nbsp;&nbsp;2.10  [Plot the trees, Figure 2A 1-6](#2.10-Plot-the-trees---Figure-2A-1-6)  \n",
    "&nbsp;&nbsp;&nbsp;2.11  [Robinson Foulds like metrics](#2.11-Robinson-foulds-like-metrics)   \n",
    "&nbsp;&nbsp;&nbsp;&nbsp;&nbsp;&nbsp;2.11.1   [Figure 2B - Topological](#2.11.1-Figure-2B:-Topological)  \n",
    "&nbsp;&nbsp;&nbsp;&nbsp;&nbsp;&nbsp;2.11.2   [Figure 2C - Branch length](#2.11.2-Figure-2-C:-Branch-length)  \n",
    "&nbsp;&nbsp;&nbsp;&nbsp;&nbsp;&nbsp;2.11.3   [Figure 2D - Proportional](#2.11.3-Figure-2-D:-proportional)  \n",
    "&nbsp;&nbsp;&nbsp;2.12  [Prepare zip folder](#2.12-Prepare-zip-folder)  \n",
    "&nbsp;&nbsp;&nbsp;2.13 [Add README and commit](#2.13-Add-README-and-commit)  \n",
    "&nbsp;&nbsp;&nbsp;2.14 [Manual commit of some additional files](#2.14-Manual-commit-of-some-additional-files)  "
   ]
  },
  {
   "cell_type": "markdown",
   "metadata": {},
   "source": [
    "# 1 The full, unannotated script:\n",
    "The cell bellow contains the full analysis. Default values are not shown.  \n",
    "An annotated version follows. Default values are explicitly indicated there."
   ]
  },
  {
   "cell_type": "code",
   "execution_count": null,
   "metadata": {
    "collapsed": true
   },
   "outputs": [],
   "source": [
    "from reprophylo import *\n",
    "\n",
    "\n",
    "# Read Kawahara_Breinholt_2014 loci and start a Project \n",
    "nexus_filename = 'data/Kawahara_Breinholt_2014/'+\\\n",
    "                 'Kawahara_Breinholt_2014_26taxa_465loci_Degen_nt12.nex'\n",
    "    \n",
    "pj = pj_from_nexus_w_charset(nexus_filename, 'data', 'dna', 'CDS', project = True,\n",
    "                             pickle = 'szitenberg_et_al_15_reprophylo',git = True)     \n",
    "\n",
    "# manually read metadata with pandas from \n",
    "# Kawahara_Breinholt_2014 supplementary file\n",
    "supp3 = 'data/Kawahara_Breinholt_2014/'+\\\n",
    "        'rspb20140970supp3.csv'\n",
    "    \n",
    "metadata = pd.read_table(supp3, skiprows=2)\n",
    "\n",
    "for r in pj.records:\n",
    "    source = r.features[0]\n",
    "    original_id = source.qualifiers['original_id'][0]\n",
    "    record_metadata = metadata.loc[metadata['Sample ID'] == original_id]\n",
    "    record_metadata = record_metadata.to_dict()for key in record_metadata:                                          # This will add each value in the table\n",
    "        source.qualifiers[key] = [record_metadata[key].items()[0][1]] \n",
    "    source.qualifiers['organism'] = source.qualifiers['Taxa'] \n",
    "    \n",
    "# Manually assign clades to taxa:\n",
    "clades =       {'Papilio glaucus': 'butterfilies',\n",
    "                'Macrosoma sp.*': 'butterfilies',\n",
    "                'Megathymus yuccae*': 'butterfilies',\n",
    "                'Semomesia campanea': 'butterfilies',\n",
    "                'Danaus plexippus*': 'butterfilies',\n",
    "                'Phyllocnistis citrella*': 'I',\n",
    "                'Plutella xylostella*': 'I',\n",
    "                'Grapholita dimorpha*': 'I',\n",
    "                'Lantanophaga pusillidactyla*': 'I',\n",
    "                'Urodus parvula*': 'I',\n",
    "                'Morpheis mathani*': 'I',\n",
    "                'Megalopyge tharops*': 'I',\n",
    "                'Dalcera abrasa*': 'I',\n",
    "                'Thubana sp.*': 'III',\n",
    "                'Pterodecta felderi*': 'III',\n",
    "                'Zeuzerodes maculata*': 'III',\n",
    "                'Lacosoma ludolpha*': 'IV',\n",
    "                'Lyssa zampa*': 'IV',\n",
    "                'Nothus lunus*': 'IV',\n",
    "                'Nemoria lixaria*': 'IV',\n",
    "                'Anigraea sp.': 'IV',\n",
    "                'Bombyx mori*': 'IV',\n",
    "                'Manduca sexta*': 'IV',\n",
    "                'Artace sp.*': 'IV',\n",
    "                'Myelobia sp.*': 'IV',\n",
    "                'Actias luna*': 'IV'}\n",
    "\n",
    "pj.add_qualifier_from_source('Taxa')\n",
    "\n",
    "for taxon in clades:               \n",
    "    pj.if_this_then_that(taxon, 'Taxa', clades[taxon], 'Clade')\n",
    "    \n",
    "# Remove all gap positions\n",
    "trimal = TrimalConf(pj, method_name='no_trim', trimal_commands={'noallgaps': True}) \n",
    "pj.trim([trimal])\n",
    "\n",
    "# Calculate loci statistics\n",
    "# (entropy, conservation, gap score, GC content and sequence lengths)\n",
    "stats = LociStats(pj)\n",
    "\n",
    "# Sort the loci according to entropy\n",
    "stats.sort(parameter = 'entropy', reverse = True)\n",
    "\n",
    "# Plot the loci statistics as boxplots\n",
    "stats.plot('plots.png', figsize=(15,23),  params='all',\n",
    "           lable_fsize=20, xtick_fsize=2, ytick_fsize=1,\n",
    "           boxcolor='salmon',\n",
    "           whiskercolor='gray',\n",
    "           capcolor='black',\n",
    "           mediancolor='white',\n",
    "           medianline_w=3)\n",
    "\n",
    "# Make concatenations of 200 loci sliding window of entropy\n",
    "concatenations = stats.slide_loci('source_original_id',\n",
    "                                  parameter='entropy',\n",
    "                                  start=0,length=200,step=50)  \n",
    "\n",
    "# Add the concatenation objects to the project\n",
    "for concat in concatenations:\n",
    "    pj.add_concatenation(concat)\n",
    "    \n",
    "# Create the supermatrices\n",
    "pj.make_concatenation_alignments()\n",
    "\n",
    "# And collect their names\n",
    "aln_names = [c.name for c in pj.concatenations]\n",
    "\n",
    "# Build the trees\n",
    "raxml = RaxmlConf(pj, alns=aln_names, threads=6)\n",
    "\n",
    "# reconstruct the trees\n",
    "pj.tree([raxml])\n",
    "\n",
    "# Remove stars from species names  \n",
    "from itertools import chain\n",
    "\n",
    "for f in chain(*[r.features for r in pj.records]):\n",
    "    if 'Taxa' in f.qualifiers:\n",
    "        f.qualifiers['Taxa'][0] = f.qualifiers['Taxa'][0].replace('*','')\n",
    "        \n",
    "pj.propagate_metadata()\n",
    "\n",
    "\n",
    "# Plot the trees\n",
    "pics = {'Bombycoidea': 'silhouettes/Bombycoidea.png',\n",
    "        'Calliduloidea': 'silhouettes/Calliduloidea.png',\n",
    "        'Cossoidea': 'silhouettes/Cossoidea.png',\n",
    "        'Gelechioidea': 'silhouettes/Gelechioidea.png',\n",
    "        'Geometroidea': 'silhouettes/Geometroidea.png',\n",
    "        'Hepialoidea': 'silhouettes/Hepialoidea.png',\n",
    "        'Papilionoidea': 'silhouettes/Papilionoidea.png',\n",
    "        'Mimallonoidea': 'silhouettes/Mimallonoidea.png',\n",
    "        'Zygaenoidea': 'silhouettes/Zygaenoidea.png',\n",
    "        'Lasiocampoidea': 'silhouettes/Lasiocampoidea.png',\n",
    "        'Thyridoidea': 'silhouettes/Thyridoidea.png',\n",
    "        'Pterophoroidea': 'silhouettes/Pterophoroidea.png',\n",
    "        'Pyraloidea': 'silhouettes/Pyraloidea.png',\n",
    "        'Noctuoidea': 'silhouettes/Noctuoidea.png',\n",
    "        'Gracillarioidea': 'silhouettes/Gracillarioidea.png',\n",
    "        'Yponomeutoidea': 'silhouettes/Yponomeutoidea.png',\n",
    "        'Urodoidea': 'silhouettes/Urodoidea.png',\n",
    "        'Tortricoidea': 'silhouettes/Tortricoidea.png'\n",
    "        \n",
    "       }\n",
    "\n",
    "colors = {'Bombycoidea': 'DodgerBlue',\n",
    "          'Calliduloidea': 'DodgerBlue',\n",
    "          'Cossoidea': 'DodgerBlue',\n",
    "          'Gelechioidea': 'DodgerBlue',\n",
    "          'Geometroidea': 'DodgerBlue',\n",
    "          'Hepialoidea': 'DodgerBlue',\n",
    "          'Papilionoidea': 'SaddleBrown',\n",
    "          'Mimallonoidea': 'DodgerBlue',\n",
    "          'Zygaenoidea': 'DodgerBlue',\n",
    "          'Lasiocampoidea': 'DodgerBlue',\n",
    "          'Thyridoidea': 'DodgerBlue',\n",
    "          'Pterophoroidea': 'DodgerBlue',\n",
    "          'Pyraloidea': 'DodgerBlue',\n",
    "          'Noctuoidea': 'DodgerBlue',\n",
    "         'Gracillarioidea': 'DodgerBlue',\n",
    "         'Yponomeutoidea': 'DodgerBlue',\n",
    "         'Urodoidea': 'DodgerBlue',\n",
    "         'Tortricoidea': 'DodgerBlue'}\n",
    "            \n",
    "bg =  {'butterfilies': 'LightSkyBlue',\n",
    "       'I': 'PowderBlue',\n",
    "       'III': 'LightGrey',\n",
    "       'IV': 'Beige'\n",
    "      }\n",
    "\n",
    "\n",
    "supports = { 'DarkBlue' : [100,99],\n",
    "             'DimGray': [99,80]}\n",
    "dir_name = \"butterfly_figs\"\n",
    "\n",
    "html_name = \"%s/figures.html\"%dir_name\n",
    "\n",
    "if not os.path.exists(dir_name):\n",
    "    os.mkdir(dir_name)\n",
    "\n",
    "pj.clear_tree_annotations()  \n",
    "\n",
    "pj.annotate(dir_name, 'mid','mid', ['Taxa'], \n",
    "            leaf_node_color_meta='source_Superfamily',\n",
    "            leaf_label_colors=colors, ftype='Arial Black',\n",
    "            fsize=40, node_support_dict=supports,\n",
    "            support_bullet_size=15, pic_meta='source_Superfamily', \n",
    "            pic_paths=pics, pic_w=85, pic_h=65, node_bg_meta='Clade',     \n",
    "            node_bg_color=bg, branch_width=6, branch_color='RoyalBlue',\n",
    "            scale=2500, html=html_name)\n",
    "\n",
    "# Calculate pairwise tree distances\n",
    "if not os.path.exists('rf_figs'):\n",
    "    os.mkdir('rf_figs')\n",
    "    \n",
    "# topological\n",
    "figfile1, legend = calc_rf(pj, 'rf_figs', rf_type='topology', unrooted_trees=True, trees=trees)\n",
    "# branch-length\n",
    "figfile2, legend = calc_rf(pj, 'rf_figs', rf_type='branch-length', unrooted_trees=True, trees=trees)\n",
    "# topological\n",
    "figfile3,legend = calc_rf(pj, 'rf_figs', rf_type='proportional', unrooted_trees=True, trees=trees)\n",
    "\n",
    "# Write a zip file\n",
    "publish(pj, 'report', 'butterfly_figs/',\n",
    "        compare_trees=['topology','branch-length','proportional'],\n",
    "        trees_to_compare=trees)"
   ]
  },
  {
   "cell_type": "markdown",
   "metadata": {},
   "source": [
    "# 2 The same script, with annotations"
   ]
  },
  {
   "cell_type": "code",
   "execution_count": 1,
   "metadata": {
    "collapsed": false
   },
   "outputs": [],
   "source": [
    "from reprophylo import *"
   ]
  },
  {
   "cell_type": "markdown",
   "metadata": {},
   "source": [
    "## 2.1 Turn a nexus file with PAUP style charset lines into a ReproPhylo Project instance\n",
    "Any file format can be read, (see [manual](http://goo.gl/yW6J1J)).  \n",
    "If GenBank or EMBL formats are read, the metadata is stored and is usable throughout. See example in use case 1 in the [manual](http://goo.gl/yW6J1J)."
   ]
  },
  {
   "cell_type": "code",
   "execution_count": 2,
   "metadata": {
    "collapsed": false,
    "scrolled": true
   },
   "outputs": [
    {
     "name": "stderr",
     "output_type": "stream",
     "text": [
      "/home/amir/Dropbox/python_modules/rpgit.py:74: UserWarning: Thanks to Stack-Overflow users Shane Geiger and Billy Jin for the git wrappers code\n",
      "  warnings.warn('Thanks to Stack-Overflow users Shane Geiger and Billy Jin for the git wrappers code')\n",
      "/home/amir/Dropbox/python_modules/rpgit.py:90: UserWarning: A git repository was created in /home/amir/Dropbox/Szitenberg_et_al_2015_ReproPhylo.\n",
      "  warnings.warn('A git repository was created in %s.'%repoDir)\n",
      "/home/amir/Dropbox/python_modules/reprophylo.py:255: UserWarning: The new repository is called szitenberg_et_al_15_reprophylo.\n",
      "  warnings.warn('The new repository is called %s.'%open(cwd + '/.git/description', 'r').read().rstrip())\n",
      "DEBUG:Cloud:Log file (/home/amir/.picloud/cloud.log) opened\n"
     ]
    },
    {
     "name": "stdout",
     "output_type": "stream",
     "text": [
      "1/465 reading EOG69CQC1_1\n",
      "2/465 reading EOG6M65NR_1\n",
      "3/465 reading EOG69KFV8_1\n",
      "4/465 reading EOG6SN1SH_1\n",
      "5/465 reading EOG654933_1\n",
      "6/465 reading EOG66147B_1\n",
      "7/465 reading EOG6PRSVJ_1\n",
      "[Manually truncated for presentation]\n",
      "457/465 reading EOG66147J_1\n",
      "458/465 reading EOG63FH1C_1\n",
      "459/465 reading EOG6GXFR5_1\n",
      "460/465 reading EOG61C70W_1\n",
      "461/465 reading EOG6DV5QK_1\n",
      "462/465 reading EOG6HQDPF_1\n",
      "463/465 reading EOG6NVZPX_1\n",
      "464/465 reading EOG6GXFR3_1\n",
      "465/465 reading EOG6KPTG0_1\n"
     ]
    },
    {
     "name": "stderr",
     "output_type": "stream",
     "text": [
      "/home/amir/Dropbox/python_modules/reprophylo.py:1216: UserWarning: To get translations, add a feature manually\n",
      "  warnings.warn(\"To get translations, add a feature manually\")\n"
     ]
    }
   ],
   "source": [
    "nexus_filename = 'data/Kawahara_Breinholt_2014/'+\\\n",
    "                 'Kawahara_Breinholt_2014_26taxa_465loci_Degen_nt12.nex'\n",
    "\n",
    "pj = pj_from_nexus_w_charset(nexus_filename,\n",
    "                             \n",
    "                             'data',             # path to write intermediate fasta file    \n",
    "                             \n",
    "                             'dna',              # Character type ('dna' or 'prot')\n",
    "                             \n",
    "                             'CDS',              # Feature type (Any)\n",
    "                             \n",
    "                             project = True,     # Will return a Project instance instead of a list\n",
    "                                                 # of fasta files per partition \n",
    "                                                 # if project will save it to this file:\n",
    "                             pickle = 'szitenberg_et_al_15_reprophylo',\n",
    "                             \n",
    "                             git = True)         # Will start and manage repository"
   ]
  },
  {
   "cell_type": "code",
   "execution_count": 6,
   "metadata": {
    "collapsed": false
   },
   "outputs": [
    {
     "data": {
      "text/plain": [
       "'szitenberg_et_al_15_reprophylo'"
      ]
     },
     "execution_count": 6,
     "metadata": {},
     "output_type": "execute_result"
    }
   ],
   "source": [
    "pickle_pj(pj, 'szitenberg_et_al_15_reprophylo')"
   ]
  },
  {
   "cell_type": "markdown",
   "metadata": {},
   "source": [
    "If the keyword `project` is False (default), the function returns a list of fasta file names and a list of Loci objects.  \n",
    "This is usefull when the loci are not all the same character type or feature type.  \n",
    " \n",
    "If `project` == False, the usage is:\n",
    "\n",
    "<pre>\n",
    "filenames, loci_list = make_fasta_files_from_nexus(nexus_filename,\n",
    "                                                   'data', 'dna', 'CDS')\n",
    "pj = Project(loci_list)\n",
    "                                \n",
    "for f in filenames:\n",
    "    locus_name = f.split('/')[-1].split('.')[0]\n",
    "    pj.read_alignment(f, 'dna','CDS',locus_name)\n",
    "    \n",
    "</pre>\n",
    "                                            \n",
    "This takes a while (for both project=True and False) because a few things are happening at the background. \n",
    "It is worth while for downstream steps\n",
    "                                                \n"
   ]
  },
  {
   "cell_type": "markdown",
   "metadata": {},
   "source": [
    "#### Tip:\n",
    "Next time you run, start here by unpickling the file:  \n",
    "<pre>\n",
    "pj = unpickle_pj('szitenberg_et_al_15_reprophylo')\n",
    "</pre>\n",
    "\n",
    "This is much much faster than reading the data. Git will pick up with the same repository."
   ]
  },
  {
   "cell_type": "code",
   "execution_count": 39,
   "metadata": {
    "collapsed": false,
    "scrolled": true
   },
   "outputs": [],
   "source": [
    "#pj = unpickle_pj('szitenberg_et_al_15_reprophylo')"
   ]
  },
  {
   "cell_type": "markdown",
   "metadata": {},
   "source": [
    "## 2.2 Read a supplementary table with pandas"
   ]
  },
  {
   "cell_type": "code",
   "execution_count": 11,
   "metadata": {
    "collapsed": false
   },
   "outputs": [
    {
     "name": "stderr",
     "output_type": "stream",
     "text": [
      "/usr/local/lib/python2.7/dist-packages/pandas/io/excel.py:626: UserWarning: Installed openpyxl is not supported at this time. Use >=1.6.1 and <2.0.0.\n",
      "  .format(openpyxl_compat.start_ver, openpyxl_compat.stop_ver))\n"
     ]
    },
    {
     "data": {
      "text/plain": [
       "'szitenberg_et_al_15_reprophylo'"
      ]
     },
     "execution_count": 11,
     "metadata": {},
     "output_type": "execute_result"
    }
   ],
   "source": [
    "import pandas as pd\n",
    "\n",
    "\n",
    "# This reads a supplementary table\n",
    "# form Kawahara and Breinholt 2014\n",
    "supp3 = 'data/Kawahara_Breinholt_2014/'+\\\n",
    "        'rspb20140970supp3.csv'\n",
    "    \n",
    "metadata = pd.read_table(supp3, skiprows=2)\n",
    "\n",
    "# This places the info from the table\n",
    "# in the metadta of the sequence records:\n",
    "\n",
    "# Iterate all the records (each sequence in each locus)\n",
    "# and update their metadata based on the supplementary\n",
    "# table\n",
    "\n",
    "for r in pj.records:\n",
    "    source = r.features[0]                                               # This is a Biopython (GenBank)\n",
    "                                                                         # source feature. Since we read a \n",
    "                                                                         # Nexus file, it was generated\n",
    "                                                                         # by ReproPhylo rather than read.\n",
    "                                                                         # If a GenBank file is read, the source\n",
    "                                                                         # and other features are read as well.\n",
    "                \n",
    "    original_id = source.qualifiers['original_id'][0]                    # This is the nexus sequence header.\n",
    "                                                                         # To allow abstraction, the actual\n",
    "                                                                         # records id is generated by the system\n",
    "                                                                         # when formats other than GenBank or EMBL\n",
    "                                                                         # are read\n",
    "                    \n",
    "    record_metadata = metadata.loc[metadata['Sample ID'] == original_id] # The 'original_id' is the 'Sample ID'\n",
    "                                                                         #  in the supplementary table.\n",
    "                                                                         # This will get the table line for \n",
    "                                                                         # the current 'original_id'.\n",
    "                \n",
    "    record_metadata = record_metadata.to_dict()                          # This will turn the line into a dictionery \n",
    "                                                                         # with column names as keys.\n",
    "                                                                         # A dictionary is the python equivalent\n",
    "                                                                         # for the perl array.\n",
    "    \n",
    "    for key in record_metadata:                                          # This will add each value in the table\n",
    "        source.qualifiers[key] = [record_metadata[key].items()[0][1]]    # line to the Biopython feature qualifiers\n",
    "                                                                         # in the source feature\n",
    "          \n",
    "        \n",
    "    source.qualifiers['organism'] = source.qualifiers['Taxa']            # the 'Taxa' column in the \n",
    "                                                                         # supplementary contains\n",
    "                                                                         # the 'organism' sensu GenBank\n",
    "        \n",
    "\n",
    "\n",
    "        \n",
    "pickle_pj(pj, 'szitenberg_et_al_15_reprophylo')"
   ]
  },
  {
   "cell_type": "markdown",
   "metadata": {},
   "source": [
    "## 2.3 Manually assign species to clades"
   ]
  },
  {
   "cell_type": "code",
   "execution_count": 12,
   "metadata": {
    "collapsed": false
   },
   "outputs": [],
   "source": [
    "clades =       {'Papilio glaucus': 'butterfilies',    # This is a manual assignment of the 'organism'\n",
    "                'Macrosoma sp.*': 'butterfilies',     # values to lepidopteran clades sensu\n",
    "                'Megathymus yuccae*': 'butterfilies', # Kawahara and Breinholt 2014.\n",
    "                'Semomesia campanea': 'butterfilies',\n",
    "                'Danaus plexippus*': 'butterfilies',\n",
    "                'Phyllocnistis citrella*': 'I',\n",
    "                'Plutella xylostella*': 'I',\n",
    "                'Grapholita dimorpha*': 'I',\n",
    "                'Lantanophaga pusillidactyla*': 'I',\n",
    "                'Urodus parvula*': 'I',\n",
    "                'Morpheis mathani*': 'I',\n",
    "                'Megalopyge tharops*': 'I',\n",
    "                'Dalcera abrasa*': 'I',\n",
    "                'Thubana sp.*': 'III',\n",
    "                'Pterodecta felderi*': 'III',\n",
    "                'Zeuzerodes maculata*': 'III',\n",
    "                'Lacosoma ludolpha*': 'IV',\n",
    "                'Lyssa zampa*': 'IV',\n",
    "                'Nothus lunus*': 'IV',\n",
    "                'Nemoria lixaria*': 'IV',\n",
    "                'Anigraea sp.': 'IV',\n",
    "                'Bombyx mori*': 'IV',\n",
    "                'Manduca sexta*': 'IV',\n",
    "                'Artace sp.*': 'IV',\n",
    "                'Myelobia sp.*': 'IV',\n",
    "                'Actias luna*': 'IV'}\n",
    "\n",
    "pj.add_qualifier_from_source('Taxa')  # This copies the 'Taxa' qualifier from the source\n",
    "                                      # feature to all the other features in the record\n",
    "                                      # (Biopython SeqFeature. See detailed explanation\n",
    "                                      # in the ReproPhylo manual). It is not necessary,\n",
    "                                      # but good practice, because we might want to edit\n",
    "                                      # it for non-source features and keep the original\n",
    "                                      # as backup in the source feature.\n",
    "\n",
    "for taxon in clades:                                            # This will assign a 'Clade' qualifier to each \n",
    "    pj.if_this_then_that(taxon, 'Taxa', clades[taxon], 'Clade') # feature in each record based on the 'clades'\n",
    "                                                                # dictionary, manually created above.\n",
    "\n",
    "\n",
    "# If we were doing this in a project that contains trees,\n",
    "# the following line makes sure the trees\n",
    "# are informed of the changes to the metadata:\n",
    "\n",
    "pj.propagate_metadata() "
   ]
  },
  {
   "cell_type": "markdown",
   "metadata": {},
   "source": [
    "## 2.4 Export all the records to a text file\n",
    "A text file is not required for downstream process, but can be written for insepction. The default format is GenBank. Other complete representations of the data are the EMBL and CSV formats. All other formats can be chosen as well, but they will not represent the metadta."
   ]
  },
  {
   "cell_type": "code",
   "execution_count": 13,
   "metadata": {
    "collapsed": false
   },
   "outputs": [],
   "source": [
    "pj.write('data/sequence_and_metadata.gb') # GenBank\n",
    "pj.write('data/sequence_and_metadata.csv', format='csv') # spreadsheet"
   ]
  },
  {
   "cell_type": "markdown",
   "metadata": {},
   "source": [
    "### Example GenBank formated record\n",
    "<pre>\n",
    "LOCUS       denovo0                 1357 bp    DNA              UNK 01-JAN-1980\n",
    "DEFINITION  .\n",
    "ACCESSION   denovo0\n",
    "VERSION     denovo0\n",
    "KEYWORDS    .\n",
    "SOURCE      .\n",
    "  ORGANISM  .\n",
    "            .\n",
    "FEATURES             Location/Qualifiers                   # These are annotations and not a part of the output\n",
    "     source          1..1357                               # ==================================================\n",
    "                     /Sample ID=\"Bmoricds\"                 # From the supplementary table\n",
    "                     /Minimum contig size=87               # From the supplementary table\n",
    "                     /Superfamily=\"Bombycoidea\"            # From the supplementary table\n",
    "                     /Family=\"Bombycidae\"                  # From the supplementary table\n",
    "                     /#taxa Per lane=\"nan\"                 # From the supplementary table\n",
    "                     /Locality=\"nan\"                       # From the supplementary table\n",
    "                     /Taxa=\"Bombyx mori\"                   # From the supplementary table\n",
    "                     /Collector=\"nan\"                      # From the supplementary table\n",
    "                     /Genbank SRA accession number=\"nan\"   # From the supplementary table\n",
    "                     /Maximum contig size=56289            # From the supplementary table\n",
    "                     /N50=1698                             # From the supplementary table\n",
    "                     /Collection date=\"nan\"                # From the supplementary table\n",
    "                     /feature_id=\"denovo0_source\"          # SYSTEM GENERATED\n",
    "                     /Collection country/region=\"nan\"      # From the supplementary table\n",
    "                     /original_id=\"Bmoricds\"               # NEXUS FILE SEQUENCE HEADER\n",
    "                     /original_desc                        # Only when fasta or stockholm are read\n",
    "                     /# of contigs=14623                   # From the supplementary table\n",
    "                     /Mean contig size=1224                # From the supplementary table\n",
    "                     /Total bp=17891307                    # From the supplementary table\n",
    "                     /Data type=\"Genomic gene set\"         # From the supplementary table\n",
    "                     /organism=\"Bombyx mori\"               # CREATED ABOVE\n",
    "     CDS             1..1357                               #\n",
    "                     /Taxa=\"Bombyx mori\"                   # CREATED ABOVE     \n",
    "                     /Clade=\"IV\"                           # CREATED ABOVE\n",
    "                     /nuc_degen_prop=\"0.0707442888725\"     # SYSTEM GENERATED\n",
    "                     /feature_id=\"denovo0_f0\"              # SYSTEM GENERATED\n",
    "                     /GC_content=\"43.0361090641\"           # SYSTEM GENERATED\n",
    "                     /gene=\"EOG69CQC1_1\"                   # THE SET NAME FROM THE CHARSET COMMAND IN THE NEXUS FILE\n",
    "ORIGIN\n",
    "        1 cagtgcaagg gtattaytaa ggccgacagt gtccgcgaag taacacgcat ccggtgcagt\n",
    "       61 aaytmgatgc ccmgg[...]                            # Truncated for presentation\n",
    "//\n",
    "</pre>"
   ]
  },
  {
   "cell_type": "markdown",
   "metadata": {},
   "source": [
    "## 2.5 Making sure all-gap positions are removed from the read alignments\n",
    "There is no sequence alignment step in this analysis because we read aligned sequences. To learn about sequene alignmnet with MAFFT or MUSCLE in ReproPhylo, see the case studies in the [manual](http://goo.gl/yW6J1J).  The syntax is similar to that of the trimming step which will be done next.\n",
    "\n",
    "Alignmnet trimming is done with TrimAl, which allows automated heuristic approaches or manual approaches. Here we use it only to remove all gaps positions because we want to keep the alignmnet as it was used in the original publication. See the [manual](http://goo.gl/yW6J1J) for more options."
   ]
  },
  {
   "cell_type": "code",
   "execution_count": 14,
   "metadata": {
    "collapsed": false,
    "scrolled": true
   },
   "outputs": [
    {
     "name": "stdout",
     "output_type": "stream",
     "text": [
      "trimal -in 861921429737580.9_EOG6PRSVJ_1@ReadDirectly.fasta -noallgaps\n",
      "trimal -in 861921429737580.9_EOG6FJ8F2_1@ReadDirectly.fasta -noallgaps\n",
      "trimal -in 861921429737580.9_EOG65MN9F_1@ReadDirectly.fasta -noallgaps\n",
      "trimal -in 861921429737580.9_EOG6Q852B_1@ReadDirectly.fasta -noallgaps\n",
      "trimal -in 861921429737580.9_EOG66Q6XR_1@ReadDirectly.fasta -noallgaps\n",
      "trimal -in 861921429737580.9_EOG6PRSVM_1@ReadDirectly.fasta -noallgaps\n",
      "trimal -in 861921429737580.9_EOG64MXWK_1@ReadDirectly.fasta -noallgaps\n",
      "trimal -in 861921429737580.9_EOG60K83N_1@ReadDirectly.fasta -noallgaps\n",
      "trimal -in 861921429737580.9_EOG6933NR_1@ReadDirectly.fasta -noallgaps\n",
      "trimal -in 861921429737580.9_EOG6QRH81_1@ReadDirectly.fasta -noallgaps\n",
      "trimal -in 861921429737580.9_EOG6K6G7Z_1@ReadDirectly.fasta -noallgaps\n",
      "trimal -in 861921429737580.9_EOG6R5069_1@ReadDirectly.fasta -noallgaps\n",
      "[manually truncated for presentation]\n",
      "trimal -in 861921429737580.9_EOG68WC5K_1@ReadDirectly.fasta -noallgaps\n"
     ]
    }
   ],
   "source": [
    "# make a TrimAl configuration object\n",
    "\n",
    "trimal = TrimalConf(pj,                                    # The Project instance\n",
    "                    method_name='no_trim',                 # Any unique string\n",
    "                    trimal_commands={'noallgaps': True})   # Any TrimAl command line argument\n",
    "                                                           # TrimAl Flags receive True or False\n",
    "    \n",
    "# Every Conf object gets a unique generated ID, even\n",
    "# if the method name was used in this Project.\n",
    "# If an existing method name\n",
    "# is reused, its results will be overwritten, and\n",
    "# it will be distinguised from previous versions by\n",
    "# the system ID.\n",
    "                                                                      "
   ]
  },
  {
   "cell_type": "markdown",
   "metadata": {},
   "source": [
    "### The TrimalConf default values:\n",
    "\n",
    "<pre>\n",
    "TrimalConf(pj, \n",
    "           method_name='gappyout',\n",
    "           program_name='trimal',\n",
    "           cmd='default',                      # The defaults cmd is in Project.defaults['trimal']\n",
    "                                               # You can change the default value or provide it here.\n",
    "                                               \n",
    "           alns='all',                         # Or a list of specific alignmnet names.\n",
    "           trimal_commands={'gappyout': True})\n",
    "</pre>"
   ]
  },
  {
   "cell_type": "markdown",
   "metadata": {},
   "source": [
    "### Trimming execution\n",
    "The trim Project method excepts a list of one or more `TrimalConf` objects. Different objects can be used to trim different subsets of alignments."
   ]
  },
  {
   "cell_type": "code",
   "execution_count": 15,
   "metadata": {
    "collapsed": false
   },
   "outputs": [],
   "source": [
    "pj.trim([trimal])"
   ]
  },
  {
   "cell_type": "markdown",
   "metadata": {},
   "source": [
    "## 2.6 Preparing supermatrices from 200 loci long sliding windows along the entropy gradient\n",
    "### 2.6.1 Calculating the statistics\n",
    "Entropy, conservation, and gap score will be calculated for each position in each alignmnet.  \n",
    "Sequence length and GC content will be calculated for each untrimmed sequence in each locus.\n",
    "\n",
    "This is done by passing the `Project` instance (`pj`) into a `LociStats` object:"
   ]
  },
  {
   "cell_type": "code",
   "execution_count": 4,
   "metadata": {
    "collapsed": false,
    "scrolled": true
   },
   "outputs": [],
   "source": [
    "stats = LociStats(pj,                      # The Project instance\n",
    "                  \n",
    "                  trimmed=True,            # Only trimmed alignments will be checked\n",
    "                  \n",
    "                  alignmnet_method=None,   # If specified, only regard alignments created\n",
    "                                           # with this method\n",
    "                                           \n",
    "                  trimming_method=None)    # If specified, only regard alignments trimmed\n",
    "                                           # with this method\n",
    "    \n",
    "                                           # By default, only regard the first occurance\n",
    "                                           # of each locus, if it was aligned or trimmed\n",
    "                                           # using more than one method"
   ]
  },
  {
   "cell_type": "markdown",
   "metadata": {},
   "source": [
    "### 2.6.2 Sort the alignmnets according to statistics values\n",
    "This done by using the `sort` method of the `LociStats` instance:"
   ]
  },
  {
   "cell_type": "code",
   "execution_count": 5,
   "metadata": {
    "collapsed": false
   },
   "outputs": [],
   "source": [
    "stats.sort(parameter = 'entropy',     # Sort the loci according to entropy values\n",
    "           \n",
    "           percentile=50,             # First sort by the specified percentile of each locus,\n",
    "                                      # typically, the median\n",
    "                                      \n",
    "           percentile_range=(25,75),  # Then, sort by the distance between the specified percentiles\n",
    "                                      # for each locus, typically the 25 and 75 percentiles\n",
    "                                      \n",
    "           reverse = True)            # Sort in descending order"
   ]
  },
  {
   "cell_type": "markdown",
   "metadata": {},
   "source": [
    "### 2.6.3 Figure 2 A\n",
    "**The next cell produced Figure 2A**. It plots the entropy distribution as a box-plot for each locus. The brown dot is the median, the blue stretch is the 25-75 percentiles, the black stretches are the > 95 and < 5 percentiles."
   ]
  },
  {
   "cell_type": "code",
   "execution_count": 6,
   "metadata": {
    "collapsed": false,
    "scrolled": true
   },
   "outputs": [
    {
     "data": {
      "image/png": "[encoded data removed]",
      "text/plain": [
       "<matplotlib.figure.Figure at 0x7f923f478cd0>"
      ]
     },
     "metadata": {},
     "output_type": "display_data"
    }
   ],
   "source": [
    "%matplotlib inline\n",
    "\n",
    "stats.plot('entropy.png',     # Output file name\n",
    "           \n",
    "           figsize=(30,7),    # Figure size in cm\n",
    "           \n",
    "           params=['entropy'],# The parameters to include.\n",
    "                              # can take a list of just one or a few parameters\n",
    "                              # including 'entropy','conservation', 'gapscore'\n",
    "                              # 'sequence_length' and 'sequence_gc'\n",
    "           \n",
    "           lable_fsize=40,\n",
    "           \n",
    "           xtick_fsize=0,\n",
    "           \n",
    "           ytick_fsize=1,\n",
    "          \n",
    "           boxcolor='DodgerBlue',\n",
    "           whiskercolor='black',\n",
    "           capcolor='black',\n",
    "           mediancolor='SaddleBrown',\n",
    "           medianline_w=5)"
   ]
  },
  {
   "cell_type": "markdown",
   "metadata": {},
   "source": [
    "### 2.6.4 Figure S1, Plot a box plot for each parameter for each locus\n",
    "In the resulting figure the loci will be sorted in a descending order of the entropy median, as a result of the above sorting step.\n",
    "As expected, entropy is correlated with the conservation value. It is not correlated with other measures which makes its effect easy to check."
   ]
  },
  {
   "cell_type": "code",
   "execution_count": 5,
   "metadata": {
    "collapsed": false,
    "scrolled": true
   },
   "outputs": [],
   "source": [
    "stats.plot('plot.png',     # Output file name\n",
    "           \n",
    "           figsize=(50,23), # Figure size in cm\n",
    "           \n",
    "           params='all',    # The parameters to include.\n",
    "                            # can take a list of just one\n",
    "                            # or a few parameters\n",
    "                            # including 'entropy','conservation',\n",
    "                            # 'gapscore', 'sequence_length'\n",
    "                            # and 'sequence_gc'\n",
    "           \n",
    "           lable_fsize=20,\n",
    "           \n",
    "           xtick_fsize=10,\n",
    "           \n",
    "           ytick_fsize=1,\n",
    "          \n",
    "           boxcolor='salmon',\n",
    "           whiskercolor='gray',\n",
    "           capcolor='black',\n",
    "           mediancolor='white',\n",
    "           medianline_w=3)"
   ]
  },
  {
   "cell_type": "markdown",
   "metadata": {},
   "source": [
    "## 2.7 Prepare the Concatenation objects\n",
    "`Concatenation` objects contain the configuration information for building a supermatrix. This will produce six `Concatenation` objects each with a sliding window of 200 loci, along the entropy gradient."
   ]
  },
  {
   "cell_type": "code",
   "execution_count": 21,
   "metadata": {
    "collapsed": false,
    "scrolled": true
   },
   "outputs": [
    {
     "name": "stdout",
     "output_type": "stream",
     "text": [
      "entropy_1.14_0.00_loci_0_to_199\n",
      "entropy_0.48_0.00_loci_50_to_249\n",
      "entropy_0.30_0.00_loci_100_to_299\n",
      "entropy_0.00_0.00_loci_150_to_349\n",
      "entropy_0.00_0.00_loci_200_to_399\n",
      "entropy_0.00_0.00_loci_250_to_449\n",
      "Concatenation entropy_1.14_0.00_loci_0_to_199 will have the following data\n",
      "OTU                           EOG6M65NR_1         EOG6SN1SH_1         EOG654933_1         EOG66147B_1         EOG680J15_1         EOG6S7JTK_1         EOG60ZR1Z_1         EOG6DBTJG_1         EOG69ZXTF_1         EOG64QT4T_1         EOG6K3M19_1         EOG60P4BJ_1         EOG6DBTK0_1         EOG64MXX7_1         EOG6GTKHJ_1         EOG6NVZQC_1         EOG6MPHV2_1         EOG68KRFS_1         EOG6GHZSR_1         EOG666VQ4_1         EOG651DV5_1         EOG6JDHBD_1         EOG63212K_1         EOG68D102_1         EOG6CJVMH_1         EOG60VVTB_1         EOG698V46_1         EOG6N8R81_1         EOG6FXRCK_1         EOG6R2400_1         EOG68KRG4_1         EOG61C70T_1         EOG6SJ5JS_1         EOG63212W_1         EOG6F7NPJ_1         EOG695ZW4_1         EOG61NTQM_1         EOG6NZTZ3_1         EOG6J3WM7_1         EOG68SGXM_1         EOG6RNBCT_1         EOG6M39DN_1         EOG6RFKXS_1         EOG6RXZ4G_1         EOG67SSJJ_1         EOG69GKKW_1         EOG6NZTXP_1         EOG6QFWHZ_1         EOG68PMPX_1         EOG6RFKXB_1         EOG62BXD6_1         EOG647FXX_1         EOG6B8JHP_1         EOG6S1TBX_1         EOG6DFPRT_1         EOG65HS25_1         EOG6FFD5C_1         EOG6R506D_1         EOG670TNG_1         EOG6F4SFZ_1         EOG6QVCGP_1         EOG65TCRS_1         EOG6QRH88_1         EOG6M65N6_1         EOG61G385_1         EOG6QRH81_1         EOG6RJG4W_1         EOG6K0QSG_1         EOG6KKZ6X_1         EOG60VVTG_1         EOG6D26TG_1         EOG6QZ7R6_1         EOG679FBS_1         EOG61RPZF_1         EOG6PC9WG_1         EOG60GCVD_1         EOG6R506Q_1         EOG605S4X_1         EOG65TCRN_1         EOG608ND4_1         EOG6640GX_1         EOG6SQX12_1         EOG69GKMS_1         EOG6D26TV_1         EOG605S4Z_1         EOG6N04JN_1         EOG67WNS9_1         EOG64TPCQ_1         EOG6NS3GS_1         EOG6NP76T_1         EOG63JC90_1         EOG67H5V2_1         EOG6NP77P_1         EOG6QFWJH_1         EOG6N04K4_1         EOG6CJVMQ_1         EOG6DZ204_1         EOG6C5CPH_1         EOG6FFD51_1         EOG6NP779_1         EOG6933N9_1         EOG6JQ427_1         EOG6C5CNP_1         EOG6FTW4C_1         EOG65759X_1         EOG6QNN0N_1         EOG66WZD1_1         EOG6FR0WR_1         EOG6P2Q64_1         EOG666VQC_1         EOG63R3R5_1         EOG641QGH_1         EOG69S6BG_1         EOG64XJM7_1         EOG65MN9B_1         EOG641QFW_1         EOG63R3R9_1         EOG6N04J6_1         EOG6GMV1P_1         EOG6S4PKX_1         EOG6NP773_1         EOG6DZ201_1         EOG6QFWJ6_1         EOG6CG0CT_1         EOG6HHP6B_1         EOG605S4Q_1         EOG6R7VF9_1         EOG6CZBM5_1         EOG6JT092_1         EOG6FJ8D6_1         EOG6QZ7QX_1         EOG6F1X6M_1         EOG6SBF2V_1         EOG6KSPQ0_1         EOG6GMV1H_1         EOG63R3RC_1         EOG68SGX8_1         EOG6BK57S_1         EOG60K83N_1         EOG6KD6Q9_1         EOG68GW6Q_1         EOG6Q852G_1         EOG676K44_1         EOG6FN4NZ_1         EOG6S1TC2_1         EOG6HT8WD_1         EOG63FH1F_1         EOG6PRSVP_1         EOG6R5069_1         EOG6CC453_1         EOG6001PC_1         EOG676K40_1         EOG6N30SN_1         EOG67D9M5_1         EOG6RBQP0_1         EOG6Q2DKD_1         EOG6255XM_1         EOG64BB5X_1         EOG6H72G0_1         EOG6PZJB1_1         EOG64MXWG_1         EOG65QHHP_1         EOG698V4R_1         EOG615GHV_1         EOG6FFD5G_1         EOG6NVZQ8_1         EOG60K833_1         EOG62BXCZ_1         EOG6CG0D0_1         EOG69KFVF_1         EOG615GHP_1         EOG683D8Q_1         EOG6PRSVM_1         EOG64J2NS_1         EOG66HGF5_1         EOG60P4BZ_1         EOG66MBPR_1         EOG6DFPSD_1         EOG64BB5N_1         EOG6DBTJX_1         EOG6FXRC9_1         EOG6STS87_1         EOG6SXNHG_1         EOG6255XS_1         EOG6GF3JF_1         EOG6KSPPS_1         EOG637RJP_1         EOG6J3WMR_1         EOG6B2T20_1         EOG6GB79H_1         EOG6JDHBG_1         EOG676K3Q_1         EOG6RV2WT_1         EOG6GTKHQ_1         EOG6FR0W5_1         EOG6CC452_1         EOG61G37F_1         EOG6GXFR5_1         EOG6DV5QK_1         EOG6KPTG0_1         \n",
      "Dplexcds                      denovo28_f0    denovo80_f0    denovo106_f0   denovo132_f0   denovo210_f0   denovo236_f0   denovo262_f0   denovo288_f0   denovo340_f0   denovo418_f0   denovo522_f0   denovo574_f0   denovo600_f0   denovo730_f0   denovo782_f0   denovo938_f0   denovo964_f0   denovo1042_f0  denovo1068_f0  denovo1146_f0  denovo1302_f0  denovo1484_f0  denovo1510_f0  denovo1640_f0  denovo1744_f0  denovo1770_f0  denovo1796_f0  denovo1952_f0  denovo2134_f0  denovo2186_f0  denovo2238_f0  denovo2264_f0  denovo2342_f0  denovo2446_f0  denovo2472_f0  denovo2498_f0  denovo2524_f0  denovo2576_f0  denovo2602_f0  denovo2654_f0  denovo2758_f0  denovo2784_f0  denovo2836_f0  denovo2862_f0  denovo2914_f0  denovo2992_f0  denovo3044_f0  denovo3148_f0  denovo3226_f0  denovo3252_f0  denovo3278_f0  denovo3304_f0  denovo3330_f0  denovo3434_f0  denovo3486_f0  denovo3590_f0  denovo3616_f0  denovo3668_f0  denovo3694_f0  denovo3720_f0  denovo3772_f0  denovo3850_f0  denovo3954_f0  denovo3980_f0  denovo4032_f0  denovo4058_f0  denovo4188_f0  denovo4292_f0  denovo4318_f0  denovo4344_f0  denovo4396_f0  denovo4448_f0  denovo4552_f0  denovo4630_f0  denovo4734_f0  denovo4760_f0  denovo4786_f0  denovo4838_f0  denovo4890_f0  denovo4916_f0  denovo4942_f0  denovo4968_f0  denovo4994_f0  denovo5202_f0  denovo5228_f0  denovo5254_f0  denovo5384_f0  denovo5436_f0  denovo5514_f0  denovo5592_f0  denovo5618_f0  denovo5644_f0  denovo5930_f0  denovo6008_f0  denovo6060_f0  denovo6112_f0  denovo6216_f0  denovo6242_f0  denovo6268_f0  denovo6580_f0  denovo6606_f0  denovo6684_f0  denovo6710_f0  denovo6762_f0  denovo6814_f0  denovo6866_f0  denovo6996_f0  denovo7074_f0  denovo7126_f0  denovo7152_f0  denovo7256_f0  denovo7334_f0  denovo7386_f0  denovo7412_f0  denovo7516_f0  denovo7542_f0  denovo7568_f0  denovo7620_f0  denovo7672_f0  denovo7698_f0  denovo7750_f0  denovo7802_f0  denovo7984_f0  denovo8036_f0  denovo8062_f0  denovo8218_f0  denovo8244_f0  denovo8270_f0  denovo8296_f0  denovo8400_f0  denovo8426_f0  denovo8452_f0  denovo8582_f0  denovo8634_f0  denovo8660_f0  denovo8686_f0  denovo8764_f0  denovo8816_f0  denovo8842_f0  denovo8894_f0  denovo8920_f0  denovo8946_f0  denovo8972_f0  denovo8998_f0  denovo9128_f0  denovo9154_f0  denovo9180_f0  denovo9310_f0  denovo9336_f0  denovo9362_f0  denovo9388_f0  denovo9440_f0  denovo9492_f0  denovo9544_f0  denovo9596_f0  denovo9674_f0  denovo9700_f0  denovo9726_f0  denovo9804_f0  denovo9830_f0  denovo9856_f0  denovo9882_f0  denovo9934_f0  denovo9960_f0  denovo9986_f0  denovo10064_f0 denovo10168_f0 denovo10194_f0 denovo10220_f0 denovo10272_f0 denovo10298_f0 denovo10350_f0 denovo10376_f0 denovo10402_f0 denovo10428_f0 denovo10480_f0 denovo10506_f0 denovo10532_f0 denovo10610_f0 denovo10662_f0 denovo10688_f0 denovo10766_f0 denovo10844_f0 denovo10870_f0 denovo10922_f0 denovo10974_f0 denovo11026_f0 denovo11078_f0 denovo11104_f0 denovo11156_f0 denovo11182_f0 denovo11234_f0 denovo11260_f0 denovo11312_f0 denovo11338_f0 denovo11442_f0 denovo11546_f0 denovo11910_f0 denovo11962_f0 denovo12066_f0 \n",
      "FG120077                      denovo36_f0    denovo88_f0    denovo114_f0   denovo140_f0   denovo218_f0   denovo244_f0   denovo270_f0   denovo296_f0   denovo348_f0   denovo426_f0   denovo530_f0   denovo582_f0   denovo608_f0   denovo738_f0   denovo790_f0   denovo946_f0   denovo972_f0   denovo1050_f0  denovo1076_f0  denovo1154_f0  denovo1310_f0  denovo1492_f0  denovo1518_f0  denovo1648_f0  denovo1752_f0  denovo1778_f0  denovo1804_f0  denovo1960_f0  denovo2142_f0  denovo2194_f0  denovo2246_f0  denovo2272_f0  denovo2350_f0  denovo2454_f0  denovo2480_f0  denovo2506_f0  denovo2532_f0  denovo2584_f0  denovo2610_f0  denovo2662_f0  denovo2766_f0  denovo2792_f0  denovo2844_f0  denovo2870_f0  denovo2922_f0  denovo3000_f0  denovo3052_f0  denovo3156_f0  denovo3234_f0  denovo3260_f0  denovo3286_f0  denovo3312_f0  denovo3338_f0  denovo3442_f0  denovo3494_f0  denovo3598_f0  denovo3624_f0  denovo3676_f0  denovo3702_f0  denovo3728_f0  denovo3780_f0  denovo3858_f0  denovo3962_f0  denovo3988_f0  denovo4040_f0  denovo4066_f0  denovo4196_f0  denovo4300_f0  denovo4326_f0  denovo4352_f0  denovo4404_f0  denovo4456_f0  denovo4560_f0  denovo4638_f0  denovo4742_f0  denovo4768_f0  denovo4794_f0  denovo4846_f0  denovo4898_f0  denovo4924_f0  denovo4950_f0  denovo4976_f0  denovo5002_f0  denovo5210_f0  denovo5236_f0  denovo5262_f0  denovo5392_f0  denovo5444_f0  denovo5522_f0  denovo5600_f0  denovo5626_f0  denovo5652_f0  denovo5938_f0  denovo6016_f0  denovo6068_f0  denovo6120_f0  denovo6224_f0  denovo6250_f0  denovo6276_f0  denovo6588_f0  denovo6614_f0  denovo6692_f0  denovo6718_f0  denovo6770_f0  denovo6822_f0  denovo6874_f0  denovo7004_f0  denovo7082_f0  denovo7134_f0  denovo7160_f0  denovo7264_f0  denovo7342_f0  denovo7394_f0  denovo7420_f0  denovo7524_f0  denovo7550_f0  denovo7576_f0  denovo7628_f0  denovo7680_f0  denovo7706_f0  denovo7758_f0  denovo7810_f0  denovo7992_f0  denovo8044_f0  denovo8070_f0  denovo8226_f0  denovo8252_f0  denovo8278_f0  denovo8304_f0  denovo8408_f0  denovo8434_f0  denovo8460_f0  denovo8590_f0  denovo8642_f0  denovo8668_f0  denovo8694_f0  denovo8772_f0  denovo8824_f0  denovo8850_f0  denovo8902_f0  denovo8928_f0  denovo8954_f0  denovo8980_f0  denovo9006_f0  denovo9136_f0  denovo9162_f0  denovo9188_f0  denovo9318_f0  denovo9344_f0  denovo9370_f0  denovo9396_f0  denovo9448_f0  denovo9500_f0  denovo9552_f0  denovo9604_f0  denovo9682_f0  denovo9708_f0  denovo9734_f0  denovo9812_f0  denovo9838_f0  denovo9864_f0  denovo9890_f0  denovo9942_f0  denovo9968_f0  denovo9994_f0  denovo10072_f0 denovo10176_f0 denovo10202_f0 denovo10228_f0 denovo10280_f0 denovo10306_f0 denovo10358_f0 denovo10384_f0 denovo10410_f0 denovo10436_f0 denovo10488_f0 denovo10514_f0 denovo10540_f0 denovo10618_f0 denovo10670_f0 denovo10696_f0 denovo10774_f0 denovo10852_f0 denovo10878_f0 denovo10930_f0 denovo10982_f0 denovo11034_f0 denovo11086_f0 denovo11112_f0 denovo11164_f0 denovo11190_f0 denovo11242_f0 denovo11268_f0 denovo11320_f0 denovo11346_f0 denovo11450_f0 denovo11554_f0 denovo11918_f0 denovo11970_f0 denovo12074_f0 \n",
      "SRR803483                     denovo46_f0    denovo98_f0    denovo124_f0   denovo150_f0   denovo228_f0   denovo254_f0   denovo280_f0   denovo306_f0   denovo358_f0   denovo436_f0   denovo540_f0   denovo592_f0   denovo618_f0   denovo748_f0   denovo800_f0   denovo956_f0   denovo982_f0   denovo1060_f0  denovo1086_f0  denovo1164_f0  denovo1320_f0  denovo1502_f0  denovo1528_f0  denovo1658_f0  denovo1762_f0  denovo1788_f0  denovo1814_f0  denovo1970_f0  denovo2152_f0  denovo2204_f0  denovo2256_f0  denovo2282_f0  denovo2360_f0  denovo2464_f0  denovo2490_f0  denovo2516_f0  denovo2542_f0  denovo2594_f0  denovo2620_f0  denovo2672_f0  denovo2776_f0  denovo2802_f0  denovo2854_f0  denovo2880_f0  denovo2932_f0  denovo3010_f0  denovo3062_f0  denovo3166_f0  denovo3244_f0  denovo3270_f0  denovo3296_f0  denovo3322_f0  denovo3348_f0  denovo3452_f0  denovo3504_f0  denovo3608_f0  denovo3634_f0  denovo3686_f0  denovo3712_f0  denovo3738_f0  denovo3790_f0  denovo3868_f0  denovo3972_f0  denovo3998_f0  denovo4050_f0  denovo4076_f0  denovo4206_f0  denovo4310_f0  denovo4336_f0  denovo4362_f0  denovo4414_f0  denovo4466_f0  denovo4570_f0  denovo4648_f0  denovo4752_f0  denovo4778_f0  denovo4804_f0  denovo4856_f0  denovo4908_f0  denovo4934_f0  denovo4960_f0  denovo4986_f0  denovo5012_f0  denovo5220_f0  denovo5246_f0  denovo5272_f0  denovo5402_f0  denovo5454_f0  denovo5532_f0  denovo5610_f0  denovo5636_f0  denovo5662_f0  denovo5948_f0  denovo6026_f0  denovo6078_f0  denovo6130_f0  denovo6234_f0  denovo6260_f0  denovo6286_f0  denovo6598_f0  denovo6624_f0  denovo6702_f0  denovo6728_f0  denovo6780_f0  denovo6832_f0  denovo6884_f0  denovo7014_f0  denovo7092_f0  denovo7144_f0  denovo7170_f0  denovo7274_f0  denovo7352_f0  denovo7404_f0  denovo7430_f0  denovo7534_f0  denovo7560_f0  denovo7586_f0  denovo7638_f0  denovo7690_f0  denovo7716_f0  denovo7768_f0  denovo7820_f0  denovo8002_f0  denovo8054_f0  denovo8080_f0  denovo8236_f0  denovo8262_f0  denovo8288_f0  denovo8314_f0  denovo8418_f0  denovo8444_f0  denovo8470_f0  denovo8600_f0  denovo8652_f0  denovo8678_f0  denovo8704_f0  denovo8782_f0  denovo8834_f0  denovo8860_f0  denovo8912_f0  denovo8938_f0  denovo8964_f0  denovo8990_f0  denovo9016_f0  denovo9146_f0  denovo9172_f0  denovo9198_f0  denovo9328_f0  denovo9354_f0  denovo9380_f0  denovo9406_f0  denovo9458_f0  denovo9510_f0  denovo9562_f0  denovo9614_f0  denovo9692_f0  denovo9718_f0  denovo9744_f0  denovo9822_f0  denovo9848_f0  denovo9874_f0  denovo9900_f0  denovo9952_f0  denovo9978_f0  denovo10004_f0 denovo10082_f0 denovo10186_f0 denovo10212_f0 denovo10238_f0 denovo10290_f0 denovo10316_f0 denovo10368_f0 denovo10394_f0 denovo10420_f0 denovo10446_f0 denovo10498_f0 denovo10524_f0 denovo10550_f0 denovo10628_f0 denovo10680_f0 denovo10706_f0 denovo10784_f0 denovo10862_f0 denovo10888_f0 denovo10940_f0 denovo10992_f0 denovo11044_f0 denovo11096_f0 denovo11122_f0 denovo11174_f0 denovo11200_f0 denovo11252_f0 denovo11278_f0 denovo11330_f0 denovo11356_f0 denovo11460_f0 denovo11564_f0 denovo11928_f0 denovo11980_f0 denovo12084_f0 \n",
      "FG120035                      denovo31_f0    denovo83_f0    denovo109_f0   denovo135_f0   denovo213_f0   denovo239_f0   denovo265_f0   denovo291_f0   denovo343_f0   denovo421_f0   denovo525_f0   denovo577_f0   denovo603_f0   denovo733_f0   denovo785_f0   denovo941_f0   denovo967_f0   denovo1045_f0  denovo1071_f0  denovo1149_f0  denovo1305_f0  denovo1487_f0  denovo1513_f0  denovo1643_f0  denovo1747_f0  denovo1773_f0  denovo1799_f0  denovo1955_f0  denovo2137_f0  denovo2189_f0  denovo2241_f0  denovo2267_f0  denovo2345_f0  denovo2449_f0  denovo2475_f0  denovo2501_f0  denovo2527_f0  denovo2579_f0  denovo2605_f0  denovo2657_f0  denovo2761_f0  denovo2787_f0  denovo2839_f0  denovo2865_f0  denovo2917_f0  denovo2995_f0  denovo3047_f0  denovo3151_f0  denovo3229_f0  denovo3255_f0  denovo3281_f0  denovo3307_f0  denovo3333_f0  denovo3437_f0  denovo3489_f0  denovo3593_f0  denovo3619_f0  denovo3671_f0  denovo3697_f0  denovo3723_f0  denovo3775_f0  denovo3853_f0  denovo3957_f0  denovo3983_f0  denovo4035_f0  denovo4061_f0  denovo4191_f0  denovo4295_f0  denovo4321_f0  denovo4347_f0  denovo4399_f0  denovo4451_f0  denovo4555_f0  denovo4633_f0  denovo4737_f0  denovo4763_f0  denovo4789_f0  denovo4841_f0  denovo4893_f0  denovo4919_f0  denovo4945_f0  denovo4971_f0  denovo4997_f0  denovo5205_f0  denovo5231_f0  denovo5257_f0  denovo5387_f0  denovo5439_f0  denovo5517_f0  denovo5595_f0  denovo5621_f0  denovo5647_f0  denovo5933_f0  denovo6011_f0  denovo6063_f0  denovo6115_f0  denovo6219_f0  denovo6245_f0  denovo6271_f0  denovo6583_f0  denovo6609_f0  denovo6687_f0  denovo6713_f0  denovo6765_f0  denovo6817_f0  denovo6869_f0  denovo6999_f0  denovo7077_f0  denovo7129_f0  denovo7155_f0  denovo7259_f0  denovo7337_f0  denovo7389_f0  denovo7415_f0  denovo7519_f0  denovo7545_f0  denovo7571_f0  denovo7623_f0  denovo7675_f0  denovo7701_f0  denovo7753_f0  denovo7805_f0  denovo7987_f0  denovo8039_f0  denovo8065_f0  denovo8221_f0  denovo8247_f0  denovo8273_f0  denovo8299_f0  denovo8403_f0  denovo8429_f0  denovo8455_f0  denovo8585_f0  denovo8637_f0  denovo8663_f0  denovo8689_f0  denovo8767_f0  denovo8819_f0  denovo8845_f0  denovo8897_f0  denovo8923_f0  denovo8949_f0  denovo8975_f0  denovo9001_f0  denovo9131_f0  denovo9157_f0  denovo9183_f0  denovo9313_f0  denovo9339_f0  denovo9365_f0  denovo9391_f0  denovo9443_f0  denovo9495_f0  denovo9547_f0  denovo9599_f0  denovo9677_f0  denovo9703_f0  denovo9729_f0  denovo9807_f0  denovo9833_f0  denovo9859_f0  denovo9885_f0  denovo9937_f0  denovo9963_f0  denovo9989_f0  denovo10067_f0 denovo10171_f0 denovo10197_f0 denovo10223_f0 denovo10275_f0 denovo10301_f0 denovo10353_f0 denovo10379_f0 denovo10405_f0 denovo10431_f0 denovo10483_f0 denovo10509_f0 denovo10535_f0 denovo10613_f0 denovo10665_f0 denovo10691_f0 denovo10769_f0 denovo10847_f0 denovo10873_f0 denovo10925_f0 denovo10977_f0 denovo11029_f0 denovo11081_f0 denovo11107_f0 denovo11159_f0 denovo11185_f0 denovo11237_f0 denovo11263_f0 denovo11315_f0 denovo11341_f0 denovo11445_f0 denovo11549_f0 denovo11913_f0 denovo11965_f0 denovo12069_f0 \n",
      "FG120046B                     denovo32_f0    denovo84_f0    denovo110_f0   denovo136_f0   denovo214_f0   denovo240_f0   denovo266_f0   denovo292_f0   denovo344_f0   denovo422_f0   denovo526_f0   denovo578_f0   denovo604_f0   denovo734_f0   denovo786_f0   denovo942_f0   denovo968_f0   denovo1046_f0  denovo1072_f0  denovo1150_f0  denovo1306_f0  denovo1488_f0  denovo1514_f0  denovo1644_f0  denovo1748_f0  denovo1774_f0  denovo1800_f0  denovo1956_f0  denovo2138_f0  denovo2190_f0  denovo2242_f0  denovo2268_f0  denovo2346_f0  denovo2450_f0  denovo2476_f0  denovo2502_f0  denovo2528_f0  denovo2580_f0  denovo2606_f0  denovo2658_f0  denovo2762_f0  denovo2788_f0  denovo2840_f0  denovo2866_f0  denovo2918_f0  denovo2996_f0  denovo3048_f0  denovo3152_f0  denovo3230_f0  denovo3256_f0  denovo3282_f0  denovo3308_f0  denovo3334_f0  denovo3438_f0  denovo3490_f0  denovo3594_f0  denovo3620_f0  denovo3672_f0  denovo3698_f0  denovo3724_f0  denovo3776_f0  denovo3854_f0  denovo3958_f0  denovo3984_f0  denovo4036_f0  denovo4062_f0  denovo4192_f0  denovo4296_f0  denovo4322_f0  denovo4348_f0  denovo4400_f0  denovo4452_f0  denovo4556_f0  denovo4634_f0  denovo4738_f0  denovo4764_f0  denovo4790_f0  denovo4842_f0  denovo4894_f0  denovo4920_f0  denovo4946_f0  denovo4972_f0  denovo4998_f0  denovo5206_f0  denovo5232_f0  denovo5258_f0  denovo5388_f0  denovo5440_f0  denovo5518_f0  denovo5596_f0  denovo5622_f0  denovo5648_f0  denovo5934_f0  denovo6012_f0  denovo6064_f0  denovo6116_f0  denovo6220_f0  denovo6246_f0  denovo6272_f0  denovo6584_f0  denovo6610_f0  denovo6688_f0  denovo6714_f0  denovo6766_f0  denovo6818_f0  denovo6870_f0  denovo7000_f0  denovo7078_f0  denovo7130_f0  denovo7156_f0  denovo7260_f0  denovo7338_f0  denovo7390_f0  denovo7416_f0  denovo7520_f0  denovo7546_f0  denovo7572_f0  denovo7624_f0  denovo7676_f0  denovo7702_f0  denovo7754_f0  denovo7806_f0  denovo7988_f0  denovo8040_f0  denovo8066_f0  denovo8222_f0  denovo8248_f0  denovo8274_f0  denovo8300_f0  denovo8404_f0  denovo8430_f0  denovo8456_f0  denovo8586_f0  denovo8638_f0  denovo8664_f0  denovo8690_f0  denovo8768_f0  denovo8820_f0  denovo8846_f0  denovo8898_f0  denovo8924_f0  denovo8950_f0  denovo8976_f0  denovo9002_f0  denovo9132_f0  denovo9158_f0  denovo9184_f0  denovo9314_f0  denovo9340_f0  denovo9366_f0  denovo9392_f0  denovo9444_f0  denovo9496_f0  denovo9548_f0  denovo9600_f0  denovo9678_f0  denovo9704_f0  denovo9730_f0  denovo9808_f0  denovo9834_f0  denovo9860_f0  denovo9886_f0  denovo9938_f0  denovo9964_f0  denovo9990_f0  denovo10068_f0 denovo10172_f0 denovo10198_f0 denovo10224_f0 denovo10276_f0 denovo10302_f0 denovo10354_f0 denovo10380_f0 denovo10406_f0 denovo10432_f0 denovo10484_f0 denovo10510_f0 denovo10536_f0 denovo10614_f0 denovo10666_f0 denovo10692_f0 denovo10770_f0 denovo10848_f0 denovo10874_f0 denovo10926_f0 denovo10978_f0 denovo11030_f0 denovo11082_f0 denovo11108_f0 denovo11160_f0 denovo11186_f0 denovo11238_f0 denovo11264_f0 denovo11316_f0 denovo11342_f0 denovo11446_f0 denovo11550_f0 denovo11914_f0 denovo11966_f0 denovo12070_f0 \n",
      "GNV129007                     denovo41_f0    denovo93_f0    denovo119_f0   denovo145_f0   denovo223_f0   denovo249_f0   denovo275_f0   denovo301_f0   denovo353_f0   denovo431_f0   denovo535_f0   denovo587_f0   denovo613_f0   denovo743_f0   denovo795_f0   denovo951_f0   denovo977_f0   denovo1055_f0  denovo1081_f0  denovo1159_f0  denovo1315_f0  denovo1497_f0  denovo1523_f0  denovo1653_f0  denovo1757_f0  denovo1783_f0  denovo1809_f0  denovo1965_f0  denovo2147_f0  denovo2199_f0  denovo2251_f0  denovo2277_f0  denovo2355_f0  denovo2459_f0  denovo2485_f0  denovo2511_f0  denovo2537_f0  denovo2589_f0  denovo2615_f0  denovo2667_f0  denovo2771_f0  denovo2797_f0  denovo2849_f0  denovo2875_f0  denovo2927_f0  denovo3005_f0  denovo3057_f0  denovo3161_f0  denovo3239_f0  denovo3265_f0  denovo3291_f0  denovo3317_f0  denovo3343_f0  denovo3447_f0  denovo3499_f0  denovo3603_f0  denovo3629_f0  denovo3681_f0  denovo3707_f0  denovo3733_f0  denovo3785_f0  denovo3863_f0  denovo3967_f0  denovo3993_f0  denovo4045_f0  denovo4071_f0  denovo4201_f0  denovo4305_f0  denovo4331_f0  denovo4357_f0  denovo4409_f0  denovo4461_f0  denovo4565_f0  denovo4643_f0  denovo4747_f0  denovo4773_f0  denovo4799_f0  denovo4851_f0  denovo4903_f0  denovo4929_f0  denovo4955_f0  denovo4981_f0  denovo5007_f0  denovo5215_f0  denovo5241_f0  denovo5267_f0  denovo5397_f0  denovo5449_f0  denovo5527_f0  denovo5605_f0  denovo5631_f0  denovo5657_f0  denovo5943_f0  denovo6021_f0  denovo6073_f0  denovo6125_f0  denovo6229_f0  denovo6255_f0  denovo6281_f0  denovo6593_f0  denovo6619_f0  denovo6697_f0  denovo6723_f0  denovo6775_f0  denovo6827_f0  denovo6879_f0  denovo7009_f0  denovo7087_f0  denovo7139_f0  denovo7165_f0  denovo7269_f0  denovo7347_f0  denovo7399_f0  denovo7425_f0  denovo7529_f0  denovo7555_f0  denovo7581_f0  denovo7633_f0  denovo7685_f0  denovo7711_f0  denovo7763_f0  denovo7815_f0  denovo7997_f0  denovo8049_f0  denovo8075_f0  denovo8231_f0  denovo8257_f0  denovo8283_f0  denovo8309_f0  denovo8413_f0  denovo8439_f0  denovo8465_f0  denovo8595_f0  denovo8647_f0  denovo8673_f0  denovo8699_f0  denovo8777_f0  denovo8829_f0  denovo8855_f0  denovo8907_f0  denovo8933_f0  denovo8959_f0  denovo8985_f0  denovo9011_f0  denovo9141_f0  denovo9167_f0  denovo9193_f0  denovo9323_f0  denovo9349_f0  denovo9375_f0  denovo9401_f0  denovo9453_f0  denovo9505_f0  denovo9557_f0  denovo9609_f0  denovo9687_f0  denovo9713_f0  denovo9739_f0  denovo9817_f0  denovo9843_f0  denovo9869_f0  denovo9895_f0  denovo9947_f0  denovo9973_f0  denovo9999_f0  denovo10077_f0 denovo10181_f0 denovo10207_f0 denovo10233_f0 denovo10285_f0 denovo10311_f0 denovo10363_f0 denovo10389_f0 denovo10415_f0 denovo10441_f0 denovo10493_f0 denovo10519_f0 denovo10545_f0 denovo10623_f0 denovo10675_f0 denovo10701_f0 denovo10779_f0 denovo10857_f0 denovo10883_f0 denovo10935_f0 denovo10987_f0 denovo11039_f0 denovo11091_f0 denovo11117_f0 denovo11169_f0 denovo11195_f0 denovo11247_f0 denovo11273_f0 denovo11325_f0 denovo11351_f0 denovo11455_f0 denovo11559_f0 denovo11923_f0 denovo11975_f0 denovo12079_f0 \n",
      "SW130126                      denovo50_f0    denovo102_f0   denovo128_f0   denovo154_f0   denovo232_f0   denovo258_f0   denovo284_f0   denovo310_f0   denovo362_f0   denovo440_f0   denovo544_f0   denovo596_f0   denovo622_f0   denovo752_f0   denovo804_f0   denovo960_f0   denovo986_f0   denovo1064_f0  denovo1090_f0  denovo1168_f0  denovo1324_f0  denovo1506_f0  denovo1532_f0  denovo1662_f0  denovo1766_f0  denovo1792_f0  denovo1818_f0  denovo1974_f0  denovo2156_f0  denovo2208_f0  denovo2260_f0  denovo2286_f0  denovo2364_f0  denovo2468_f0  denovo2494_f0  denovo2520_f0  denovo2546_f0  denovo2598_f0  denovo2624_f0  denovo2676_f0  denovo2780_f0  denovo2806_f0  denovo2858_f0  denovo2884_f0  denovo2936_f0  denovo3014_f0  denovo3066_f0  denovo3170_f0  denovo3248_f0  denovo3274_f0  denovo3300_f0  denovo3326_f0  denovo3352_f0  denovo3456_f0  denovo3508_f0  denovo3612_f0  denovo3638_f0  denovo3690_f0  denovo3716_f0  denovo3742_f0  denovo3794_f0  denovo3872_f0  denovo3976_f0  denovo4002_f0  denovo4054_f0  denovo4080_f0  denovo4210_f0  denovo4314_f0  denovo4340_f0  denovo4366_f0  denovo4418_f0  denovo4470_f0  denovo4574_f0  denovo4652_f0  denovo4756_f0  denovo4782_f0  denovo4808_f0  denovo4860_f0  denovo4912_f0  denovo4938_f0  denovo4964_f0  denovo4990_f0  denovo5016_f0  denovo5224_f0  denovo5250_f0  denovo5276_f0  denovo5406_f0  denovo5458_f0  denovo5536_f0  denovo5614_f0  denovo5640_f0  denovo5666_f0  denovo5952_f0  denovo6030_f0  denovo6082_f0  denovo6134_f0  denovo6238_f0  denovo6264_f0  denovo6290_f0  denovo6602_f0  denovo6628_f0  denovo6706_f0  denovo6732_f0  denovo6784_f0  denovo6836_f0  denovo6888_f0  denovo7018_f0  denovo7096_f0  denovo7148_f0  denovo7174_f0  denovo7278_f0  denovo7356_f0  denovo7408_f0  denovo7434_f0  denovo7538_f0  denovo7564_f0  denovo7590_f0  denovo7642_f0  denovo7694_f0  denovo7720_f0  denovo7772_f0  denovo7824_f0  denovo8006_f0  denovo8058_f0  denovo8084_f0  denovo8240_f0  denovo8266_f0  denovo8292_f0  denovo8318_f0  denovo8422_f0  denovo8448_f0  denovo8474_f0  denovo8604_f0  denovo8656_f0  denovo8682_f0  denovo8708_f0  denovo8786_f0  denovo8838_f0  denovo8864_f0  denovo8916_f0  denovo8942_f0  denovo8968_f0  denovo8994_f0  denovo9020_f0  denovo9150_f0  denovo9176_f0  denovo9202_f0  denovo9332_f0  denovo9358_f0  denovo9384_f0  denovo9410_f0  denovo9462_f0  denovo9514_f0  denovo9566_f0  denovo9618_f0  denovo9696_f0  denovo9722_f0  denovo9748_f0  denovo9826_f0  denovo9852_f0  denovo9878_f0  denovo9904_f0  denovo9956_f0  denovo9982_f0  denovo10008_f0 denovo10086_f0 denovo10190_f0 denovo10216_f0 denovo10242_f0 denovo10294_f0 denovo10320_f0 denovo10372_f0 denovo10398_f0 denovo10424_f0 denovo10450_f0 denovo10502_f0 denovo10528_f0 denovo10554_f0 denovo10632_f0 denovo10684_f0 denovo10710_f0 denovo10788_f0 denovo10866_f0 denovo10892_f0 denovo10944_f0 denovo10996_f0 denovo11048_f0 denovo11100_f0 denovo11126_f0 denovo11178_f0 denovo11204_f0 denovo11256_f0 denovo11282_f0 denovo11334_f0 denovo11360_f0 denovo11464_f0 denovo11568_f0 denovo11932_f0 denovo11984_f0 denovo12088_f0 \n",
      "SW130103                      denovo49_f0    denovo101_f0   denovo127_f0   denovo153_f0   denovo231_f0   denovo257_f0   denovo283_f0   denovo309_f0   denovo361_f0   denovo439_f0   denovo543_f0   denovo595_f0   denovo621_f0   denovo751_f0   denovo803_f0   denovo959_f0   denovo985_f0   denovo1063_f0  denovo1089_f0  denovo1167_f0  denovo1323_f0  denovo1505_f0  denovo1531_f0  denovo1661_f0  denovo1765_f0  denovo1791_f0  denovo1817_f0  denovo1973_f0  denovo2155_f0  denovo2207_f0  denovo2259_f0  denovo2285_f0  denovo2363_f0  denovo2467_f0  denovo2493_f0  denovo2519_f0  denovo2545_f0  denovo2597_f0  denovo2623_f0  denovo2675_f0  denovo2779_f0  denovo2805_f0  denovo2857_f0  denovo2883_f0  denovo2935_f0  denovo3013_f0  denovo3065_f0  denovo3169_f0  denovo3247_f0  denovo3273_f0  denovo3299_f0  denovo3325_f0  denovo3351_f0  denovo3455_f0  denovo3507_f0  denovo3611_f0  denovo3637_f0  denovo3689_f0  denovo3715_f0  denovo3741_f0  denovo3793_f0  denovo3871_f0  denovo3975_f0  denovo4001_f0  denovo4053_f0  denovo4079_f0  denovo4209_f0  denovo4313_f0  denovo4339_f0  denovo4365_f0  denovo4417_f0  denovo4469_f0  denovo4573_f0  denovo4651_f0  denovo4755_f0  denovo4781_f0  denovo4807_f0  denovo4859_f0  denovo4911_f0  denovo4937_f0  denovo4963_f0  denovo4989_f0  denovo5015_f0  denovo5223_f0  denovo5249_f0  denovo5275_f0  denovo5405_f0  denovo5457_f0  denovo5535_f0  denovo5613_f0  denovo5639_f0  denovo5665_f0  denovo5951_f0  denovo6029_f0  denovo6081_f0  denovo6133_f0  denovo6237_f0  denovo6263_f0  denovo6289_f0  denovo6601_f0  denovo6627_f0  denovo6705_f0  denovo6731_f0  denovo6783_f0  denovo6835_f0  denovo6887_f0  denovo7017_f0  denovo7095_f0  denovo7147_f0  denovo7173_f0  denovo7277_f0  denovo7355_f0  denovo7407_f0  denovo7433_f0  denovo7537_f0  denovo7563_f0  denovo7589_f0  denovo7641_f0  denovo7693_f0  denovo7719_f0  denovo7771_f0  denovo7823_f0  denovo8005_f0  denovo8057_f0  denovo8083_f0  denovo8239_f0  denovo8265_f0  denovo8291_f0  denovo8317_f0  denovo8421_f0  denovo8447_f0  denovo8473_f0  denovo8603_f0  denovo8655_f0  denovo8681_f0  denovo8707_f0  denovo8785_f0  denovo8837_f0  denovo8863_f0  denovo8915_f0  denovo8941_f0  denovo8967_f0  denovo8993_f0  denovo9019_f0  denovo9149_f0  denovo9175_f0  denovo9201_f0  denovo9331_f0  denovo9357_f0  denovo9383_f0  denovo9409_f0  denovo9461_f0  denovo9513_f0  denovo9565_f0  denovo9617_f0  denovo9695_f0  denovo9721_f0  denovo9747_f0  denovo9825_f0  denovo9851_f0  denovo9877_f0  denovo9903_f0  denovo9955_f0  denovo9981_f0  denovo10007_f0 denovo10085_f0 denovo10189_f0 denovo10215_f0 denovo10241_f0 denovo10293_f0 denovo10319_f0 denovo10371_f0 denovo10397_f0 denovo10423_f0 denovo10449_f0 denovo10501_f0 denovo10527_f0 denovo10553_f0 denovo10631_f0 denovo10683_f0 denovo10709_f0 denovo10787_f0 denovo10865_f0 denovo10891_f0 denovo10943_f0 denovo10995_f0 denovo11047_f0 denovo11099_f0 denovo11125_f0 denovo11177_f0 denovo11203_f0 denovo11255_f0 denovo11281_f0 denovo11333_f0 denovo11359_f0 denovo11463_f0 denovo11567_f0 denovo11931_f0 denovo11983_f0 denovo12087_f0 \n",
      "Callid                        denovo27_f0    denovo79_f0    denovo105_f0   denovo131_f0   denovo209_f0   denovo235_f0   denovo261_f0   denovo287_f0   denovo339_f0   denovo417_f0   denovo521_f0   denovo573_f0   denovo599_f0   denovo729_f0   denovo781_f0   denovo937_f0   denovo963_f0   denovo1041_f0  denovo1067_f0  denovo1145_f0  denovo1301_f0  denovo1483_f0  denovo1509_f0  denovo1639_f0  denovo1743_f0  denovo1769_f0  denovo1795_f0  denovo1951_f0  denovo2133_f0  denovo2185_f0  denovo2237_f0  denovo2263_f0  denovo2341_f0  denovo2445_f0  denovo2471_f0  denovo2497_f0  denovo2523_f0  denovo2575_f0  denovo2601_f0  denovo2653_f0  denovo2757_f0  denovo2783_f0  denovo2835_f0  denovo2861_f0  denovo2913_f0  denovo2991_f0  denovo3043_f0  denovo3147_f0  denovo3225_f0  denovo3251_f0  denovo3277_f0  denovo3303_f0  denovo3329_f0  denovo3433_f0  denovo3485_f0  denovo3589_f0  denovo3615_f0  denovo3667_f0  denovo3693_f0  denovo3719_f0  denovo3771_f0  denovo3849_f0  denovo3953_f0  denovo3979_f0  denovo4031_f0  denovo4057_f0  denovo4187_f0  denovo4291_f0  denovo4317_f0  denovo4343_f0  denovo4395_f0  denovo4447_f0  denovo4551_f0  denovo4629_f0  denovo4733_f0  denovo4759_f0  denovo4785_f0  denovo4837_f0  denovo4889_f0  denovo4915_f0  denovo4941_f0  denovo4967_f0  denovo4993_f0  denovo5201_f0  denovo5227_f0  denovo5253_f0  denovo5383_f0  denovo5435_f0  denovo5513_f0  denovo5591_f0  denovo5617_f0  denovo5643_f0  denovo5929_f0  denovo6007_f0  denovo6059_f0  denovo6111_f0  denovo6215_f0  denovo6241_f0  denovo6267_f0  denovo6579_f0  denovo6605_f0  denovo6683_f0  denovo6709_f0  denovo6761_f0  denovo6813_f0  denovo6865_f0  denovo6995_f0  denovo7073_f0  denovo7125_f0  denovo7151_f0  denovo7255_f0  denovo7333_f0  denovo7385_f0  denovo7411_f0  denovo7515_f0  denovo7541_f0  denovo7567_f0  denovo7619_f0  denovo7671_f0  denovo7697_f0  denovo7749_f0  denovo7801_f0  denovo7983_f0  denovo8035_f0  denovo8061_f0  denovo8217_f0  denovo8243_f0  denovo8269_f0  denovo8295_f0  denovo8399_f0  denovo8425_f0  denovo8451_f0  denovo8581_f0  denovo8633_f0  denovo8659_f0  denovo8685_f0  denovo8763_f0  denovo8815_f0  denovo8841_f0  denovo8893_f0  denovo8919_f0  denovo8945_f0  denovo8971_f0  denovo8997_f0  denovo9127_f0  denovo9153_f0  denovo9179_f0  denovo9309_f0  denovo9335_f0  denovo9361_f0  denovo9387_f0  denovo9439_f0  denovo9491_f0  denovo9543_f0  denovo9595_f0  denovo9673_f0  denovo9699_f0  denovo9725_f0  denovo9803_f0  denovo9829_f0  denovo9855_f0  denovo9881_f0  denovo9933_f0  denovo9959_f0  denovo9985_f0  denovo10063_f0 denovo10167_f0 denovo10193_f0 denovo10219_f0 denovo10271_f0 denovo10297_f0 denovo10349_f0 denovo10375_f0 denovo10401_f0 denovo10427_f0 denovo10479_f0 denovo10505_f0 denovo10531_f0 denovo10609_f0 denovo10661_f0 denovo10687_f0 denovo10765_f0 denovo10843_f0 denovo10869_f0 denovo10921_f0 denovo10973_f0 denovo11025_f0 denovo11077_f0 denovo11103_f0 denovo11155_f0 denovo11181_f0 denovo11233_f0 denovo11259_f0 denovo11311_f0 denovo11337_f0 denovo11441_f0 denovo11545_f0 denovo11909_f0 denovo11961_f0 denovo12065_f0 \n",
      "FG120070B                     denovo34_f0    denovo86_f0    denovo112_f0   denovo138_f0   denovo216_f0   denovo242_f0   denovo268_f0   denovo294_f0   denovo346_f0   denovo424_f0   denovo528_f0   denovo580_f0   denovo606_f0   denovo736_f0   denovo788_f0   denovo944_f0   denovo970_f0   denovo1048_f0  denovo1074_f0  denovo1152_f0  denovo1308_f0  denovo1490_f0  denovo1516_f0  denovo1646_f0  denovo1750_f0  denovo1776_f0  denovo1802_f0  denovo1958_f0  denovo2140_f0  denovo2192_f0  denovo2244_f0  denovo2270_f0  denovo2348_f0  denovo2452_f0  denovo2478_f0  denovo2504_f0  denovo2530_f0  denovo2582_f0  denovo2608_f0  denovo2660_f0  denovo2764_f0  denovo2790_f0  denovo2842_f0  denovo2868_f0  denovo2920_f0  denovo2998_f0  denovo3050_f0  denovo3154_f0  denovo3232_f0  denovo3258_f0  denovo3284_f0  denovo3310_f0  denovo3336_f0  denovo3440_f0  denovo3492_f0  denovo3596_f0  denovo3622_f0  denovo3674_f0  denovo3700_f0  denovo3726_f0  denovo3778_f0  denovo3856_f0  denovo3960_f0  denovo3986_f0  denovo4038_f0  denovo4064_f0  denovo4194_f0  denovo4298_f0  denovo4324_f0  denovo4350_f0  denovo4402_f0  denovo4454_f0  denovo4558_f0  denovo4636_f0  denovo4740_f0  denovo4766_f0  denovo4792_f0  denovo4844_f0  denovo4896_f0  denovo4922_f0  denovo4948_f0  denovo4974_f0  denovo5000_f0  denovo5208_f0  denovo5234_f0  denovo5260_f0  denovo5390_f0  denovo5442_f0  denovo5520_f0  denovo5598_f0  denovo5624_f0  denovo5650_f0  denovo5936_f0  denovo6014_f0  denovo6066_f0  denovo6118_f0  denovo6222_f0  denovo6248_f0  denovo6274_f0  denovo6586_f0  denovo6612_f0  denovo6690_f0  denovo6716_f0  denovo6768_f0  denovo6820_f0  denovo6872_f0  denovo7002_f0  denovo7080_f0  denovo7132_f0  denovo7158_f0  denovo7262_f0  denovo7340_f0  denovo7392_f0  denovo7418_f0  denovo7522_f0  denovo7548_f0  denovo7574_f0  denovo7626_f0  denovo7678_f0  denovo7704_f0  denovo7756_f0  denovo7808_f0  denovo7990_f0  denovo8042_f0  denovo8068_f0  denovo8224_f0  denovo8250_f0  denovo8276_f0  denovo8302_f0  denovo8406_f0  denovo8432_f0  denovo8458_f0  denovo8588_f0  denovo8640_f0  denovo8666_f0  denovo8692_f0  denovo8770_f0  denovo8822_f0  denovo8848_f0  denovo8900_f0  denovo8926_f0  denovo8952_f0  denovo8978_f0  denovo9004_f0  denovo9134_f0  denovo9160_f0  denovo9186_f0  denovo9316_f0  denovo9342_f0  denovo9368_f0  denovo9394_f0  denovo9446_f0  denovo9498_f0  denovo9550_f0  denovo9602_f0  denovo9680_f0  denovo9706_f0  denovo9732_f0  denovo9810_f0  denovo9836_f0  denovo9862_f0  denovo9888_f0  denovo9940_f0  denovo9966_f0  denovo9992_f0  denovo10070_f0 denovo10174_f0 denovo10200_f0 denovo10226_f0 denovo10278_f0 denovo10304_f0 denovo10356_f0 denovo10382_f0 denovo10408_f0 denovo10434_f0 denovo10486_f0 denovo10512_f0 denovo10538_f0 denovo10616_f0 denovo10668_f0 denovo10694_f0 denovo10772_f0 denovo10850_f0 denovo10876_f0 denovo10928_f0 denovo10980_f0 denovo11032_f0 denovo11084_f0 denovo11110_f0 denovo11162_f0 denovo11188_f0 denovo11240_f0 denovo11266_f0 denovo11318_f0 denovo11344_f0 denovo11448_f0 denovo11552_f0 denovo11916_f0 denovo11968_f0 denovo12072_f0 \n",
      "SW130007                      denovo48_f0    denovo100_f0   denovo126_f0   denovo152_f0   denovo230_f0   denovo256_f0   denovo282_f0   denovo308_f0   denovo360_f0   denovo438_f0   denovo542_f0   denovo594_f0   denovo620_f0   denovo750_f0   denovo802_f0   denovo958_f0   denovo984_f0   denovo1062_f0  denovo1088_f0  denovo1166_f0  denovo1322_f0  denovo1504_f0  denovo1530_f0  denovo1660_f0  denovo1764_f0  denovo1790_f0  denovo1816_f0  denovo1972_f0  denovo2154_f0  denovo2206_f0  denovo2258_f0  denovo2284_f0  denovo2362_f0  denovo2466_f0  denovo2492_f0  denovo2518_f0  denovo2544_f0  denovo2596_f0  denovo2622_f0  denovo2674_f0  denovo2778_f0  denovo2804_f0  denovo2856_f0  denovo2882_f0  denovo2934_f0  denovo3012_f0  denovo3064_f0  denovo3168_f0  denovo3246_f0  denovo3272_f0  denovo3298_f0  denovo3324_f0  denovo3350_f0  denovo3454_f0  denovo3506_f0  denovo3610_f0  denovo3636_f0  denovo3688_f0  denovo3714_f0  denovo3740_f0  denovo3792_f0  denovo3870_f0  denovo3974_f0  denovo4000_f0  denovo4052_f0  denovo4078_f0  denovo4208_f0  denovo4312_f0  denovo4338_f0  denovo4364_f0  denovo4416_f0  denovo4468_f0  denovo4572_f0  denovo4650_f0  denovo4754_f0  denovo4780_f0  denovo4806_f0  denovo4858_f0  denovo4910_f0  denovo4936_f0  denovo4962_f0  denovo4988_f0  denovo5014_f0  denovo5222_f0  denovo5248_f0  denovo5274_f0  denovo5404_f0  denovo5456_f0  denovo5534_f0  denovo5612_f0  denovo5638_f0  denovo5664_f0  denovo5950_f0  denovo6028_f0  denovo6080_f0  denovo6132_f0  denovo6236_f0  denovo6262_f0  denovo6288_f0  denovo6600_f0  denovo6626_f0  denovo6704_f0  denovo6730_f0  denovo6782_f0  denovo6834_f0  denovo6886_f0  denovo7016_f0  denovo7094_f0  denovo7146_f0  denovo7172_f0  denovo7276_f0  denovo7354_f0  denovo7406_f0  denovo7432_f0  denovo7536_f0  denovo7562_f0  denovo7588_f0  denovo7640_f0  denovo7692_f0  denovo7718_f0  denovo7770_f0  denovo7822_f0  denovo8004_f0  denovo8056_f0  denovo8082_f0  denovo8238_f0  denovo8264_f0  denovo8290_f0  denovo8316_f0  denovo8420_f0  denovo8446_f0  denovo8472_f0  denovo8602_f0  denovo8654_f0  denovo8680_f0  denovo8706_f0  denovo8784_f0  denovo8836_f0  denovo8862_f0  denovo8914_f0  denovo8940_f0  denovo8966_f0  denovo8992_f0  denovo9018_f0  denovo9148_f0  denovo9174_f0  denovo9200_f0  denovo9330_f0  denovo9356_f0  denovo9382_f0  denovo9408_f0  denovo9460_f0  denovo9512_f0  denovo9564_f0  denovo9616_f0  denovo9694_f0  denovo9720_f0  denovo9746_f0  denovo9824_f0  denovo9850_f0  denovo9876_f0  denovo9902_f0  denovo9954_f0  denovo9980_f0  denovo10006_f0 denovo10084_f0 denovo10188_f0 denovo10214_f0 denovo10240_f0 denovo10292_f0 denovo10318_f0 denovo10370_f0 denovo10396_f0 denovo10422_f0 denovo10448_f0 denovo10500_f0 denovo10526_f0 denovo10552_f0 denovo10630_f0 denovo10682_f0 denovo10708_f0 denovo10786_f0 denovo10864_f0 denovo10890_f0 denovo10942_f0 denovo10994_f0 denovo11046_f0 denovo11098_f0 denovo11124_f0 denovo11176_f0 denovo11202_f0 denovo11254_f0 denovo11280_f0 denovo11332_f0 denovo11358_f0 denovo11462_f0 denovo11566_f0 denovo11930_f0 denovo11982_f0 denovo12086_f0 \n",
      "GNV120032                     denovo40_f0    denovo92_f0    denovo118_f0   denovo144_f0   denovo222_f0   denovo248_f0   denovo274_f0   denovo300_f0   denovo352_f0   denovo430_f0   denovo534_f0   denovo586_f0   denovo612_f0   denovo742_f0   denovo794_f0   denovo950_f0   denovo976_f0   denovo1054_f0  denovo1080_f0  denovo1158_f0  denovo1314_f0  denovo1496_f0  denovo1522_f0  denovo1652_f0  denovo1756_f0  denovo1782_f0  denovo1808_f0  denovo1964_f0  denovo2146_f0  denovo2198_f0  denovo2250_f0  denovo2276_f0  denovo2354_f0  denovo2458_f0  denovo2484_f0  denovo2510_f0  denovo2536_f0  denovo2588_f0  denovo2614_f0  denovo2666_f0  denovo2770_f0  denovo2796_f0  denovo2848_f0  denovo2874_f0  denovo2926_f0  denovo3004_f0  denovo3056_f0  denovo3160_f0  denovo3238_f0  denovo3264_f0  denovo3290_f0  denovo3316_f0  denovo3342_f0  denovo3446_f0  denovo3498_f0  denovo3602_f0  denovo3628_f0  denovo3680_f0  denovo3706_f0  denovo3732_f0  denovo3784_f0  denovo3862_f0  denovo3966_f0  denovo3992_f0  denovo4044_f0  denovo4070_f0  denovo4200_f0  denovo4304_f0  denovo4330_f0  denovo4356_f0  denovo4408_f0  denovo4460_f0  denovo4564_f0  denovo4642_f0  denovo4746_f0  denovo4772_f0  denovo4798_f0  denovo4850_f0  denovo4902_f0  denovo4928_f0  denovo4954_f0  denovo4980_f0  denovo5006_f0  denovo5214_f0  denovo5240_f0  denovo5266_f0  denovo5396_f0  denovo5448_f0  denovo5526_f0  denovo5604_f0  denovo5630_f0  denovo5656_f0  denovo5942_f0  denovo6020_f0  denovo6072_f0  denovo6124_f0  denovo6228_f0  denovo6254_f0  denovo6280_f0  denovo6592_f0  denovo6618_f0  denovo6696_f0  denovo6722_f0  denovo6774_f0  denovo6826_f0  denovo6878_f0  denovo7008_f0  denovo7086_f0  denovo7138_f0  denovo7164_f0  denovo7268_f0  denovo7346_f0  denovo7398_f0  denovo7424_f0  denovo7528_f0  denovo7554_f0  denovo7580_f0  denovo7632_f0  denovo7684_f0  denovo7710_f0  denovo7762_f0  denovo7814_f0  denovo7996_f0  denovo8048_f0  denovo8074_f0  denovo8230_f0  denovo8256_f0  denovo8282_f0  denovo8308_f0  denovo8412_f0  denovo8438_f0  denovo8464_f0  denovo8594_f0  denovo8646_f0  denovo8672_f0  denovo8698_f0  denovo8776_f0  denovo8828_f0  denovo8854_f0  denovo8906_f0  denovo8932_f0  denovo8958_f0  denovo8984_f0  denovo9010_f0  denovo9140_f0  denovo9166_f0  denovo9192_f0  denovo9322_f0  denovo9348_f0  denovo9374_f0  denovo9400_f0  denovo9452_f0  denovo9504_f0  denovo9556_f0  denovo9608_f0  denovo9686_f0  denovo9712_f0  denovo9738_f0  denovo9816_f0  denovo9842_f0  denovo9868_f0  denovo9894_f0  denovo9946_f0  denovo9972_f0  denovo9998_f0  denovo10076_f0 denovo10180_f0 denovo10206_f0 denovo10232_f0 denovo10284_f0 denovo10310_f0 denovo10362_f0 denovo10388_f0 denovo10414_f0 denovo10440_f0 denovo10492_f0 denovo10518_f0 denovo10544_f0 denovo10622_f0 denovo10674_f0 denovo10700_f0 denovo10778_f0 denovo10856_f0 denovo10882_f0 denovo10934_f0 denovo10986_f0 denovo11038_f0 denovo11090_f0 denovo11116_f0 denovo11168_f0 denovo11194_f0 denovo11246_f0 denovo11272_f0 denovo11324_f0 denovo11350_f0 denovo11454_f0 denovo11558_f0 denovo11922_f0 denovo11974_f0 denovo12078_f0 \n",
      "PXYLO                         denovo44_f0    denovo96_f0    denovo122_f0   denovo148_f0   denovo226_f0   denovo252_f0   denovo278_f0   denovo304_f0   denovo356_f0   denovo434_f0   denovo538_f0   denovo590_f0   denovo616_f0   denovo746_f0   denovo798_f0   denovo954_f0   denovo980_f0   denovo1058_f0  denovo1084_f0  denovo1162_f0  denovo1318_f0  denovo1500_f0  denovo1526_f0  denovo1656_f0  denovo1760_f0  denovo1786_f0  denovo1812_f0  denovo1968_f0  denovo2150_f0  denovo2202_f0  denovo2254_f0  denovo2280_f0  denovo2358_f0  denovo2462_f0  denovo2488_f0  denovo2514_f0  denovo2540_f0  denovo2592_f0  denovo2618_f0  denovo2670_f0  denovo2774_f0  denovo2800_f0  denovo2852_f0  denovo2878_f0  denovo2930_f0  denovo3008_f0  denovo3060_f0  denovo3164_f0  denovo3242_f0  denovo3268_f0  denovo3294_f0  denovo3320_f0  denovo3346_f0  denovo3450_f0  denovo3502_f0  denovo3606_f0  denovo3632_f0  denovo3684_f0  denovo3710_f0  denovo3736_f0  denovo3788_f0  denovo3866_f0  denovo3970_f0  denovo3996_f0  denovo4048_f0  denovo4074_f0  denovo4204_f0  denovo4308_f0  denovo4334_f0  denovo4360_f0  denovo4412_f0  denovo4464_f0  denovo4568_f0  denovo4646_f0  denovo4750_f0  denovo4776_f0  denovo4802_f0  denovo4854_f0  denovo4906_f0  denovo4932_f0  denovo4958_f0  denovo4984_f0  denovo5010_f0  denovo5218_f0  denovo5244_f0  denovo5270_f0  denovo5400_f0  denovo5452_f0  denovo5530_f0  denovo5608_f0  denovo5634_f0  denovo5660_f0  denovo5946_f0  denovo6024_f0  denovo6076_f0  denovo6128_f0  denovo6232_f0  denovo6258_f0  denovo6284_f0  denovo6596_f0  denovo6622_f0  denovo6700_f0  denovo6726_f0  denovo6778_f0  denovo6830_f0  denovo6882_f0  denovo7012_f0  denovo7090_f0  denovo7142_f0  denovo7168_f0  denovo7272_f0  denovo7350_f0  denovo7402_f0  denovo7428_f0  denovo7532_f0  denovo7558_f0  denovo7584_f0  denovo7636_f0  denovo7688_f0  denovo7714_f0  denovo7766_f0  denovo7818_f0  denovo8000_f0  denovo8052_f0  denovo8078_f0  denovo8234_f0  denovo8260_f0  denovo8286_f0  denovo8312_f0  denovo8416_f0  denovo8442_f0  denovo8468_f0  denovo8598_f0  denovo8650_f0  denovo8676_f0  denovo8702_f0  denovo8780_f0  denovo8832_f0  denovo8858_f0  denovo8910_f0  denovo8936_f0  denovo8962_f0  denovo8988_f0  denovo9014_f0  denovo9144_f0  denovo9170_f0  denovo9196_f0  denovo9326_f0  denovo9352_f0  denovo9378_f0  denovo9404_f0  denovo9456_f0  denovo9508_f0  denovo9560_f0  denovo9612_f0  denovo9690_f0  denovo9716_f0  denovo9742_f0  denovo9820_f0  denovo9846_f0  denovo9872_f0  denovo9898_f0  denovo9950_f0  denovo9976_f0  denovo10002_f0 denovo10080_f0 denovo10184_f0 denovo10210_f0 denovo10236_f0 denovo10288_f0 denovo10314_f0 denovo10366_f0 denovo10392_f0 denovo10418_f0 denovo10444_f0 denovo10496_f0 denovo10522_f0 denovo10548_f0 denovo10626_f0 denovo10678_f0 denovo10704_f0 denovo10782_f0 denovo10860_f0 denovo10886_f0 denovo10938_f0 denovo10990_f0 denovo11042_f0 denovo11094_f0 denovo11120_f0 denovo11172_f0 denovo11198_f0 denovo11250_f0 denovo11276_f0 denovo11328_f0 denovo11354_f0 denovo11458_f0 denovo11562_f0 denovo11926_f0 denovo11978_f0 denovo12082_f0 \n",
      "FG120079                      denovo37_f0    denovo89_f0    denovo115_f0   denovo141_f0   denovo219_f0   denovo245_f0   denovo271_f0   denovo297_f0   denovo349_f0   denovo427_f0   denovo531_f0   denovo583_f0   denovo609_f0   denovo739_f0   denovo791_f0   denovo947_f0   denovo973_f0   denovo1051_f0  denovo1077_f0  denovo1155_f0  denovo1311_f0  denovo1493_f0  denovo1519_f0  denovo1649_f0  denovo1753_f0  denovo1779_f0  denovo1805_f0  denovo1961_f0  denovo2143_f0  denovo2195_f0  denovo2247_f0  denovo2273_f0  denovo2351_f0  denovo2455_f0  denovo2481_f0  denovo2507_f0  denovo2533_f0  denovo2585_f0  denovo2611_f0  denovo2663_f0  denovo2767_f0  denovo2793_f0  denovo2845_f0  denovo2871_f0  denovo2923_f0  denovo3001_f0  denovo3053_f0  denovo3157_f0  denovo3235_f0  denovo3261_f0  denovo3287_f0  denovo3313_f0  denovo3339_f0  denovo3443_f0  denovo3495_f0  denovo3599_f0  denovo3625_f0  denovo3677_f0  denovo3703_f0  denovo3729_f0  denovo3781_f0  denovo3859_f0  denovo3963_f0  denovo3989_f0  denovo4041_f0  denovo4067_f0  denovo4197_f0  denovo4301_f0  denovo4327_f0  denovo4353_f0  denovo4405_f0  denovo4457_f0  denovo4561_f0  denovo4639_f0  denovo4743_f0  denovo4769_f0  denovo4795_f0  denovo4847_f0  denovo4899_f0  denovo4925_f0  denovo4951_f0  denovo4977_f0  denovo5003_f0  denovo5211_f0  denovo5237_f0  denovo5263_f0  denovo5393_f0  denovo5445_f0  denovo5523_f0  denovo5601_f0  denovo5627_f0  denovo5653_f0  denovo5939_f0  denovo6017_f0  denovo6069_f0  denovo6121_f0  denovo6225_f0  denovo6251_f0  denovo6277_f0  denovo6589_f0  denovo6615_f0  denovo6693_f0  denovo6719_f0  denovo6771_f0  denovo6823_f0  denovo6875_f0  denovo7005_f0  denovo7083_f0  denovo7135_f0  denovo7161_f0  denovo7265_f0  denovo7343_f0  denovo7395_f0  denovo7421_f0  denovo7525_f0  denovo7551_f0  denovo7577_f0  denovo7629_f0  denovo7681_f0  denovo7707_f0  denovo7759_f0  denovo7811_f0  denovo7993_f0  denovo8045_f0  denovo8071_f0  denovo8227_f0  denovo8253_f0  denovo8279_f0  denovo8305_f0  denovo8409_f0  denovo8435_f0  denovo8461_f0  denovo8591_f0  denovo8643_f0  denovo8669_f0  denovo8695_f0  denovo8773_f0  denovo8825_f0  denovo8851_f0  denovo8903_f0  denovo8929_f0  denovo8955_f0  denovo8981_f0  denovo9007_f0  denovo9137_f0  denovo9163_f0  denovo9189_f0  denovo9319_f0  denovo9345_f0  denovo9371_f0  denovo9397_f0  denovo9449_f0  denovo9501_f0  denovo9553_f0  denovo9605_f0  denovo9683_f0  denovo9709_f0  denovo9735_f0  denovo9813_f0  denovo9839_f0  denovo9865_f0  denovo9891_f0  denovo9943_f0  denovo9969_f0  denovo9995_f0  denovo10073_f0 denovo10177_f0 denovo10203_f0 denovo10229_f0 denovo10281_f0 denovo10307_f0 denovo10359_f0 denovo10385_f0 denovo10411_f0 denovo10437_f0 denovo10489_f0 denovo10515_f0 denovo10541_f0 denovo10619_f0 denovo10671_f0 denovo10697_f0 denovo10775_f0 denovo10853_f0 denovo10879_f0 denovo10931_f0 denovo10983_f0 denovo11035_f0 denovo11087_f0 denovo11113_f0 denovo11165_f0 denovo11191_f0 denovo11243_f0 denovo11269_f0 denovo11321_f0 denovo11347_f0 denovo11451_f0 denovo11555_f0 denovo11919_f0 denovo11971_f0 denovo12075_f0 \n",
      "SRR850324                     denovo47_f0    denovo99_f0    denovo125_f0   denovo151_f0   denovo229_f0   denovo255_f0   denovo281_f0   denovo307_f0   denovo359_f0   denovo437_f0   denovo541_f0   denovo593_f0   denovo619_f0   denovo749_f0   denovo801_f0   denovo957_f0   denovo983_f0   denovo1061_f0  denovo1087_f0  denovo1165_f0  denovo1321_f0  denovo1503_f0  denovo1529_f0  denovo1659_f0  denovo1763_f0  denovo1789_f0  denovo1815_f0  denovo1971_f0  denovo2153_f0  denovo2205_f0  denovo2257_f0  denovo2283_f0  denovo2361_f0  denovo2465_f0  denovo2491_f0  denovo2517_f0  denovo2543_f0  denovo2595_f0  denovo2621_f0  denovo2673_f0  denovo2777_f0  denovo2803_f0  denovo2855_f0  denovo2881_f0  denovo2933_f0  denovo3011_f0  denovo3063_f0  denovo3167_f0  denovo3245_f0  denovo3271_f0  denovo3297_f0  denovo3323_f0  denovo3349_f0  denovo3453_f0  denovo3505_f0  denovo3609_f0  denovo3635_f0  denovo3687_f0  denovo3713_f0  denovo3739_f0  denovo3791_f0  denovo3869_f0  denovo3973_f0  denovo3999_f0  denovo4051_f0  denovo4077_f0  denovo4207_f0  denovo4311_f0  denovo4337_f0  denovo4363_f0  denovo4415_f0  denovo4467_f0  denovo4571_f0  denovo4649_f0  denovo4753_f0  denovo4779_f0  denovo4805_f0  denovo4857_f0  denovo4909_f0  denovo4935_f0  denovo4961_f0  denovo4987_f0  denovo5013_f0  denovo5221_f0  denovo5247_f0  denovo5273_f0  denovo5403_f0  denovo5455_f0  denovo5533_f0  denovo5611_f0  denovo5637_f0  denovo5663_f0  denovo5949_f0  denovo6027_f0  denovo6079_f0  denovo6131_f0  denovo6235_f0  denovo6261_f0  denovo6287_f0  denovo6599_f0  denovo6625_f0  denovo6703_f0  denovo6729_f0  denovo6781_f0  denovo6833_f0  denovo6885_f0  denovo7015_f0  denovo7093_f0  denovo7145_f0  denovo7171_f0  denovo7275_f0  denovo7353_f0  denovo7405_f0  denovo7431_f0  denovo7535_f0  denovo7561_f0  denovo7587_f0  denovo7639_f0  denovo7691_f0  denovo7717_f0  denovo7769_f0  denovo7821_f0  denovo8003_f0  denovo8055_f0  denovo8081_f0  denovo8237_f0  denovo8263_f0  denovo8289_f0  denovo8315_f0  denovo8419_f0  denovo8445_f0  denovo8471_f0  denovo8601_f0  denovo8653_f0  denovo8679_f0  denovo8705_f0  denovo8783_f0  denovo8835_f0  denovo8861_f0  denovo8913_f0  denovo8939_f0  denovo8965_f0  denovo8991_f0  denovo9017_f0  denovo9147_f0  denovo9173_f0  denovo9199_f0  denovo9329_f0  denovo9355_f0  denovo9381_f0  denovo9407_f0  denovo9459_f0  denovo9511_f0  denovo9563_f0  denovo9615_f0  denovo9693_f0  denovo9719_f0  denovo9745_f0  denovo9823_f0  denovo9849_f0  denovo9875_f0  denovo9901_f0  denovo9953_f0  denovo9979_f0  denovo10005_f0 denovo10083_f0 denovo10187_f0 denovo10213_f0 denovo10239_f0 denovo10291_f0 denovo10317_f0 denovo10369_f0 denovo10395_f0 denovo10421_f0 denovo10447_f0 denovo10499_f0 denovo10525_f0 denovo10551_f0 denovo10629_f0 denovo10681_f0 denovo10707_f0 denovo10785_f0 denovo10863_f0 denovo10889_f0 denovo10941_f0 denovo10993_f0 denovo11045_f0 denovo11097_f0 denovo11123_f0 denovo11175_f0 denovo11201_f0 denovo11253_f0 denovo11279_f0 denovo11331_f0 denovo11357_f0 denovo11461_f0 denovo11565_f0 denovo11929_f0 denovo11981_f0 denovo12085_f0 \n",
      "FG120055B                     denovo33_f0    denovo85_f0    denovo111_f0   denovo137_f0   denovo215_f0   denovo241_f0   denovo267_f0   denovo293_f0   denovo345_f0   denovo423_f0   denovo527_f0   denovo579_f0   denovo605_f0   denovo735_f0   denovo787_f0   denovo943_f0   denovo969_f0   denovo1047_f0  denovo1073_f0  denovo1151_f0  denovo1307_f0  denovo1489_f0  denovo1515_f0  denovo1645_f0  denovo1749_f0  denovo1775_f0  denovo1801_f0  denovo1957_f0  denovo2139_f0  denovo2191_f0  denovo2243_f0  denovo2269_f0  denovo2347_f0  denovo2451_f0  denovo2477_f0  denovo2503_f0  denovo2529_f0  denovo2581_f0  denovo2607_f0  denovo2659_f0  denovo2763_f0  denovo2789_f0  denovo2841_f0  denovo2867_f0  denovo2919_f0  denovo2997_f0  denovo3049_f0  denovo3153_f0  denovo3231_f0  denovo3257_f0  denovo3283_f0  denovo3309_f0  denovo3335_f0  denovo3439_f0  denovo3491_f0  denovo3595_f0  denovo3621_f0  denovo3673_f0  denovo3699_f0  denovo3725_f0  denovo3777_f0  denovo3855_f0  denovo3959_f0  denovo3985_f0  denovo4037_f0  denovo4063_f0  denovo4193_f0  denovo4297_f0  denovo4323_f0  denovo4349_f0  denovo4401_f0  denovo4453_f0  denovo4557_f0  denovo4635_f0  denovo4739_f0  denovo4765_f0  denovo4791_f0  denovo4843_f0  denovo4895_f0  denovo4921_f0  denovo4947_f0  denovo4973_f0  denovo4999_f0  denovo5207_f0  denovo5233_f0  denovo5259_f0  denovo5389_f0  denovo5441_f0  denovo5519_f0  denovo5597_f0  denovo5623_f0  denovo5649_f0  denovo5935_f0  denovo6013_f0  denovo6065_f0  denovo6117_f0  denovo6221_f0  denovo6247_f0  denovo6273_f0  denovo6585_f0  denovo6611_f0  denovo6689_f0  denovo6715_f0  denovo6767_f0  denovo6819_f0  denovo6871_f0  denovo7001_f0  denovo7079_f0  denovo7131_f0  denovo7157_f0  denovo7261_f0  denovo7339_f0  denovo7391_f0  denovo7417_f0  denovo7521_f0  denovo7547_f0  denovo7573_f0  denovo7625_f0  denovo7677_f0  denovo7703_f0  denovo7755_f0  denovo7807_f0  denovo7989_f0  denovo8041_f0  denovo8067_f0  denovo8223_f0  denovo8249_f0  denovo8275_f0  denovo8301_f0  denovo8405_f0  denovo8431_f0  denovo8457_f0  denovo8587_f0  denovo8639_f0  denovo8665_f0  denovo8691_f0  denovo8769_f0  denovo8821_f0  denovo8847_f0  denovo8899_f0  denovo8925_f0  denovo8951_f0  denovo8977_f0  denovo9003_f0  denovo9133_f0  denovo9159_f0  denovo9185_f0  denovo9315_f0  denovo9341_f0  denovo9367_f0  denovo9393_f0  denovo9445_f0  denovo9497_f0  denovo9549_f0  denovo9601_f0  denovo9679_f0  denovo9705_f0  denovo9731_f0  denovo9809_f0  denovo9835_f0  denovo9861_f0  denovo9887_f0  denovo9939_f0  denovo9965_f0  denovo9991_f0  denovo10069_f0 denovo10173_f0 denovo10199_f0 denovo10225_f0 denovo10277_f0 denovo10303_f0 denovo10355_f0 denovo10381_f0 denovo10407_f0 denovo10433_f0 denovo10485_f0 denovo10511_f0 denovo10537_f0 denovo10615_f0 denovo10667_f0 denovo10693_f0 denovo10771_f0 denovo10849_f0 denovo10875_f0 denovo10927_f0 denovo10979_f0 denovo11031_f0 denovo11083_f0 denovo11109_f0 denovo11161_f0 denovo11187_f0 denovo11239_f0 denovo11265_f0 denovo11317_f0 denovo11343_f0 denovo11447_f0 denovo11551_f0 denovo11915_f0 denovo11967_f0 denovo12071_f0 \n",
      "FG120122                      denovo38_f0    denovo90_f0    denovo116_f0   denovo142_f0   denovo220_f0   denovo246_f0   denovo272_f0   denovo298_f0   denovo350_f0   denovo428_f0   denovo532_f0   denovo584_f0   denovo610_f0   denovo740_f0   denovo792_f0   denovo948_f0   denovo974_f0   denovo1052_f0  denovo1078_f0  denovo1156_f0  denovo1312_f0  denovo1494_f0  denovo1520_f0  denovo1650_f0  denovo1754_f0  denovo1780_f0  denovo1806_f0  denovo1962_f0  denovo2144_f0  denovo2196_f0  denovo2248_f0  denovo2274_f0  denovo2352_f0  denovo2456_f0  denovo2482_f0  denovo2508_f0  denovo2534_f0  denovo2586_f0  denovo2612_f0  denovo2664_f0  denovo2768_f0  denovo2794_f0  denovo2846_f0  denovo2872_f0  denovo2924_f0  denovo3002_f0  denovo3054_f0  denovo3158_f0  denovo3236_f0  denovo3262_f0  denovo3288_f0  denovo3314_f0  denovo3340_f0  denovo3444_f0  denovo3496_f0  denovo3600_f0  denovo3626_f0  denovo3678_f0  denovo3704_f0  denovo3730_f0  denovo3782_f0  denovo3860_f0  denovo3964_f0  denovo3990_f0  denovo4042_f0  denovo4068_f0  denovo4198_f0  denovo4302_f0  denovo4328_f0  denovo4354_f0  denovo4406_f0  denovo4458_f0  denovo4562_f0  denovo4640_f0  denovo4744_f0  denovo4770_f0  denovo4796_f0  denovo4848_f0  denovo4900_f0  denovo4926_f0  denovo4952_f0  denovo4978_f0  denovo5004_f0  denovo5212_f0  denovo5238_f0  denovo5264_f0  denovo5394_f0  denovo5446_f0  denovo5524_f0  denovo5602_f0  denovo5628_f0  denovo5654_f0  denovo5940_f0  denovo6018_f0  denovo6070_f0  denovo6122_f0  denovo6226_f0  denovo6252_f0  denovo6278_f0  denovo6590_f0  denovo6616_f0  denovo6694_f0  denovo6720_f0  denovo6772_f0  denovo6824_f0  denovo6876_f0  denovo7006_f0  denovo7084_f0  denovo7136_f0  denovo7162_f0  denovo7266_f0  denovo7344_f0  denovo7396_f0  denovo7422_f0  denovo7526_f0  denovo7552_f0  denovo7578_f0  denovo7630_f0  denovo7682_f0  denovo7708_f0  denovo7760_f0  denovo7812_f0  denovo7994_f0  denovo8046_f0  denovo8072_f0  denovo8228_f0  denovo8254_f0  denovo8280_f0  denovo8306_f0  denovo8410_f0  denovo8436_f0  denovo8462_f0  denovo8592_f0  denovo8644_f0  denovo8670_f0  denovo8696_f0  denovo8774_f0  denovo8826_f0  denovo8852_f0  denovo8904_f0  denovo8930_f0  denovo8956_f0  denovo8982_f0  denovo9008_f0  denovo9138_f0  denovo9164_f0  denovo9190_f0  denovo9320_f0  denovo9346_f0  denovo9372_f0  denovo9398_f0  denovo9450_f0  denovo9502_f0  denovo9554_f0  denovo9606_f0  denovo9684_f0  denovo9710_f0  denovo9736_f0  denovo9814_f0  denovo9840_f0  denovo9866_f0  denovo9892_f0  denovo9944_f0  denovo9970_f0  denovo9996_f0  denovo10074_f0 denovo10178_f0 denovo10204_f0 denovo10230_f0 denovo10282_f0 denovo10308_f0 denovo10360_f0 denovo10386_f0 denovo10412_f0 denovo10438_f0 denovo10490_f0 denovo10516_f0 denovo10542_f0 denovo10620_f0 denovo10672_f0 denovo10698_f0 denovo10776_f0 denovo10854_f0 denovo10880_f0 denovo10932_f0 denovo10984_f0 denovo11036_f0 denovo11088_f0 denovo11114_f0 denovo11166_f0 denovo11192_f0 denovo11244_f0 denovo11270_f0 denovo11322_f0 denovo11348_f0 denovo11452_f0 denovo11556_f0 denovo11920_f0 denovo11972_f0 denovo12076_f0 \n",
      "FG120024                      denovo30_f0    denovo82_f0    denovo108_f0   denovo134_f0   denovo212_f0   denovo238_f0   denovo264_f0   denovo290_f0   denovo342_f0   denovo420_f0   denovo524_f0   denovo576_f0   denovo602_f0   denovo732_f0   denovo784_f0   denovo940_f0   denovo966_f0   denovo1044_f0  denovo1070_f0  denovo1148_f0  denovo1304_f0  denovo1486_f0  denovo1512_f0  denovo1642_f0  denovo1746_f0  denovo1772_f0  denovo1798_f0  denovo1954_f0  denovo2136_f0  denovo2188_f0  denovo2240_f0  denovo2266_f0  denovo2344_f0  denovo2448_f0  denovo2474_f0  denovo2500_f0  denovo2526_f0  denovo2578_f0  denovo2604_f0  denovo2656_f0  denovo2760_f0  denovo2786_f0  denovo2838_f0  denovo2864_f0  denovo2916_f0  denovo2994_f0  denovo3046_f0  denovo3150_f0  denovo3228_f0  denovo3254_f0  denovo3280_f0  denovo3306_f0  denovo3332_f0  denovo3436_f0  denovo3488_f0  denovo3592_f0  denovo3618_f0  denovo3670_f0  denovo3696_f0  denovo3722_f0  denovo3774_f0  denovo3852_f0  denovo3956_f0  denovo3982_f0  denovo4034_f0  denovo4060_f0  denovo4190_f0  denovo4294_f0  denovo4320_f0  denovo4346_f0  denovo4398_f0  denovo4450_f0  denovo4554_f0  denovo4632_f0  denovo4736_f0  denovo4762_f0  denovo4788_f0  denovo4840_f0  denovo4892_f0  denovo4918_f0  denovo4944_f0  denovo4970_f0  denovo4996_f0  denovo5204_f0  denovo5230_f0  denovo5256_f0  denovo5386_f0  denovo5438_f0  denovo5516_f0  denovo5594_f0  denovo5620_f0  denovo5646_f0  denovo5932_f0  denovo6010_f0  denovo6062_f0  denovo6114_f0  denovo6218_f0  denovo6244_f0  denovo6270_f0  denovo6582_f0  denovo6608_f0  denovo6686_f0  denovo6712_f0  denovo6764_f0  denovo6816_f0  denovo6868_f0  denovo6998_f0  denovo7076_f0  denovo7128_f0  denovo7154_f0  denovo7258_f0  denovo7336_f0  denovo7388_f0  denovo7414_f0  denovo7518_f0  denovo7544_f0  denovo7570_f0  denovo7622_f0  denovo7674_f0  denovo7700_f0  denovo7752_f0  denovo7804_f0  denovo7986_f0  denovo8038_f0  denovo8064_f0  denovo8220_f0  denovo8246_f0  denovo8272_f0  denovo8298_f0  denovo8402_f0  denovo8428_f0  denovo8454_f0  denovo8584_f0  denovo8636_f0  denovo8662_f0  denovo8688_f0  denovo8766_f0  denovo8818_f0  denovo8844_f0  denovo8896_f0  denovo8922_f0  denovo8948_f0  denovo8974_f0  denovo9000_f0  denovo9130_f0  denovo9156_f0  denovo9182_f0  denovo9312_f0  denovo9338_f0  denovo9364_f0  denovo9390_f0  denovo9442_f0  denovo9494_f0  denovo9546_f0  denovo9598_f0  denovo9676_f0  denovo9702_f0  denovo9728_f0  denovo9806_f0  denovo9832_f0  denovo9858_f0  denovo9884_f0  denovo9936_f0  denovo9962_f0  denovo9988_f0  denovo10066_f0 denovo10170_f0 denovo10196_f0 denovo10222_f0 denovo10274_f0 denovo10300_f0 denovo10352_f0 denovo10378_f0 denovo10404_f0 denovo10430_f0 denovo10482_f0 denovo10508_f0 denovo10534_f0 denovo10612_f0 denovo10664_f0 denovo10690_f0 denovo10768_f0 denovo10846_f0 denovo10872_f0 denovo10924_f0 denovo10976_f0 denovo11028_f0 denovo11080_f0 denovo11106_f0 denovo11158_f0 denovo11184_f0 denovo11236_f0 denovo11262_f0 denovo11314_f0 denovo11340_f0 denovo11444_f0 denovo11548_f0 denovo11912_f0 denovo11964_f0 denovo12068_f0 \n",
      "FG120022                      denovo29_f0    denovo81_f0    denovo107_f0   denovo133_f0   denovo211_f0   denovo237_f0   denovo263_f0   denovo289_f0   denovo341_f0   denovo419_f0   denovo523_f0   denovo575_f0   denovo601_f0   denovo731_f0   denovo783_f0   denovo939_f0   denovo965_f0   denovo1043_f0  denovo1069_f0  denovo1147_f0  denovo1303_f0  denovo1485_f0  denovo1511_f0  denovo1641_f0  denovo1745_f0  denovo1771_f0  denovo1797_f0  denovo1953_f0  denovo2135_f0  denovo2187_f0  denovo2239_f0  denovo2265_f0  denovo2343_f0  denovo2447_f0  denovo2473_f0  denovo2499_f0  denovo2525_f0  denovo2577_f0  denovo2603_f0  denovo2655_f0  denovo2759_f0  denovo2785_f0  denovo2837_f0  denovo2863_f0  denovo2915_f0  denovo2993_f0  denovo3045_f0  denovo3149_f0  denovo3227_f0  denovo3253_f0  denovo3279_f0  denovo3305_f0  denovo3331_f0  denovo3435_f0  denovo3487_f0  denovo3591_f0  denovo3617_f0  denovo3669_f0  denovo3695_f0  denovo3721_f0  denovo3773_f0  denovo3851_f0  denovo3955_f0  denovo3981_f0  denovo4033_f0  denovo4059_f0  denovo4189_f0  denovo4293_f0  denovo4319_f0  denovo4345_f0  denovo4397_f0  denovo4449_f0  denovo4553_f0  denovo4631_f0  denovo4735_f0  denovo4761_f0  denovo4787_f0  denovo4839_f0  denovo4891_f0  denovo4917_f0  denovo4943_f0  denovo4969_f0  denovo4995_f0  denovo5203_f0  denovo5229_f0  denovo5255_f0  denovo5385_f0  denovo5437_f0  denovo5515_f0  denovo5593_f0  denovo5619_f0  denovo5645_f0  denovo5931_f0  denovo6009_f0  denovo6061_f0  denovo6113_f0  denovo6217_f0  denovo6243_f0  denovo6269_f0  denovo6581_f0  denovo6607_f0  denovo6685_f0  denovo6711_f0  denovo6763_f0  denovo6815_f0  denovo6867_f0  denovo6997_f0  denovo7075_f0  denovo7127_f0  denovo7153_f0  denovo7257_f0  denovo7335_f0  denovo7387_f0  denovo7413_f0  denovo7517_f0  denovo7543_f0  denovo7569_f0  denovo7621_f0  denovo7673_f0  denovo7699_f0  denovo7751_f0  denovo7803_f0  denovo7985_f0  denovo8037_f0  denovo8063_f0  denovo8219_f0  denovo8245_f0  denovo8271_f0  denovo8297_f0  denovo8401_f0  denovo8427_f0  denovo8453_f0  denovo8583_f0  denovo8635_f0  denovo8661_f0  denovo8687_f0  denovo8765_f0  denovo8817_f0  denovo8843_f0  denovo8895_f0  denovo8921_f0  denovo8947_f0  denovo8973_f0  denovo8999_f0  denovo9129_f0  denovo9155_f0  denovo9181_f0  denovo9311_f0  denovo9337_f0  denovo9363_f0  denovo9389_f0  denovo9441_f0  denovo9493_f0  denovo9545_f0  denovo9597_f0  denovo9675_f0  denovo9701_f0  denovo9727_f0  denovo9805_f0  denovo9831_f0  denovo9857_f0  denovo9883_f0  denovo9935_f0  denovo9961_f0  denovo9987_f0  denovo10065_f0 denovo10169_f0 denovo10195_f0 denovo10221_f0 denovo10273_f0 denovo10299_f0 denovo10351_f0 denovo10377_f0 denovo10403_f0 denovo10429_f0 denovo10481_f0 denovo10507_f0 denovo10533_f0 denovo10611_f0 denovo10663_f0 denovo10689_f0 denovo10767_f0 denovo10845_f0 denovo10871_f0 denovo10923_f0 denovo10975_f0 denovo11027_f0 denovo11079_f0 denovo11105_f0 denovo11157_f0 denovo11183_f0 denovo11235_f0 denovo11261_f0 denovo11313_f0 denovo11339_f0 denovo11443_f0 denovo11547_f0 denovo11911_f0 denovo11963_f0 denovo12067_f0 \n",
      "GNV139000                     denovo42_f0    denovo94_f0    denovo120_f0   denovo146_f0   denovo224_f0   denovo250_f0   denovo276_f0   denovo302_f0   denovo354_f0   denovo432_f0   denovo536_f0   denovo588_f0   denovo614_f0   denovo744_f0   denovo796_f0   denovo952_f0   denovo978_f0   denovo1056_f0  denovo1082_f0  denovo1160_f0  denovo1316_f0  denovo1498_f0  denovo1524_f0  denovo1654_f0  denovo1758_f0  denovo1784_f0  denovo1810_f0  denovo1966_f0  denovo2148_f0  denovo2200_f0  denovo2252_f0  denovo2278_f0  denovo2356_f0  denovo2460_f0  denovo2486_f0  denovo2512_f0  denovo2538_f0  denovo2590_f0  denovo2616_f0  denovo2668_f0  denovo2772_f0  denovo2798_f0  denovo2850_f0  denovo2876_f0  denovo2928_f0  denovo3006_f0  denovo3058_f0  denovo3162_f0  denovo3240_f0  denovo3266_f0  denovo3292_f0  denovo3318_f0  denovo3344_f0  denovo3448_f0  denovo3500_f0  denovo3604_f0  denovo3630_f0  denovo3682_f0  denovo3708_f0  denovo3734_f0  denovo3786_f0  denovo3864_f0  denovo3968_f0  denovo3994_f0  denovo4046_f0  denovo4072_f0  denovo4202_f0  denovo4306_f0  denovo4332_f0  denovo4358_f0  denovo4410_f0  denovo4462_f0  denovo4566_f0  denovo4644_f0  denovo4748_f0  denovo4774_f0  denovo4800_f0  denovo4852_f0  denovo4904_f0  denovo4930_f0  denovo4956_f0  denovo4982_f0  denovo5008_f0  denovo5216_f0  denovo5242_f0  denovo5268_f0  denovo5398_f0  denovo5450_f0  denovo5528_f0  denovo5606_f0  denovo5632_f0  denovo5658_f0  denovo5944_f0  denovo6022_f0  denovo6074_f0  denovo6126_f0  denovo6230_f0  denovo6256_f0  denovo6282_f0  denovo6594_f0  denovo6620_f0  denovo6698_f0  denovo6724_f0  denovo6776_f0  denovo6828_f0  denovo6880_f0  denovo7010_f0  denovo7088_f0  denovo7140_f0  denovo7166_f0  denovo7270_f0  denovo7348_f0  denovo7400_f0  denovo7426_f0  denovo7530_f0  denovo7556_f0  denovo7582_f0  denovo7634_f0  denovo7686_f0  denovo7712_f0  denovo7764_f0  denovo7816_f0  denovo7998_f0  denovo8050_f0  denovo8076_f0  denovo8232_f0  denovo8258_f0  denovo8284_f0  denovo8310_f0  denovo8414_f0  denovo8440_f0  denovo8466_f0  denovo8596_f0  denovo8648_f0  denovo8674_f0  denovo8700_f0  denovo8778_f0  denovo8830_f0  denovo8856_f0  denovo8908_f0  denovo8934_f0  denovo8960_f0  denovo8986_f0  denovo9012_f0  denovo9142_f0  denovo9168_f0  denovo9194_f0  denovo9324_f0  denovo9350_f0  denovo9376_f0  denovo9402_f0  denovo9454_f0  denovo9506_f0  denovo9558_f0  denovo9610_f0  denovo9688_f0  denovo9714_f0  denovo9740_f0  denovo9818_f0  denovo9844_f0  denovo9870_f0  denovo9896_f0  denovo9948_f0  denovo9974_f0  denovo10000_f0 denovo10078_f0 denovo10182_f0 denovo10208_f0 denovo10234_f0 denovo10286_f0 denovo10312_f0 denovo10364_f0 denovo10390_f0 denovo10416_f0 denovo10442_f0 denovo10494_f0 denovo10520_f0 denovo10546_f0 denovo10624_f0 denovo10676_f0 denovo10702_f0 denovo10780_f0 denovo10858_f0 denovo10884_f0 denovo10936_f0 denovo10988_f0 denovo11040_f0 denovo11092_f0 denovo11118_f0 denovo11170_f0 denovo11196_f0 denovo11248_f0 denovo11274_f0 denovo11326_f0 denovo11352_f0 denovo11456_f0 denovo11560_f0 denovo11924_f0 denovo11976_f0 denovo12080_f0 \n",
      "Msexta                        denovo43_f0    denovo95_f0    denovo121_f0   denovo147_f0   denovo225_f0   denovo251_f0   denovo277_f0   denovo303_f0   denovo355_f0   denovo433_f0   denovo537_f0   denovo589_f0   denovo615_f0   denovo745_f0   denovo797_f0   denovo953_f0   denovo979_f0   denovo1057_f0  denovo1083_f0  denovo1161_f0  denovo1317_f0  denovo1499_f0  denovo1525_f0  denovo1655_f0  denovo1759_f0  denovo1785_f0  denovo1811_f0  denovo1967_f0  denovo2149_f0  denovo2201_f0  denovo2253_f0  denovo2279_f0  denovo2357_f0  denovo2461_f0  denovo2487_f0  denovo2513_f0  denovo2539_f0  denovo2591_f0  denovo2617_f0  denovo2669_f0  denovo2773_f0  denovo2799_f0  denovo2851_f0  denovo2877_f0  denovo2929_f0  denovo3007_f0  denovo3059_f0  denovo3163_f0  denovo3241_f0  denovo3267_f0  denovo3293_f0  denovo3319_f0  denovo3345_f0  denovo3449_f0  denovo3501_f0  denovo3605_f0  denovo3631_f0  denovo3683_f0  denovo3709_f0  denovo3735_f0  denovo3787_f0  denovo3865_f0  denovo3969_f0  denovo3995_f0  denovo4047_f0  denovo4073_f0  denovo4203_f0  denovo4307_f0  denovo4333_f0  denovo4359_f0  denovo4411_f0  denovo4463_f0  denovo4567_f0  denovo4645_f0  denovo4749_f0  denovo4775_f0  denovo4801_f0  denovo4853_f0  denovo4905_f0  denovo4931_f0  denovo4957_f0  denovo4983_f0  denovo5009_f0  denovo5217_f0  denovo5243_f0  denovo5269_f0  denovo5399_f0  denovo5451_f0  denovo5529_f0  denovo5607_f0  denovo5633_f0  denovo5659_f0  denovo5945_f0  denovo6023_f0  denovo6075_f0  denovo6127_f0  denovo6231_f0  denovo6257_f0  denovo6283_f0  denovo6595_f0  denovo6621_f0  denovo6699_f0  denovo6725_f0  denovo6777_f0  denovo6829_f0  denovo6881_f0  denovo7011_f0  denovo7089_f0  denovo7141_f0  denovo7167_f0  denovo7271_f0  denovo7349_f0  denovo7401_f0  denovo7427_f0  denovo7531_f0  denovo7557_f0  denovo7583_f0  denovo7635_f0  denovo7687_f0  denovo7713_f0  denovo7765_f0  denovo7817_f0  denovo7999_f0  denovo8051_f0  denovo8077_f0  denovo8233_f0  denovo8259_f0  denovo8285_f0  denovo8311_f0  denovo8415_f0  denovo8441_f0  denovo8467_f0  denovo8597_f0  denovo8649_f0  denovo8675_f0  denovo8701_f0  denovo8779_f0  denovo8831_f0  denovo8857_f0  denovo8909_f0  denovo8935_f0  denovo8961_f0  denovo8987_f0  denovo9013_f0  denovo9143_f0  denovo9169_f0  denovo9195_f0  denovo9325_f0  denovo9351_f0  denovo9377_f0  denovo9403_f0  denovo9455_f0  denovo9507_f0  denovo9559_f0  denovo9611_f0  denovo9689_f0  denovo9715_f0  denovo9741_f0  denovo9819_f0  denovo9845_f0  denovo9871_f0  denovo9897_f0  denovo9949_f0  denovo9975_f0  denovo10001_f0 denovo10079_f0 denovo10183_f0 denovo10209_f0 denovo10235_f0 denovo10287_f0 denovo10313_f0 denovo10365_f0 denovo10391_f0 denovo10417_f0 denovo10443_f0 denovo10495_f0 denovo10521_f0 denovo10547_f0 denovo10625_f0 denovo10677_f0 denovo10703_f0 denovo10781_f0 denovo10859_f0 denovo10885_f0 denovo10937_f0 denovo10989_f0 denovo11041_f0 denovo11093_f0 denovo11119_f0 denovo11171_f0 denovo11197_f0 denovo11249_f0 denovo11275_f0 denovo11327_f0 denovo11353_f0 denovo11457_f0 denovo11561_f0 denovo11925_f0 denovo11977_f0 denovo12081_f0 \n",
      "acti2                         denovo51_f0    denovo103_f0   denovo129_f0   denovo155_f0   denovo233_f0   denovo259_f0   denovo285_f0   denovo311_f0   denovo363_f0   denovo441_f0   denovo545_f0   denovo597_f0   denovo623_f0   denovo753_f0   denovo805_f0   denovo961_f0   denovo987_f0   denovo1065_f0  denovo1091_f0  denovo1169_f0  denovo1325_f0  denovo1507_f0  denovo1533_f0  denovo1663_f0  denovo1767_f0  denovo1793_f0  denovo1819_f0  denovo1975_f0  denovo2157_f0  denovo2209_f0  denovo2261_f0  denovo2287_f0  denovo2365_f0  denovo2469_f0  denovo2495_f0  denovo2521_f0  denovo2547_f0  denovo2599_f0  denovo2625_f0  denovo2677_f0  denovo2781_f0  denovo2807_f0  denovo2859_f0  denovo2885_f0  denovo2937_f0  denovo3015_f0  denovo3067_f0  denovo3171_f0  denovo3249_f0  denovo3275_f0  denovo3301_f0  denovo3327_f0  denovo3353_f0  denovo3457_f0  denovo3509_f0  denovo3613_f0  denovo3639_f0  denovo3691_f0  denovo3717_f0  denovo3743_f0  denovo3795_f0  denovo3873_f0  denovo3977_f0  denovo4003_f0  denovo4055_f0  denovo4081_f0  denovo4211_f0  denovo4315_f0  denovo4341_f0  denovo4367_f0  denovo4419_f0  denovo4471_f0  denovo4575_f0  denovo4653_f0  denovo4757_f0  denovo4783_f0  denovo4809_f0  denovo4861_f0  denovo4913_f0  denovo4939_f0  denovo4965_f0  denovo4991_f0  denovo5017_f0  denovo5225_f0  denovo5251_f0  denovo5277_f0  denovo5407_f0  denovo5459_f0  denovo5537_f0  denovo5615_f0  denovo5641_f0  denovo5667_f0  denovo5953_f0  denovo6031_f0  denovo6083_f0  denovo6135_f0  denovo6239_f0  denovo6265_f0  denovo6291_f0  denovo6603_f0  denovo6629_f0  denovo6707_f0  denovo6733_f0  denovo6785_f0  denovo6837_f0  denovo6889_f0  denovo7019_f0  denovo7097_f0  denovo7149_f0  denovo7175_f0  denovo7279_f0  denovo7357_f0  denovo7409_f0  denovo7435_f0  denovo7539_f0  denovo7565_f0  denovo7591_f0  denovo7643_f0  denovo7695_f0  denovo7721_f0  denovo7773_f0  denovo7825_f0  denovo8007_f0  denovo8059_f0  denovo8085_f0  denovo8241_f0  denovo8267_f0  denovo8293_f0  denovo8319_f0  denovo8423_f0  denovo8449_f0  denovo8475_f0  denovo8605_f0  denovo8657_f0  denovo8683_f0  denovo8709_f0  denovo8787_f0  denovo8839_f0  denovo8865_f0  denovo8917_f0  denovo8943_f0  denovo8969_f0  denovo8995_f0  denovo9021_f0  denovo9151_f0  denovo9177_f0  denovo9203_f0  denovo9333_f0  denovo9359_f0  denovo9385_f0  denovo9411_f0  denovo9463_f0  denovo9515_f0  denovo9567_f0  denovo9619_f0  denovo9697_f0  denovo9723_f0  denovo9749_f0  denovo9827_f0  denovo9853_f0  denovo9879_f0  denovo9905_f0  denovo9957_f0  denovo9983_f0  denovo10009_f0 denovo10087_f0 denovo10191_f0 denovo10217_f0 denovo10243_f0 denovo10295_f0 denovo10321_f0 denovo10373_f0 denovo10399_f0 denovo10425_f0 denovo10451_f0 denovo10503_f0 denovo10529_f0 denovo10555_f0 denovo10633_f0 denovo10685_f0 denovo10711_f0 denovo10789_f0 denovo10867_f0 denovo10893_f0 denovo10945_f0 denovo10997_f0 denovo11049_f0 denovo11101_f0 denovo11127_f0 denovo11179_f0 denovo11205_f0 denovo11257_f0 denovo11283_f0 denovo11335_f0 denovo11361_f0 denovo11465_f0 denovo11569_f0 denovo11933_f0 denovo11985_f0 denovo12089_f0 \n",
      "FG120071B                     denovo35_f0    denovo87_f0    denovo113_f0   denovo139_f0   denovo217_f0   denovo243_f0   denovo269_f0   denovo295_f0   denovo347_f0   denovo425_f0   denovo529_f0   denovo581_f0   denovo607_f0   denovo737_f0   denovo789_f0   denovo945_f0   denovo971_f0   denovo1049_f0  denovo1075_f0  denovo1153_f0  denovo1309_f0  denovo1491_f0  denovo1517_f0  denovo1647_f0  denovo1751_f0  denovo1777_f0  denovo1803_f0  denovo1959_f0  denovo2141_f0  denovo2193_f0  denovo2245_f0  denovo2271_f0  denovo2349_f0  denovo2453_f0  denovo2479_f0  denovo2505_f0  denovo2531_f0  denovo2583_f0  denovo2609_f0  denovo2661_f0  denovo2765_f0  denovo2791_f0  denovo2843_f0  denovo2869_f0  denovo2921_f0  denovo2999_f0  denovo3051_f0  denovo3155_f0  denovo3233_f0  denovo3259_f0  denovo3285_f0  denovo3311_f0  denovo3337_f0  denovo3441_f0  denovo3493_f0  denovo3597_f0  denovo3623_f0  denovo3675_f0  denovo3701_f0  denovo3727_f0  denovo3779_f0  denovo3857_f0  denovo3961_f0  denovo3987_f0  denovo4039_f0  denovo4065_f0  denovo4195_f0  denovo4299_f0  denovo4325_f0  denovo4351_f0  denovo4403_f0  denovo4455_f0  denovo4559_f0  denovo4637_f0  denovo4741_f0  denovo4767_f0  denovo4793_f0  denovo4845_f0  denovo4897_f0  denovo4923_f0  denovo4949_f0  denovo4975_f0  denovo5001_f0  denovo5209_f0  denovo5235_f0  denovo5261_f0  denovo5391_f0  denovo5443_f0  denovo5521_f0  denovo5599_f0  denovo5625_f0  denovo5651_f0  denovo5937_f0  denovo6015_f0  denovo6067_f0  denovo6119_f0  denovo6223_f0  denovo6249_f0  denovo6275_f0  denovo6587_f0  denovo6613_f0  denovo6691_f0  denovo6717_f0  denovo6769_f0  denovo6821_f0  denovo6873_f0  denovo7003_f0  denovo7081_f0  denovo7133_f0  denovo7159_f0  denovo7263_f0  denovo7341_f0  denovo7393_f0  denovo7419_f0  denovo7523_f0  denovo7549_f0  denovo7575_f0  denovo7627_f0  denovo7679_f0  denovo7705_f0  denovo7757_f0  denovo7809_f0  denovo7991_f0  denovo8043_f0  denovo8069_f0  denovo8225_f0  denovo8251_f0  denovo8277_f0  denovo8303_f0  denovo8407_f0  denovo8433_f0  denovo8459_f0  denovo8589_f0  denovo8641_f0  denovo8667_f0  denovo8693_f0  denovo8771_f0  denovo8823_f0  denovo8849_f0  denovo8901_f0  denovo8927_f0  denovo8953_f0  denovo8979_f0  denovo9005_f0  denovo9135_f0  denovo9161_f0  denovo9187_f0  denovo9317_f0  denovo9343_f0  denovo9369_f0  denovo9395_f0  denovo9447_f0  denovo9499_f0  denovo9551_f0  denovo9603_f0  denovo9681_f0  denovo9707_f0  denovo9733_f0  denovo9811_f0  denovo9837_f0  denovo9863_f0  denovo9889_f0  denovo9941_f0  denovo9967_f0  denovo9993_f0  denovo10071_f0 denovo10175_f0 denovo10201_f0 denovo10227_f0 denovo10279_f0 denovo10305_f0 denovo10357_f0 denovo10383_f0 denovo10409_f0 denovo10435_f0 denovo10487_f0 denovo10513_f0 denovo10539_f0 denovo10617_f0 denovo10669_f0 denovo10695_f0 denovo10773_f0 denovo10851_f0 denovo10877_f0 denovo10929_f0 denovo10981_f0 denovo11033_f0 denovo11085_f0 denovo11111_f0 denovo11163_f0 denovo11189_f0 denovo11241_f0 denovo11267_f0 denovo11319_f0 denovo11345_f0 denovo11449_f0 denovo11553_f0 denovo11917_f0 denovo11969_f0 denovo12073_f0 \n",
      "GNV120027                     denovo39_f0    denovo91_f0    denovo117_f0   denovo143_f0   denovo221_f0   denovo247_f0   denovo273_f0   denovo299_f0   denovo351_f0   denovo429_f0   denovo533_f0   denovo585_f0   denovo611_f0   denovo741_f0   denovo793_f0   denovo949_f0   denovo975_f0   denovo1053_f0  denovo1079_f0  denovo1157_f0  denovo1313_f0  denovo1495_f0  denovo1521_f0  denovo1651_f0  denovo1755_f0  denovo1781_f0  denovo1807_f0  denovo1963_f0  denovo2145_f0  denovo2197_f0  denovo2249_f0  denovo2275_f0  denovo2353_f0  denovo2457_f0  denovo2483_f0  denovo2509_f0  denovo2535_f0  denovo2587_f0  denovo2613_f0  denovo2665_f0  denovo2769_f0  denovo2795_f0  denovo2847_f0  denovo2873_f0  denovo2925_f0  denovo3003_f0  denovo3055_f0  denovo3159_f0  denovo3237_f0  denovo3263_f0  denovo3289_f0  denovo3315_f0  denovo3341_f0  denovo3445_f0  denovo3497_f0  denovo3601_f0  denovo3627_f0  denovo3679_f0  denovo3705_f0  denovo3731_f0  denovo3783_f0  denovo3861_f0  denovo3965_f0  denovo3991_f0  denovo4043_f0  denovo4069_f0  denovo4199_f0  denovo4303_f0  denovo4329_f0  denovo4355_f0  denovo4407_f0  denovo4459_f0  denovo4563_f0  denovo4641_f0  denovo4745_f0  denovo4771_f0  denovo4797_f0  denovo4849_f0  denovo4901_f0  denovo4927_f0  denovo4953_f0  denovo4979_f0  denovo5005_f0  denovo5213_f0  denovo5239_f0  denovo5265_f0  denovo5395_f0  denovo5447_f0  denovo5525_f0  denovo5603_f0  denovo5629_f0  denovo5655_f0  denovo5941_f0  denovo6019_f0  denovo6071_f0  denovo6123_f0  denovo6227_f0  denovo6253_f0  denovo6279_f0  denovo6591_f0  denovo6617_f0  denovo6695_f0  denovo6721_f0  denovo6773_f0  denovo6825_f0  denovo6877_f0  denovo7007_f0  denovo7085_f0  denovo7137_f0  denovo7163_f0  denovo7267_f0  denovo7345_f0  denovo7397_f0  denovo7423_f0  denovo7527_f0  denovo7553_f0  denovo7579_f0  denovo7631_f0  denovo7683_f0  denovo7709_f0  denovo7761_f0  denovo7813_f0  denovo7995_f0  denovo8047_f0  denovo8073_f0  denovo8229_f0  denovo8255_f0  denovo8281_f0  denovo8307_f0  denovo8411_f0  denovo8437_f0  denovo8463_f0  denovo8593_f0  denovo8645_f0  denovo8671_f0  denovo8697_f0  denovo8775_f0  denovo8827_f0  denovo8853_f0  denovo8905_f0  denovo8931_f0  denovo8957_f0  denovo8983_f0  denovo9009_f0  denovo9139_f0  denovo9165_f0  denovo9191_f0  denovo9321_f0  denovo9347_f0  denovo9373_f0  denovo9399_f0  denovo9451_f0  denovo9503_f0  denovo9555_f0  denovo9607_f0  denovo9685_f0  denovo9711_f0  denovo9737_f0  denovo9815_f0  denovo9841_f0  denovo9867_f0  denovo9893_f0  denovo9945_f0  denovo9971_f0  denovo9997_f0  denovo10075_f0 denovo10179_f0 denovo10205_f0 denovo10231_f0 denovo10283_f0 denovo10309_f0 denovo10361_f0 denovo10387_f0 denovo10413_f0 denovo10439_f0 denovo10491_f0 denovo10517_f0 denovo10543_f0 denovo10621_f0 denovo10673_f0 denovo10699_f0 denovo10777_f0 denovo10855_f0 denovo10881_f0 denovo10933_f0 denovo10985_f0 denovo11037_f0 denovo11089_f0 denovo11115_f0 denovo11167_f0 denovo11193_f0 denovo11245_f0 denovo11271_f0 denovo11323_f0 denovo11349_f0 denovo11453_f0 denovo11557_f0 denovo11921_f0 denovo11973_f0 denovo12077_f0 \n",
      "Bmoricds                      denovo26_f0    denovo78_f0    denovo104_f0   denovo130_f0   denovo208_f0   denovo234_f0   denovo260_f0   denovo286_f0   denovo338_f0   denovo416_f0   denovo520_f0   denovo572_f0   denovo598_f0   denovo728_f0   denovo780_f0   denovo936_f0   denovo962_f0   denovo1040_f0  denovo1066_f0  denovo1144_f0  denovo1300_f0  denovo1482_f0  denovo1508_f0  denovo1638_f0  denovo1742_f0  denovo1768_f0  denovo1794_f0  denovo1950_f0  denovo2132_f0  denovo2184_f0  denovo2236_f0  denovo2262_f0  denovo2340_f0  denovo2444_f0  denovo2470_f0  denovo2496_f0  denovo2522_f0  denovo2574_f0  denovo2600_f0  denovo2652_f0  denovo2756_f0  denovo2782_f0  denovo2834_f0  denovo2860_f0  denovo2912_f0  denovo2990_f0  denovo3042_f0  denovo3146_f0  denovo3224_f0  denovo3250_f0  denovo3276_f0  denovo3302_f0  denovo3328_f0  denovo3432_f0  denovo3484_f0  denovo3588_f0  denovo3614_f0  denovo3666_f0  denovo3692_f0  denovo3718_f0  denovo3770_f0  denovo3848_f0  denovo3952_f0  denovo3978_f0  denovo4030_f0  denovo4056_f0  denovo4186_f0  denovo4290_f0  denovo4316_f0  denovo4342_f0  denovo4394_f0  denovo4446_f0  denovo4550_f0  denovo4628_f0  denovo4732_f0  denovo4758_f0  denovo4784_f0  denovo4836_f0  denovo4888_f0  denovo4914_f0  denovo4940_f0  denovo4966_f0  denovo4992_f0  denovo5200_f0  denovo5226_f0  denovo5252_f0  denovo5382_f0  denovo5434_f0  denovo5512_f0  denovo5590_f0  denovo5616_f0  denovo5642_f0  denovo5928_f0  denovo6006_f0  denovo6058_f0  denovo6110_f0  denovo6214_f0  denovo6240_f0  denovo6266_f0  denovo6578_f0  denovo6604_f0  denovo6682_f0  denovo6708_f0  denovo6760_f0  denovo6812_f0  denovo6864_f0  denovo6994_f0  denovo7072_f0  denovo7124_f0  denovo7150_f0  denovo7254_f0  denovo7332_f0  denovo7384_f0  denovo7410_f0  denovo7514_f0  denovo7540_f0  denovo7566_f0  denovo7618_f0  denovo7670_f0  denovo7696_f0  denovo7748_f0  denovo7800_f0  denovo7982_f0  denovo8034_f0  denovo8060_f0  denovo8216_f0  denovo8242_f0  denovo8268_f0  denovo8294_f0  denovo8398_f0  denovo8424_f0  denovo8450_f0  denovo8580_f0  denovo8632_f0  denovo8658_f0  denovo8684_f0  denovo8762_f0  denovo8814_f0  denovo8840_f0  denovo8892_f0  denovo8918_f0  denovo8944_f0  denovo8970_f0  denovo8996_f0  denovo9126_f0  denovo9152_f0  denovo9178_f0  denovo9308_f0  denovo9334_f0  denovo9360_f0  denovo9386_f0  denovo9438_f0  denovo9490_f0  denovo9542_f0  denovo9594_f0  denovo9672_f0  denovo9698_f0  denovo9724_f0  denovo9802_f0  denovo9828_f0  denovo9854_f0  denovo9880_f0  denovo9932_f0  denovo9958_f0  denovo9984_f0  denovo10062_f0 denovo10166_f0 denovo10192_f0 denovo10218_f0 denovo10270_f0 denovo10296_f0 denovo10348_f0 denovo10374_f0 denovo10400_f0 denovo10426_f0 denovo10478_f0 denovo10504_f0 denovo10530_f0 denovo10608_f0 denovo10660_f0 denovo10686_f0 denovo10764_f0 denovo10842_f0 denovo10868_f0 denovo10920_f0 denovo10972_f0 denovo11024_f0 denovo11076_f0 denovo11102_f0 denovo11154_f0 denovo11180_f0 denovo11232_f0 denovo11258_f0 denovo11310_f0 denovo11336_f0 denovo11440_f0 denovo11544_f0 denovo11908_f0 denovo11960_f0 denovo12064_f0 \n",
      "Pcit2                         denovo45_f0    denovo97_f0    denovo123_f0   denovo149_f0   denovo227_f0   denovo253_f0   denovo279_f0   denovo305_f0   denovo357_f0   denovo435_f0   denovo539_f0   denovo591_f0   denovo617_f0   denovo747_f0   denovo799_f0   denovo955_f0   denovo981_f0   denovo1059_f0  denovo1085_f0  denovo1163_f0  denovo1319_f0  denovo1501_f0  denovo1527_f0  denovo1657_f0  denovo1761_f0  denovo1787_f0  denovo1813_f0  denovo1969_f0  denovo2151_f0  denovo2203_f0  denovo2255_f0  denovo2281_f0  denovo2359_f0  denovo2463_f0  denovo2489_f0  denovo2515_f0  denovo2541_f0  denovo2593_f0  denovo2619_f0  denovo2671_f0  denovo2775_f0  denovo2801_f0  denovo2853_f0  denovo2879_f0  denovo2931_f0  denovo3009_f0  denovo3061_f0  denovo3165_f0  denovo3243_f0  denovo3269_f0  denovo3295_f0  denovo3321_f0  denovo3347_f0  denovo3451_f0  denovo3503_f0  denovo3607_f0  denovo3633_f0  denovo3685_f0  denovo3711_f0  denovo3737_f0  denovo3789_f0  denovo3867_f0  denovo3971_f0  denovo3997_f0  denovo4049_f0  denovo4075_f0  denovo4205_f0  denovo4309_f0  denovo4335_f0  denovo4361_f0  denovo4413_f0  denovo4465_f0  denovo4569_f0  denovo4647_f0  denovo4751_f0  denovo4777_f0  denovo4803_f0  denovo4855_f0  denovo4907_f0  denovo4933_f0  denovo4959_f0  denovo4985_f0  denovo5011_f0  denovo5219_f0  denovo5245_f0  denovo5271_f0  denovo5401_f0  denovo5453_f0  denovo5531_f0  denovo5609_f0  denovo5635_f0  denovo5661_f0  denovo5947_f0  denovo6025_f0  denovo6077_f0  denovo6129_f0  denovo6233_f0  denovo6259_f0  denovo6285_f0  denovo6597_f0  denovo6623_f0  denovo6701_f0  denovo6727_f0  denovo6779_f0  denovo6831_f0  denovo6883_f0  denovo7013_f0  denovo7091_f0  denovo7143_f0  denovo7169_f0  denovo7273_f0  denovo7351_f0  denovo7403_f0  denovo7429_f0  denovo7533_f0  denovo7559_f0  denovo7585_f0  denovo7637_f0  denovo7689_f0  denovo7715_f0  denovo7767_f0  denovo7819_f0  denovo8001_f0  denovo8053_f0  denovo8079_f0  denovo8235_f0  denovo8261_f0  denovo8287_f0  denovo8313_f0  denovo8417_f0  denovo8443_f0  denovo8469_f0  denovo8599_f0  denovo8651_f0  denovo8677_f0  denovo8703_f0  denovo8781_f0  denovo8833_f0  denovo8859_f0  denovo8911_f0  denovo8937_f0  denovo8963_f0  denovo8989_f0  denovo9015_f0  denovo9145_f0  denovo9171_f0  denovo9197_f0  denovo9327_f0  denovo9353_f0  denovo9379_f0  denovo9405_f0  denovo9457_f0  denovo9509_f0  denovo9561_f0  denovo9613_f0  denovo9691_f0  denovo9717_f0  denovo9743_f0  denovo9821_f0  denovo9847_f0  denovo9873_f0  denovo9899_f0  denovo9951_f0  denovo9977_f0  denovo10003_f0 denovo10081_f0 denovo10185_f0 denovo10211_f0 denovo10237_f0 denovo10289_f0 denovo10315_f0 denovo10367_f0 denovo10393_f0 denovo10419_f0 denovo10445_f0 denovo10497_f0 denovo10523_f0 denovo10549_f0 denovo10627_f0 denovo10679_f0 denovo10705_f0 denovo10783_f0 denovo10861_f0 denovo10887_f0 denovo10939_f0 denovo10991_f0 denovo11043_f0 denovo11095_f0 denovo11121_f0 denovo11173_f0 denovo11199_f0 denovo11251_f0 denovo11277_f0 denovo11329_f0 denovo11355_f0 denovo11459_f0 denovo11563_f0 denovo11927_f0 denovo11979_f0 denovo12083_f0 \n",
      "[Manually truncated for presentation]\n",
      "\n"
     ]
    }
   ],
   "source": [
    "concatenations = stats.slide_loci('source_original_id', # OTU metadata value.\n",
    "                                                        # sequences from different loci\n",
    "                                                        # ,which share this value,\n",
    "                                                        # will be considered to belong to\n",
    "                                                        # the same sample and will be\n",
    "                                                        # concatenated\n",
    "                                  \n",
    "                                  median_range='all',   # Before starting the slide,\n",
    "                                                        # you can exclude loci\n",
    "                                  parameter='entropy',  # which median fall outside\n",
    "                                                        # the specified range\n",
    "                                                        # of the specified parameter.\n",
    "                                                        # The remaining loci will still\n",
    "                                                        # be sorted according to the\n",
    "                                                        # parameter specified in the\n",
    "                                                        # sorting step above, and not\n",
    "                                                        # according to the parameter that\n",
    "                                                        # specified here, if it is\n",
    "                                                        # different from above.\n",
    "                                  \n",
    "                                  start=0,              # Counting from the first locus\n",
    "                                                        # that was not excluded,\n",
    "                                                        # start the first window here.\n",
    "                                  \n",
    "                                  length=200,           # the length of the window,\n",
    "                                                        # counting 200 loci that were\n",
    "                                                        # not filtered out\n",
    "                                  \n",
    "                                  step=50)              # the length of the slide.\n",
    "\n",
    "# Add the concatenation objects to the project\n",
    "for concat in concatenations:\n",
    "    pj.add_concatenation(concat)\n",
    "    \n",
    "# Create the supermatrices\n",
    "pj.make_concatenation_alignments()\n",
    "\n",
    "# And collect their names\n",
    "aln_names = [c.name for c in pj.concatenations]"
   ]
  },
  {
   "cell_type": "markdown",
   "metadata": {},
   "source": [
    "## 2.8 Reconstruct the trees\n",
    "This will build trees only for the supermatrices because we pass their names. First we configure the analysis using a `RaxmlConf` object and then we execute it.  \n",
    "The `RaxmlConf` object has several presets coresponding to several tree reconstruction approaches. These can be modified by using command line arguments. Alternatively, the program Phylobayes can be used with the `PbConf` object."
   ]
  },
  {
   "cell_type": "code",
   "execution_count": null,
   "metadata": {
    "collapsed": false,
    "scrolled": true
   },
   "outputs": [
    {
     "name": "stdout",
     "output_type": "stream",
     "text": [
      "raxmlHPC-PTHREADS-SSE3 -f a -m PROTGAMMAJTT -n 357421429738848.49_entropy_0.48_0.00_loci_50_to_2490 -q 357421429738848.49_entropy_0.48_0.00_loci_50_to_249_partfile -p 122 -s 357421429738848.49_entropy_0.48_0.00_loci_50_to_249.fasta -T 6 -x 388 -N 100\n",
      "raxmlHPC-PTHREADS-SSE3 -f a -m PROTGAMMAJTT -n 357421429738848.49_entropy_0.00_0.00_loci_200_to_3990 -q 357421429738848.49_entropy_0.00_0.00_loci_200_to_399_partfile -p 607 -s 357421429738848.49_entropy_0.00_0.00_loci_200_to_399.fasta -T 6 -x 442 -N 100\n",
      "raxmlHPC-PTHREADS-SSE3 -f a -m PROTGAMMAJTT -n 357421429738848.49_entropy_0.30_0.00_loci_100_to_2990 -q 357421429738848.49_entropy_0.30_0.00_loci_100_to_299_partfile -p 446 -s 357421429738848.49_entropy_0.30_0.00_loci_100_to_299.fasta -T 6 -x 186 -N 100\n",
      "raxmlHPC-PTHREADS-SSE3 -f a -m PROTGAMMAJTT -n 357421429738848.49_entropy_1.14_0.00_loci_0_to_1990 -q 357421429738848.49_entropy_1.14_0.00_loci_0_to_199_partfile -p 748 -s 357421429738848.49_entropy_1.14_0.00_loci_0_to_199.fasta -T 6 -x 235 -N 100\n",
      "raxmlHPC-PTHREADS-SSE3 -f a -m PROTGAMMAJTT -n 357421429738848.49_entropy_0.00_0.00_loci_150_to_3490 -q 357421429738848.49_entropy_0.00_0.00_loci_150_to_349_partfile -p 316 -s 357421429738848.49_entropy_0.00_0.00_loci_150_to_349.fasta -T 6 -x 679 -N 100"
     ]
    }
   ],
   "source": [
    "raxml = RaxmlConf(pj,\n",
    "                  \n",
    "                  method_name='fa',\n",
    "                  \n",
    "                  program_name='raxmlHPC-PTHREADS-SSE3',\n",
    "                  \n",
    "                  keepfiles=False,                           # RAxML result files are\n",
    "                                                             # deleted by default\n",
    "                  \n",
    "                  \n",
    "                  cmd='default',\n",
    "                  \n",
    "                  preset='fa',                               # The default preset 'fa',\n",
    "                                                             # will invoke the \" -f a \"\n",
    "                                                             # algorithm. See manual for\n",
    "                                                             # other presets\n",
    "                  \n",
    "                  alns=aln_names,                            # Instead of the default value\n",
    "                                                             # 'all', this object will apply\n",
    "                                                             # only for the supermatrices\n",
    "                                                             \n",
    "                  model='GAMMA',                             # Any RAxML model\n",
    "                  \n",
    "                  matrix='JTT',                              # Any substitution matrix in RAxML.\n",
    "                                                             # For DNA data, this defaults to GTR\n",
    "                  \n",
    "                  \n",
    "                  cline_args={},                             # Any RAxML keyword and argument.\n",
    "                                                             # For example: {'#': 1000}, will change\n",
    "                                                             # the default 100 rappid bootstrap\n",
    "                                                             # replicates.\n",
    "                  \n",
    "                  threads=6)\n",
    "\n",
    "# reconstruct the trees\n",
    "pj.tree([raxml])"
   ]
  },
  {
   "cell_type": "markdown",
   "metadata": {},
   "source": [
    "#### Note:\n",
    "The value of -m is always PROT for concatenations. This is overridden by the partition file, where DNA will be specified for DNA partitions, envoking the GTR matrix of nucleic acid substitution. You can check the info file while the analysis runs or by using the `keepfiles = True` keyword to verify."
   ]
  },
  {
   "cell_type": "markdown",
   "metadata": {},
   "source": [
    "## 2.9 Verify git commit\n",
    "At any step it is possible to confirm that git is working and recording the changes"
   ]
  },
  {
   "cell_type": "code",
   "execution_count": 24,
   "metadata": {
    "collapsed": false,
    "scrolled": true
   },
   "outputs": [
    {
     "name": "stdout",
     "output_type": "stream",
     "text": [
      "\n",
      "Sun Apr 26 08:44:54 2015\n",
      "STDOUT:\n",
      "[master 6c085d7] RaxmlConf named fa with ID 357421429738848.49 Alignments: entropy_0.48_0.00_loci_50_to_249,entropy_0.00_0.00_loci_200_to_399,entropy_0.30_0.00_loci_100_to_299,entropy_1.14_0.00_loci_0_to_199,entropy_0.00_0.00_loci_150_to_349,entropy_0.00_0.00_loci_250_to_449 Created on: Wed Apr 22 22:40:48 2015 Commands: entropy_0.48_0.00_loci_50_to_249: [RaxmlCommandline(cmd='raxmlHPC-PTHREADS-SSE3', algorithm='a', model='PROTGAMMAJTT', name='357421429738848.49_entropy_0.48_0.00_loci_50_to_2490', partition_filename='357421429738848.49_entropy_0.48_0.00_loci_50_to_249_partfile', parsimony_seed=122, sequences='357421429738848.49_entropy_0.48_0.00_loci_50_to_249.fasta', threads=6, rapid_bootstrap_seed=388, num_replicates=100)] entropy_0.00_0.00_loci_200_to_399: [RaxmlCommandline(cmd='raxmlHPC-PTHREADS-SSE3', algorithm='a', model='PROTGAMMAJTT', name='357421429738848.49_entropy_0.00_0.00_loci_200_to_3990', partition_filename='357421429738848.49_entropy_0.00_0.00_loci_200_to_399_partfile', parsimony_seed=607, sequences='357421429738848.49_entropy_0.00_0.00_loci_200_to_399.fasta', threads=6, rapid_bootstrap_seed=442, num_replicates=100)] entropy_0.30_0.00_loci_100_to_299: [RaxmlCommandline(cmd='raxmlHPC-PTHREADS-SSE3', algorithm='a', model='PROTGAMMAJTT', name='357421429738848.49_entropy_0.30_0.00_loci_100_to_2990', partition_filename='357421429738848.49_entropy_0.30_0.00_loci_100_to_299_partfile', parsimony_seed=446, sequences='357421429738848.49_entropy_0.30_0.00_loci_100_to_299.fasta', threads=6, rapid_bootstrap_seed=186, num_replicates=100)] entropy_1.14_0.00_loci_0_to_199: [RaxmlCommandline(cmd='raxmlHPC-PTHREADS-SSE3', algorithm='a', model='PROTGAMMAJTT', name='357421429738848.49_entropy_1.14_0.00_loci_0_to_1990', partition_filename='357421429738848.49_entropy_1.14_0.00_loci_0_to_199_partfile', parsimony_seed=748, sequences='357421429738848.49_entropy_1.14_0.00_loci_0_to_199.fasta', threads=6, rapid_bootstrap_seed=235, num_replicates=100)] entropy_0.00_0.00_loci_150_to_349: [RaxmlCommandline(cmd='raxmlHPC-PTHREADS-SSE3', algorithm='a', model='PROTGAMMAJTT', name='357421429738848.49_entropy_0.00_0.00_loci_150_to_3490', partition_filename='357421429738848.49_entropy_0.00_0.00_loci_150_to_349_partfile', parsimony_seed=316, sequences='357421429738848.49_entropy_0.00_0.00_loci_150_to_349.fasta', threads=6, rapid_bootstrap_seed=679, num_replicates=100)] entropy_0.00_0.00_loci_250_to_449: [RaxmlCommandline(cmd='raxmlHPC-PTHREADS-SSE3', algorithm='a', model='PROTGAMMAJTT', name='357421429738848.49_entropy_0.00_0.00_loci_250_to_4490', partition_filename='357421429738848.49_entropy_0.00_0.00_loci_250_to_449_partfile', parsimony_seed=402, sequences='357421429738848.49_entropy_0.00_0.00_loci_250_to_449.fasta', threads=6, rapid_bootstrap_seed=649, num_replicates=100)]\n",
      " 5 files changed, 10155 insertions(+), 3689 deletions(-)\n",
      " create mode 100644 .ipynb_checkpoints/Untitled-checkpoint.ipynb\n",
      " create mode 100644 Untitled.ipynb\n",
      "\n",
      "STDERR:None\n",
      ">>>>\n",
      "\n",
      "None\n"
     ]
    }
   ],
   "source": [
    "print pj.last_git_log()"
   ]
  },
  {
   "cell_type": "markdown",
   "metadata": {},
   "source": [
    "## 2.10 Plot the trees - Figure 2A 1-6"
   ]
  },
  {
   "cell_type": "code",
   "execution_count": 28,
   "metadata": {
    "collapsed": false
   },
   "outputs": [],
   "source": [
    "# Remove stars from species names  \n",
    "from itertools import chain\n",
    "\n",
    "for f in chain(*[r.features for r in pj.records]):\n",
    "    if 'Taxa' in f.qualifiers:\n",
    "        f.qualifiers['Taxa'][0] = f.qualifiers['Taxa'][0].replace('*','')\n",
    "        \n",
    "pj.propagate_metadata()\n",
    "\n",
    "pics = {'Bombycoidea': 'silhouettes/Bombycoidea.png',\n",
    "        'Calliduloidea': 'silhouettes/Calliduloidea.png',\n",
    "        'Cossoidea': 'silhouettes/Cossoidea.png',\n",
    "        'Gelechioidea': 'silhouettes/Gelechioidea.png',\n",
    "        'Geometroidea': 'silhouettes/Geometroidea.png',\n",
    "        'Hepialoidea': 'silhouettes/Hepialoidea.png',\n",
    "        'Papilionoidea': 'silhouettes/Papilionoidea.png',\n",
    "        'Mimallonoidea': 'silhouettes/Mimallonoidea.png',\n",
    "        'Zygaenoidea': 'silhouettes/Zygaenoidea.png',\n",
    "        'Lasiocampoidea': 'silhouettes/Lasiocampoidea.png',\n",
    "        'Thyridoidea': 'silhouettes/Thyridoidea.png',\n",
    "        'Pterophoroidea': 'silhouettes/Pterophoroidea.png',\n",
    "        'Pyraloidea': 'silhouettes/Pyraloidea.png',\n",
    "        'Noctuoidea': 'silhouettes/Noctuoidea.png',\n",
    "        'Gracillarioidea': 'silhouettes/Gracillarioidea.png',\n",
    "        'Yponomeutoidea': 'silhouettes/Yponomeutoidea.png',\n",
    "        'Urodoidea': 'silhouettes/Urodoidea.png',\n",
    "        'Tortricoidea': 'silhouettes/Tortricoidea.png'\n",
    "        \n",
    "       }\n",
    "\n",
    "colors = {'Bombycoidea': 'DodgerBlue',\n",
    "          'Calliduloidea': 'DodgerBlue',\n",
    "          'Cossoidea': 'DodgerBlue',\n",
    "          'Gelechioidea': 'DodgerBlue',\n",
    "          'Geometroidea': 'DodgerBlue',\n",
    "          'Hepialoidea': 'DodgerBlue',\n",
    "          'Papilionoidea': 'SaddleBrown',\n",
    "          'Mimallonoidea': 'DodgerBlue',\n",
    "          'Zygaenoidea': 'DodgerBlue',\n",
    "          'Lasiocampoidea': 'DodgerBlue',\n",
    "          'Thyridoidea': 'DodgerBlue',\n",
    "          'Pterophoroidea': 'DodgerBlue',\n",
    "          'Pyraloidea': 'DodgerBlue',\n",
    "          'Noctuoidea': 'DodgerBlue',\n",
    "         'Gracillarioidea': 'DodgerBlue',\n",
    "         'Yponomeutoidea': 'DodgerBlue',\n",
    "         'Urodoidea': 'DodgerBlue',\n",
    "         'Tortricoidea': 'DodgerBlue'}\n",
    "            \n",
    "bg =  {'butterfilies': 'LightSkyBlue',\n",
    "       'I': 'PowderBlue',\n",
    "       'III': 'LightGrey',\n",
    "       'IV': 'Beige'\n",
    "      }\n",
    "\n",
    "\n",
    "supports = { 'DarkBlue' : [100,99],\n",
    "             'DimGray': [99,80]}\n",
    "             #'PaleTurquoise': [80,50]}\n",
    "\n",
    "\n",
    "dir_name = \"butterfly_figs\"\n",
    "\n",
    "html_name = \"%s/figures.html\"%dir_name\n",
    "\n",
    "if not os.path.exists(dir_name):\n",
    "    os.mkdir(dir_name)\n",
    "\n",
    "pj.clear_tree_annotations()  \n",
    "\n",
    "pj.annotate(dir_name,                    # Where to save the figures\n",
    "            \n",
    "            'mid',                       # Root at midpoint. Alternatively, specify\n",
    "            'mid',                       # metadata and value to define outgroup\n",
    "            \n",
    "            ['Taxa'],             # a list of metadata fields to use for labels\n",
    "            leaf_node_color_meta='source_Superfamily',\n",
    "            leaf_label_colors=colors,\n",
    "            ftype='Arial Black',\n",
    "            fsize=40,\n",
    "            \n",
    "            node_support_dict=supports,  # colors and ranges of node support annotations\n",
    "            support_bullet_size=15,\n",
    "            \n",
    "            pic_meta='source_Superfamily', \n",
    "            pic_paths=pics,\n",
    "            pic_w=85, pic_h=65,\n",
    "            \n",
    "            node_bg_meta='Clade',     \n",
    "            node_bg_color=bg,\n",
    "            \n",
    "            branch_width=6, branch_color='RoyalBlue',\n",
    "            \n",
    "            scale=2500,\n",
    "            \n",
    "            html=html_name)"
   ]
  },
  {
   "cell_type": "code",
   "execution_count": 1,
   "metadata": {
    "collapsed": false
   },
   "outputs": [
    {
     "name": "stderr",
     "output_type": "stream",
     "text": [
      "DEBUG:Cloud:Log file (/home/amir/.picloud/cloud.log) opened\n",
      "/home/amir/Dropbox/python_modules/reprophylo.py:240: UserWarning: Git repository exists for this Project\n",
      "  warnings.warn('Git repository exists for this Project')\n"
     ]
    }
   ],
   "source": [
    "from reprophylo import *\n",
    "pj = unpickle_pj('szitenberg_et_al_15_reprophylo')"
   ]
  },
  {
   "cell_type": "markdown",
   "metadata": {},
   "source": [
    "## 2.11 Robinson-foulds like metrics"
   ]
  },
  {
   "cell_type": "code",
   "execution_count": 2,
   "metadata": {
    "collapsed": false
   },
   "outputs": [
    {
     "data": {
      "text/plain": [
       "['entropy_0.00_0.00_loci_250_to_449@mixed@mixed@fa',\n",
       " 'entropy_0.30_0.00_loci_100_to_299@mixed@mixed@fa',\n",
       " 'entropy_1.14_0.00_loci_0_to_199@mixed@mixed@fa',\n",
       " 'entropy_0.48_0.00_loci_50_to_249@mixed@mixed@fa',\n",
       " 'entropy_0.00_0.00_loci_200_to_399@mixed@mixed@fa',\n",
       " 'entropy_0.00_0.00_loci_150_to_349@mixed@mixed@fa']"
      ]
     },
     "execution_count": 2,
     "metadata": {},
     "output_type": "execute_result"
    }
   ],
   "source": [
    "# Sort the trees in sensible order (optional)\n",
    "pj.trees.keys()"
   ]
  },
  {
   "cell_type": "code",
   "execution_count": 2,
   "metadata": {
    "collapsed": true
   },
   "outputs": [],
   "source": [
    "trees = ['entropy_1.14_0.00_loci_0_to_199@mixed@mixed@fa',\n",
    "         'entropy_0.48_0.00_loci_50_to_249@mixed@mixed@fa',\n",
    "         'entropy_0.30_0.00_loci_100_to_299@mixed@mixed@fa',\n",
    "         'entropy_0.00_0.00_loci_150_to_349@mixed@mixed@fa',\n",
    "         'entropy_0.00_0.00_loci_200_to_399@mixed@mixed@fa',\n",
    "         'entropy_0.00_0.00_loci_250_to_449@mixed@mixed@fa',\n",
    "        ]"
   ]
  },
  {
   "cell_type": "markdown",
   "metadata": {},
   "source": [
    "### 2.11.1 Figure 2B: Topological"
   ]
  },
  {
   "cell_type": "code",
   "execution_count": 3,
   "metadata": {
    "collapsed": false
   },
   "outputs": [],
   "source": [
    "if not os.path.exists('rf_figs'):\n",
    "    os.mkdir('rf_figs')\n",
    "    \n",
    "# topological\n",
    "\n",
    "figfile1, legend = calc_rf(pj, 'rf_figs', rf_type='topology', mp_root=True, trees=trees)"
   ]
  },
  {
   "cell_type": "code",
   "execution_count": 4,
   "metadata": {
    "collapsed": false
   },
   "outputs": [
    {
     "data": {
      "image/png": "[encoded data removed]",
      "text/plain": [
       "<IPython.core.display.Image object>"
      ]
     },
     "execution_count": 4,
     "metadata": {},
     "output_type": "execute_result"
    }
   ],
   "source": [
    "import IPython.display\n",
    "IPython.display.Image(figfile1)"
   ]
  },
  {
   "cell_type": "code",
   "execution_count": 5,
   "metadata": {
    "collapsed": false
   },
   "outputs": [
    {
     "name": "stdout",
     "output_type": "stream",
     "text": [
      "rf_figs/1373.png\n"
     ]
    }
   ],
   "source": [
    "print figfile1"
   ]
  },
  {
   "cell_type": "code",
   "execution_count": 6,
   "metadata": {
    "collapsed": false
   },
   "outputs": [
    {
     "data": {
      "text/html": [
       "<TABLE cellpadding=\"4\" style=\"border: 1px solid #000000; border-collapse: collapse;\" border=\"1\">\n",
       " <TR>\n",
       "  <TH>#</TH>\n",
       "  <TH>LOCUS</TH>\n",
       "  <TH>ALIGNMENT METHOD</TH>\n",
       "  <TH>TRIMMING METHOD</TH>\n",
       "  <TH>TREE METHOD</TH>\n",
       " </TR>\n",
       " <TR>\n",
       "  <TD>1</TD>\n",
       "  <TD>entropy_1.14_0.00_loci_0_to_199</TD>\n",
       "  <TD>mixed</TD>\n",
       "  <TD>mixed</TD>\n",
       "  <TD>fa</TD>\n",
       " </TR>\n",
       " <TR>\n",
       "  <TD>2</TD>\n",
       "  <TD>entropy_0.48_0.00_loci_50_to_249</TD>\n",
       "  <TD>mixed</TD>\n",
       "  <TD>mixed</TD>\n",
       "  <TD>fa</TD>\n",
       " </TR>\n",
       " <TR>\n",
       "  <TD>3</TD>\n",
       "  <TD>entropy_0.30_0.00_loci_100_to_299</TD>\n",
       "  <TD>mixed</TD>\n",
       "  <TD>mixed</TD>\n",
       "  <TD>fa</TD>\n",
       " </TR>\n",
       " <TR>\n",
       "  <TD>4</TD>\n",
       "  <TD>entropy_0.00_0.00_loci_150_to_349</TD>\n",
       "  <TD>mixed</TD>\n",
       "  <TD>mixed</TD>\n",
       "  <TD>fa</TD>\n",
       " </TR>\n",
       " <TR>\n",
       "  <TD>5</TD>\n",
       "  <TD>entropy_0.00_0.00_loci_200_to_399</TD>\n",
       "  <TD>mixed</TD>\n",
       "  <TD>mixed</TD>\n",
       "  <TD>fa</TD>\n",
       " </TR>\n",
       " <TR>\n",
       "  <TD>6</TD>\n",
       "  <TD>entropy_0.00_0.00_loci_250_to_449</TD>\n",
       "  <TD>mixed</TD>\n",
       "  <TD>mixed</TD>\n",
       "  <TD>fa</TD>\n",
       " </TR>\n",
       "</TABLE>"
      ],
      "text/plain": [
       "<IPython.core.display.HTML object>"
      ]
     },
     "execution_count": 6,
     "metadata": {},
     "output_type": "execute_result"
    }
   ],
   "source": [
    "IPython.display.HTML(data=(HTML.table(legend[1:], header_row=legend[0])))"
   ]
  },
  {
   "cell_type": "markdown",
   "metadata": {},
   "source": [
    "#### Say we need to recall what Tree Metdod `fa` is:"
   ]
  },
  {
   "cell_type": "code",
   "execution_count": 13,
   "metadata": {
    "collapsed": false,
    "scrolled": true
   },
   "outputs": [
    {
     "name": "stdout",
     "output_type": "stream",
     "text": [
      "RaxmlConf named fa with ID 357421429738848.49\n",
      "Alignments: entropy_0.48_0.00_loci_50_to_249,entropy_0.00_0.00_loci_200_to_399,entropy_0.30_0.00_loci_100_to_299,entropy_1.14_0.00_loci_0_to_199,entropy_0.00_0.00_loci_150_to_349,entropy_0.00_0.00_loci_250_to_449 \n",
      "Created on: Wed Apr 22 22:40:48 2015\n",
      "Commands:\n",
      "entropy_0.48_0.00_loci_50_to_249: [RaxmlCommandline(cmd='raxmlHPC-PTHREADS-SSE3', algorithm='a', model='PROTGAMMAJTT', name='357421429738848.49_entropy_0.48_0.00_loci_50_to_2490', partition_filename='357421429738848.49_entropy_0.48_0.00_loci_50_to_249_partfile', parsimony_seed=122, sequences='357421429738848.49_entropy_0.48_0.00_loci_50_to_249.fasta', threads=6, rapid_bootstrap_seed=388, num_replicates=100)]\n",
      "entropy_0.00_0.00_loci_200_to_399: [RaxmlCommandline(cmd='raxmlHPC-PTHREADS-SSE3', algorithm='a', model='PROTGAMMAJTT', name='357421429738848.49_entropy_0.00_0.00_loci_200_to_3990', partition_filename='357421429738848.49_entropy_0.00_0.00_loci_200_to_399_partfile', parsimony_seed=607, sequences='357421429738848.49_entropy_0.00_0.00_loci_200_to_399.fasta', threads=6, rapid_bootstrap_seed=442, num_replicates=100)]\n",
      "entropy_0.30_0.00_loci_100_to_299: [RaxmlCommandline(cmd='raxmlHPC-PTHREADS-SSE3', algorithm='a', model='PROTGAMMAJTT', name='357421429738848.49_entropy_0.30_0.00_loci_100_to_2990', partition_filename='357421429738848.49_entropy_0.30_0.00_loci_100_to_299_partfile', parsimony_seed=446, sequences='357421429738848.49_entropy_0.30_0.00_loci_100_to_299.fasta', threads=6, rapid_bootstrap_seed=186, num_replicates=100)]\n",
      "entropy_1.14_0.00_loci_0_to_199: [RaxmlCommandline(cmd='raxmlHPC-PTHREADS-SSE3', algorithm='a', model='PROTGAMMAJTT', name='357421429738848.49_entropy_1.14_0.00_loci_0_to_1990', partition_filename='357421429738848.49_entropy_1.14_0.00_loci_0_to_199_partfile', parsimony_seed=748, sequences='357421429738848.49_entropy_1.14_0.00_loci_0_to_199.fasta', threads=6, rapid_bootstrap_seed=235, num_replicates=100)]\n",
      "entropy_0.00_0.00_loci_150_to_349: [RaxmlCommandline(cmd='raxmlHPC-PTHREADS-SSE3', algorithm='a', model='PROTGAMMAJTT', name='357421429738848.49_entropy_0.00_0.00_loci_150_to_3490', partition_filename='357421429738848.49_entropy_0.00_0.00_loci_150_to_349_partfile', parsimony_seed=316, sequences='357421429738848.49_entropy_0.00_0.00_loci_150_to_349.fasta', threads=6, rapid_bootstrap_seed=679, num_replicates=100)]\n",
      "entropy_0.00_0.00_loci_250_to_449: [RaxmlCommandline(cmd='raxmlHPC-PTHREADS-SSE3', algorithm='a', model='PROTGAMMAJTT', name='357421429738848.49_entropy_0.00_0.00_loci_250_to_4490', partition_filename='357421429738848.49_entropy_0.00_0.00_loci_250_to_449_partfile', parsimony_seed=402, sequences='357421429738848.49_entropy_0.00_0.00_loci_250_to_449.fasta', threads=6, rapid_bootstrap_seed=649, num_replicates=100)]\n",
      "\n",
      "Environment:\n",
      "Platform: Linux-3.13.0-40-generic-x86_64-with-Ubuntu-14.04-trusty\n",
      " Processor: x86_64\n",
      " Python build: defaultMar 22 2014 22:59:56\n",
      " Python compiler: GCC 4.8.2\n",
      " Python implementation: CPython\n",
      " Python version: 2.7.6\n",
      " ete2 version: 2.2rev1056\n",
      " biopython version: 1.64\n",
      " dendropy version: 3.12.0\n",
      " cloud version: 2.8.5\n",
      " reprophylo version 1.0\n",
      " User: amir-TECRA-W50-A\n",
      " Program and version: raxmlHPC-PTHREADS-SSE3RAxML version 8.0.12\n",
      " Program reference: A. Stamatakis: RAxML Version 8: A tool for Phylogenetic Analysis and Post-Analysis of Large Phylogenies. In Bioinformatics\n",
      " 2014.\n",
      "execution time:\n",
      "295421.237663\n",
      "\n",
      "==============================\n",
      "Core Methods section sentence:\n",
      "==============================\n",
      "Phylogenetic trees were reconstructed from the dataset(s) entropy_0.48_0.00_loci_50_to_249;entropy_0.00_0.00_loci_200_to_399;entropy_0.30_0.00_loci_100_to_299;entropy_1.14_0.00_loci_0_to_199;entropy_0.00_0.00_loci_150_to_349;entropy_0.00_0.00_loci_250_to_449 using the program raxmlHPC-PTHREADS-SSE3RAxML version 8.0.12 [1].\n",
      "\n",
      "Reference:\n",
      "A. Stamatakis: RAxML Version 8: A tool for Phylogenetic Analysis and Post-Analysis of Large Phylogenies. In Bioinformatics, 2014.\n",
      "\n"
     ]
    }
   ],
   "source": [
    "print pj.used_methods['fa']"
   ]
  },
  {
   "cell_type": "markdown",
   "metadata": {},
   "source": [
    "### 2.11.2 Figure 2 C: Branch length"
   ]
  },
  {
   "cell_type": "code",
   "execution_count": 7,
   "metadata": {
    "collapsed": true
   },
   "outputs": [],
   "source": [
    "if not os.path.exists('rf_figs'):\n",
    "    os.mkdir('rf_figs')\n",
    "    \n",
    "# branch-length\n",
    "\n",
    "figfile2, legend = calc_rf(pj, 'rf_figs', rf_type='branch-length', mp_root=True, trees=trees)"
   ]
  },
  {
   "cell_type": "code",
   "execution_count": 8,
   "metadata": {
    "collapsed": false,
    "scrolled": true
   },
   "outputs": [
    {
     "data": {
      "image/png": "[encoded data removed]",
      "text/plain": [
       "<IPython.core.display.Image object>"
      ]
     },
     "execution_count": 8,
     "metadata": {},
     "output_type": "execute_result"
    }
   ],
   "source": [
    "IPython.display.Image(figfile2)"
   ]
  },
  {
   "cell_type": "code",
   "execution_count": 9,
   "metadata": {
    "collapsed": false
   },
   "outputs": [
    {
     "name": "stdout",
     "output_type": "stream",
     "text": [
      "rf_figs/1615.png\n"
     ]
    }
   ],
   "source": [
    "print figfile2"
   ]
  },
  {
   "cell_type": "code",
   "execution_count": 10,
   "metadata": {
    "collapsed": false
   },
   "outputs": [
    {
     "data": {
      "text/html": [
       "<TABLE cellpadding=\"4\" style=\"border: 1px solid #000000; border-collapse: collapse;\" border=\"1\">\n",
       " <TR>\n",
       "  <TH>#</TH>\n",
       "  <TH>LOCUS</TH>\n",
       "  <TH>ALIGNMENT METHOD</TH>\n",
       "  <TH>TRIMMING METHOD</TH>\n",
       "  <TH>TREE METHOD</TH>\n",
       " </TR>\n",
       " <TR>\n",
       "  <TD>1</TD>\n",
       "  <TD>entropy_1.14_0.00_loci_0_to_199</TD>\n",
       "  <TD>mixed</TD>\n",
       "  <TD>mixed</TD>\n",
       "  <TD>fa</TD>\n",
       " </TR>\n",
       " <TR>\n",
       "  <TD>2</TD>\n",
       "  <TD>entropy_0.48_0.00_loci_50_to_249</TD>\n",
       "  <TD>mixed</TD>\n",
       "  <TD>mixed</TD>\n",
       "  <TD>fa</TD>\n",
       " </TR>\n",
       " <TR>\n",
       "  <TD>3</TD>\n",
       "  <TD>entropy_0.30_0.00_loci_100_to_299</TD>\n",
       "  <TD>mixed</TD>\n",
       "  <TD>mixed</TD>\n",
       "  <TD>fa</TD>\n",
       " </TR>\n",
       " <TR>\n",
       "  <TD>4</TD>\n",
       "  <TD>entropy_0.00_0.00_loci_150_to_349</TD>\n",
       "  <TD>mixed</TD>\n",
       "  <TD>mixed</TD>\n",
       "  <TD>fa</TD>\n",
       " </TR>\n",
       " <TR>\n",
       "  <TD>5</TD>\n",
       "  <TD>entropy_0.00_0.00_loci_200_to_399</TD>\n",
       "  <TD>mixed</TD>\n",
       "  <TD>mixed</TD>\n",
       "  <TD>fa</TD>\n",
       " </TR>\n",
       " <TR>\n",
       "  <TD>6</TD>\n",
       "  <TD>entropy_0.00_0.00_loci_250_to_449</TD>\n",
       "  <TD>mixed</TD>\n",
       "  <TD>mixed</TD>\n",
       "  <TD>fa</TD>\n",
       " </TR>\n",
       "</TABLE>"
      ],
      "text/plain": [
       "<IPython.core.display.HTML object>"
      ]
     },
     "execution_count": 10,
     "metadata": {},
     "output_type": "execute_result"
    }
   ],
   "source": [
    "IPython.display.HTML(data=(HTML.table(legend[1:], header_row=legend[0])))"
   ]
  },
  {
   "cell_type": "markdown",
   "metadata": {},
   "source": [
    "### 2.11.3 Figure 2 D: proportional"
   ]
  },
  {
   "cell_type": "code",
   "execution_count": 11,
   "metadata": {
    "collapsed": false,
    "scrolled": true
   },
   "outputs": [
    {
     "name": "stderr",
     "output_type": "stream",
     "text": [
      "/home/amir/Dropbox/python_modules/reprophylo.py:5056: UserWarning: Trees must have the same taxa\n",
      "  warnings.warn('Trees must have the same taxa')\n"
     ]
    }
   ],
   "source": [
    "if not os.path.exists('rf_figs'):\n",
    "    os.mkdir('rf_figs')\n",
    "import IPython.display    \n",
    "# topological\n",
    "figfile3,legend = calc_rf(pj, 'rf_figs', rf_type='proportional', mp_root=True, trees=trees)"
   ]
  },
  {
   "cell_type": "code",
   "execution_count": 12,
   "metadata": {
    "collapsed": false,
    "scrolled": true
   },
   "outputs": [
    {
     "data": {
      "image/png": "[encoded data removed]",
      "text/plain": [
       "<IPython.core.display.Image object>"
      ]
     },
     "execution_count": 12,
     "metadata": {},
     "output_type": "execute_result"
    }
   ],
   "source": [
    "IPython.display.Image(figfile3)"
   ]
  },
  {
   "cell_type": "code",
   "execution_count": 13,
   "metadata": {
    "collapsed": false
   },
   "outputs": [
    {
     "name": "stdout",
     "output_type": "stream",
     "text": [
      "rf_figs/1024.png\n"
     ]
    }
   ],
   "source": [
    "print figfile3"
   ]
  },
  {
   "cell_type": "code",
   "execution_count": 14,
   "metadata": {
    "collapsed": false
   },
   "outputs": [
    {
     "data": {
      "text/html": [
       "<TABLE cellpadding=\"4\" style=\"border: 1px solid #000000; border-collapse: collapse;\" border=\"1\">\n",
       " <TR>\n",
       "  <TH>#</TH>\n",
       "  <TH>LOCUS</TH>\n",
       "  <TH>ALIGNMENT METHOD</TH>\n",
       "  <TH>TRIMMING METHOD</TH>\n",
       "  <TH>TREE METHOD</TH>\n",
       " </TR>\n",
       " <TR>\n",
       "  <TD>1</TD>\n",
       "  <TD>entropy_1.14_0.00_loci_0_to_199</TD>\n",
       "  <TD>mixed</TD>\n",
       "  <TD>mixed</TD>\n",
       "  <TD>fa</TD>\n",
       " </TR>\n",
       " <TR>\n",
       "  <TD>2</TD>\n",
       "  <TD>entropy_0.48_0.00_loci_50_to_249</TD>\n",
       "  <TD>mixed</TD>\n",
       "  <TD>mixed</TD>\n",
       "  <TD>fa</TD>\n",
       " </TR>\n",
       " <TR>\n",
       "  <TD>3</TD>\n",
       "  <TD>entropy_0.30_0.00_loci_100_to_299</TD>\n",
       "  <TD>mixed</TD>\n",
       "  <TD>mixed</TD>\n",
       "  <TD>fa</TD>\n",
       " </TR>\n",
       " <TR>\n",
       "  <TD>4</TD>\n",
       "  <TD>entropy_0.00_0.00_loci_150_to_349</TD>\n",
       "  <TD>mixed</TD>\n",
       "  <TD>mixed</TD>\n",
       "  <TD>fa</TD>\n",
       " </TR>\n",
       " <TR>\n",
       "  <TD>5</TD>\n",
       "  <TD>entropy_0.00_0.00_loci_200_to_399</TD>\n",
       "  <TD>mixed</TD>\n",
       "  <TD>mixed</TD>\n",
       "  <TD>fa</TD>\n",
       " </TR>\n",
       " <TR>\n",
       "  <TD>6</TD>\n",
       "  <TD>entropy_0.00_0.00_loci_250_to_449</TD>\n",
       "  <TD>mixed</TD>\n",
       "  <TD>mixed</TD>\n",
       "  <TD>fa</TD>\n",
       " </TR>\n",
       "</TABLE>"
      ],
      "text/plain": [
       "<IPython.core.display.HTML object>"
      ]
     },
     "execution_count": 14,
     "metadata": {},
     "output_type": "execute_result"
    }
   ],
   "source": [
    "IPython.display.HTML(data=(HTML.table(legend[1:], header_row=legend[0])))"
   ]
  },
  {
   "cell_type": "markdown",
   "metadata": {},
   "source": [
    "## 2.12 Prepare zip folder"
   ]
  },
  {
   "cell_type": "code",
   "execution_count": 3,
   "metadata": {
    "collapsed": false
   },
   "outputs": [
    {
     "name": "stdout",
     "output_type": "stream",
     "text": [
      "checking if file exists\n",
      "reporter was called by publish\n",
      "starting species table\n",
      "starting concatenations\n",
      "starting methods\n",
      "starting alignment statistics\n",
      "starting RF matrix(ces)\n",
      "reporting trees\n",
      "pickling\n",
      "archiving\n",
      "report ready\n"
     ]
    },
    {
     "name": "stderr",
     "output_type": "stream",
     "text": [
      "/home/amir/Dropbox/python_modules/reprophylo.py:5157: UserWarning: proportional branch-distance: Trees must have the same taxa\n",
      "  warnings.warn('proportional branch-distance: Trees must have the same taxa')\n"
     ]
    }
   ],
   "source": [
    "publish(pj, 'report', 'butterfly_figs/',\n",
    "        compare_trees=['topology','branch-length','proportional'],\n",
    "        trees_to_compare=trees )"
   ]
  },
  {
   "cell_type": "markdown",
   "metadata": {},
   "source": [
    "## 2.13 Add README"
   ]
  },
  {
   "cell_type": "code",
   "execution_count": 9,
   "metadata": {
    "collapsed": false
   },
   "outputs": [
    {
     "name": "stdout",
     "output_type": "stream",
     "text": [
      "Writing README.md\n"
     ]
    }
   ],
   "source": [
    "%%file README.md\n",
    "This repository was automatically created and \n",
    "maintained by [ReproPhylo V1](http://hulluni-bioinformatics.github.io/ReproPhylo/). \n",
    "It contains the analysis done for the paper *ReproPhylo: a python package \n",
    " for reproducible phylogenomics* by Amir Szitenberg, Max John, Mark Blaxter and David Lunt.  \n",
    "\n",
    "The data files in `data`, the ipython notebook and the pickled project `szitenberg_et_al_reprophylo` \n",
    "were all versioned and commited automatically as the foundation of the experiments reproducibility. \n",
    "The remaining files are manuscript related and where added manually later on.  \n",
    "All the figures in the repository were created by the workflow, as can be seen in the IPython Notebook, \n",
    "or in its static copy, MethodsS1.html.\n",
    "  \n",
    "The commits list in this repository demonstrates the way in which ReproPhylo commits changes to the \n",
    "repo and the automatically generated commit massages. Some are very informative, such as \n",
    "[this one](https://github.com/HullUni-bioinformatics/Szitenberg_et_all_15-ReproPhylo/commit/6c085d736c9e9b9bfe8d3cc3b48e4c663ec8e190),\n",
    "related to a commit of a tree reconstruction step."
   ]
  },
  {
   "cell_type": "markdown",
   "metadata": {},
   "source": [
    "## 2.14 Manual commit of some additional files"
   ]
  },
  {
   "cell_type": "code",
   "execution_count": 7,
   "metadata": {
    "collapsed": false
   },
   "outputs": [
    {
     "data": {
      "text/plain": [
       "'szitenberg_et_al_15_reprophylo'"
      ]
     },
     "execution_count": 7,
     "metadata": {},
     "output_type": "execute_result"
    }
   ],
   "source": [
    "# Just in case, commit the pickle again\n",
    "pickle_pj(pj, \"szitenberg_et_al_15_reprophylo\")"
   ]
  },
  {
   "cell_type": "code",
   "execution_count": 10,
   "metadata": {
    "collapsed": false
   },
   "outputs": [
    {
     "data": {
      "text/plain": [
       "('[master da6bc03] Additional files for the MS commited manually\\n 1 file changed, 4 insertions(+)\\n create mode 100644 README.md\\n',\n",
       " '')"
      ]
     },
     "execution_count": 10,
     "metadata": {},
     "output_type": "execute_result"
    }
   ],
   "source": [
    "# files to add manually:\n",
    "files=['rf_figs', 'butterfly_figs/', 'silhouettes/', 'MethodsS1.html, Figure1.pdf', 'Figure1.png',\n",
    "      'Figure2.pdf', 'Figure2.png', 'Figure2.png', 'plots.png', 'entropy.png',\n",
    "      'README.md']\n",
    "\n",
    "for f in files:\n",
    "    rpgit.gitAdd(f)\n",
    "rpgit.gitCommit('Additional files for the MS commited manually')"
   ]
  }
 ],
 "metadata": {
  "kernelspec": {
   "display_name": "Python 2",
   "language": "python",
   "name": "python2"
  },
  "language_info": {
   "codemirror_mode": {
    "name": "ipython",
    "version": 2
   },
   "file_extension": ".py",
   "mimetype": "text/x-python",
   "name": "python",
   "nbconvert_exporter": "python",
   "pygments_lexer": "ipython2",
   "version": "2.7.6"
  }
 },
 "nbformat": 4,
 "nbformat_minor": 0
}
