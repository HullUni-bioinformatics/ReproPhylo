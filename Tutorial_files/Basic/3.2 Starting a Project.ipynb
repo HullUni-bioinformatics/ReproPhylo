{
 "cells": [
  {
   "cell_type": "markdown",
   "metadata": {},
   "source": [
    "***See quick reference at the bottom***  \n",
    "***See full module reference section for full details***\n",
    "  \n",
    "In the begining of each analysis, the first step is to load ReproPhylo and its dependencies with the command"
   ]
  },
  {
   "cell_type": "code",
   "execution_count": 1,
   "metadata": {
    "collapsed": true
   },
   "outputs": [],
   "source": [
    "from reprophylo import *"
   ]
  },
  {
   "cell_type": "markdown",
   "metadata": {},
   "source": [
    "Once this is done we can start a `Project`. A `Project` contains all the data, metadata, methods and environment information, and it is the unit that is saved as a [pickle](http://en.wikipedia.org/wiki/Pickle_%28Python%29) file that is version controled with <a href=http://en.wikipedia.org/wiki/Git_(software)>Git</a>. To start a `Project`, we have to specify the loci to analyse (not actual sequence data, only some information on the loci) and a pickle file name.\n",
    "\n",
    "## 3.2.1 Describing Loci\n",
    "A locus can be described manually using a command or by providing a file. For each locus, the character type (DNA or protein) the feature type (eg, rRNA, CDS or gene), the name of the locus (eg, MT-CO1) and other possible aliases which may come handy if we want to read a genbank file (eg, cox1, coi), have to be described.  \n",
    "**Describe loci using a command**"
   ]
  },
  {
   "cell_type": "code",
   "execution_count": 2,
   "metadata": {
    "collapsed": true
   },
   "outputs": [],
   "source": [
    "coi = Locus(char_type='dna', \n",
    "            feature_type='CDS', \n",
    "            name='MT-CO1',\n",
    "            aliases=['cox1', 'coi'])"
   ]
  },
  {
   "cell_type": "markdown",
   "metadata": {},
   "source": [
    "This is a single locus description (a `Locus` object). We can confirm its content by printing it like this:"
   ]
  },
  {
   "cell_type": "code",
   "execution_count": 3,
   "metadata": {
    "collapsed": false
   },
   "outputs": [
    {
     "name": "stdout",
     "output_type": "stream",
     "text": [
      "Locus(char_type=dna, feature_type=CDS, name=MT-CO1, aliases=cox1; coi)\n"
     ]
    }
   ],
   "source": [
    "print coi"
   ]
  },
  {
   "cell_type": "markdown",
   "metadata": {},
   "source": [
    "**Describing loci using a file**  \n",
    "Another way of describing loci is to write them in a file. The file has one line for each locus, where each line has at least four items, separated by commas. The item, as above, are the character type, the feature type, the name of the locus and other possible aliases. At least one alias must be specified, but it can be identical to the name. For the MT-CO1 locus, a file would look like this:  \n",
    "  \n",
    "`dna,CDS,MT-CO1,cox1,coi`\n",
    "\n",
    "**Deducing a loci file from a genbank file**\n",
    "\n",
    "A third way of describing loci is to run a command that guesses them from a genbank file and writes them into a comma delimited file, as above. This file can be used as is, or it can be edited. The following command will prepare such a loci file from a genbank file containing all the GenBank records belonging to the sponge family Tetillidae. Text starting with a hash (`#`) is a comment which do not affect the command:"
   ]
  },
  {
   "cell_type": "code",
   "execution_count": 4,
   "metadata": {
    "collapsed": true
   },
   "outputs": [],
   "source": [
    "list_loci_in_genbank('data/Tetillidae.gb', # The input genbank\n",
    "                                           # file\n",
    "                     \n",
    "                     'data/loci.csv',      # The loci file\n",
    "                     \n",
    "                     'outputs/loci_counts.txt') # Additional\n",
    "                                                # output,\n",
    "                                                # discussed\n",
    "                                                # below."
   ]
  },
  {
   "cell_type": "markdown",
   "metadata": {},
   "source": [
    "The command generated the loci file and wrote it in `data/loci.csv`. Here are some excerpts separated by three dots:\n",
    "  \n",
    "<pre>\n",
    "dna,rRNA,18s,18S ribosomal RNA,18S rRNA\n",
    "dna,rRNA,28s,28S large subunit ribosomal RNA,28S ribosomal RNA\n",
    "...\n",
    "dna,CDS,MT-ATP8,atp8,ATP8\n",
    "dna,CDS,MT-CO1,coi,COI,cox1,COX1,coxI\n",
    "...\n",
    "dna,rRNA,rnl,rnl\n",
    "dna,rRNA,rns,rns\n",
    "dna,rRNA,rrnL,rrnL\n",
    "</pre>\n",
    "  \n",
    "Each line represents a locus that was found in the genbank file `data/Tetillidae.gb`. For some genes, such as 18s, synonyms were recognized and placed as aliases in one line. In other cases, such as for `rnl` and `rrnL`, they were not. \n",
    "\n",
    "**Editing the loci file**  \n",
    "Possible edits to this file include:\n",
    "\n",
    "* *Synonymization*. This is done by adding a comma and a shared integer in all the lines that are the same locus. For example the lines  \n",
    "  \n",
    "&nbsp;&nbsp;&nbsp;&nbsp;&nbsp;&nbsp;&nbsp;`dna,rRNA,rnl,rnl`  \n",
    "&nbsp;&nbsp;&nbsp;&nbsp;&nbsp;&nbsp;&nbsp;`dna,rRNA,rrnL,rrnL`  \n",
    "  \n",
    "&nbsp;&nbsp;&nbsp;&nbsp;&nbsp;&nbsp;&nbsp;will become  \n",
    "  \n",
    "&nbsp;&nbsp;&nbsp;&nbsp;&nbsp;&nbsp;&nbsp;`dna,rRNA,rnl,rnl,`**`9`**  \n",
    "&nbsp;&nbsp;&nbsp;&nbsp;&nbsp;&nbsp;&nbsp;`dna,rRNA,rrnL,rrnL`,**`9`**  \n",
    "\n",
    "&nbsp;&nbsp;&nbsp;&nbsp;&nbsp;&nbsp;&nbsp;Which integer is written is unimportant, as long as it is shared between synonymous lines.  \n",
    "  \n",
    "* *Change of character type*. If our data includes translations, we can change `dna` to `prot`, as such:  \n",
    "  \n",
    "&nbsp;&nbsp;&nbsp;&nbsp;&nbsp;&nbsp;&nbsp;**`prot`**`,CDS,MT-CO1,coi,COI,cox1,COX1,coxI`.  \n",
    "  \n",
    "&nbsp;&nbsp;&nbsp;&nbsp;&nbsp;&nbsp;&nbsp;This will tell the program to use protein sequences instead of DNA sequence. The sequence alignment tutorial explains how to use both protein and DNA sequence of the same locus to conduct codon alignment.\n",
    "  \n",
    "* *Deletion of loci*. It is possible to delete loci we do not want to analyse. They will not be read, even if they exit in our data. The second file the the command above produced, the **`outputs/loci_counts.txt`**, contains a list of the loci found in the genbank file, with the number of their occurances. This can be used as a guide when desciding which loci to delete and which to keep.  \n",
    "\n",
    "## 3.2.2 Loading loci to a new `Project`\n",
    "**Loading `Locus` objects**  \n",
    "First will add a `Locus` object to make a point that more than one can be read:"
   ]
  },
  {
   "cell_type": "code",
   "execution_count": null,
   "metadata": {
    "collapsed": true
   },
   "outputs": [],
   "source": [
    "ssu = Locus('dna','rRNA','18S',['ssu','SSU-rRNA'])"
   ]
  },
  {
   "cell_type": "markdown",
   "metadata": {},
   "source": [
    "regardless if we have one or more `Locus` objects, they are read as a list, which means the are wrapped with square brackets and separated by comma:"
   ]
  },
  {
   "cell_type": "code",
   "execution_count": null,
   "metadata": {
    "collapsed": true
   },
   "outputs": [],
   "source": [
    "loci_list = [coi, ssu]"
   ]
  },
  {
   "cell_type": "markdown",
   "metadata": {},
   "source": [
    "This command will start the `Project` and will write it to the pickle file `outputs/StartingProject.pkpj`:"
   ]
  },
  {
   "cell_type": "code",
   "execution_count": null,
   "metadata": {
    "collapsed": true
   },
   "outputs": [],
   "source": [
    "pj = Project(loci_list, pickle='outputs/StartingProject.pkpj')"
   ]
  },
  {
   "cell_type": "markdown",
   "metadata": {},
   "source": [
    "This command will start a `Project` and will load the loci from a file that looks like this:  \n",
    "  \n",
    "<pre>\n",
    "dna,rRNA,18s,18S ribosomal RNA,18S rRNA\n",
    "dna,rRNA,28s,28S large subunit ribosomal RNA\n",
    "dna,CDS,MT-CO1,coi,COI,cox1,COX1,coxI\n",
    "</pre>"
   ]
  },
  {
   "cell_type": "code",
   "execution_count": null,
   "metadata": {
    "collapsed": true
   },
   "outputs": [],
   "source": [
    "pj = Project('data/edited_loci.csv',\n",
    "             pickle='outputs/StartingProject.pkpj')"
   ]
  },
  {
   "cell_type": "markdown",
   "metadata": {},
   "source": [
    "This will provoke a bunch of Git related messages which will be discussed in the version control section of this tutorial.   \n",
    "If we print the `Project` we'll get this massage:"
   ]
  },
  {
   "cell_type": "code",
   "execution_count": 6,
   "metadata": {
    "collapsed": false
   },
   "outputs": [
    {
     "name": "stdout",
     "output_type": "stream",
     "text": [
      "Project object with the loci 18s,28s,MT-CO1,\n"
     ]
    }
   ],
   "source": [
    "print pj"
   ]
  },
  {
   "cell_type": "markdown",
   "metadata": {},
   "source": [
    "## 3.2.3 Quick reference"
   ]
  },
  {
   "cell_type": "code",
   "execution_count": null,
   "metadata": {
    "collapsed": true
   },
   "outputs": [],
   "source": [
    "# A Locus object\n",
    "coi = Locus(char_type='dna',         # or 'prot'\n",
    "            feature_type='CDS',      # any string\n",
    "            name='MT-CO1',           # any string\n",
    "            aliases=['coi', 'cox1']) # list of strings\n",
    "\n",
    "# Guess loci.csv file from a genbank file\n",
    "list_loci_in_genbank('genbank.gb',\n",
    "                     'loci.csv',\n",
    "                     'loci_counts.txt')\n",
    "\n",
    "# Start a Project\n",
    "# With a Locus object list\n",
    "pj = Project([coi, ssu], pickle='pickle_filename')\n",
    "\n",
    "# With a loci.csv file\n",
    "pj = Project('loci.csv', pickle='pickle_filename')"
   ]
  }
 ],
 "metadata": {
  "kernelspec": {
   "display_name": "Python 2",
   "language": "python",
   "name": "python2"
  },
  "language_info": {
   "codemirror_mode": {
    "name": "ipython",
    "version": 2
   },
   "file_extension": ".py",
   "mimetype": "text/x-python",
   "name": "python",
   "nbconvert_exporter": "python",
   "pygments_lexer": "ipython2",
   "version": "2.7.6"
  }
 },
 "nbformat": 4,
 "nbformat_minor": 0
}
