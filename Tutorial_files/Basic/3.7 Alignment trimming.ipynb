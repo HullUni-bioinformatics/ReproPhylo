{
 "cells": [
  {
   "cell_type": "markdown",
   "metadata": {},
   "source": [
    "This section starts with a `Project` that already contains alignments:"
   ]
  },
  {
   "cell_type": "code",
   "execution_count": 1,
   "metadata": {
    "collapsed": false
   },
   "outputs": [
    {
     "name": "stderr",
     "output_type": "stream",
     "text": [
      "DEBUG:Cloud:Log file (/home/amir/.picloud/cloud.log) opened\n"
     ]
    }
   ],
   "source": [
    "from reprophylo import *\n",
    "pj = unpickle_pj('./outputs/my_project.pkpj',\n",
    "                 git=False)"
   ]
  },
  {
   "cell_type": "markdown",
   "metadata": {},
   "source": [
    "If we call the keys of the `pj.alignments` dictionary, we can see the names of the alignments it contains:"
   ]
  },
  {
   "cell_type": "code",
   "execution_count": 2,
   "metadata": {
    "collapsed": false
   },
   "outputs": [
    {
     "data": {
      "text/plain": [
       "['28s@muscleDefault', 'MT-CO1@mafftLinsi', '18s@muscleDefault']"
      ]
     },
     "execution_count": 2,
     "metadata": {},
     "output_type": "execute_result"
    }
   ],
   "source": [
    "pj.alignments.keys()"
   ]
  },
  {
   "cell_type": "markdown",
   "metadata": {},
   "source": [
    "## 3.7.1 Configuring an alignment trimming process\n",
    "Like the sequence alignment phase, alignment trimming has its own configuration class, the `TrimalConf` class. An object of this class will generate a command-line and the required input files for the program [TrimAl](http://trimal.cgenomics.org/introduction), but will not execute the process (this is shown below). Once the process has been successfully executed, this `TrimalConf` object is also stored in `pj.used_methods` and it can be invoked as a report.\n",
    "### 3.7.1.1 Example1, the default gappyput algorithm\n",
    "With `TrimalConf`, instead of specifying loci names, we provide alignment names, as they appear in the keys of `pj.alignments`"
   ]
  },
  {
   "cell_type": "code",
   "execution_count": 3,
   "metadata": {
    "collapsed": false
   },
   "outputs": [
    {
     "name": "stdout",
     "output_type": "stream",
     "text": [
      "trimal -in 587711440759152.37_MT-CO1@mafftLinsi.fasta -gappyout\n"
     ]
    }
   ],
   "source": [
    "gappyout = TrimalConf(pj,                                # The Project\n",
    "                    \n",
    "                      method_name='gappyout',            # Any unique string ('gappyout' is default)\n",
    "                    \n",
    "                      program_name='trimal',             # No alternatives in this ReproPhylo version\n",
    "                    \n",
    "                      cmd='default',                     # the default is trimal. Change it here\n",
    "                                                         # or in pj.defaults['trimal']\n",
    "                    \n",
    "                      alns=['MT-CO1@mafftLinsi'],        # 'all' by default\n",
    "                    \n",
    "                      trimal_commands={'gappyout': True} # By default, the gappyout algorithm is used.\n",
    "                      )  "
   ]
  },
  {
   "cell_type": "markdown",
   "metadata": {},
   "source": [
    "### 3.7.1.2 List comprehension to subset alignments\n",
    "In this example, it is easy enough to copy and paste alignment names into a list and pass it to `TrimalConf`. But this is more difficult if we want to fish out a subset of alignments from a very large list of alignments. In such cases, Python's list comprehension is very useful. Below I show two uses of list comprehension, but the more you feel comfortable with this approach, the better.\n",
    "  \n",
    "**Getting locus names of rRNA loci**  \n",
    "If you read the code line that follows very carefully, you will see it quite literally says \"take the name of each `Locus` found in `pj.loci` if its feature type is rRNA, and put it in a list\":"
   ]
  },
  {
   "cell_type": "code",
   "execution_count": 4,
   "metadata": {
    "collapsed": false
   },
   "outputs": [
    {
     "name": "stdout",
     "output_type": "stream",
     "text": [
      "['18s', '28s']\n"
     ]
    }
   ],
   "source": [
    "rRNA_locus_names = [locus.name for locus in pj.loci if locus.feature_type == 'rRNA']\n",
    "print rRNA_locus_names"
   ]
  },
  {
   "cell_type": "markdown",
   "metadata": {},
   "source": [
    "what we get is a list of names of our rRNA loci.  \n",
    "  \n",
    "**Getting alignment names that have locus names of rRNA loci**  \n",
    "The following line says: \"take the key of each alignment from the `pj.alignments` dictionary if the first word before the '@' symbol is in the list of rRNA locus names, and put this key in a list\":"
   ]
  },
  {
   "cell_type": "code",
   "execution_count": 5,
   "metadata": {
    "collapsed": false
   },
   "outputs": [
    {
     "name": "stdout",
     "output_type": "stream",
     "text": [
      "['28s@muscleDefault', '18s@muscleDefault']\n"
     ]
    }
   ],
   "source": [
    "rRNA_alignment_names = [key for key in pj.alignments.keys() if key.split('@')[0] in rRNA_locus_names]\n",
    "print rRNA_alignment_names"
   ]
  },
  {
   "cell_type": "markdown",
   "metadata": {},
   "source": [
    "We get a list of keys, of the rRNA loci alignments we produced on the previous section, and which are stored in the `pj.alignments` dictionary. We can now pass this list to a new `TrimalConf` instance that will only process rRNA locus alignments:"
   ]
  },
  {
   "cell_type": "code",
   "execution_count": 6,
   "metadata": {
    "collapsed": false
   },
   "outputs": [
    {
     "name": "stdout",
     "output_type": "stream",
     "text": [
      "trimal -in 915841440759159.29_28s@muscleDefault.fasta -gt 0.5\n",
      "trimal -in 915841440759159.29_18s@muscleDefault.fasta -gt 0.5\n"
     ]
    }
   ],
   "source": [
    "gt50 = TrimalConf(pj,\n",
    "                  method_name='gt50',\n",
    "                  alns = rRNA_alignment_names,\n",
    "                  trimal_commands={'gt': 0.5}  # This will keep positions with up to\n",
    "                                               # 50% gaps.\n",
    "                  )"
   ]
  },
  {
   "cell_type": "markdown",
   "metadata": {},
   "source": [
    "## 3.7.2 Executing the alignment trimming process\n",
    "As for the alignment phase, this is done with a `Project` method, which accepts a list of `TrimalConf` objects."
   ]
  },
  {
   "cell_type": "code",
   "execution_count": 7,
   "metadata": {
    "collapsed": true
   },
   "outputs": [],
   "source": [
    "pj.trim([gappyout, gt50])"
   ]
  },
  {
   "cell_type": "markdown",
   "metadata": {},
   "source": [
    "Once used, these objects are also placed in the `pj.used_methods` dictionary, and they can be printed out for observation:"
   ]
  },
  {
   "cell_type": "code",
   "execution_count": 8,
   "metadata": {
    "collapsed": false
   },
   "outputs": [
    {
     "name": "stdout",
     "output_type": "stream",
     "text": [
      "TrimalConf named gappyout with ID 587711440759152.37\n",
      "Alignments: MT-CO1@mafftLinsi \n",
      "Created on: Fri Aug 28 11:52:32 2015\n",
      "Commands:\n",
      "MT-CO1@mafftLinsi@gappyout: trimal -in 587711440759152.37_MT-CO1@mafftLinsi.fasta -gappyout\n",
      "\n",
      "Environment:Platform: Linux-3.13.0-40-generic-x86_64-with-Ubuntu-14.04-trusty\n",
      " Processor: x86_64\n",
      " Python build: defaultJun 22 2015 17:58:13\n",
      " Python compiler: GCC 4.8.2\n",
      " Python implementation: CPython\n",
      " Python version: 2.7.6\n",
      " ete2 version: 2.2rev1056\n",
      " biopython version: 1.64\n",
      " dendropy version: 3.12.0\n",
      " cloud version: 2.8.5\n",
      " reprophylo version 1.0\n",
      " User: amir-TECRA-W50-A\n",
      " Program and version: trimAl 1.2rev59\n",
      " Program reference: Salvador Capella-Gutierrez; Jose M. Silla-Martinez; Toni Gabaldon. trimAl: a tool for automated alignment trimming in large-scale phylogenetic analyses. Bioinformatics 2009 25: 1972-1973.\n",
      "execution time:\n",
      "0.478782892227\n",
      "\n",
      "==============================\n",
      "Core Methods section sentence:\n",
      "==============================\n",
      "The alignment(s) MT-CO1@mafftLinsi were trimmed using the program trimAl 1.2rev59 [1].\n",
      "\n",
      "Reference:\n",
      "Salvador Capella-Gutierrez; Jose M. Silla-Martinez; Toni Gabaldon. trimAl: a tool for automated alignment trimming in large-scale phylogenetic analyses. Bioinformatics 2009 25: 1972-1973.\n",
      "\n"
     ]
    }
   ],
   "source": [
    "print pj.used_methods['gappyout']"
   ]
  },
  {
   "cell_type": "markdown",
   "metadata": {},
   "source": [
    "## 3.7.3 Accessing trimmed sequence alignments\n",
    "### 3.7.3.1 The `pj.trimmed_alignments` dictionary\n",
    "The trimmed alignments themselves are stored in the `pj.trimmed_alignments` dictionary, using keys that follow this pattern: `locus_name@alignment_method_name@trimming_method_name` where `alignment_method_name` is the name you have provided to your `AlnConf` object and `trimming_method_name` is the one you provided to your `TrimalConf` object."
   ]
  },
  {
   "cell_type": "code",
   "execution_count": 9,
   "metadata": {
    "collapsed": false
   },
   "outputs": [
    {
     "data": {
      "text/plain": [
       "{'18s@muscleDefault@gt50': <<class 'Bio.Align.MultipleSeqAlignment'> instance (52 records of length 1685, IUPACAmbiguousDNA()) at 7fe542480510>,\n",
       " '28s@muscleDefault@gt50': <<class 'Bio.Align.MultipleSeqAlignment'> instance (48 records of length 798, IUPACAmbiguousDNA()) at 7fe542480550>,\n",
       " 'MT-CO1@mafftLinsi@gappyout': <<class 'Bio.Align.MultipleSeqAlignment'> instance (73 records of length 1107, IUPACAmbiguousDNA()) at 7fe5424d6dd0>}"
      ]
     },
     "execution_count": 9,
     "metadata": {},
     "output_type": "execute_result"
    }
   ],
   "source": [
    "pj.trimmed_alignments"
   ]
  },
  {
   "cell_type": "markdown",
   "metadata": {},
   "source": [
    "### 3.7.3.2 Accessing a `MultipleSeqAlignment` object\n",
    "A trimmed alignment can be easily accessed and manipulated with any of [Biopython's `AlignIO` tricks](http://biopython.org/DIST/docs/tutorial/Tutorial.html#htoc67) using the `fta` `Project` method:"
   ]
  },
  {
   "cell_type": "code",
   "execution_count": 10,
   "metadata": {
    "collapsed": false
   },
   "outputs": [
    {
     "name": "stdout",
     "output_type": "stream",
     "text": [
      "returning trimmed alignment object 18s@muscleDefault@gt50\n",
      " 4 10\n",
      "KC762720.1_f0  CCAATCCCGA \n",
      "KC774024.1_f0  CCAATCCCGA \n",
      "KC762713.1_f0  CCAATCGGGA \n",
      "KC762708.1_f0  CCAATCCCGA \n",
      "\n"
     ]
    }
   ],
   "source": [
    "print pj.fta('18s@muscleDefault@gt50')[:4,410:420].format('phylip-relaxed')"
   ]
  },
  {
   "cell_type": "markdown",
   "metadata": {},
   "source": [
    "### 3.7.3.3 Writing trimmed sequence alignment files\n",
    "Trimmed alignment text files can be dumped in any [`AlignIO` format](http://biopython.org/wiki/AlignIO#File_Formats) for usage in an external command line or GUI program. When writing to files, you can control the header of the sequence by, for example, adding the organism name of the gene name, or by replacing the feature ID with the record ID:"
   ]
  },
  {
   "cell_type": "code",
   "execution_count": 11,
   "metadata": {
    "collapsed": false
   },
   "outputs": [
    {
     "data": {
      "text/plain": [
       "['28s@muscleDefault@gt50_trimmed_aln.fasta',\n",
       " '18s@muscleDefault@gt50_trimmed_aln.fasta',\n",
       " 'MT-CO1@mafftLinsi@gappyout_trimmed_aln.fasta']"
      ]
     },
     "execution_count": 11,
     "metadata": {},
     "output_type": "execute_result"
    }
   ],
   "source": [
    "# record_id and source_organism are feature qualifiers in the SeqRecord object\n",
    "# See section 3.4\n",
    "files = pj.write_trimmed_alns(id=['record_id','source_organism'],\n",
    "                                   format='fasta')\n",
    "files"
   ]
  },
  {
   "cell_type": "markdown",
   "metadata": {},
   "source": [
    "The files will always be written to the current working directory (where this notebook file is), and can immediately be moved programmatically to avoid clutter: "
   ]
  },
  {
   "cell_type": "code",
   "execution_count": 12,
   "metadata": {
    "collapsed": false
   },
   "outputs": [],
   "source": [
    "# make a new directory for your trimmed alignment files:\n",
    "if not os.path.exists('trimmed_alignment_files'):\n",
    "    os.mkdir('trimmed_alignment_files')\n",
    "    \n",
    "# move the files there\n",
    "for f in files:\n",
    "    os.rename(f, \"./trimmed_alignment_files/%s\"%f)"
   ]
  },
  {
   "cell_type": "markdown",
   "metadata": {},
   "source": [
    "### 3.7.3.4 Viewing trimmed alignments\n",
    "Trimmed alignments can be viewed in the same way as alignments, but using this command:"
   ]
  },
  {
   "cell_type": "code",
   "execution_count": 13,
   "metadata": {
    "collapsed": false
   },
   "outputs": [],
   "source": [
    "pj.show_aln('MT-CO1@mafftLinsi@gappyout',id=['source_organism'])"
   ]
  },
  {
   "cell_type": "code",
   "execution_count": 15,
   "metadata": {
    "collapsed": false
   },
   "outputs": [
    {
     "data": {
      "text/plain": [
       "'outputs/my_project.pkpj'"
      ]
     },
     "execution_count": 15,
     "metadata": {},
     "output_type": "execute_result"
    }
   ],
   "source": [
    "pickle_pj(pj, 'outputs/my_project.pkpj')"
   ]
  },
  {
   "cell_type": "markdown",
   "metadata": {},
   "source": [
    "## 3.7.4  Quick reference"
   ]
  },
  {
   "cell_type": "code",
   "execution_count": null,
   "metadata": {
    "collapsed": true
   },
   "outputs": [],
   "source": [
    "# Make a TrimalConf object\n",
    "trimconf = TrimalConf(pj, **kwargs)\n",
    "\n",
    "# Execute alignment process\n",
    "pj.trim([trimconf])\n",
    "\n",
    "# Show AlnConf description\n",
    "print pj.used_methods['method_name']\n",
    "\n",
    "# Fetch a MultipleSeqAlignment object\n",
    "trim_aln_obj = pj.fta('locus_name@aln_method_name@trim_method_name')\n",
    "\n",
    "# Write alignment text files\n",
    "pj.write_trimmed_alns(id=['some_feature_qualifier'], format='fasta')\n",
    "# the default feature qualifier is 'feature_id'\n",
    "# 'fasta' is the default format\n",
    "\n",
    "# View alignment in browser\n",
    "pj.show_aln('locus_name@aln_method_name@trim_method_name',id=['some_feature_qualifier'])"
   ]
  },
  {
   "cell_type": "code",
   "execution_count": null,
   "metadata": {
    "collapsed": true
   },
   "outputs": [],
   "source": []
  }
 ],
 "metadata": {
  "kernelspec": {
   "display_name": "Python 2",
   "language": "python",
   "name": "python2"
  },
  "language_info": {
   "codemirror_mode": {
    "name": "ipython",
    "version": 2
   },
   "file_extension": ".py",
   "mimetype": "text/x-python",
   "name": "python",
   "nbconvert_exporter": "python",
   "pygments_lexer": "ipython2",
   "version": "2.7.6"
  }
 },
 "nbformat": 4,
 "nbformat_minor": 0
}
