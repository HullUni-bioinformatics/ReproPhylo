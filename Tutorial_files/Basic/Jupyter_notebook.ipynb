{
 "cells": [
  {
   "cell_type": "markdown",
   "metadata": {},
   "source": [
    "## This is a text cell here\n",
    "\n",
    "When instructions and descriptions can be provided"
   ]
  },
  {
   "cell_type": "code",
   "execution_count": 9,
   "metadata": {
    "collapsed": false
   },
   "outputs": [
    {
     "name": "stdout",
     "output_type": "stream",
     "text": [
      "This is a code cell where code can\n",
      "be written and executed\n"
     ]
    }
   ],
   "source": [
    "print \"This is a code cell where code can\"\n",
    "print \"be written and executed\""
   ]
  },
  {
   "cell_type": "code",
   "execution_count": 7,
   "metadata": {
    "collapsed": false
   },
   "outputs": [
    {
     "data": {
      "image/png": "[encoded data removed]",
      "text/plain": [
       "<matplotlib.figure.Figure at 0x7f5e1b7a6550>"
      ]
     },
     "metadata": {},
     "output_type": "display_data"
    }
   ],
   "source": [
    "from reprophylo import *\n",
    "%matplotlib inline\n",
    "\n",
    "data = np.random.normal(loc=0.0, scale=1.0, size=1000)\n",
    "hist = plt.hist(data)"
   ]
  },
  {
   "cell_type": "code",
   "execution_count": 10,
   "metadata": {
    "collapsed": false
   },
   "outputs": [
    {
     "name": "stdout",
     "output_type": "stream",
     "text": [
      "3.1 IPython Notebook Intro.ipynb   data\r\n",
      "3.2 Starting a Project.ipynb\t   images\r\n",
      "3.3 Reading Data.ipynb\t\t   Jupyter_notebook.ipynb\r\n",
      "3.4 Metadata handling.ipynb\t   outputs\r\n",
      "3.5 Pre alignment filtering.ipynb  USER\r\n",
      "BASIC-old.ipynb\r\n"
     ]
    }
   ],
   "source": [
    "!ls"
   ]
  },
  {
   "cell_type": "code",
   "execution_count": null,
   "metadata": {
    "collapsed": true
   },
   "outputs": [],
   "source": []
  }
 ],
 "metadata": {
  "kernelspec": {
   "display_name": "Python 2",
   "language": "python",
   "name": "python2"
  },
  "language_info": {
   "codemirror_mode": {
    "name": "ipython",
    "version": 2
   },
   "file_extension": ".py",
   "mimetype": "text/x-python",
   "name": "python",
   "nbconvert_exporter": "python",
   "pygments_lexer": "ipython2",
   "version": "2.7.6"
  }
 },
 "nbformat": 4,
 "nbformat_minor": 0
}
