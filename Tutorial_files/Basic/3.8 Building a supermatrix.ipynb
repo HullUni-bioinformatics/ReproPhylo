{
 "cells": [
  {
   "cell_type": "markdown",
   "metadata": {},
   "source": [
    "This section shows how to build a supermatrix by providing minimal requirements for gene content per taxon (OTU). This approach is more suited for *small scale* analysis, because it relies on manual decisions, whereas *large scale* suprematrices are better constructed with the parameter space and data explorations tools of ReproPhylo. However, these are not addressed in this section. First, lets load our `Project` with the trimmed alignments:"
   ]
  },
  {
   "cell_type": "code",
   "execution_count": 1,
   "metadata": {
    "collapsed": false
   },
   "outputs": [
    {
     "name": "stderr",
     "output_type": "stream",
     "text": [
      "DEBUG:Cloud:Log file (/home/amir/.picloud/cloud.log) opened\n"
     ]
    }
   ],
   "source": [
    "from reprophylo import *\n",
    "pj = unpickle_pj('outputs/my_project.pkpj', git=False)"
   ]
  },
  {
   "cell_type": "markdown",
   "metadata": {},
   "source": [
    "## 3.8.1 Sorting out the metadata\n",
    "The main decision to make when building a supermatrix is what metadata will be used to indicate that sequences of several genes belong to the same OTU in the tree. Obvious candidates would be the species name (stored as `'source_organism'` if we read a GenBank file), or sample ID, voucher specimen and so on. Often, we would be required to modify the metadata in our `Project`, in a way that will correctly reflect the relationship between sequences that emerged from the same sample.  \n",
    "  \n",
    "In the case of the `Tetillidae.gb` example file, sample IDs are stored either under `'source_specimen_voucher'` or `'source_isolate'`. In addition, identical voucher numbers are sometimes formatted differently for different genes.  \n",
    "  \n",
    "In the file `'data/Tetillida_otus_corrected.csv'`, I have unified the columns `'source_specimen_voucher'` and `'source_isolate'` in a single column called `'source_otu'` and also made sure to uniformly format all the voucher specimens:"
   ]
  },
  {
   "cell_type": "code",
   "execution_count": 2,
   "metadata": {
    "collapsed": false
   },
   "outputs": [
    {
     "data": {
      "image/png": "[encoded data removed]",
      "text/plain": [
       "<IPython.core.display.Image object>"
      ]
     },
     "execution_count": 2,
     "metadata": {
      "image/png": {
       "width": 400
      }
     },
     "output_type": "execute_result"
    }
   ],
   "source": [
    "from IPython.display import Image\n",
    "Image('images/fix_otus.png', width = 400)"
   ]
  },
  {
   "cell_type": "markdown",
   "metadata": {},
   "source": [
    "Our `Project` has to be updated with the recent changes to the spreadsheet:"
   ]
  },
  {
   "cell_type": "code",
   "execution_count": 3,
   "metadata": {
    "collapsed": true
   },
   "outputs": [],
   "source": [
    "pj.correct_metadata_from_file('data/Tetillida_otus_corrected.csv')"
   ]
  },
  {
   "cell_type": "markdown",
   "metadata": {},
   "source": [
    "Such fixes can also be done programmatically (see section 3.4)\n",
    "## 3.8.2 Designing the supermatrix\n",
    "Supermatrices are configured with objects of the class `Concatenation`. In a `Concatenation` object we can indicate the following:\n",
    "\n",
    "1. The name of the concatenation\n",
    "2. The loci it includes (here we pass `locus` objects rather than just `Locus` names)\n",
    "3. The qualifier or metadata that stores the relationships among the records\n",
    "4. What loci all the OTUs must have\n",
    "5. Groups of loci from which each OTU must have at least one\n",
    "6. Which trimmed alignment to use, if we have more than one for each locus in our `Project`\n",
    "\n",
    "Here is an example:"
   ]
  },
  {
   "cell_type": "code",
   "execution_count": 4,
   "metadata": {
    "collapsed": true
   },
   "outputs": [],
   "source": [
    "concat = Concatenation('large_concat',                       # Any unique string\n",
    "                       \n",
    "                       pj.loci,                              # This is a list of Locus objects\n",
    "                       \n",
    "                       'source_otu',                         # The values of this qualifier \n",
    "                                                             # flag sequences the belong to the same\n",
    "                                                             # sample\n",
    "                                                    \n",
    "                       otu_must_have_all_of=['MT-CO1'],      # All the OTUS must have a cox1 sequence\n",
    "                       \n",
    "                       otu_must_have_one_of=[['18s','28s']], # All the OTUs must have either 18s or 28s or both\n",
    "                       \n",
    "                       define_trimmed_alns=[]                # We only have one alignment per gene\n",
    "                                                             # so the list is empty (default value)\n",
    "                      )"
   ]
  },
  {
   "cell_type": "markdown",
   "metadata": {},
   "source": [
    "If we print this `Concatenation` object we get this message:"
   ]
  },
  {
   "cell_type": "code",
   "execution_count": 5,
   "metadata": {
    "collapsed": false
   },
   "outputs": [
    {
     "name": "stdout",
     "output_type": "stream",
     "text": [
      "Concatenation named large_concat, with loci 18s,28s,MT-CO1,\n",
      "of which MT-CO1 must exist for all species\n",
      "and at least one of each group of [ 18s 28s ] is represented.\n",
      "Alignments with the following names:  are prefered\n"
     ]
    }
   ],
   "source": [
    "print concat"
   ]
  },
  {
   "cell_type": "markdown",
   "metadata": {},
   "source": [
    "## 3.8.3 Building the supermatrix\n",
    "Building the suprematrix has two steps. First we need to mount the `Concatenation` object onto the `Project` where it will be stored in the list `pj.concatenations`. Second, we need to construct the `MultipleSeqAlignment` object, which will be stored in the `pj.trimmed_alignments` dictionary, under the key `'large_concat'` in this case:"
   ]
  },
  {
   "cell_type": "code",
   "execution_count": 6,
   "metadata": {
    "collapsed": false
   },
   "outputs": [
    {
     "name": "stdout",
     "output_type": "stream",
     "text": [
      "Concatenation large_concat will have the following data\n",
      "OTU                           18s                 28s                 MT-CO1              \n",
      "NIWA_28507                    JX177975.1_f0  JX177943.1_f0  JX177896.1_f0  \n",
      "ZMBN_85230                                   HM592765.1_f0  HM592717.1_f0  \n",
      "NIWA_28910                    JX177982.1_f0                 JX177865.1_f0  \n",
      "VM_14754                      JX177986.1_f0  JX177960.1_f0  HM032751.1_f0  \n",
      "ZMBN_85239                    JX177987.1_f0  JX177959.1_f0  HM592669.1_f0  \n",
      "ZMBN_81789                                   HM592753.1_f0  HM592667.1_f0  \n",
      "QMG_315031                    JX177974.1_f0  JX177942.1_f0  HM032749.2_f0  \n",
      "NIWA_28617                    JX177980.1_f0                 JX177912.1_f0  \n",
      "RMNH_POR_3206                                JX177925.1_f0  JX177892.1_f0  \n",
      "UFBA_2021_POR                                JX177921.1_f0  JX177907.1_f0  \n",
      "NIWA_28586                    JX177978.1_f0  JX177953.1_f0  JX177918.1_f0  \n",
      "QMG_320270                    JX177963.1_f0  JX177931.1_f0  HM032741.1_f0  \n",
      "QMG_318785                    JX177985.1_f0                 HM032752.3_f0  \n",
      "NIWA_25206                    JX177981.1_f0                 JX177917.1_f0  \n",
      "QMG_320216                    JX177966.1_f0                 JX177902.1_f0  \n",
      "MHNM_16194                    HM629803.1_f0  JX177941.1_f0  JX177905.1_f0  \n",
      "ZMA_POR_16637                                HM592820.1_f0  HM592745.1_f0  \n",
      "SAM_S1189                                    JX177929.1_f0  JX177910.1_f0  \n",
      "TAU_25529                     JX177970.1_f0  JX177939.1_f0  JX177906.1_f0  \n",
      "LB_1756                                      JX177933.1_f0  JX177886.1_f0  \n",
      "MNRJ_576                                     JX177957.1_f0  HM032742.1_f0  \n",
      "NIWA_28877                    JX177977.1_f0  JX177950.1_f0  JX177864.2_f0  \n",
      "NIWA_28524                    JX177976.1_f0  JX177945.1_f0  JX177895.1_f0  \n",
      "QMG_316342                    JX177983.1_f0  JX177955.1_f0  HM032747.2_f0  \n",
      "TAU_25568                     JX177969.1_f0  JX177940.1_f0  JX177904.1_f0  \n",
      "NIWA_28929                                   JX177951.1_f0  JX177863.1_f0  \n",
      "DH_S271                       JX177965.1_f0  JX177935.1_f0  JX177913.1_f0  \n",
      "ZMBN_85240                                   HM592754.1_f0  HM592668.1_f0  \n",
      "QMG_321405                                   JX177930.1_f0  HM032743.1_f0  \n",
      "NIWA_36097                                   JX177944.1_f0  JX177866.1_f0  \n",
      "UFBA_2586_POR                                JX177958.1_f0  JX177898.1_f0  \n",
      "NIWA_52077                                   JX177948.1_f0  JX177916.1_f0  \n",
      "QMG_316372                    HE591469.1_f0                 HM032748.2_f0  \n",
      "QMG_320636                    JX177971.1_f0                 HM032745.1_f0  \n",
      "NIWA_28496                                   JX177946.1_f0  JX177897.1_f0  \n",
      "QMG_314224                                   JX177924.1_f0  HM032744.1_f0  \n",
      "QMG_320143                    JX177973.1_f0  JX177922.1_f0  HM032746.1_f0  \n",
      "DH_S124                                      JX177938.1_f0  JX177903.1_f0  \n",
      "SP_DH_S192                    JX177961.1_f0  JX177956.1_f0  JX177901.1_f0  \n",
      "SP_DH_S193                                   JX177926.1_f0  JX177900.1_f0  \n",
      "NIWA_28957                                   JX177949.1_f0  JX177867.2_f0  \n",
      "RMNH_POR_2877                                JX177920.1_f0  JX177909.1_f0  \n",
      "\n"
     ]
    }
   ],
   "source": [
    "pj.add_concatenation(concat)\n",
    "pj.make_concatenation_alignments()"
   ]
  },
  {
   "cell_type": "code",
   "execution_count": 8,
   "metadata": {
    "collapsed": false
   },
   "outputs": [
    {
     "data": {
      "text/plain": [
       "'outputs/my_project.pkpj'"
      ]
     },
     "execution_count": 8,
     "metadata": {},
     "output_type": "execute_result"
    }
   ],
   "source": [
    "pickle_pj(pj, 'outputs/my_project.pkpj')"
   ]
  },
  {
   "cell_type": "markdown",
   "metadata": {},
   "source": [
    "Now that this supermatrix is stored as a trimmed alignment in the `pj.trimmed_alignments` dictionary, we can write it to a file or fetch the `MultipleSeqAlignment` object, as shown in section 3.7.\n",
    "## 3.8.4 Quick reference"
   ]
  },
  {
   "cell_type": "code",
   "execution_count": null,
   "metadata": {
    "collapsed": true
   },
   "outputs": [],
   "source": [
    "# Design a supermatrix\n",
    "concat = Concatenation('concat_name', loci_list, 'otu_qualifier' **kwargs)\n",
    "\n",
    "# Add it to a project\n",
    "pj.add_concatenation(concat)\n",
    "\n",
    "# Build supermatrices based on the Concatenation\n",
    "# objects in pj.concatenations\n",
    "pj.make_concatenation_alignments()"
   ]
  }
 ],
 "metadata": {
  "kernelspec": {
   "display_name": "Python 2",
   "language": "python",
   "name": "python2"
  },
  "language_info": {
   "codemirror_mode": {
    "name": "ipython",
    "version": 2
   },
   "file_extension": ".py",
   "mimetype": "text/x-python",
   "name": "python",
   "nbconvert_exporter": "python",
   "pygments_lexer": "ipython2",
   "version": "2.7.6"
  }
 },
 "nbformat": 4,
 "nbformat_minor": 0
}
