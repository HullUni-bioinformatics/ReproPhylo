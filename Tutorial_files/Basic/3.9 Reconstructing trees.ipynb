{
 "cells": [
  {
   "cell_type": "markdown",
   "metadata": {},
   "source": [
    "Tree reconstruction can be done with RAxML or Phylobayes. This section will cover one example in which we will build a supermatrix tree using RAxML, and a single gene tree using Phylobayes."
   ]
  },
  {
   "cell_type": "code",
   "execution_count": 1,
   "metadata": {
    "collapsed": false
   },
   "outputs": [
    {
     "name": "stderr",
     "output_type": "stream",
     "text": [
      "DEBUG:Cloud:Log file (/home/amir/.picloud/cloud.log) opened\n"
     ]
    }
   ],
   "source": [
    "from reprophylo import *\n",
    "pj = unpickle_pj('outputs/my_project.pkpj', git=False)"
   ]
  },
  {
   "cell_type": "markdown",
   "metadata": {},
   "source": [
    "## 3.9.1 Using RAxML\n",
    "RAxML is configured with the `RaxmlConf` object. This object provides control over the following settings:  \n",
    "\n",
    "1. **`method_name`**: The method name.\n",
    "2. **`program_name` & `cmd`**:. RAxML binaries exist in several versions. **If you are using the Docker container you can leave this as is.** The versions vary in the number of threads they utilized (PTHREADS or not), and the architecture they are optimized for (AVX or SSE3). `raxmlHPC-PTHREADS-SSE3` is the default here, both as the program name and as the cmd. If you do not want to use multiple threads, you have to specify the name and command of the non PTHREADS binary, ie, raxmlHPC.\n",
    "3. **`keepfiles`**: Whether or not to **keep the output files** in the working directory (the tree is stored in the `Project`)\n",
    "5. **`preset`**: The RAxML algorithm. `RaxmlConf` has several preset algorithms:\n",
    "    + `'fa'` - will run a single ML search with rapid bootstrap\n",
    "    + `'fD_fb'` - will run a single ML tree with relBootstrap (quick and least accurate supports calculation)\n",
    "    + `'fd_b_fb'` - will run one or more ML trees with thorough bootstrap (slow and accurate)\n",
    "    + `'fF_fJ'` - will run a fast ML tree with sh-like supports (quick and dirty)\n",
    "    + `'fd_fJ'` - will run one or more (proper) ML tree(s) with sh-like supports (quick supports calculation).\n",
    "4. **`alns`**: Alignments to analyze. all by default. It can be modified by passing a list of trimmed alignment names and/or concatenation names.\n",
    "6. **`model`**: The model of rate heterogeneity. for example, GAMMA (parametric) or CAT (non-parametric). The CAT model is a non parametric approach to categories the rate variation without calculating the GAMMA distribution, as a fast approximation. It is different than the CAT model in Phylobayes, where the number of parameters increases by categorizing the data to subsets, which differ in their substitution matrices and rate variation categories. The CAT in RAxML is \"quick and dirty\". The CAT in Phylobayes is \"slow and accurate.\"\n",
    "7. **`matrix`**: The protein substitution matrix. This parameter is only relevant to protein datasets, and it is ignored for DNA only datasets. By default it is set to 'JTT'. If it is a concatenated analysis, the string specified here will be set as the substitution matrix of each of the protein partitions. **However**, it is possible to pass a dictionary, instead of a string, containing the locus names as keys, and the name of substitution matrix assigned to each of them as values. **Also important**, partition information is taken into account automatically. No need to make a partition file.\n",
    "8. **`threads`**: The number of threads to use. Using PTHREADS, threads=1 is automatically changed to 2. Using the non PTHREADS version, the threads number is set to one, regardless of the value the user passes.\n",
    "9. **`cline_args`**: Other command line arguments, most importantly, the argument `'-N'` should be used to determine the number of ML searches (it is 1 by default and it doesn't work with `fa` or `fF_fJ`), and `'-#'` should be used to set the number of bootstrap replicates (it is 100 by default and it only works with `fD_fb` and `fd_b_fb`). `-N` and `-#` are not synonyms. This is different from the RAxML command line.\n",
    "  \n",
    "The [RAxML manual](http://sco.h-its.org/exelixis/php/countManualNew.php) is an important read, in order to understand all the analysis modifiers that can be passed, and to become familiar with the full range of models and substitution matrices available.\n",
    "  \n",
    "In this example, comments which specify item numbers, refer to the list just above. It will configure a concatenated analysis of the supermatrix `'large_concat'`, with the GTR GAMMA model for all the partitions, utilizing two threads and with two ML searches. Branch supports will be derived from a relBootstrap analysis."
   ]
  },
  {
   "cell_type": "code",
   "execution_count": 2,
   "metadata": {
    "collapsed": false
   },
   "outputs": [
    {
     "name": "stdout",
     "output_type": "stream",
     "text": [
      "raxmlHPC-PTHREADS-SSE3 -f D -m PROTGAMMAJTT -n 221101440759352.8_large_concat0 -q 221101440759352.8_large_concat_partfile -p 603 -s 221101440759352.8_large_concat.fasta -T 4 -N 2\n",
      "raxmlHPC-PTHREADS-SSE3 -f b -m PROTGAMMAJTT -n 221101440759352.8_large_concat1 -q 221101440759352.8_large_concat_partfile -p 369 -s 221101440759352.8_large_concat.fasta -t RAxML_bestTree.221101440759352.8_large_concat0 -T 4 -z RAxML_rellBootstrap.221101440759352.8_large_concat0\n"
     ]
    }
   ],
   "source": [
    "raxml = RaxmlConf(pj,                                    # The Project \n",
    "                  method_name='supermatrix',             # Any string\n",
    "                  program_name='raxmlHPC-PTHREADS-SSE3', # item 2\n",
    "                  keepfiles=False,                       # False is default  \n",
    "                  cmd='default',                         # item 2  \n",
    "                  preset='fD_fb',                        # item 4\n",
    "                  alns=['large_concat'],                 # item 5\n",
    "                  model='GAMMA',                         # item 6\n",
    "                  matrix='JTT',                          # item 7\n",
    "                  threads=4,                             # item 8\n",
    "                  cline_args={'-N': 2}                   # item 9\n",
    "                  )"
   ]
  },
  {
   "cell_type": "markdown",
   "metadata": {},
   "source": [
    "## 3.9.2 Using Phylobayes\n",
    "In this example, a `PbConf` object is set to analyse a single trimmed alignment. The `cline_args` here are horrible and set this way for speed. The default settings, however, are sensible. Still, read the [manual](http://megasun.bch.umontreal.ca/People/lartillot/www/phylobayes4.1.pdf), at least the bits about `nchain`, burn-in and the proper usage of the GTR and/or CAT models (and others)."
   ]
  },
  {
   "cell_type": "code",
   "execution_count": 3,
   "metadata": {
    "collapsed": false
   },
   "outputs": [
    {
     "name": "stdout",
     "output_type": "stream",
     "text": [
      "pb -d 262531440759355.16_28s@muscleDefault@gt50.phylip -gtr -nchain 2 50 0.9 5 -b 1 -cat 262531440759355.16_28s@muscleDefault@gt50\n"
     ]
    }
   ],
   "source": [
    "phylo = PbConf(pj,                                  # Default setting:\n",
    "               method_name='single_gene',           # 'dna_cat_gtr'          \n",
    "               program_name='phylobayes',\n",
    "               keepfiles=False,                     # True\n",
    "               cmd='default',\n",
    "               alns=['28s@muscleDefault@gt50'],     # 'all'\n",
    "               cline_args={'gtr': True,             \n",
    "                           'cat': True,\n",
    "                           'nchain': '2 50 0.9 5',  # '2 100 0.1 100'\n",
    "                           'b': '1'                 # '5'\n",
    "                           }\n",
    "               )"
   ]
  },
  {
   "cell_type": "markdown",
   "metadata": {},
   "source": [
    "## 3.9.3 Executing the tree reconstructions and accessing trees\n",
    "This is done using the `tree` `Project` method:"
   ]
  },
  {
   "cell_type": "code",
   "execution_count": 4,
   "metadata": {
    "collapsed": false
   },
   "outputs": [],
   "source": [
    "pj.tree([raxml, phylo])"
   ]
  },
  {
   "cell_type": "markdown",
   "metadata": {},
   "source": [
    "The resulting trees are placed in the `pj.trees` dictionary, with keys of the form `'locus_name@aln_method@trim_method@tree_method'`. For trees from supermatrices the key is `'concat_name@mixed@mixed@tree_method'`. The values in this dictionary are lists, each with two values. The first in an ETE `Tree` object, and the second is an NHX string representation of the tree."
   ]
  },
  {
   "cell_type": "code",
   "execution_count": 5,
   "metadata": {
    "collapsed": false
   },
   "outputs": [
    {
     "data": {
      "text/plain": [
       "['large_concat@mixed@mixed@supermatrix', '28s@muscleDefault@gt50@single_gene']"
      ]
     },
     "execution_count": 5,
     "metadata": {},
     "output_type": "execute_result"
    }
   ],
   "source": [
    "pj.trees.keys()"
   ]
  },
  {
   "cell_type": "markdown",
   "metadata": {},
   "source": [
    "And as for alignment and trimming, we can review the approaches that we used:"
   ]
  },
  {
   "cell_type": "code",
   "execution_count": 6,
   "metadata": {
    "collapsed": false
   },
   "outputs": [
    {
     "name": "stdout",
     "output_type": "stream",
     "text": [
      "PbConf named single_gene with ID 262531440759355.16\n",
      "Alignments: 28s@muscleDefault@gt50 \n",
      "Created on: Fri Aug 28 11:55:55 2015\n",
      "Commands:\n",
      "28s@muscleDefault@gt50: ['pb -d 262531440759355.16_28s@muscleDefault@gt50.phylip -gtr -nchain 2 50 0.9 5 -b 1 -cat 262531440759355.16_28s@muscleDefault@gt50']\n",
      "\n",
      "Environment:\n",
      "Platform: Linux-3.13.0-40-generic-x86_64-with-Ubuntu-14.04-trusty\n",
      " Processor: x86_64\n",
      " Python build: defaultJun 22 2015 17:58:13\n",
      " Python compiler: GCC 4.8.2\n",
      " Python implementation: CPython\n",
      " Python version: 2.7.6\n",
      " ete2 version: 2.2rev1056\n",
      " biopython version: 1.64\n",
      " dendropy version: 3.12.0\n",
      " cloud version: 2.8.5\n",
      " reprophylo version 1.0\n",
      " User: amir-TECRA-W50-A\n",
      " Program and version: phylobayes version 3.3f\n",
      " Program reference: N. Lartillot\n",
      " T. Lepage and S. Blanquart\n",
      " 2009: PhyloBayes 3: a Bayesian software package for phylogenetic reconstruction and molecular dating. Bioinformatics Vol. 25 no. 17.\n",
      "execution time:\n",
      "180.445002794\n",
      "\n",
      "==============================\n",
      "Core Methods section sentence:\n",
      "==============================\n",
      "Phylogenetic trees were reconstructed from the dataset(s) 28s@muscleDefault@gt50 using the program phylobayes version 3.3f [1].\n",
      "\n",
      "Reference:\n",
      "N. Lartillot, T. Lepage and S. Blanquart, 2009: PhyloBayes 3: a Bayesian software package for phylogenetic reconstruction and molecular dating. Bioinformatics Vol. 25 no. 17.\n",
      "\n"
     ]
    }
   ],
   "source": [
    "print pj.used_methods['single_gene']"
   ]
  },
  {
   "cell_type": "markdown",
   "metadata": {},
   "source": [
    "`Tree` objects can be fetched easily and manipulated with [ETE tricks](http://etetoolkit.org/docs/2.3/tutorial/index.html), using the `ft` `Project` method."
   ]
  },
  {
   "cell_type": "code",
   "execution_count": 7,
   "metadata": {
    "collapsed": false
   },
   "outputs": [
    {
     "name": "stdout",
     "output_type": "stream",
     "text": [
      "returning tree object 28s@muscleDefault@gt50@single_gene\n"
     ]
    }
   ],
   "source": [
    "t = pj.ft('28s@muscleDefault@gt50@single_gene').convert_to_ultrametric(10)"
   ]
  },
  {
   "cell_type": "markdown",
   "metadata": {},
   "source": [
    "or written to a file in a [suitable format](http://etetoolkit.org/docs/2.3/tutorial/tutorial_trees.html#reading-and-writing-newick-trees)"
   ]
  },
  {
   "cell_type": "code",
   "execution_count": 8,
   "metadata": {
    "collapsed": false
   },
   "outputs": [
    {
     "name": "stdout",
     "output_type": "stream",
     "text": [
      "returning tree object 28s@muscleDefault@gt50@single_gene\n"
     ]
    }
   ],
   "source": [
    "pj.ft('28s@muscleDefault@gt50@single_gene').write(features=['source_organism'], format=5, outfile=\"new_tree.nw\")"
   ]
  },
  {
   "cell_type": "code",
   "execution_count": 10,
   "metadata": {
    "collapsed": false
   },
   "outputs": [
    {
     "data": {
      "text/plain": [
       "'outputs/my_project.pkpj'"
      ]
     },
     "execution_count": 10,
     "metadata": {},
     "output_type": "execute_result"
    }
   ],
   "source": [
    "pickle_pj(pj, 'outputs/my_project.pkpj')"
   ]
  },
  {
   "cell_type": "markdown",
   "metadata": {},
   "source": [
    "## 3.9.4 Quick reference"
   ]
  },
  {
   "cell_type": "code",
   "execution_count": null,
   "metadata": {
    "collapsed": true
   },
   "outputs": [],
   "source": [
    "# Configure a raxml analysis\n",
    "raxml = RaxmlConf(pj, **kwargs)\n",
    "\n",
    "# Configure a phylobayes analysis\n",
    "phylo = PbConf(pj, **kwargs)\n",
    "\n",
    "# Execute tree reconstruction\n",
    "pj.tree([list_of_RaxmlConf_and_or_PbConf_objects])\n",
    "\n",
    "# Fetch an ETE Tree object\n",
    "t = pj.ft('locus_name@aln_name@trim_name@tree_name')\n",
    "\n",
    "# Write newick file\n",
    "t.write(format=5, outfile=\"filename.nw\")\n",
    "\n",
    "# Write NHX format with all the qualifiers\n",
    "t.write(features=[], format=5, outfile=\"filename.nw\")"
   ]
  }
 ],
 "metadata": {
  "kernelspec": {
   "display_name": "Python 2",
   "language": "python",
   "name": "python2"
  },
  "language_info": {
   "codemirror_mode": {
    "name": "ipython",
    "version": 2
   },
   "file_extension": ".py",
   "mimetype": "text/x-python",
   "name": "python",
   "nbconvert_exporter": "python",
   "pygments_lexer": "ipython2",
   "version": "2.7.6"
  }
 },
 "nbformat": 4,
 "nbformat_minor": 0
}
