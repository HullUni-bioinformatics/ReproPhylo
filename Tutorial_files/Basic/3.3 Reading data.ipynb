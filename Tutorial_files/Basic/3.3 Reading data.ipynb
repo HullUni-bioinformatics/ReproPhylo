{
 "cells": [
  {
   "cell_type": "markdown",
   "metadata": {},
   "source": [
    "***See quick reference at the bottom***  \n",
    "***See full module reference section for full details***\n",
    "  \n",
    "This part will show methods by which to read data into the ReproPhylo `Project`\n",
    "## 3.3.1 Reading data from GenBank or EMBL files\n",
    "GenBank or EMBL files should be the prefered way to read data from online databases because ReproPhylo can store all the associated metadata and make it available for steps such as tree annotation or even Bayestraits analysis. When we pass a GenBank file, only loci and feature types that match the loci we have passed upon creating the `Project` will be retained, and the rest will be ignored. This is handy for multi-featured GenBank entries that contain any number of genes on top of the ones we are interested in. In this example, only *cox1* CDSs will be read from entries of complete mitochondrial genomes. First we read the pickle file from the section 3.2:"
   ]
  },
  {
   "cell_type": "code",
   "execution_count": 1,
   "metadata": {
    "collapsed": false
   },
   "outputs": [
    {
     "name": "stderr",
     "output_type": "stream",
     "text": [
      "DEBUG:Cloud:Log file (/home/amir/.picloud/cloud.log) opened\n"
     ]
    }
   ],
   "source": [
    "from reprophylo import *\n",
    "pj = unpickle_pj('outputs/my_project.pkpj', git=False)"
   ]
  },
  {
   "cell_type": "markdown",
   "metadata": {},
   "source": [
    "Now we can add data to the project, by reading a list of one or more GenBank files:"
   ]
  },
  {
   "cell_type": "code",
   "execution_count": 2,
   "metadata": {
    "collapsed": false
   },
   "outputs": [
    {
     "name": "stderr",
     "output_type": "stream",
     "text": [
      "/home/amir/Dropbox/python_modules/reprophylo.py:1015: UserWarning: Version control off\n",
      "  warnings.warn('Version control off')\n"
     ]
    }
   ],
   "source": [
    "input_filnames = ['data/Tetillidae1.gb', 'data/Tetillidae2.gb']\n",
    "pj.read_embl_genbank(input_filnames)"
   ]
  },
  {
   "cell_type": "markdown",
   "metadata": {},
   "source": [
    "## 3.3.2 Reading other sequence file formats\n",
    "When GenBank or EMBL files are read, the accession numbers are used as sequence ID in ReproPhylo. But when other file formats are used, it is difficult to predict whether a unique sequence ID is available in the sequence header. Therefore, ReproPhylo regards data read from other file formats as 'denovo' and creates denovo sequence IDs. For the same reason, there is no mechanism to prevent you from reading the same file twice, at the moment. All the information found in the original sequence header is retained and made available as metadata. ReproPhylo can handle any [format](http://biopython.org/wiki/SeqIO#File_Formats) that is compatible with the SeqIO module of Biopython. Reading prealigned sequences is done by a different dedicated method which will be discussed below. \n",
    "### 3.3.2.1 Reading files\n",
    "In this example we read a fasta file with an unpublished sequence. We will specify the data type ('dna') and the file format. This means that DNA and protein files need to be read in two separate actions."
   ]
  },
  {
   "cell_type": "code",
   "execution_count": 3,
   "metadata": {
    "collapsed": false
   },
   "outputs": [
    {
     "data": {
      "text/plain": [
       "1"
      ]
     },
     "execution_count": 3,
     "metadata": {},
     "output_type": "execute_result"
    }
   ],
   "source": [
    "# This list can include one or more file names\n",
    "denovo_sequence_filenames = ['data/Tetillidae_denovo_sequence.fasta'] \n",
    "pj.read_denovo(denovo_sequence_filenames, 'dna', format='fasta')"
   ]
  },
  {
   "cell_type": "markdown",
   "metadata": {},
   "source": [
    "This is how the 'denovo' record looks like if we ask to print it in GenBank format:"
   ]
  },
  {
   "cell_type": "code",
   "execution_count": 4,
   "metadata": {
    "collapsed": false
   },
   "outputs": [
    {
     "name": "stdout",
     "output_type": "stream",
     "text": [
      "LOCUS       denovo0                 2092 bp    DNA              UNK 01-JAN-1980\n",
      "DEFINITION  NIWA2850 Craniella microsigma cox1\n",
      "ACCESSION   denovo0\n",
      "VERSION     denovo0\n",
      "KEYWORDS    .\n",
      "SOURCE      .\n",
      "  ORGANISM  .\n",
      "            .\n",
      "FEATURES             Location/Qualifiers\n",
      "     source          1..2092\n",
      "                     /feature_id=\"denovo0_source\"\n",
      "                     /original_id=\"NIWA2850\"\n",
      "                     /original_desc=\"Craniella microsigma cox1\"\n",
      "ORIGIN\n",
      "        1 atgataggaa ctggatttag cttgcttatt agattagaac tatccgctcc cggattaatg\n",
      "       61 ttgggtgacg accatttata caatgttatg gtcacggccc acggtcttat aatggtcttt\n",
      "      121 ttcttagtta tgccggttat gataggtggg ttcggtaatt gaatggttcc cctttacatc\n",
      "      181 ggggcaccgg atatggcttt tccaagatta aacaatatta gtttttgagt tttacccccc\n",
      "      241 tcattaatac tactgctagg ttctgctttt gttgaacaag gggttgggac aggatggacc\n",
      "      301 ctttatccac cattatcaag tatacaggct cattctgggg gctcagtcga tgcggcaatt\n",
      "      361 tttagtcttc atttggctgg gatctcttca attttagggg caatgaattt tataactact\n",
      "      421 atctttaata tgcgggcacc tgggattacc atggatagat tgcctctatt tgtttgatct\n",
      "      481 attttaataa caacttattt gttattatta gctttgccag tattggctgg tgccataact\n",
      "      541 atgcttttaa cagatagaaa tttcaataca acgttcttcg atcccgctgg tggtggggac\n",
      "      601 ccaatattat ttcaacattt attttggttc tttgggcatc cggaagttta tgtactagtt\n",
      "      661 ctccccgggt ttggaattgt ttctcagatt attccaacat tcgcggctaa aaaacaaata\n",
      "      721 tttggctatc tagggatggt ctatgctatg gtttctatag gaattttagg ttttatagtt\n",
      "      781 tgagcttgta gatgggcgtg cgatagagtg atctatcgta gtataacatg actgtatgct\n",
      "      841 ggaaagccta aaaaaagaaa ttcattaatt actcgtaatg acaggttcga tacagtaaaa\n",
      "      901 atattaatgg agggtcaatc agcaggcaac ggtatagttt atactggagc ctcagagact\n",
      "      961 acacgtcatg cccttgagga tgatttatat tgagctattg gtttatttga ggccgaagga\n",
      "     1021 accttaaaga taagtaaggg tcggatctat attagtgcgt gtcaatcgac tagtaatata\n",
      "     1081 aaggtccttt accgaataaa gggaatattt tgtttagggg gcgttaaaat aagaaaagac\n",
      "     1141 ccccgttata gtgattgaaa gttagggagc gatttaaata aaatagtaaa attattagtt\n",
      "     1201 tattaatgga gactaatcac tagaaagaaa aatatacaat tagtagagtt gataaagttc\n",
      "     1261 ataaattgta aatattttcc taatttggtt gaatactttg gtttagagta ttgaccccga\n",
      "     1321 ataatgcttg attaactggg tttgttgagg gagatggaaa cttaaatatt cagataagac\n",
      "     1381 cacaccagtg gcggcccgaa tttcgattac acaaaaagag agagatgttt agatttaatc\n",
      "     1441 aatgatattt ttcctgggtc catttgggct tcaggcaatc catcagaaca ctttaaatat\n",
      "     1501 tcggcggggt caataagaac tcgaagtgac tggataaaat attttactag gtatccattt\n",
      "     1561 aaggggaata aaaatattca atatgtgcgt tggttgaaat gccataatat tgttattcaa\n",
      "     1621 ggtctacaca aaaccgagaa ggggttagct caaattaaat caatttggac tcaaggtgaa\n",
      "     1681 gatatagtcc aatcccctta gtaatagggg ggtataacac gattgagtgt tgtaatttaa\n",
      "     1741 gcatcacatg tttacagttg gaatggatgc cgactctagg gcatacttta gcgctgcaac\n",
      "     1801 gatgataatc gccgtaccaa ccggaataaa aatctttagt tggatcgcta cagtagtagg\n",
      "     1861 gggctcattg agaatagata ctcctatgtt atgggctatg ggatttgttt ttttatttac\n",
      "     1921 tgtaggagga ttaaccggaa ttgtggtagc aagtaattct ttagatgtgt tgctccacga\n",
      "     1981 cacatattac gttgttgctc attttcatta tgttctatcc atgggggcta tctttgctat\n",
      "     2041 ctttggaggg gtttattatt gatttggtaa aattactggt tattgttaca ac\n",
      "//\n",
      "\n"
     ]
    }
   ],
   "source": [
    "for r in pj.records:\n",
    "    if r.id == 'denovo0': print r.format('genbank')"
   ]
  },
  {
   "cell_type": "markdown",
   "metadata": {},
   "source": [
    "The record was assigned the ID 'denovo0', and a 'source' feature was created, including the fasta header as the 'original_id' and 'original_desc' qualifiers. However, it has no feature to indicate what locus it is and it will be ignored down the line. It is now up to us to add such a feature. Note that for large scale data, such as Exonerate results, other methods apply and will be discussed later. \n",
    "### 3.3.2.2 Adding features\n",
    "Here we only have one new sequence and we know its ID - 'denovo0' so it is easy enough to add a feature:"
   ]
  },
  {
   "cell_type": "code",
   "execution_count": 5,
   "metadata": {
    "collapsed": false
   },
   "outputs": [
    {
     "data": {
      "text/plain": [
       "'denovo0_f0'"
      ]
     },
     "execution_count": 5,
     "metadata": {},
     "output_type": "execute_result"
    }
   ],
   "source": [
    "pj.add_feature_to_record('denovo0', 'CDS', qualifiers={'gene': 'cox1'})"
   ]
  },
  {
   "cell_type": "markdown",
   "metadata": {},
   "source": [
    "Feature 'denovo0_f0' was created.  \n",
    "  \n",
    "Often we would want to assign gene names to a whole lot of sequences based on one name we recognize in the fasta header. We can create a dictionary that will specify the gene and feature type of each sequence: "
   ]
  },
  {
   "cell_type": "markdown",
   "metadata": {},
   "source": [
    "<pre>\n",
    "feature_lookup = {'NIWA2850': ['CDS','cox1'],\n",
    "                     # If we had more sequences we would add them here:\n",
    "                     # 'Seq2': ['18S', 'rRNA'],\n",
    "                     # ...\n",
    "                    }\n",
    "</pre>"
   ]
  },
  {
   "cell_type": "markdown",
   "metadata": {},
   "source": [
    "Now we can use this dictionary to create the feature:"
   ]
  },
  {
   "cell_type": "markdown",
   "metadata": {},
   "source": [
    "<pre>\n",
    "for r in pj.records:\n",
    "    \n",
    "    source = r.features[0]\n",
    "    quals = source.qualifiers\n",
    "    \n",
    "    if 'original_id' in quals and quals['original_id'][0] in feature_lookup:\n",
    "        \n",
    "        original_id = quals['original_id'][0]\n",
    "        feature_type = feature_lookup[original_id][0]\n",
    "        gene = feature_lookup[original_id][1]\n",
    "        pj.add_feature_to_record(r.id, feature_type, qualifiers={'gene': gene})\n",
    "</pre>"
   ]
  },
  {
   "cell_type": "markdown",
   "metadata": {},
   "source": [
    "The `add_feature_to_record` method allows to limit the feature to just a part of the sequence and to add any number of qualifiers. Look it up in the module reference.  \n",
    "  \n",
    "This is how the record looks now, with the new feature added:"
   ]
  },
  {
   "cell_type": "code",
   "execution_count": 6,
   "metadata": {
    "collapsed": false
   },
   "outputs": [
    {
     "name": "stdout",
     "output_type": "stream",
     "text": [
      "LOCUS       denovo0                 2092 bp    DNA              UNK 01-JAN-1980\n",
      "DEFINITION  NIWA2850 Craniella microsigma cox1\n",
      "ACCESSION   denovo0\n",
      "VERSION     denovo0\n",
      "KEYWORDS    .\n",
      "SOURCE      .\n",
      "  ORGANISM  .\n",
      "            .\n",
      "FEATURES             Location/Qualifiers\n",
      "     source          1..2092\n",
      "                     /feature_id=\"denovo0_source\"\n",
      "                     /original_id=\"NIWA2850\"\n",
      "                     /original_desc=\"Craniella microsigma cox1\"\n",
      "     CDS             1..2092\n",
      "                     /feature_id=\"denovo0_f0\"\n",
      "                     /GC_content=\"37.3804971319\"\n",
      "                     /gene=\"cox1\"\n",
      "                     /nuc_degen_prop=\"0.0\"\n",
      "ORIGIN\n",
      "        1 atgataggaa ctggatttag cttgcttatt agattagaac tatccgctcc cggattaatg\n",
      "       61 ttgggtgacg accatttata caatgttatg gtcacggccc acggtcttat aatggtcttt\n",
      "      121 ttcttagtta tgccggttat gataggtggg ttcggtaatt gaatggttcc cctttacatc\n",
      "      181 ggggcaccgg atatggcttt tccaagatta aacaatatta gtttttgagt tttacccccc\n",
      "      241 tcattaatac tactgctagg ttctgctttt gttgaacaag gggttgggac aggatggacc\n",
      "      301 ctttatccac cattatcaag tatacaggct cattctgggg gctcagtcga tgcggcaatt\n",
      "      361 tttagtcttc atttggctgg gatctcttca attttagggg caatgaattt tataactact\n",
      "      421 atctttaata tgcgggcacc tgggattacc atggatagat tgcctctatt tgtttgatct\n",
      "      481 attttaataa caacttattt gttattatta gctttgccag tattggctgg tgccataact\n",
      "      541 atgcttttaa cagatagaaa tttcaataca acgttcttcg atcccgctgg tggtggggac\n",
      "      601 ccaatattat ttcaacattt attttggttc tttgggcatc cggaagttta tgtactagtt\n",
      "      661 ctccccgggt ttggaattgt ttctcagatt attccaacat tcgcggctaa aaaacaaata\n",
      "      721 tttggctatc tagggatggt ctatgctatg gtttctatag gaattttagg ttttatagtt\n",
      "      781 tgagcttgta gatgggcgtg cgatagagtg atctatcgta gtataacatg actgtatgct\n",
      "      841 ggaaagccta aaaaaagaaa ttcattaatt actcgtaatg acaggttcga tacagtaaaa\n",
      "      901 atattaatgg agggtcaatc agcaggcaac ggtatagttt atactggagc ctcagagact\n",
      "      961 acacgtcatg cccttgagga tgatttatat tgagctattg gtttatttga ggccgaagga\n",
      "     1021 accttaaaga taagtaaggg tcggatctat attagtgcgt gtcaatcgac tagtaatata\n",
      "     1081 aaggtccttt accgaataaa gggaatattt tgtttagggg gcgttaaaat aagaaaagac\n",
      "     1141 ccccgttata gtgattgaaa gttagggagc gatttaaata aaatagtaaa attattagtt\n",
      "     1201 tattaatgga gactaatcac tagaaagaaa aatatacaat tagtagagtt gataaagttc\n",
      "     1261 ataaattgta aatattttcc taatttggtt gaatactttg gtttagagta ttgaccccga\n",
      "     1321 ataatgcttg attaactggg tttgttgagg gagatggaaa cttaaatatt cagataagac\n",
      "     1381 cacaccagtg gcggcccgaa tttcgattac acaaaaagag agagatgttt agatttaatc\n",
      "     1441 aatgatattt ttcctgggtc catttgggct tcaggcaatc catcagaaca ctttaaatat\n",
      "     1501 tcggcggggt caataagaac tcgaagtgac tggataaaat attttactag gtatccattt\n",
      "     1561 aaggggaata aaaatattca atatgtgcgt tggttgaaat gccataatat tgttattcaa\n",
      "     1621 ggtctacaca aaaccgagaa ggggttagct caaattaaat caatttggac tcaaggtgaa\n",
      "     1681 gatatagtcc aatcccctta gtaatagggg ggtataacac gattgagtgt tgtaatttaa\n",
      "     1741 gcatcacatg tttacagttg gaatggatgc cgactctagg gcatacttta gcgctgcaac\n",
      "     1801 gatgataatc gccgtaccaa ccggaataaa aatctttagt tggatcgcta cagtagtagg\n",
      "     1861 gggctcattg agaatagata ctcctatgtt atgggctatg ggatttgttt ttttatttac\n",
      "     1921 tgtaggagga ttaaccggaa ttgtggtagc aagtaattct ttagatgtgt tgctccacga\n",
      "     1981 cacatattac gttgttgctc attttcatta tgttctatcc atgggggcta tctttgctat\n",
      "     2041 ctttggaggg gtttattatt gatttggtaa aattactggt tattgttaca ac\n",
      "//\n",
      "\n"
     ]
    }
   ],
   "source": [
    "for r in pj.records:\n",
    "    if r.id == 'denovo0': print r.format('genbank')"
   ]
  },
  {
   "cell_type": "markdown",
   "metadata": {},
   "source": [
    "Through the qualifiers dictionary, we can also attempt to add a translation of the sequence. We can also define a location for the feature, as a subset of the whole sequence :\n",
    "<pre>\n",
    "qualifiers={'gene': 'cox1',\n",
    "            'transl_table': 4,\n",
    "            'codon_start': 1,\n",
    "            'organism': 'Craniella microsigma'}\n",
    "</pre>\n",
    "      \n",
    "<pre>\n",
    "for record in pj.records:\n",
    "   if 'denovo' in record.id: # New sequences are assigned with IDs starting\n",
    "                             # with 'denovo'\n",
    "       pj.add_feature_to_record(record.id, 'CDS',\n",
    "                                # The location is specified as a list\n",
    "                                # of lists. Every sub-list is an exon\n",
    "                                # and has the start, the end and the strand.\n",
    "                                # The numbers are \"real\" positions and not\n",
    "                                # machine. ie, counting starts from 1.\n",
    "                                location=[[1,786,1],[1742,2092,1]],\n",
    "                                qualifiers=qualifiers)\n",
    "\n",
    "</pre>\n",
    "`transl_table` is the genetic code to use in order to translate the coding sequence into a protein. The number, 4 in this case, specify the table to use, out of the [GenBank genetic code tables](http://www.ncbi.nlm.nih.gov/Taxonomy/Utils/wprintgc.cgi?mode=t)."
   ]
  },
  {
   "cell_type": "markdown",
   "metadata": {},
   "source": [
    "## 3.3.3 Reading sequence alignments"
   ]
  },
  {
   "cell_type": "markdown",
   "metadata": {},
   "source": [
    "ReproPhylo allows to read prealigned sequences in any of the Biopython AlignIO compatible [formats](http://biopython.org/wiki/AlignIO#File_Formats), as follows:\n",
    "<pre>\n",
    "pj.read_alignment('Another_locus.nex', 'dna', 'CDS', 'ND5', format='nexus')\n",
    "</pre>\n",
    "This will place the alignment in the `Project.alignments` attribute (`pj.alignments` in this case) and the unaligned sequences as records in `Project.records`. There must be a `Locus` object in `pj.loci`, that is compatible with the character (dna) feature type (CDS) and the locus name (ND5) specified in the `read_alignmnet` command. The records will be assigned ‘denovo’ IDs, and the nexus sequence names will be stored in the ‘original_id’ qualifiers. ‘original_desc’ qualifier remain empty in this case, because nexus files don’t have them."
   ]
  },
  {
   "cell_type": "markdown",
   "metadata": {},
   "source": [
    "## 3.3.4 Reading a Nexus alignmnet with PAUP commands\n",
    "Many published datasets are available in nexus format with `charset` commands that describe the data partitions. ReproPhylo can read such a matrix, split the partitions into individual alignments and place them in `Project.alignments`, and then put each sequence from each partition in `Project.records`. This facilitates experimentation with the data composition. It is even possible to turn such a nexus file directly into a new `Project` instance with all the information set up. To do that use the following command:"
   ]
  },
  {
   "cell_type": "markdown",
   "metadata": {},
   "source": [
    "<pre>\n",
    "nexus_filename = 'data/some_supermatrix.nex'\n",
    "\n",
    "pj = pj_from_nexus_w_charset(nexus_filename,\n",
    "                             \n",
    "                             'data',             # path to write intermediate fasta file    \n",
    "                             \n",
    "                             'dna',              # Character type ('dna' or 'prot')\n",
    "                             \n",
    "                             'CDS',              # Feature type (Any)\n",
    "                             \n",
    "                             project = True,     # Will return a Project instance instead of a list\n",
    "                                                 # of fasta files per partition \n",
    "                                                 # if project will save it to this file:\n",
    "                             pickle = 'new_pickle_name',\n",
    "                             \n",
    "                             git = True)         # Will start and manage repository\n",
    "</pre>"
   ]
  },
  {
   "cell_type": "code",
   "execution_count": 8,
   "metadata": {
    "collapsed": false
   },
   "outputs": [
    {
     "data": {
      "text/plain": [
       "'outputs/my_project.pkpj'"
      ]
     },
     "execution_count": 8,
     "metadata": {},
     "output_type": "execute_result"
    }
   ],
   "source": [
    "# Update the pickle file\n",
    "pickle_pj(pj, 'outputs/my_project.pkpj')"
   ]
  },
  {
   "cell_type": "markdown",
   "metadata": {
    "collapsed": true
   },
   "source": [
    "## 3.3.5 Quick reference"
   ]
  },
  {
   "cell_type": "code",
   "execution_count": null,
   "metadata": {
    "collapsed": true
   },
   "outputs": [],
   "source": [
    "# Read GenBank or embl files\n",
    "input_filnames = ['file1', 'file2']\n",
    "pj.read_embl_genbank(input_filnames)\n",
    "\n",
    "# Read other formats\n",
    "denovo_sequence_filenames = ['file1.fasta', 'file2.fasta'] \n",
    "pj.read_denovo(denovo_sequence_filenames, 'dna', format='fasta')\n",
    "#Or\n",
    "pj.read_denovo(denovo_sequence_filenames, 'prot', format='fasta')\n",
    "\n",
    "# Add asequence feature to a record\n",
    "pj.add_feature_to_record('someRecordID', 'CDS', qualifiers={'gene': 'cox1'})\n",
    "# Or\n",
    "qualifiers={'gene': 'cox1',\n",
    "            'transl_table': 4,\n",
    "            'codon_start': 1,\n",
    "            'organism': 'Craniella microsigma'}\n",
    "\n",
    "pj.add_feature_to_record(someRecordID, 'CDS',\n",
    "                         location=[[1,786,1],[1742,2092,1]],\n",
    "                         qualifiers=qualifiers)\n",
    "\n",
    "# Read a sequence alignment\n",
    "pj.read_alignment('Another_locus.nex', 'dna', 'CDS', 'ND5', format='nexus')\n",
    "\n",
    "# Read a Nexus alignment with a super-matrix and charset commands\n",
    "nexus_filename = 'data/some_supermatrix.nex'\n",
    "pj = pj_from_nexus_w_charset(nexus_filename,\n",
    "                             'data',\n",
    "                             'dna',\n",
    "                             'CDS',\n",
    "                             project = True,\n",
    "                             pickle = 'new_pickle_name',\n",
    "                             git = True)"
   ]
  }
 ],
 "metadata": {
  "kernelspec": {
   "display_name": "Python 2",
   "language": "python",
   "name": "python2"
  },
  "language_info": {
   "codemirror_mode": {
    "name": "ipython",
    "version": 2
   },
   "file_extension": ".py",
   "mimetype": "text/x-python",
   "name": "python",
   "nbconvert_exporter": "python",
   "pygments_lexer": "ipython2",
   "version": "2.7.6"
  }
 },
 "nbformat": 4,
 "nbformat_minor": 0
}
