{
 "cells": [
  {
   "cell_type": "markdown",
   "metadata": {},
   "source": [
    "# Git and Pickle integration in ReproPhylo\n",
    "This notebook demonstrates the interaction of ReproPhylo and of pickled ReproPhylo `Project` files with Git."
   ]
  },
  {
   "cell_type": "markdown",
   "metadata": {},
   "source": [
    "## The short version"
   ]
  },
  {
   "cell_type": "markdown",
   "metadata": {},
   "source": [
    "### Start a Project, read data, do alignment, show Git log"
   ]
  },
  {
   "cell_type": "markdown",
   "metadata": {},
   "source": [
    "**start a `Project`**"
   ]
  },
  {
   "cell_type": "code",
   "execution_count": null,
   "metadata": {
    "collapsed": true
   },
   "outputs": [],
   "source": [
    "pj = Project('git_demo_files/loci_edited.csv', pickle='git_demo_files/git_demo')"
   ]
  },
  {
   "cell_type": "markdown",
   "metadata": {},
   "source": [
    "**Read data**"
   ]
  },
  {
   "cell_type": "code",
   "execution_count": null,
   "metadata": {
    "collapsed": true
   },
   "outputs": [],
   "source": [
    "pj.read_embl_genbank([genbank])"
   ]
  },
  {
   "cell_type": "markdown",
   "metadata": {},
   "source": [
    "**Do alignment**"
   ]
  },
  {
   "cell_type": "code",
   "execution_count": null,
   "metadata": {
    "collapsed": true
   },
   "outputs": [],
   "source": [
    "pj.extract_by_locus()\n",
    "mafft = AlnConf(pj)\n",
    "pj.align([mafft])"
   ]
  },
  {
   "cell_type": "markdown",
   "metadata": {},
   "source": [
    "**Show last Git action (which was to commit the pickle with the alignment)**"
   ]
  },
  {
   "cell_type": "code",
   "execution_count": null,
   "metadata": {
    "collapsed": true
   },
   "outputs": [],
   "source": [
    "pj.last_git_log()"
   ]
  },
  {
   "cell_type": "markdown",
   "metadata": {},
   "source": [
    "### Revert to older `Project` version"
   ]
  },
  {
   "cell_type": "markdown",
   "metadata": {},
   "source": [
    "**Show Git commits**"
   ]
  },
  {
   "cell_type": "code",
   "execution_count": null,
   "metadata": {
    "collapsed": true
   },
   "outputs": [],
   "source": [
    "pj.show_commits()"
   ]
  },
  {
   "cell_type": "markdown",
   "metadata": {},
   "source": [
    "**Revert the `Project` pickle to undo last or more actions**  \n",
    "Using a hash (commit id) taken from the output of `pj.show_commits()`"
   ]
  },
  {
   "cell_type": "code",
   "execution_count": null,
   "metadata": {
    "collapsed": true
   },
   "outputs": [],
   "source": [
    "pj = revert_pickle(pj, '22c27d5a25710ec78')"
   ]
  },
  {
   "cell_type": "markdown",
   "metadata": {},
   "source": [
    "The newer version is not lost, you can toggle back to it the same way"
   ]
  },
  {
   "cell_type": "markdown",
   "metadata": {},
   "source": [
    "### Unifying older and newer version"
   ]
  },
  {
   "cell_type": "markdown",
   "metadata": {},
   "source": [
    "**Do another alignment without changing its name from the default, by misake**"
   ]
  },
  {
   "cell_type": "code",
   "execution_count": null,
   "metadata": {
    "collapsed": true
   },
   "outputs": [],
   "source": [
    "AlnConf(pj, cline_args=dict(localpair=True, maxiterate=1000))\n",
    "pj.align([AlnConf])"
   ]
  },
  {
   "cell_type": "markdown",
   "metadata": {},
   "source": [
    "**Realize your mistake, back up the new alignment and fix it's name**"
   ]
  },
  {
   "cell_type": "code",
   "execution_count": null,
   "metadata": {
    "collapsed": true
   },
   "outputs": [],
   "source": [
    "new_aln_ob = pj.alignments['mafftDefault']\n",
    "new_used_method = pj.used_methods['mafftDefault']\n",
    "new_used_method.method_name = 'SomeNewName'"
   ]
  },
  {
   "cell_type": "markdown",
   "metadata": {},
   "source": [
    "**Revert to get a `Project` with the original alignment, named `'mafftDefault'`**"
   ]
  },
  {
   "cell_type": "code",
   "execution_count": null,
   "metadata": {
    "collapsed": true
   },
   "outputs": [],
   "source": [
    "pj = revert_pickle(pj, 'some hash')"
   ]
  },
  {
   "cell_type": "markdown",
   "metadata": {},
   "source": [
    "**Add the new alignmnet alongside the old one, in the reverted `Project`**"
   ]
  },
  {
   "cell_type": "code",
   "execution_count": null,
   "metadata": {
    "collapsed": true
   },
   "outputs": [],
   "source": [
    "pj.alignments['SomeNewName'] = new_aln_ob\n",
    "pj.used_methods['SomeNewName'] = new_used_method"
   ]
  },
  {
   "cell_type": "markdown",
   "metadata": {},
   "source": [
    "Now you have a `Project` with both `'mafftDefault'` and `'SomeNewName'`, in both `pj.alignments` and in `pj.used_methods`"
   ]
  },
  {
   "cell_type": "markdown",
   "metadata": {},
   "source": [
    "## The long version\n",
    "The first step here is loading ReproPhylo:"
   ]
  },
  {
   "cell_type": "code",
   "execution_count": 2,
   "metadata": {
    "collapsed": false
   },
   "outputs": [],
   "source": [
    "from reprophylo import *"
   ]
  },
  {
   "cell_type": "markdown",
   "metadata": {},
   "source": [
    "This demo uses Tetillidae GenBank records stored in `Tetillidae.gb` and the MT-CO1 locus described in the `loci_edited.csv`. To find out more about them, see the Tetillidae use case."
   ]
  },
  {
   "cell_type": "code",
   "execution_count": 2,
   "metadata": {
    "collapsed": true
   },
   "outputs": [],
   "source": [
    "genbank = 'git_demo_files/Tetillidae.gb'\n",
    "loci_file = 'git_demo_files/loci_edited.csv'"
   ]
  },
  {
   "cell_type": "markdown",
   "metadata": {},
   "source": [
    "### The interaction between Git and ReproPhylo\n",
    "The first step initiates a `Project` instance configured for a CO1 partition, as instructed by the `loci_edited.csv` file. In addition, the `Project` will be saved as a pickle in the binary `git_demo_files/git_demo`."
   ]
  },
  {
   "cell_type": "code",
   "execution_count": 3,
   "metadata": {
    "collapsed": false
   },
   "outputs": [
    {
     "name": "stderr",
     "output_type": "stream",
     "text": [
      "/home/amir/Dropbox/python_modules/rpgit.py:74: UserWarning: Thanks to Stack-Overflow users Shane Geiger and Billy Jin for the git wrappers code\n",
      "  warnings.warn('Thanks to Stack-Overflow users Shane Geiger and Billy Jin for the git wrappers code')\n",
      "/home/amir/Dropbox/python_modules/rpgit.py:90: UserWarning: A git repository was created in /home/amir/Dropbox/ReproPhylo/Tutorial_files/ms.\n",
      "  warnings.warn('A git repository was created in %s.'%repoDir)\n",
      "/home/amir/Dropbox/python_modules/reprophylo.py:245: UserWarning: The new repository is called git_demo_files/git_demo.\n",
      "  warnings.warn('The new repository is called %s.'%open(cwd + '/.git/description', 'r').read().rstrip())\n",
      "DEBUG:Cloud:Log file (/home/amir/.picloud/cloud.log) opened\n"
     ]
    }
   ],
   "source": [
    "pj = Project('git_demo_files/loci_edited.csv', pickle='git_demo_files/git_demo')"
   ]
  },
  {
   "cell_type": "markdown",
   "metadata": {},
   "source": [
    "The massages include a credit to the programmers upon which code the Git code in RerpoPhylo is based, the path to the `.git` directory containing the newly created Git repository, and the name of the new repository. ReproPhylo uses the name to confirm it matches the pickle file, to prevent mistakes if files are moved around. However, this test will *not* break if the pickle file is renamed.  \n",
    "  \n",
    "Since the `Project` is set up, we can read the data from the `Tetillidae.gb` file. The file contains several genes but we read only CO1 CDSs. More on this step in the Tetillidae use case.  "
   ]
  },
  {
   "cell_type": "code",
   "execution_count": 4,
   "metadata": {
    "collapsed": false
   },
   "outputs": [],
   "source": [
    "pj.read_embl_genbank([genbank])"
   ]
  },
  {
   "cell_type": "markdown",
   "metadata": {},
   "source": [
    "When data is read, the file is commited to the Git repository. To confirm this, it is possible to print the Git log file with `print(pj.git_log)` or to print the last log entry:"
   ]
  },
  {
   "cell_type": "code",
   "execution_count": 5,
   "metadata": {
    "collapsed": false
   },
   "outputs": [
    {
     "name": "stdout",
     "output_type": "stream",
     "text": [
      "\n",
      "Sun Apr 19 17:08:41 2015\n",
      "STDOUT:\n",
      "[master b54e47d] 1 genbank/embl data file(s) from Sun Apr 19 17:08:41 2015\n",
      " 1 file changed, 14973 insertions(+)\n",
      " create mode 100644 git_demo_files/Tetillidae.gb\n",
      "\n",
      "STDERR:None\n",
      ">>>>\n",
      "\n"
     ]
    }
   ],
   "source": [
    "pj.last_git_log()"
   ]
  },
  {
   "cell_type": "markdown",
   "metadata": {},
   "source": [
    "To keep going, we need to break the sequence pile according to loci. Again, this is explained in detail in other use cases:"
   ]
  },
  {
   "cell_type": "code",
   "execution_count": 6,
   "metadata": {
    "collapsed": true
   },
   "outputs": [],
   "source": [
    "pj.extract_by_locus()"
   ]
  },
  {
   "cell_type": "markdown",
   "metadata": {},
   "source": [
    "To illustrate version control, this demo focuses on the sequence alignment step, but the complete pipeline is also described in other use cases."
   ]
  },
  {
   "cell_type": "code",
   "execution_count": 7,
   "metadata": {
    "collapsed": false
   },
   "outputs": [
    {
     "name": "stdout",
     "output_type": "stream",
     "text": [
      "mafft 700311429459726.66_CDS_proteins_MT-CO1.fasta\n"
     ]
    }
   ],
   "source": [
    "mafft = AlnConf(pj)"
   ]
  },
  {
   "cell_type": "markdown",
   "metadata": {},
   "source": [
    "The command above created an `AlnConf` object. We can print it as a string to see the details of the analysis:"
   ]
  },
  {
   "cell_type": "code",
   "execution_count": 8,
   "metadata": {
    "collapsed": false
   },
   "outputs": [
    {
     "name": "stdout",
     "output_type": "stream",
     "text": [
      "AlnConf named mafftDefault with ID 700311429459726.66\n",
      "Loci: MT-CO1 \n",
      "Created on: Sun Apr 19 17:08:46 2015\n",
      "Commands:\n",
      "MT-CO1: mafft 700311429459726.66_CDS_proteins_MT-CO1.fasta\n",
      "\n",
      "Environment:\n",
      "[This was not executed yet]\n",
      "execution time:\n",
      "[This was not executed yet]\n",
      "\n"
     ]
    }
   ],
   "source": [
    "print str(mafft)"
   ]
  },
  {
   "cell_type": "code",
   "execution_count": 9,
   "metadata": {
    "collapsed": false
   },
   "outputs": [
    {
     "data": {
      "text/plain": [
       "{}"
      ]
     },
     "execution_count": 9,
     "metadata": {},
     "output_type": "execute_result"
    }
   ],
   "source": [
    "pj.used_methods"
   ]
  },
  {
   "cell_type": "markdown",
   "metadata": {},
   "source": [
    "Since this `AlnConf` object was not executed yet, its string representation does not include some of the info, such as the environment it was run in. Also, the used_methods dictionary is empty, because this `AlnConf` was not used yet. The next command will make use of this `AlnConf` object by passing it to the `align` method:"
   ]
  },
  {
   "cell_type": "code",
   "execution_count": 10,
   "metadata": {
    "collapsed": false
   },
   "outputs": [],
   "source": [
    "pj.align([mafft])"
   ]
  },
  {
   "cell_type": "markdown",
   "metadata": {},
   "source": [
    "Several things happened here. First, an aligned CO1 dataset was placed in the `alignments` dictionary:"
   ]
  },
  {
   "cell_type": "code",
   "execution_count": 11,
   "metadata": {
    "collapsed": false
   },
   "outputs": [
    {
     "data": {
      "text/plain": [
       "{'MT-CO1@mafftDefault': <<class 'Bio.Align.MultipleSeqAlignment'> instance (92 records of length 1566, IUPACAmbiguousDNA()) at 7f18d6d763d0>}"
      ]
     },
     "execution_count": 11,
     "metadata": {},
     "output_type": "execute_result"
    }
   ],
   "source": [
    "pj.alignments"
   ]
  },
  {
   "cell_type": "markdown",
   "metadata": {},
   "source": [
    "Second, the pickle of the `Project` was updated with the change and commited to the repository:"
   ]
  },
  {
   "cell_type": "code",
   "execution_count": 12,
   "metadata": {
    "collapsed": false
   },
   "outputs": [
    {
     "name": "stdout",
     "output_type": "stream",
     "text": [
      "\n",
      "Sun Apr 19 17:08:52 2015\n",
      "STDOUT:\n",
      "[master 22c27d5] AlnConf named mafftDefault with ID 700311429459726.66 Loci: MT-CO1 Created on: Sun Apr 19 17:08:46 2015 Commands: MT-CO1: mafft 700311429459726.66_CDS_proteins_MT-CO1.fasta\n",
      " 1 file changed, 0 insertions(+), 0 deletions(-)\n",
      "\n",
      "STDERR:None\n",
      ">>>>\n",
      "\n",
      "None\n"
     ]
    }
   ],
   "source": [
    "print pj.last_git_log()"
   ]
  },
  {
   "cell_type": "markdown",
   "metadata": {},
   "source": [
    "Third, the `AlnConf` object was placed in the `used_methods` dictionary,"
   ]
  },
  {
   "cell_type": "code",
   "execution_count": 13,
   "metadata": {
    "collapsed": false
   },
   "outputs": [
    {
     "data": {
      "text/plain": [
       "['mafftDefault']"
      ]
     },
     "execution_count": 13,
     "metadata": {},
     "output_type": "execute_result"
    }
   ],
   "source": [
    "pj.used_methods.keys()"
   ]
  },
  {
   "cell_type": "markdown",
   "metadata": {},
   "source": [
    "and the string representation of this `AlnConf` object now includes execution, program and reference information:"
   ]
  },
  {
   "cell_type": "code",
   "execution_count": 14,
   "metadata": {
    "collapsed": false
   },
   "outputs": [
    {
     "name": "stdout",
     "output_type": "stream",
     "text": [
      "AlnConf named mafftDefault with ID 700311429459726.66\n",
      "Loci: MT-CO1 \n",
      "Created on: Sun Apr 19 17:08:46 2015\n",
      "Commands:\n",
      "MT-CO1: mafft 700311429459726.66_CDS_proteins_MT-CO1.fasta\n",
      "\n",
      "Environment:\n",
      "Platform: Linux-3.13.0-40-generic-x86_64-with-Ubuntu-14.04-trusty\n",
      " Processor: x86_64\n",
      " Python build: defaultMar 22 2014 22:59:56\n",
      " Python compiler: GCC 4.8.2\n",
      " Python implementation: CPython\n",
      " Python version: 2.7.6\n",
      " ete2 version: 2.2rev1056\n",
      " biopython version: 1.64\n",
      " dendropy version: 3.12.0\n",
      " cloud version: 2.8.5\n",
      " User: amir-TECRA-W50-A\n",
      " Program and version: MAFFT v7.123b\\nPal2Nal v14\n",
      " Program reference:Katoh\n",
      " Standley 2013 (Molecular Biology and Evolution 30:772-780) MAFFT multiple sequence alignment software version 7: improvements in performance and usability.\\nMikita Suyama\n",
      " David Torrents\n",
      " and Peer Bork (2006) PAL2NAL: robust conversion of protein sequence alignments into the corresponding codon alignments.Nucleic Acids Res. 34\n",
      " W609-W612.\n",
      "execution time:\n",
      "1.52710604668\n",
      "\n",
      "\n",
      "==============================\n",
      "Core Methods section sentence:\n",
      "==============================\n",
      "The dataset(s) MT-CO1 were first aligned at the protein level using the program MAFFT v7.123b [1].\n",
      "The resulting alignments served as guides to codon-align the DNA sequences using Pal2Nal v14 [2].\n",
      "\n",
      "Reference:\n",
      "[1]Katoh, Standley 2013 (Molecular Biology and Evolution 30:772-780) MAFFT multiple sequence alignment software version 7: improvements in performance and usability.\n",
      "[2]Mikita Suyama, David Torrents, and Peer Bork (2006) PAL2NAL: robust conversion of protein sequence alignments into the corresponding codon alignments.Nucleic Acids Res. 34, W609-W612.\n",
      "\n"
     ]
    }
   ],
   "source": [
    "print pj.used_methods['mafftDefault']"
   ]
  },
  {
   "cell_type": "markdown",
   "metadata": {},
   "source": [
    "The string representation of the `AlnConf` object now also includes a skeleton of a Methods section sentence which can be copied into a manuscript and edited. This complete string representation will also appear in the final HTML report that ReproPhylo will produce.\n",
    "\n",
    "### Recovering from unintentional changes\n",
    "Now lets do something stupid: We will make a new `AlnConf` object, with different run parameters, but without changing the name of the `AlnConf` object, thus overwriting the previous one. For this alignment step, this is not the end of the world, since it is very quick. However, this will work the same for long analyses, such as tree reconstruction or when there is a lot of data."
   ]
  },
  {
   "cell_type": "code",
   "execution_count": 15,
   "metadata": {
    "collapsed": false
   },
   "outputs": [
    {
     "name": "stdout",
     "output_type": "stream",
     "text": [
      "mafft --localpair --maxiterate 1000 957341429459740.31_CDS_proteins_MT-CO1.fasta\n"
     ]
    }
   ],
   "source": [
    "new_mafft = AlnConf(pj, cline_args=dict(localpair=True, maxiterate=1000))\n",
    "pj.align([new_mafft])"
   ]
  },
  {
   "cell_type": "markdown",
   "metadata": {},
   "source": [
    "Now, checking the `used_methods` dictionary, we realize the gravity of our mistake, as the new `AlnConf` is stored under the same key as the old one, which is now gone from both the `used_methods` and the `alignmnet` dictionaries:"
   ]
  },
  {
   "cell_type": "code",
   "execution_count": 16,
   "metadata": {
    "collapsed": false
   },
   "outputs": [
    {
     "name": "stdout",
     "output_type": "stream",
     "text": [
      "Alignments:\n",
      "{'MT-CO1@mafftDefault': <<class 'Bio.Align.MultipleSeqAlignment'> instance (92 records of length 1566, IUPACAmbiguousDNA()) at 7f18d6b60690>}\n",
      "\n",
      "Used Methods:\n",
      "{'mafftDefault': <reprophylo.AlnConf instance at 0x7f18d6d72950>}\n"
     ]
    }
   ],
   "source": [
    "print 'Alignments:'\n",
    "print pj.alignments\n",
    "print\n",
    "print 'Used Methods:'\n",
    "print pj.used_methods"
   ]
  },
  {
   "cell_type": "markdown",
   "metadata": {},
   "source": [
    "Checking the string representation of the `AlnConf` object, which has the same name as the old one, will confirm it shows the new command line, rather than the old one:"
   ]
  },
  {
   "cell_type": "code",
   "execution_count": 17,
   "metadata": {
    "collapsed": false
   },
   "outputs": [
    {
     "name": "stdout",
     "output_type": "stream",
     "text": [
      "AlnConf named mafftDefault with ID 957341429459740.31\n",
      "Loci: MT-CO1 \n",
      "Created on: Sun Apr 19 17:09:00 2015\n",
      "Commands:\n",
      "MT-CO1: mafft --localpair --maxiterate 1000 957341429459740.31_CDS_proteins_MT-CO1.fasta\n",
      "\n",
      "Environment:\n",
      "Platform: Linux-3.13.0-40-generic-x86_64-with-Ubuntu-14.04-trusty\n",
      " Processor: x86_64\n",
      " Python build: defaultMar 22 2014 22:59:56\n",
      " Python compiler: GCC 4.8.2\n",
      " Python implementation: CPython\n",
      " Python version: 2.7.6\n",
      " ete2 version: 2.2rev1056\n",
      " biopython version: 1.64\n",
      " dendropy version: 3.12.0\n",
      " cloud version: 2.8.5\n",
      " User: amir-TECRA-W50-A\n",
      " Program and version: MAFFT v7.123b\\nPal2Nal v14\n",
      " Program reference:Katoh\n",
      " Standley 2013 (Molecular Biology and Evolution 30:772-780) MAFFT multiple sequence alignment software version 7: improvements in performance and usability.\\nMikita Suyama\n",
      " David Torrents\n",
      " and Peer Bork (2006) PAL2NAL: robust conversion of protein sequence alignments into the corresponding codon alignments.Nucleic Acids Res. 34\n",
      " W609-W612.\n",
      "execution time:\n",
      "3.85839509964\n",
      "\n",
      "\n",
      "==============================\n",
      "Core Methods section sentence:\n",
      "==============================\n",
      "The dataset(s) MT-CO1 were first aligned at the protein level using the program MAFFT v7.123b [1].\n",
      "The resulting alignments served as guides to codon-align the DNA sequences using Pal2Nal v14 [2].\n",
      "\n",
      "Reference:\n",
      "[1]Katoh, Standley 2013 (Molecular Biology and Evolution 30:772-780) MAFFT multiple sequence alignment software version 7: improvements in performance and usability.\n",
      "[2]Mikita Suyama, David Torrents, and Peer Bork (2006) PAL2NAL: robust conversion of protein sequence alignments into the corresponding codon alignments.Nucleic Acids Res. 34, W609-W612.\n",
      "\n"
     ]
    }
   ],
   "source": [
    "print pj.used_methods['mafftDefault']"
   ]
  },
  {
   "cell_type": "markdown",
   "metadata": {},
   "source": [
    "Since ReproPhylo maintains a Git repository, it is possible to recover from this blunder. We can spot an old version that contains the original alignment step and revert to it. The older versions can be listed with `pj.show_commits()`, as below, and they are listed with the newest at the top. The versions, termed 'commits', has hash identifiers, listed at the top of each version's record. The top version is the current one, and the one to revert to is just below, as indicated by the `AlnConf` descriptions in each of them:"
   ]
  },
  {
   "cell_type": "code",
   "execution_count": 18,
   "metadata": {
    "collapsed": false
   },
   "outputs": [
    {
     "name": "stdout",
     "output_type": "stream",
     "text": [
      "commit dfff4d62b1b4e4d9101b1bbb737d8d7a48a6dd70\n",
      "Author: Amir Szitenberg <szitenberg@gmail.com>\n",
      "Date:   Sun Apr 19 17:09:04 2015 +0100\n",
      "\n",
      "    AlnConf named mafftDefault with ID 957341429459740.31\n",
      "    Loci: MT-CO1\n",
      "    Created on: Sun Apr 19 17:09:00 2015\n",
      "    Commands:\n",
      "    MT-CO1: mafft --localpair --maxiterate 1000 957341429459740.31_CDS_proteins_MT-CO1.fasta\n",
      "    \n",
      "    Environment:\n",
      "    Platform: Linux-3.13.0-40-generic-x86_64-with-Ubuntu-14.04-trusty\n",
      "     Processor: x86_64\n",
      "     Python build: defaultMar 22 2014 22:59:56\n",
      "     Python compiler: GCC 4.8.2\n",
      "     Python implementation: CPython\n",
      "     Python version: 2.7.6\n",
      "     ete2 version: 2.2rev1056\n",
      "     biopython version: 1.64\n",
      "     dendropy version: 3.12.0\n",
      "     cloud version: 2.8.5\n",
      "     User: amir-TECRA-W50-A\n",
      "     Program and version: MAFFT v7.123b\\nPal2Nal v14\n",
      "     Program reference:Katoh\n",
      "     Standley 2013 (Molecular Biology and Evolution 30:772-780) MAFFT multiple sequence alignment software version 7: improvements in performance and usability.\\nMikita Suyama\n",
      "     David Torrents\n",
      "     and Peer Bork (2006) PAL2NAL: robust conversion of protein sequence alignments into the corresponding codon alignments.Nucleic Acids Res. 34\n",
      "     W609-W612.\n",
      "    execution time:\n",
      "    3.85839509964\n",
      "    \n",
      "    ==============================\n",
      "    Core Methods section sentence:\n",
      "    ==============================\n",
      "    The dataset(s) MT-CO1 were first aligned at the protein level using the program MAFFT v7.123b [1].\n",
      "    The resulting alignments served as guides to codon-align the DNA sequences using Pal2Nal v14 [2].\n",
      "    \n",
      "    Reference:\n",
      "    [1]Katoh, Standley 2013 (Molecular Biology and Evolution 30:772-780) MAFFT multiple sequence alignment software version 7: improvements in performance and usability.\n",
      "    [2]Mikita Suyama, David Torrents, and Peer Bork (2006) PAL2NAL: robust conversion of protein sequence alignments into the corresponding codon alignments.Nucleic Acids Res. 34, W609-W612.\n",
      "\n",
      "commit 22c27d5a25710ec78cdd333d8ef3f593e61d7031\n",
      "Author: Amir Szitenberg <szitenberg@gmail.com>\n",
      "Date:   Sun Apr 19 17:08:52 2015 +0100\n",
      "\n",
      "    AlnConf named mafftDefault with ID 700311429459726.66\n",
      "    Loci: MT-CO1\n",
      "    Created on: Sun Apr 19 17:08:46 2015\n",
      "    Commands:\n",
      "    MT-CO1: mafft 700311429459726.66_CDS_proteins_MT-CO1.fasta\n",
      "    \n",
      "    Environment:\n",
      "    Platform: Linux-3.13.0-40-generic-x86_64-with-Ubuntu-14.04-trusty\n",
      "     Processor: x86_64\n",
      "     Python build: defaultMar 22 2014 22:59:56\n",
      "     Python compiler: GCC 4.8.2\n",
      "     Python implementation: CPython\n",
      "     Python version: 2.7.6\n",
      "     ete2 version: 2.2rev1056\n",
      "     biopython version: 1.64\n",
      "     dendropy version: 3.12.0\n",
      "     cloud version: 2.8.5\n",
      "     User: amir-TECRA-W50-A\n",
      "     Program and version: MAFFT v7.123b\\nPal2Nal v14\n",
      "     Program reference:Katoh\n",
      "     Standley 2013 (Molecular Biology and Evolution 30:772-780) MAFFT multiple sequence alignment software version 7: improvements in performance and usability.\\nMikita Suyama\n",
      "     David Torrents\n",
      "     and Peer Bork (2006) PAL2NAL: robust conversion of protein sequence alignments into the corresponding codon alignments.Nucleic Acids Res. 34\n",
      "     W609-W612.\n",
      "    execution time:\n",
      "    1.52710604668\n",
      "    \n",
      "    ==============================\n",
      "    Core Methods section sentence:\n",
      "    ==============================\n",
      "    The dataset(s) MT-CO1 were first aligned at the protein level using the program MAFFT v7.123b [1].\n",
      "    The resulting alignments served as guides to codon-align the DNA sequences using Pal2Nal v14 [2].\n",
      "    \n",
      "    Reference:\n",
      "    [1]Katoh, Standley 2013 (Molecular Biology and Evolution 30:772-780) MAFFT multiple sequence alignment software version 7: improvements in performance and usability.\n",
      "    [2]Mikita Suyama, David Torrents, and Peer Bork (2006) PAL2NAL: robust conversion of protein sequence alignments into the corresponding codon alignments.Nucleic Acids Res. 34, W609-W612.\n",
      "\n",
      "commit b54e47d9619aa5f4db64b78253ec6e4c6171dd88\n",
      "Author: Amir Szitenberg <szitenberg@gmail.com>\n",
      "Date:   Sun Apr 19 17:08:41 2015 +0100\n",
      "\n",
      "    1 genbank/embl data file(s) from Sun Apr 19 17:08:41 2015\n",
      "\n",
      "commit 66f6ec8386d4cf439cfe66db994ea5a708389619\n",
      "Author: Amir Szitenberg <szitenberg@gmail.com>\n",
      "Date:   Sun Apr 19 17:08:39 2015 +0100\n",
      "\n",
      "    Project object with the loci MT-CO1, from Sun Apr 19 17:08:39 2015\n",
      "\n",
      "commit ca6444d5d9f9e7c87c2045ec3bee2c851aa8ecb7\n",
      "Author: Amir Szitenberg <szitenberg@gmail.com>\n",
      "Date:   Sun Apr 19 17:08:39 2015 +0100\n",
      "\n",
      "    2 script file(s) from Sun Apr 19 17:08:39 2015\n",
      "\n"
     ]
    }
   ],
   "source": [
    "pj.show_commits()"
   ]
  },
  {
   "cell_type": "markdown",
   "metadata": {},
   "source": [
    "The hash identifier of a commit is required in order to revert to it. We will revert to the second newest version, with the hash that begins with `9649b5312d09`\n",
    "\n",
    "This is done as follows:"
   ]
  },
  {
   "cell_type": "code",
   "execution_count": 19,
   "metadata": {
    "collapsed": false
   },
   "outputs": [
    {
     "name": "stdout",
     "output_type": "stream",
     "text": [
      "Git STDOUT: \n",
      "Git STDERR: \n"
     ]
    },
    {
     "name": "stderr",
     "output_type": "stream",
     "text": [
      "/home/amir/Dropbox/python_modules/reprophylo.py:232: UserWarning: Git repository exists for this Project\n",
      "  warnings.warn('Git repository exists for this Project')\n"
     ]
    }
   ],
   "source": [
    "pj = revert_pickle(pj, '22c27d5a25710ec78')"
   ]
  },
  {
   "cell_type": "markdown",
   "metadata": {},
   "source": [
    "Git has raised no massages, which is a good thing. The Git repository is recognized and will be further maintain. Note that only the pickle reverted, the rest of the files, such as scripts, notebooks and sequence files has not. Also note that if instead of the line above, we run `revert_pickle(pj, '9649b5312d09')`, the pickle file is still reverted, but not loaded as a `Project`. It is still possible to load it with `pj=unpickle_pj('git_demo_files/git_demo')`\n",
    "\n",
    "Now we can confirm the state of our reverted sequence alignment by printing the string representation of the used `AlnConf` object again, and see that the command line has changed back to its original form, of MAFFT defaults. The 'Short version' in the top of this page, also shows how to produce a `Project` with both alignments coexisting."
   ]
  },
  {
   "cell_type": "code",
   "execution_count": 20,
   "metadata": {
    "collapsed": false
   },
   "outputs": [
    {
     "name": "stdout",
     "output_type": "stream",
     "text": [
      "['mafftDefault']\n"
     ]
    }
   ],
   "source": [
    "print pj.used_methods.keys()"
   ]
  },
  {
   "cell_type": "code",
   "execution_count": 21,
   "metadata": {
    "collapsed": false
   },
   "outputs": [
    {
     "name": "stdout",
     "output_type": "stream",
     "text": [
      "AlnConf named mafftDefault with ID 700311429459726.66\n",
      "Loci: MT-CO1 \n",
      "Created on: Sun Apr 19 17:08:46 2015\n",
      "Commands:\n",
      "MT-CO1: mafft 700311429459726.66_CDS_proteins_MT-CO1.fasta\n",
      "\n",
      "Environment:\n",
      "Platform: Linux-3.13.0-40-generic-x86_64-with-Ubuntu-14.04-trusty\n",
      " Processor: x86_64\n",
      " Python build: defaultMar 22 2014 22:59:56\n",
      " Python compiler: GCC 4.8.2\n",
      " Python implementation: CPython\n",
      " Python version: 2.7.6\n",
      " ete2 version: 2.2rev1056\n",
      " biopython version: 1.64\n",
      " dendropy version: 3.12.0\n",
      " cloud version: 2.8.5\n",
      " User: amir-TECRA-W50-A\n",
      " Program and version: MAFFT v7.123b\\nPal2Nal v14\n",
      " Program reference:Katoh\n",
      " Standley 2013 (Molecular Biology and Evolution 30:772-780) MAFFT multiple sequence alignment software version 7: improvements in performance and usability.\\nMikita Suyama\n",
      " David Torrents\n",
      " and Peer Bork (2006) PAL2NAL: robust conversion of protein sequence alignments into the corresponding codon alignments.Nucleic Acids Res. 34\n",
      " W609-W612.\n",
      "execution time:\n",
      "1.52710604668\n",
      "\n",
      "\n",
      "==============================\n",
      "Core Methods section sentence:\n",
      "==============================\n",
      "The dataset(s) MT-CO1 were first aligned at the protein level using the program MAFFT v7.123b [1].\n",
      "The resulting alignments served as guides to codon-align the DNA sequences using Pal2Nal v14 [2].\n",
      "\n",
      "Reference:\n",
      "[1]Katoh, Standley 2013 (Molecular Biology and Evolution 30:772-780) MAFFT multiple sequence alignment software version 7: improvements in performance and usability.\n",
      "[2]Mikita Suyama, David Torrents, and Peer Bork (2006) PAL2NAL: robust conversion of protein sequence alignments into the corresponding codon alignments.Nucleic Acids Res. 34, W609-W612.\n",
      "\n"
     ]
    }
   ],
   "source": [
    "print pj.used_methods['mafftDefault']"
   ]
  },
  {
   "cell_type": "markdown",
   "metadata": {},
   "source": [
    "### Possible error messages\n",
    "\n",
    "If you are not using the Docker ReproPhylo distribution, and you are new to Git, you might get the following error when you start a new `Project` with `pj=Project('loci_file',pickle='pikle_filename')`:  \n",
    "\n",
    "**`RuntimeError: Git: set your email with '!git config --global user.email \"your_email@example.com\"' or disable git (the ! is needed in IPython Notebook. In a terminal, ommit it)`**\n",
    "\n",
    "This is because git expects your email to be configured. To configure it, run the following in a terminal:  \n",
    "\n",
    "`git config --global user.email \"your_email@example.com\"`  \n",
    "\n",
    "Another possible error when you start a new `Project` with `pj=Project('loci_file',pickle='pikle_filename')`, as opposed to loading one with `unpickle_pj` or with `revert_pickle`, can arise because `Project` expects `pickle` to be a file name that does not yet exist. Otherwise, the following error will be raised,\n",
    "\n",
    "**`IOError: Pickle git_demo_files/git_demo exists. If you want to keep using it do pj=unpickle_pj('git_demo_files/git_demo') instead.`**\n",
    "\n",
    "to protect you from unintentionally deleting existing projects.\n",
    "\n",
    "ReproPhylo also tries to make sure that an unpickled, reverted or new `Project` can identify its unique Git repository. This connection can be broken if a Git reporsitory already existed in the working directory, which does not belong to the current `Project` or if the pickle file was moved independently from the directory in which it is found. The Git repository is found in a directory called `.git`, which is a hidden directory. To view hidden files and folders in your file browser, click `ctrt+H`. If you want to move the `Project` to another location, the folder containing both the `.git` directory and the pickle file must be moved as one unit. Should the connection between a `Project` and its Git repository be broken, the following error wil be show:  \n",
    "\n",
    "**`RuntimeError: The Git repository in the CWD does not belong to this project. Either the pickle moved, or this is a preexsisting repo. Try one of the following: Delete the local  .Git dir if you don't need it, move the pickle and the notebook to a new work dir, or if possible, move them back to their original location. You may also disable Git by with stop_git().`**\n",
    "\n",
    "Note that even if the link between a repository and a `project` was broken, the pickle file still contains the full `Project` and is totally usable, by passing `git=False`."
   ]
  },
  {
   "cell_type": "code",
   "execution_count": null,
   "metadata": {
    "collapsed": true
   },
   "outputs": [],
   "source": []
  }
 ],
 "metadata": {
  "kernelspec": {
   "display_name": "Python 2",
   "language": "python",
   "name": "python2"
  },
  "language_info": {
   "codemirror_mode": {
    "name": "ipython",
    "version": 2
   },
   "file_extension": ".py",
   "mimetype": "text/x-python",
   "name": "python",
   "nbconvert_exporter": "python",
   "pygments_lexer": "ipython2",
   "version": "2.7.6"
  }
 },
 "nbformat": 4,
 "nbformat_minor": 0
}
