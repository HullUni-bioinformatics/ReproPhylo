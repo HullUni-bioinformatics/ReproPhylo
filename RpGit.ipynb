# here is my comment to cause a conflict!
{
 "metadata": {
  "name": ""
 },
 "nbformat": 3,
 "nbformat_minor": 0,
 "worksheets": [
  {
   "cells": [
    {
     "cell_type": "code",
     "collapsed": false,
     "input": [
      "%%file rpgit.py\n",
      "\n",
      "import os, string, warnings\n",
      "from subprocess import *\n",
      "\n",
      "warnings.simplefilter('once', UserWarning)\n",
      "\n",
      "\n",
      "repoDir = os.getcwd()\n",
      "\n",
      "def command(x):\n",
      "    return str(Popen(x.split(' '), stdout=PIPE).communicate()[0])\n",
      "\n",
      "def rm_empty(L): return [l for l in L if (l and l!=\"\")]\n",
      "\n",
      "def getUntracked():\n",
      "    os.chdir(repoDir)\n",
      "    status = command(\"git status\")\n",
      "    if \"# Untracked files:\" in status:\n",
      "        untf = status.split(\"# Untracked files:\")[1][1:].split(\"\\n\")\n",
      "        return rm_empty([x[2:] for x in untf if string.strip(x) != \"#\" and x.startswith(\"#\\t\")])\n",
      "    else:\n",
      "        return []\n",
      "\n",
      "def getNew():\n",
      "    os.chdir(repoDir)\n",
      "    status = command(\"git status\").split(\"\\n\")\n",
      "    return [x[14:] for x in status if x.startswith(\"#\\tnew file:   \")]\n",
      "\n",
      "def getModified():\n",
      "    os.chdir(repoDir)\n",
      "    status = command(\"git status\").split(\"\\n\")\n",
      "    return [x[14:] for x in status if x.startswith(\"#\\tmodified:   \")]\n",
      "\n",
      "\n",
      "\n",
      "def gitAdd(fileName, repoDir=repoDir):\n",
      "    cmd = 'git add ' + fileName\n",
      "    pipe = Popen(cmd, shell=True, cwd=repoDir,stdout = PIPE,stderr = PIPE )\n",
      "    (out, error) = pipe.communicate()\n",
      "    print out\n",
      "    pipe.wait()\n",
      "    return \n",
      "\n",
      "def gitStatus(repoDir=repoDir):\n",
      "    cmd = 'git status '\n",
      "    pipe = Popen(cmd, shell=True, cwd=repoDir,stdout = PIPE,stderr = PIPE )\n",
      "    (out, error) = pipe.communicate()\n",
      "    print out,error\n",
      "    pipe.wait()\n",
      "    return \n",
      "\n",
      "def gitCommit(commitMessage, repoDir=repoDir):\n",
      "    cmd = 'git commit -m \"%s\"'%commitMessage\n",
      "    pipe = Popen(cmd, shell=True, cwd=repoDir,stdout = PIPE,stderr = PIPE )\n",
      "    (out, error) = pipe.communicate()\n",
      "    print out\n",
      "    pipe.wait()\n",
      "    return \n",
      "\n",
      "def gitPush(repoDir=repoDir):\n",
      "    cmd = 'git push '\n",
      "    pipe = Popen(cmd, shell=True, cwd=repoDir,stdout = PIPE,stderr = PIPE )\n",
      "    (out, error) = pipe.communicate()\n",
      "    pipe.wait()\n",
      "    return \n",
      "    \n",
      "def gitInit():\n",
      "    warnings.warn('Thanks to Stack-Overflow users Shane Geiger and Billy Jin for the git wrappers code')\n",
      "    if os.path.isdir(repoDir + '/.git'):\n",
      "        warnings.warn('A git repository exists in '+repoDir)\n",
      "    else:\n",
      "        cmd = 'git init '\n",
      "        pipe = Popen(cmd, shell=True, cwd=repoDir,stdout = PIPE,stderr = PIPE )\n",
      "        (out, error) = pipe.communicate()\n",
      "        pipe.wait()\n",
      "        return \n",
      "    \n",
      "def gitLog(repoDir=repoDir):\n",
      "    cmd = 'git log --all '\n",
      "    pipe = Popen(cmd, shell=True, cwd=repoDir,stdout = PIPE,stderr = PIPE )\n",
      "    (out, error) = pipe.communicate()\n",
      "    print out,error\n",
      "    pipe.wait()\n",
      "    return "
     ],
     "language": "python",
     "metadata": {},
     "outputs": [
      {
       "output_type": "stream",
       "stream": "stdout",
       "text": [
        "Writing rpgit.py\n"
       ]
      }
     ],
     "prompt_number": 2
    },
    {
     "cell_type": "code",
     "collapsed": false,
     "input": [
      "print (\"this %s\"\n",
      "        \" a %s\" \n",
      "        % ('is', 'test'))"
     ],
     "language": "python",
     "metadata": {},
     "outputs": [
      {
       "output_type": "stream",
       "stream": "stdout",
       "text": [
        "this is a test\n"
       ]
      }
     ],
     "prompt_number": 6
    },
    {
     "cell_type": "code",
     "collapsed": false,
     "input": [],
     "language": "python",
     "metadata": {},
     "outputs": []
    }
   ],
   "metadata": {}
  }
 ]
}