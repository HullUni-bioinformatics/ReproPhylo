{
 "metadata": {
  "name": "reprophylo_pipeline_concept"
 },
 "nbformat": 3,
 "nbformat_minor": 0,
 "worksheets": [
  {
   "cells": [
    {
     "cell_type": "markdown",
     "metadata": {},
     "source": [
      "#Reproducible Phylogenetics Pipeline\n",
      "\n",
      "Here I will give an example of the reproducible phylogenetics pipeline using 22 rotifer sequences to produce a phylogenetics tree"
     ]
    },
    {
     "cell_type": "markdown",
     "metadata": {},
     "source": [
      "##Import modules\n",
      "\n",
      "Import required modules first"
     ]
    },
    {
     "cell_type": "code",
     "collapsed": false,
     "input": [
      "# import general stuff\n",
      "import os\n",
      "\n",
      "# import data analytics stuff\n",
      "import pandas as pd\n",
      "import numpy as np\n",
      "import scipy as sp\n",
      "\n",
      "# import pycogent stuff\n",
      "from cogent import LoadSeqs, DNA\n",
      "from cogent.parse.fasta import MinimalFastaParser, LabelParser\n",
      "\n",
      "# import BioPython stuff\n",
      "from Bio import AlignIO\n",
      "from Bio import Phylo\n",
      "from Bio import SeqIO\n",
      "from Bio.Align import AlignInfo\n",
      "from Bio.Align.Applications import MafftCommandline\n",
      "from Bio.Align.Applications import MuscleCommandline\n",
      "from Bio.Phylo.Applications import PhymlCommandline\n",
      "from Bio.Phylo.Applications import RaxmlCommandline\n",
      "from Bio.SeqUtils import GC"
     ],
     "language": "python",
     "metadata": {},
     "outputs": [],
     "prompt_number": 48
    },
    {
     "cell_type": "markdown",
     "metadata": {},
     "source": [
      "##Load data\n",
      "\n",
      "Then we load the data"
     ]
    },
    {
     "cell_type": "code",
     "collapsed": false,
     "input": [
      "# index first otherwise we can only iterate over the record generator once\n",
      "rotifer_seqs_filename = \"data/22_rotifer_COI_seqs.fas\"\n",
      "rotifer_seqs_dict = SeqIO.index(rotifer_seqs_filename, \"fasta\")"
     ],
     "language": "python",
     "metadata": {},
     "outputs": [],
     "prompt_number": 49
    },
    {
     "cell_type": "markdown",
     "metadata": {},
     "source": [
      "##Exploratory Data Analysis"
     ]
    },
    {
     "cell_type": "code",
     "collapsed": false,
     "input": [
      "# get values\n",
      "num_seqs = len(rotifer_seqs_dict)\n",
      "print num_seqs\n",
      "seq_ids = rotifer_seqs_dict.keys()\n",
      "seq_gc = [GC(record.seq) for record in rotifer_seqs_dict.itervalues()]\n",
      "seq_lengths = [len(record) for record in rotifer_seqs_dict.itervalues()]\n",
      "\n",
      "# create dict from values for building pandas dataframe\n",
      "data = {'fasta_header':seq_ids,\n",
      "        'gc_percentage':seq_gc,\n",
      "        'sequence_length':seq_lengths,\n",
      "}\n",
      "\n",
      "# create dataframe\n",
      "rotifer_seqs_df = pd.DataFrame(data)\n",
      "\n",
      "print rotifer_seqs_df"
     ],
     "language": "python",
     "metadata": {},
     "outputs": [
      {
       "output_type": "stream",
       "stream": "stdout",
       "text": [
        "22\n",
        "                          fasta_header  gc_percentage  sequence_length\n",
        "0       Brachionus_manjavacas_FR729681      37.216339              661\n",
        "1       Brachionus_manjavacas_FR729683      37.518911              661\n",
        "2     Brachionus_calyciflorus_GU232732      40.422535              710\n",
        "3       Brachionus_plicatilis_FJ387485      42.512909              581\n",
        "4         Brachionus_falcatus_JX216530      35.098336              661\n",
        "5   Brachionus_quadridentatus_JX216583      37.216339              661\n",
        "6      Brachionus_havanaensis_JX216544      31.013616              661\n",
        "7      Brachionus_havanaensis_JX216551      31.013616              661\n",
        "8       Brachionus_variabilis_JX216591      35.249622              661\n",
        "9   Brachionus_quadridentatus_JX216580      37.216339              661\n",
        "10      Brachionus_manjavacas_FR729682      37.367625              661\n",
        "11    Brachionus_calyciflorus_GU232721      40.536723              708\n",
        "12     Brachionus_havanaensis_JX216533      31.013616              661\n",
        "13        Brachionus_falcatus_JX216529      35.098336              661\n",
        "14      Brachionus_plicatilis_FJ387478      42.512909              581\n",
        "15      Brachionus_manjavacas_FR729678      37.518911              661\n",
        "16    Brachionus_calyciflorus_JX216519      33.282905              661\n",
        "17    Brachionus_calyciflorus_JX216516      32.829047              661\n",
        "18  Brachionus_quadridentatus_JX216573      32.375189              661\n",
        "19      Brachionus_manjavacas_EF017651      37.367625              661\n",
        "20      Brachionus_plicatilis_FJ387481      42.512909              581\n",
        "21      Brachionus_variabilis_JX216589      35.503876              645\n"
       ]
      }
     ],
     "prompt_number": 52
    },
    {
     "cell_type": "markdown",
     "metadata": {},
     "source": [
      "##Alignment\n",
      "\n",
      "Now we do the alignment"
     ]
    },
    {
     "cell_type": "code",
     "collapsed": false,
     "input": [
      "# we use mafft for this, but there are multiple wrappers in BioPython\n",
      "mafft_run = MafftCommandline(cmd=\"mafft\", input=rotifer_seqs_filename)\n",
      "stdout, stderr = mafft_run()\n",
      "\n",
      "# output alignment\n",
      "handle = open(\"data/mafft_aligned.fasta\", \"w\")\n",
      "handle.write(stdout)\n",
      "handle.close()\n",
      "\n",
      "# output run information\n",
      "handle = open(\"data/mafft_aligned.txt\", \"w\")\n",
      "handle.write(stderr)\n",
      "handle.close()\n",
      "\n",
      "# load alignment\n",
      "rotifer_alignment = AlignIO.read(\"data/mafft_aligned.fasta\", \"fasta\")\n",
      "print rotifer_alignment\n",
      "\n",
      "# get information about the alignment\n",
      "# consensus, nucleotide frequency etc."
     ],
     "language": "python",
     "metadata": {},
     "outputs": [
      {
       "output_type": "stream",
       "stream": "stdout",
       "text": [
        "SingleLetterAlphabet() alignment with 22 rows and 710 columns\n",
        "-----------------------tactttatattttatttttgg...--- Brachionus_quadridentatus_JX216583\n",
        "-----------------------tactttatattttatttttgg...--- Brachionus_quadridentatus_JX216580\n",
        "-----------------------tactttatattttatttttgg...--- Brachionus_quadridentatus_JX216573\n",
        "-----------------------aactctttattttatttttgg...--- Brachionus_calyciflorus_JX216519\n",
        "tcaacaaatcataaagatattggaacgctttactttattttcgg...tta Brachionus_calyciflorus_GU232732\n",
        "tcaacaaatcataaagatattggaacgctttattttattttcgg...a-- Brachionus_calyciflorus_GU232721\n",
        "-----------------------aactctttattttatttttgg...--- Brachionus_calyciflorus_JX216516\n",
        "------------------------accctatactttatttttgg...--- Brachionus_plicatilis_FJ387485\n",
        "------------------------accctatactttatttttgg...--- Brachionus_plicatilis_FJ387481\n",
        "------------------------accctatactttatttttgg...--- Brachionus_plicatilis_FJ387478\n",
        "-----------------------tactctttattttgtatttgg...--- Brachionus_havanaensis_JX216551\n",
        "-----------------------tactctttattttgtatttgg...--- Brachionus_havanaensis_JX216544\n",
        "-----------------------tactctttattttgtatttgg...--- Brachionus_havanaensis_JX216533\n",
        "-----------------------tactctttatttcatttttgg...--- Brachionus_variabilis_JX216589\n",
        "-----------------------tactttgtactttgtgtttgg...--- Brachionus_falcatus_JX216529\n",
        "-----------------------tactttgtactttgtgtttgg...--- Brachionus_falcatus_JX216530\n",
        "-----------------------tactctttatttcatttttgg...--- Brachionus_variabilis_JX216591\n",
        "-----------------------aactttatactttatttttgg...--- Brachionus_manjavacas_FR729683\n",
        "...\n",
        "-----------------------aactttatactttatttttgg...--- Brachionus_manjavacas_EF017651\n"
       ]
      }
     ],
     "prompt_number": 54
    },
    {
     "cell_type": "markdown",
     "metadata": {},
     "source": [
      "##Tree Build\n",
      "\n",
      "Now on to the tree build"
     ]
    },
    {
     "cell_type": "code",
     "collapsed": false,
     "input": [
      "# first we must convert to relaxed phylip\n",
      "rotifer_phy_file = \"data/phylip_aligned.phy\"\n",
      "phyout = open(rotifer_phy_file, \"w\")\n",
      "AlignIO.write(rotifer_alignment, phyout, \"phylip-relaxed\")\n",
      "phyout.close()\n",
      "\n",
      "# now build the tree\n",
      "current_dir = os.getcwd()\n",
      "raxml_output = os.path.join(current_dir, \"data\")\n",
      "raxml_run_name = \"rotifer_tree\"\n",
      "raxml_run = RaxmlCommandline(cmd=\"raxmlHPC-PTHREADS-SSE3\", sequences=rotifer_phy_file, name=raxml_run_name, model=\"GTRCAT\", working_dir=raxml_output)\n",
      "stdout, stderr = raxml_run()\n",
      "\n",
      "print stdout\n",
      "print stderr"
     ],
     "language": "python",
     "metadata": {},
     "outputs": [
      {
       "output_type": "stream",
       "stream": "stdout",
       "text": [
        "\n",
        "\n",
        "IMPORTANT WARNING: Sequences Brachionus_quadridentatus_JX216583 and Brachionus_quadridentatus_JX216580 are exactly identical\n",
        "\n",
        "\n",
        "IMPORTANT WARNING: Sequences Brachionus_plicatilis_FJ387485 and Brachionus_plicatilis_FJ387481 are exactly identical\n",
        "\n",
        "\n",
        "IMPORTANT WARNING: Sequences Brachionus_plicatilis_FJ387485 and Brachionus_plicatilis_FJ387478 are exactly identical\n",
        "\n",
        "\n",
        "IMPORTANT WARNING: Sequences Brachionus_havanaensis_JX216551 and Brachionus_havanaensis_JX216544 are exactly identical\n",
        "\n",
        "\n",
        "IMPORTANT WARNING: Sequences Brachionus_havanaensis_JX216551 and Brachionus_havanaensis_JX216533 are exactly identical\n",
        "\n",
        "\n",
        "IMPORTANT WARNING: Sequences Brachionus_falcatus_JX216529 and Brachionus_falcatus_JX216530 are exactly identical\n",
        "\n",
        "\n",
        "IMPORTANT WARNING: Sequences Brachionus_manjavacas_FR729683 and Brachionus_manjavacas_FR729678 are exactly identical\n",
        "\n",
        "\n",
        "IMPORTANT WARNING: Sequences Brachionus_manjavacas_FR729682 and Brachionus_manjavacas_EF017651 are exactly identical\n",
        "\n",
        "IMPORTANT WARNING\n",
        "Found 8 sequences that are exactly identical to other sequences in the alignment.\n",
        "Normally they should be excluded from the analysis.\n",
        "\n",
        "An alignment file with sequence duplicates removed has already\n",
        "been printed to file data/phylip_aligned.phy.reduced\n",
        "\n",
        "\n",
        "This is RAxML version 7.2.8 released by Alexandros Stamatakis in October 2010.\n",
        "\n",
        "With greatly appreciated code contributions by:\n",
        "Andre Aberer (TUM)\n",
        "Simon Berger (TUM)\n",
        "John Cazes (TACC)\n",
        "Michael Ott (TUM)\n",
        "Nick Pattengale (UNM)\n",
        "Wayne Pfeiffer (SDSC)\n",
        "Akifumi S. Tanabe (Univ. Tsukuba)\n",
        "\n",
        "\n",
        "Alignment has 264 distinct alignment patterns\n",
        "\n",
        "Proportion of gaps and completely undetermined characters in this alignment: 7.93%\n",
        "\n",
        "RAxML rapid hill-climbing mode\n",
        "\n",
        "Using 1 distinct models/data partitions with joint branch length optimization\n",
        "\n",
        "\n",
        "Executing 1 inferences on the original alignment using 1 distinct randomized MP trees\n",
        "\n",
        "All free model parameters will be estimated by RAxML\n",
        "ML estimate of 25 per site rate categories\n",
        "\n",
        "Likelihood of final tree will be evaluated and optimized under GAMMA\n",
        "\n",
        "GAMMA Model parameters will be estimated up to an accuracy of 0.1000000000 Log Likelihood units\n",
        "\n",
        "Partition: 0\n",
        "Alignment Patterns: 264\n",
        "Name: No Name Provided\n",
        "DataType: DNA\n",
        "Substitution Matrix: GTR\n",
        "\n",
        "\n",
        "\n",
        "\n",
        "RAxML was called as follows:\n",
        "\n",
        "raxmlHPC-PTHREADS-SSE3 -m GTRCAT -n rotifer_tree -p 10000 -s data/phylip_aligned.phy -w /Users/stevemoss/Dropbox/PhD/Research/Reproducible_Phylogenetics/ReproPhylo/data \n",
        "\n",
        "\n",
        "Inference[0]: Time 1.634852 CAT-based likelihood -2881.817396, best rearrangement setting 5\n",
        "\n",
        "\n",
        "Conducting final model optimizations on all 1 trees under GAMMA-based models ....\n",
        "\n",
        "Testing which likelihood implementation to use\n",
        "Standard Implementation full tree traversal time: 0.003681\n",
        "Subtree Equality Vectors for gap columns full tree traversal time: 0.003470\n",
        "... using standard implementation\n",
        "\n",
        "Inference[0] final GAMMA-based Likelihood: -3514.418155 tree written to file /Users/stevemoss/Dropbox/PhD/Research/Reproducible_Phylogenetics/ReproPhylo/data/RAxML_result.rotifer_tree\n",
        "\n",
        "\n",
        "Starting final GAMMA-based thorough Optimization on tree 0 likelihood -3514.418155 .... \n",
        "\n",
        "Final GAMMA-based Score of best tree -3513.401426\n",
        "\n",
        "Program execution info written to /Users/stevemoss/Dropbox/PhD/Research/Reproducible_Phylogenetics/ReproPhylo/data/RAxML_info.rotifer_tree\n",
        "Best-scoring ML tree written to: /Users/stevemoss/Dropbox/PhD/Research/Reproducible_Phylogenetics/ReproPhylo/data/RAxML_bestTree.rotifer_tree\n",
        "\n",
        "Overall execution time: 3.019449 secs or 0.000839 hours or 0.000035 days\n",
        "\n",
        "\n",
        "\n"
       ]
      }
     ],
     "prompt_number": 68
    },
    {
     "cell_type": "markdown",
     "metadata": {},
     "source": [
      "##Visualise the tree\n",
      "\n",
      "Now we visualise the tree"
     ]
    },
    {
     "cell_type": "code",
     "collapsed": false,
     "input": [
      "from Bio import Phylo\n",
      "# set tree path\n",
      "tree_path = os.path.join(raxml_output, \"RAxML_result.\" + raxml_run_name)\n",
      "tree_path_xml = os.path.join(raxml_output, \"RAxML_result.\" + raxml_run_name + \".xml\")\n",
      "# convert to PhyloXML\n",
      "Phylo.convert(tree_path, \"newick\", tree_path_xml, \"phyloxml\")\n",
      "# read in the tree\n",
      "rotifer_tree = Phylo.read(tree_path_xml, \"phyloxml\")\n",
      "Phylo.draw(rotifer_tree)"
     ],
     "language": "python",
     "metadata": {},
     "outputs": [
      {
       "output_type": "display_data",
       "png": "[encoded data removed]"
      }
     ],
     "prompt_number": 78
    },
    {
     "cell_type": "code",
     "collapsed": false,
     "input": [],
     "language": "python",
     "metadata": {},
     "outputs": []
    }
   ],
   "metadata": {}
  }
 ]
}