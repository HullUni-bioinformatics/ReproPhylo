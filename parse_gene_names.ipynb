{
 "metadata": {
  "name": "",
  "signature": "sha256:8f320e201164fae2dbc17e668aec7f051f0a85e0c84bba83ebfdf2ad34e45411"
 },
 "nbformat": 3,
 "nbformat_minor": 0,
 "worksheets": [
  {
   "cells": [
    {
     "cell_type": "heading",
     "level": 3,
     "metadata": {},
     "source": [
      "Get gene names from a genbank file"
     ]
    },
    {
     "cell_type": "raw",
     "metadata": {},
     "source": [
      "if no gene name corresponding to CDS then use product instead"
     ]
    },
    {
     "cell_type": "code",
     "collapsed": false,
     "input": [
      "from Bio import SeqIO\n",
      "\n",
      "# Open GenBank file\n",
      "MelPCgenes = open(\"data/MelPCgenes.gb\", 'rU')\n",
      "\n",
      "# For each record (mitochrodrial genome, in this case)...\n",
      "for record in SeqIO.parse(MelPCgenes, 'genbank') :\n",
      "\n",
      "   # Grab the entire sequence\n",
      "   seq = str(record.seq)\n",
      "\n",
      "   # Look at all features for this record\n",
      "   for feature in record.features:\n",
      "      \n",
      "      # If it's a CDS or rRNA...\n",
      "      if feature.type == 'CDS' or feature.type == 'rRNA':\n",
      "\n",
      "         # If it contains some attribute called 'gene' save that\n",
      "         if 'gene' in feature.qualifiers:\n",
      "            geneName = feature.qualifiers['gene'][0]\n",
      "            print(geneName)\n",
      "            \n",
      "         # Else if it contains some attribute called 'product' save that instead\n",
      "         elif 'product' in feature.qualifiers:\n",
      "            geneName = feature.qualifiers['product'][0]\n",
      "            print(geneName)\n",
      "            \n",
      "         # Otherwise, quit.\n",
      "         else:\n",
      "            print 'ERROR when parsing feature: could not find either gene or product'\n",
      "            print feature.qualifiers\n",
      "            quit()"
     ],
     "language": "python",
     "metadata": {},
     "outputs": [
      {
       "output_type": "stream",
       "stream": "stdout",
       "text": [
        "msp\n",
        "msp\n",
        "msp\n",
        "elongation factor 1-alpha\n"
       ]
      }
     ],
     "prompt_number": 1
    },
    {
     "cell_type": "heading",
     "level": 3,
     "metadata": {},
     "source": [
      "Try now to add gene name to a dictionary unless it already exists, when I just increment the count"
     ]
    },
    {
     "cell_type": "code",
     "collapsed": false,
     "input": [
      "from Bio import SeqIO\n",
      "\n",
      "# Open GenBank file\n",
      "MelPCgenes = open(\"data/MelPCgenes.gb\", 'rU')\n",
      "\n",
      "gene_dict = {} #set up a gene_dict dictionary\n",
      "\n",
      "# For each record\n",
      "for record in SeqIO.parse(MelPCgenes, 'genbank') :\n",
      "\n",
      "   # Grab the entire sequence\n",
      "   #seq = str(record.seq)  ## what is this actually used for? Nothing seems to happen on disabling it\n",
      "\n",
      "   # Look at all features for this record\n",
      "   for feature in record.features:\n",
      "      \n",
      "      # If it's a CDS or rRNA...\n",
      "      if feature.type == 'CDS' or feature.type == 'rRNA':\n",
      "\n",
      "         # If it contains some attribute called 'gene' save that\n",
      "         if 'gene' in feature.qualifiers:\n",
      "            geneName = feature.qualifiers['gene'][0]\n",
      "            if geneName in gene_dict:\n",
      "                gene_dict[geneName]+=1\n",
      "            else:    \n",
      "                gene_dict[geneName]=1\n",
      "            #print(geneName)\n",
      "            \n",
      "         # Else if it contains some attribute called 'product' save that instead\n",
      "         elif 'product' in feature.qualifiers:\n",
      "            geneName = feature.qualifiers['product'][0]\n",
      "            if geneName in gene_dict:\n",
      "                gene_dict[geneName]+=1\n",
      "            else:    \n",
      "                gene_dict[geneName]=1\n",
      "            #print(geneName)\n",
      "            \n",
      "         # Otherwise, quit.\n",
      "         else:\n",
      "            print 'ERROR when parsing feature: could not find either gene or product'\n",
      "            print feature.qualifiers\n",
      "            quit()\n",
      "#print(gene_dict)\n",
      "    \n",
      "#sorting happens via a list\n",
      "sorted = gene_dict.items()\n",
      "sorted.sort() ################## is this working?\n",
      "\n",
      "print('\\n' + \"There are \" + str(len(sorted)) + \" gene names (or gene product names) detected\")\n",
      "print(\"---------------\")\n",
      "print(\"Gene and count\")\n",
      "print(\"---------------\")\n",
      "\n",
      "for key, value in sorted:\n",
      "        #print key, value\n",
      "        print(str(value) +\" instances of \" + key)\n",
      "        "
     ],
     "language": "python",
     "metadata": {},
     "outputs": [
      {
       "output_type": "stream",
       "stream": "stdout",
       "text": [
        "\n",
        "There are 4 gene names (or gene product names) detected\n",
        "---------------\n",
        "Gene and count\n",
        "---------------\n",
        "1 instances of RNA polymerase II large subunit\n",
        "1 instances of dystrophin\n",
        "1 instances of elongation factor 1-alpha\n",
        "3 instances of msp\n"
       ]
      }
     ],
     "prompt_number": 67
    },
    {
     "cell_type": "raw",
     "metadata": {},
     "source": [
      "I need to print out a vertical list of keys and values that is sorted alphabetically\n",
      "http://www.pythoncentral.io/how-to-sort-python-dictionaries-by-key-or-value/\n",
      "I should count the total number of records too"
     ]
    },
    {
     "cell_type": "heading",
     "level": 3,
     "metadata": {},
     "source": [
      "Work on sorting the dictionary"
     ]
    },
    {
     "cell_type": "code",
     "collapsed": false,
     "input": [
      "from Bio import SeqIO\n",
      "\n",
      "# Open GenBank file\n",
      "MelPCgenes = open(\"data/MelPCgenes.gb\", 'rU')\n",
      "\n",
      "gene_dict = {} #set up a gene_dict dictionary\n",
      "\n",
      "# For each record\n",
      "for record in SeqIO.parse(MelPCgenes, 'genbank') :\n",
      "\n",
      "   # Grab the entire sequence\n",
      "   #seq = str(record.seq)  ## what is this actually used for? Nothing seems to happen on disabling it\n",
      "\n",
      "   # Look at all features for this record\n",
      "   for feature in record.features:\n",
      "      \n",
      "      # If it's a CDS or rRNA...\n",
      "      if feature.type == 'CDS' or feature.type == 'rRNA':\n",
      "\n",
      "         # If it contains some attribute called 'gene' save that\n",
      "         if 'gene' in feature.qualifiers:\n",
      "            geneName = feature.qualifiers['gene'][0]\n",
      "            if geneName in gene_dict:\n",
      "                gene_dict[geneName]+=1\n",
      "            else:    \n",
      "                gene_dict[geneName]=1\n",
      "            #print(geneName)\n",
      "            \n",
      "         # Else if it contains some attribute called 'product' save that instead\n",
      "         elif 'product' in feature.qualifiers:\n",
      "            geneName = feature.qualifiers['product'][0]\n",
      "            if geneName in gene_dict:\n",
      "                gene_dict[geneName]+=1\n",
      "            else:    \n",
      "                gene_dict[geneName]=1\n",
      "            #print(geneName)\n",
      "            \n",
      "         # Otherwise, quit.\n",
      "         else:\n",
      "            print 'ERROR when parsing feature: could not find either gene or product'\n",
      "            print feature.qualifiers\n",
      "            quit()\n",
      "#print(gene_dict)\n",
      "    \n",
      "#sorting happens via a list\n",
      "items_list = gene_dict.items()\n",
      "print(items_list)\n",
      "items_list.sort() ################## is this working?\n",
      "print(items_list)\n",
      "\n",
      "print('\\n' + \"There are \" + str(len(sorted)) + \" gene names (or gene product names) detected\")\n",
      "print(\"---------------\")\n",
      "print(\"Gene and count\")\n",
      "print(\"---------------\")\n",
      "\n",
      "for key, value in items_list:\n",
      "        #print key, value\n",
      "        print(str(value) +\" instances of \" + key)\n",
      "\n",
      "print('\\n' + \"===== sorted by lower case ====\")\n",
      "print sorted(gene_dict.keys(),  key=lambda s: s.lower())"
     ],
     "language": "python",
     "metadata": {},
     "outputs": [
      {
       "output_type": "stream",
       "stream": "stdout",
       "text": [
        "[('RNA polymerase II large subunit', 1), ('dystrophin', 1), ('elongation factor 1-alpha', 1), ('msp', 3)]\n",
        "[('RNA polymerase II large subunit', 1), ('dystrophin', 1), ('elongation factor 1-alpha', 1), ('msp', 3)]\n",
        "\n",
        "There are 4 gene names (or gene product names) detected\n",
        "---------------\n",
        "Gene and count\n",
        "---------------\n",
        "1 instances of RNA polymerase II large subunit\n",
        "1 instances of dystrophin\n",
        "1 instances of elongation factor 1-alpha\n",
        "3 instances of msp\n",
        "\n",
        "===== sorted by lower case ====\n"
       ]
      },
      {
       "ename": "TypeError",
       "evalue": "'list' object is not callable",
       "output_type": "pyerr",
       "traceback": [
        "\u001b[0;31m---------------------------------------------------------------------------\u001b[0m\n\u001b[0;31mTypeError\u001b[0m                                 Traceback (most recent call last)",
        "\u001b[0;32m<ipython-input-72-7efb8839dcd2>\u001b[0m in \u001b[0;36m<module>\u001b[0;34m()\u001b[0m\n\u001b[1;32m     59\u001b[0m \u001b[0;34m\u001b[0m\u001b[0m\n\u001b[1;32m     60\u001b[0m \u001b[0;32mprint\u001b[0m\u001b[0;34m(\u001b[0m\u001b[0;34m'\\n'\u001b[0m \u001b[0;34m+\u001b[0m \u001b[0;34m\"===== sorted by lower case ====\"\u001b[0m\u001b[0;34m)\u001b[0m\u001b[0;34m\u001b[0m\u001b[0m\n\u001b[0;32m---> 61\u001b[0;31m \u001b[0;32mprint\u001b[0m \u001b[0msorted\u001b[0m\u001b[0;34m(\u001b[0m\u001b[0mgene_dict\u001b[0m\u001b[0;34m.\u001b[0m\u001b[0mkeys\u001b[0m\u001b[0;34m(\u001b[0m\u001b[0;34m)\u001b[0m\u001b[0;34m,\u001b[0m  \u001b[0mkey\u001b[0m\u001b[0;34m=\u001b[0m\u001b[0;32mlambda\u001b[0m \u001b[0ms\u001b[0m\u001b[0;34m:\u001b[0m \u001b[0ms\u001b[0m\u001b[0;34m.\u001b[0m\u001b[0mlower\u001b[0m\u001b[0;34m(\u001b[0m\u001b[0;34m)\u001b[0m\u001b[0;34m)\u001b[0m\u001b[0;34m\u001b[0m\u001b[0m\n\u001b[0m",
        "\u001b[0;31mTypeError\u001b[0m: 'list' object is not callable"
       ]
      }
     ],
     "prompt_number": 72
    },
    {
     "cell_type": "raw",
     "metadata": {},
     "source": [
      "thing below not working who know why"
     ]
    },
    {
     "cell_type": "code",
     "collapsed": false,
     "input": [
      "from Bio import SeqIO\n",
      "\n",
      "# Open GenBank file\n",
      "MelPCgenes = open(\"data/MelPCgenes.gb\", 'rU')\n",
      "\n",
      "gene_dict = {} #set up a gene_dict dictionary\n",
      "\n",
      "# For each record\n",
      "for record in SeqIO.parse(MelPCgenes, 'genbank') :\n",
      "\n",
      "   # Grab the entire sequence\n",
      "   #seq = str(record.seq)  ## what is this actually used for? Nothing seems to happen on disabling it\n",
      "\n",
      "   # Look at all features for this record\n",
      "   for feature in record.features:\n",
      "      \n",
      "      # If it's a CDS or rRNA...\n",
      "      if feature.type == 'CDS' or feature.type == 'rRNA':\n",
      "\n",
      "         # If it contains some attribute called 'gene' save that\n",
      "         if 'gene' in feature.qualifiers:\n",
      "            geneName = feature.qualifiers['gene'][0]\n",
      "            if geneName in gene_dict:\n",
      "                gene_dict[geneName]+=1\n",
      "            else:    \n",
      "                gene_dict[geneName]=1\n",
      "            #print(geneName)\n",
      "            \n",
      "         # Else if it contains some attribute called 'product' save that instead\n",
      "         elif 'product' in feature.qualifiers:\n",
      "            geneName = feature.qualifiers['product'][0]\n",
      "            if geneName in gene_dict:\n",
      "                gene_dict[geneName]+=1\n",
      "            else:    \n",
      "                gene_dict[geneName]=1\n",
      "            #print(geneName)\n",
      "            \n",
      "         # Otherwise, quit.\n",
      "         else:\n",
      "            print 'ERROR when parsing feature: could not find either gene or product'\n",
      "            print feature.qualifiers\n",
      "            quit()\n",
      "#print(gene_dict)\n",
      "    \n",
      "#sorting happens via a list\n",
      "#sorted = gene_dict.items()\n",
      "#sorted.sort() ################## is this working?\n",
      "\n",
      "print('\\n' + \"There are \" + str(len(sorted)) + \" gene names (or gene product names) detected\")\n",
      "print(\"---------------\")\n",
      "print(\"Gene and count\")\n",
      "print(\"---------------\")\n",
      "print gene_dict.keys()\n",
      "amir = sorted(list(gene_dict.keys()))\n",
      "A = sorted([1,2,3])\n",
      "print A\n",
      "for key in amir:\n",
      "    \n",
      "    print key, ':', gene_dict[key]   \n",
      "    \n",
      "for key, value in sorted:\n",
      "        print(str(value) +\" instances of \" + key)"
     ],
     "language": "python",
     "metadata": {},
     "outputs": [
      {
       "output_type": "stream",
       "stream": "stdout",
       "text": [
        "\n",
        "There are 4 gene names (or gene product names) detected\n",
        "---------------\n",
        "Gene and count\n",
        "---------------\n",
        "['RNA polymerase II large subunit', 'dystrophin', 'elongation factor 1-alpha', 'msp']\n"
       ]
      },
      {
       "ename": "TypeError",
       "evalue": "'list' object is not callable",
       "output_type": "pyerr",
       "traceback": [
        "\u001b[0;31m---------------------------------------------------------------------------\u001b[0m\n\u001b[0;31mTypeError\u001b[0m                                 Traceback (most recent call last)",
        "\u001b[0;32m<ipython-input-66-a0386f6033cc>\u001b[0m in \u001b[0;36m<module>\u001b[0;34m()\u001b[0m\n\u001b[1;32m     52\u001b[0m \u001b[0;32mprint\u001b[0m\u001b[0;34m(\u001b[0m\u001b[0;34m\"---------------\"\u001b[0m\u001b[0;34m)\u001b[0m\u001b[0;34m\u001b[0m\u001b[0m\n\u001b[1;32m     53\u001b[0m \u001b[0;32mprint\u001b[0m \u001b[0mgene_dict\u001b[0m\u001b[0;34m.\u001b[0m\u001b[0mkeys\u001b[0m\u001b[0;34m(\u001b[0m\u001b[0;34m)\u001b[0m\u001b[0;34m\u001b[0m\u001b[0m\n\u001b[0;32m---> 54\u001b[0;31m \u001b[0mamir\u001b[0m \u001b[0;34m=\u001b[0m \u001b[0msorted\u001b[0m\u001b[0;34m(\u001b[0m\u001b[0mlist\u001b[0m\u001b[0;34m(\u001b[0m\u001b[0mgene_dict\u001b[0m\u001b[0;34m.\u001b[0m\u001b[0mkeys\u001b[0m\u001b[0;34m(\u001b[0m\u001b[0;34m)\u001b[0m\u001b[0;34m)\u001b[0m\u001b[0;34m)\u001b[0m\u001b[0;34m\u001b[0m\u001b[0m\n\u001b[0m\u001b[1;32m     55\u001b[0m \u001b[0mA\u001b[0m \u001b[0;34m=\u001b[0m \u001b[0msorted\u001b[0m\u001b[0;34m(\u001b[0m\u001b[0;34m[\u001b[0m\u001b[0;36m1\u001b[0m\u001b[0;34m,\u001b[0m\u001b[0;36m2\u001b[0m\u001b[0;34m,\u001b[0m\u001b[0;36m3\u001b[0m\u001b[0;34m]\u001b[0m\u001b[0;34m)\u001b[0m\u001b[0;34m\u001b[0m\u001b[0m\n\u001b[1;32m     56\u001b[0m \u001b[0;32mprint\u001b[0m \u001b[0mA\u001b[0m\u001b[0;34m\u001b[0m\u001b[0m\n",
        "\u001b[0;31mTypeError\u001b[0m: 'list' object is not callable"
       ]
      }
     ],
     "prompt_number": 66
    },
    {
     "cell_type": "code",
     "collapsed": false,
     "input": [],
     "language": "python",
     "metadata": {},
     "outputs": []
    }
   ],
   "metadata": {}
  }
 ]
}