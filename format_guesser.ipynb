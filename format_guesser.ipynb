{
 "metadata": {
  "name": ""
 },
 "nbformat": 3,
 "nbformat_minor": 0,
 "worksheets": [
  {
   "cells": [
    {
     "cell_type": "markdown",
     "metadata": {},
     "source": [
      "<font size=4>The format guesser will generate a text file cotatining a table with all the file names and their format. It will be called several times along the workflow and will update the table. The initial guess made by the Bio::Tools::GuessSeqFormat has to be extanded to make more accurate guesses (eg, strict or relaxed? interleave or sequetial? are the titles of the sequences iterated in each block or do they apear only in the first block, etc.). Python modules that have to decide if a reformat is needed and for a downstreem analysis can check the files format in the formats table."
     ]
    },
    {
     "cell_type": "code",
     "collapsed": false,
     "input": [
      "%%perl\n",
      "\n",
      "use strict; \n",
      "use warnings;\n",
      "use Bio::Tools::GuessSeqFormat; \n",
      "\n",
      "# If a table of file formts already exists, make a note\n",
      "# of the files already guessed so that they will not be\n",
      "# recorded in the table again\n",
      "\n",
      "my %seen_files;\n",
      "if (-e 'formats.txt'){\n",
      "    open IN, '<formats.txt';\n",
      "    for my $line (<IN>){\n",
      "        my $filename = (split('\\t',$line))[0];\n",
      "        $seen_files{$filename}++;\n",
      "    close IN;\n",
      "    }\n",
      "}\n",
      "open FORMATS, '>>formats.txt';\n",
      "\n",
      "# List all the files in the data folder\n",
      "\n",
      "my $dir = 'data';\n",
      "opendir(DIR, $dir) or die $!;\n",
      "\n",
      "# Guess the format of files that have been added to the\n",
      "# data folder since last time and add them to the table\n",
      "\n",
      "while (my $filename = readdir(DIR)){\n",
      "    unless (exists $seen_files{$filename}){ \n",
      "        $seen_files{$filename}++;\n",
      "        my $guesser = Bio::Tools::GuessSeqFormat->new();\n",
      "        $guesser->file('data/' . $filename);\n",
      "        my $format = $guesser->guess;\n",
      "        # Here I will add further checks to pinpoint the\n",
      "        # format more accurately, see above\n",
      "        if (defined $format){\n",
      "            print FORMATS \"$filename\\t\".\"$format\\n\";\n",
      "        }else{\n",
      "            print FORMATS \"$filename\\tNone\\n\";\n",
      "        }\n",
      "    }\n",
      "}\n",
      "close FORMATS;"
     ],
     "language": "python",
     "metadata": {},
     "outputs": [],
     "prompt_number": 41
    }
   ],
   "metadata": {}
  }
 ]
}