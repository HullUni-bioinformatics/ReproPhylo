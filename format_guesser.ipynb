{
 "metadata": {
  "name": "format_guesser"
 },
 "nbformat": 3,
 "nbformat_minor": 0,
 "worksheets": [
  {
   "cells": [
    {
     "cell_type": "markdown",
     "metadata": {},
     "source": [
      "<font size=4>The format guesser will generate a text file cotatining a table with all the file names and their format. It will be called several times along the workflow and will update the table. The initial guess made by the Bio::Tools::GuessSeqFormat has to be extanded to make more accurate guesses (eg, strict or relaxed? interleave or sequetial? are the titles of the sequences iterated in each block or do they apear only in the first block, etc.). Python modules that have to decide if a reformat is needed for a downstreem analysis can check the files format in the formats table. This script can be changed to run continously at the background so that there is no need for ipython notebook to call an external script"
     ]
    },
    {
     "cell_type": "code",
     "collapsed": false,
     "input": [
      "%%perl\n",
      "\n",
      "use strict; \n",
      "use warnings;\n",
      "use Bio::Tools::GuessSeqFormat; \n",
      "\n",
      "# If a table of file formts already exists, make a note\n",
      "# of the files already guessed so that they will not be\n",
      "# recorded in the table again\n",
      "\n",
      "my %seen_files;\n",
      "if (-e 'formats.txt'){\n",
      "    open IN, '<formats.txt';\n",
      "    for my $line (<IN>){\n",
      "        my $filename = (split('\\t',$line))[0];\n",
      "        $seen_files{$filename}++;\n",
      "    close IN;\n",
      "    }\n",
      "}\n",
      "open FORMATS, '>>formats.txt';\n",
      "\n",
      "# List all the files in the data folder\n",
      "\n",
      "my $dir = 'data';\n",
      "opendir(DIR, $dir) or die $!;\n",
      "\n",
      "# Guess the format of files that have been added to the\n",
      "# data folder since last time and add them to the table\n",
      "my $guesser = Bio::Tools::GuessSeqFormat->new();\n",
      "while (my $filename = readdir(DIR)){\n",
      "    unless (exists $seen_files{$filename}){ \n",
      "        $seen_files{$filename}++;\n",
      "        $guesser->file('data/' . $filename);\n",
      "        my $format = $guesser->guess;\n",
      "        # Here I will add further checks to pinpoint the\n",
      "        # format more accurately, see above\n",
      "        if (defined $format){\n",
      "            print FORMATS \"$filename\\t\".\"$format\\n\";\n",
      "        }else{\n",
      "            print FORMATS \"$filename\\tNone\\n\";\n",
      "        }\n",
      "    }\n",
      "}\n",
      "close FORMATS;"
     ],
     "language": "python",
     "metadata": {},
     "outputs": []
    },
    {
     "cell_type": "markdown",
     "metadata": {},
     "source": [
      "<font size=4>An alternative that guesses the current file and passes the guess to stdout, by calling an external script"
     ]
    },
    {
     "cell_type": "code",
     "collapsed": false,
     "input": [
      "%%perl\n",
      "# This will be called by a python script\n",
      "use strict; \n",
      "use warnings;\n",
      "use Bio::Tools::GuessSeqFormat; \n",
      "\n",
      "\n",
      "\n",
      "my $filename = $ARGV[0];\n",
      "my $outfile = ($filename).(\".format\");\n",
      "open TMP, ('>').($outfile);\n",
      "\n",
      "\n",
      "my $guesser = Bio::Tools::GuessSeqFormat->new;\n",
      "$guesser->file('data/' . $filename);\n",
      "my $format = $guesser->guess;\n",
      "\n",
      "if (defined $format){\n",
      "    print TMP $format;\n",
      "}else{\n",
      "    print TMP \"None\";\n",
      "}\n",
      "\n",
      "close TMP;"
     ],
     "language": "python",
     "metadata": {},
     "outputs": []
    },
    {
     "cell_type": "code",
     "collapsed": false,
     "input": [
      "# print the perl script to a file\n",
      "\n",
      "a = \"\"\"use strict; \n",
      "use warnings;\n",
      "use Bio::Tools::GuessSeqFormat; \n",
      "\n",
      "\n",
      "\n",
      "my $filename = $ARGV[0];\n",
      "my $outfile = ($filename).(\".format\");\n",
      "open TMP, ('>').($outfile);\n",
      "\n",
      "\n",
      "my $guesser = Bio::Tools::GuessSeqFormat->new;\n",
      "$guesser->file('data/' . $filename);\n",
      "my $format = $guesser->guess;\n",
      "\n",
      "if (defined $format){\n",
      "    print TMP $format;\n",
      "}else{\n",
      "    print TMP \"None\";\n",
      "}\n",
      "\n",
      "close TMP;\"\"\"\n",
      "\n",
      "file_handle = open('guesser.pl','wt')\n",
      "file_handle.write(a)\n",
      "file_handle.close()"
     ],
     "language": "python",
     "metadata": {},
     "outputs": [],
     "prompt_number": 1
    },
    {
     "cell_type": "code",
     "collapsed": false,
     "input": [
      "# guess a file's format by calling guesser.pl which will write the format to a tmp file\n",
      "\n",
      "import os\n",
      "\n",
      "def guess_format(input_filename):\n",
      "    os.system('perl guesser.pl ' + input_filename)\n",
      "    guess = open(input_filename + '.format','r').read();\n",
      "    os.remove(input_filename + '.format')\n",
      "    return guess\n",
      "\n",
      "\n",
      "input_filename = 'YR_corrected.mafft_trim07.fas.phy.reduced'\n",
      "print 'The file ', input_filename, ' is in ', guess_format(input_filename), ' format'"
     ],
     "language": "python",
     "metadata": {},
     "outputs": [
      {
       "output_type": "stream",
       "stream": "stdout",
       "text": [
        "The file  YR_corrected.mafft_trim07.fas.phy.reduced  is in  "
       ]
      },
      {
       "output_type": "stream",
       "stream": "stdout",
       "text": [
        "phylip  format\n"
       ]
      }
     ],
     "prompt_number": 12
    }
   ],
   "metadata": {}
  }
 ]
}