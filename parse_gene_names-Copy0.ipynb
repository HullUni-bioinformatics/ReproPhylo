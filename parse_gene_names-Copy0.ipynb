{
 "metadata": {
  "name": "",
  "signature": "sha256:8f320e201164fae2dbc17e668aec7f051f0a85e0c84bba83ebfdf2ad34e45411"
 },
 "nbformat": 3,
 "nbformat_minor": 0,
 "worksheets": [
  {
   "cells": [
    {
     "cell_type": "heading",
     "level": 3,
     "metadata": {},
     "source": [
      "Get gene names from a genbank file"
     ]
    },
    {
     "cell_type": "raw",
     "metadata": {},
     "source": [
      "if no gene name corresponding to CDS then use product instead"
     ]
    },
    {
     "cell_type": "heading",
     "level": 3,
     "metadata": {},
     "source": [
      "Try now to add gene name to a dictionary unless it already exists, when I just increment the count"
     ]
    },
    {
     "cell_type": "code",
     "collapsed": false,
     "input": [
      "from Bio import SeqIO\n",
      "\n",
      "# Open GenBank file\n",
      "MelPCgenes = open(\"data/Tetillidae.gb\", 'rU')\n",
      "\n",
      "gene_dict = {} #set up a gene_dict dictionary\n",
      "\n",
      "# For each record\n",
      "for record in SeqIO.parse(MelPCgenes, 'genbank') :\n",
      "\n",
      "   # Grab the entire sequence\n",
      "   #seq = str(record.seq)  ## what is this actually used for? Nothing seems to happen on disabling it\n",
      "\n",
      "   # Look at all features for this record\n",
      "   for feature in record.features:\n",
      "      \n",
      "      # If it's a CDS or rRNA...\n",
      "      if feature.type == 'CDS' or feature.type == 'rRNA':\n",
      "\n",
      "         # If it contains some attribute called 'gene' save that\n",
      "         if 'gene' in feature.qualifiers:\n",
      "            geneName = feature.qualifiers['gene'][0].lower()\n",
      "            if geneName in gene_dict:\n",
      "                gene_dict[geneName]+=1\n",
      "            else:    \n",
      "                gene_dict[geneName]=1\n",
      "            #print(geneName)\n",
      "            \n",
      "         # Else if it contains some attribute called 'product' save that instead\n",
      "         elif 'product' in feature.qualifiers:\n",
      "            geneName = feature.qualifiers['product'][0].lower()\n",
      "            if geneName in gene_dict:\n",
      "                gene_dict[geneName]+=1\n",
      "            else:    \n",
      "                gene_dict[geneName]=1\n",
      "            #print(geneName)\n",
      "            \n",
      "         # Otherwise, quit.\n",
      "         else:\n",
      "            print 'ERROR when parsing feature: could not find either gene or product'\n",
      "            print feature.qualifiers\n",
      "            quit()\n",
      "#print(gene_dict)\n",
      "    \n",
      "#sorting happens via a list\n",
      "sorted = gene_dict.items()\n",
      "sorted.sort() ################## is this working?\n",
      "\n",
      "print('\\n' + \"There are \" + str(len(sorted)) + \" gene names (or gene product names) detected\")\n",
      "print(\"---------------\")\n",
      "print(\"Gene and count\")\n",
      "print(\"---------------\")\n",
      "\n",
      "for key, value in sorted:\n",
      "        #print key, value\n",
      "        print(str(value) +\" instances of \" + key)\n",
      "        "
     ],
     "language": "python",
     "metadata": {},
     "outputs": [
      {
       "output_type": "stream",
       "stream": "stdout",
       "text": [
        "\n",
        "There are 50 gene names (or gene product names) detected\n",
        "---------------\n",
        "Gene and count\n",
        "---------------\n",
        "41 instances of 18s ribosomal rna\n",
        "2 instances of 18s rrna\n",
        "6 instances of 28s large subunit ribosomal rna\n",
        "42 instances of 28s ribosomal rna\n",
        "1 instances of 5.8s ribosomal rna\n",
        "1 instances of 5.8s rrna\n",
        "1 instances of 5s rrna\n",
        "1 instances of ald\n",
        "2 instances of alg11\n",
        "1 instances of atp synthase beta subunit\n",
        "4 instances of atp6\n",
        "4 instances of atp8\n",
        "3 instances of atp9\n",
        "1 instances of catalase\n",
        "1 instances of cchga\n",
        "1 instances of cchgb\n",
        "1 instances of cchgc\n",
        "1 instances of cchgd\n",
        "1 instances of cchge\n",
        "1 instances of cchgf\n",
        "2 instances of cob\n",
        "12 instances of coi\n",
        "79 instances of cox1\n",
        "4 instances of cox2\n",
        "4 instances of cox3\n",
        "3 instances of coxi\n",
        "1 instances of cytb\n",
        "1 instances of elongation factor 1 alpha\n",
        "1 instances of hsp70\n",
        "1 instances of mat\n",
        "2 instances of nad1\n",
        "2 instances of nad2\n",
        "2 instances of nad3\n",
        "2 instances of nad4\n",
        "2 instances of nad4l\n",
        "2 instances of nad5\n",
        "2 instances of nad6\n",
        "1 instances of nd1\n",
        "1 instances of nd2\n",
        "1 instances of nd3\n",
        "2 instances of nd4\n",
        "1 instances of nd4l\n",
        "1 instances of nd5\n",
        "1 instances of nd6\n",
        "7 instances of putative laglidadg protein\n",
        "3 instances of rnl\n",
        "3 instances of rns\n",
        "1 instances of rrnl\n",
        "9 instances of small subunit 18s ribosomal rna\n",
        "1 instances of tpi\n"
       ]
      }
     ],
     "prompt_number": 2
    },
    {
     "cell_type": "raw",
     "metadata": {},
     "source": [
      "I need to print out a vertical list of keys and values that is sorted alphabetically\n",
      "http://www.pythoncentral.io/how-to-sort-python-dictionaries-by-key-or-value/\n",
      "I should count the total number of records too"
     ]
    }
   ],
   "metadata": {}
  }
 ]
}