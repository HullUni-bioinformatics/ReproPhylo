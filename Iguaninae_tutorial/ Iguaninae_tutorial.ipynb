{
 "metadata": {
  "name": ""
 },
 "nbformat": 3,
 "nbformat_minor": 0,
 "worksheets": [
  {
   "cells": [
    {
     "cell_type": "code",
     "collapsed": false,
     "input": [
      "from reprophylo import *"
     ],
     "language": "python",
     "metadata": {},
     "outputs": [],
     "prompt_number": 92
    },
    {
     "cell_type": "code",
     "collapsed": false,
     "input": [
      "start_git()"
     ],
     "language": "python",
     "metadata": {},
     "outputs": [
      {
       "output_type": "stream",
       "stream": "stdout",
       "text": [
        "\n",
        "On branch master\n",
        "Untracked files:\n",
        "\t Iguaninae_tutorial.ipynb\n",
        "\tIguaninae_raw_loci.csv\n",
        "\tedited_Iguaninae_loci.csv\n",
        "\tedited_Iguaninae_metadata.csv\n",
        "\tnad4@MafftLinsi_aln.fasta\n",
        "\traw_Iguaninae_metadata.csv\n",
        "\ttest_report.html\n",
        "\n",
        "nothing added to commit but untracked files present\n",
        "\n"
       ]
      }
     ],
     "prompt_number": 93
    },
    {
     "cell_type": "code",
     "collapsed": false,
     "input": [
      "genbank_file = \"Iguaninae_1545seqs.gb\""
     ],
     "language": "python",
     "metadata": {},
     "outputs": [],
     "prompt_number": 94
    },
    {
     "cell_type": "code",
     "collapsed": false,
     "input": [
      "list_loci_in_genbank(genbank_file, 'Iguaninae_raw_loci.csv')"
     ],
     "language": "python",
     "metadata": {},
     "outputs": [
      {
       "output_type": "stream",
       "stream": "stdout",
       "text": [
        "\n",
        "There are 148 gene names (or gene product names) detected\n",
        "----------------------------------\n",
        "Gene and count sorted by gene name\n",
        "----------------------------------\n",
        "3 instances of CDS,ADNP\n",
        "3 instances of CDS,AHR\n",
        "3 instances of CDS,AKAP9\n",
        "1 instances of CDS,alpha actin\n",
        "21 instances of CDS,alpha enolase\n",
        "1 instances of CDS,Amcr-DAB1\n",
        "2 instances of CDS,Amcr-DAB2\n",
        "2 instances of CDS,Amcr-DAB3\n",
        "2 instances of CDS,Amcr-DAB4\n",
        "1 instances of CDS,Amcr-DAB5\n",
        "2 instances of CDS,Amcr-UA\n",
        "5 instances of CDS,Amcr-UB\n",
        "1 instances of CDS,AMEL\n",
        "1 instances of CDS,amelogenin T2L splicing form 2\n",
        "1 instances of CDS,amelogenin T2S splicing form 1\n",
        "1 instances of CDS,ATP6\n",
        "1 instances of CDS,atp6\n",
        "1 instances of CDS,ATP8\n",
        "1 instances of CDS,atp8\n",
        "3 instances of CDS,BACH1\n",
        "6 instances of CDS,BDNF\n",
        "3 instances of CDS,BHLHB2\n",
        "3 instances of CDS,BMP2\n",
        "1 instances of CDS,BNDF\n",
        "15 instances of CDS,C-mos\n",
        "11 instances of CDS,c-mos\n",
        "1 instances of CDS,C-MOS\n",
        "3 instances of CDS,CAND1\n",
        "3 instances of CDS,CARD4\n",
        "3 instances of CDS,CILP\n",
        "2 instances of CDS,citrate synthase\n",
        "5 instances of CDS,COI\n",
        "47 instances of CDS,COIII\n",
        "1 instances of CDS,Cosu-UA\n",
        "4 instances of CDS,Cosu-UB\n",
        "1 instances of CDS,cox I\n",
        "1 instances of CDS,cox II\n",
        "1 instances of CDS,cox III\n",
        "1 instances of CDS,COX1\n",
        "1 instances of CDS,COX2\n",
        "1 instances of CDS,COX3\n",
        "1 instances of CDS,CRiSP-Igu-1\n",
        "1 instances of CDS,CRiSP-Igu-2\n",
        "1 instances of CDS,cryba2\n",
        "2 instances of CDS,crygn\n",
        "1 instances of CDS,Ctcl-UA\n",
        "1 instances of CDS,Ctde-UA\n",
        "1 instances of CDS,CVF-Igu-1\n",
        "3 instances of CDS,CXCR4\n",
        "1 instances of CDS,Cyca-UA\n",
        "1 instances of CDS,Cyco-UA\n",
        "1 instances of CDS,cygb-1\n",
        "1 instances of CDS,cygb-2\n",
        "1 instances of CDS,Cyri-UA\n",
        "1 instances of CDS,Cystatin-Igu-1\n",
        "1 instances of CDS,Cystatin-Igu-2\n",
        "1 instances of CDS,Cystatin-Igu-3\n",
        "229 instances of CDS,cytb\n",
        "1 instances of CDS,CYTB\n",
        "47 instances of CDS,Cytb\n",
        "9 instances of CDS,cytochrome B\n",
        "7 instances of CDS,cytochrome b\n",
        "3 instances of CDS,distal-less\n",
        "1 instances of CDS,DNA polymerase alpha catalytic subunit\n",
        "3 instances of CDS,DNAH3\n",
        "3 instances of CDS,ECEL1\n",
        "3 instances of CDS,ENC1\n",
        "3 instances of CDS,FSHR\n",
        "3 instances of CDS,FSTL5\n",
        "3 instances of CDS,GALR1\n",
        "1 instances of CDS,GAPDH\n",
        "1 instances of CDS,gapdh\n",
        "1 instances of CDS,GARS-AIRS-GART\n",
        "3 instances of CDS,GHSR\n",
        "1 instances of CDS,GPR149\n",
        "3 instances of CDS,GPR37\n",
        "2 instances of CDS,ha1\n",
        "1 instances of CDS,histone H3a\n",
        "3 instances of CDS,HLCS\n",
        "1 instances of CDS,HOXA13\n",
        "3 instances of CDS,Igig-UB\n",
        "3 instances of CDS,INHBA\n",
        "1 instances of CDS,JUN\n",
        "1 instances of CDS,kunitz-Igu-1\n",
        "1 instances of CDS,lactate dehydrogenase A\n",
        "1 instances of CDS,lactate dehydrogenase B\n",
        "3 instances of CDS,leucine zipper tumor suppressor 1\n",
        "2 instances of CDS,LRRN1\n",
        "1 instances of CDS,mb\n",
        "3 instances of CDS,MKL1'\n",
        "1 instances of CDS,MLL\n",
        "3 instances of CDS,MSH6\n",
        "1 instances of CDS,muscle-type (A4) lactate dehydrogenase\n",
        "2 instances of CDS,muscle-type lactate dehydrogenase\n",
        "15 instances of CDS,NADH dehydrogenase subunit 4\n",
        "1 instances of CDS,nadh1\n",
        "1 instances of CDS,nadh2\n",
        "1 instances of CDS,nadh3\n",
        "1 instances of CDS,nadh4\n",
        "1 instances of CDS,nadh4L\n",
        "1 instances of CDS,nadh5\n",
        "1 instances of CDS,nadh6\n",
        "6 instances of CDS,ND1\n",
        "6 instances of CDS,ND2\n",
        "1 instances of CDS,ND3\n",
        "303 instances of CDS,ND4\n",
        "1 instances of CDS,ND4L\n",
        "1 instances of CDS,ND5\n",
        "1 instances of CDS,ND6\n",
        "3 instances of CDS,NGFB\n",
        "3 instances of CDS,NKTR\n",
        "1 instances of CDS,NT-3\n",
        "13 instances of CDS,NT3\n",
        "3 instances of CDS,NTF3\n",
        "1 instances of CDS,pancreatic ribonuclease precursor\n",
        "1 instances of CDS,pin\n",
        "3 instances of CDS,PNN\n",
        "1 instances of CDS,pp\n",
        "2 instances of CDS,PRLR\n",
        "2 instances of CDS,protein tyrosine phosphatase non-receptor type 12\n",
        "1 instances of CDS,prt\n",
        "3 instances of CDS,PTGER4\n",
        "3 instances of CDS,R35\n",
        "3 instances of CDS,RAG-1\n",
        "6 instances of CDS,RAG1\n",
        "1 instances of CDS,RAG2\n",
        "2 instances of CDS,RNF103\n",
        "1 instances of CDS,RT\n",
        "3 instances of CDS,SLC30A1\n",
        "3 instances of CDS,SLC8A1\n",
        "3 instances of CDS,SLC8A3\n",
        "3 instances of CDS,SNCAIP\n",
        "1 instances of CDS,src\n",
        "1 instances of CDS,sws1\n",
        "3 instances of CDS,TRAF6\n",
        "1 instances of CDS,TSHZ1\n",
        "3 instances of CDS,UBN1\n",
        "3 instances of CDS,VCPIP\n",
        "3 instances of CDS,ZEB2\n",
        "3 instances of CDS,ZFP36L1\n",
        "3 instances of CDS,ZHFX1b\n",
        "9 instances of rRNA,12S ribosomal RNA\n",
        "1 instances of rRNA,12S rRNA\n",
        "3 instances of rRNA,16S ribosomal RNA\n",
        "1 instances of rRNA,16S rRNA\n",
        "1 instances of rRNA,18S ribosomal RNA\n",
        "23 instances of rRNA,28S ribosomal RNA\n",
        "21 instances of rRNA,5.8S ribosomal RNA\n",
        "-------------------------------\n",
        "Gene and count sorted by counts\n",
        "-------------------------------\n",
        "303 instances of CDS,ND4\n",
        "229 instances of CDS,cytb\n",
        "47 instances of CDS,COIII\n",
        "47 instances of CDS,Cytb\n",
        "23 instances of rRNA,28S ribosomal RNA\n",
        "21 instances of CDS,alpha enolase\n",
        "21 instances of rRNA,5.8S ribosomal RNA\n",
        "15 instances of CDS,C-mos\n",
        "15 instances of CDS,NADH dehydrogenase subunit 4\n",
        "13 instances of CDS,NT3\n",
        "11 instances of CDS,c-mos\n",
        "9 instances of CDS,cytochrome B\n",
        "9 instances of rRNA,12S ribosomal RNA\n",
        "7 instances of CDS,cytochrome b\n",
        "6 instances of CDS,BDNF\n",
        "6 instances of CDS,ND1\n",
        "6 instances of CDS,ND2\n",
        "6 instances of CDS,RAG1\n",
        "5 instances of CDS,Amcr-UB\n",
        "5 instances of CDS,COI\n",
        "4 instances of CDS,Cosu-UB\n",
        "3 instances of CDS,ADNP\n",
        "3 instances of CDS,AHR\n",
        "3 instances of CDS,AKAP9\n",
        "3 instances of CDS,BACH1\n",
        "3 instances of CDS,BHLHB2\n",
        "3 instances of CDS,BMP2\n",
        "3 instances of CDS,CAND1\n",
        "3 instances of CDS,CARD4\n",
        "3 instances of CDS,CILP\n",
        "3 instances of CDS,CXCR4\n",
        "3 instances of CDS,distal-less\n",
        "3 instances of CDS,DNAH3\n",
        "3 instances of CDS,ECEL1\n",
        "3 instances of CDS,ENC1\n",
        "3 instances of CDS,FSHR\n",
        "3 instances of CDS,FSTL5\n",
        "3 instances of CDS,GALR1\n",
        "3 instances of CDS,GHSR\n",
        "3 instances of CDS,GPR37\n",
        "3 instances of CDS,HLCS\n",
        "3 instances of CDS,Igig-UB\n",
        "3 instances of CDS,INHBA\n",
        "3 instances of CDS,leucine zipper tumor suppressor 1\n",
        "3 instances of CDS,MKL1'\n",
        "3 instances of CDS,MSH6\n",
        "3 instances of CDS,NGFB\n",
        "3 instances of CDS,NKTR\n",
        "3 instances of CDS,NTF3\n",
        "3 instances of CDS,PNN\n",
        "3 instances of CDS,PTGER4\n",
        "3 instances of CDS,R35\n",
        "3 instances of CDS,RAG-1\n",
        "3 instances of CDS,SLC30A1\n",
        "3 instances of CDS,SLC8A1\n",
        "3 instances of CDS,SLC8A3\n",
        "3 instances of CDS,SNCAIP\n",
        "3 instances of CDS,TRAF6\n",
        "3 instances of CDS,UBN1\n",
        "3 instances of CDS,VCPIP\n",
        "3 instances of CDS,ZEB2\n",
        "3 instances of CDS,ZFP36L1\n",
        "3 instances of CDS,ZHFX1b\n",
        "3 instances of rRNA,16S ribosomal RNA\n",
        "2 instances of CDS,Amcr-DAB2\n",
        "2 instances of CDS,Amcr-DAB3\n",
        "2 instances of CDS,Amcr-DAB4\n",
        "2 instances of CDS,Amcr-UA\n",
        "2 instances of CDS,citrate synthase\n",
        "2 instances of CDS,crygn\n",
        "2 instances of CDS,ha1\n",
        "2 instances of CDS,LRRN1\n",
        "2 instances of CDS,muscle-type lactate dehydrogenase\n",
        "2 instances of CDS,PRLR\n",
        "2 instances of CDS,protein tyrosine phosphatase non-receptor type 12\n",
        "2 instances of CDS,RNF103\n",
        "1 instances of CDS,alpha actin\n",
        "1 instances of CDS,Amcr-DAB1\n",
        "1 instances of CDS,Amcr-DAB5\n",
        "1 instances of CDS,AMEL\n",
        "1 instances of CDS,amelogenin T2L splicing form 2\n",
        "1 instances of CDS,amelogenin T2S splicing form 1\n",
        "1 instances of CDS,ATP6\n",
        "1 instances of CDS,atp6\n",
        "1 instances of CDS,ATP8\n",
        "1 instances of CDS,atp8\n",
        "1 instances of CDS,BNDF\n",
        "1 instances of CDS,C-MOS\n",
        "1 instances of CDS,Cosu-UA\n",
        "1 instances of CDS,cox I\n",
        "1 instances of CDS,cox II\n",
        "1 instances of CDS,cox III\n",
        "1 instances of CDS,COX1\n",
        "1 instances of CDS,COX2\n",
        "1 instances of CDS,COX3\n",
        "1 instances of CDS,CRiSP-Igu-1\n",
        "1 instances of CDS,CRiSP-Igu-2\n",
        "1 instances of CDS,cryba2\n",
        "1 instances of CDS,Ctcl-UA\n",
        "1 instances of CDS,Ctde-UA\n",
        "1 instances of CDS,CVF-Igu-1\n",
        "1 instances of CDS,Cyca-UA\n",
        "1 instances of CDS,Cyco-UA\n",
        "1 instances of CDS,cygb-1\n",
        "1 instances of CDS,cygb-2\n",
        "1 instances of CDS,Cyri-UA\n",
        "1 instances of CDS,Cystatin-Igu-1\n",
        "1 instances of CDS,Cystatin-Igu-2\n",
        "1 instances of CDS,Cystatin-Igu-3\n",
        "1 instances of CDS,CYTB\n",
        "1 instances of CDS,DNA polymerase alpha catalytic subunit\n",
        "1 instances of CDS,GAPDH\n",
        "1 instances of CDS,gapdh\n",
        "1 instances of CDS,GARS-AIRS-GART\n",
        "1 instances of CDS,GPR149\n",
        "1 instances of CDS,histone H3a\n",
        "1 instances of CDS,HOXA13\n",
        "1 instances of CDS,JUN\n",
        "1 instances of CDS,kunitz-Igu-1\n",
        "1 instances of CDS,lactate dehydrogenase A\n",
        "1 instances of CDS,lactate dehydrogenase B\n",
        "1 instances of CDS,mb\n",
        "1 instances of CDS,MLL\n",
        "1 instances of CDS,muscle-type (A4) lactate dehydrogenase\n",
        "1 instances of CDS,nadh1\n",
        "1 instances of CDS,nadh2\n",
        "1 instances of CDS,nadh3\n",
        "1 instances of CDS,nadh4\n",
        "1 instances of CDS,nadh4L\n",
        "1 instances of CDS,nadh5\n",
        "1 instances of CDS,nadh6\n",
        "1 instances of CDS,ND3\n",
        "1 instances of CDS,ND4L\n",
        "1 instances of CDS,ND5\n",
        "1 instances of CDS,ND6\n",
        "1 instances of CDS,NT-3\n",
        "1 instances of CDS,pancreatic ribonuclease precursor\n",
        "1 instances of CDS,pin\n",
        "1 instances of CDS,pp\n",
        "1 instances of CDS,prt\n",
        "1 instances of CDS,RAG2\n",
        "1 instances of CDS,RT\n",
        "1 instances of CDS,src\n",
        "1 instances of CDS,sws1\n",
        "1 instances of CDS,TSHZ1\n",
        "1 instances of rRNA,12S rRNA\n",
        "1 instances of rRNA,16S rRNA\n",
        "1 instances of rRNA,18S ribosomal RNA\n"
       ]
      }
     ],
     "prompt_number": 6
    },
    {
     "cell_type": "code",
     "collapsed": false,
     "input": [
      "!cat Iguaninae_raw_loci.csv"
     ],
     "language": "python",
     "metadata": {},
     "outputs": [
      {
       "output_type": "stream",
       "stream": "stdout",
       "text": [
        "dna,rRNA,12S_ribosomal_RNA,12S ribosomal RNA,12S rRNA\r\n",
        "dna,rRNA,16S_ribosomal_RNA,16S ribosomal RNA,16S rRNA\r\n",
        "dna,rRNA,18s,18S ribosomal RNA\r\n",
        "dna,rRNA,28s,28S ribosomal RNA\r\n",
        "dna,rRNA,5.8S_ribosomal_RNA,5.8S ribosomal RNA\r\n",
        "dna,CDS,ADNP,ADNP\r\n",
        "dna,CDS,AHR,AHR\r\n",
        "dna,CDS,AKAP9,AKAP9\r\n",
        "dna,CDS,AMEL,AMEL\r\n",
        "dna,CDS,ATP6,ATP6,atp6\r\n",
        "dna,CDS,ATP8,ATP8,atp8\r\n",
        "dna,CDS,Amcr-DAB1,Amcr-DAB1\r\n",
        "dna,CDS,Amcr-DAB2,Amcr-DAB2\r\n",
        "dna,CDS,Amcr-DAB3,Amcr-DAB3\r\n",
        "dna,CDS,Amcr-DAB4,Amcr-DAB4\r\n",
        "dna,CDS,Amcr-DAB5,Amcr-DAB5\r\n",
        "dna,CDS,Amcr-UA,Amcr-UA\r\n",
        "dna,CDS,Amcr-UB,Amcr-UB\r\n",
        "dna,CDS,BACH1,BACH1\r\n",
        "dna,CDS,BDNF,BDNF\r\n",
        "dna,CDS,BHLHB2,BHLHB2\r\n",
        "dna,CDS,BMP2,BMP2\r\n",
        "dna,CDS,BNDF,BNDF\r\n",
        "dna,CDS,CAND1,CAND1\r\n",
        "dna,CDS,CARD4,CARD4\r\n",
        "dna,CDS,CILP,CILP\r\n",
        "dna,CDS,CRiSP-Igu-1,CRiSP-Igu-1\r\n",
        "dna,CDS,CRiSP-Igu-2,CRiSP-Igu-2\r\n",
        "dna,CDS,CVF-Igu-1,CVF-Igu-1\r\n",
        "dna,CDS,CXCR4,CXCR4\r\n",
        "dna,CDS,C_mos,C-mos,c-mos,C-MOS\r\n",
        "dna,CDS,Cosu-UA,Cosu-UA\r\n",
        "dna,CDS,Cosu-UB,Cosu-UB\r\n",
        "dna,CDS,Ctcl-UA,Ctcl-UA\r\n",
        "dna,CDS,Ctde-UA,Ctde-UA\r\n",
        "dna,CDS,Cyca-UA,Cyca-UA\r\n",
        "dna,CDS,Cyco-UA,Cyco-UA\r\n",
        "dna,CDS,Cyri-UA,Cyri-UA\r\n",
        "dna,CDS,Cystatin-Igu-1,Cystatin-Igu-1\r\n",
        "dna,CDS,Cystatin-Igu-2,Cystatin-Igu-2\r\n",
        "dna,CDS,Cystatin-Igu-3,Cystatin-Igu-3\r\n",
        "dna,CDS,DNAH3,DNAH3\r\n",
        "dna,CDS,DNA_polymerase_alpha_catalytic_subunit,DNA polymerase alpha catalytic subunit\r\n",
        "dna,CDS,ECEL1,ECEL1\r\n",
        "dna,CDS,ENC1,ENC1\r\n",
        "dna,CDS,FSHR,FSHR\r\n",
        "dna,CDS,FSTL5,FSTL5\r\n",
        "dna,CDS,GALR1,GALR1\r\n",
        "dna,CDS,GAPDH,GAPDH,gapdh\r\n",
        "dna,CDS,GARS-AIRS-GART,GARS-AIRS-GART\r\n",
        "dna,CDS,GHSR,GHSR\r\n",
        "dna,CDS,GPR149,GPR149\r\n",
        "dna,CDS,GPR37,GPR37\r\n",
        "dna,CDS,HLCS,HLCS\r\n",
        "dna,CDS,HOXA13,HOXA13\r\n",
        "dna,CDS,INHBA,INHBA\r\n",
        "dna,CDS,Igig-UB,Igig-UB\r\n",
        "dna,CDS,JUN,JUN\r\n",
        "dna,CDS,LRRN1,LRRN1\r\n",
        "dna,CDS,MKL1',MKL1'\r\n",
        "dna,CDS,MLL,MLL\r\n",
        "dna,CDS,MSH6,MSH6\r\n",
        "dna,CDS,NGFB,NGFB\r\n",
        "dna,CDS,NKTR,NKTR\r\n",
        "dna,CDS,NT-3,NT-3\r\n",
        "dna,CDS,NT3,NT3\r\n",
        "dna,CDS,NTF3,NTF3\r\n",
        "dna,CDS,PNN,PNN\r\n",
        "dna,CDS,PRLR,PRLR\r\n",
        "dna,CDS,PTGER4,PTGER4\r\n",
        "dna,CDS,R35,R35\r\n",
        "dna,CDS,RAG-1,RAG-1\r\n",
        "dna,CDS,RAG1,RAG1\r\n",
        "dna,CDS,RAG2,RAG2\r\n",
        "dna,CDS,RNF103,RNF103\r\n",
        "dna,CDS,RT,RT\r\n",
        "dna,CDS,SLC30A1,SLC30A1\r\n",
        "dna,CDS,SLC8A1,SLC8A1\r\n",
        "dna,CDS,SLC8A3,SLC8A3\r\n",
        "dna,CDS,SNCAIP,SNCAIP\r\n",
        "dna,CDS,TRAF6,TRAF6\r\n",
        "dna,CDS,TSHZ1,TSHZ1\r\n",
        "dna,CDS,UBN1,UBN1\r\n",
        "dna,CDS,VCPIP,VCPIP\r\n",
        "dna,CDS,ZEB2,ZEB2\r\n",
        "dna,CDS,ZFP36L1,ZFP36L1\r\n",
        "dna,CDS,ZHFX1b,ZHFX1b\r\n",
        "dna,CDS,alpha_actin,alpha actin\r\n",
        "dna,CDS,alpha_enolase,alpha enolase\r\n",
        "dna,CDS,amelogenin_T2L_splicing_form_2,amelogenin T2L splicing form 2\r\n",
        "dna,CDS,amelogenin_T2S_splicing_form_1,amelogenin T2S splicing form 1\r\n",
        "dna,CDS,citrate_synthase,citrate synthase\r\n",
        "dna,CDS,coi,COI,cox I,COX1\r\n",
        "dna,CDS,coii,cox II,COX2\r\n",
        "dna,CDS,coiii,COIII,cox III,COX3\r\n",
        "dna,CDS,cryba2,cryba2\r\n",
        "dna,CDS,crygn,crygn\r\n",
        "dna,CDS,cygb-1,cygb-1\r\n",
        "dna,CDS,cygb-2,cygb-2\r\n",
        "dna,CDS,cytb,cytb,CYTB,Cytb,cytochrome B,cytochrome b\r\n",
        "dna,CDS,distal-less,distal-less\r\n",
        "dna,CDS,ha1,ha1\r\n",
        "dna,CDS,histone_H3a,histone H3a\r\n",
        "dna,CDS,kunitz-Igu-1,kunitz-Igu-1\r\n",
        "dna,CDS,lactate_dehydrogenase_A,lactate dehydrogenase A\r\n",
        "dna,CDS,lactate_dehydrogenase_B,lactate dehydrogenase B\r\n",
        "dna,CDS,leucine_zipper_tumor_suppressor_1,leucine zipper tumor suppressor 1\r\n",
        "dna,CDS,mb,mb\r\n",
        "dna,CDS,muscle-type_(A4)_lactate_dehydrogenase,muscle-type (A4) lactate dehydrogenase\r\n",
        "dna,CDS,muscle-type_lactate_dehydrogenase,muscle-type lactate dehydrogenase\r\n",
        "dna,CDS,nad1,nadh1,ND1\r\n",
        "dna,CDS,nad2,nadh2,ND2\r\n",
        "dna,CDS,nad3,nadh3,ND3\r\n",
        "dna,CDS,nad4,NADH dehydrogenase subunit 4,nadh4,ND4\r\n",
        "dna,CDS,nad4l,nadh4L,ND4L\r\n",
        "dna,CDS,nad5,nadh5,ND5\r\n",
        "dna,CDS,nad6,nadh6,ND6\r\n",
        "dna,CDS,pancreatic_ribonuclease_precursor,pancreatic ribonuclease precursor\r\n",
        "dna,CDS,pin,pin\r\n",
        "dna,CDS,pp,pp\r\n",
        "dna,CDS,protein_tyrosine_phosphatase_non-receptor_type_12,protein tyrosine phosphatase non-receptor type 12\r\n",
        "dna,CDS,prt,prt\r\n",
        "dna,CDS,src,src\r\n",
        "dna,CDS,sws1,sws1\r\n"
       ]
      }
     ],
     "prompt_number": 7
    },
    {
     "cell_type": "code",
     "collapsed": false,
     "input": [
      "%%file edited_Iguaninae_loci.csv\n",
      "dna,CDS,nad4,nad4,NADH dehydrogenase subunit 4,nadh4,ND4\n",
      "dna,CDS,cytb,cytb,CYTB,Cytb,cytochrome B,cytochrome b\n",
      "dna,CDS,coiii,coiii,COIII,cox III,COX3"
     ],
     "language": "python",
     "metadata": {},
     "outputs": [
      {
       "output_type": "stream",
       "stream": "stdout",
       "text": [
        "Overwriting edited_Iguaninae_loci.csv\n"
       ]
      }
     ],
     "prompt_number": 8
    },
    {
     "cell_type": "code",
     "collapsed": false,
     "input": [
      "pj = Project('edited_Iguaninae_loci.csv')"
     ],
     "language": "python",
     "metadata": {},
     "outputs": [
      {
       "output_type": "stream",
       "stream": "stdout",
       "text": [
        "Read the following loci from file edited_Iguaninae_loci.csv:\n",
        "Locus(char_type=dna, feature_type=CDS, name=cytb, aliases=cytb; CYTB; Cytb; cytochrome B; cytochrome b)\n",
        "Locus(char_type=dna, feature_type=CDS, name=coiii, aliases=coiii; COIII; cox III; COX3)\n",
        "Locus(char_type=dna, feature_type=CDS, name=nad4, aliases=nad4; NADH dehydrogenase subunit 4; nadh4; ND4)\n"
       ]
      }
     ],
     "prompt_number": 95
    },
    {
     "cell_type": "code",
     "collapsed": false,
     "input": [
      "pj.read_embl_genbank(['Iguaninae_1545seqs.gb'])"
     ],
     "language": "python",
     "metadata": {},
     "outputs": [
      {
       "output_type": "stream",
       "stream": "stdout",
       "text": [
        "\n",
        "On branch master\n",
        "Untracked files:\n",
        "\t Iguaninae_tutorial.ipynb\n",
        "\tIguaninae_raw_loci.csv\n",
        "\tedited_Iguaninae_loci.csv\n",
        "\tedited_Iguaninae_metadata.csv\n",
        "\tnad4@MafftLinsi_aln.fasta\n",
        "\traw_Iguaninae_metadata.csv\n",
        "\ttest_report.html\n",
        "\n",
        "nothing added to commit but untracked files present\n"
       ]
      },
      {
       "output_type": "stream",
       "stream": "stdout",
       "text": [
        "\n"
       ]
      }
     ],
     "prompt_number": 96
    },
    {
     "cell_type": "code",
     "collapsed": false,
     "input": [
      "pj.write('raw_Iguaninae_metadata.csv',format='csv')"
     ],
     "language": "python",
     "metadata": {},
     "outputs": [],
     "prompt_number": 9
    },
    {
     "cell_type": "markdown",
     "metadata": {},
     "source": [
      "Add column with genus, add column 'OTU' which unites strain and voucher specimen, choose genes with many reps that are identified by strain or voucher specimen: 'coiii','cytb','nad4'"
     ]
    },
    {
     "cell_type": "code",
     "collapsed": false,
     "input": [
      "pj.correct_metadata_from_file('edited_Iguaninae_metadata.csv')"
     ],
     "language": "python",
     "metadata": {},
     "outputs": [],
     "prompt_number": 97
    },
    {
     "cell_type": "code",
     "collapsed": false,
     "input": [
      "pj.extract_by_locus()"
     ],
     "language": "python",
     "metadata": {},
     "outputs": [],
     "prompt_number": 98
    },
    {
     "cell_type": "code",
     "collapsed": false,
     "input": [
      "pj.filter_by_seq_length(min_length=200)"
     ],
     "language": "python",
     "metadata": {},
     "outputs": [],
     "prompt_number": 99
    },
    {
     "cell_type": "code",
     "collapsed": false,
     "input": [
      "mafft = AlnConf(pj, CDSAlign=False, cline_args={'auto':True})"
     ],
     "language": "python",
     "metadata": {},
     "outputs": [
      {
       "output_type": "stream",
       "stream": "stdout",
       "text": [
        "mafft --auto 539651413667746.84_cytb.fasta\n",
        "mafft --auto 539651413667746.84_coiii.fasta\n",
        "mafft --auto 539651413667746.84_nad4.fasta\n"
       ]
      }
     ],
     "prompt_number": 100
    },
    {
     "cell_type": "markdown",
     "metadata": {},
     "source": [
      "With the jobs below when * turns into an integer it is finished"
     ]
    },
    {
     "cell_type": "code",
     "collapsed": false,
     "input": [
      "pj.align([mafft])"
     ],
     "language": "python",
     "metadata": {},
     "outputs": [],
     "prompt_number": 101
    },
    {
     "cell_type": "code",
     "collapsed": false,
     "input": [
      "pickle_pj(pj, 'Iguaninae_tutorial.pkl')"
     ],
     "language": "python",
     "metadata": {},
     "outputs": [
      {
       "output_type": "stream",
       "stream": "stdout",
       "text": [
        "\n",
        "[master 3f560fa] A pickled Project from Sat Oct 18 22:29:35 2014\n",
        " 1 file changed, 0 insertions(+), 0 deletions(-)\n"
       ]
      },
      {
       "output_type": "stream",
       "stream": "stdout",
       "text": [
        "\n"
       ]
      },
      {
       "metadata": {},
       "output_type": "pyout",
       "prompt_number": 102,
       "text": [
        "'Iguaninae_tutorial.pkl'"
       ]
      }
     ],
     "prompt_number": 102
    },
    {
     "cell_type": "code",
     "collapsed": false,
     "input": [
      "gappyout = TrimalConf(pj)"
     ],
     "language": "python",
     "metadata": {},
     "outputs": [
      {
       "output_type": "stream",
       "stream": "stdout",
       "text": [
        "trimal -in 502851413667777.38_coiii@MafftLinsi.fasta -gappyout\n",
        "trimal -in 502851413667777.38_nad4@MafftLinsi.fasta -gappyout\n",
        "trimal -in 502851413667777.38_cytb@MafftLinsi.fasta -gappyout\n"
       ]
      }
     ],
     "prompt_number": 103
    },
    {
     "cell_type": "code",
     "collapsed": false,
     "input": [
      "pj.trim([gappyout])"
     ],
     "language": "python",
     "metadata": {},
     "outputs": [],
     "prompt_number": 104
    },
    {
     "cell_type": "code",
     "collapsed": false,
     "input": [
      "pickle_pj(pj, 'Iguaninae_tutorial.pkl')"
     ],
     "language": "python",
     "metadata": {},
     "outputs": [
      {
       "output_type": "stream",
       "stream": "stdout",
       "text": [
        "\n",
        "[master 181e2bd] A pickled Project from Sat Oct 18 22:29:40 2014\n",
        " 1 file changed, 0 insertions(+), 0 deletions(-)\n"
       ]
      },
      {
       "output_type": "stream",
       "stream": "stdout",
       "text": [
        "\n"
       ]
      },
      {
       "metadata": {},
       "output_type": "pyout",
       "prompt_number": 105,
       "text": [
        "'Iguaninae_tutorial.pkl'"
       ]
      }
     ],
     "prompt_number": 105
    },
    {
     "cell_type": "code",
     "collapsed": false,
     "input": [
      "concat_loci = [locus for locus in pj.loci if locus.name in ['coiii','cytb']]\n",
      "for i in concat_loci:\n",
      "    print str(i)\n",
      "concat = Concatenation(name='strict', loci=concat_loci, otu_meta='OTUs',\n",
      "                       concat_must_have_all_of=['coiii','cytb'])"
     ],
     "language": "python",
     "metadata": {},
     "outputs": [
      {
       "output_type": "stream",
       "stream": "stdout",
       "text": [
        "Locus(char_type=dna, feature_type=CDS, name=cytb, aliases=cytb; CYTB; Cytb; cytochrome B; cytochrome b)\n",
        "Locus(char_type=dna, feature_type=CDS, name=coiii, aliases=coiii; COIII; cox III; COX3)\n"
       ]
      }
     ],
     "prompt_number": 106
    },
    {
     "cell_type": "code",
     "collapsed": false,
     "input": [
      "pj.concatenations = []\n",
      "pj.add_concatenation(concat)"
     ],
     "language": "python",
     "metadata": {},
     "outputs": [],
     "prompt_number": 107
    },
    {
     "cell_type": "code",
     "collapsed": false,
     "input": [
      "pj.make_concatenation_alignments()"
     ],
     "language": "python",
     "metadata": {},
     "outputs": [],
     "prompt_number": 108
    },
    {
     "cell_type": "code",
     "collapsed": false,
     "input": [
      "interm_report=open('test_report.html','wt')\n",
      "for line in report_methods(pj,'.'):\n",
      "    interm_report.write(line+'\\n')\n",
      "interm_report.close()"
     ],
     "language": "python",
     "metadata": {},
     "outputs": [],
     "prompt_number": 109
    },
    {
     "cell_type": "code",
     "collapsed": false,
     "input": [
      "raxml = RaxmlConf(pj, method_name='fD_fb', program_name='raxmlHPC-PTHREADS-SSE3',\n",
      "                  cmd='raxmlHPC-PTHREADS-SSE3', preset='fD_fb', alns='all',\n",
      "                  model='GAMMA', threads=5)"
     ],
     "language": "python",
     "metadata": {},
     "outputs": [
      {
       "output_type": "stream",
       "stream": "stdout",
       "text": [
        "raxmlHPC-PTHREADS-SSE3 -f D -m GTRGAMMA -n 571221413667810.4_nad4@MafftLinsi@gappyout0 -p 187 -s 571221413667810.4_nad4@MafftLinsi@gappyout.fasta -T 5 -N 1\n",
        "raxmlHPC-PTHREADS-SSE3 -f b -m GTRGAMMA -n 571221413667810.4_nad4@MafftLinsi@gappyout1 -p 736 -s 571221413667810.4_nad4@MafftLinsi@gappyout.fasta -t RAxML_bestTree.571221413667810.4_nad4@MafftLinsi@gappyout0 -T 5 -z RAxML_rellBootstrap.571221413667810.4_nad4@MafftLinsi@gappyout0\n",
        "raxmlHPC-PTHREADS-SSE3 -f D -m GTRGAMMA -n 571221413667810.4_cytb@MafftLinsi@gappyout0 -p 865 -s 571221413667810.4_cytb@MafftLinsi@gappyout.fasta -T 5 -N 1\n",
        "raxmlHPC-PTHREADS-SSE3 -f b -m GTRGAMMA -n 571221413667810.4_cytb@MafftLinsi@gappyout1 -p 581 -s 571221413667810.4_cytb@MafftLinsi@gappyout.fasta -t RAxML_bestTree.571221413667810.4_cytb@MafftLinsi@gappyout0 -T 5 -z RAxML_rellBootstrap.571221413667810.4_cytb@MafftLinsi@gappyout0\n",
        "raxmlHPC-PTHREADS-SSE3 -f D -m GTRGAMMA -n 571221413667810.4_coiii@MafftLinsi@gappyout0 -p 12 -s 571221413667810.4_coiii@MafftLinsi@gappyout.fasta -T 5 -N 1\n",
        "raxmlHPC-PTHREADS-SSE3 -f b -m GTRGAMMA -n 571221413667810.4_coiii@MafftLinsi@gappyout1 -p 884 -s 571221413667810.4_coiii@MafftLinsi@gappyout.fasta -t RAxML_bestTree.571221413667810.4_coiii@MafftLinsi@gappyout0 -T 5 -z RAxML_rellBootstrap.571221413667810.4_coiii@MafftLinsi@gappyout0\n",
        "raxmlHPC-PTHREADS-SSE3 -f D -m PROTGAMMAJTT -n 571221413667810.4_strict0 -q 571221413667810.4_strict_partfile -p 801 -s 571221413667810.4_strict.fasta -T 5 -N 1\n",
        "raxmlHPC-PTHREADS-SSE3 -f b -m PROTGAMMAJTT -n 571221413667810.4_strict1 -q 571221413667810.4_strict_partfile -p 420 -s 571221413667810.4_strict.fasta -t RAxML_bestTree.571221413667810.4_strict0 -T 5 -z RAxML_rellBootstrap.571221413667810.4_strict0\n"
       ]
      }
     ],
     "prompt_number": 110
    },
    {
     "cell_type": "code",
     "collapsed": false,
     "input": [
      "pj.tree([raxml])"
     ],
     "language": "python",
     "metadata": {},
     "outputs": [],
     "prompt_number": 111
    },
    {
     "cell_type": "code",
     "collapsed": false,
     "input": [
      "pj.annotate('.', 'mid','mid', ['source_organism'], html='tree_figures.html')"
     ],
     "language": "python",
     "metadata": {},
     "outputs": [],
     "prompt_number": 113
    },
    {
     "cell_type": "code",
     "collapsed": false,
     "input": [
      "pickle_pj(pj, 'Iguaninae_tutorial.pkl')"
     ],
     "language": "python",
     "metadata": {},
     "outputs": [
      {
       "output_type": "stream",
       "stream": "stdout",
       "text": [
        "\n",
        "[master 4ea49b4] A pickled Project from Sat Oct 18 22:36:59 2014\n",
        " 1 file changed, 0 insertions(+), 0 deletions(-)\n"
       ]
      },
      {
       "output_type": "stream",
       "stream": "stdout",
       "text": [
        "\n"
       ]
      },
      {
       "metadata": {},
       "output_type": "pyout",
       "prompt_number": 115,
       "text": [
        "'Iguaninae_tutorial.pkl'"
       ]
      }
     ],
     "prompt_number": 115
    },
    {
     "cell_type": "code",
     "collapsed": false,
     "input": [
      "publish(pj,'Iguaninae','.')"
     ],
     "language": "python",
     "metadata": {},
     "outputs": [
      {
       "output_type": "stream",
       "stream": "stdout",
       "text": [
        "\n",
        "[master 6813566] A pickled Project from Sat Oct 18 22:38:12 2014\n",
        " 1 file changed, 0 insertions(+), 0 deletions(-)\n",
        " create mode 100644 Iguaninae/Sat_18_Oct_2014_21:38:10.pkl\n",
        "\n"
       ]
      }
     ],
     "prompt_number": 117
    },
    {
     "cell_type": "code",
     "collapsed": false,
     "input": [],
     "language": "python",
     "metadata": {},
     "outputs": []
    }
   ],
   "metadata": {}
  }
 ]
}