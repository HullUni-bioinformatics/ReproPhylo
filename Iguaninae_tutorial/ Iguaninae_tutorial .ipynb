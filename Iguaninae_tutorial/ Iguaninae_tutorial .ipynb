{
 "metadata": {
  "name": ""
 },
 "nbformat": 3,
 "nbformat_minor": 0,
 "worksheets": [
  {
   "cells": [
    {
     "cell_type": "code",
     "collapsed": false,
     "input": [
      "from reprophylo import *"
     ],
     "language": "python",
     "metadata": {},
     "outputs": [],
     "prompt_number": 1
    },
    {
     "cell_type": "code",
     "collapsed": false,
     "input": [
      "start_git()"
     ],
     "language": "python",
     "metadata": {},
     "outputs": [
      {
       "output_type": "stream",
       "stream": "stdout",
       "text": [
        "\n",
        "On branch master\n",
        "\n",
        "Initial commit\n",
        "\n",
        "Untracked files:\n",
        "\t Iguaninae_tutorial .ipynb\n",
        "\tIguaninae_1545seqs.gb\n",
        "\tIguaninae_raw_loci.csv\n",
        "\tIguaninae_tutorial.pkl\n",
        "\tedited_Iguaninae_loci.csv\n",
        "\tedited_Iguaninae_metadata.csv\n",
        "\traw_Iguaninae_metadata.csv\n",
        "\n",
        "nothing added to commit but untracked files present\n",
        "\n"
       ]
      },
      {
       "output_type": "stream",
       "stream": "stderr",
       "text": [
        "/home/amir/Dropbox/python_modules/rpgit.py:68: UserWarning: Thanks to Stack-Overflow users Shane Geiger and Billy Jin for the git wrappers code\n",
        "  warnings.warn('Thanks to Stack-Overflow users Shane Geiger and Billy Jin for the git wrappers code')\n"
       ]
      }
     ],
     "prompt_number": 2
    },
    {
     "cell_type": "code",
     "collapsed": false,
     "input": [
      "genbank_file = \"Iguaninae_1545seqs.gb\""
     ],
     "language": "python",
     "metadata": {},
     "outputs": [],
     "prompt_number": 3
    },
    {
     "cell_type": "code",
     "collapsed": false,
     "input": [
      "list_loci_in_genbank(genbank_file, 'Iguaninae_raw_loci.csv')"
     ],
     "language": "python",
     "metadata": {},
     "outputs": [
      {
       "output_type": "stream",
       "stream": "stdout",
       "text": [
        "\n",
        "There are 148 gene names (or gene product names) detected\n",
        "----------------------------------\n",
        "Gene and count sorted by gene name\n",
        "----------------------------------\n",
        "3 instances of CDS,ADNP\n",
        "3 instances of CDS,AHR\n",
        "3 instances of CDS,AKAP9\n",
        "1 instances of CDS,alpha actin\n",
        "21 instances of CDS,alpha enolase\n",
        "1 instances of CDS,Amcr-DAB1\n",
        "2 instances of CDS,Amcr-DAB2\n",
        "2 instances of CDS,Amcr-DAB3\n",
        "2 instances of CDS,Amcr-DAB4\n",
        "1 instances of CDS,Amcr-DAB5\n",
        "2 instances of CDS,Amcr-UA\n",
        "5 instances of CDS,Amcr-UB\n",
        "1 instances of CDS,AMEL\n",
        "1 instances of CDS,amelogenin T2L splicing form 2\n",
        "1 instances of CDS,amelogenin T2S splicing form 1\n",
        "1 instances of CDS,ATP6\n",
        "1 instances of CDS,atp6\n",
        "1 instances of CDS,ATP8\n",
        "1 instances of CDS,atp8\n",
        "3 instances of CDS,BACH1\n",
        "6 instances of CDS,BDNF\n",
        "3 instances of CDS,BHLHB2\n",
        "3 instances of CDS,BMP2\n",
        "1 instances of CDS,BNDF\n",
        "15 instances of CDS,C-mos\n",
        "11 instances of CDS,c-mos\n",
        "1 instances of CDS,C-MOS\n",
        "3 instances of CDS,CAND1\n",
        "3 instances of CDS,CARD4\n",
        "3 instances of CDS,CILP\n",
        "2 instances of CDS,citrate synthase\n",
        "5 instances of CDS,COI\n",
        "47 instances of CDS,COIII\n",
        "1 instances of CDS,Cosu-UA\n",
        "4 instances of CDS,Cosu-UB\n",
        "1 instances of CDS,cox I\n",
        "1 instances of CDS,cox II\n",
        "1 instances of CDS,cox III\n",
        "1 instances of CDS,COX1\n",
        "1 instances of CDS,COX2\n",
        "1 instances of CDS,COX3\n",
        "1 instances of CDS,CRiSP-Igu-1\n",
        "1 instances of CDS,CRiSP-Igu-2\n",
        "1 instances of CDS,cryba2\n",
        "2 instances of CDS,crygn\n",
        "1 instances of CDS,Ctcl-UA\n",
        "1 instances of CDS,Ctde-UA\n",
        "1 instances of CDS,CVF-Igu-1\n",
        "3 instances of CDS,CXCR4\n",
        "1 instances of CDS,Cyca-UA\n",
        "1 instances of CDS,Cyco-UA\n",
        "1 instances of CDS,cygb-1\n",
        "1 instances of CDS,cygb-2\n",
        "1 instances of CDS,Cyri-UA\n",
        "1 instances of CDS,Cystatin-Igu-1\n",
        "1 instances of CDS,Cystatin-Igu-2\n",
        "1 instances of CDS,Cystatin-Igu-3\n",
        "229 instances of CDS,cytb\n",
        "1 instances of CDS,CYTB\n",
        "47 instances of CDS,Cytb\n",
        "9 instances of CDS,cytochrome B\n",
        "7 instances of CDS,cytochrome b\n",
        "3 instances of CDS,distal-less\n",
        "1 instances of CDS,DNA polymerase alpha catalytic subunit\n",
        "3 instances of CDS,DNAH3\n",
        "3 instances of CDS,ECEL1\n",
        "3 instances of CDS,ENC1\n",
        "3 instances of CDS,FSHR\n",
        "3 instances of CDS,FSTL5\n",
        "3 instances of CDS,GALR1\n",
        "1 instances of CDS,GAPDH\n",
        "1 instances of CDS,gapdh\n",
        "1 instances of CDS,GARS-AIRS-GART\n",
        "3 instances of CDS,GHSR\n",
        "1 instances of CDS,GPR149\n",
        "3 instances of CDS,GPR37\n",
        "2 instances of CDS,ha1\n",
        "1 instances of CDS,histone H3a\n",
        "3 instances of CDS,HLCS\n",
        "1 instances of CDS,HOXA13\n",
        "3 instances of CDS,Igig-UB\n",
        "3 instances of CDS,INHBA\n",
        "1 instances of CDS,JUN\n",
        "1 instances of CDS,kunitz-Igu-1\n",
        "1 instances of CDS,lactate dehydrogenase A\n",
        "1 instances of CDS,lactate dehydrogenase B\n",
        "3 instances of CDS,leucine zipper tumor suppressor 1\n",
        "2 instances of CDS,LRRN1\n",
        "1 instances of CDS,mb\n",
        "3 instances of CDS,MKL1'\n",
        "1 instances of CDS,MLL\n",
        "3 instances of CDS,MSH6\n",
        "1 instances of CDS,muscle-type (A4) lactate dehydrogenase\n",
        "2 instances of CDS,muscle-type lactate dehydrogenase\n",
        "15 instances of CDS,NADH dehydrogenase subunit 4\n",
        "1 instances of CDS,nadh1\n",
        "1 instances of CDS,nadh2\n",
        "1 instances of CDS,nadh3\n",
        "1 instances of CDS,nadh4\n",
        "1 instances of CDS,nadh4L\n",
        "1 instances of CDS,nadh5\n",
        "1 instances of CDS,nadh6\n",
        "6 instances of CDS,ND1\n",
        "6 instances of CDS,ND2\n",
        "1 instances of CDS,ND3\n",
        "303 instances of CDS,ND4\n",
        "1 instances of CDS,ND4L\n",
        "1 instances of CDS,ND5\n",
        "1 instances of CDS,ND6\n",
        "3 instances of CDS,NGFB\n",
        "3 instances of CDS,NKTR\n",
        "1 instances of CDS,NT-3\n",
        "13 instances of CDS,NT3\n",
        "3 instances of CDS,NTF3\n",
        "1 instances of CDS,pancreatic ribonuclease precursor\n",
        "1 instances of CDS,pin\n",
        "3 instances of CDS,PNN\n",
        "1 instances of CDS,pp\n",
        "2 instances of CDS,PRLR\n",
        "2 instances of CDS,protein tyrosine phosphatase non-receptor type 12\n",
        "1 instances of CDS,prt\n",
        "3 instances of CDS,PTGER4\n",
        "3 instances of CDS,R35\n",
        "3 instances of CDS,RAG-1\n",
        "6 instances of CDS,RAG1\n",
        "1 instances of CDS,RAG2\n",
        "2 instances of CDS,RNF103\n",
        "1 instances of CDS,RT\n",
        "3 instances of CDS,SLC30A1\n",
        "3 instances of CDS,SLC8A1\n",
        "3 instances of CDS,SLC8A3\n",
        "3 instances of CDS,SNCAIP\n",
        "1 instances of CDS,src\n",
        "1 instances of CDS,sws1\n",
        "3 instances of CDS,TRAF6\n",
        "1 instances of CDS,TSHZ1\n",
        "3 instances of CDS,UBN1\n",
        "3 instances of CDS,VCPIP\n",
        "3 instances of CDS,ZEB2\n",
        "3 instances of CDS,ZFP36L1\n",
        "3 instances of CDS,ZHFX1b\n",
        "9 instances of rRNA,12S ribosomal RNA\n",
        "1 instances of rRNA,12S rRNA\n",
        "3 instances of rRNA,16S ribosomal RNA\n",
        "1 instances of rRNA,16S rRNA\n",
        "1 instances of rRNA,18S ribosomal RNA\n",
        "23 instances of rRNA,28S ribosomal RNA\n",
        "21 instances of rRNA,5.8S ribosomal RNA\n",
        "-------------------------------\n",
        "Gene and count sorted by counts\n",
        "-------------------------------\n",
        "303 instances of CDS,ND4\n",
        "229 instances of CDS,cytb\n",
        "47 instances of CDS,COIII\n",
        "47 instances of CDS,Cytb\n",
        "23 instances of rRNA,28S ribosomal RNA\n",
        "21 instances of CDS,alpha enolase\n",
        "21 instances of rRNA,5.8S ribosomal RNA\n",
        "15 instances of CDS,C-mos\n",
        "15 instances of CDS,NADH dehydrogenase subunit 4\n",
        "13 instances of CDS,NT3\n",
        "11 instances of CDS,c-mos\n",
        "9 instances of CDS,cytochrome B\n",
        "9 instances of rRNA,12S ribosomal RNA\n",
        "7 instances of CDS,cytochrome b\n",
        "6 instances of CDS,BDNF\n",
        "6 instances of CDS,ND1\n",
        "6 instances of CDS,ND2\n",
        "6 instances of CDS,RAG1\n",
        "5 instances of CDS,Amcr-UB\n",
        "5 instances of CDS,COI\n",
        "4 instances of CDS,Cosu-UB\n",
        "3 instances of CDS,ADNP\n",
        "3 instances of CDS,AHR\n",
        "3 instances of CDS,AKAP9\n",
        "3 instances of CDS,BACH1\n",
        "3 instances of CDS,BHLHB2\n",
        "3 instances of CDS,BMP2\n",
        "3 instances of CDS,CAND1\n",
        "3 instances of CDS,CARD4\n",
        "3 instances of CDS,CILP\n",
        "3 instances of CDS,CXCR4\n",
        "3 instances of CDS,distal-less\n",
        "3 instances of CDS,DNAH3\n",
        "3 instances of CDS,ECEL1\n",
        "3 instances of CDS,ENC1\n",
        "3 instances of CDS,FSHR\n",
        "3 instances of CDS,FSTL5\n",
        "3 instances of CDS,GALR1\n",
        "3 instances of CDS,GHSR\n",
        "3 instances of CDS,GPR37\n",
        "3 instances of CDS,HLCS\n",
        "3 instances of CDS,Igig-UB\n",
        "3 instances of CDS,INHBA\n",
        "3 instances of CDS,leucine zipper tumor suppressor 1\n",
        "3 instances of CDS,MKL1'\n",
        "3 instances of CDS,MSH6\n",
        "3 instances of CDS,NGFB\n",
        "3 instances of CDS,NKTR\n",
        "3 instances of CDS,NTF3\n",
        "3 instances of CDS,PNN\n",
        "3 instances of CDS,PTGER4\n",
        "3 instances of CDS,R35\n",
        "3 instances of CDS,RAG-1\n",
        "3 instances of CDS,SLC30A1\n",
        "3 instances of CDS,SLC8A1\n",
        "3 instances of CDS,SLC8A3\n",
        "3 instances of CDS,SNCAIP\n",
        "3 instances of CDS,TRAF6\n",
        "3 instances of CDS,UBN1\n",
        "3 instances of CDS,VCPIP\n",
        "3 instances of CDS,ZEB2\n",
        "3 instances of CDS,ZFP36L1\n",
        "3 instances of CDS,ZHFX1b\n",
        "3 instances of rRNA,16S ribosomal RNA\n",
        "2 instances of CDS,Amcr-DAB2\n",
        "2 instances of CDS,Amcr-DAB3\n",
        "2 instances of CDS,Amcr-DAB4\n",
        "2 instances of CDS,Amcr-UA\n",
        "2 instances of CDS,citrate synthase\n",
        "2 instances of CDS,crygn\n",
        "2 instances of CDS,ha1\n",
        "2 instances of CDS,LRRN1\n",
        "2 instances of CDS,muscle-type lactate dehydrogenase\n",
        "2 instances of CDS,PRLR\n",
        "2 instances of CDS,protein tyrosine phosphatase non-receptor type 12\n",
        "2 instances of CDS,RNF103\n",
        "1 instances of CDS,alpha actin\n",
        "1 instances of CDS,Amcr-DAB1\n",
        "1 instances of CDS,Amcr-DAB5\n",
        "1 instances of CDS,AMEL\n",
        "1 instances of CDS,amelogenin T2L splicing form 2\n",
        "1 instances of CDS,amelogenin T2S splicing form 1\n",
        "1 instances of CDS,ATP6\n",
        "1 instances of CDS,atp6\n",
        "1 instances of CDS,ATP8\n",
        "1 instances of CDS,atp8\n",
        "1 instances of CDS,BNDF\n",
        "1 instances of CDS,C-MOS\n",
        "1 instances of CDS,Cosu-UA\n",
        "1 instances of CDS,cox I\n",
        "1 instances of CDS,cox II\n",
        "1 instances of CDS,cox III\n",
        "1 instances of CDS,COX1\n",
        "1 instances of CDS,COX2\n",
        "1 instances of CDS,COX3\n",
        "1 instances of CDS,CRiSP-Igu-1\n",
        "1 instances of CDS,CRiSP-Igu-2\n",
        "1 instances of CDS,cryba2\n",
        "1 instances of CDS,Ctcl-UA\n",
        "1 instances of CDS,Ctde-UA\n",
        "1 instances of CDS,CVF-Igu-1\n",
        "1 instances of CDS,Cyca-UA\n",
        "1 instances of CDS,Cyco-UA\n",
        "1 instances of CDS,cygb-1\n",
        "1 instances of CDS,cygb-2\n",
        "1 instances of CDS,Cyri-UA\n",
        "1 instances of CDS,Cystatin-Igu-1\n",
        "1 instances of CDS,Cystatin-Igu-2\n",
        "1 instances of CDS,Cystatin-Igu-3\n",
        "1 instances of CDS,CYTB\n",
        "1 instances of CDS,DNA polymerase alpha catalytic subunit\n",
        "1 instances of CDS,GAPDH\n",
        "1 instances of CDS,gapdh\n",
        "1 instances of CDS,GARS-AIRS-GART\n",
        "1 instances of CDS,GPR149\n",
        "1 instances of CDS,histone H3a\n",
        "1 instances of CDS,HOXA13\n",
        "1 instances of CDS,JUN\n",
        "1 instances of CDS,kunitz-Igu-1\n",
        "1 instances of CDS,lactate dehydrogenase A\n",
        "1 instances of CDS,lactate dehydrogenase B\n",
        "1 instances of CDS,mb\n",
        "1 instances of CDS,MLL\n",
        "1 instances of CDS,muscle-type (A4) lactate dehydrogenase\n",
        "1 instances of CDS,nadh1\n",
        "1 instances of CDS,nadh2\n",
        "1 instances of CDS,nadh3\n",
        "1 instances of CDS,nadh4\n",
        "1 instances of CDS,nadh4L\n",
        "1 instances of CDS,nadh5\n",
        "1 instances of CDS,nadh6\n",
        "1 instances of CDS,ND3\n",
        "1 instances of CDS,ND4L\n",
        "1 instances of CDS,ND5\n",
        "1 instances of CDS,ND6\n",
        "1 instances of CDS,NT-3\n",
        "1 instances of CDS,pancreatic ribonuclease precursor\n",
        "1 instances of CDS,pin\n",
        "1 instances of CDS,pp\n",
        "1 instances of CDS,prt\n",
        "1 instances of CDS,RAG2\n",
        "1 instances of CDS,RT\n",
        "1 instances of CDS,src\n",
        "1 instances of CDS,sws1\n",
        "1 instances of CDS,TSHZ1\n",
        "1 instances of rRNA,12S rRNA\n",
        "1 instances of rRNA,16S rRNA\n",
        "1 instances of rRNA,18S ribosomal RNA\n"
       ]
      }
     ],
     "prompt_number": 4
    },
    {
     "cell_type": "code",
     "collapsed": false,
     "input": [
      "!cat Iguaninae_raw_loci.csv"
     ],
     "language": "python",
     "metadata": {},
     "outputs": [
      {
       "output_type": "stream",
       "stream": "stdout",
       "text": [
        "dna,rRNA,12S_ribosomal_RNA,12S ribosomal RNA,12S rRNA\r\n",
        "dna,rRNA,16S_ribosomal_RNA,16S ribosomal RNA,16S rRNA\r\n",
        "dna,rRNA,18s,18S ribosomal RNA\r\n",
        "dna,rRNA,28s,28S ribosomal RNA\r\n",
        "dna,rRNA,5.8S_ribosomal_RNA,5.8S ribosomal RNA\r\n",
        "dna,CDS,ADNP,ADNP\r\n",
        "dna,CDS,AHR,AHR\r\n",
        "dna,CDS,AKAP9,AKAP9\r\n",
        "dna,CDS,AMEL,AMEL\r\n",
        "dna,CDS,ATP6,ATP6,atp6\r\n",
        "dna,CDS,ATP8,ATP8,atp8\r\n",
        "dna,CDS,Amcr-DAB1,Amcr-DAB1\r\n",
        "dna,CDS,Amcr-DAB2,Amcr-DAB2\r\n",
        "dna,CDS,Amcr-DAB3,Amcr-DAB3\r\n",
        "dna,CDS,Amcr-DAB4,Amcr-DAB4\r\n",
        "dna,CDS,Amcr-DAB5,Amcr-DAB5\r\n",
        "dna,CDS,Amcr-UA,Amcr-UA\r\n",
        "dna,CDS,Amcr-UB,Amcr-UB\r\n",
        "dna,CDS,BACH1,BACH1\r\n",
        "dna,CDS,BDNF,BDNF\r\n",
        "dna,CDS,BHLHB2,BHLHB2\r\n",
        "dna,CDS,BMP2,BMP2\r\n",
        "dna,CDS,BNDF,BNDF\r\n",
        "dna,CDS,CAND1,CAND1\r\n",
        "dna,CDS,CARD4,CARD4\r\n",
        "dna,CDS,CILP,CILP\r\n",
        "dna,CDS,CRiSP-Igu-1,CRiSP-Igu-1\r\n",
        "dna,CDS,CRiSP-Igu-2,CRiSP-Igu-2\r\n",
        "dna,CDS,CVF-Igu-1,CVF-Igu-1\r\n",
        "dna,CDS,CXCR4,CXCR4\r\n",
        "dna,CDS,C_mos,C-mos,c-mos,C-MOS\r\n",
        "dna,CDS,Cosu-UA,Cosu-UA\r\n",
        "dna,CDS,Cosu-UB,Cosu-UB\r\n",
        "dna,CDS,Ctcl-UA,Ctcl-UA\r\n",
        "dna,CDS,Ctde-UA,Ctde-UA\r\n",
        "dna,CDS,Cyca-UA,Cyca-UA\r\n",
        "dna,CDS,Cyco-UA,Cyco-UA\r\n",
        "dna,CDS,Cyri-UA,Cyri-UA\r\n",
        "dna,CDS,Cystatin-Igu-1,Cystatin-Igu-1\r\n",
        "dna,CDS,Cystatin-Igu-2,Cystatin-Igu-2\r\n",
        "dna,CDS,Cystatin-Igu-3,Cystatin-Igu-3\r\n",
        "dna,CDS,DNAH3,DNAH3\r\n",
        "dna,CDS,DNA_polymerase_alpha_catalytic_subunit,DNA polymerase alpha catalytic subunit\r\n",
        "dna,CDS,ECEL1,ECEL1\r\n",
        "dna,CDS,ENC1,ENC1\r\n",
        "dna,CDS,FSHR,FSHR\r\n",
        "dna,CDS,FSTL5,FSTL5\r\n",
        "dna,CDS,GALR1,GALR1\r\n",
        "dna,CDS,GAPDH,GAPDH,gapdh\r\n",
        "dna,CDS,GARS-AIRS-GART,GARS-AIRS-GART\r\n",
        "dna,CDS,GHSR,GHSR\r\n",
        "dna,CDS,GPR149,GPR149\r\n",
        "dna,CDS,GPR37,GPR37\r\n",
        "dna,CDS,HLCS,HLCS\r\n",
        "dna,CDS,HOXA13,HOXA13\r\n",
        "dna,CDS,INHBA,INHBA\r\n",
        "dna,CDS,Igig-UB,Igig-UB\r\n",
        "dna,CDS,JUN,JUN\r\n",
        "dna,CDS,LRRN1,LRRN1\r\n",
        "dna,CDS,MKL1',MKL1'\r\n",
        "dna,CDS,MLL,MLL\r\n",
        "dna,CDS,MSH6,MSH6\r\n",
        "dna,CDS,NGFB,NGFB\r\n",
        "dna,CDS,NKTR,NKTR\r\n",
        "dna,CDS,NT-3,NT-3\r\n",
        "dna,CDS,NT3,NT3\r\n",
        "dna,CDS,NTF3,NTF3\r\n",
        "dna,CDS,PNN,PNN\r\n",
        "dna,CDS,PRLR,PRLR\r\n",
        "dna,CDS,PTGER4,PTGER4\r\n",
        "dna,CDS,R35,R35\r\n",
        "dna,CDS,RAG-1,RAG-1\r\n",
        "dna,CDS,RAG1,RAG1\r\n",
        "dna,CDS,RAG2,RAG2\r\n",
        "dna,CDS,RNF103,RNF103\r\n",
        "dna,CDS,RT,RT\r\n",
        "dna,CDS,SLC30A1,SLC30A1\r\n",
        "dna,CDS,SLC8A1,SLC8A1\r\n",
        "dna,CDS,SLC8A3,SLC8A3\r\n",
        "dna,CDS,SNCAIP,SNCAIP\r\n",
        "dna,CDS,TRAF6,TRAF6\r\n",
        "dna,CDS,TSHZ1,TSHZ1\r\n",
        "dna,CDS,UBN1,UBN1\r\n",
        "dna,CDS,VCPIP,VCPIP\r\n",
        "dna,CDS,ZEB2,ZEB2\r\n",
        "dna,CDS,ZFP36L1,ZFP36L1\r\n",
        "dna,CDS,ZHFX1b,ZHFX1b\r\n",
        "dna,CDS,alpha_actin,alpha actin\r\n",
        "dna,CDS,alpha_enolase,alpha enolase\r\n",
        "dna,CDS,amelogenin_T2L_splicing_form_2,amelogenin T2L splicing form 2\r\n",
        "dna,CDS,amelogenin_T2S_splicing_form_1,amelogenin T2S splicing form 1\r\n",
        "dna,CDS,citrate_synthase,citrate synthase\r\n",
        "dna,CDS,coi,COI,cox I,COX1\r\n",
        "dna,CDS,coii,cox II,COX2\r\n",
        "dna,CDS,coiii,COIII,cox III,COX3\r\n",
        "dna,CDS,cryba2,cryba2\r\n",
        "dna,CDS,crygn,crygn\r\n",
        "dna,CDS,cygb-1,cygb-1\r\n",
        "dna,CDS,cygb-2,cygb-2\r\n",
        "dna,CDS,cytb,cytb,CYTB,Cytb,cytochrome B,cytochrome b\r\n",
        "dna,CDS,distal-less,distal-less\r\n",
        "dna,CDS,ha1,ha1\r\n",
        "dna,CDS,histone_H3a,histone H3a\r\n",
        "dna,CDS,kunitz-Igu-1,kunitz-Igu-1\r\n",
        "dna,CDS,lactate_dehydrogenase_A,lactate dehydrogenase A\r\n",
        "dna,CDS,lactate_dehydrogenase_B,lactate dehydrogenase B\r\n",
        "dna,CDS,leucine_zipper_tumor_suppressor_1,leucine zipper tumor suppressor 1\r\n",
        "dna,CDS,mb,mb\r\n",
        "dna,CDS,muscle-type_(A4)_lactate_dehydrogenase,muscle-type (A4) lactate dehydrogenase\r\n",
        "dna,CDS,muscle-type_lactate_dehydrogenase,muscle-type lactate dehydrogenase\r\n",
        "dna,CDS,nad1,nadh1,ND1\r\n",
        "dna,CDS,nad2,nadh2,ND2\r\n",
        "dna,CDS,nad3,nadh3,ND3\r\n",
        "dna,CDS,nad4,NADH dehydrogenase subunit 4,nadh4,ND4\r\n",
        "dna,CDS,nad4l,nadh4L,ND4L\r\n",
        "dna,CDS,nad5,nadh5,ND5\r\n",
        "dna,CDS,nad6,nadh6,ND6\r\n",
        "dna,CDS,pancreatic_ribonuclease_precursor,pancreatic ribonuclease precursor\r\n",
        "dna,CDS,pin,pin\r\n",
        "dna,CDS,pp,pp\r\n",
        "dna,CDS,protein_tyrosine_phosphatase_non-receptor_type_12,protein tyrosine phosphatase non-receptor type 12\r\n",
        "dna,CDS,prt,prt\r\n",
        "dna,CDS,src,src\r\n",
        "dna,CDS,sws1,sws1\r\n"
       ]
      }
     ],
     "prompt_number": 5
    },
    {
     "cell_type": "code",
     "collapsed": false,
     "input": [
      "%%file edited_Iguaninae_loci.csv\n",
      "dna,CDS,nad4,nad4,NADH dehydrogenase subunit 4,nadh4,ND4\n",
      "dna,CDS,cytb,cytb,CYTB,Cytb,cytochrome B,cytochrome b\n",
      "dna,CDS,coiii,coiii,COIII,cox III,COX3\n",
      "dna,rRNA,28s,28s,28S ribosomal RNA\n",
      "dna,CDS,alpha_enolase,alpha enolase\n",
      "dna,rRNA,5.8S_ribosomal_RNA,5.8S ribosomal RNA\n",
      "dna,CDS,C_mos,C mos, C-mos,c-mos,C-MOS\n",
      "dna,CDS,NT-3,NT-3,1\n",
      "dna,CDS,NT3,NT3,1\n",
      "dna,rRNA,12S_ribosomal_RNA,12S ribosomal RNA,12S rRNA"
     ],
     "language": "python",
     "metadata": {},
     "outputs": [
      {
       "output_type": "stream",
       "stream": "stdout",
       "text": [
        "Overwriting edited_Iguaninae_loci.csv\n"
       ]
      }
     ],
     "prompt_number": 6
    },
    {
     "cell_type": "code",
     "collapsed": false,
     "input": [
      "pj = Project('edited_Iguaninae_loci.csv')"
     ],
     "language": "python",
     "metadata": {},
     "outputs": [
      {
       "output_type": "stream",
       "stream": "stdout",
       "text": [
        "Read the following loci from file edited_Iguaninae_loci.csv:\n",
        "Locus(char_type=dna, feature_type=rRNA, name=5.8S_ribosomal_RNA, aliases=5.8S ribosomal RNA)\n",
        "Locus(char_type=dna, feature_type=CDS, name=coiii, aliases=coiii; COIII; cox III; COX3)\n",
        "Locus(char_type=dna, feature_type=CDS, name=cytb, aliases=cytb; cytb; CYTB; Cytb; cytochrome B; cytochrome b)\n",
        "Locus(char_type=dna, feature_type=CDS, name=C_mos, aliases=C mos;  C-mos; c-mos; C-MOS)\n",
        "Locus(char_type=dna, feature_type=CDS, name=NT-3, aliases=NT-3; NT3)\n",
        "Locus(char_type=dna, feature_type=CDS, name=alpha_enolase, aliases=alpha enolase)\n",
        "Locus(char_type=dna, feature_type=rRNA, name=28s, aliases=28s; 28S ribosomal RNA)\n",
        "Locus(char_type=dna, feature_type=rRNA, name=12S_ribosomal_RNA, aliases=12S ribosomal RNA; 12S rRNA)\n",
        "Locus(char_type=dna, feature_type=CDS, name=nad4, aliases=nad4; NADH dehydrogenase subunit 4; nadh4; ND4)\n"
       ]
      }
     ],
     "prompt_number": 7
    },
    {
     "cell_type": "code",
     "collapsed": false,
     "input": [
      "pj.read_embl_genbank(['Iguaninae_1545seqs.gb'])"
     ],
     "language": "python",
     "metadata": {},
     "outputs": [
      {
       "output_type": "stream",
       "stream": "stdout",
       "text": [
        "\n",
        "[master (root-commit) e48e1e9] 1 genbank/embl data file(s) from Fri Oct 17 10:26:24 2014\n",
        " 1 file changed, 91403 insertions(+)\n",
        " create mode 100644 Iguaninae_1545seqs.gb\n"
       ]
      },
      {
       "output_type": "stream",
       "stream": "stdout",
       "text": [
        "\n"
       ]
      }
     ],
     "prompt_number": 8
    },
    {
     "cell_type": "code",
     "collapsed": false,
     "input": [
      "pj.write('raw_Iguaninae_metadata.csv',format='csv')"
     ],
     "language": "python",
     "metadata": {},
     "outputs": [],
     "prompt_number": 9
    },
    {
     "cell_type": "code",
     "collapsed": false,
     "input": [
      "# add column with genus, add column 'OTU' which unites strain and voucher specimen, choose genes with many reps\n",
      "# that are identified by strain or voucher specimen: 'coiii','cytb','nad4'"
     ],
     "language": "python",
     "metadata": {},
     "outputs": [],
     "prompt_number": 11
    },
    {
     "cell_type": "code",
     "collapsed": false,
     "input": [
      "pj.correct_metadata_from_file('edited_Iguaninae_metadata.csv')"
     ],
     "language": "python",
     "metadata": {},
     "outputs": [],
     "prompt_number": 10
    },
    {
     "cell_type": "code",
     "collapsed": false,
     "input": [
      "pj.extract_by_locus()"
     ],
     "language": "python",
     "metadata": {},
     "outputs": [],
     "prompt_number": 11
    },
    {
     "cell_type": "code",
     "collapsed": false,
     "input": [
      "linsi = AlnConf(pj, CDSAlign=False)"
     ],
     "language": "python",
     "metadata": {},
     "outputs": [
      {
       "output_type": "stream",
       "stream": "stdout",
       "text": [
        "mafft --localpair --maxiterate 1000 367491413537999.38_5.8S_ribosomal_RNA.fasta\n",
        "mafft --localpair --maxiterate 1000 367491413537999.38_coiii.fasta\n",
        "mafft --localpair --maxiterate 1000 367491413537999.38_cytb.fasta\n",
        "mafft --localpair --maxiterate 1000 367491413537999.38_C_mos.fasta\n",
        "mafft --localpair --maxiterate 1000 367491413537999.38_NT-3.fasta\n",
        "mafft --localpair --maxiterate 1000 367491413537999.38_alpha_enolase.fasta\n",
        "mafft --localpair --maxiterate 1000 367491413537999.38_28s.fasta\n",
        "mafft --localpair --maxiterate 1000 367491413537999.38_12S_ribosomal_RNA.fasta\n",
        "mafft --localpair --maxiterate 1000 367491413537999.38_nad4.fasta\n"
       ]
      }
     ],
     "prompt_number": 12
    },
    {
     "cell_type": "code",
     "collapsed": false,
     "input": [
      "pj.align([linsi])"
     ],
     "language": "python",
     "metadata": {},
     "outputs": [],
     "prompt_number": 13
    },
    {
     "cell_type": "code",
     "collapsed": false,
     "input": [
      "pickle_pj(pj, 'Iguaninae_tutorial.pkl')"
     ],
     "language": "python",
     "metadata": {},
     "outputs": [
      {
       "output_type": "stream",
       "stream": "stderr",
       "text": [
        "DEBUG:Cloud:Log file (/home/amir/.picloud/cloud.log) opened\n"
       ]
      },
      {
       "output_type": "stream",
       "stream": "stdout",
       "text": [
        "\n",
        "[master 6805208] A pickled Project from Fri Oct 17 10:44:24 2014\n",
        " 1 file changed, 0 insertions(+), 0 deletions(-)\n",
        " create mode 100644 Iguaninae_tutorial.pkl\n"
       ]
      },
      {
       "output_type": "stream",
       "stream": "stdout",
       "text": [
        "\n"
       ]
      },
      {
       "metadata": {},
       "output_type": "pyout",
       "prompt_number": 14,
       "text": [
        "'Iguaninae_tutorial.pkl'"
       ]
      }
     ],
     "prompt_number": 14
    },
    {
     "cell_type": "code",
     "collapsed": false,
     "input": [
      "gappyout = TrimalConf(pj)"
     ],
     "language": "python",
     "metadata": {},
     "outputs": [
      {
       "output_type": "stream",
       "stream": "stdout",
       "text": [
        "trimal -in 227911413539067.73_C_mos@MafftLinsi.fasta -gappyout\n",
        "trimal -in 227911413539067.73_nad4@MafftLinsi.fasta -gappyout\n",
        "trimal -in 227911413539067.73_NT-3@MafftLinsi.fasta -gappyout\n",
        "trimal -in 227911413539067.73_alpha_enolase@MafftLinsi.fasta -gappyout\n",
        "trimal -in 227911413539067.73_5.8S_ribosomal_RNA@MafftLinsi.fasta -gappyout\n",
        "trimal -in 227911413539067.73_cytb@MafftLinsi.fasta -gappyout\n",
        "trimal -in 227911413539067.73_28s@MafftLinsi.fasta -gappyout\n",
        "trimal -in 227911413539067.73_coiii@MafftLinsi.fasta -gappyout\n",
        "trimal -in 227911413539067.73_12S_ribosomal_RNA@MafftLinsi.fasta -gappyout\n"
       ]
      }
     ],
     "prompt_number": 15
    },
    {
     "cell_type": "code",
     "collapsed": false,
     "input": [
      "pj.trim([gappyout])"
     ],
     "language": "python",
     "metadata": {},
     "outputs": [],
     "prompt_number": 16
    },
    {
     "cell_type": "code",
     "collapsed": false,
     "input": [
      "pickle_pj(pj, 'Iguaninae_tutorial.pkl')"
     ],
     "language": "python",
     "metadata": {},
     "outputs": [
      {
       "output_type": "stream",
       "stream": "stdout",
       "text": [
        "\n",
        "[master c957eff] A pickled Project from Fri Oct 17 10:44:34 2014\n",
        " 1 file changed, 0 insertions(+), 0 deletions(-)\n"
       ]
      },
      {
       "output_type": "stream",
       "stream": "stdout",
       "text": [
        "\n"
       ]
      },
      {
       "metadata": {},
       "output_type": "pyout",
       "prompt_number": 17,
       "text": [
        "'Iguaninae_tutorial.pkl'"
       ]
      }
     ],
     "prompt_number": 17
    },
    {
     "cell_type": "code",
     "collapsed": false,
     "input": [
      "concat_loci = [locus for locus in pj.loci if locus.name in ['coiii','cytb','nad4']]\n",
      "for i in concat_loci:\n",
      "    print str(i)\n",
      "concat = Concatenation(name='strict', loci=concat_loci, concat_must_have_all_of=['cytb','nad4'],\n",
      "                        define_trimmed_alns=[\"MafftLinsi@gappyout\"])"
     ],
     "language": "python",
     "metadata": {},
     "outputs": [
      {
       "output_type": "stream",
       "stream": "stdout",
       "text": [
        "Locus(char_type=dna, feature_type=CDS, name=coiii, aliases=coiii; COIII; cox III; COX3)\n",
        "Locus(char_type=dna, feature_type=CDS, name=cytb, aliases=cytb; cytb; CYTB; Cytb; cytochrome B; cytochrome b)\n",
        "Locus(char_type=dna, feature_type=CDS, name=nad4, aliases=nad4; NADH dehydrogenase subunit 4; nadh4; ND4)\n"
       ]
      }
     ],
     "prompt_number": 38
    },
    {
     "cell_type": "code",
     "collapsed": false,
     "input": [
      "#pj.concatenations = []\n",
      "#pj.add_concatenation(concat)"
     ],
     "language": "python",
     "metadata": {},
     "outputs": [],
     "prompt_number": 42
    },
    {
     "cell_type": "code",
     "collapsed": false,
     "input": [
      "#pj.make_concatenation_alignments()"
     ],
     "language": "python",
     "metadata": {},
     "outputs": [],
     "prompt_number": 40
    },
    {
     "cell_type": "code",
     "collapsed": false,
     "input": [
      "raxml = RaxmlConf(pj, method_name='fD_fb', program_name='raxmlHPC-PTHREADS-SSE3',\n",
      "                  cmd='raxmlHPC-PTHREADS-SSE3', preset='fD_fb', alns='all',\n",
      "                  model='GAMMA', threads=5)"
     ],
     "language": "python",
     "metadata": {},
     "outputs": [
      {
       "output_type": "stream",
       "stream": "stdout",
       "text": [
        "raxmlHPC-PTHREADS-SSE3 -f D -m GTRGAMMA -n 564301413539087.85_C_mos@MafftLinsi@gappyout0 -p 949 -s 564301413539087.85_C_mos@MafftLinsi@gappyout.fasta -T 5 -N 1\n",
        "raxmlHPC-PTHREADS-SSE3 -f b -m GTRGAMMA -n 564301413539087.85_C_mos@MafftLinsi@gappyout1 -p 91 -s 564301413539087.85_C_mos@MafftLinsi@gappyout.fasta -t RAxML_bestTree.564301413539087.85_C_mos@MafftLinsi@gappyout0 -T 5 -z RAxML_rellBootstrap.564301413539087.85_C_mos@MafftLinsi@gappyout0\n",
        "raxmlHPC-PTHREADS-SSE3 -f D -m GTRGAMMA -n 564301413539087.85_5.8S_ribosomal_RNA@MafftLinsi@gappyout0 -p 755 -s 564301413539087.85_5.8S_ribosomal_RNA@MafftLinsi@gappyout.fasta -T 5 -N 1\n",
        "raxmlHPC-PTHREADS-SSE3 -f b -m GTRGAMMA -n 564301413539087.85_5.8S_ribosomal_RNA@MafftLinsi@gappyout1 -p 357 -s 564301413539087.85_5.8S_ribosomal_RNA@MafftLinsi@gappyout.fasta -t RAxML_bestTree.564301413539087.85_5.8S_ribosomal_RNA@MafftLinsi@gappyout0 -T 5 -z RAxML_rellBootstrap.564301413539087.85_5.8S_ribosomal_RNA@MafftLinsi@gappyout0\n",
        "raxmlHPC-PTHREADS-SSE3 -f D -m GTRGAMMA -n 564301413539087.85_12S_ribosomal_RNA@MafftLinsi@gappyout0 -p 581 -s 564301413539087.85_12S_ribosomal_RNA@MafftLinsi@gappyout.fasta -T 5 -N 1\n",
        "raxmlHPC-PTHREADS-SSE3 -f b -m GTRGAMMA -n 564301413539087.85_12S_ribosomal_RNA@MafftLinsi@gappyout1 -p 444 -s 564301413539087.85_12S_ribosomal_RNA@MafftLinsi@gappyout.fasta -t RAxML_bestTree.564301413539087.85_12S_ribosomal_RNA@MafftLinsi@gappyout0 -T 5 -z RAxML_rellBootstrap.564301413539087.85_12S_ribosomal_RNA@MafftLinsi@gappyout0\n",
        "raxmlHPC-PTHREADS-SSE3 -f D -m GTRGAMMA -n 564301413539087.85_alpha_enolase@MafftLinsi@gappyout0 -p 899 -s 564301413539087.85_alpha_enolase@MafftLinsi@gappyout.fasta -T 5 -N 1\n",
        "raxmlHPC-PTHREADS-SSE3 -f b -m GTRGAMMA -n 564301413539087.85_alpha_enolase@MafftLinsi@gappyout1 -p 226 -s 564301413539087.85_alpha_enolase@MafftLinsi@gappyout.fasta -t RAxML_bestTree.564301413539087.85_alpha_enolase@MafftLinsi@gappyout0 -T 5 -z RAxML_rellBootstrap.564301413539087.85_alpha_enolase@MafftLinsi@gappyout0\n",
        "raxmlHPC-PTHREADS-SSE3 -f D -m GTRGAMMA -n 564301413539087.85_nad4@MafftLinsi@gappyout0 -p 514 -s 564301413539087.85_nad4@MafftLinsi@gappyout.fasta -T 5 -N 1\n",
        "raxmlHPC-PTHREADS-SSE3 -f b -m GTRGAMMA -n 564301413539087.85_nad4@MafftLinsi@gappyout1 -p 495 -s 564301413539087.85_nad4@MafftLinsi@gappyout.fasta -t RAxML_bestTree.564301413539087.85_nad4@MafftLinsi@gappyout0 -T 5 -z RAxML_rellBootstrap.564301413539087.85_nad4@MafftLinsi@gappyout0\n",
        "raxmlHPC-PTHREADS-SSE3 -f D -m GTRGAMMA -n 564301413539087.85_cytb@MafftLinsi@gappyout0 -p 956 -s 564301413539087.85_cytb@MafftLinsi@gappyout.fasta -T 5 -N 1\n",
        "raxmlHPC-PTHREADS-SSE3 -f b -m GTRGAMMA -n 564301413539087.85_cytb@MafftLinsi@gappyout1 -p 16 -s 564301413539087.85_cytb@MafftLinsi@gappyout.fasta -t RAxML_bestTree.564301413539087.85_cytb@MafftLinsi@gappyout0 -T 5 -z RAxML_rellBootstrap.564301413539087.85_cytb@MafftLinsi@gappyout0\n",
        "raxmlHPC-PTHREADS-SSE3 -f D -m GTRGAMMA -n 564301413539087.85_28s@MafftLinsi@gappyout0 -p 291 -s 564301413539087.85_28s@MafftLinsi@gappyout.fasta -T 5 -N 1\n",
        "raxmlHPC-PTHREADS-SSE3 -f b -m GTRGAMMA -n 564301413539087.85_28s@MafftLinsi@gappyout1 -p 602 -s 564301413539087.85_28s@MafftLinsi@gappyout.fasta -t RAxML_bestTree.564301413539087.85_28s@MafftLinsi@gappyout0 -T 5 -z RAxML_rellBootstrap.564301413539087.85_28s@MafftLinsi@gappyout0\n",
        "raxmlHPC-PTHREADS-SSE3 -f D -m GTRGAMMA -n 564301413539087.85_NT-3@MafftLinsi@gappyout0 -p 959 -s 564301413539087.85_NT-3@MafftLinsi@gappyout.fasta -T 5 -N 1\n",
        "raxmlHPC-PTHREADS-SSE3 -f b -m GTRGAMMA -n 564301413539087.85_NT-3@MafftLinsi@gappyout1 -p 612 -s 564301413539087.85_NT-3@MafftLinsi@gappyout.fasta -t RAxML_bestTree.564301413539087.85_NT-3@MafftLinsi@gappyout0 -T 5 -z RAxML_rellBootstrap.564301413539087.85_NT-3@MafftLinsi@gappyout0\n",
        "raxmlHPC-PTHREADS-SSE3 -f D -m GTRGAMMA -n 564301413539087.85_coiii@MafftLinsi@gappyout0 -p 228 -s 564301413539087.85_coiii@MafftLinsi@gappyout.fasta -T 5 -N 1\n",
        "raxmlHPC-PTHREADS-SSE3 -f b -m GTRGAMMA -n 564301413539087.85_coiii@MafftLinsi@gappyout1 -p 740 -s 564301413539087.85_coiii@MafftLinsi@gappyout.fasta -t RAxML_bestTree.564301413539087.85_coiii@MafftLinsi@gappyout0 -T 5 -z RAxML_rellBootstrap.564301413539087.85_coiii@MafftLinsi@gappyout0\n"
       ]
      }
     ],
     "prompt_number": 18
    },
    {
     "cell_type": "code",
     "collapsed": false,
     "input": [
      "pj.tree([raxml])"
     ],
     "language": "python",
     "metadata": {},
     "outputs": [
      {
       "ename": "ApplicationError",
       "evalue": "Non-zero return code 255 from 'raxmlHPC-PTHREADS-SSE3 -f D -m GTRGAMMA -n 564301413539087.85_nad4@MafftLinsi@gappyout0 -p 514 -s 564301413539087.85_nad4@MafftLinsi@gappyout.fasta -T 5 -N 1'",
       "output_type": "pyerr",
       "traceback": [
        "\u001b[1;31m---------------------------------------------------------------------------\u001b[0m\n\u001b[1;31mApplicationError\u001b[0m                          Traceback (most recent call last)",
        "\u001b[1;32m<ipython-input-19-14dce67923aa>\u001b[0m in \u001b[0;36m<module>\u001b[1;34m()\u001b[0m\n\u001b[1;32m----> 1\u001b[1;33m \u001b[0mpj\u001b[0m\u001b[1;33m.\u001b[0m\u001b[0mtree\u001b[0m\u001b[1;33m(\u001b[0m\u001b[1;33m[\u001b[0m\u001b[0mraxml\u001b[0m\u001b[1;33m]\u001b[0m\u001b[1;33m)\u001b[0m\u001b[1;33m\u001b[0m\u001b[0m\n\u001b[0m",
        "\u001b[1;32m/home/amir/Dropbox/python_modules/reprophylo.pyc\u001b[0m in \u001b[0;36mtree\u001b[1;34m(self, raxml_methods)\u001b[0m\n\u001b[0;32m   1731\u001b[0m             \u001b[1;32mfor\u001b[0m \u001b[0mtrimmed_alignment\u001b[0m \u001b[1;32min\u001b[0m \u001b[0mraxml_method\u001b[0m\u001b[1;33m.\u001b[0m\u001b[0mcommand_lines\u001b[0m\u001b[1;33m.\u001b[0m\u001b[0mkeys\u001b[0m\u001b[1;33m(\u001b[0m\u001b[1;33m)\u001b[0m\u001b[1;33m:\u001b[0m\u001b[1;33m\u001b[0m\u001b[0m\n\u001b[0;32m   1732\u001b[0m                 \u001b[1;32mfor\u001b[0m \u001b[0mcline\u001b[0m \u001b[1;32min\u001b[0m \u001b[0mraxml_method\u001b[0m\u001b[1;33m.\u001b[0m\u001b[0mcommand_lines\u001b[0m\u001b[1;33m[\u001b[0m\u001b[0mtrimmed_alignment\u001b[0m\u001b[1;33m]\u001b[0m\u001b[1;33m:\u001b[0m\u001b[1;33m\u001b[0m\u001b[0m\n\u001b[1;32m-> 1733\u001b[1;33m                     \u001b[0mstdout\u001b[0m\u001b[1;33m,\u001b[0m \u001b[0mstderr\u001b[0m \u001b[1;33m=\u001b[0m \u001b[0mcline\u001b[0m\u001b[1;33m(\u001b[0m\u001b[1;33m)\u001b[0m\u001b[1;33m\u001b[0m\u001b[0m\n\u001b[0m\u001b[0;32m   1734\u001b[0m                 \u001b[0mt\u001b[0m \u001b[1;33m=\u001b[0m \u001b[0mNone\u001b[0m\u001b[1;33m\u001b[0m\u001b[0m\n\u001b[0;32m   1735\u001b[0m                 \u001b[1;32mif\u001b[0m \u001b[0mraxml_method\u001b[0m\u001b[1;33m.\u001b[0m\u001b[0mpreset\u001b[0m \u001b[1;33m==\u001b[0m \u001b[1;34m'fa'\u001b[0m\u001b[1;33m:\u001b[0m\u001b[1;33m\u001b[0m\u001b[0m\n",
        "\u001b[1;32m/usr/local/lib/python2.7/dist-packages/Bio/Application/__init__.pyc\u001b[0m in \u001b[0;36m__call__\u001b[1;34m(self, stdin, stdout, stderr, cwd, env)\u001b[0m\n\u001b[0;32m    511\u001b[0m         \u001b[1;32mif\u001b[0m \u001b[0mreturn_code\u001b[0m\u001b[1;33m:\u001b[0m\u001b[1;33m\u001b[0m\u001b[0m\n\u001b[0;32m    512\u001b[0m             raise ApplicationError(return_code, str(self),\n\u001b[1;32m--> 513\u001b[1;33m                                    stdout_str, stderr_str)\n\u001b[0m\u001b[0;32m    514\u001b[0m         \u001b[1;32mreturn\u001b[0m \u001b[0mstdout_str\u001b[0m\u001b[1;33m,\u001b[0m \u001b[0mstderr_str\u001b[0m\u001b[1;33m\u001b[0m\u001b[0m\n\u001b[0;32m    515\u001b[0m \u001b[1;33m\u001b[0m\u001b[0m\n",
        "\u001b[1;31mApplicationError\u001b[0m: Non-zero return code 255 from 'raxmlHPC-PTHREADS-SSE3 -f D -m GTRGAMMA -n 564301413539087.85_nad4@MafftLinsi@gappyout0 -p 514 -s 564301413539087.85_nad4@MafftLinsi@gappyout.fasta -T 5 -N 1'"
       ]
      }
     ],
     "prompt_number": 19
    },
    {
     "cell_type": "code",
     "collapsed": false,
     "input": [
      "pickle_pj('Iguaninae_tutorial.pkl')"
     ],
     "language": "python",
     "metadata": {},
     "outputs": []
    }
   ],
   "metadata": {}
  }
 ]
}