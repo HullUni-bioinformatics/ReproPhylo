{
 "metadata": {
  "name": ""
 },
 "nbformat": 3,
 "nbformat_minor": 0,
 "worksheets": [
  {
   "cells": [
    {
     "cell_type": "markdown",
     "metadata": {},
     "source": [
      "# make_reprophylo_database\n",
      "## using a loci file\n",
      "## and optionaly a gb or embl file"
     ]
    },
    {
     "cell_type": "code",
     "collapsed": false,
     "input": [
      "%%file example_loci_file.txt\n",
      "# defines the loci to pick up from the genbank file\n",
      "# usage\n",
      "# mol_type,feature_type,name,alias-1,alias-2,...,alias-n\n",
      "# Spaces ONLY allowed in aliases\n",
      "\n",
      "dna,rRNA,18S,18s,18S,SSU rRNA,18S ribosomal RNA\n",
      "\n",
      "dna,rRNA,28S,28s,28S,LSU rRNA,28S ribosomal RNA,28S large subunit ribosomal RNA\n",
      "\n",
      "dna,CDS,coi,cox1,COX1,coi,COI,CoI"
     ],
     "language": "python",
     "metadata": {},
     "outputs": [
      {
       "output_type": "stream",
       "stream": "stdout",
       "text": [
        "Writing example_loci_file.txt\n"
       ]
      }
     ],
     "prompt_number": 1
    },
    {
     "cell_type": "code",
     "collapsed": false,
     "input": [
      "%%file make_reprophylo_database.py\n",
      "\n",
      "def parse_loci_file(loci_filename):\n",
      "    # get rid of comments and blank lines\n",
      "    loci = []\n",
      "    lines = []\n",
      "    for line in open(loci_filename,'r').readlines():\n",
      "        if not line[0] == '#' and not line[0] == '\\n':\n",
      "            lines.append(line.rstrip())\n",
      "    \n",
      "    available_commands = ['dna','prot']\n",
      "    \n",
      "    for line in lines:\n",
      "        # parse a locus\n",
      "        if line[0:3] == 'dna' or ine[0:4] == 'prot':\n",
      "            parts = line.split(',')\n",
      "            loci.append(Locus(parts[0],parts[1],parts[2], parts[3:]))\n",
      "    return loci    \n",
      "\n",
      "from reprophylo import *\n",
      "import pickle, sys\n",
      "\n",
      "loci_file_name = sys.argv[1]\n",
      "output_name = sys.argv[2]\n",
      "genbank_file_name = None\n",
      "if len(sys.argv) == 4:\n",
      "    genbank_file_name = sys.argv[3]\n",
      "    \n",
      "loci =  parse_loci_file(loci_file_name)       \n",
      "\n",
      "db = Database(loci)\n",
      "\n",
      "if genbank_file_name: \n",
      "    db.read_embl_genbank([genbank_file_name])\n",
      "\n",
      "output = open(output_name,'wb')\n",
      "pickle.dump(db, output)\n",
      "output.close()"
     ],
     "language": "python",
     "metadata": {},
     "outputs": [
      {
       "output_type": "stream",
       "stream": "stdout",
       "text": [
        "Overwriting make_reprophylo_database.py\n"
       ]
      }
     ],
     "prompt_number": 11
    },
    {
     "cell_type": "code",
     "collapsed": false,
     "input": [
      "# command line usage\n",
      "#! python ./make_reprophylo_database.py example_loci_file.txt test_rp_db.pkl\n",
      "# OR\n",
      "#! python ./make_reprophylo_database.py example_loci_file.txt test_rp_db.pkl data/Tetillidae.gb"
     ],
     "language": "python",
     "metadata": {},
     "outputs": [],
     "prompt_number": 43
    },
    {
     "cell_type": "code",
     "collapsed": false,
     "input": [
      "%%file make_reprophylo_database.xml\n",
      "\n",
      "<tool id=\"make_reprophylo_database\" name=\"generate reprophylo databse\" version=\"0.1\" hidden=\"false\">\n",
      "    <description>Start a skeleton ReproPhylo DB based on a loci file.\n",
      "    Optionaly include sequence data from an embl or genbank file\n",
      "    </description>\n",
      "    <command interpreter=\"python\">\n",
      "        #if $genbank.add_database_data_file==\"yes\"\n",
      "            make_reprophylo_database.py  $locifile $ReproPhylo_DB_file $input\n",
      "        #else\n",
      "            make_reprophylo_database.py  $locifile $ReproPhylo_DB_file\n",
      "        #end if\n",
      "    </command>\n",
      "    <inputs>\n",
      "        <param name=\"locifile\" type=\"data\" label=\"loci file\"/>\n",
      "        <conditional name=\"genbank\">\n",
      "            <param name=\"add_database_data_file\" type=\"select\" label=\"include embl or genbank file?\">\n",
      "                <option value=\"no\">no</option>\n",
      "                <option value=\"yes\">yes</option>\n",
      "            </param>\n",
      "            <when value=\"no\"/>\n",
      "            <when value=\"yes\">\n",
      "                <param name=\"input\" type=\"data\" label=\"genbank or embl file\"/>\n",
      "            </when>\n",
      "        </conditional>\n",
      "    </inputs>\n",
      "    <outputs>\n",
      "        <data name=\"ReproPhylo_DB_file\" label=\"${tool.name} on ${on_string}: ReproPhylo DB file (.pkl)\" />\n",
      "    </outputs>\n",
      "</tool>"
     ],
     "language": "python",
     "metadata": {},
     "outputs": [
      {
       "output_type": "stream",
       "stream": "stdout",
       "text": [
        "Overwriting make_reprophylo_database.xml\n"
       ]
      }
     ],
     "prompt_number": 78
    },
    {
     "cell_type": "markdown",
     "metadata": {},
     "source": [
      "# read_denovo_data\n",
      "## from a fasta file"
     ]
    },
    {
     "cell_type": "code",
     "collapsed": false,
     "input": [
      "%%file read_denovo_data.py\n",
      "\n",
      "from reprophylo import *\n",
      "import pickle, sys\n",
      "\n",
      "pickle_input = sys.argv[1]\n",
      "denovo_filename = [sys.argv[2]]\n",
      "char_type = sys.argv[3]\n",
      "picke_output = sys.argv[4]\n",
      "\n",
      "pickle_handle = open(pickle_input, 'rb')\n",
      "db = pickle.load(pickle_handle)\n",
      "\n",
      "db.read_denovo(denovo_filename, char_type)\n",
      "\n",
      "output = open(picke_output,'wb')\n",
      "pickle.dump(db, output)\n",
      "output.close()"
     ],
     "language": "python",
     "metadata": {},
     "outputs": [
      {
       "output_type": "stream",
       "stream": "stdout",
       "text": [
        "Writing read_denovo_data.py\n"
       ]
      }
     ],
     "prompt_number": 19
    },
    {
     "cell_type": "code",
     "collapsed": false,
     "input": [
      "# command line usage\n",
      "#! python ./read_denovo_data.py test_rp_db.pkl data/Tetillidae_denovo_sequence.fasta dna test_rp_db_1.pkl"
     ],
     "language": "python",
     "metadata": {},
     "outputs": [],
     "prompt_number": 44
    },
    {
     "cell_type": "code",
     "collapsed": false,
     "input": [
      "%%file read_denovo_data.xml\n",
      "\n",
      "<tool id=\"read_denovo_data\" name=\"read denovo data\" version=\"0.1\" hidden=\"false\">\n",
      "    <description>Read denovo data from an unaligned fasta file.\n",
      "    The file have to be either DNA or Protein but not mixed. Can run twice,\n",
      "    once with DNA and once with prot.\n",
      "    </description>\n",
      "    <command interpreter=\"python\">\n",
      "        read_denovo_data.py  $picklein $fasta $chartype $ReproPhylo_DB_file\n",
      "    </command>\n",
      "    <inputs>\n",
      "        <param name=\"picklein\" type=\"data\" label=\"ReproPhylo DB file (.pkl)\"/>\n",
      "        <param name=\"fasta\" type=\"data\" label=\"fasta file\"/>\n",
      "        <param name=\"chartype\" type=\"select\" label=\"sequence type\">\n",
      "            <option value=\"dna\">nucleotide</option>\n",
      "            <option value=\"prot\">protein</option>\n",
      "        </param>\n",
      "    </inputs>\n",
      "    <outputs>\n",
      "        <data name=\"ReproPhylo_DB_file\" label=\"${tool.name} on ${on_string}: ReproPhylo DB file (.pkl)\" />\n",
      "    </outputs>\n",
      "</tool>"
     ],
     "language": "python",
     "metadata": {},
     "outputs": [
      {
       "output_type": "stream",
       "stream": "stdout",
       "text": [
        "Overwriting read_denovo_data.xml\n"
       ]
      }
     ],
     "prompt_number": 79
    },
    {
     "cell_type": "markdown",
     "metadata": {},
     "source": [
      "#export_reprophylo_db"
     ]
    },
    {
     "cell_type": "code",
     "collapsed": false,
     "input": [
      "%%file export_reprophylo_db.py\n",
      "\n",
      "from reprophylo import *\n",
      "import pickle, sys\n",
      "\n",
      "\n",
      "\n",
      "pickle_input = sys.argv[1]\n",
      "export_format = sys.argv[2]\n",
      "expot_filname = sys.argv[3]\n",
      "\n",
      "pickle_handle = open(pickle_input, 'rb')\n",
      "\n",
      "db = pickle.load(pickle_handle)\n",
      "\n",
      "db.write(expot_filname, format = export_format)\n"
     ],
     "language": "python",
     "metadata": {},
     "outputs": [
      {
       "output_type": "stream",
       "stream": "stdout",
       "text": [
        "Overwriting export_reprophylo_db.py\n"
       ]
      }
     ],
     "prompt_number": 23
    },
    {
     "cell_type": "code",
     "collapsed": false,
     "input": [
      "#! python ./export_reprophylo_db.py test_rp_db_1.pkl genbank test_rp_db_1.gb"
     ],
     "language": "python",
     "metadata": {},
     "outputs": [],
     "prompt_number": 45
    },
    {
     "cell_type": "code",
     "collapsed": false,
     "input": [
      "%%file export_reprophylo_db.xml\n",
      "\n",
      "<tool id=\"export_reprophylo_db\" name=\"export_reprophylo_db\" version=\"0.1\" hidden=\"false\">\n",
      "    <description>dump your sequence records into a csv file or gb file to review the feature qualifiers</description>\n",
      "    <command interpreter=\"python\">\n",
      "        export_reprophylo_db.py $pickle_input $export_format $exported_ReproPhylo_DB\n",
      "    </command>\n",
      "    <inputs>\n",
      "        <param name=\"pickle_input\" type=\"data\" label=\"ReproPhylo DB file (.pkl)\" >\n",
      "        </param>\n",
      "        <param name=\"export_format\" type=\"select\" label=\"export_format\" >\n",
      "           <option value=\"csv\">csv</option>\n",
      "           <option value=\"genbank\">genbank</option>\n",
      "        </param>\n",
      "    </inputs>\n",
      "    <outputs>\n",
      "        <data name=\"exported_ReproPhylo_DB\" format=\"txt\" type=\"data\" label=\"${tool.name} on ${on_string}: gb or csv\" />\n",
      "    </outputs>\n",
      "</tool>"
     ],
     "language": "python",
     "metadata": {},
     "outputs": [
      {
       "output_type": "stream",
       "stream": "stdout",
       "text": [
        "Overwriting export_reprophylo_db.xml\n"
       ]
      }
     ],
     "prompt_number": 81
    },
    {
     "cell_type": "markdown",
     "metadata": {},
     "source": [
      "# Edit record features"
     ]
    },
    {
     "cell_type": "code",
     "collapsed": false,
     "input": [
      "%%file example_edit_features.txt\n",
      "\n",
      "# Edit record features\n",
      "# Edits will take place in order: Add a feature last, it will have non of the preceding edits\n",
      "\n",
      "\n",
      "# add_feature\n",
      "# adds a feature to an existing record\n",
      "# usage\n",
      "# add_feature,record_id,feature type,start1 end1 strand1 start2 end2 strand2 startn endn strandn,qualifier1,value1,qualifier2,value2,qualifiern,valuen\n",
      "# remark: starts and ends are real, not computer count (ie start with 1), strand takes 1 or -1\n",
      "add_feature,denovo0,CDS,1 786 1 1742 2092 1,gene,cox1,product,cytochrome c oxidase subunit I,codon_start,1,transl_table,4,organism,Craniella microsigma\n",
      "\n",
      "\n",
      "# add_qualifier_from_source\n",
      "# copies a qualifier from the source feature to all the other features so that it can be edited.\n",
      "# source feature qualifiers cannot be edited in place to protect integrity.\n",
      "# usage\n",
      "# add_qualifier_from_source,qualifier_keyword\n",
      "add_qualifier_from_source,organism\n",
      "\n",
      "# ifttt (if this than that)\n",
      "# fooks for value a in qualifier x and than puts b in qualifier y (a == b and x == y is allowed)\n",
      "# usage\n",
      "# ifttt,searched_value(a),searched_qualifier(x),introuced_value(b),edited_qualifier(y)\n",
      "ifttt,Cinachyrella,organism,Cinachyrella,genus,part\n",
      "ifttt,Cinachyra,organism,Cinachyra,genus,part\n",
      "ifttt,Amphitethya,organism,Amphitethya,genus,part\n",
      "ifttt,Paratetilla,organism,Paratetilla,genus,part\n",
      "ifttt,Acanthotetilla,organism,Acanthotetilla,genus,part\n",
      "ifttt,Tetilla,organism,Tetilla,genus,part\n",
      "ifttt,Craniella,organism,Craniella,genus,part\n",
      "ifttt,Fangophilina,organism,Fangophilina,genus,part\n",
      "\n",
      "ifttt,Geodia,organism,Astrophorida,genus,part\n",
      "ifttt,Pachymatisma,organism,Astrophorida,genus,part\n",
      "ifttt,Calthropella,organism,Astrophorida,genus,part\n",
      "ifttt,Thenea,organism,Astrophorida,genus,part\n",
      "ifttt,Theonella,organism,Astrophorida,genus,part\n",
      "\n",
      "ifttt,18S ribosomal RNA,product,SSU rRNA,gene\n",
      "ifttt,28S ribosomal RNA,product,LSU rRNA,gene\n",
      "ifttt,AM076987.1_f1,feature_id,LAGLIDADG,gene\n",
      "\n",
      "\n",
      "# add_qualifier_from_source\n",
      "# copies a qualifier from the source feature to all the other features so that it can be edited.\n",
      "# source feature qualifiers cannot be edited in place to protect integrity.\n",
      "# usage\n",
      "# add_qualifier_from_source,qualifier_keyword\n",
      "add_qualifier_from_source,specimen_voucher\n",
      "\n",
      "# add qulaifier\n",
      "# adds qualifier x with value a to indicated feature(s) z\n",
      "# usage\n",
      "# add_qualifier,feature(s)(z),qualifier(x),value(b)\n",
      "add_qualifier,JX177968.1_f0,specimen_voucher,QMG_321405\n",
      "add_qualifier,JX177913.1_f0,JX177935.1_f0,JX177965.1_f0,specimen_voucher,TAU_25617\n",
      "add_qualifier,JX177903.1_f0,JX177938.1_f0,specimen_voucher,TAU_25618\n",
      "add_qualifier,HM032740.1_f0,JX177964.1_f0,specimen_voucher,TAU_25621\n",
      "add_qualifier,HM032739.1_f0,JX177962.1_f0,specimen_voucher,TAU_25622\n",
      "add_qualifier,JX177968.1_f0,specimen_voucher,QMG_321405\n",
      "add_qualifier,JX177891.1_f0,specimen_voucher,RMNH_POR_3100\n",
      "add_qualifier,JX177900.1_f0,JX177926.1_f0,specimen_voucher,TAU_25620\n",
      "add_qualifier,JX177901.1_f0,JX177956.1_f0,JX177961.1_f0,specimen_voucher,TAU_25619\n",
      "add_qualifier,HM032742.1_f0,JX177957.1_f0,specimen_voucher,MNRJ_576\n",
      "\n",
      "\n",
      "# ifttt (if this than that)\n",
      "# fooks for value a in qualifier x and than puts b in qualifier y (a == b and x == y is allowed)\n",
      "# usage\n",
      "# ifttt,searched_value(a),searched_qualifier(x),introuced_value(b),edited_qualifier(y)\n",
      "ifttt,QMG321405,specimen_voucher,QMG_321405,specimen_voucher\n",
      "ifttt,MHNM16194,specimen_voucher,MHNM_16194,specimen_voucher\n",
      "ifttt,TAU25456,specimen_voucher,TAU_25456,specimen_voucher\n",
      "ifttt,QMG320636,specimen_voucher,QMG_320636,specimen_voucher\n",
      "ifttt,QMG320270,specimen_voucher,QMG_320270,specimen_voucher\n",
      "ifttt,ZMBN:85239,specimen_voucher,ZMBN_85239,specimen_voucher\n",
      "ifttt,QMG318785,specimen_voucher,QMG_318785,specimen_voucher\n",
      "ifttt,QMG316342,specimen_voucher,QMG_316342,specimen_voucher\n",
      "ifttt,QMG314224,specimen_voucher,QMG_314224,specimen_voucher\n",
      "ifttt,VM14754,specimen_voucher,VM_14754,specimen_voucher\n",
      "ifttt,ZMBN:85240,specimen_voucher,ZMBN_85240,specimen_voucher\n",
      "ifttt,ZMBN:81789,specimen_voucher,ZMBN_81789,specimen_voucher\n",
      "ifttt,ZMBN:81787,specimen_voucher,ZMBN_81787,specimen_voucher\n",
      "ifttt,ZMBN:81785,specimen_voucher,ZMBN_81785,specimen_voucher\n",
      "\n",
      "# copy_paste_within_feature\n",
      "# copies a value from one qualifier to another in the indicated features\n",
      "# usage\n",
      "# copy_paste_within_feature,qualifer_to_copy_from,qualifier_to_copy_to\n",
      "# remark: qualifier_to_copy_to does not have to exist prior to invocation of this function\n",
      "copy_paste_within_feature,specimen_voucher,OTU_dict\n",
      "\n",
      "# add qulaifier\n",
      "# adds qualifier x with value a to indicated feature(s) z\n",
      "# usage\n",
      "# add_qualifier feature(s)(z),qualifier(x),value(b)\n",
      "add_qualifier,AY737635.1_f0,AY320032.1_f0,OTU_dict,Geodia_neptuni\n",
      "add_qualifier,EF564339.1_f0,HM592832.1_f0,OTU_dict,Pachymatisma_johnstonia\n",
      "add_qualifier,HM592717.1_f0,HM592765.1_f0,OTU_dict,Thenea_levis\n",
      "add_qualifier,HM592745.1_f0,HM592820.1_f0,OTU_dict,Theonella_swinhoei\n",
      "add_qualifier,KC762708.1_f0,NC_010198.1_f0,OTU_dict,Cinachyrella_kuekenthali\n",
      "add_qualifier,HM592705.1_f0,HM592826.1_f0,OTU_dict,Calthropella_geodioides"
     ],
     "language": "python",
     "metadata": {},
     "outputs": [
      {
       "output_type": "stream",
       "stream": "stdout",
       "text": [
        "Overwriting example_edit_features.txt\n"
       ]
      }
     ],
     "prompt_number": 62
    },
    {
     "cell_type": "code",
     "collapsed": false,
     "input": [
      "%%file edit_features.py\n",
      "\n",
      "def parse_control_file(control_filename):\n",
      "    # get rid of comments and blank lines\n",
      "    edit_commands = []\n",
      "    lines = []\n",
      "    for line in open(control_filename,'r').readlines():\n",
      "        if not line[0] == '#' and not line[0] == '\\n':\n",
      "            lines.append(line.rstrip())\n",
      "    \n",
      "    available_commands = ['add_feature','ifttt','add_qualifier','add_qualifier_from_source',\n",
      "                         'copy_paste_within_feature','copy_paste_from_features_to_source']\n",
      "    \n",
      "    for line in lines:\n",
      "            parts = line.split(',')\n",
      "            command = parts[0]\n",
      "            if command in available_commands:\n",
      "                edit_commands.append(parts)\n",
      "            else:\n",
      "                raise RuntimeError(command+' is an unknown command')\n",
      "                \n",
      "    return edit_commands\n",
      "\n",
      "def execute_edit_commands(edit_commands_list, db):\n",
      "    for command in edit_commands_list:\n",
      "        if command[0] == 'ifttt':\n",
      "            if len(command) == 6:\n",
      "                db.if_this_then_that(command[1],command[2],command[3],command[4],command[5])\n",
      "            elif len(command) == 5:\n",
      "                db.if_this_then_that(command[1],command[2],command[3],command[4])\n",
      "            else:\n",
      "                raise RuntimeError('command ifttt takes at least 4 args. '+\n",
      "                                   str(len(command)-1)+' are provided')\n",
      "        elif command[0] == 'add_qualifier':\n",
      "            if len(command) >= 4:\n",
      "                db.add_qualifier(command[:-2],command[-2],command[-1])\n",
      "            else:\n",
      "                raise RuntimeError('command add_qualifier takes at least 3 args. '+\n",
      "                                   str(len(command)-1)+' are provided')\n",
      "        elif command[0] == 'add_qualifier_from_source':\n",
      "            if len(command) == 2:\n",
      "                db.add_qualifier_from_source(command[1])\n",
      "            else:\n",
      "                raise RuntimeError('command add_qualifier_from_source takes exactly 1 arg. '+\n",
      "                                   str(len(command)-1)+' are provided')\n",
      "        elif command[0] == 'copy_paste_within_feature':\n",
      "            if len(command) == 3:\n",
      "                db.copy_paste_within_feature(command[1],command[2])\n",
      "            else:\n",
      "                raise RuntimeError('command add_qualifier_from_source takes exactly 2 args. '+\n",
      "                                   str(len(command)-1)+' are provided')\n",
      "        elif command[0] == 'copy_paste_from_features_to_source':\n",
      "            if len(command) == 3:\n",
      "                db.copy_paste_from_features_to_source(command[1],command[2])\n",
      "            else:\n",
      "                raise RuntimeError('command copy_paste_from_features_to_source takes exactly 2 args. '+\n",
      "                                   str(len(command)-1)+' are provided')\n",
      "        elif command[0] == 'add_feature':\n",
      "            record_id = command[1]\n",
      "            feature_type = command[2]\n",
      "            if not isinstance(feature_type,str):\n",
      "                raise IOError('feature type must be a string')\n",
      "            location_values = command[3]\n",
      "            while location_values[0] == ' ':\n",
      "                location_values = location_values[1:]\n",
      "            while location_values[-1] == ' ':\n",
      "                location_values = location_values[:-1]\n",
      "            location_values_list = location_values.split(' ')\n",
      "            if len(location_values_list)%3 > 0:\n",
      "                raise IOError('feature location values must be triplets:start end strand')\n",
      "            location_values_list = [int(x) for x in location_values_list]\n",
      "            location = []\n",
      "            while location_values_list:\n",
      "                l = location_values_list[:3]\n",
      "                location_values_list = location_values_list[3:]\n",
      "                if l[1] < l[0]:\n",
      "                    raise IOError('Start position must be smaller then End position')\n",
      "                if ((not l[2] == 1) and (not l[2] == -1)):\n",
      "                    raise IOError('Strand must be 1 or -1')\n",
      "                location.append(l)\n",
      "            qualifiers_in_list = command[4:]\n",
      "            if len(qualifiers_in_list)%2 > 0:\n",
      "                raise IOError('The number of qualifiers and their values do not match')\n",
      "            qualifiers = {}\n",
      "            while qualifiers_in_list:\n",
      "                try:\n",
      "                    qualifiers[qualifiers_in_list[0]] = int(qualifiers_in_list[1])\n",
      "                except:\n",
      "                    qualifiers[qualifiers_in_list[0]] = qualifiers_in_list[1]\n",
      "                qualifiers_in_list = qualifiers_in_list[2:]\n",
      "            db.add_feature_to_record(record_id, feature_type, location=location, qualifiers=qualifiers)\n",
      "        else:\n",
      "            raise RuntimeError('command '+command[0]+' is not recognised')\n",
      "# add_feature,record_id,feature type,start1 end1 strand1 start2 end2 strand2 startn endn strandn,qualifier1,value1,qualifier2,value2,qualifiern,valuen\n",
      "    \n",
      "\n",
      "\n",
      "from reprophylo import *\n",
      "import pickle, sys\n",
      "\n",
      "\n",
      "pickle_input = sys.argv[1]\n",
      "control_file_name = sys.argv[2]\n",
      "pickle_output = sys.argv[3]\n",
      "\n",
      "pickle_handle = open(pickle_input, 'rb')\n",
      "\n",
      "db = pickle.load(pickle_handle)\n",
      "\n",
      "edit_commands =  parse_control_file(control_file_name)       \n",
      "\n",
      "execute_edit_commands(edit_commands, db)\n",
      "\n",
      "output = open(pickle_output,'wb')\n",
      "pickle.dump(db, output)\n",
      "output.close()"
     ],
     "language": "python",
     "metadata": {},
     "outputs": [
      {
       "output_type": "stream",
       "stream": "stdout",
       "text": [
        "Overwriting edit_features.py\n"
       ]
      }
     ],
     "prompt_number": 63
    },
    {
     "cell_type": "code",
     "collapsed": false,
     "input": [
      "#! python ./edit_features.py test_rp_db_1.pkl example_edit_features.txt test_rp_db_2.pkl\n",
      "#! python ./export_reprophylo_db.py test_rp_db_2.pkl genbank test_rp_db_2.gb"
     ],
     "language": "python",
     "metadata": {},
     "outputs": [],
     "prompt_number": 58
    },
    {
     "cell_type": "code",
     "collapsed": false,
     "input": [
      "%%file edit_record_features.xml\n",
      "\n",
      "<tool id=\"edit_record_features\" name=\"edit_record_features\" version=\"0.1\" hidden=\"false\">\n",
      "    <description>some description</description>\n",
      "    <command interpreter=\"python\">\n",
      "        edit_features.py $pickle_input $controlfile $ReproPhylo_DB_file\n",
      "    </command>\n",
      "    <inputs>\n",
      "        <param name=\"pickle_input\" type=\"data\" label=\"ReproPhylo DB file (.pkl)\" >\n",
      "        </param>\n",
      "         <param name=\"controlfile\" type=\"data\" label=\"edit commands file\" >\n",
      "        </param>\n",
      "    </inputs>\n",
      "    <outputs>\n",
      "        <data name=\"ReproPhylo_DB_file\" label=\"${tool.name} on ${on_string}: ReproPhylo DB file (.pkl)\" />\n",
      "    </outputs>\n",
      "</tool>"
     ],
     "language": "python",
     "metadata": {},
     "outputs": [
      {
       "output_type": "stream",
       "stream": "stdout",
       "text": [
        "Overwriting edit_record_features.xml\n"
       ]
      }
     ],
     "prompt_number": 82
    },
    {
     "cell_type": "markdown",
     "metadata": {},
     "source": [
      "# Sequence Alignment"
     ]
    },
    {
     "cell_type": "code",
     "collapsed": false,
     "input": [
      "%%file example_seq_aln_file.txt\n",
      "# Set\n",
      "# group of loci\n",
      "# usage:\n",
      "#set,name,locus1,locus2,...,locusn\n",
      "set,rRNA_loci,18S,28S\n",
      "\n",
      "# Program\n",
      "# Set path to program\n",
      "# usage:\n",
      "# program,program_name,path/to/program/program_name\n",
      "program,mafft,mafft\n",
      "program,muscle,muscle\n",
      "program,pal2nal,/home/amir/Dropbox/ReproPhylo/pal2nal.pl\n",
      "\n",
      "# Method\n",
      "# Assign alignment method to a locus or a set of loci or all the loci\n",
      "# Usage:\n",
      "# method,method_name,locus/set/all,program,CodonYes/CodonNo,cline_arg1,value1,cline_arg2,value2,...,cline_arg3,value3\n",
      "\n",
      "method,Linsi,coi,mafft,CodonYes,localpair,True,maxiterate,1000\n",
      "method,MuscleDefaults,rRNA_loci,muscle,CodonYes\n",
      "\n"
     ],
     "language": "python",
     "metadata": {},
     "outputs": [
      {
       "output_type": "stream",
       "stream": "stdout",
       "text": [
        "Overwriting example_seq_aln_file.txt\n"
       ]
      }
     ],
     "prompt_number": 1
    },
    {
     "cell_type": "code",
     "collapsed": false,
     "input": [
      "%%file sequence_alignment.py\n",
      "\n",
      "def parse_control_file(control_filename):\n",
      "    programs = {}\n",
      "    sets = {}\n",
      "    methods = {}\n",
      "    lines = []\n",
      "    # get rid of comments and blank lines\n",
      "    for line in open(control_filename,'r').readlines():\n",
      "        if not line[0] == '#' and not line[0] == '\\n':\n",
      "            lines.append(line.rstrip())\n",
      "    \n",
      "    available_commands = ['program','set','method']\n",
      "    \n",
      "    for line in lines:\n",
      "            parts = line.split(',')\n",
      "            command = parts[0]\n",
      "            if command == 'program':\n",
      "                programs[parts[1]] = parts[2]\n",
      "            elif command == 'set':\n",
      "                sets[parts[1]] = parts[2:]\n",
      "            elif command == 'method':\n",
      "                cline_args = None\n",
      "                if len(parts) > 5:\n",
      "                    cline_args = parts[5:]\n",
      "                methods[parts[1]] = {'loci': parts[2],\n",
      "                                     'program_name': parts[3],\n",
      "                                     'codon_align': parts[4],\n",
      "                                     'cline_args': cline_args}\n",
      "            else:\n",
      "                raise RuntimeError(command+' is an unknown command')\n",
      "                \n",
      "    return programs, sets, methods\n",
      "\n",
      "from reprophylo import *\n",
      "import pickle, sys\n",
      "\n",
      "pickle_input = sys.argv[1]\n",
      "control_file_name = sys.argv[2]\n",
      "pickle_output = sys.argv[3]\n",
      "\n",
      "pickle_handle = open(pickle_input, 'rb')\n",
      "\n",
      "db = pickle.load(pickle_handle)\n",
      "\n",
      "db.extract_by_locus()\n",
      "\n",
      "print 'loci in db: ' + str(db.records_by_locus.keys())\n",
      "\n",
      "loci_names = []\n",
      "\n",
      "for locus in db.loci:\n",
      "    loci_names.append(locus.name)\n",
      "\n",
      "programs, sets, methods = parse_control_file(control_file_name)\n",
      "\n",
      "alignment_method_objects = []\n",
      "\n",
      "for method in methods.keys():\n",
      "    CDSAlign = False\n",
      "    indicated_method_loci = methods[method]['loci']\n",
      "    loci_to_use = []\n",
      "    if indicated_method_loci == 'all':\n",
      "        loci_to_use = loci_names\n",
      "    elif indicated_method_loci in sets.keys():\n",
      "        loci_to_use = sets[indicated_method_loci]\n",
      "    elif indicated_method_loci in loci_names:\n",
      "        loci_to_use = [indicated_method_loci]\n",
      "    elif isinstance(indicated_method_loci,list):\n",
      "        raise IOError('loci for alignment method must be indicated by one locus name or one set name.'+\n",
      "                      ' List not accepted')\n",
      "    else:\n",
      "        raise IOError(indicated_method_loci + ' is not a recognized locus or set')\n",
      "    if methods[method]['codon_align'] == 'CodonYes':\n",
      "        CDSAlign = True\n",
      "    elif  methods[method]['codon_align'] == 'CodonNo':\n",
      "        CDSAlign = False\n",
      "    else:\n",
      "        raise IOError(methods[method]['codon_align']+' is not a recognised argument')\n",
      "    cline_args = dict()\n",
      "    cline_args_dict = {}\n",
      "    if methods[method]['cline_args']:\n",
      "        if len(methods[method]['cline_args'])%2 > 0:\n",
      "            raise IOError('The number of cline args do no match the number of values in method '+method)\n",
      "        while methods[method]['cline_args']:\n",
      "            try:\n",
      "                cline_args_dict[methods[method]['cline_args'][0]] = int(methods[method]['cline_args'][1])\n",
      "            except:\n",
      "                try:\n",
      "                    cline_args_dict[methods[method]['cline_args'][0]] = float(methods[method]['cline_args'][1])\n",
      "                except:\n",
      "                    cline_args_dict[methods[method]['cline_args'][0]] = methods[method]['cline_args'][1]\n",
      "            methods[method]['cline_args'] = methods[method]['cline_args'][2:]\n",
      "    print 'building method ' + method\n",
      "    print 'method loci ' + str(loci_to_use)\n",
      "    print 'codon alignment ' + str(CDSAlign)\n",
      "    print 'program name ' + methods[method]['program_name']\n",
      "    print 'cmd ' + programs[methods[method]['program_name']]\n",
      "    print 'args '+ str(cline_args_dict)\n",
      "    print\n",
      "    alignment_method_object = AlignmentMethod(db, \n",
      "                                              method_name=method,\n",
      "                                              CDSAlign=CDSAlign,\n",
      "                                              program_name=methods[method]['program_name'],\n",
      "                                              cmd=programs[methods[method]['program_name']],\n",
      "                                              loci = loci_to_use,\n",
      "                                              cline_args=cline_args_dict)\n",
      "\n",
      "    alignment_method_objects.append(alignment_method_object)\n",
      "\n",
      "db.align(alignment_methods=alignment_method_objects, pal2nal=programs['pal2nal'])\n",
      "\n",
      "output = open(pickle_output,'wb')\n",
      "pickle.dump(db, output)\n",
      "output.close()"
     ],
     "language": "python",
     "metadata": {},
     "outputs": [
      {
       "output_type": "stream",
       "stream": "stdout",
       "text": [
        "Overwriting sequence_alignment.py\n"
       ]
      }
     ],
     "prompt_number": 2
    },
    {
     "cell_type": "code",
     "collapsed": false,
     "input": [
      "! python ./sequence_alignment.py test_rp_db_2.pkl example_seq_aln_file.txt test_rp_db_3.pkl "
     ],
     "language": "python",
     "metadata": {},
     "outputs": [
      {
       "output_type": "stream",
       "stream": "stdout",
       "text": [
        "loci in db: ['coi', '18S', '28S']\r\n",
        "building method Linsi\r\n",
        "method loci ['coi']\r\n",
        "codon alignment True\r\n",
        "program name mafft\r\n",
        "cmd mafft\r\n",
        "args {'localpair': 'True', 'maxiterate': 1000}\r\n",
        "\r\n"
       ]
      },
      {
       "output_type": "stream",
       "stream": "stdout",
       "text": [
        "mafft --localpair --maxiterate 1000 585281403812395.17_CDS_proteins_coi.fasta\r\n",
        "building method MuscleDefaults\r\n",
        "method loci ['18S', '28S']\r\n",
        "codon alignment True\r\n",
        "program name muscle\r\n",
        "cmd muscle\r\n",
        "args {}\r\n",
        "\r\n",
        "muscle -in 969171403812395.18_18S.fasta\r\n",
        "muscle -in 969171403812395.18_28S.fasta\r\n"
       ]
      }
     ],
     "prompt_number": 8
    },
    {
     "cell_type": "code",
     "collapsed": false,
     "input": [
      "%%file sequence_alignment.xml\n",
      "\n",
      "<tool id=\"sequence_alignment\" name=\"sequence alignment\" version=\"0.1\" hidden=\"false\">\n",
      "    <description>Define alignment method for each locus using a control\n",
      "    file and execute</description>\n",
      "    <command interpreter=\"python\">\n",
      "        sequence_alignment.py $pickle_input $controlfile $ReproPhylo_DB_file\n",
      "    </command>\n",
      "    <inputs>\n",
      "        <param name=\"pickle_input\" type=\"data\" label=\"ReproPhylo DB file (.pkl)\" >\n",
      "        </param>\n",
      "         <param name=\"controlfile\" type=\"data\" label=\"alignment methods file\" >\n",
      "        </param>\n",
      "    </inputs>\n",
      "    <outputs>\n",
      "        <data name=\"ReproPhylo_DB_file\" label=\"${tool.name} on ${on_string}: ReproPhylo DB file (.pkl)\" />\n",
      "    </outputs>\n",
      "</tool>"
     ],
     "language": "python",
     "metadata": {},
     "outputs": [
      {
       "output_type": "stream",
       "stream": "stdout",
       "text": [
        "Writing sequence_alignment.xml\n"
       ]
      }
     ],
     "prompt_number": 1
    },
    {
     "cell_type": "code",
     "collapsed": false,
     "input": [
      "from reprophylo import *\n",
      "import pickle, sys\n",
      "\n",
      "pickle_handle = open('./Galaxy113.data', 'rb')\n",
      "\n",
      "db = pickle.load(pickle_handle)"
     ],
     "language": "python",
     "metadata": {},
     "outputs": [],
     "prompt_number": 4
    },
    {
     "cell_type": "code",
     "collapsed": false,
     "input": [
      "db.write_alns(format='fasta')"
     ],
     "language": "python",
     "metadata": {},
     "outputs": [],
     "prompt_number": 5
    },
    {
     "cell_type": "code",
     "collapsed": false,
     "input": [],
     "language": "python",
     "metadata": {},
     "outputs": []
    }
   ],
   "metadata": {}
  }
 ]
}